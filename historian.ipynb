{
 "cells": [
  {
   "cell_type": "code",
   "execution_count": null,
   "metadata": {},
   "outputs": [],
   "source": [
    "# analyze history\n",
    "# get URLs with 300 words + \n",
    "# get tweets\n",
    "# get model"
   ]
  },
  {
   "cell_type": "code",
   "execution_count": null,
   "metadata": {},
   "outputs": [],
   "source": [
    "from proseflow.load import load"
   ]
  },
  {
   "cell_type": "code",
   "execution_count": null,
   "metadata": {},
   "outputs": [
    {
     "name": "stdout",
     "output_type": "stream",
     "text": [
      "No Match found in type inference, returning None\n",
      "None shape {}\n"
     ]
    },
    {
     "data": {
      "text/plain": [
       "'None found'"
      ]
     },
     "execution_count": null,
     "metadata": {},
     "output_type": "execute_result"
    }
   ],
   "source": [
    "load(\"data/browserhistory_012021.csv\")"
   ]
  },
  {
   "cell_type": "code",
   "execution_count": null,
   "metadata": {},
   "outputs": [],
   "source": [
    "import pandas as pd\n",
    "history = pd.read_csv(\"data/browserhistory_012021.csv\")"
   ]
  },
  {
   "cell_type": "code",
   "execution_count": null,
   "metadata": {},
   "outputs": [
    {
     "data": {
      "text/plain": [
       "56711"
      ]
     },
     "execution_count": null,
     "metadata": {},
     "output_type": "execute_result"
    }
   ],
   "source": [
    "h = history\n",
    "len(h)"
   ]
  },
  {
   "cell_type": "code",
   "execution_count": null,
   "metadata": {},
   "outputs": [],
   "source": []
  },
  {
   "cell_type": "code",
   "execution_count": null,
   "metadata": {},
   "outputs": [
    {
     "data": {
      "text/html": [
       "<div>\n",
       "<style scoped>\n",
       "    .dataframe tbody tr th:only-of-type {\n",
       "        vertical-align: middle;\n",
       "    }\n",
       "\n",
       "    .dataframe tbody tr th {\n",
       "        vertical-align: top;\n",
       "    }\n",
       "\n",
       "    .dataframe thead th {\n",
       "        text-align: right;\n",
       "    }\n",
       "</style>\n",
       "<table border=\"1\" class=\"dataframe\">\n",
       "  <thead>\n",
       "    <tr style=\"text-align: right;\">\n",
       "      <th></th>\n",
       "      <th>order</th>\n",
       "      <th>id</th>\n",
       "      <th>date</th>\n",
       "      <th>time</th>\n",
       "      <th>title</th>\n",
       "      <th>url</th>\n",
       "      <th>visitCount</th>\n",
       "      <th>typedCount</th>\n",
       "      <th>transition</th>\n",
       "    </tr>\n",
       "  </thead>\n",
       "  <tbody>\n",
       "    <tr>\n",
       "      <th>0</th>\n",
       "      <td>0</td>\n",
       "      <td>69921</td>\n",
       "      <td>1/3/2021</td>\n",
       "      <td>18:24:31</td>\n",
       "      <td>Export Chrome History - Chrome Web Store</td>\n",
       "      <td>https://chrome.google.com/webstore/detail/expo...</td>\n",
       "      <td>1</td>\n",
       "      <td>0</td>\n",
       "      <td>link</td>\n",
       "    </tr>\n",
       "    <tr>\n",
       "      <th>1</th>\n",
       "      <td>1</td>\n",
       "      <td>69920</td>\n",
       "      <td>1/3/2021</td>\n",
       "      <td>18:24:16</td>\n",
       "      <td>Export Chrome History - Chrome Web Store</td>\n",
       "      <td>https://chrome.google.com/webstore/detail/expo...</td>\n",
       "      <td>1</td>\n",
       "      <td>1</td>\n",
       "      <td>typed</td>\n",
       "    </tr>\n",
       "    <tr>\n",
       "      <th>2</th>\n",
       "      <td>2</td>\n",
       "      <td>66876</td>\n",
       "      <td>1/3/2021</td>\n",
       "      <td>18:04:33</td>\n",
       "      <td>Simulacrum | Jitsi Meet</td>\n",
       "      <td>https://meet.jit.si/simulacrum</td>\n",
       "      <td>3</td>\n",
       "      <td>2</td>\n",
       "      <td>typed</td>\n",
       "    </tr>\n",
       "    <tr>\n",
       "      <th>3</th>\n",
       "      <td>3</td>\n",
       "      <td>59477</td>\n",
       "      <td>1/3/2021</td>\n",
       "      <td>18:02:36</td>\n",
       "      <td>Meet - The Little Typer (5)</td>\n",
       "      <td>https://meet.google.com/nhi-xdzs-gbx?authuser=0</td>\n",
       "      <td>10</td>\n",
       "      <td>0</td>\n",
       "      <td>link</td>\n",
       "    </tr>\n",
       "    <tr>\n",
       "      <th>4</th>\n",
       "      <td>4</td>\n",
       "      <td>69919</td>\n",
       "      <td>1/3/2021</td>\n",
       "      <td>18:02:35</td>\n",
       "      <td>Meet - nhi-xdzs-gbx</td>\n",
       "      <td>https://meet.google.com/nhi-xdzs-gbx?authuser=...</td>\n",
       "      <td>2</td>\n",
       "      <td>0</td>\n",
       "      <td>link</td>\n",
       "    </tr>\n",
       "    <tr>\n",
       "      <th>...</th>\n",
       "      <td>...</td>\n",
       "      <td>...</td>\n",
       "      <td>...</td>\n",
       "      <td>...</td>\n",
       "      <td>...</td>\n",
       "      <td>...</td>\n",
       "      <td>...</td>\n",
       "      <td>...</td>\n",
       "      <td>...</td>\n",
       "    </tr>\n",
       "    <tr>\n",
       "      <th>56706</th>\n",
       "      <td>56706</td>\n",
       "      <td>30533</td>\n",
       "      <td>10/5/2020</td>\n",
       "      <td>19:31:50</td>\n",
       "      <td>Google Calendar - Sunday, January 3, 2021, today</td>\n",
       "      <td>https://calendar.google.com/calendar/u/0/r?tab=mc</td>\n",
       "      <td>247</td>\n",
       "      <td>1</td>\n",
       "      <td>link</td>\n",
       "    </tr>\n",
       "    <tr>\n",
       "      <th>56707</th>\n",
       "      <td>56707</td>\n",
       "      <td>30533</td>\n",
       "      <td>10/5/2020</td>\n",
       "      <td>19:31:49</td>\n",
       "      <td>Google Calendar - Sunday, January 3, 2021, today</td>\n",
       "      <td>https://calendar.google.com/calendar/u/0/r?tab=mc</td>\n",
       "      <td>247</td>\n",
       "      <td>1</td>\n",
       "      <td>typed</td>\n",
       "    </tr>\n",
       "    <tr>\n",
       "      <th>56708</th>\n",
       "      <td>56708</td>\n",
       "      <td>28193</td>\n",
       "      <td>10/5/2020</td>\n",
       "      <td>19:31:41</td>\n",
       "      <td>Slack | Sneha (LD15) | EF Europe15</td>\n",
       "      <td>https://app.slack.com/client/T018XV4B7AB/D019Y...</td>\n",
       "      <td>11</td>\n",
       "      <td>0</td>\n",
       "      <td>link</td>\n",
       "    </tr>\n",
       "    <tr>\n",
       "      <th>56709</th>\n",
       "      <td>56709</td>\n",
       "      <td>38351</td>\n",
       "      <td>10/5/2020</td>\n",
       "      <td>19:31:41</td>\n",
       "      <td>Slack | Spencer, EF Team | EF Europe15</td>\n",
       "      <td>https://app.slack.com/client/T018XV4B7AB/D01BU...</td>\n",
       "      <td>6</td>\n",
       "      <td>0</td>\n",
       "      <td>link</td>\n",
       "    </tr>\n",
       "    <tr>\n",
       "      <th>56710</th>\n",
       "      <td>56710</td>\n",
       "      <td>27363</td>\n",
       "      <td>10/5/2020</td>\n",
       "      <td>19:31:29</td>\n",
       "      <td>Slack | Max Grogan, LD15 | EF Europe15</td>\n",
       "      <td>https://app.slack.com/client/T018XV4B7AB/D019L...</td>\n",
       "      <td>3</td>\n",
       "      <td>0</td>\n",
       "      <td>link</td>\n",
       "    </tr>\n",
       "  </tbody>\n",
       "</table>\n",
       "<p>56711 rows × 9 columns</p>\n",
       "</div>"
      ],
      "text/plain": [
       "       order     id       date      time  \\\n",
       "0          0  69921   1/3/2021  18:24:31   \n",
       "1          1  69920   1/3/2021  18:24:16   \n",
       "2          2  66876   1/3/2021  18:04:33   \n",
       "3          3  59477   1/3/2021  18:02:36   \n",
       "4          4  69919   1/3/2021  18:02:35   \n",
       "...      ...    ...        ...       ...   \n",
       "56706  56706  30533  10/5/2020  19:31:50   \n",
       "56707  56707  30533  10/5/2020  19:31:49   \n",
       "56708  56708  28193  10/5/2020  19:31:41   \n",
       "56709  56709  38351  10/5/2020  19:31:41   \n",
       "56710  56710  27363  10/5/2020  19:31:29   \n",
       "\n",
       "                                                  title  \\\n",
       "0              Export Chrome History - Chrome Web Store   \n",
       "1              Export Chrome History - Chrome Web Store   \n",
       "2                               Simulacrum | Jitsi Meet   \n",
       "3                           Meet - The Little Typer (5)   \n",
       "4                                   Meet - nhi-xdzs-gbx   \n",
       "...                                                 ...   \n",
       "56706  Google Calendar - Sunday, January 3, 2021, today   \n",
       "56707  Google Calendar - Sunday, January 3, 2021, today   \n",
       "56708                Slack | Sneha (LD15) | EF Europe15   \n",
       "56709            Slack | Spencer, EF Team | EF Europe15   \n",
       "56710            Slack | Max Grogan, LD15 | EF Europe15   \n",
       "\n",
       "                                                     url  visitCount  \\\n",
       "0      https://chrome.google.com/webstore/detail/expo...           1   \n",
       "1      https://chrome.google.com/webstore/detail/expo...           1   \n",
       "2                         https://meet.jit.si/simulacrum           3   \n",
       "3        https://meet.google.com/nhi-xdzs-gbx?authuser=0          10   \n",
       "4      https://meet.google.com/nhi-xdzs-gbx?authuser=...           2   \n",
       "...                                                  ...         ...   \n",
       "56706  https://calendar.google.com/calendar/u/0/r?tab=mc         247   \n",
       "56707  https://calendar.google.com/calendar/u/0/r?tab=mc         247   \n",
       "56708  https://app.slack.com/client/T018XV4B7AB/D019Y...          11   \n",
       "56709  https://app.slack.com/client/T018XV4B7AB/D01BU...           6   \n",
       "56710  https://app.slack.com/client/T018XV4B7AB/D019L...           3   \n",
       "\n",
       "       typedCount transition  \n",
       "0               0       link  \n",
       "1               1      typed  \n",
       "2               2      typed  \n",
       "3               0       link  \n",
       "4               0       link  \n",
       "...           ...        ...  \n",
       "56706           1       link  \n",
       "56707           1      typed  \n",
       "56708           0       link  \n",
       "56709           0       link  \n",
       "56710           0       link  \n",
       "\n",
       "[56711 rows x 9 columns]"
      ]
     },
     "execution_count": null,
     "metadata": {},
     "output_type": "execute_result"
    }
   ],
   "source": [
    "h"
   ]
  },
  {
   "cell_type": "code",
   "execution_count": null,
   "metadata": {},
   "outputs": [
    {
     "data": {
      "text/plain": [
       "True"
      ]
     },
     "execution_count": null,
     "metadata": {},
     "output_type": "execute_result"
    }
   ],
   "source": [
    "any([True, False, False])"
   ]
  },
  {
   "cell_type": "code",
   "execution_count": null,
   "metadata": {},
   "outputs": [],
   "source": [
    "stop_urls = [\"chrome.google\", \"linkedin.\", \"libgen.\", \"google.com\", \"file:///\", \"google.com\", \"duckduckgo.com\", \"twitter.com\", \"jitsi.\", \"slack.com\", \"youtube.com\", \"reddit.com\", \"meet.\", \"/accounts\", \"/billing\"  ]\n",
    "# cleaned = [row for index, row in h.iterrows() if not any([url in row[\"url\"] for url in stop_urls])]\n",
    "# len(cleaned)"
   ]
  },
  {
   "cell_type": "code",
   "execution_count": null,
   "metadata": {},
   "outputs": [],
   "source": [
    "import numpy as np\n",
    "mask = [np.sum([u in v for u in stop_urls]) == 0 for v in h.url]"
   ]
  },
  {
   "cell_type": "code",
   "execution_count": null,
   "metadata": {},
   "outputs": [
    {
     "data": {
      "text/plain": [
       "27929"
      ]
     },
     "execution_count": null,
     "metadata": {},
     "output_type": "execute_result"
    }
   ],
   "source": [
    "len(h[mask])"
   ]
  },
  {
   "cell_type": "code",
   "execution_count": null,
   "metadata": {},
   "outputs": [
    {
     "ename": "ModuleNotFoundError",
     "evalue": "No module named 'bs4'",
     "output_type": "error",
     "traceback": [
      "\u001b[0;31m---------------------------------------------------------------------------\u001b[0m",
      "\u001b[0;31mModuleNotFoundError\u001b[0m                       Traceback (most recent call last)",
      "\u001b[0;32m<ipython-input-124-50b2309bcaa6>\u001b[0m in \u001b[0;36m<module>\u001b[0;34m\u001b[0m\n\u001b[0;32m----> 1\u001b[0;31m \u001b[0;32mimport\u001b[0m \u001b[0mbs4\u001b[0m\u001b[0;34m\u001b[0m\u001b[0;34m\u001b[0m\u001b[0m\n\u001b[0m",
      "\u001b[0;31mModuleNotFoundError\u001b[0m: No module named 'bs4'"
     ]
    }
   ],
   "source": [
    "import bs4"
   ]
  },
  {
   "cell_type": "code",
   "execution_count": null,
   "metadata": {},
   "outputs": [],
   "source": [
    "cleaned = h[mask]"
   ]
  },
  {
   "cell_type": "code",
   "execution_count": null,
   "metadata": {},
   "outputs": [
    {
     "data": {
      "text/plain": [
       "3995    https://roamresearch.com/#/app/markus/page/gr5...\n",
       "3996         https://scifact.apps.allenai.org/leaderboard\n",
       "3997    https://scifact.apps.allenai.org/search?Hypert...\n",
       "3998    https://scifact.apps.allenai.org/search?Covid%...\n",
       "3999    https://scifact.apps.allenai.org/search?Covid%...\n",
       "                              ...                        \n",
       "4164                        https://angel.co/p/felix-jahn\n",
       "4168             https://www.vcguide.co/?3d70cb88_page=21\n",
       "4169             https://www.vcguide.co/?3d70cb88_page=20\n",
       "4170              https://www.nfx.com/team/shayma-sharif/\n",
       "4171                            https://www.nfx.com/team/\n",
       "Name: url, Length: 100, dtype: object"
      ]
     },
     "execution_count": null,
     "metadata": {},
     "output_type": "execute_result"
    }
   ],
   "source": [
    "cleaned.url[1400:1500]"
   ]
  },
  {
   "cell_type": "code",
   "execution_count": null,
   "metadata": {},
   "outputs": [],
   "source": [
    "from bs4 import BeautifulSoup"
   ]
  },
  {
   "cell_type": "code",
   "execution_count": null,
   "metadata": {},
   "outputs": [
    {
     "name": "stderr",
     "output_type": "stream",
     "text": [
      "/Users/markus/Library/Caches/pypoetry/virtualenvs/proseflow-GKtXBSGs-py3.8/lib/python3.8/site-packages/bs4/__init__.py:417: MarkupResemblesLocatorWarning: \"https://dacapo.io/is-it-time-to-start-making-open-source-software-usable/\" looks like a URL. Beautiful Soup is not an HTTP client. You should probably use an HTTP client like requests to get the document behind the URL, and feed that document to Beautiful Soup.\n",
      "  warnings.warn(\n"
     ]
    }
   ],
   "source": [
    "soup = BeautifulSoup(\"https://dacapo.io/is-it-time-to-start-making-open-source-software-usable/\", \"html.parser\")"
   ]
  },
  {
   "cell_type": "code",
   "execution_count": null,
   "metadata": {},
   "outputs": [],
   "source": [
    "import requests\n",
    "from toolz import thread_first, thread_last\n",
    "from typing import List\n",
    "\n",
    "STRING_FUNCS = [\"capitalize\", \"count\", \"isalnum\", \"isalpha\", \"isascii\", \"isdecimal\", \"isdigit\", \"isidentifier\", \"islower\", \"isnumeric\", \"isspace\", \"istitle\", \"isupper\", \"lower\", \"lstrip\", \"replace\", \"rstrip\", \"split\", \"strip\", \"upper\"]\n",
    "\n",
    "for s_func in STRING_FUNCS: #PYTHON MAGIC\n",
    "    exec(\"%s=getattr(str, s_func)\" %s_func)\n",
    "    \n",
    "def pipe(*funcs:List[callable], thread=\"first\"):\n",
    "  thread = thread_first if thread == \"first\" else thread_last\n",
    "  return lambda data: thread(data, *funcs)\n",
    "\n",
    "clean_sentence = pipe(strip,\n",
    "                     (replace, \"\\n\", \" \")\n",
    "                     )"
   ]
  },
  {
   "cell_type": "code",
   "execution_count": null,
   "metadata": {},
   "outputs": [],
   "source": [
    "def bs_to_paragraphs(soup, tag, tag_filter, strip=True):\n",
    "  \"\"\" Extracts all the text from the given tags and returns them as a list. \"\"\"\n",
    "  return [paragraph.get_text(strip=strip) for paragraph in soup.findAll(tag, tag_filter)]\n",
    "\n",
    "url_to_text = pipe(url_to_html,\n",
    "                      html_to_bs,\n",
    "                      (bs_replace, \"br\", \"\\n\"),\n",
    "                      bs_to_text\n",
    "                     )\n",
    "\n",
    "url_to_bs = pipe(url_to_html, \n",
    "                 html_to_bs)"
   ]
  },
  {
   "cell_type": "code",
   "execution_count": null,
   "metadata": {},
   "outputs": [],
   "source": [
    "def url_to_html(url: str):\n",
    "  \"\"\" Takes a url and returns a request.Response object \"\"\"\n",
    "  return requests.get(url, headers = {'User-Agent': 'test'})\n",
    "\n",
    "def url_to_base_url(url):\n",
    "  \"\"\" Gets the base url from url (useful for pagination). \"\"\"\n",
    "  return \"/\".join(url.split(\"/\")[:3])\n",
    "\n",
    "def html_to_bs(html, parser=\"lxml\"):\n",
    "  \"\"\" Takes a request.Response object and returns a Beautiful Soup object\"\"\"\n",
    "  return BeautifulSoup(html.content, parser)\n",
    "\n",
    "def bs_replace(soup, source, target):\n",
    "  \"\"\" Replaces source tag with target tag in Beautiful Soup object \"\"\"\n",
    "  for tag in soup.findAll(source):\n",
    "    tag.replace_with(target)\n",
    "  return soup\n",
    "\n",
    "def bs_to_text(soup, strip=True):\n",
    "  \"\"\" Extracts all the text from a Beautiful soup object. \"\"\"\n",
    "  return soup.get_text(strip=strip)\n",
    "\n",
    "def bs_to_paragraphs(soup, tag, tag_filter, strip=True):\n",
    "  \"\"\" Extracts all the text from the given tags and returns them as a list. \"\"\"\n",
    "  return [paragraph.get_text(strip=strip) for paragraph in soup.findAll(tag, tag_filter)]"
   ]
  },
  {
   "cell_type": "code",
   "execution_count": null,
   "metadata": {},
   "outputs": [],
   "source": [
    "text = url_to_text(\"https://dacapo.io/is-it-time-to-start-making-open-source-software-usable/\")"
   ]
  },
  {
   "cell_type": "code",
   "execution_count": null,
   "metadata": {},
   "outputs": [
    {
     "data": {
      "text/plain": [
       "874"
      ]
     },
     "execution_count": null,
     "metadata": {},
     "output_type": "execute_result"
    }
   ],
   "source": [
    "len(text.split(\" \"))"
   ]
  },
  {
   "cell_type": "code",
   "execution_count": null,
   "metadata": {},
   "outputs": [],
   "source": [
    "def exception_handler(func):\n",
    "    def inner_function(*args, **kwargs):\n",
    "        try:\n",
    "            func(*args, **kwargs)\n",
    "        except TypeError:\n",
    "            print(f\"{func.__name__} only takes numbers as the argument\")\n",
    "    return inner_function    "
   ]
  },
  {
   "cell_type": "code",
   "execution_count": null,
   "metadata": {},
   "outputs": [],
   "source": []
  },
  {
   "cell_type": "code",
   "execution_count": null,
   "metadata": {},
   "outputs": [
    {
     "name": "stdout",
     "output_type": "stream",
     "text": [
      "https://roamresearch.com/#/app/markus/page/gr59Em0Ko\n",
      "https://scifact.apps.allenai.org/leaderboard\n",
      "https://scifact.apps.allenai.org/search?Hypertension%20is%20a%20common%20comorbidity%20seen%20in%20COVID-19%20patients.\n",
      "https://scifact.apps.allenai.org/search?Covid%20causes%20problems%20with%20breath\n",
      "https://scifact.apps.allenai.org/search?Covid%20causes%20cancer\n",
      "https://scifact.apps.allenai.org/search?Covid%20is%20caused%20by%20AIDS\n",
      "https://scifact.apps.allenai.org/\n",
      "https://www.vcguide.co/emerging-funds\n",
      "https://www.buildingsomethingnew.co/?32c5dca6_page=3\n",
      "https://1lib.nl/book/1247175/9f426f\n",
      "https://www.buildingsomethingnew.co/?32c5dca6_page=2\n",
      "file:///Users/markus/Projects/hypermaze/Eva-Maria%20Engelen,%20Christian%20Fleischhack,%20C.%20Giovanni%20Galizia%20(auth.),%20Prof.%20Dr.%20Eva-Maria%20Engelen,%20Prof.%20Dr.%20Christian%20Fleischhack,%20Prof.%20Dr.%20C.%20Giovanni%20Galizia,%20Prof.%20Dr.%20Katharina%20Landfester%20(eds.)%20-%20Heureka_%20Evidenzkriteri%20-%20libgen.lc.pdf\n",
      "http://libgen.gs/ads.php?md5=6acc8a63130ffd40cf1c98d87fe7ab91\n",
      "http://libgen.gs/ads.php?md5=6acc8a63130ffd40cf1c98d87fe7ab91\n",
      "http://libgen.lc/item/index.php?md5=6ACC8A63130FFD40CF1C98D87FE7AB91\n",
      "http://libgen.lc/search.php?req=heureka&lg_topic=libgen&open=0&view=simple&res=25&phrase=1&column=def\n",
      "https://libgen.lc/\n",
      "http://libgen.lc/\n",
      "https://donotpay.com/learn/airline-flight-compensation/\n",
      "https://www.buildingsomethingnew.co/\n",
      "https://forbetterscience.com/2020/12/03/hyperbaric-oxygen-therapy-extends-life-the-telomeres-and-everything/\n",
      "https://forbetterscience.com/2020/12/03/hyperbaric-oxygen-therapy-extends-life-the-telomeres-and-everything/\n",
      "https://eurekalert.org/pub_releases/2020-11/afot-tau111920.php\n",
      "https://www.longevity.technology/hyperbaric-oxygen-therapy-a-commercial-longevity-treatment/\n",
      "https://www.ldeming.com/longevityfaq\n",
      "https://www.dorian-iten.com/\n",
      "https://marginalrevolution.com/marginalrevolution/2020/11/emergent-ventures-winners-eleventh-cohort.html\n",
      "https://marginalrevolution.com/marginalrevolution/2020/08/emergent-ventures-winners-10th-cohort.html\n",
      "https://www.beondeck.com/\n",
      "https://www.joinef.com/\n",
      "https://donotpay.com/\n",
      "https://donotpay.com/\n",
      "https://www.vcguide.co/wishlist\n",
      "https://www.linkedin.com/me/profile-views/urn:li:wvmp:summary/\n",
      "https://www.linkedin.com/me/profile-views/\n",
      "https://www.linkedin.com/me/profile-views/?lipi=urn%3Ali%3Apage%3Ad_flagship3_profile_view_base%3BAEVVGNA%2FS4uOXW9ETvoMiQ%3D%3D&licu=urn%3Ali%3Acontrol%3Ad_flagship3_profile_view_base-profile_self_wvmp\n",
      "https://www.linkedin.com/me/profile-views/?lipi=urn%3Ali%3Apage%3Ad_flagship3_profile_view_base%3BAEVVGNA%2FS4uOXW9ETvoMiQ%3D%3D&licu=urn%3Ali%3Acontrol%3Ad_flagship3_profile_view_base-profile_self_wvmp\n",
      "https://www.linkedin.com/in/markus-strasser-y/\n",
      "https://www.linkedin.com/mynetwork/\n",
      "https://www.linkedin.com/feed/\n",
      "https://www.linkedin.com/\n",
      "https://www.linkedin.com/mynetwork/\n",
      "https://www.linkedin.com/jobs/view/2328435360/\n",
      "https://www.linkedin.com/jobs/view/2328435360/\n",
      "https://www.vcguide.co/reviews/recOJKjC0K7dZYHz0\n",
      "https://www.vcguide.co/search?query=vijay\n",
      "https://www.vcguide.co/reviews/recZYBWFHAozTDT5e\n",
      "https://www.vcguide.co/search?query=vijay\n",
      "https://www.vcguide.co/search?query=a16z\n",
      "https://www.vcguide.co/reviews/imported-item-118\n",
      "https://www.vcguide.co/search?query=a16z\n",
      "https://www.vcguide.co/\n",
      "https://www.vcguide.co/reviews/recOJKjC0K7dZYHz0\n",
      "https://www.vcguide.co/?3d70cb88_page=54\n",
      "https://www.vcguide.co/?3d70cb88_page=53\n",
      "https://www.vcguide.co/?3d70cb88_page=52\n",
      "https://www.vcguide.co/?3d70cb88_page=51\n",
      "https://www.vcguide.co/?3d70cb88_page=50\n",
      "https://www.vcguide.co/?3d70cb88_page=49\n",
      "https://www.vcguide.co/?3d70cb88_page=48\n",
      "https://www.vcguide.co/?3d70cb88_page=47\n",
      "https://www.vcguide.co/?3d70cb88_page=46\n",
      "https://www.vcguide.co/?3d70cb88_page=45\n",
      "https://www.vcguide.co/?3d70cb88_page=44\n",
      "https://www.vcguide.co/reviews/reczXZvy2JESMM9lb\n",
      "https://www.vcguide.co/?3d70cb88_page=44\n",
      "https://www.vcguide.co/?3d70cb88_page=43\n",
      "https://www.vcguide.co/reviews/recxVsLvpOPxcqLJr\n",
      "https://www.vcguide.co/?3d70cb88_page=43\n",
      "https://www.vcguide.co/?3d70cb88_page=42\n",
      "https://www.vcguide.co/?3d70cb88_page=41\n",
      "https://www.vcguide.co/?3d70cb88_page=40\n",
      "https://www.vcguide.co/?3d70cb88_page=39\n",
      "https://www.vcguide.co/?3d70cb88_page=38\n",
      "https://www.vcguide.co/?3d70cb88_page=37\n",
      "https://www.vcguide.co/?3d70cb88_page=36\n",
      "https://www.vcguide.co/?3d70cb88_page=35\n",
      "https://www.vcguide.co/?3d70cb88_page=34\n",
      "https://www.vcguide.co/?3d70cb88_page=33\n",
      "https://www.vcguide.co/?3d70cb88_page=32\n",
      "https://www.vcguide.co/?3d70cb88_page=31\n",
      "https://www.vcguide.co/?3d70cb88_page=30\n",
      "https://www.vcguide.co/?3d70cb88_page=29\n",
      "https://www.vcguide.co/?3d70cb88_page=28\n",
      "https://www.vcguide.co/?3d70cb88_page=27\n",
      "https://angel.co/p/alan-rutledge-gmail-com\n",
      "https://www.vcguide.co/?3d70cb88_page=26\n",
      "https://www.vcguide.co/?3d70cb88_page=25\n",
      "https://www.vcguide.co/?3d70cb88_page=24\n",
      "https://www.vcguide.co/?3d70cb88_page=23\n",
      "https://www.truework.com/\n",
      "https://www.joshbuckley.co/\n",
      "https://standard.ai/\n",
      "https://www.joshbuckley.co/\n",
      "https://www.vcguide.co/?3d70cb88_page=22\n",
      "https://angel.co/p/felix-jahn\n",
      "https://www.vcguide.co/?3d70cb88_page=21\n",
      "https://www.vcguide.co/?3d70cb88_page=20\n",
      "https://www.nfx.com/team/shayma-sharif/\n",
      "https://www.nfx.com/team/\n"
     ]
    }
   ],
   "source": [
    "articles = []\n",
    "for url in cleaned.url[1400:1500]:\n",
    "    print(url)\n",
    "    try:\n",
    "        t = url_to_text(url)\n",
    "    except:\n",
    "        pass\n",
    "    \n",
    "    if len(t.split(\" \")) > 300:\n",
    "        articles + [t]"
   ]
  },
  {
   "cell_type": "code",
   "execution_count": null,
   "metadata": {},
   "outputs": [
    {
     "ename": "InvalidSchema",
     "evalue": "No connection adapters were found for 'file:///Users/markus/Projects/hypermaze/Eva-Maria%20Engelen,%20Christian%20Fleischhack,%20C.%20Giovanni%20Galizia%20(auth.),%20Prof.%20Dr.%20Eva-Maria%20Engelen,%20Prof.%20Dr.%20Christian%20Fleischhack,%20Prof.%20Dr.%20C.%20Giovanni%20Galizia,%20Prof.%20Dr.%20Katharina%20Landfester%20(eds.)%20-%20Heureka_%20Evidenzkriteri%20-%20libgen.lc.pdf'",
     "output_type": "error",
     "traceback": [
      "\u001b[0;31m---------------------------------------------------------------------------\u001b[0m",
      "\u001b[0;31mInvalidSchema\u001b[0m                             Traceback (most recent call last)",
      "\u001b[0;32m<ipython-input-146-2ce17f82a6a3>\u001b[0m in \u001b[0;36m<module>\u001b[0;34m\u001b[0m\n\u001b[0;32m----> 1\u001b[0;31m \u001b[0mtexts\u001b[0m \u001b[0;34m=\u001b[0m \u001b[0;34m[\u001b[0m\u001b[0murl_to_text\u001b[0m\u001b[0;34m(\u001b[0m\u001b[0murl\u001b[0m\u001b[0;34m)\u001b[0m \u001b[0;32mfor\u001b[0m \u001b[0murl\u001b[0m \u001b[0;32min\u001b[0m \u001b[0mcleaned\u001b[0m\u001b[0;34m.\u001b[0m\u001b[0murl\u001b[0m\u001b[0;34m[\u001b[0m\u001b[0;36m1400\u001b[0m\u001b[0;34m:\u001b[0m\u001b[0;36m1500\u001b[0m\u001b[0;34m]\u001b[0m\u001b[0;34m]\u001b[0m\u001b[0;34m\u001b[0m\u001b[0;34m\u001b[0m\u001b[0m\n\u001b[0m",
      "\u001b[0;32m<ipython-input-146-2ce17f82a6a3>\u001b[0m in \u001b[0;36m<listcomp>\u001b[0;34m(.0)\u001b[0m\n\u001b[0;32m----> 1\u001b[0;31m \u001b[0mtexts\u001b[0m \u001b[0;34m=\u001b[0m \u001b[0;34m[\u001b[0m\u001b[0murl_to_text\u001b[0m\u001b[0;34m(\u001b[0m\u001b[0murl\u001b[0m\u001b[0;34m)\u001b[0m \u001b[0;32mfor\u001b[0m \u001b[0murl\u001b[0m \u001b[0;32min\u001b[0m \u001b[0mcleaned\u001b[0m\u001b[0;34m.\u001b[0m\u001b[0murl\u001b[0m\u001b[0;34m[\u001b[0m\u001b[0;36m1400\u001b[0m\u001b[0;34m:\u001b[0m\u001b[0;36m1500\u001b[0m\u001b[0;34m]\u001b[0m\u001b[0;34m]\u001b[0m\u001b[0;34m\u001b[0m\u001b[0;34m\u001b[0m\u001b[0m\n\u001b[0m",
      "\u001b[0;32m<ipython-input-137-9ad2925154db>\u001b[0m in \u001b[0;36m<lambda>\u001b[0;34m(data)\u001b[0m\n\u001b[1;32m     10\u001b[0m \u001b[0;32mdef\u001b[0m \u001b[0mpipe\u001b[0m\u001b[0;34m(\u001b[0m\u001b[0;34m*\u001b[0m\u001b[0mfuncs\u001b[0m\u001b[0;34m:\u001b[0m\u001b[0mList\u001b[0m\u001b[0;34m[\u001b[0m\u001b[0mcallable\u001b[0m\u001b[0;34m]\u001b[0m\u001b[0;34m,\u001b[0m \u001b[0mthread\u001b[0m\u001b[0;34m=\u001b[0m\u001b[0;34m\"first\"\u001b[0m\u001b[0;34m)\u001b[0m\u001b[0;34m:\u001b[0m\u001b[0;34m\u001b[0m\u001b[0;34m\u001b[0m\u001b[0m\n\u001b[1;32m     11\u001b[0m   \u001b[0mthread\u001b[0m \u001b[0;34m=\u001b[0m \u001b[0mthread_first\u001b[0m \u001b[0;32mif\u001b[0m \u001b[0mthread\u001b[0m \u001b[0;34m==\u001b[0m \u001b[0;34m\"first\"\u001b[0m \u001b[0;32melse\u001b[0m \u001b[0mthread_last\u001b[0m\u001b[0;34m\u001b[0m\u001b[0;34m\u001b[0m\u001b[0m\n\u001b[0;32m---> 12\u001b[0;31m   \u001b[0;32mreturn\u001b[0m \u001b[0;32mlambda\u001b[0m \u001b[0mdata\u001b[0m\u001b[0;34m:\u001b[0m \u001b[0mthread\u001b[0m\u001b[0;34m(\u001b[0m\u001b[0mdata\u001b[0m\u001b[0;34m,\u001b[0m \u001b[0;34m*\u001b[0m\u001b[0mfuncs\u001b[0m\u001b[0;34m)\u001b[0m\u001b[0;34m\u001b[0m\u001b[0;34m\u001b[0m\u001b[0m\n\u001b[0m\u001b[1;32m     13\u001b[0m \u001b[0;34m\u001b[0m\u001b[0m\n\u001b[1;32m     14\u001b[0m clean_sentence = pipe(strip,\n",
      "\u001b[0;32m~/Library/Caches/pypoetry/virtualenvs/proseflow-GKtXBSGs-py3.8/lib/python3.8/site-packages/toolz/functoolz.py\u001b[0m in \u001b[0;36mthread_first\u001b[0;34m(val, *forms)\u001b[0m\n\u001b[1;32m     74\u001b[0m             \u001b[0margs\u001b[0m \u001b[0;34m=\u001b[0m \u001b[0;34m(\u001b[0m\u001b[0mval\u001b[0m\u001b[0;34m,\u001b[0m\u001b[0;34m)\u001b[0m \u001b[0;34m+\u001b[0m \u001b[0margs\u001b[0m\u001b[0;34m\u001b[0m\u001b[0;34m\u001b[0m\u001b[0m\n\u001b[1;32m     75\u001b[0m             \u001b[0;32mreturn\u001b[0m \u001b[0mfunc\u001b[0m\u001b[0;34m(\u001b[0m\u001b[0;34m*\u001b[0m\u001b[0margs\u001b[0m\u001b[0;34m)\u001b[0m\u001b[0;34m\u001b[0m\u001b[0;34m\u001b[0m\u001b[0m\n\u001b[0;32m---> 76\u001b[0;31m     \u001b[0;32mreturn\u001b[0m \u001b[0mreduce\u001b[0m\u001b[0;34m(\u001b[0m\u001b[0mevalform_front\u001b[0m\u001b[0;34m,\u001b[0m \u001b[0mforms\u001b[0m\u001b[0;34m,\u001b[0m \u001b[0mval\u001b[0m\u001b[0;34m)\u001b[0m\u001b[0;34m\u001b[0m\u001b[0;34m\u001b[0m\u001b[0m\n\u001b[0m\u001b[1;32m     77\u001b[0m \u001b[0;34m\u001b[0m\u001b[0m\n\u001b[1;32m     78\u001b[0m \u001b[0;34m\u001b[0m\u001b[0m\n",
      "\u001b[0;32m~/Library/Caches/pypoetry/virtualenvs/proseflow-GKtXBSGs-py3.8/lib/python3.8/site-packages/toolz/functoolz.py\u001b[0m in \u001b[0;36mevalform_front\u001b[0;34m(val, form)\u001b[0m\n\u001b[1;32m     69\u001b[0m     \u001b[0;32mdef\u001b[0m \u001b[0mevalform_front\u001b[0m\u001b[0;34m(\u001b[0m\u001b[0mval\u001b[0m\u001b[0;34m,\u001b[0m \u001b[0mform\u001b[0m\u001b[0;34m)\u001b[0m\u001b[0;34m:\u001b[0m\u001b[0;34m\u001b[0m\u001b[0;34m\u001b[0m\u001b[0m\n\u001b[1;32m     70\u001b[0m         \u001b[0;32mif\u001b[0m \u001b[0mcallable\u001b[0m\u001b[0;34m(\u001b[0m\u001b[0mform\u001b[0m\u001b[0;34m)\u001b[0m\u001b[0;34m:\u001b[0m\u001b[0;34m\u001b[0m\u001b[0;34m\u001b[0m\u001b[0m\n\u001b[0;32m---> 71\u001b[0;31m             \u001b[0;32mreturn\u001b[0m \u001b[0mform\u001b[0m\u001b[0;34m(\u001b[0m\u001b[0mval\u001b[0m\u001b[0;34m)\u001b[0m\u001b[0;34m\u001b[0m\u001b[0;34m\u001b[0m\u001b[0m\n\u001b[0m\u001b[1;32m     72\u001b[0m         \u001b[0;32mif\u001b[0m \u001b[0misinstance\u001b[0m\u001b[0;34m(\u001b[0m\u001b[0mform\u001b[0m\u001b[0;34m,\u001b[0m \u001b[0mtuple\u001b[0m\u001b[0;34m)\u001b[0m\u001b[0;34m:\u001b[0m\u001b[0;34m\u001b[0m\u001b[0;34m\u001b[0m\u001b[0m\n\u001b[1;32m     73\u001b[0m             \u001b[0mfunc\u001b[0m\u001b[0;34m,\u001b[0m \u001b[0margs\u001b[0m \u001b[0;34m=\u001b[0m \u001b[0mform\u001b[0m\u001b[0;34m[\u001b[0m\u001b[0;36m0\u001b[0m\u001b[0;34m]\u001b[0m\u001b[0;34m,\u001b[0m \u001b[0mform\u001b[0m\u001b[0;34m[\u001b[0m\u001b[0;36m1\u001b[0m\u001b[0;34m:\u001b[0m\u001b[0;34m]\u001b[0m\u001b[0;34m\u001b[0m\u001b[0;34m\u001b[0m\u001b[0m\n",
      "\u001b[0;32m<ipython-input-132-50bb3ea119d8>\u001b[0m in \u001b[0;36murl_to_html\u001b[0;34m(url)\u001b[0m\n\u001b[1;32m      1\u001b[0m \u001b[0;32mdef\u001b[0m \u001b[0murl_to_html\u001b[0m\u001b[0;34m(\u001b[0m\u001b[0murl\u001b[0m\u001b[0;34m:\u001b[0m \u001b[0mstr\u001b[0m\u001b[0;34m)\u001b[0m\u001b[0;34m:\u001b[0m\u001b[0;34m\u001b[0m\u001b[0;34m\u001b[0m\u001b[0m\n\u001b[1;32m      2\u001b[0m   \u001b[0;34m\"\"\" Takes a url and returns a request.Response object \"\"\"\u001b[0m\u001b[0;34m\u001b[0m\u001b[0;34m\u001b[0m\u001b[0m\n\u001b[0;32m----> 3\u001b[0;31m   \u001b[0;32mreturn\u001b[0m \u001b[0mrequests\u001b[0m\u001b[0;34m.\u001b[0m\u001b[0mget\u001b[0m\u001b[0;34m(\u001b[0m\u001b[0murl\u001b[0m\u001b[0;34m,\u001b[0m \u001b[0mheaders\u001b[0m \u001b[0;34m=\u001b[0m \u001b[0;34m{\u001b[0m\u001b[0;34m'User-Agent'\u001b[0m\u001b[0;34m:\u001b[0m \u001b[0;34m'test'\u001b[0m\u001b[0;34m}\u001b[0m\u001b[0;34m)\u001b[0m\u001b[0;34m\u001b[0m\u001b[0;34m\u001b[0m\u001b[0m\n\u001b[0m\u001b[1;32m      4\u001b[0m \u001b[0;34m\u001b[0m\u001b[0m\n\u001b[1;32m      5\u001b[0m \u001b[0;32mdef\u001b[0m \u001b[0murl_to_base_url\u001b[0m\u001b[0;34m(\u001b[0m\u001b[0murl\u001b[0m\u001b[0;34m)\u001b[0m\u001b[0;34m:\u001b[0m\u001b[0;34m\u001b[0m\u001b[0;34m\u001b[0m\u001b[0m\n",
      "\u001b[0;32m~/Library/Caches/pypoetry/virtualenvs/proseflow-GKtXBSGs-py3.8/lib/python3.8/site-packages/requests/api.py\u001b[0m in \u001b[0;36mget\u001b[0;34m(url, params, **kwargs)\u001b[0m\n\u001b[1;32m     74\u001b[0m \u001b[0;34m\u001b[0m\u001b[0m\n\u001b[1;32m     75\u001b[0m     \u001b[0mkwargs\u001b[0m\u001b[0;34m.\u001b[0m\u001b[0msetdefault\u001b[0m\u001b[0;34m(\u001b[0m\u001b[0;34m'allow_redirects'\u001b[0m\u001b[0;34m,\u001b[0m \u001b[0;32mTrue\u001b[0m\u001b[0;34m)\u001b[0m\u001b[0;34m\u001b[0m\u001b[0;34m\u001b[0m\u001b[0m\n\u001b[0;32m---> 76\u001b[0;31m     \u001b[0;32mreturn\u001b[0m \u001b[0mrequest\u001b[0m\u001b[0;34m(\u001b[0m\u001b[0;34m'get'\u001b[0m\u001b[0;34m,\u001b[0m \u001b[0murl\u001b[0m\u001b[0;34m,\u001b[0m \u001b[0mparams\u001b[0m\u001b[0;34m=\u001b[0m\u001b[0mparams\u001b[0m\u001b[0;34m,\u001b[0m \u001b[0;34m**\u001b[0m\u001b[0mkwargs\u001b[0m\u001b[0;34m)\u001b[0m\u001b[0;34m\u001b[0m\u001b[0;34m\u001b[0m\u001b[0m\n\u001b[0m\u001b[1;32m     77\u001b[0m \u001b[0;34m\u001b[0m\u001b[0m\n\u001b[1;32m     78\u001b[0m \u001b[0;34m\u001b[0m\u001b[0m\n",
      "\u001b[0;32m~/Library/Caches/pypoetry/virtualenvs/proseflow-GKtXBSGs-py3.8/lib/python3.8/site-packages/requests/api.py\u001b[0m in \u001b[0;36mrequest\u001b[0;34m(method, url, **kwargs)\u001b[0m\n\u001b[1;32m     59\u001b[0m     \u001b[0;31m# cases, and look like a memory leak in others.\u001b[0m\u001b[0;34m\u001b[0m\u001b[0;34m\u001b[0m\u001b[0;34m\u001b[0m\u001b[0m\n\u001b[1;32m     60\u001b[0m     \u001b[0;32mwith\u001b[0m \u001b[0msessions\u001b[0m\u001b[0;34m.\u001b[0m\u001b[0mSession\u001b[0m\u001b[0;34m(\u001b[0m\u001b[0;34m)\u001b[0m \u001b[0;32mas\u001b[0m \u001b[0msession\u001b[0m\u001b[0;34m:\u001b[0m\u001b[0;34m\u001b[0m\u001b[0;34m\u001b[0m\u001b[0m\n\u001b[0;32m---> 61\u001b[0;31m         \u001b[0;32mreturn\u001b[0m \u001b[0msession\u001b[0m\u001b[0;34m.\u001b[0m\u001b[0mrequest\u001b[0m\u001b[0;34m(\u001b[0m\u001b[0mmethod\u001b[0m\u001b[0;34m=\u001b[0m\u001b[0mmethod\u001b[0m\u001b[0;34m,\u001b[0m \u001b[0murl\u001b[0m\u001b[0;34m=\u001b[0m\u001b[0murl\u001b[0m\u001b[0;34m,\u001b[0m \u001b[0;34m**\u001b[0m\u001b[0mkwargs\u001b[0m\u001b[0;34m)\u001b[0m\u001b[0;34m\u001b[0m\u001b[0;34m\u001b[0m\u001b[0m\n\u001b[0m\u001b[1;32m     62\u001b[0m \u001b[0;34m\u001b[0m\u001b[0m\n\u001b[1;32m     63\u001b[0m \u001b[0;34m\u001b[0m\u001b[0m\n",
      "\u001b[0;32m~/Library/Caches/pypoetry/virtualenvs/proseflow-GKtXBSGs-py3.8/lib/python3.8/site-packages/requests/sessions.py\u001b[0m in \u001b[0;36mrequest\u001b[0;34m(self, method, url, params, data, headers, cookies, files, auth, timeout, allow_redirects, proxies, hooks, stream, verify, cert, json)\u001b[0m\n\u001b[1;32m    540\u001b[0m         }\n\u001b[1;32m    541\u001b[0m         \u001b[0msend_kwargs\u001b[0m\u001b[0;34m.\u001b[0m\u001b[0mupdate\u001b[0m\u001b[0;34m(\u001b[0m\u001b[0msettings\u001b[0m\u001b[0;34m)\u001b[0m\u001b[0;34m\u001b[0m\u001b[0;34m\u001b[0m\u001b[0m\n\u001b[0;32m--> 542\u001b[0;31m         \u001b[0mresp\u001b[0m \u001b[0;34m=\u001b[0m \u001b[0mself\u001b[0m\u001b[0;34m.\u001b[0m\u001b[0msend\u001b[0m\u001b[0;34m(\u001b[0m\u001b[0mprep\u001b[0m\u001b[0;34m,\u001b[0m \u001b[0;34m**\u001b[0m\u001b[0msend_kwargs\u001b[0m\u001b[0;34m)\u001b[0m\u001b[0;34m\u001b[0m\u001b[0;34m\u001b[0m\u001b[0m\n\u001b[0m\u001b[1;32m    543\u001b[0m \u001b[0;34m\u001b[0m\u001b[0m\n\u001b[1;32m    544\u001b[0m         \u001b[0;32mreturn\u001b[0m \u001b[0mresp\u001b[0m\u001b[0;34m\u001b[0m\u001b[0;34m\u001b[0m\u001b[0m\n",
      "\u001b[0;32m~/Library/Caches/pypoetry/virtualenvs/proseflow-GKtXBSGs-py3.8/lib/python3.8/site-packages/requests/sessions.py\u001b[0m in \u001b[0;36msend\u001b[0;34m(self, request, **kwargs)\u001b[0m\n\u001b[1;32m    647\u001b[0m \u001b[0;34m\u001b[0m\u001b[0m\n\u001b[1;32m    648\u001b[0m         \u001b[0;31m# Get the appropriate adapter to use\u001b[0m\u001b[0;34m\u001b[0m\u001b[0;34m\u001b[0m\u001b[0;34m\u001b[0m\u001b[0m\n\u001b[0;32m--> 649\u001b[0;31m         \u001b[0madapter\u001b[0m \u001b[0;34m=\u001b[0m \u001b[0mself\u001b[0m\u001b[0;34m.\u001b[0m\u001b[0mget_adapter\u001b[0m\u001b[0;34m(\u001b[0m\u001b[0murl\u001b[0m\u001b[0;34m=\u001b[0m\u001b[0mrequest\u001b[0m\u001b[0;34m.\u001b[0m\u001b[0murl\u001b[0m\u001b[0;34m)\u001b[0m\u001b[0;34m\u001b[0m\u001b[0;34m\u001b[0m\u001b[0m\n\u001b[0m\u001b[1;32m    650\u001b[0m \u001b[0;34m\u001b[0m\u001b[0m\n\u001b[1;32m    651\u001b[0m         \u001b[0;31m# Start time (approximately) of the request\u001b[0m\u001b[0;34m\u001b[0m\u001b[0;34m\u001b[0m\u001b[0;34m\u001b[0m\u001b[0m\n",
      "\u001b[0;32m~/Library/Caches/pypoetry/virtualenvs/proseflow-GKtXBSGs-py3.8/lib/python3.8/site-packages/requests/sessions.py\u001b[0m in \u001b[0;36mget_adapter\u001b[0;34m(self, url)\u001b[0m\n\u001b[1;32m    740\u001b[0m \u001b[0;34m\u001b[0m\u001b[0m\n\u001b[1;32m    741\u001b[0m         \u001b[0;31m# Nothing matches :-/\u001b[0m\u001b[0;34m\u001b[0m\u001b[0;34m\u001b[0m\u001b[0;34m\u001b[0m\u001b[0m\n\u001b[0;32m--> 742\u001b[0;31m         \u001b[0;32mraise\u001b[0m \u001b[0mInvalidSchema\u001b[0m\u001b[0;34m(\u001b[0m\u001b[0;34m\"No connection adapters were found for {!r}\"\u001b[0m\u001b[0;34m.\u001b[0m\u001b[0mformat\u001b[0m\u001b[0;34m(\u001b[0m\u001b[0murl\u001b[0m\u001b[0;34m)\u001b[0m\u001b[0;34m)\u001b[0m\u001b[0;34m\u001b[0m\u001b[0;34m\u001b[0m\u001b[0m\n\u001b[0m\u001b[1;32m    743\u001b[0m \u001b[0;34m\u001b[0m\u001b[0m\n\u001b[1;32m    744\u001b[0m     \u001b[0;32mdef\u001b[0m \u001b[0mclose\u001b[0m\u001b[0;34m(\u001b[0m\u001b[0mself\u001b[0m\u001b[0;34m)\u001b[0m\u001b[0;34m:\u001b[0m\u001b[0;34m\u001b[0m\u001b[0;34m\u001b[0m\u001b[0m\n",
      "\u001b[0;31mInvalidSchema\u001b[0m: No connection adapters were found for 'file:///Users/markus/Projects/hypermaze/Eva-Maria%20Engelen,%20Christian%20Fleischhack,%20C.%20Giovanni%20Galizia%20(auth.),%20Prof.%20Dr.%20Eva-Maria%20Engelen,%20Prof.%20Dr.%20Christian%20Fleischhack,%20Prof.%20Dr.%20C.%20Giovanni%20Galizia,%20Prof.%20Dr.%20Katharina%20Landfester%20(eds.)%20-%20Heureka_%20Evidenzkriteri%20-%20libgen.lc.pdf'"
     ]
    }
   ],
   "source": [
    "texts = [url_to_text(url) for url in cleaned.url[1400:1500]]"
   ]
  },
  {
   "cell_type": "code",
   "execution_count": null,
   "metadata": {},
   "outputs": [],
   "source": []
  }
 ],
 "metadata": {
  "kernelspec": {
   "display_name": "proseflow",
   "language": "python",
   "name": "proseflow"
  }
 },
 "nbformat": 4,
 "nbformat_minor": 4
}
