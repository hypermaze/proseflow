{
 "cells": [
  {
   "cell_type": "code",
   "execution_count": 1,
   "metadata": {},
   "outputs": [],
   "source": [
    "# default_exp utils"
   ]
  },
  {
   "cell_type": "code",
   "execution_count": 2,
   "metadata": {},
   "outputs": [],
   "source": [
    "%load_ext autoreload\n",
    "%autoreload 2"
   ]
  },
  {
   "cell_type": "code",
   "execution_count": 7,
   "metadata": {},
   "outputs": [],
   "source": [
    "#export\n",
    "from typing import List\n",
    "from fastcore.basics import typed"
   ]
  },
  {
   "cell_type": "code",
   "execution_count": 8,
   "metadata": {},
   "outputs": [],
   "source": [
    "@typed\n",
    "def create_embedding_files_for_visualization(metadata, vectors, metadata_headers=None):\n",
    "    \"\"\" Create embedding files for visualization. Sentences can be any kind of metadata \"\"\"\n",
    "    metadata = [*metadata]\n",
    "    assert len(metadata) == len(vectors)\n",
    "\n",
    "    vectors_filepath = f\"/results/vectors.tsv\"\n",
    "    metadata_filepath = f\"results/metadata.tsv\"\n",
    "\n",
    "    out_vectors = open(vectors_filepath, \"w\", encoding=\"utf-8\")\n",
    "    out_metadata = open(metadata_filepath, \"w\", encoding=\"utf-8\")\n",
    "\n",
    "    # Meta File Header\n",
    "    if metadata_headers:\n",
    "        out_metadata.write(\"\\t\".join(metadata_headers) + \"\\n\")\n",
    "\n",
    "    for i in range(len(vectors)):\n",
    "        out_metadata.write(\"\\t\".join(metadata[i]) + \"\\n\")\n",
    "        out_vectors.write(\"\\t\".join([str(x) for x in vectors[i]]) + \"\\n\")\n",
    "\n",
    "    out_vectors.close()\n",
    "    out_metadata.close()"
   ]
  },
  {
   "cell_type": "code",
   "execution_count": 9,
   "metadata": {},
   "outputs": [],
   "source": [
    "@typed\n",
    "def pipe(*funcs:List[callable], thread=\"first\"):\n",
    "    thread = thread_first if thread == \"first\" else thread_last\n",
    "    return lambda data: thread(data, *funcs)"
   ]
  },
  {
   "cell_type": "code",
   "execution_count": null,
   "metadata": {},
   "outputs": [],
   "source": []
  }
 ],
 "metadata": {
  "kernelspec": {
   "display_name": "proseflow",
   "language": "python",
   "name": "proseflow"
  },
  "language_info": {
   "codemirror_mode": {
    "name": "ipython",
    "version": 3
   },
   "file_extension": ".py",
   "mimetype": "text/x-python",
   "name": "python",
   "nbconvert_exporter": "python",
   "pygments_lexer": "ipython3",
   "version": "3.8.5"
  }
 },
 "nbformat": 4,
 "nbformat_minor": 4
}
