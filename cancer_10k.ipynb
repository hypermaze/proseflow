{
 "cells": [
  {
   "cell_type": "code",
   "execution_count": null,
   "id": "advanced-camel",
   "metadata": {},
   "outputs": [
    {
     "name": "stdout",
     "output_type": "stream",
     "text": [
      "The autoreload extension is already loaded. To reload it, use:\n",
      "  %reload_ext autoreload\n"
     ]
    }
   ],
   "source": [
    "%load_ext autoreload\n",
    "%autoreload 2"
   ]
  },
  {
   "cell_type": "code",
   "execution_count": null,
   "id": "structured-transaction",
   "metadata": {},
   "outputs": [
    {
     "ename": "NameError",
     "evalue": "name '_C' is not defined",
     "output_type": "error",
     "traceback": [
      "\u001b[0;31m---------------------------------------------------------------------------\u001b[0m",
      "\u001b[0;31mNameError\u001b[0m                                 Traceback (most recent call last)",
      "\u001b[0;32m<ipython-input-6-a72dee1a7804>\u001b[0m in \u001b[0;36m<module>\u001b[0;34m\u001b[0m\n\u001b[0;32m----> 1\u001b[0;31m \u001b[0;32mfrom\u001b[0m \u001b[0mproseflow\u001b[0m\u001b[0;34m.\u001b[0m\u001b[0mload\u001b[0m \u001b[0;32mimport\u001b[0m \u001b[0mload\u001b[0m\u001b[0;34m\u001b[0m\u001b[0;34m\u001b[0m\u001b[0m\n\u001b[0m\u001b[1;32m      2\u001b[0m \u001b[0;32mfrom\u001b[0m \u001b[0mproseflow\u001b[0m\u001b[0;34m.\u001b[0m\u001b[0mpubmed\u001b[0m \u001b[0;32mimport\u001b[0m \u001b[0m_get_pubmed_records\u001b[0m\u001b[0;34m,\u001b[0m \u001b[0m_get_pubmed_abstracts\u001b[0m\u001b[0;34m\u001b[0m\u001b[0;34m\u001b[0m\u001b[0m\n\u001b[1;32m      3\u001b[0m \u001b[0;32mfrom\u001b[0m \u001b[0mproseflow\u001b[0m\u001b[0;34m.\u001b[0m\u001b[0msave\u001b[0m \u001b[0;32mimport\u001b[0m \u001b[0msave\u001b[0m\u001b[0;34m\u001b[0m\u001b[0;34m\u001b[0m\u001b[0m\n",
      "\u001b[0;32m~/proseflow/proseflow/load.py\u001b[0m in \u001b[0;36m<module>\u001b[0;34m\u001b[0m\n\u001b[1;32m     15\u001b[0m \u001b[0;32mimport\u001b[0m \u001b[0mrequests\u001b[0m\u001b[0;34m\u001b[0m\u001b[0;34m\u001b[0m\u001b[0m\n\u001b[1;32m     16\u001b[0m \u001b[0;32mimport\u001b[0m \u001b[0mspacy\u001b[0m\u001b[0;34m\u001b[0m\u001b[0;34m\u001b[0m\u001b[0m\n\u001b[0;32m---> 17\u001b[0;31m \u001b[0;32mimport\u001b[0m \u001b[0mstanza\u001b[0m\u001b[0;34m\u001b[0m\u001b[0;34m\u001b[0m\u001b[0m\n\u001b[0m\u001b[1;32m     18\u001b[0m \u001b[0;32mfrom\u001b[0m \u001b[0mdotenv\u001b[0m \u001b[0;32mimport\u001b[0m \u001b[0mload_dotenv\u001b[0m\u001b[0;34m\u001b[0m\u001b[0;34m\u001b[0m\u001b[0m\n\u001b[1;32m     19\u001b[0m \u001b[0;32mfrom\u001b[0m \u001b[0mmultipledispatch\u001b[0m \u001b[0;32mimport\u001b[0m \u001b[0mdispatch\u001b[0m\u001b[0;34m\u001b[0m\u001b[0;34m\u001b[0m\u001b[0m\n",
      "\u001b[0;32m~/.cache/pypoetry/virtualenvs/proseflow-mnUMDHp8-py3.8/lib/python3.8/site-packages/stanza/__init__.py\u001b[0m in \u001b[0;36m<module>\u001b[0;34m\u001b[0m\n\u001b[0;32m----> 1\u001b[0;31m \u001b[0;32mfrom\u001b[0m \u001b[0mstanza\u001b[0m\u001b[0;34m.\u001b[0m\u001b[0mpipeline\u001b[0m\u001b[0;34m.\u001b[0m\u001b[0mcore\u001b[0m \u001b[0;32mimport\u001b[0m \u001b[0mPipeline\u001b[0m\u001b[0;34m\u001b[0m\u001b[0;34m\u001b[0m\u001b[0m\n\u001b[0m\u001b[1;32m      2\u001b[0m \u001b[0;32mfrom\u001b[0m \u001b[0mstanza\u001b[0m\u001b[0;34m.\u001b[0m\u001b[0mmodels\u001b[0m\u001b[0;34m.\u001b[0m\u001b[0mcommon\u001b[0m\u001b[0;34m.\u001b[0m\u001b[0mdoc\u001b[0m \u001b[0;32mimport\u001b[0m \u001b[0mDocument\u001b[0m\u001b[0;34m\u001b[0m\u001b[0;34m\u001b[0m\u001b[0m\n\u001b[1;32m      3\u001b[0m \u001b[0;32mfrom\u001b[0m \u001b[0mstanza\u001b[0m\u001b[0;34m.\u001b[0m\u001b[0mresources\u001b[0m\u001b[0;34m.\u001b[0m\u001b[0mcommon\u001b[0m \u001b[0;32mimport\u001b[0m \u001b[0mdownload\u001b[0m\u001b[0;34m\u001b[0m\u001b[0;34m\u001b[0m\u001b[0m\n\u001b[1;32m      4\u001b[0m \u001b[0;32mfrom\u001b[0m \u001b[0mstanza\u001b[0m\u001b[0;34m.\u001b[0m\u001b[0mresources\u001b[0m\u001b[0;34m.\u001b[0m\u001b[0minstallation\u001b[0m \u001b[0;32mimport\u001b[0m \u001b[0minstall_corenlp\u001b[0m\u001b[0;34m,\u001b[0m \u001b[0mdownload_corenlp_models\u001b[0m\u001b[0;34m\u001b[0m\u001b[0;34m\u001b[0m\u001b[0m\n\u001b[1;32m      5\u001b[0m \u001b[0;32mfrom\u001b[0m \u001b[0mstanza\u001b[0m\u001b[0;34m.\u001b[0m\u001b[0m_version\u001b[0m \u001b[0;32mimport\u001b[0m \u001b[0m__version__\u001b[0m\u001b[0;34m,\u001b[0m \u001b[0m__resources_version__\u001b[0m\u001b[0;34m\u001b[0m\u001b[0;34m\u001b[0m\u001b[0m\n",
      "\u001b[0;32m~/.cache/pypoetry/virtualenvs/proseflow-mnUMDHp8-py3.8/lib/python3.8/site-packages/stanza/pipeline/core.py\u001b[0m in \u001b[0;36m<module>\u001b[0;34m\u001b[0m\n\u001b[1;32m      6\u001b[0m \u001b[0;32mimport\u001b[0m \u001b[0mitertools\u001b[0m\u001b[0;34m\u001b[0m\u001b[0;34m\u001b[0m\u001b[0m\n\u001b[1;32m      7\u001b[0m \u001b[0;32mimport\u001b[0m \u001b[0msys\u001b[0m\u001b[0;34m\u001b[0m\u001b[0;34m\u001b[0m\u001b[0m\n\u001b[0;32m----> 8\u001b[0;31m \u001b[0;32mimport\u001b[0m \u001b[0mtorch\u001b[0m\u001b[0;34m\u001b[0m\u001b[0;34m\u001b[0m\u001b[0m\n\u001b[0m\u001b[1;32m      9\u001b[0m \u001b[0;32mimport\u001b[0m \u001b[0mlogging\u001b[0m\u001b[0;34m\u001b[0m\u001b[0;34m\u001b[0m\u001b[0m\n\u001b[1;32m     10\u001b[0m \u001b[0;32mimport\u001b[0m \u001b[0mjson\u001b[0m\u001b[0;34m\u001b[0m\u001b[0;34m\u001b[0m\u001b[0m\n",
      "\u001b[0;32m~/.cache/pypoetry/virtualenvs/proseflow-mnUMDHp8-py3.8/lib/python3.8/site-packages/torch/__init__.py\u001b[0m in \u001b[0;36m<module>\u001b[0;34m\u001b[0m\n\u001b[1;32m    220\u001b[0m \u001b[0;34m\u001b[0m\u001b[0m\n\u001b[1;32m    221\u001b[0m \u001b[0;34m\u001b[0m\u001b[0m\n\u001b[0;32m--> 222\u001b[0;31m __all__ += [name for name in dir(_C)\n\u001b[0m\u001b[1;32m    223\u001b[0m             \u001b[0;32mif\u001b[0m \u001b[0mname\u001b[0m\u001b[0;34m[\u001b[0m\u001b[0;36m0\u001b[0m\u001b[0;34m]\u001b[0m \u001b[0;34m!=\u001b[0m \u001b[0;34m'_'\u001b[0m \u001b[0;32mand\u001b[0m\u001b[0;34m\u001b[0m\u001b[0;34m\u001b[0m\u001b[0m\n\u001b[1;32m    224\u001b[0m             not name.endswith('Base')]\n",
      "\u001b[0;31mNameError\u001b[0m: name '_C' is not defined"
     ]
    }
   ],
   "source": [
    "from proseflow.load import load\n",
    "from proseflow.pubmed import _get_pubmed_records, _get_pubmed_abstracts\n",
    "from proseflow.save import save"
   ]
  },
  {
   "cell_type": "code",
   "execution_count": null,
   "id": "extra-production",
   "metadata": {},
   "outputs": [],
   "source": [
    "import numpy as np\n",
    "import pandas as pd\n",
    "\n",
    "def chunker(seq, size):\n",
    "    return (seq[pos:pos + size] for pos in range(0, len(seq), size))\n",
    "\n"
   ]
  },
  {
   "cell_type": "code",
   "execution_count": null,
   "id": "electric-liver",
   "metadata": {},
   "outputs": [],
   "source": [
    "df = pd.read_csv(\"../data/csv-cancerimmu-set.csv\")"
   ]
  },
  {
   "cell_type": "code",
   "execution_count": null,
   "id": "white-floating",
   "metadata": {},
   "outputs": [],
   "source": [
    "# import copy\n",
    "# from proseflow.utils import merge_csv_in_dir\n",
    "\n",
    "# for idx, dfc in enumerate(chunker(df, 100)):\n",
    "#     d = copy.deepcopy(dfc)\n",
    "\n",
    "#     d[\"Abstract\"] = _get_pubmed_abstracts(list(d[\"PMID\"].map(str)))\n",
    "#     save(d, \"../data/pm_cancer/\" + str(idx))\n",
    "    \n",
    "    \n",
    "# merge_csv_in_dir(\"../data/pm_cancer\")"
   ]
  },
  {
   "cell_type": "markdown",
   "id": "liked-welsh",
   "metadata": {},
   "source": [
    "## Parse in Model"
   ]
  },
  {
   "cell_type": "code",
   "execution_count": null,
   "id": "about-sharp",
   "metadata": {},
   "outputs": [
    {
     "name": "stderr",
     "output_type": "stream",
     "text": [
      "2021-02-25 16:30:12 INFO: Loading these models for language: en (English):\n",
      "==========================\n",
      "| Processor | Package    |\n",
      "--------------------------\n",
      "| tokenize  | genia      |\n",
      "| pos       | genia      |\n",
      "| lemma     | genia      |\n",
      "| depparse  | genia      |\n",
      "| ner       | bionlp13cg |\n",
      "==========================\n",
      "\n",
      "2021-02-25 16:30:12 INFO: Use device: cpu\n",
      "2021-02-25 16:30:12 INFO: Loading: tokenize\n",
      "2021-02-25 16:30:12 INFO: Loading: pos\n"
     ]
    },
    {
     "name": "stdout",
     "output_type": "stream",
     "text": [
      "{'re': 'stanza', 'doc': \"Stanford's Stanza Model\", 'options': ['stanza1', 'stanza2']} shape {}\n",
      "loading stanza {'lang': 'en', 'package': 'genia', 'processors': {'ner': 'bionlp13cg'}}\n"
     ]
    },
    {
     "name": "stderr",
     "output_type": "stream",
     "text": [
      "2021-02-25 16:30:13 INFO: Loading: lemma\n",
      "2021-02-25 16:30:13 INFO: Loading: depparse\n",
      "2021-02-25 16:30:15 INFO: Loading: ner\n",
      "2021-02-25 16:30:16 INFO: Done loading processors!\n"
     ]
    }
   ],
   "source": [
    "from spacy_stanza import StanzaLanguage\n",
    "\n",
    "snlp = load(\"stanza\")\n",
    "nlp = StanzaLanguage(snlp)"
   ]
  },
  {
   "cell_type": "code",
   "execution_count": null,
   "id": "radio-virgin",
   "metadata": {},
   "outputs": [],
   "source": [
    "df = pd.read_csv(\"../data/cancer_immun.csv\")"
   ]
  },
  {
   "cell_type": "code",
   "execution_count": null,
   "id": "modified-mouth",
   "metadata": {},
   "outputs": [],
   "source": [
    "from textacy.corpus import Corpus\n",
    "\n",
    "a = Corpus(nlp).add(nlp(\"text\"))\n",
    "\n",
    "a.save(\"../data/test.bin.gz\")"
   ]
  },
  {
   "cell_type": "code",
   "execution_count": null,
   "id": "steady-retrieval",
   "metadata": {},
   "outputs": [
    {
     "data": {
      "text/plain": [
       "740"
      ]
     },
     "execution_count": null,
     "metadata": {},
     "output_type": "execute_result"
    }
   ],
   "source": [
    "len(corpus.docs)"
   ]
  },
  {
   "cell_type": "code",
   "execution_count": null,
   "id": "relative-victory",
   "metadata": {},
   "outputs": [
    {
     "data": {
      "text/plain": [
       "260"
      ]
     },
     "execution_count": null,
     "metadata": {},
     "output_type": "execute_result"
    }
   ],
   "source": [
    "len(df[\"Abstract\"][740:1000])\n",
    "docs = []\n",
    "corpus = Corpus(nlp)"
   ]
  },
  {
   "cell_type": "code",
   "execution_count": null,
   "id": "handed-watts",
   "metadata": {},
   "outputs": [
    {
     "name": "stdout",
     "output_type": "stream",
     "text": [
      "0\n",
      "1\n",
      "2\n",
      "3\n",
      "4\n",
      "5\n",
      "6\n",
      "7\n",
      "8\n",
      "9\n",
      "10\n",
      "11\n",
      "12\n"
     ]
    }
   ],
   "source": [
    "\n",
    "\n",
    "\n",
    "for idx, c in enumerate(chunker(df[\"Abstract\"][740:1000], 20)):\n",
    "    print(idx)\n",
    "    corpus.add(c)\n",
    "    corpus.save(\"../data/docs_cancer.bin.gz\")"
   ]
  },
  {
   "cell_type": "code",
   "execution_count": null,
   "id": "satisfied-truth",
   "metadata": {},
   "outputs": [],
   "source": [
    "docs[-10:]"
   ]
  },
  {
   "cell_type": "code",
   "execution_count": null,
   "id": "proof-aspect",
   "metadata": {},
   "outputs": [
    {
     "data": {
      "text/plain": [
       "[\"Synthetic biology was founded as a biophysical discipline that sought explanations for the origins of life from chemical and physical first principles. Modern synthetic biology has been reinvented as an engineering discipline to design new organisms as well as to better understand fundamental biological mechanisms. However, success is still largely limited to the laboratory and transformative applications of synthetic biology are still in their infancy. Here, we review six principles of living systems and how they compare and contrast with engineered systems. We cite specific examples from the synthetic biology literature that illustrate these principles and speculate on their implications for further study. To fully realize the promise of synthetic biology, we must be aware of life's unique properties.\"]"
      ]
     },
     "execution_count": null,
     "metadata": {},
     "output_type": "execute_result"
    }
   ],
   "source": [
    "_get_pubmed_abstracts([\"28355534\"])"
   ]
  },
  {
   "cell_type": "code",
   "execution_count": null,
   "id": "worldwide-american",
   "metadata": {},
   "outputs": [
    {
     "data": {
      "text/plain": [
       "['', '']"
      ]
     },
     "execution_count": null,
     "metadata": {},
     "output_type": "execute_result"
    }
   ],
   "source": [
    "[] +[\"\"] + [\"\"]"
   ]
  },
  {
   "cell_type": "code",
   "execution_count": null,
   "id": "sunrise-graphics",
   "metadata": {},
   "outputs": [],
   "source": []
  }
 ],
 "metadata": {
  "kernelspec": {
   "display_name": "proseflow",
   "language": "python",
   "name": "proseflow"
  }
 },
 "nbformat": 4,
 "nbformat_minor": 5
}
