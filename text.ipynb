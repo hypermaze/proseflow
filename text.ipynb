{
 "cells": [
  {
   "cell_type": "code",
   "execution_count": null,
   "metadata": {},
   "outputs": [],
   "source": [
    "# default_exp text"
   ]
  },
  {
   "cell_type": "code",
   "execution_count": null,
   "metadata": {},
   "outputs": [],
   "source": [
    "%load_ext autoreload\n",
    "%autoreload 2"
   ]
  },
  {
   "cell_type": "code",
   "execution_count": null,
   "metadata": {},
   "outputs": [],
   "source": [
    "#export\n",
    "from fastcore.basics import listify\n",
    "import faiss\n",
    "from typing import List"
   ]
  },
  {
   "cell_type": "code",
   "execution_count": null,
   "metadata": {},
   "outputs": [],
   "source": [
    "#export\n",
    "STRING_FUNCS = [\"capitalize\", \"count\", \"isalnum\", \"isalpha\", \"isascii\", \"isdecimal\", \"isdigit\", \"isidentifier\", \"islower\", \n",
    "                \"isnumeric\", \"isspace\", \"istitle\", \"isupper\", \"lower\", \"lstrip\", \"replace\", \"rstrip\", \"split\", \"strip\", \"upper\"]"
   ]
  },
  {
   "cell_type": "code",
   "execution_count": null,
   "metadata": {},
   "outputs": [],
   "source": [
    "#export\n",
    "# TODO: add convert so that i automatically converts a string/np array/dataframe/tensor into a list\n",
    "def text_to_vector(text_form, embedder):\n",
    "    embeddings = embedder.encode(text_form, convert_to_tensor=True)\n",
    "    return embeddings.cpu().detach().numpy()"
   ]
  },
  {
   "cell_type": "code",
   "execution_count": null,
   "metadata": {},
   "outputs": [],
   "source": [
    "#export\n",
    "def create_index(vectors):\n",
    "    faiss_index = faiss.IndexFlatL2(len(vectors[0]))\n",
    "    faiss_index.add(vectors)\n",
    "    \n",
    "#     print(faiss_index.ntotal)\n",
    "\n",
    "    return faiss_index"
   ]
  },
  {
   "cell_type": "code",
   "execution_count": null,
   "metadata": {},
   "outputs": [],
   "source": [
    "#export\n",
    "def query_index(text, embedder, target_list, index, with_distance=False, k=10):\n",
    "    embedding = embedder.encode([text])\n",
    "    distances, indices = index.search(embedding, k)\n",
    "    if with_distance:\n",
    "        return [(target_list[index], distances[0][i]) for i, index in enumerate(indices[0])]\n",
    "    return [target_list[i] for i in indices[0]]"
   ]
  },
  {
   "cell_type": "code",
   "execution_count": null,
   "metadata": {},
   "outputs": [],
   "source": [
    "def hypernyms(ngram: str):\n",
    "    \"\"\"\n",
    "    parent in an ontology\n",
    "    \"\"\"\n",
    "    if \"WORDNET\":\n",
    "        pass\n",
    "    if \"CORPUS_FILE\":\n",
    "        hearst_patterns(\"zxz\")\n",
    "\n",
    "\n",
    "def hearst_patterns(query: str) -> List[str]:\n",
    "    \"\"\"\n",
    "    animals like a, b, c\n",
    "    \"\"\"\n",
    "    pass"
   ]
  },
  {
   "cell_type": "code",
   "execution_count": null,
   "metadata": {},
   "outputs": [],
   "source": []
  },
  {
   "cell_type": "code",
   "execution_count": null,
   "metadata": {},
   "outputs": [
    {
     "name": "stdout",
     "output_type": "stream",
     "text": [
      "Converted aws_utils.ipynb.\n",
      "Converted index.ipynb.\n",
      "Converted load.ipynb.\n",
      "Converted roam_utils.ipynb.\n",
      "Converted semanticscholar_api.ipynb.\n",
      "Converted spec.ipynb.\n",
      "Converted text.ipynb.\n",
      "Converted utils.ipynb.\n"
     ]
    }
   ],
   "source": [
    "from nbdev.export import notebook2script; notebook2script()"
   ]
  },
  {
   "cell_type": "code",
   "execution_count": null,
   "metadata": {},
   "outputs": [],
   "source": []
  }
 ],
 "metadata": {
  "kernelspec": {
   "display_name": "proseflow",
   "language": "python",
   "name": "proseflow"
  }
 },
 "nbformat": 4,
 "nbformat_minor": 4
}
