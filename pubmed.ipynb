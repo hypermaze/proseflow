{
 "cells": [
  {
   "cell_type": "code",
   "execution_count": null,
   "id": "proved-marketing",
   "metadata": {},
   "outputs": [],
   "source": [
    "# default_exp pubmed"
   ]
  },
  {
   "cell_type": "code",
   "execution_count": null,
   "id": "accomplished-passport",
   "metadata": {},
   "outputs": [
    {
     "name": "stdout",
     "output_type": "stream",
     "text": [
      "The autoreload extension is already loaded. To reload it, use:\n",
      "  %reload_ext autoreload\n"
     ]
    }
   ],
   "source": [
    "%load_ext autoreload\n",
    "%autoreload 2"
   ]
  },
  {
   "cell_type": "code",
   "execution_count": null,
   "id": "studied-marks",
   "metadata": {},
   "outputs": [],
   "source": [
    "#export\n",
    "\n",
    "from datetime import datetime\n",
    "from typing import List, Dict\n",
    "\n",
    "from pydash import get\n",
    "from toolz import thread_first\n",
    "from typeguard import typechecked\n",
    "\n",
    "from proseflow.spec import *\n",
    "from proseflow.utils import get_paths, tree_select_kv\n",
    "from Bio import Entrez\n",
    "\n",
    "from IPython.display import JSON\n",
    "\n",
    "from io import StringIO\n",
    "from typing import List, Dict\n",
    "\n",
    "from Bio import Entrez, Medline\n",
    "from typeguard import typechecked\n"
   ]
  },
  {
   "cell_type": "code",
   "execution_count": null,
   "id": "dependent-constraint",
   "metadata": {},
   "outputs": [],
   "source": [
    "#export\n",
    "@typechecked\n",
    "def _get_pubmed_records(\n",
    "    pmids: List[str],\n",
    "    shape=None,\n",
    "):  # -> List[Tuple[str, str]]:\n",
    "    # ! TODO: move this into auto convert\n",
    "#     pmids_to_fetch = (\n",
    "#         [pmid.split(\"/\")[-2] for pmid in pmids]\n",
    "#         if SPEC[PUBMED_IDS].match(pmids[0])\n",
    "#         else pmids\n",
    "#     )\n",
    "    Entrez.email = \"strasser.ms@gmail.com\"\n",
    "\n",
    "    # handle type is http.client.HTTPResponse\n",
    "    handle = Entrez.efetch(\n",
    "        db=\"pubmed\",\n",
    "        id=\",\".join(map(str, pmids)),\n",
    "        rettype=\"xml\",\n",
    "        retmode=\"text\",\n",
    "    )\n",
    "    records = Entrez.read(handle)\n",
    "    return records\n",
    "\n",
    "\n",
    "def get_info(record, keys_wanted):\n",
    "    return thread_first(\n",
    "        record,\n",
    "        # (id_with_side, JSON),\n",
    "        get_paths,\n",
    "        list,\n",
    "        # print,\n",
    "        lambda paths: tree_select_kv(record, paths, keys_wanted),\n",
    "        m_parse_flat_pubmed,\n",
    "    )\n",
    "\n",
    "\n",
    "def _get_pubmed_info(\n",
    "    pmids: List[str],\n",
    "    keys_wanted=[\n",
    "        \"PMID\",\n",
    "        \"DateCompleted\",\n",
    "        \"Journal\",\n",
    "        \"PubDate\",\n",
    "        \"AbstractText\",\n",
    "        \"ChemicalList\",\n",
    "    ],\n",
    "):\n",
    "    records = _get_pubmed_records(pmids)\n",
    "    return [get_info(r, keys_wanted) for r in records[\"PubmedArticle\"]]\n",
    "\n",
    "\n",
    "def _get_pubmed_abstracts(pmids: List[str]):\n",
    "    abst = []\n",
    "    for record in _get_pubmed_records(pmids)[\"PubmedArticle\"]:\n",
    "        try:\n",
    "            abst += [str(get(record, \"MedlineCitation.Article.Abstract.AbstractText.0\"))]\n",
    "        except:\n",
    "            abst += [\"\"]\n",
    "    return abst\n",
    "\n",
    "\n",
    "\"\"\"\n",
    "Achtung:\n",
    "\n",
    "PubDate has form:\n",
    "{\n",
    "\"Year\":\"1999\",\n",
    "\"Month\":\"Nov\", #stupid....\n",
    "\"Day\":\"09\"\n",
    "}\n",
    "and DateCompleted has form:\n",
    "{\n",
    "\"Year\":\"1999\",\n",
    "\"Month\":\"12\",\n",
    "\"Day\":\"09\"\n",
    "}\n",
    "\n",
    "\"\"\"\n",
    "\n",
    "MONTH_MAP = {\n",
    "    \"JAN\": 1,\n",
    "    \"FEB\": 2,\n",
    "    \"MAR\": 3,\n",
    "    \"APR\": 4,\n",
    "    \"MAY\": 5,\n",
    "    \"JUN\": 6,\n",
    "    \"JUL\": 7,\n",
    "    \"AUG\": 8,\n",
    "    \"SEP\": 9,\n",
    "    \"OCT\": 10,\n",
    "    \"NOV\": 11,\n",
    "    \"DEC\": 12,\n",
    "}\n",
    "\n",
    "\n",
    "def m_parse_flat_pubmed(flat_pm):\n",
    "    \"\"\"! make sure that all the key_wanted are represented here too ... otherwise key error\"\"\"\n",
    "    # [{a:, b:}]\n",
    "    if flat_pm.get(\"ChemicalList\"):  # only\n",
    "        # stringelement\n",
    "        flat_pm[\"ChemicalList\"] = [\n",
    "            str(chem[\"NameOfSubstance\"]) for chem in flat_pm[\"ChemicalList\"]\n",
    "        ]\n",
    "\n",
    "    if flat_pm.get(\"MeshHeadingList\"):\n",
    "        flat_pm[\"MeshHeadingList\"] = [\n",
    "            mesh[\"DescriptorName\"] for mesh in flat_pm[\"MeshHeadingList\"]\n",
    "        ]\n",
    "\n",
    "    if flat_pm.get(\"DateCompleted\"):\n",
    "        date_comp = {\n",
    "            key.lower(): int(num)\n",
    "            for key, num in flat_pm[\"DateCompleted\"].items()\n",
    "            if key\n",
    "        }\n",
    "        flat_pm[\"DateCompleted\"] = str(datetime(**date_comp).date())\n",
    "\n",
    "    # TODO: not working with month --> int(\"Nov\") errror\n",
    "    # date_pub = {key.lower(): int(num) for key, num in flat_pm[\"PubDate\"].items()}\n",
    "    # date_pub[\"month\"] = MONTH_MAP[date_pub[\"month\"]] #Nov => 11\n",
    "    # flat_pm[\"PubDate\"] = datetime(**date_pub).date()\n",
    "\n",
    "    # {\"DAY\":\"11\"} -> {\"day\": 11}\n",
    "\n",
    "    if flat_pm.get(\"AbstractText\"):\n",
    "        flat_pm[\"AbstractText\"] = flat_pm[\"AbstractText\"][0]\n",
    "    if flat_pm.get(\"JournalTitle\"):\n",
    "        flat_pm[\"JournalTitle\"] = flat_pm[\"Journal\"][\"Title\"]\n",
    "    if flat_pm.get(\"PMID\"):\n",
    "        flat_pm[\"PMID\"] = flat_pm[\"PMID\"][0:]\n",
    "    if flat_pm.get(\"Journal\"):\n",
    "        del flat_pm[\"Journal\"]\n",
    "\n",
    "    return flat_pm\n"
   ]
  },
  {
   "cell_type": "code",
   "execution_count": null,
   "id": "pharmaceutical-vampire",
   "metadata": {},
   "outputs": [
    {
     "data": {
      "application/json": {
       "MedlineCitation": {
        "Article": {
         "Abstract": {
          "AbstractText": [
           "Synthetic biology was founded as a biophysical discipline that sought explanations for the origins of life from chemical and physical first principles. Modern synthetic biology has been reinvented as an engineering discipline to design new organisms as well as to better understand fundamental biological mechanisms. However, success is still largely limited to the laboratory and transformative applications of synthetic biology are still in their infancy. Here, we review six principles of living systems and how they compare and contrast with engineered systems. We cite specific examples from the synthetic biology literature that illustrate these principles and speculate on their implications for further study. To fully realize the promise of synthetic biology, we must be aware of life's unique properties."
          ],
          "CopyrightInformation": "Copyright © 2017 Biophysical Society. Published by Elsevier Inc. All rights reserved."
         },
         "ArticleDate": [],
         "ArticleTitle": "Synthetic Biology: Engineering Living Systems from Biophysical Principles.",
         "AuthorList": [
          {
           "AffiliationInfo": [
            {
             "Affiliation": "Department of Bioengineering, University of Washington, Seattle, Washington.",
             "Identifier": []
            }
           ],
           "ForeName": "Bryan A",
           "Identifier": [],
           "Initials": "BA",
           "LastName": "Bartley"
          },
          {
           "AffiliationInfo": [
            {
             "Affiliation": "Department of Bioengineering, University of Washington, Seattle, Washington.",
             "Identifier": []
            }
           ],
           "ForeName": "Kyung",
           "Identifier": [],
           "Initials": "K",
           "LastName": "Kim"
          },
          {
           "AffiliationInfo": [
            {
             "Affiliation": "Department of Bioengineering, University of Washington, Seattle, Washington.",
             "Identifier": []
            }
           ],
           "ForeName": "J Kyle",
           "Identifier": [],
           "Initials": "JK",
           "LastName": "Medley"
          },
          {
           "AffiliationInfo": [
            {
             "Affiliation": "Department of Bioengineering, University of Washington, Seattle, Washington. Electronic address: hsauro@u.washington.edu.",
             "Identifier": []
            }
           ],
           "ForeName": "Herbert M",
           "Identifier": [],
           "Initials": "HM",
           "LastName": "Sauro"
          }
         ],
         "ELocationID": [
          "S0006-3495(17)30221-7",
          "10.1016/j.bpj.2017.02.013"
         ],
         "GrantList": [
          {
           "Acronym": "GM",
           "Agency": "NIGMS NIH HHS",
           "Country": "United States",
           "GrantID": "R01 GM081070"
          }
         ],
         "Journal": {
          "ISOAbbreviation": "Biophys J",
          "ISSN": "1542-0086",
          "JournalIssue": {
           "Issue": "6",
           "PubDate": {
            "Day": "28",
            "Month": "Mar",
            "Year": "2017"
           },
           "Volume": "112"
          },
          "Title": "Biophysical journal"
         },
         "Language": [
          "eng"
         ],
         "Pagination": {
          "MedlinePgn": "1050-1058"
         },
         "PublicationTypeList": [
          "Journal Article",
          "Review"
         ]
        },
        "CitationSubset": [
         "IM"
        ],
        "DateCompleted": {
         "Day": "05",
         "Month": "07",
         "Year": "2017"
        },
        "DateRevised": {
         "Day": "13",
         "Month": "11",
         "Year": "2018"
        },
        "GeneralNote": [],
        "KeywordList": [],
        "MedlineJournalInfo": {
         "Country": "United States",
         "ISSNLinking": "0006-3495",
         "MedlineTA": "Biophys J",
         "NlmUniqueID": "0370626"
        },
        "MeshHeadingList": [
         {
          "DescriptorName": "Biophysical Phenomena",
          "QualifierName": []
         },
         {
          "DescriptorName": "Evolution, Molecular",
          "QualifierName": []
         },
         {
          "DescriptorName": "Genetic Engineering",
          "QualifierName": []
         },
         {
          "DescriptorName": "Stochastic Processes",
          "QualifierName": []
         },
         {
          "DescriptorName": "Synthetic Biology",
          "QualifierName": [
           "methods"
          ]
         }
        ],
        "OtherAbstract": [],
        "OtherID": [],
        "PMID": "28355534",
        "SpaceFlightMission": []
       },
       "PubmedData": {
        "ArticleIdList": [
         "28355534",
         "S0006-3495(17)30221-7",
         "10.1016/j.bpj.2017.02.013",
         "PMC5376109"
        ],
        "History": [
         {
          "Day": "13",
          "Month": "07",
          "Year": "2016"
         },
         {
          "Day": "06",
          "Month": "02",
          "Year": "2017"
         },
         {
          "Day": "16",
          "Month": "02",
          "Year": "2017"
         },
         {
          "Day": "30",
          "Hour": "6",
          "Minute": "0",
          "Month": "3",
          "Year": "2017"
         },
         {
          "Day": "30",
          "Hour": "6",
          "Minute": "0",
          "Month": "3",
          "Year": "2017"
         },
         {
          "Day": "6",
          "Hour": "6",
          "Minute": "0",
          "Month": "7",
          "Year": "2017"
         }
        ],
        "PublicationStatus": "ppublish",
        "ReferenceList": [
         {
          "Reference": [
           {
            "ArticleIdList": [
             "20395511"
            ],
            "Citation": "Science. 2010 Apr 16;328(5976):368-72"
           },
           {
            "ArticleIdList": [
             "25678603"
            ],
            "Citation": "Mol Syst Biol. 2015 Feb 12;11(1):784"
           },
           {
            "ArticleIdList": [
             "22509035"
            ],
            "Citation": "Proc Natl Acad Sci U S A. 2012 May 1;109(18):7085-90"
           },
           {
            "ArticleIdList": [
             "18421347"
            ],
            "Citation": "Nature. 2008 Apr 17;452(7189):840-5"
           },
           {
            "ArticleIdList": [
             "22817898"
            ],
            "Citation": "Cell. 2012 Jul 20;150(2):389-401"
           },
           {
            "ArticleIdList": [
             "19633652"
            ],
            "Citation": "Nature. 2009 Aug 13;460(7257):894-8"
           },
           {
            "ArticleIdList": [
             "25849635"
            ],
            "Citation": "Nat Methods. 2015 May;12(5):415-8"
           },
           {
            "ArticleIdList": [
             "26093826"
            ],
            "Citation": "Curr Opin Chem Biol. 2015 Oct;28:47-56"
           },
           {
            "ArticleIdList": [
             "26324468"
            ],
            "Citation": "Mol Syst Biol. 2015 Aug 31;11(8):827"
           },
           {
            "ArticleIdList": [
             "17027474"
            ],
            "Citation": "Curr Biol. 2006 Oct 10;16(19):R831-4"
           },
           {
            "ArticleIdList": [
             "17228945"
            ],
            "Citation": "J Chem Phys. 2007 Jan 14;126(2):024109"
           },
           {
            "ArticleIdList": [
             "20187959"
            ],
            "Citation": "J Biol Eng. 2010 Feb 26;4:4"
           },
           {
            "ArticleIdList": [
             "23993101"
            ],
            "Citation": "Cell. 2013 Aug 29;154(5):1140-50"
           },
           {
            "ArticleIdList": [
             "24889608"
            ],
            "Citation": "Proc Natl Acad Sci U S A. 2014 Jun 17;111(24):8937-42"
           },
           {
            "ArticleIdList": [
             "17569828"
            ],
            "Citation": "Science. 2007 Jul 27;317(5837):526-9"
           },
           {
            "ArticleIdList": [
             "27344519"
            ],
            "Citation": "Curr Opin Biotechnol. 2016 Aug;40:177-84"
           },
           {
            "ArticleIdList": [
             "22863014"
            ],
            "Citation": "Cell. 2012 Aug 3;150(3):647-58"
           },
           {
            "ArticleIdList": [
             "20393580"
            ],
            "Citation": "Mol Syst Biol. 2010 Apr 13;6:360"
           },
           {
            "ArticleIdList": [
             "22253584"
            ],
            "Citation": "PLoS Comput Biol. 2012 Jan;8(1):e1002344"
           },
           {
            "ArticleIdList": [
             "25589545"
            ],
            "Citation": "Nucleic Acids Res. 2015 Feb 18;43(3):1955-64"
           },
           {
            "ArticleIdList": [
             "27104979"
            ],
            "Citation": "Cell. 2016 Apr 21;165(3):620-30"
           },
           {
            "ArticleIdList": [
             "25808341"
            ],
            "Citation": "J R Soc Interface. 2015 May 6;12(106):null"
           },
           {
            "ArticleIdList": [
             "24004180"
            ],
            "Citation": "ACS Synth Biol. 2013 Sep 20;2(9):519-28"
           },
           {
            "ArticleIdList": [
             "21040586"
            ],
            "Citation": "J Biol Eng. 2010 Nov 01;4:12"
           },
           {
            "ArticleIdList": [
             "10659857"
            ],
            "Citation": "Nature. 2000 Jan 20;403(6767):339-42"
           },
           {
            "ArticleIdList": [
             "17510665"
            ],
            "Citation": "Nat Rev Genet. 2007 Jun;8(6):450-61"
           },
           {
            "ArticleIdList": [
             "25049420"
            ],
            "Citation": "Proc Natl Acad Sci U S A. 2014 Aug 5;111(31):11299-304"
           },
           {
            "ArticleIdList": [
             "19377462"
            ],
            "Citation": "Nat Biotechnol. 2009 May;27(5):465-71"
           },
           {
            "ArticleIdList": [
             "25471879"
            ],
            "Citation": "Nature. 2014 Dec 4;516(7529):56-61"
           },
           {
            "ArticleIdList": [
             "20639866"
            ],
            "Citation": "Nat Biotechnol. 2010 Aug;28(8):856-62"
           },
           {
            "ArticleIdList": [
             "9023339"
            ],
            "Citation": "Proc Natl Acad Sci U S A. 1997 Feb 4;94(3):814-9"
           },
           {
            "ArticleIdList": [
             "26372647"
            ],
            "Citation": "IEEE Trans Biomed Circuits Syst. 2015 Aug;9(4):497-504"
           },
           {
            "ArticleIdList": [
             "20211838"
            ],
            "Citation": "Nucleic Acids Res. 2010 May;38(8):2712-26"
           },
           {
            "ArticleIdList": [
             "21354389"
            ],
            "Citation": "Biophys J. 2011 Mar 2;100(5):1167-77"
           },
           {
            "ArticleIdList": [
             "22575958"
            ],
            "Citation": "Nature. 2012 May 09;485(7397):185-94"
           },
           {
            "ArticleIdList": [
             "26597944"
            ],
            "Citation": "J Mol Evol. 2015 Dec;81(5-6):137-9"
           },
           {
            "ArticleIdList": [
             "24812682"
            ],
            "Citation": "Nature. 2014 May 8;509(7499):155-7"
           },
           {
            "ArticleIdList": [
             "26633141"
            ],
            "Citation": "PLoS Biol. 2015 Dec 03;13(12):e1002310"
           },
           {
            "ArticleIdList": [
             "24778240"
            ],
            "Citation": "Proc Natl Acad Sci U S A. 2014 May 20;111(20):E2149-56"
           },
           {
            "ArticleIdList": [
             "24388759"
            ],
            "Citation": "Chem Biol. 2014 Feb 20;21(2):238-45"
           },
           {
            "ArticleIdList": [
             "24686414"
            ],
            "Citation": "Nat Rev Microbiol. 2014 May;12 (5):381-90"
           },
           {
            "ArticleIdList": [
             "23093602"
            ],
            "Citation": "Nucleic Acids Res. 2013 Jan 7;41(1):e33"
           },
           {
            "ArticleIdList": [
             "12432408"
            ],
            "Citation": "Nature. 2002 Nov 14;420(6912):231-7"
           },
           {
            "ArticleIdList": [
             "25038413"
            ],
            "Citation": "Mol Cell. 2014 Jul 17;55(2):319-31"
           },
           {
            "ArticleIdList": [
             "21414483"
            ],
            "Citation": "Cell. 2011 Mar 18;144(6):910-25"
           },
           {
            "ArticleIdList": [
             "25792421"
            ],
            "Citation": "Biochimie. 2015 Jul;114:18-29"
           },
           {
            "ArticleIdList": [
             "27429432"
            ],
            "Citation": "IEEE Trans Biomed Eng. 2016 Oct;63(10 ):2015-20"
           },
           {
            "ArticleIdList": [
             "15819619"
            ],
            "Citation": "Mol Microbiol. 2005 May;56(3):615-24"
           },
           {
            "ArticleIdList": [
             "19148099"
            ],
            "Citation": "Nature. 2009 Jan 15;457(7227):309-12"
           },
           {
            "ArticleIdList": [
             "26490759"
            ],
            "Citation": "Mol Biosyst. 2015 Dec;11(12):3206-17"
           },
           {
            "ArticleIdList": [
             "24316737"
            ],
            "Citation": "Nat Chem Biol. 2014 Feb;10(2):99-105"
           },
           {
            "ArticleIdList": [
             "23474465"
            ],
            "Citation": "Nat Methods. 2013 Apr;10(4):354-60"
           },
           {
            "ArticleIdList": [
             "17037977"
            ],
            "Citation": "Annu Rev Phys Chem. 2007;58:35-55"
           },
           {
            "ArticleIdList": [
             "18277378"
            ],
            "Citation": "Mol Syst Biol. 2008;4:161"
           },
           {
            "ArticleIdList": [
             "24670245"
            ],
            "Citation": "ACS Synth Biol. 2014 Jun 20;3(6):416-25"
           },
           {
            "ArticleIdList": [
             "24116604"
            ],
            "Citation": "J Chem Phys. 2013 Oct 14;139(14 ):144108"
           },
           {
            "ArticleIdList": [
             "26187273"
            ],
            "Citation": "Biol Direct. 2015 Jul 18;10:37"
           },
           {
            "ArticleIdList": [
             "17189188"
            ],
            "Citation": "Mol Cell. 2006 Dec 28;24(6):853-65"
           },
           {
            "ArticleIdList": [
             "25565140"
            ],
            "Citation": "Small. 2015 Apr 17;11(15):1811-7"
           },
           {
            "ArticleIdList": [
             "15962337"
            ],
            "Citation": "Biotechnol Bioeng. 2005 Sep 5;91(5):643-8"
           },
           {
            "ArticleIdList": [
             "22949707"
            ],
            "Citation": "Proc Natl Acad Sci U S A. 2012 Sep 18;109(38):15271-6"
           },
           {
            "ArticleIdList": [
             "22649052"
            ],
            "Citation": "Biotechnol J. 2012 Jul;7(7):856-66"
           },
           {
            "ArticleIdList": [
             "17532860"
            ],
            "Citation": "Genome Biol. 2007;8(5):R94"
           },
           {
            "ArticleIdList": [
             "15261524"
            ],
            "Citation": "Prog Biophys Mol Biol. 2004 Sep;86(1):5-43"
           },
           {
            "ArticleIdList": [
             "25419739"
            ],
            "Citation": "Nat Biotechnol. 2014 Dec;32(12):1268-75"
           },
           {
            "ArticleIdList": [
             "20671182"
            ],
            "Citation": "Science. 2010 Jul 30;329(5991):533-8"
           },
           {
            "ArticleIdList": [
             "23676681"
            ],
            "Citation": "Nature. 2013 May 30;497(7451):619-23"
           },
           {
            "ArticleIdList": [
             "27034378"
            ],
            "Citation": "Science. 2016 Apr 1;352(6281):aac7341"
           },
           {
            "ArticleIdList": [
             "24556867"
            ],
            "Citation": "Mol Biosyst. 2014 Jul;10(7):1668-78"
           }
          ],
          "ReferenceList": []
         }
        ]
       }
      },
      "text/plain": [
       "<IPython.core.display.JSON object>"
      ]
     },
     "execution_count": null,
     "metadata": {
      "application/json": {
       "expanded": false,
       "root": "root"
      }
     },
     "output_type": "execute_result"
    }
   ],
   "source": [
    "JSON(_get_pubmed_records([\"28355534\", \"33568199\"])[\"PubmedArticle\"][0])"
   ]
  },
  {
   "cell_type": "code",
   "execution_count": null,
   "id": "square-blond",
   "metadata": {},
   "outputs": [
    {
     "data": {
      "text/plain": [
       "['as', 'asa']"
      ]
     },
     "execution_count": null,
     "metadata": {},
     "output_type": "execute_result"
    }
   ],
   "source": [
    "[] + [\"as\"] + [\"asa\"]"
   ]
  },
  {
   "cell_type": "code",
   "execution_count": null,
   "id": "adjacent-maine",
   "metadata": {},
   "outputs": [],
   "source": [
    "#%%timeit\n",
    "pm_record =_get_pubmed_abstracts([\"28355534\", \"33568199\"]) #2019: 28355534 #1999: 10544064\n"
   ]
  },
  {
   "cell_type": "code",
   "execution_count": null,
   "id": "filled-democracy",
   "metadata": {},
   "outputs": [
    {
     "data": {
      "text/plain": [
       "[\"Synthetic biology was founded as a biophysical discipline that sought explanations for the origins of life from chemical and physical first principles. Modern synthetic biology has been reinvented as an engineering discipline to design new organisms as well as to better understand fundamental biological mechanisms. However, success is still largely limited to the laboratory and transformative applications of synthetic biology are still in their infancy. Here, we review six principles of living systems and how they compare and contrast with engineered systems. We cite specific examples from the synthetic biology literature that illustrate these principles and speculate on their implications for further study. To fully realize the promise of synthetic biology, we must be aware of life's unique properties.\",\n",
       " 'Transcription factor B cell lymphoma 6 (BCL6) is a master regulator of T follicular helper (Tfh) cells, which play a crucial role in the pathogenesis of systemic lupus erythematosus (SLE). However, the mechanisms by which BCL6 expression is regulated are poorly understood. Ubiquitin-like with PHD and RING finger domains 1 (UHRF1) is an important epigenetic factor that regulates DNA methylation and histone modifications. In the present study, we assessed whether UHRF1 can regulate BCL6 expression and influence the differentiation and proliferation of Tfh cells.']"
      ]
     },
     "execution_count": null,
     "metadata": {},
     "output_type": "execute_result"
    }
   ],
   "source": [
    "pm_record"
   ]
  },
  {
   "cell_type": "code",
   "execution_count": null,
   "id": "after-telling",
   "metadata": {},
   "outputs": [],
   "source": [
    "#JSON(pm_record)"
   ]
  },
  {
   "cell_type": "code",
   "execution_count": null,
   "id": "individual-intro",
   "metadata": {},
   "outputs": [],
   "source": [
    "\n",
    "\n"
   ]
  },
  {
   "cell_type": "code",
   "execution_count": null,
   "id": "desperate-evanescence",
   "metadata": {},
   "outputs": [],
   "source": [
    "Entrez.email = 'strasser.ms@gmail.com'"
   ]
  },
  {
   "cell_type": "code",
   "execution_count": null,
   "id": "forced-garage",
   "metadata": {},
   "outputs": [],
   "source": [
    "#export\n",
    "@typechecked\n",
    "def search_medline(query: str, retmax: int =100):\n",
    "    ''' Searches Pubmed for <query> and returns all entries '''\n",
    "    search = Entrez.esearch(db='pubmed', \n",
    "                            retmax=retmax,\n",
    "                            term=query, \n",
    "                            usehistory='y')\n",
    "    handle = Entrez.read(search)\n",
    "    try:\n",
    "        return handle\n",
    "    except Exception as e:\n",
    "        raise IOError(str(e))\n",
    "    finally:\n",
    "        search.close()\n",
    "\n",
    "@typechecked\n",
    "def fetch_details(rec_id, \n",
    "                  entrez_handle) -> str:\n",
    "    ''' Fetches the details for a given publication ID '''\n",
    "    fetch_handle = Entrez.efetch(db='pubmed', id=rec_id,\n",
    "                                 rettype='Medline', retmode='text',\n",
    "                                 webenv=entrez_handle['WebEnv'],\n",
    "                                 query_key=entrez_handle['QueryKey'])\n",
    "    rec = fetch_handle.read()\n",
    "    return rec\n",
    "\n",
    "@typechecked\n",
    "def handle_query(query: str, \n",
    "                 records_to_retrieve: set, \n",
    "                 retrieve_max: int = 100) -> List[Dict]:\n",
    "    ''' \n",
    "    Takes a query, searches for the relevant papers and returns the abstracts \n",
    "    Abbreviations:\n",
    "    AB = Abstract, AID = Article Identifier, (F)AU = (Full) Author, DP = Date of Publication, \n",
    "    JT = Journal Title, OT = Other Term, PMID = PubMed Unique Identifier, TI = Title\n",
    "    https://biopython.org/docs/1.75/api/Bio.Medline.html#Bio.Medline.Record\n",
    "    '''\n",
    "    rec_handler = search_medline(query=query,\n",
    "                                 retmax=retrieve_max)\n",
    "\n",
    "    records = []\n",
    "    for rec_id in rec_handler['IdList']:\n",
    "        rec = fetch_details(rec_id=rec_id, \n",
    "                            entrez_handle=rec_handler)\n",
    "        rec_file = StringIO(rec)\n",
    "        medline_rec = Medline.read(rec_file)\n",
    "        record = {}\n",
    "        for key, value in medline_rec.items():\n",
    "            if key in records_to_retrieve:\n",
    "                record[key] = value\n",
    "        records.append(record)\n",
    "        # if 'AB' in medline_rec:\n",
    "        #     print(medline_rec['AB'])]\n",
    "    \n",
    "    return records\n"
   ]
  },
  {
   "cell_type": "code",
   "execution_count": null,
   "id": "absolute-postage",
   "metadata": {},
   "outputs": [],
   "source": [
    "#%%timeit\n",
    "records_to_retrieve = {\"AB\", \"AID\", \"AU\", \"DP\", \"JT\", \"OT\", \"PMID\", \"TI\"}\n",
    "\n",
    "#15 minutes for 1000 entries\n",
    "records = handle_query(query='cancer immunology', \n",
    "             records_to_retrieve=records_to_retrieve,\n",
    "             retrieve_max=5)\n"
   ]
  },
  {
   "cell_type": "code",
   "execution_count": null,
   "id": "gorgeous-reading",
   "metadata": {},
   "outputs": [],
   "source": [
    "\n",
    "from toolz import thread_first\n",
    "\n",
    "\n",
    "# parsed = thread_first(\n",
    "#     pm_record,\n",
    "#    # (id_with_side, JSON),\n",
    "#     get_paths,\n",
    "#     list,\n",
    "#     #print,\n",
    "#    lambda paths: get_kv_from_nested(pm_record, paths,[\"PMID\", \"DateCompleted\", \"Journal\", \"PubDate\", \"AbstractText\", \"ChemicalList\" ]),\n",
    "#    m_parse_flat_pm\n",
    "   \n",
    "# )\n",
    "# JSON(parsed)"
   ]
  },
  {
   "cell_type": "code",
   "execution_count": null,
   "id": "coupled-cradle",
   "metadata": {},
   "outputs": [],
   "source": []
  }
 ],
 "metadata": {
  "kernelspec": {
   "display_name": "proseflow",
   "language": "python",
   "name": "proseflow"
  }
 },
 "nbformat": 4,
 "nbformat_minor": 5
}
