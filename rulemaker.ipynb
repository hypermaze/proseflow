{
 "cells": [
  {
   "cell_type": "markdown",
   "id": "lined-imperial",
   "metadata": {},
   "source": [
    "# Data Programming: Rules through Demonstration\n",
    "\n",
    "* Sentence -> Label -> Synthesize/Expansion -> Select -> Labeling Rules -> Retrain Model"
   ]
  },
  {
   "cell_type": "markdown",
   "id": "pressed-bradley",
   "metadata": {},
   "source": [
    "Annotate and represent"
   ]
  },
  {
   "cell_type": "code",
   "execution_count": null,
   "id": "adult-birmingham",
   "metadata": {},
   "outputs": [],
   "source": [
    "text = \"Spinal TISSUE and bulbar muscular TISSUE atrophy (SBMA) is an inherited motor neuron disease caused by the expansion of a polyglutamine tract within the androgen receptor GENE_OR_GENE_PRODUCT ( AR GENE_OR_GENE_PRODUCT ). SBMA can be caused by this easily.\"\n"
   ]
  },
  {
   "cell_type": "markdown",
   "id": "after-syndication",
   "metadata": {},
   "source": [
    "Fully annotated sentences (tokens, NER, syntax, POS, "
   ]
  },
  {
   "cell_type": "code",
   "execution_count": null,
   "id": "heard-rebound",
   "metadata": {},
   "outputs": [],
   "source": []
  },
  {
   "cell_type": "markdown",
   "id": "german-arnold",
   "metadata": {},
   "source": [
    "Flying SQuid"
   ]
  },
  {
   "cell_type": "code",
   "execution_count": null,
   "id": "mental-tennis",
   "metadata": {},
   "outputs": [],
   "source": []
  }
 ],
 "metadata": {
  "kernelspec": {
   "display_name": "Python 3",
   "language": "python",
   "name": "python3"
  }
 },
 "nbformat": 4,
 "nbformat_minor": 5
}
