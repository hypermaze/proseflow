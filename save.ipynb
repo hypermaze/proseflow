{
 "cells": [
  {
   "cell_type": "code",
   "execution_count": null,
   "id": "structured-interaction",
   "metadata": {},
   "outputs": [],
   "source": [
    "# default_exp save"
   ]
  },
  {
   "cell_type": "code",
   "execution_count": null,
   "id": "continuous-listing",
   "metadata": {},
   "outputs": [
    {
     "name": "stdout",
     "output_type": "stream",
     "text": [
      "The autoreload extension is already loaded. To reload it, use:\n",
      "  %reload_ext autoreload\n"
     ]
    }
   ],
   "source": [
    "%load_ext autoreload\n",
    "%autoreload 2"
   ]
  },
  {
   "cell_type": "code",
   "execution_count": null,
   "id": "genuine-stranger",
   "metadata": {},
   "outputs": [],
   "source": [
    "#export \n",
    "import pandas as pd"
   ]
  },
  {
   "cell_type": "code",
   "execution_count": null,
   "id": "numerical-rally",
   "metadata": {},
   "outputs": [],
   "source": [
    "#export\n",
    "def save(resource, path, **kwargs):\n",
    "\n",
    "    if isinstance(resource, pd.DataFrame):\n",
    "        return resource.to_csv(path, index = False, header=True)\n",
    "    "
   ]
  },
  {
   "cell_type": "code",
   "execution_count": null,
   "id": "tired-savannah",
   "metadata": {},
   "outputs": [
    {
     "data": {
      "text/plain": [
       "5"
      ]
     },
     "execution_count": null,
     "metadata": {},
     "output_type": "execute_result"
    }
   ],
   "source": [
    "5"
   ]
  },
  {
   "cell_type": "code",
   "execution_count": null,
   "id": "permanent-testament",
   "metadata": {},
   "outputs": [],
   "source": []
  }
 ],
 "metadata": {
  "kernelspec": {
   "display_name": "proseflow",
   "language": "python",
   "name": "proseflow"
  }
 },
 "nbformat": 4,
 "nbformat_minor": 5
}
