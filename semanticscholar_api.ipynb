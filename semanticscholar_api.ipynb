{
 "cells": [
  {
   "cell_type": "code",
   "execution_count": 1,
   "metadata": {},
   "outputs": [],
   "source": [
    "from proseflow.load import load"
   ]
  },
  {
   "cell_type": "code",
   "execution_count": 3,
   "metadata": {},
   "outputs": [],
   "source": [
    "meta = \"\"\n",
    "with open(\"semanticscholar_paper_example_api.json\") as f:\n",
    "    meta = f.read()"
   ]
  },
  {
   "cell_type": "code",
   "execution_count": 5,
   "metadata": {},
   "outputs": [
    {
     "name": "stderr",
     "output_type": "stream",
     "text": [
      "/Users/markus/Library/Caches/pypoetry/virtualenvs/proseflow-GKtXBSGs-py3.8/lib/python3.8/site-packages/IPython/core/display.py:904: UserWarning: JSON expects JSONable dict or list, not JSON strings\n",
      "  warnings.warn(\"JSON expects JSONable dict or list, not JSON strings\")\n"
     ]
    },
    {
     "data": {
      "application/json": {
       "abstract": "Open Information Extraction (IE) is the task of extracting assertions from massive corpora without requiring a pre-specified vocabulary. This paper shows that the output of state-of-the-art Open IE systems is rife with uninformative and incoherent extractions. To overcome these problems, we introduce two simple syntactic and lexical constraints on binary relations expressed by verbs. We implemented the constraints in the ReVerb Open IE system, which more than doubles the area under the precision-recall curve relative to previous extractors such as TextRunner and woepos. More than 30% of ReVerb's extractions are at precision 0.8 or higher---compared to virtually none for earlier systems. The paper concludes with a detailed analysis of ReVerb's errors, suggesting directions for future work.",
       "arxivId": null,
       "authors": [
        {
         "authorId": "38087946",
         "name": "Anthony Fader",
         "url": "https://www.semanticscholar.org/author/38087946"
        },
        {
         "authorId": "144295318",
         "name": "S. Soderland",
         "url": "https://www.semanticscholar.org/author/144295318"
        },
        {
         "authorId": "1741101",
         "name": "Oren Etzioni",
         "url": "https://www.semanticscholar.org/author/1741101"
        }
       ],
       "citationVelocity": 115,
       "citations": [
        {
         "arxivId": null,
         "authors": [
          {
           "authorId": "33728083",
           "name": "T. Ruan"
          },
          {
           "authorId": "47936803",
           "name": "L. Xue"
          },
          {
           "authorId": "7643792",
           "name": "H. Wang"
          },
          {
           "authorId": "9416872",
           "name": "J. Pan"
          }
         ],
         "doi": "10.1007/978-3-319-31676-5_8",
         "intent": [],
         "isInfluential": false,
         "paperId": "52049fa08d1907a1daaed22f2ac9779a093bb0cf",
         "title": "Bootstrapping Yahoo! Finance by Wikipedia for Competitor Mining",
         "url": "https://www.semanticscholar.org/paper/52049fa08d1907a1daaed22f2ac9779a093bb0cf",
         "venue": "JIST",
         "year": 2015
        },
        {
         "arxivId": null,
         "authors": [
          {
           "authorId": null,
           "name": "XU Zeng-lin"
          },
          {
           "authorId": null,
           "name": "SHENG Yong-pan"
          },
          {
           "authorId": "71073845",
           "name": "He Li-rong"
          },
          {
           "authorId": "49619748",
           "name": "Wang Ya-fang"
          }
         ],
         "doi": null,
         "intent": [],
         "isInfluential": false,
         "paperId": "34263fd001524c342b74911ce22f8b78598a9288",
         "title": "Review on Knowledge Graph Techniques",
         "url": "https://www.semanticscholar.org/paper/34263fd001524c342b74911ce22f8b78598a9288",
         "venue": "",
         "year": 2016
        },
        {
         "arxivId": null,
         "authors": [
          {
           "authorId": "1706956",
           "name": "Yung-Chun Chang"
          },
          {
           "authorId": "2016740",
           "name": "Pi-Hua Chuang"
          },
          {
           "authorId": "2217849",
           "name": "C. C. Chen"
          },
          {
           "authorId": "144505734",
           "name": "Wen-Lian Hsu"
          }
         ],
         "doi": "10.1111/coin.12108",
         "intent": [
          "background"
         ],
         "isInfluential": false,
         "paperId": "ad553624f854f7ee6835df19e4ca6e85b5c1d6a0",
         "title": "FISER: A Feature‐Based Detection System for Person Interactions",
         "url": "https://www.semanticscholar.org/paper/ad553624f854f7ee6835df19e4ca6e85b5c1d6a0",
         "venue": "Comput. Intell.",
         "year": 2017
        },
        {
         "arxivId": null,
         "authors": [
          {
           "authorId": "38686805",
           "name": "V. Perera"
          },
          {
           "authorId": "3190243",
           "name": "Robin Soetens"
          },
          {
           "authorId": "2836353",
           "name": "T. Kollar"
          },
          {
           "authorId": "32402038",
           "name": "M. Samadi"
          },
          {
           "authorId": "49697598",
           "name": "Y. Sun"
          },
          {
           "authorId": "144143750",
           "name": "D. Nardi"
          },
          {
           "authorId": "1694041",
           "name": "R. V. D. Molengraft"
          },
          {
           "authorId": "1956361",
           "name": "M. Veloso"
          }
         ],
         "doi": "10.3390/robotics4020223",
         "intent": [
          "background"
         ],
         "isInfluential": false,
         "paperId": "8fda31008258f57cb73be2e0f782014e4ad60e2d",
         "title": "Learning Task Knowledge from Dialog and Web Access",
         "url": "https://www.semanticscholar.org/paper/8fda31008258f57cb73be2e0f782014e4ad60e2d",
         "venue": "Robotics",
         "year": 2015
        },
        {
         "arxivId": null,
         "authors": [
          {
           "authorId": "145336052",
           "name": "D. Thenmozhi"
          },
          {
           "authorId": "143616960",
           "name": "C. Aravindan"
          }
         ],
         "doi": "10.1093/comjnl/bxv071",
         "intent": [],
         "isInfluential": false,
         "paperId": "004746a32342fe2b523a3d2a6b27f37837239978",
         "title": "An Automatic and Clause-Based Approach to Learn Relations for Ontologies",
         "url": "https://www.semanticscholar.org/paper/004746a32342fe2b523a3d2a6b27f37837239978",
         "venue": "Comput. J.",
         "year": 2016
        },
        {
         "arxivId": null,
         "authors": [
          {
           "authorId": "1996394",
           "name": "Lidong Bing"
          },
          {
           "authorId": "145408157",
           "name": "Zhiming Zhang"
          },
          {
           "authorId": "144594306",
           "name": "Wai Lam"
          },
          {
           "authorId": "50056360",
           "name": "William W. Cohen"
          }
         ],
         "doi": "10.1016/j.knosys.2016.10.014",
         "intent": [],
         "isInfluential": false,
         "paperId": "a84c319fef32b2514af9541576189a1735aac507",
         "title": "Towards a language-independent solution: Knowledge base completion by searching the Web and deriving language pattern",
         "url": "https://www.semanticscholar.org/paper/a84c319fef32b2514af9541576189a1735aac507",
         "venue": "Knowl. Based Syst.",
         "year": 2017
        },
        {
         "arxivId": null,
         "authors": [
          {
           "authorId": "2782548",
           "name": "T. Matsui"
          },
          {
           "authorId": "145719769",
           "name": "M. Hagiwara"
          }
         ],
         "doi": "10.5057/JJSKE.TJSKE-D-16-00058",
         "intent": [
          "background"
         ],
         "isInfluential": false,
         "paperId": "4e4aaba95b5bebee8aac64884b0f56ae9ddb79cc",
         "title": "A Dialogue System with Emotion Estimation and Knowledge Acquisition Functions",
         "url": "https://www.semanticscholar.org/paper/4e4aaba95b5bebee8aac64884b0f56ae9ddb79cc",
         "venue": "",
         "year": 2017
        },
        {
         "arxivId": null,
         "authors": [
          {
           "authorId": "46258763",
           "name": "Kun Li"
          },
          {
           "authorId": "145187070",
           "name": "Xiaofeng Zhou"
          },
          {
           "authorId": "1786275",
           "name": "D. Wang"
          },
          {
           "authorId": "4985351",
           "name": "Christan Earl Grant"
          },
          {
           "authorId": "144787754",
           "name": "A. Dobra"
          },
          {
           "authorId": "26699778",
           "name": "C. Dudley"
          }
         ],
         "doi": "10.1007/s00778-016-0446-1",
         "intent": [
          "methodology"
         ],
         "isInfluential": false,
         "paperId": "4be293210f1a0dc14cf002a0069cf61d494d7eb2",
         "title": "In-database batch and query-time inference over probabilistic graphical models using UDA–GIST",
         "url": "https://www.semanticscholar.org/paper/4be293210f1a0dc14cf002a0069cf61d494d7eb2",
         "venue": "The VLDB Journal",
         "year": 2016
        },
        {
         "arxivId": null,
         "authors": [
          {
           "authorId": "40504639",
           "name": "Canghong Jin"
          },
          {
           "authorId": "8481579",
           "name": "Minghui Wu"
          },
          {
           "authorId": "1779706",
           "name": "Zemin Liu"
          },
          {
           "authorId": "2998493",
           "name": "Shiwen Cheng"
          }
         ],
         "doi": "10.14257/ijdta.2015.8.2.04",
         "intent": [
          "methodology"
         ],
         "isInfluential": false,
         "paperId": "56afdb65fdef51566696f7098d35ae255048de2e",
         "title": "Efficient Information Extraction Based on Signature Index",
         "url": "https://www.semanticscholar.org/paper/56afdb65fdef51566696f7098d35ae255048de2e",
         "venue": "",
         "year": 2015
        },
        {
         "arxivId": null,
         "authors": [
          {
           "authorId": "2166511",
           "name": "R. Socher"
          },
          {
           "authorId": "50536468",
           "name": "Danqi Chen"
          },
          {
           "authorId": "144783904",
           "name": "Christopher D. Manning"
          },
          {
           "authorId": "34699434",
           "name": "A. Ng"
          }
         ],
         "doi": null,
         "intent": [
          "background"
         ],
         "isInfluential": false,
         "paperId": "50d53cc562225549457cbc782546bfbe1ac6f0cf",
         "title": "Reasoning With Neural Tensor Networks for Knowledge Base Completion",
         "url": "https://www.semanticscholar.org/paper/50d53cc562225549457cbc782546bfbe1ac6f0cf",
         "venue": "NIPS",
         "year": 2013
        },
        {
         "arxivId": null,
         "authors": [
          {
           "authorId": "3060287",
           "name": "M. Kim"
          }
         ],
         "doi": null,
         "intent": [
          "background",
          "methodology"
         ],
         "isInfluential": true,
         "paperId": "a7fbf06312e2e137c609206f2a582f6f4d7ec902",
         "title": "Incremental Knowledge Acquisition Approach for Information Extraction on both Semi-Structured and Unstructured Text from the Open Domain Web",
         "url": "https://www.semanticscholar.org/paper/a7fbf06312e2e137c609206f2a582f6f4d7ec902",
         "venue": "ALTA",
         "year": 2017
        },
        {
         "arxivId": null,
         "authors": [
          {
           "authorId": "1923602",
           "name": "B. Fetahu"
          },
          {
           "authorId": "145381098",
           "name": "B. P. Nunes"
          },
          {
           "authorId": "3081683",
           "name": "S. Dietze"
          }
         ],
         "doi": "10.1007/978-3-642-39200-9_22",
         "intent": [
          "methodology"
         ],
         "isInfluential": false,
         "paperId": "b3447d4b8cc43c674508d97d51cd6b0279055acc",
         "title": "Summaries on the Fly: Query-Based Extraction of Structured Knowledge from Web Documents",
         "url": "https://www.semanticscholar.org/paper/b3447d4b8cc43c674508d97d51cd6b0279055acc",
         "venue": "ICWE",
         "year": 2013
        },
        {
         "arxivId": null,
         "authors": [
          {
           "authorId": "2346796",
           "name": "M. Dragoni"
          },
          {
           "authorId": "8300792",
           "name": "M. Federici"
          },
          {
           "authorId": "3143426",
           "name": "Andi Rexha"
          }
         ],
         "doi": "10.1007/s12559-019-9625-x",
         "intent": [],
         "isInfluential": false,
         "paperId": "61bc94f5efe105e778efb83e2ff61cf4b0ba7adc",
         "title": "ReUS: a Real-time Unsupervised System For Monitoring Opinion Streams",
         "url": "https://www.semanticscholar.org/paper/61bc94f5efe105e778efb83e2ff61cf4b0ba7adc",
         "venue": "Cognitive Computation",
         "year": 2019
        },
        {
         "arxivId": null,
         "authors": [
          {
           "authorId": "49465144",
           "name": "Cristiana Santos"
          },
          {
           "authorId": "2420171",
           "name": "Aldo Gangemi"
          },
          {
           "authorId": "33973438",
           "name": "M. Alam"
          }
         ],
         "doi": null,
         "intent": [
          "background"
         ],
         "isInfluential": false,
         "paperId": "669ccc72c88b6e3cc80a9973728f5ae8dc2b2e43",
         "title": "Detecting and Editing Privacy Policy Pitfalls on the Web",
         "url": "https://www.semanticscholar.org/paper/669ccc72c88b6e3cc80a9973728f5ae8dc2b2e43",
         "venue": "TERECOM@JURIX",
         "year": 2017
        },
        {
         "arxivId": null,
         "authors": [
          {
           "authorId": "38852238",
           "name": "Pierre-Antoine Jean"
          }
         ],
         "doi": null,
         "intent": [],
         "isInfluential": false,
         "paperId": "dd555c20c59bb34a404272d116b866a58b9a5f15",
         "title": "Gestion de l'incertitude et de l'imprécision dans un processus d'extraction de connaissances à partir des textes. (Uncertainty and imprecision management in a knowledge extraction process from unstructured texts)",
         "url": "https://www.semanticscholar.org/paper/dd555c20c59bb34a404272d116b866a58b9a5f15",
         "venue": "",
         "year": 2017
        },
        {
         "arxivId": null,
         "authors": [
          {
           "authorId": "3035170",
           "name": "Mostafa Bayomi"
          }
         ],
         "doi": null,
         "intent": [
          "methodology"
         ],
         "isInfluential": false,
         "paperId": "ea95b15fd7ed9d8a34d82298b860658efc5bed4b",
         "title": "Using NLP Techniques to Enhance Content Discoverability and Reusability for Adaptive Systems",
         "url": "https://www.semanticscholar.org/paper/ea95b15fd7ed9d8a34d82298b860658efc5bed4b",
         "venue": "",
         "year": 2019
        },
        {
         "arxivId": null,
         "authors": [
          {
           "authorId": "1871685",
           "name": "H. Merlino"
          },
          {
           "authorId": "145709474",
           "name": "E. Diez"
          },
          {
           "authorId": "143603573",
           "name": "J. M. Rodriguez"
          },
          {
           "authorId": "40329563",
           "name": "S. Bianco"
          },
          {
           "authorId": "49853304",
           "name": "R. Martínez"
          }
         ],
         "doi": null,
         "intent": [
          "background"
         ],
         "isInfluential": false,
         "paperId": "e8cdfbcc64559b971d4a8c1791812bde0346617d",
         "title": "Estudio de integración de métodos de descubrimiento de conocimiento en web",
         "url": "https://www.semanticscholar.org/paper/e8cdfbcc64559b971d4a8c1791812bde0346617d",
         "venue": "",
         "year": 2016
        },
        {
         "arxivId": null,
         "authors": [
          {
           "authorId": "8125500",
           "name": "Shengbin Jia"
          },
          {
           "authorId": "7268298",
           "name": "E. Shijia"
          },
          {
           "authorId": "40286814",
           "name": "Yang Xiang"
          }
         ],
         "doi": null,
         "intent": [
          "methodology"
         ],
         "isInfluential": true,
         "paperId": "3330e74c02d23ddbb7ef81fe57fc5df41c595bd7",
         "title": "Neural Open Relation Extraction via an Overlap-aware Sequence Tagging Scheme",
         "url": "https://www.semanticscholar.org/paper/3330e74c02d23ddbb7ef81fe57fc5df41c595bd7",
         "venue": "",
         "year": 2019
        },
        {
         "arxivId": null,
         "authors": [
          {
           "authorId": "1873744",
           "name": "L. Galárraga"
          },
          {
           "authorId": "1728179",
           "name": "G. Heitz"
          },
          {
           "authorId": "145601650",
           "name": "K. Murphy"
          },
          {
           "authorId": "1679784",
           "name": "Fabian M. Suchanek"
          }
         ],
         "doi": "10.1145/2661829.2662073",
         "intent": [],
         "isInfluential": false,
         "paperId": "8fb75ebe870abebfd526cd6b9a8d1badceb9b550",
         "title": "Canonicalizing Open Knowledge Bases",
         "url": "https://www.semanticscholar.org/paper/8fb75ebe870abebfd526cd6b9a8d1badceb9b550",
         "venue": "CIKM '14",
         "year": 2014
        },
        {
         "arxivId": null,
         "authors": [
          {
           "authorId": "3265426",
           "name": "Meng Ma"
          },
          {
           "authorId": "36471561",
           "name": "Weiyu Hao"
          },
          {
           "authorId": "143714918",
           "name": "Pengfei Li"
          }
         ],
         "doi": "10.1145/3377713.3377784",
         "intent": [
          "background"
         ],
         "isInfluential": false,
         "paperId": "fe33f791215f8e22b13f4c837502720736d20ac7",
         "title": "Combining Position-aware CNN and RNN for Relation Extraction",
         "url": "https://www.semanticscholar.org/paper/fe33f791215f8e22b13f4c837502720736d20ac7",
         "venue": "ACAI 2019",
         "year": 2019
        },
        {
         "arxivId": null,
         "authors": [
          {
           "authorId": null,
           "name": "Joana Sofia Dias Rocha"
          },
          {
           "authorId": "2558854",
           "name": "Pável Pereira Calado"
          }
         ],
         "doi": null,
         "intent": [
          "background"
         ],
         "isInfluential": false,
         "paperId": "a3a753ace21db155122021ad5f8056df949c5600",
         "title": "Resolving Named Entities and Relations in Text for Applications in Literary Studies",
         "url": "https://www.semanticscholar.org/paper/a3a753ace21db155122021ad5f8056df949c5600",
         "venue": "",
         "year": 2016
        },
        {
         "arxivId": null,
         "authors": [
          {
           "authorId": "2420171",
           "name": "Aldo Gangemi"
          },
          {
           "authorId": "3349721",
           "name": "D. R. Recupero"
          },
          {
           "authorId": "2751455",
           "name": "Misael Mongiovì"
          },
          {
           "authorId": "3198185",
           "name": "Andrea Giovanni Nuzzolese"
          },
          {
           "authorId": "2280600",
           "name": "V. Presutti"
          }
         ],
         "doi": "10.1016/j.knosys.2016.05.023",
         "intent": [],
         "isInfluential": false,
         "paperId": "1d5218912c410bf94bac2ea6c0e49db0306d4ee6",
         "title": "Identifying motifs for evaluating open knowledge extraction on the Web",
         "url": "https://www.semanticscholar.org/paper/1d5218912c410bf94bac2ea6c0e49db0306d4ee6",
         "venue": "Knowl. Based Syst.",
         "year": 2016
        },
        {
         "arxivId": null,
         "authors": [
          {
           "authorId": "1738404937",
           "name": "Navid Rezaei"
          },
          {
           "authorId": "1742322",
           "name": "M. Reformat"
          },
          {
           "authorId": "144127749",
           "name": "R. Yager"
          }
         ],
         "doi": "10.1007/978-3-030-50146-4_31",
         "intent": [
          "background"
         ],
         "isInfluential": true,
         "paperId": "35596aed0f799a275ac49c1267583777a0e4908e",
         "title": "Image-Based World-perceiving Knowledge Graph (WpKG) with Imprecision",
         "url": "https://www.semanticscholar.org/paper/35596aed0f799a275ac49c1267583777a0e4908e",
         "venue": "IPMU",
         "year": 2020
        },
        {
         "arxivId": null,
         "authors": [
          {
           "authorId": "1582710899",
           "name": "Eyob Alemu"
          },
          {
           "authorId": "123202097",
           "name": "Jianbin Huang"
          }
         ],
         "doi": "10.1016/J.IPM.2020.102299",
         "intent": [],
         "isInfluential": false,
         "paperId": "7b52e50bd7d77245c067487250113573aab72d99",
         "title": "HealthAid: Extracting domain targeted high precision procedural knowledge from on-line communities",
         "url": "https://www.semanticscholar.org/paper/7b52e50bd7d77245c067487250113573aab72d99",
         "venue": "Inf. Process. Manag.",
         "year": 2020
        },
        {
         "arxivId": null,
         "authors": [
          {
           "authorId": "3010546",
           "name": "R. Guarasci"
          },
          {
           "authorId": "35234224",
           "name": "Emanuele Damiano"
          },
          {
           "authorId": "34806690",
           "name": "A. Minutolo"
          },
          {
           "authorId": "1924454",
           "name": "M. Esposito"
          },
          {
           "authorId": "144840023",
           "name": "G. D. Pietro"
          }
         ],
         "doi": "10.1016/j.eswa.2019.112954",
         "intent": [],
         "isInfluential": false,
         "paperId": "f070b1456bfb144aa81aca2f8375edbd32ec5754",
         "title": "Lexicon-Grammar based open information extraction from natural language sentences in Italian",
         "url": "https://www.semanticscholar.org/paper/f070b1456bfb144aa81aca2f8375edbd32ec5754",
         "venue": "Expert Syst. Appl.",
         "year": 2020
        },
        {
         "arxivId": "2008.09961",
         "authors": [
          {
           "authorId": "3338615",
           "name": "Timothy R. Tangherlini"
          },
          {
           "authorId": "40367008",
           "name": "Shadi Shahsavari"
          },
          {
           "authorId": "50155483",
           "name": "Behnam Shahbazi"
          },
          {
           "authorId": "2313475",
           "name": "Ehsan Ebrahimzadeh"
          },
          {
           "authorId": "1686063",
           "name": "V. Roychowdhury"
          }
         ],
         "doi": "10.1371/journal.pone.0233879",
         "intent": [],
         "isInfluential": false,
         "paperId": "8c086c46b500fb580d7d2439af2b7fe3b5dcf2fa",
         "title": "An automated pipeline for the discovery of conspiracy and conspiracy theory narrative frameworks: Bridgegate, Pizzagate and storytelling on the web",
         "url": "https://www.semanticscholar.org/paper/8c086c46b500fb580d7d2439af2b7fe3b5dcf2fa",
         "venue": "PloS one",
         "year": 2020
        },
        {
         "arxivId": null,
         "authors": [
          {
           "authorId": "47120191",
           "name": "Xiaolan Wang"
          },
          {
           "authorId": "48477264",
           "name": "X. Dong"
          },
          {
           "authorId": "48513301",
           "name": "Y. Li"
          },
          {
           "authorId": "2283085",
           "name": "A. Meliou"
          }
         ],
         "doi": "10.1109/ICDE.2019.00058",
         "intent": [
          "methodology",
          "background"
         ],
         "isInfluential": false,
         "paperId": "a3c4b2a300ab919bbc27df2da9ced9df1c6e8567",
         "title": "MIDAS: Finding the Right Web Sources to Fill Knowledge Gaps",
         "url": "https://www.semanticscholar.org/paper/a3c4b2a300ab919bbc27df2da9ced9df1c6e8567",
         "venue": "2019 IEEE 35th International Conference on Data Engineering (ICDE)",
         "year": 2019
        },
        {
         "arxivId": null,
         "authors": [
          {
           "authorId": "48016595",
           "name": "Hao Wang"
          },
          {
           "authorId": "40057270",
           "name": "Z. Qi"
          },
          {
           "authorId": "143680014",
           "name": "Hongwei Hao"
          },
          {
           "authorId": "49821282",
           "name": "Bo Xu"
          }
         ],
         "doi": "10.1007/978-3-662-45924-9_32",
         "intent": [
          "methodology"
         ],
         "isInfluential": false,
         "paperId": "6f0b32b1a1062c77e2fb2d7895030ffdd19f4011",
         "title": "A Hybrid Method for Chinese Entity Relation Extraction",
         "url": "https://www.semanticscholar.org/paper/6f0b32b1a1062c77e2fb2d7895030ffdd19f4011",
         "venue": "NLPCC",
         "year": 2014
        },
        {
         "arxivId": null,
         "authors": [
          {
           "authorId": "6897307",
           "name": "William Léchelle"
          },
          {
           "authorId": "1706916",
           "name": "P. Langlais"
          }
         ],
         "doi": null,
         "intent": [
          "background"
         ],
         "isInfluential": true,
         "paperId": "6143e3f7de9fcb0c94b2370ae1836132d5c46a27",
         "title": "Revisiting the Task of Scoring Open IE Relations",
         "url": "https://www.semanticscholar.org/paper/6143e3f7de9fcb0c94b2370ae1836132d5c46a27",
         "venue": "LREC",
         "year": 2018
        },
        {
         "arxivId": null,
         "authors": [
          {
           "authorId": "6600376",
           "name": "R. Vexler"
          },
          {
           "authorId": "1816914",
           "name": "E. Minkov"
          }
         ],
         "doi": "10.18653/v1/W16-2702",
         "intent": [
          "methodology",
          "background"
         ],
         "isInfluential": true,
         "paperId": "095b979ac75fc70468f6894369dae0bcfc564c21",
         "title": "Multi-source named entity typing for social media",
         "url": "https://www.semanticscholar.org/paper/095b979ac75fc70468f6894369dae0bcfc564c21",
         "venue": "NEWS@ACM",
         "year": 2016
        },
        {
         "arxivId": null,
         "authors": [
          {
           "authorId": "23767823",
           "name": "Saulo D. S. Pedro"
          },
          {
           "authorId": "2410276",
           "name": "A. P. Appel"
          },
          {
           "authorId": "1842532",
           "name": "Estevam R. Hruschka"
          }
         ],
         "doi": "10.1145/2487788.2488149",
         "intent": [
          "background"
         ],
         "isInfluential": false,
         "paperId": "0eafcc9b2a299261285d3e567875f39de7c6c5f6",
         "title": "Autonomously reviewing and validating the knowledge base of a never-ending learning system",
         "url": "https://www.semanticscholar.org/paper/0eafcc9b2a299261285d3e567875f39de7c6c5f6",
         "venue": "WWW '13 Companion",
         "year": 2013
        },
        {
         "arxivId": null,
         "authors": [
          {
           "authorId": "1678833",
           "name": "J. Piskorski"
          },
          {
           "authorId": "2481036",
           "name": "Vanni Zavarella"
          },
          {
           "authorId": "29526041",
           "name": "M. Atkinson"
          },
          {
           "authorId": "5283104",
           "name": "Marco Verile"
          }
         ],
         "doi": null,
         "intent": [],
         "isInfluential": false,
         "paperId": "3bf37601356e2e0fca995541a0f89fd5cc129b33",
         "title": "Timelines: Entity-centric Event Extraction from Online News",
         "url": "https://www.semanticscholar.org/paper/3bf37601356e2e0fca995541a0f89fd5cc129b33",
         "venue": "Text2Story@ECIR",
         "year": 2020
        },
        {
         "arxivId": null,
         "authors": [
          {
           "authorId": "36518812",
           "name": "Meilun Sheng"
          },
          {
           "authorId": "144059570",
           "name": "Lin Qiu"
          },
          {
           "authorId": "46740713",
           "name": "Chenyang Wu"
          },
          {
           "authorId": "7643792",
           "name": "H. Wang"
          },
          {
           "authorId": "1811427",
           "name": "Y. Yu"
          }
         ],
         "doi": "10.1007/978-3-642-54025-7_13",
         "intent": [],
         "isInfluential": false,
         "paperId": "bd09343dc2d22ac7bc6b1b0822c1daa397695a59",
         "title": "Effective Chinese Relation Extraction by Sentence Rolling and Candidate Ranking",
         "url": "https://www.semanticscholar.org/paper/bd09343dc2d22ac7bc6b1b0822c1daa397695a59",
         "venue": "CSWS",
         "year": 2013
        },
        {
         "arxivId": null,
         "authors": [
          {
           "authorId": "34974510",
           "name": "G. Siragusa"
          },
          {
           "authorId": "39418246",
           "name": "R. Nanda"
          },
          {
           "authorId": "143893075",
           "name": "Valeria de Paiva"
          },
          {
           "authorId": "49246337",
           "name": "Luigi Di Caro"
          }
         ],
         "doi": "10.1007/978-3-030-14401-2_17",
         "intent": [
          "methodology"
         ],
         "isInfluential": true,
         "paperId": "eaa8fdca5778a6bf4ecf996cfc60e522b9ed57fd",
         "title": "Relating Legal Entities via Open Information Extraction",
         "url": "https://www.semanticscholar.org/paper/eaa8fdca5778a6bf4ecf996cfc60e522b9ed57fd",
         "venue": "MTSR",
         "year": 2018
        },
        {
         "arxivId": "2009.07406",
         "authors": [
          {
           "authorId": "2369404",
           "name": "M. Kuo"
          },
          {
           "authorId": "3887469",
           "name": "Yaobo Liang"
          },
          {
           "authorId": "144906579",
           "name": "Lei Ji"
          },
          {
           "authorId": "46429989",
           "name": "N. Duan"
          },
          {
           "authorId": "24962156",
           "name": "Linjun Shou"
          },
          {
           "authorId": "50175330",
           "name": "Ming Gong"
          },
          {
           "authorId": "49490301",
           "name": "Peng Chen"
          }
         ],
         "doi": null,
         "intent": [
          "methodology"
         ],
         "isInfluential": false,
         "paperId": "10fa4beda10b3264f84304ba3ade0c4a24ccee7a",
         "title": "Tag and Correct: Question aware Open Information Extraction with Two-stage Decoding",
         "url": "https://www.semanticscholar.org/paper/10fa4beda10b3264f84304ba3ade0c4a24ccee7a",
         "venue": "ArXiv",
         "year": 2020
        },
        {
         "arxivId": null,
         "authors": [
          {
           "authorId": "2279691",
           "name": "L. Ramadier"
          }
         ],
         "doi": null,
         "intent": [],
         "isInfluential": false,
         "paperId": "0812cc28124aab6ab07e4fc2cd88f9bbc593c513",
         "title": "Indexation et apprentissage de termes et de relations à partir de comptes rendus de radiologie. (Indexation and learning of terms and relations from reports of radiology)",
         "url": "https://www.semanticscholar.org/paper/0812cc28124aab6ab07e4fc2cd88f9bbc593c513",
         "venue": "",
         "year": 2016
        },
        {
         "arxivId": null,
         "authors": [
          {
           "authorId": "38424153",
           "name": "D. Carvalho"
          },
          {
           "authorId": "145528474",
           "name": "André Freitas"
          },
          {
           "authorId": "37415621",
           "name": "J. Silva"
          }
         ],
         "doi": "10.1007/978-3-642-41242-4_31",
         "intent": [
          "methodology"
         ],
         "isInfluential": false,
         "paperId": "724b624eb6dd03aa60d68f189504e3fc0c3bfda7",
         "title": "Graphia: Extracting Contextual Relation Graphs from Text",
         "url": "https://www.semanticscholar.org/paper/724b624eb6dd03aa60d68f189504e3fc0c3bfda7",
         "venue": "ESWC",
         "year": 2013
        },
        {
         "arxivId": null,
         "authors": [
          {
           "authorId": "46996933",
           "name": "Sandra Collovini de Abreu"
          }
         ],
         "doi": null,
         "intent": [],
         "isInfluential": false,
         "paperId": "ed403d2ef506af668ad48c7f904d3a45af9b739b",
         "title": "PONTIFÍCIA UNIVERSIDADE CATÓLICA DO RIO GRANDE DO SUL FACULDADE DE INFORMÁTICA PROGRAMA DE PÓS-GRADUAÇÃO EM CIÊNCIA DA COMPUTAÇÃO Extração de Relações do Domínio de Organizações para o Português",
         "url": "https://www.semanticscholar.org/paper/ed403d2ef506af668ad48c7f904d3a45af9b739b",
         "venue": "",
         "year": 2014
        },
        {
         "arxivId": null,
         "authors": [
          {
           "authorId": "2621218",
           "name": "Sandro Bauer"
          },
          {
           "authorId": "144523372",
           "name": "Stephen Clark"
          },
          {
           "authorId": "2554988",
           "name": "L. Rimell"
          },
          {
           "authorId": "1686971",
           "name": "T. Graepel"
          }
         ],
         "doi": "10.1007/978-3-319-06028-6_62",
         "intent": [
          "methodology"
         ],
         "isInfluential": false,
         "paperId": "8e678796c396a0512c19c2c0038ee7d33603b92a",
         "title": "Learning a Theory of Marriage (and Other Relations) from a Web Corpus",
         "url": "https://www.semanticscholar.org/paper/8e678796c396a0512c19c2c0038ee7d33603b92a",
         "venue": "ECIR",
         "year": 2014
        },
        {
         "arxivId": null,
         "authors": [
          {
           "authorId": "38714222",
           "name": "A. Sow"
          },
          {
           "authorId": "32230107",
           "name": "J. Bourguet"
          }
         ],
         "doi": null,
         "intent": [
          "methodology"
         ],
         "isInfluential": false,
         "paperId": "2c64aa10d1a290e57fbc3468f5a1380d3a135d88",
         "title": "LooPings: a Look at Semantic Similarities",
         "url": "https://www.semanticscholar.org/paper/2c64aa10d1a290e57fbc3468f5a1380d3a135d88",
         "venue": "IWSW",
         "year": 2016
        },
        {
         "arxivId": null,
         "authors": [
          {
           "authorId": "3404336",
           "name": "N. Boldyrev"
          },
          {
           "authorId": "3115338",
           "name": "M. Spaniol"
          },
          {
           "authorId": "1751591",
           "name": "G. Weikum"
          }
         ],
         "doi": "10.1145/2908131.2908164",
         "intent": [
          "background"
         ],
         "isInfluential": false,
         "paperId": "3e9b3ac1e34129bb4cff007085ca1a7bef306a56",
         "title": "ACROSS: A framework for multi-cultural interlinking of web taxonomies",
         "url": "https://www.semanticscholar.org/paper/3e9b3ac1e34129bb4cff007085ca1a7bef306a56",
         "venue": "WebSci '16",
         "year": 2016
        },
        {
         "arxivId": null,
         "authors": [
          {
           "authorId": "144958935",
           "name": "Karthik Narasimhan"
          }
         ],
         "doi": null,
         "intent": [
          "methodology"
         ],
         "isInfluential": false,
         "paperId": "48091883137b6f7b756a3e57c677f667d1e207fa",
         "title": "Grounding natural language with autonomous interaction",
         "url": "https://www.semanticscholar.org/paper/48091883137b6f7b756a3e57c677f667d1e207fa",
         "venue": "",
         "year": 2017
        },
        {
         "arxivId": null,
         "authors": [
          {
           "authorId": "32238704",
           "name": "B. D. Mishra"
          },
          {
           "authorId": "1721168",
           "name": "Niket Tandon"
          },
          {
           "authorId": "143976087",
           "name": "P. Clark"
          }
         ],
         "doi": "10.1162/tacl_a_00058",
         "intent": [
          "methodology",
          "background"
         ],
         "isInfluential": true,
         "paperId": "c35b261f1fdca6cfa51abbe74c9cf942fc25d0e9",
         "title": "Domain-Targeted, High Precision Knowledge Extraction",
         "url": "https://www.semanticscholar.org/paper/c35b261f1fdca6cfa51abbe74c9cf942fc25d0e9",
         "venue": "Transactions of the Association for Computational Linguistics",
         "year": 2017
        },
        {
         "arxivId": null,
         "authors": [
          {
           "authorId": "35084211",
           "name": "M. Lewis"
          },
          {
           "authorId": "145332819",
           "name": "Mark Steedman"
          }
         ],
         "doi": "10.1162/tacl_a_00219",
         "intent": [
          "background"
         ],
         "isInfluential": false,
         "paperId": "3822f043d6288ada3bf05b4f4c649593dbc09c71",
         "title": "Combined Distributional and Logical Semantics",
         "url": "https://www.semanticscholar.org/paper/3822f043d6288ada3bf05b4f4c649593dbc09c71",
         "venue": "Transactions of the Association for Computational Linguistics",
         "year": 2013
        },
        {
         "arxivId": null,
         "authors": [
          {
           "authorId": "49578767",
           "name": "Benjamin Newsom"
          },
          {
           "authorId": "2687654",
           "name": "R. Mittu"
          },
          {
           "authorId": "25592887",
           "name": "C. Sibley"
          },
          {
           "authorId": "1789512",
           "name": "M. Abramson"
          }
         ],
         "doi": null,
         "intent": [
          "methodology"
         ],
         "isInfluential": false,
         "paperId": "300161013baddae1d39019d7fb6e46f834c7299d",
         "title": "Towards a Context-Aware Proactive Decision Support Framework",
         "url": "https://www.semanticscholar.org/paper/300161013baddae1d39019d7fb6e46f834c7299d",
         "venue": "STIDS",
         "year": 2013
        },
        {
         "arxivId": null,
         "authors": [
          {
           "authorId": "28048008",
           "name": "Yongxin Shen"
          },
          {
           "authorId": "3060853",
           "name": "Z. Li"
          },
          {
           "authorId": "49039248",
           "name": "Wenling Zhang"
          },
          {
           "authorId": "144806511",
           "name": "An Liu"
          },
          {
           "authorId": "1720932",
           "name": "X. Zhou"
          }
         ],
         "doi": "10.1007/978-3-319-96890-2_35",
         "intent": [],
         "isInfluential": false,
         "paperId": "a34b5ff0b542554f2831f41d509dfce56cc92a86",
         "title": "DAVE: Extracting Domain Attributes and Values from Text Corpus",
         "url": "https://www.semanticscholar.org/paper/a34b5ff0b542554f2831f41d509dfce56cc92a86",
         "venue": "APWeb/WAIM",
         "year": 2018
        },
        {
         "arxivId": null,
         "authors": [
          {
           "authorId": "8125500",
           "name": "Shengbin Jia"
          },
          {
           "authorId": "7825612",
           "name": "E. Shijia"
          },
          {
           "authorId": "1716059",
           "name": "M. Li"
          },
          {
           "authorId": "144608443",
           "name": "Yang Xiang"
          }
         ],
         "doi": "10.1145/3162077",
         "intent": [
          "background",
          "methodology"
         ],
         "isInfluential": true,
         "paperId": "3848900d69ba8575320201dd42f8f9264f477386",
         "title": "Chinese Open Relation Extraction and Knowledge Base Establishment",
         "url": "https://www.semanticscholar.org/paper/3848900d69ba8575320201dd42f8f9264f477386",
         "venue": "TALLIP",
         "year": 2018
        },
        {
         "arxivId": null,
         "authors": [
          {
           "authorId": "1783790",
           "name": "Tran-Thai Dang"
          },
          {
           "authorId": "8622752",
           "name": "Phetnidda Ouankhamchan"
          },
          {
           "authorId": "40299858",
           "name": "Tu-Bao Ho"
          }
         ],
         "doi": "10.1109/RIVF.2016.7800298",
         "intent": [],
         "isInfluential": false,
         "paperId": "f3af02c6647ca476a1686196c0a4f8edc10bc37c",
         "title": "Detection of new drug indications from electronic medical records",
         "url": "https://www.semanticscholar.org/paper/f3af02c6647ca476a1686196c0a4f8edc10bc37c",
         "venue": "2016 IEEE RIVF International Conference on Computing & Communication Technologies, Research, Innovation, and Vision for the Future (RIVF)",
         "year": 2016
        },
        {
         "arxivId": null,
         "authors": [
          {
           "authorId": "41150715",
           "name": "Kodai Sudo"
          },
          {
           "authorId": "50691438",
           "name": "A. Kato"
          },
          {
           "authorId": "3866609",
           "name": "V. Phi"
          },
          {
           "authorId": "73467110",
           "name": "Hiroyuki Shindo"
          },
          {
           "authorId": "1681502",
           "name": "Y. Matsumoto"
          }
         ],
         "doi": null,
         "intent": [
          "background"
         ],
         "isInfluential": false,
         "paperId": "821d418c33ac648c3d134682da86db320a270706",
         "title": "NAIST Participation in the TAC KBP 2016 Cold Start Slot Filling Task: Combining CNN-based and Bootstrapping-based Methods",
         "url": "https://www.semanticscholar.org/paper/821d418c33ac648c3d134682da86db320a270706",
         "venue": "TAC",
         "year": 2016
        },
        {
         "arxivId": null,
         "authors": [
          {
           "authorId": "35345881",
           "name": "Sreyasi Nag Chowdhury"
          }
         ],
         "doi": null,
         "intent": [
          "methodology"
         ],
         "isInfluential": false,
         "paperId": "bc6dd37a87f239ae2f76a65bfb770e93ec2866b4",
         "title": "Commonsense for Making Sense of Data",
         "url": "https://www.semanticscholar.org/paper/bc6dd37a87f239ae2f76a65bfb770e93ec2866b4",
         "venue": "PhD@VLDB",
         "year": 2016
        },
        {
         "arxivId": null,
         "authors": [
          {
           "authorId": "49334988",
           "name": "A. Kadry"
          },
          {
           "authorId": "145798497",
           "name": "Laura Dietz"
          }
         ],
         "doi": "10.1145/3077136.3080744",
         "intent": [
          "methodology"
         ],
         "isInfluential": false,
         "paperId": "01ecf64e5460a182866ca1a693681d4a281496a8",
         "title": "Open Relation Extraction for Support Passage Retrieval: Merit and Open Issues",
         "url": "https://www.semanticscholar.org/paper/01ecf64e5460a182866ca1a693681d4a281496a8",
         "venue": "SIGIR",
         "year": 2017
        },
        {
         "arxivId": null,
         "authors": [
          {
           "authorId": "30983481",
           "name": "Kenston Choi"
          },
          {
           "authorId": "32891998",
           "name": "De La Salle"
          }
         ],
         "doi": null,
         "intent": [
          "methodology"
         ],
         "isInfluential": false,
         "paperId": "01286699d779d0c5a6d64d6a511ac52a73a51645",
         "title": "A Preliminary Study of Finding Entailing Texts in a Domain-specific Monolingual Parallel Corpora",
         "url": "https://www.semanticscholar.org/paper/01286699d779d0c5a6d64d6a511ac52a73a51645",
         "venue": "",
         "year": 2011
        },
        {
         "arxivId": null,
         "authors": [
          {
           "authorId": "2204417",
           "name": "Kamel Nebhi"
          }
         ],
         "doi": null,
         "intent": [
          "background"
         ],
         "isInfluential": false,
         "paperId": "b97fa14919ae8bcf489101f51ccd3358debac9aa",
         "title": "A Rule-Based Relation Extraction System using DBpedia and Syntactic Parsing",
         "url": "https://www.semanticscholar.org/paper/b97fa14919ae8bcf489101f51ccd3358debac9aa",
         "venue": "NLP-DBPEDIA@ISWC",
         "year": 2013
        },
        {
         "arxivId": null,
         "authors": [
          {
           "authorId": "71551235",
           "name": "G. Sekar"
          },
          {
           "authorId": "71735500",
           "name": "Venkat Raghavan"
          }
         ],
         "doi": null,
         "intent": [
          "background"
         ],
         "isInfluential": false,
         "paperId": "f8ffb4021477700342fb2d797a9a8ca8e2ffdc3f",
         "title": "Deep Inside the Tables: Semantic Expressiveness of Semi-Structured Data",
         "url": "https://www.semanticscholar.org/paper/f8ffb4021477700342fb2d797a9a8ca8e2ffdc3f",
         "venue": "",
         "year": 2014
        },
        {
         "arxivId": null,
         "authors": [
          {
           "authorId": "71915956",
           "name": "Carlos Vicient Monllaó"
          }
         ],
         "doi": null,
         "intent": [],
         "isInfluential": false,
         "paperId": "dc2c0a2fcdaee961f0afeb83a57ec5f41e714dfc",
         "title": "Moving towards the semantic web: enabling new technologies through the semantic annotation of social contents.",
         "url": "https://www.semanticscholar.org/paper/dc2c0a2fcdaee961f0afeb83a57ec5f41e714dfc",
         "venue": "",
         "year": 2015
        },
        {
         "arxivId": null,
         "authors": [
          {
           "authorId": "1967982",
           "name": "A. C. Cardoso"
          },
          {
           "authorId": "90050052",
           "name": "Enzo Notario"
          },
          {
           "authorId": "145668175",
           "name": "M. Abelleira"
          }
         ],
         "doi": null,
         "intent": [
          "background"
         ],
         "isInfluential": true,
         "paperId": "8daef4b00c93f0d2417e7e3bef72b825f2e3b7ea",
         "title": "Extracción de relaciones para la búsqueda automática de respuestas",
         "url": "https://www.semanticscholar.org/paper/8daef4b00c93f0d2417e7e3bef72b825f2e3b7ea",
         "venue": "",
         "year": 2016
        },
        {
         "arxivId": null,
         "authors": [
          {
           "authorId": "49617533",
           "name": "P. Allen"
          }
         ],
         "doi": null,
         "intent": [
          "methodology"
         ],
         "isInfluential": false,
         "paperId": "c323538627b44e6627228c89aec98ad5d6cd4eda",
         "title": "OpenCeres : When Open Information Extraction Meets the Semi-Structured Web",
         "url": "https://www.semanticscholar.org/paper/c323538627b44e6627228c89aec98ad5d6cd4eda",
         "venue": "",
         "year": 2019
        },
        {
         "arxivId": null,
         "authors": [
          {
           "authorId": "5072734",
           "name": "Wentao Wu"
          },
          {
           "authorId": "1730603",
           "name": "Hongsong Li"
          },
          {
           "authorId": "1745000",
           "name": "Haixun Wang"
          },
          {
           "authorId": "1796651",
           "name": "Kenny Q. Zhu"
          }
         ],
         "doi": "10.1109/TKDE.2016.2619347",
         "intent": [],
         "isInfluential": false,
         "paperId": "0364141d6f16fa7118e513b98e06cce6488a6790",
         "title": "Semantic Bootstrapping: A Theoretical Perspective",
         "url": "https://www.semanticscholar.org/paper/0364141d6f16fa7118e513b98e06cce6488a6790",
         "venue": "2017 IEEE 33rd International Conference on Data Engineering (ICDE)",
         "year": 2017
        },
        {
         "arxivId": null,
         "authors": [
          {
           "authorId": "40635633",
           "name": "Leandro Souza de Oliveira"
          },
          {
           "authorId": "2592081",
           "name": "Daniela Barreiro Claro"
          }
         ],
         "doi": null,
         "intent": [
          "methodology"
         ],
         "isInfluential": false,
         "paperId": "61bc6841face45ed11a96ecc340fb6294aae4648",
         "title": "DptOIE: a portuguese Open Information Extraction system based on dependency analysis",
         "url": "https://www.semanticscholar.org/paper/61bc6841face45ed11a96ecc340fb6294aae4648",
         "venue": "",
         "year": 2019
        },
        {
         "arxivId": null,
         "authors": [
          {
           "authorId": "50141927",
           "name": "Xiaolan Wang"
          }
         ],
         "doi": null,
         "intent": [
          "methodology",
          "background"
         ],
         "isInfluential": false,
         "paperId": "8f0554981e0707ec490d3c91d6e0bb8c65ec1e20",
         "title": "Improving and understanding data quality in large-scale data systems",
         "url": "https://www.semanticscholar.org/paper/8f0554981e0707ec490d3c91d6e0bb8c65ec1e20",
         "venue": "",
         "year": 2019
        },
        {
         "arxivId": null,
         "authors": [],
         "doi": null,
         "intent": [
          "methodology"
         ],
         "isInfluential": false,
         "paperId": "fdea9c3d5c1afccdaac281e236765a8908c93d05",
         "title": "Bibliometrics, Time Series Analysis and SAO-based Approach for Technology Roadmapping of Emerging Technologies",
         "url": "https://www.semanticscholar.org/paper/fdea9c3d5c1afccdaac281e236765a8908c93d05",
         "venue": "",
         "year": 2017
        },
        {
         "arxivId": null,
         "authors": [
          {
           "authorId": "33945581",
           "name": "Chunyang Xiao"
          },
          {
           "authorId": "1684865",
           "name": "Guillaume Bouchard"
          },
          {
           "authorId": "2954698",
           "name": "Marc Dymetman"
          },
          {
           "authorId": "1794075",
           "name": "Claire Gardent"
          }
         ],
         "doi": "10.18653/v1/S16-2019",
         "intent": [],
         "isInfluential": true,
         "paperId": "3cfff5153817eb73898060e4d7df4393cbd096a3",
         "title": "Orthogonality regularizer for question answering",
         "url": "https://www.semanticscholar.org/paper/3cfff5153817eb73898060e4d7df4393cbd096a3",
         "venue": "*SEM@ACL",
         "year": 2016
        },
        {
         "arxivId": null,
         "authors": [
          {
           "authorId": "145867172",
           "name": "X. Dong"
          },
          {
           "authorId": "1718798",
           "name": "Evgeniy Gabrilovich"
          },
          {
           "authorId": "1728179",
           "name": "G. Heitz"
          },
          {
           "authorId": "40428294",
           "name": "Wilko Horn"
          },
          {
           "authorId": "1914797",
           "name": "N. Lao"
          },
          {
           "authorId": "1702318",
           "name": "Kevin Murphy"
          },
          {
           "authorId": "2931575",
           "name": "Thomas Strohmann"
          },
          {
           "authorId": "50414916",
           "name": "S. Sun"
          },
          {
           "authorId": "1726357",
           "name": "Wei Zhang"
          }
         ],
         "doi": "10.1145/2623330.2623623",
         "intent": [
          "methodology",
          "background"
         ],
         "isInfluential": true,
         "paperId": "cf5ea582bccc7cb21a2ebeb7a0987f79652bde8d",
         "title": "Knowledge vault: a web-scale approach to probabilistic knowledge fusion",
         "url": "https://www.semanticscholar.org/paper/cf5ea582bccc7cb21a2ebeb7a0987f79652bde8d",
         "venue": "KDD '14",
         "year": 2014
        },
        {
         "arxivId": null,
         "authors": [
          {
           "authorId": "98372921",
           "name": "Wen Xu"
          }
         ],
         "doi": "10.4028/www.scientific.net/AMM.599-601.543",
         "intent": [
          "background"
         ],
         "isInfluential": false,
         "paperId": "848f809be611439cd2bdbf9937a8fa286ac027cb",
         "title": "Data Flow Analysis on 3D Printing for Distributed Manufacturing Information System",
         "url": "https://www.semanticscholar.org/paper/848f809be611439cd2bdbf9937a8fa286ac027cb",
         "venue": "",
         "year": 2014
        },
        {
         "arxivId": null,
         "authors": [
          {
           "authorId": "49778167",
           "name": "Feichen Shen"
          },
          {
           "authorId": "48446624",
           "name": "Hongfang Liu"
          },
          {
           "authorId": "46705390",
           "name": "Sunghwan Sohn"
          },
          {
           "authorId": "143928758",
           "name": "D. Larson"
          },
          {
           "authorId": "1787659",
           "name": "Yugyung Lee"
          }
         ],
         "doi": null,
         "intent": [],
         "isInfluential": false,
         "paperId": "a0ae025ccc65212e48cd9c8c64561afb81f1443f",
         "title": "Biomedical Query Generator for Knowledge Discovery",
         "url": "https://www.semanticscholar.org/paper/a0ae025ccc65212e48cd9c8c64561afb81f1443f",
         "venue": "",
         "year": 2015
        },
        {
         "arxivId": null,
         "authors": [
          {
           "authorId": "3162795",
           "name": "Liangjun Zang"
          },
          {
           "authorId": "39470126",
           "name": "W. Wang"
          },
          {
           "authorId": "11319670",
           "name": "Y. Wang"
          },
          {
           "authorId": "36595248",
           "name": "Fang Fang"
          },
          {
           "authorId": "48319843",
           "name": "Cong Cao"
          },
          {
           "authorId": "145267646",
           "name": "X. Wu"
          },
          {
           "authorId": "1777110",
           "name": "Qi Zhou"
          },
          {
           "authorId": "104252153",
           "name": "Y. Lu"
          },
          {
           "authorId": "34559737",
           "name": "Tingyu Li"
          },
          {
           "authorId": "1712626",
           "name": "C. Cao"
          }
         ],
         "doi": "10.1007/978-3-319-25159-2_25",
         "intent": [],
         "isInfluential": false,
         "paperId": "00619fb2eddb6d68fb49b4add17979a82d40b7ba",
         "title": "A Chinese Framework of Semantic Taxonomy and Description: Preliminary Experimental Evaluation Using Web Information Extraction",
         "url": "https://www.semanticscholar.org/paper/00619fb2eddb6d68fb49b4add17979a82d40b7ba",
         "venue": "KSEM",
         "year": 2015
        },
        {
         "arxivId": null,
         "authors": [
          {
           "authorId": "144637335",
           "name": "Mohamed Yahya"
          },
          {
           "authorId": "1806397",
           "name": "K. Berberich"
          },
          {
           "authorId": "1863248",
           "name": "Shady Elbassuoni"
          },
          {
           "authorId": "1680366",
           "name": "Maya Ramanath"
          },
          {
           "authorId": "1700754",
           "name": "Volker Tresp"
          },
          {
           "authorId": "1751591",
           "name": "G. Weikum"
          }
         ],
         "doi": null,
         "intent": [
          "methodology"
         ],
         "isInfluential": false,
         "paperId": "c1052027ddbacc24fc4a244d2c073f86aca62747",
         "title": "Natural Language Questions for the Web of Data",
         "url": "https://www.semanticscholar.org/paper/c1052027ddbacc24fc4a244d2c073f86aca62747",
         "venue": "EMNLP-CoNLL",
         "year": 2012
        },
        {
         "arxivId": null,
         "authors": [
          {
           "authorId": "1695463",
           "name": "D. Marcu"
          },
          {
           "authorId": "3259253",
           "name": "Kristina Toutanova"
          },
          {
           "authorId": "1715943",
           "name": "Hua Wu"
          },
          {
           "authorId": "145542037",
           "name": "Alexander Koller"
          },
          {
           "authorId": "67337974",
           "name": "Miyao Yusuke"
          },
          {
           "authorId": "1693517",
           "name": "David Yarowsky"
          },
          {
           "authorId": null,
           "name": "Priscilla Rassmussen"
          },
          {
           "authorId": "2700917",
           "name": "E. Kochmar"
          },
          {
           "authorId": "1763916",
           "name": "Jordan L. Boyd-Graber"
          },
          {
           "authorId": null,
           "name": "Gabor Angeli"
          },
          {
           "authorId": "31565315",
           "name": "Chris Biemann"
          },
          {
           "authorId": "46244276",
           "name": "Tu Darmstadt"
          },
          {
           "authorId": "145688734",
           "name": "Shu Cai"
          },
          {
           "authorId": "145633389",
           "name": "J. Henderson"
          },
          {
           "authorId": null,
           "name": "Beata Klebanov-Biegman"
          },
          {
           "authorId": null,
           "name": "Jonathan Kummerfeld"
          },
          {
           "authorId": "32022814",
           "name": "T. Meyer"
          },
          {
           "authorId": "1443795204",
           "name": "Google"
          },
          {
           "authorId": "113621104",
           "name": "Meg Mitchell"
          },
          {
           "authorId": "1702447",
           "name": "Owen Rambow"
          },
          {
           "authorId": "1739099",
           "name": "J. Tetreault"
          },
          {
           "authorId": "69427557",
           "name": "Yahoo Labs"
          },
          {
           "authorId": "48782731",
           "name": "J. Williams"
          },
          {
           "authorId": "2347338",
           "name": "Vincent Letard"
          },
          {
           "authorId": "1769888",
           "name": "S. Rosset"
          },
          {
           "authorId": "1392167820",
           "name": "G."
          },
          {
           "authorId": "2020244",
           "name": "Dongchen Li"
          },
          {
           "authorId": "8442998",
           "name": "Xiantao Zhang"
          },
          {
           "authorId": "1409529246",
           "name": "Xihong"
          },
          {
           "authorId": "46651601",
           "name": "C. Li"
          },
          {
           "authorId": "1409519745",
           "name": "Y."
          },
          {
           "authorId": "49224403",
           "name": "Gabriel Illouz"
          },
          {
           "authorId": "51012026",
           "name": "X. Wu"
          },
          {
           "authorId": "38206031",
           "name": "C. Greenberg"
          },
          {
           "authorId": "1391142809",
           "name": "Monday"
          },
          {
           "authorId": "1684668",
           "name": "Alisa Zhila"
          },
          {
           "authorId": null,
           "name": "Alexander Gelbukh"
          },
          {
           "authorId": "47909156",
           "name": "Y. Liu"
          },
          {
           "authorId": null,
           "name": "Daniel Beck"
          }
         ],
         "doi": null,
         "intent": [],
         "isInfluential": false,
         "paperId": "f6dd681a34ab175aa5dc319780ee3b29681a6590",
         "title": "Towards a Discourse Relation-aware Approach for Chinese-english Machine Translation a Mapping-based Approach for General Formal Human Computer Interaction Using Natural Language Learning Grammar with Explicit Annotations for Subordinating Conjunctions Multi-document Summarization Using Distortion-ra",
         "url": "https://www.semanticscholar.org/paper/f6dd681a34ab175aa5dc319780ee3b29681a6590",
         "venue": "",
         "year": null
        },
        {
         "arxivId": null,
         "authors": [
          {
           "authorId": "92089600",
           "name": "Gonçalo Carnaz"
          },
          {
           "authorId": "1792648",
           "name": "P. Quaresma"
          },
          {
           "authorId": "2560362",
           "name": "V. Nogueira"
          },
          {
           "authorId": "2281413",
           "name": "M. Antunes"
          },
          {
           "authorId": "143946978",
           "name": "N. M. Ferreira"
          }
         ],
         "doi": "10.1007/978-3-030-16181-1_47",
         "intent": [],
         "isInfluential": false,
         "paperId": "a5fd115c201eb78bdf862d5ac95e5f1d6b2a82af",
         "title": "A Review on Relations Extraction in Police Reports",
         "url": "https://www.semanticscholar.org/paper/a5fd115c201eb78bdf862d5ac95e5f1d6b2a82af",
         "venue": "WorldCIST",
         "year": 2019
        },
        {
         "arxivId": null,
         "authors": [
          {
           "authorId": "39517968",
           "name": "Yufang Hou"
          }
         ],
         "doi": null,
         "intent": [
          "background"
         ],
         "isInfluential": false,
         "paperId": "7efe7808a2ca4852ae25c41c1e06ea8b24653b35",
         "title": "Incremental Fine-grained Information Status Classification Using Attention-based LSTMs",
         "url": "https://www.semanticscholar.org/paper/7efe7808a2ca4852ae25c41c1e06ea8b24653b35",
         "venue": "COLING",
         "year": 2016
        },
        {
         "arxivId": null,
         "authors": [
          {
           "authorId": "2157025",
           "name": "Gabriel Stanovsky"
          },
          {
           "authorId": "7465342",
           "name": "I. Dagan"
          }
         ],
         "doi": "10.18653/v1/D16-1252",
         "intent": [
          "background",
          "methodology"
         ],
         "isInfluential": true,
         "paperId": "a32d7aba28ce9f130934b8e892df5bf2cad97e21",
         "title": "Creating a Large Benchmark for Open Information Extraction",
         "url": "https://www.semanticscholar.org/paper/a32d7aba28ce9f130934b8e892df5bf2cad97e21",
         "venue": "EMNLP",
         "year": 2016
        },
        {
         "arxivId": null,
         "authors": [
          {
           "authorId": "36231591",
           "name": "M. A. Bashar"
          },
          {
           "authorId": "34721045",
           "name": "Y. Li"
          }
         ],
         "doi": "10.1007/s10618-018-0556-z",
         "intent": [
          "methodology"
         ],
         "isInfluential": false,
         "paperId": "91e7c319207d0a253f9670beacd661cbcb9d34aa",
         "title": "Interpretation of text patterns",
         "url": "https://www.semanticscholar.org/paper/91e7c319207d0a253f9670beacd661cbcb9d34aa",
         "venue": "Data Mining and Knowledge Discovery",
         "year": 2018
        },
        {
         "arxivId": "1511.02669",
         "authors": [
          {
           "authorId": "2961187",
           "name": "A. Groza"
          },
          {
           "authorId": "29697257",
           "name": "R. Szabo"
          }
         ],
         "doi": "10.1109/CINTI.2015.7382926",
         "intent": [],
         "isInfluential": false,
         "paperId": "ac6e85edea5031f5dcd54747e580d557f85e3929",
         "title": "Enacting textual entailment and ontologies for automated essay grading in chemical domain",
         "url": "https://www.semanticscholar.org/paper/ac6e85edea5031f5dcd54747e580d557f85e3929",
         "venue": "2015 16th IEEE International Symposium on Computational Intelligence and Informatics (CINTI)",
         "year": 2015
        },
        {
         "arxivId": null,
         "authors": [
          {
           "authorId": "50125869",
           "name": "Y. Xu"
          },
          {
           "authorId": "1719843",
           "name": "M. Kim"
          },
          {
           "authorId": "145435461",
           "name": "K. Quinn"
          },
          {
           "authorId": "40072782",
           "name": "R. Goebel"
          },
          {
           "authorId": "145690522",
           "name": "Denilson Barbosa"
          }
         ],
         "doi": null,
         "intent": [
          "background",
          "result",
          "methodology"
         ],
         "isInfluential": true,
         "paperId": "b04e3d829cec0d98224b73560b2bf27586523e48",
         "title": "Open Information Extraction with Tree Kernels",
         "url": "https://www.semanticscholar.org/paper/b04e3d829cec0d98224b73560b2bf27586523e48",
         "venue": "HLT-NAACL",
         "year": 2013
        },
        {
         "arxivId": null,
         "authors": [
          {
           "authorId": "48133634",
           "name": "A. Alamri"
          },
          {
           "authorId": "144795097",
           "name": "Mark Stevenson"
          }
         ],
         "doi": "10.1109/BIBM.2015.7359808",
         "intent": [],
         "isInfluential": false,
         "paperId": "e2fdd671916d20323623562dc016fdf7dccca93e",
         "title": "Automatic identification of potentially contradictory claims to support systematic reviews",
         "url": "https://www.semanticscholar.org/paper/e2fdd671916d20323623562dc016fdf7dccca93e",
         "venue": "2015 IEEE International Conference on Bioinformatics and Biomedicine (BIBM)",
         "year": 2015
        },
        {
         "arxivId": null,
         "authors": [
          {
           "authorId": "145201126",
           "name": "X. Ren"
          },
          {
           "authorId": "50101880",
           "name": "W. He"
          },
          {
           "authorId": "1398503968",
           "name": "Ahmed El-Kishky"
          },
          {
           "authorId": "1817166",
           "name": "Clare R. Voss"
          },
          {
           "authorId": "144016781",
           "name": "Heng Ji"
          },
          {
           "authorId": "35955224",
           "name": "Meng Qu"
          },
          {
           "authorId": "145325584",
           "name": "Jiawei Han"
          }
         ],
         "doi": null,
         "intent": [
          "background"
         ],
         "isInfluential": false,
         "paperId": "fb7c42274d4abf531defad91b7e0f5a362bfcca2",
         "title": "Entity Typing : A Critical Step for Mining Structures from Massive Unstructured Text",
         "url": "https://www.semanticscholar.org/paper/fb7c42274d4abf531defad91b7e0f5a362bfcca2",
         "venue": "",
         "year": 2016
        },
        {
         "arxivId": "1703.04213",
         "authors": [
          {
           "authorId": "144812586",
           "name": "Meng Jiang"
          },
          {
           "authorId": "2884976",
           "name": "Jingbo Shang"
          },
          {
           "authorId": "1739186",
           "name": "T. Cassidy"
          },
          {
           "authorId": "145201124",
           "name": "Xiang Ren"
          },
          {
           "authorId": "1795727",
           "name": "Lance M. Kaplan"
          },
          {
           "authorId": "9919152",
           "name": "T. Hanratty"
          },
          {
           "authorId": "145325584",
           "name": "Jiawei Han"
          }
         ],
         "doi": "10.1145/3097983.3098105",
         "intent": [
          "background"
         ],
         "isInfluential": false,
         "paperId": "c0d493befc368392a51a4f975aa4c271b2cebb0a",
         "title": "MetaPAD: Meta Pattern Discovery from Massive Text Corpora",
         "url": "https://www.semanticscholar.org/paper/c0d493befc368392a51a4f975aa4c271b2cebb0a",
         "venue": "KDD",
         "year": 2017
        },
        {
         "arxivId": null,
         "authors": [
          {
           "authorId": "2769805",
           "name": "Omri Abend"
          },
          {
           "authorId": "40146204",
           "name": "Shay B. Cohen"
          },
          {
           "authorId": "145332819",
           "name": "Mark Steedman"
          }
         ],
         "doi": "10.3115/v1/P14-1061",
         "intent": [
          "methodology"
         ],
         "isInfluential": true,
         "paperId": "c7d24119164b4408e9fe767019bb8b2f1a259a01",
         "title": "Lexical Inference over Multi-Word Predicates: A Distributional Approach",
         "url": "https://www.semanticscholar.org/paper/c7d24119164b4408e9fe767019bb8b2f1a259a01",
         "venue": "ACL",
         "year": 2014
        },
        {
         "arxivId": null,
         "authors": [
          {
           "authorId": "66010484",
           "name": "M. VeeraPrathapReddy"
          },
          {
           "authorId": "66181613",
           "name": "Prasad P.V.R.D"
          },
          {
           "authorId": "65871275",
           "name": "Manjunath Chikkamath"
          },
          {
           "authorId": "2477990",
           "name": "Karthikeyan Ponnalagu"
          }
         ],
         "doi": "10.14445/22312803/ijctt-v60p121",
         "intent": [
          "methodology"
         ],
         "isInfluential": true,
         "paperId": "9cf95943e65dd95156fdf365007caea14fec0d27",
         "title": "Extracting Conjunction Patterns in Relation Triplets from Complex Requirement Sentence",
         "url": "https://www.semanticscholar.org/paper/9cf95943e65dd95156fdf365007caea14fec0d27",
         "venue": "",
         "year": 2018
        },
        {
         "arxivId": null,
         "authors": [
          {
           "authorId": "2795219",
           "name": "Keenon Werling"
          }
         ],
         "doi": null,
         "intent": [
          "background"
         ],
         "isInfluential": false,
         "paperId": "693b6570bd154bbea6142d9d3b3b3d2f7de3345e",
         "title": "A Kernel of Truth",
         "url": "https://www.semanticscholar.org/paper/693b6570bd154bbea6142d9d3b3b3d2f7de3345e",
         "venue": "",
         "year": 2013
        },
        {
         "arxivId": null,
         "authors": [
          {
           "authorId": "1727837",
           "name": "Enrique Alfonseca"
          },
          {
           "authorId": "2726534",
           "name": "Daniele Pighin"
          },
          {
           "authorId": "143944406",
           "name": "Guillermo Garrido"
          }
         ],
         "doi": null,
         "intent": [
          "background"
         ],
         "isInfluential": false,
         "paperId": "0888091bb5a7e7e18ace5ccc79aa661bfe39184b",
         "title": "HEADY: News headline abstraction through event pattern clustering",
         "url": "https://www.semanticscholar.org/paper/0888091bb5a7e7e18ace5ccc79aa661bfe39184b",
         "venue": "ACL",
         "year": 2013
        },
        {
         "arxivId": null,
         "authors": [
          {
           "authorId": "48732437",
           "name": "Vincent Kríz"
          },
          {
           "authorId": "1963585",
           "name": "Barbora Hladká"
          },
          {
           "authorId": "1742854",
           "name": "M. Necaský"
          },
          {
           "authorId": "3490206",
           "name": "T. Knap"
          }
         ],
         "doi": "10.1007/978-3-319-13647-9_13",
         "intent": [],
         "isInfluential": false,
         "paperId": "2b2b0f6a3fa2dbe4eb2d553e28bca2b37ba86ba6",
         "title": "Data Extraction Using NLP Techniques and Its Transformation to Linked Data",
         "url": "https://www.semanticscholar.org/paper/2b2b0f6a3fa2dbe4eb2d553e28bca2b37ba86ba6",
         "venue": "MICAI",
         "year": 2014
        },
        {
         "arxivId": null,
         "authors": [
          {
           "authorId": "145887757",
           "name": "Islam A. Hassan"
          },
          {
           "authorId": "3048233",
           "name": "Adegboyega K. Ojo"
          },
          {
           "authorId": "3225923",
           "name": "Lukasz Porwol"
          }
         ],
         "doi": "10.1007/978-3-319-27237-5_14",
         "intent": [],
         "isInfluential": false,
         "paperId": "d24b0cec2debca787147ebcd5fc95db50566c4ae",
         "title": "A Lexical Resource for Identifying Public Services Names on the Social Web",
         "url": "https://www.semanticscholar.org/paper/d24b0cec2debca787147ebcd5fc95db50566c4ae",
         "venue": "Social Media for Government Services",
         "year": 2015
        },
        {
         "arxivId": null,
         "authors": [
          {
           "authorId": "2924903",
           "name": "Seyed Iman Mirrezaei"
          },
          {
           "authorId": "144694868",
           "name": "Bruno Martins"
          },
          {
           "authorId": "143682244",
           "name": "I. Cruz"
          }
         ],
         "doi": "10.1007/978-3-319-25639-9_39",
         "intent": [
          "background",
          "methodology"
         ],
         "isInfluential": false,
         "paperId": "af1ca7019099f0b371df09ac0ccf955d3fa42075",
         "title": "The Triplex Approach for Recognizing Semantic Relations from Noun Phrases, Appositions, and Adjectives",
         "url": "https://www.semanticscholar.org/paper/af1ca7019099f0b371df09ac0ccf955d3fa42075",
         "venue": "KNOW@LOD",
         "year": 2015
        },
        {
         "arxivId": null,
         "authors": [
          {
           "authorId": "3213962",
           "name": "Adam Grycner"
          },
          {
           "authorId": "1751591",
           "name": "G. Weikum"
          },
          {
           "authorId": "2634786",
           "name": "J. Pujara"
          },
          {
           "authorId": "40289577",
           "name": "J. Foulds"
          },
          {
           "authorId": "1746034",
           "name": "L. Getoor"
          }
         ],
         "doi": "10.18653/v1/D15-1113",
         "intent": [
          "background"
         ],
         "isInfluential": false,
         "paperId": "5340f78a76e843363cb7c76824ee4c91e864e67d",
         "title": "RELLY: Inferring Hypernym Relationships Between Relational Phrases",
         "url": "https://www.semanticscholar.org/paper/5340f78a76e843363cb7c76824ee4c91e864e67d",
         "venue": "EMNLP",
         "year": 2015
        },
        {
         "arxivId": null,
         "authors": [
          {
           "authorId": "1776064",
           "name": "Cheikh Kacfah Emani"
          },
          {
           "authorId": "143924526",
           "name": "C. Silva"
          },
          {
           "authorId": "1724451",
           "name": "B. Fiés"
          },
          {
           "authorId": "71300895",
           "name": "P. Ghodous"
          }
         ],
         "doi": "10.1007/978-3-662-49521-6_6",
         "intent": [
          "methodology",
          "background"
         ],
         "isInfluential": true,
         "paperId": "b53dcbd6ef0ec429d2f5f0163f93d736958ee1ed",
         "title": "Improving Open Information Extraction for Semantic Web Tasks",
         "url": "https://www.semanticscholar.org/paper/b53dcbd6ef0ec429d2f5f0163f93d736958ee1ed",
         "venue": "Trans. Comput. Collect. Intell.",
         "year": 2016
        },
        {
         "arxivId": null,
         "authors": [
          {
           "authorId": "11240488",
           "name": "Qiuzi Zhang"
          },
          {
           "authorId": "2283732",
           "name": "Qikai Cheng"
          },
          {
           "authorId": "40381175",
           "name": "Y. Huang"
          },
          {
           "authorId": "41206815",
           "name": "W. Lu"
          }
         ],
         "doi": "10.20309/jdis.201606",
         "intent": [],
         "isInfluential": false,
         "paperId": "5f47e42605dbefa91a5f263f07e9e96c0718d731",
         "title": "A Bootstrapping-based Method to Automatically Identify Data-usage Statements in Publications",
         "url": "https://www.semanticscholar.org/paper/5f47e42605dbefa91a5f263f07e9e96c0718d731",
         "venue": "",
         "year": 2016
        },
        {
         "arxivId": null,
         "authors": [
          {
           "authorId": "2551334",
           "name": "Chaveevan Pechsiri"
          },
          {
           "authorId": "2969437",
           "name": "Uraiwan Janviriyasopak"
          }
         ],
         "doi": null,
         "intent": [
          "methodology",
          "background"
         ],
         "isInfluential": true,
         "paperId": "90486491e183a544c48e2b1bd83461a1e99d8826",
         "title": "Extraction of Explanation Based Symptom-Treatment Relation from Texts",
         "url": "https://www.semanticscholar.org/paper/90486491e183a544c48e2b1bd83461a1e99d8826",
         "venue": "",
         "year": 2016
        },
        {
         "arxivId": "1606.05699",
         "authors": [
          {
           "authorId": "49680838",
           "name": "Lu Wang"
          },
          {
           "authorId": "1748501",
           "name": "Claire Cardie"
          },
          {
           "authorId": "2932377",
           "name": "G. Marchetti"
          }
         ],
         "doi": "10.3115/v1/N15-1112",
         "intent": [
          "methodology"
         ],
         "isInfluential": false,
         "paperId": "9b675bf14cb0455d56db9dda8b4eec53478f8537",
         "title": "Socially-Informed Timeline Generation for Complex Events",
         "url": "https://www.semanticscholar.org/paper/9b675bf14cb0455d56db9dda8b4eec53478f8537",
         "venue": "HLT-NAACL",
         "year": 2015
        },
        {
         "arxivId": null,
         "authors": [
          {
           "authorId": "49633004",
           "name": "I. Ceylan"
          },
          {
           "authorId": "1700031",
           "name": "Adnan Darwiche"
          },
          {
           "authorId": "1749506",
           "name": "Guy Van den Broeck"
          }
         ],
         "doi": null,
         "intent": [
          "background"
         ],
         "isInfluential": false,
         "paperId": "3fc27e5945aeb65c126325d2bfd4b43c8aab08e8",
         "title": "Open-World Probabilistic Databases",
         "url": "https://www.semanticscholar.org/paper/3fc27e5945aeb65c126325d2bfd4b43c8aab08e8",
         "venue": "KR",
         "year": 2016
        },
        {
         "arxivId": null,
         "authors": [
          {
           "authorId": "2837887",
           "name": "Jordan Schmidek"
          },
          {
           "authorId": "145690522",
           "name": "Denilson Barbosa"
          }
         ],
         "doi": null,
         "intent": [
          "methodology"
         ],
         "isInfluential": false,
         "paperId": "757f3144cfbec886a8ddf1c87da9dcdaab9cccee",
         "title": "Improving Open Relation Extraction via Sentence Re-Structuring",
         "url": "https://www.semanticscholar.org/paper/757f3144cfbec886a8ddf1c87da9dcdaab9cccee",
         "venue": "LREC",
         "year": 2014
        },
        {
         "arxivId": null,
         "authors": [
          {
           "authorId": "38772597",
           "name": "C. Arora"
          },
          {
           "authorId": "2416077",
           "name": "M. Sabetzadeh"
          },
          {
           "authorId": "1722904",
           "name": "L. Briand"
          },
          {
           "authorId": "144084779",
           "name": "F. Zimmer"
          }
         ],
         "doi": "10.1145/2976767.2976769",
         "intent": [
          "background"
         ],
         "isInfluential": false,
         "paperId": "a5092afc0083adf3a1082e508e167e6ceaa358d1",
         "title": "Extracting domain models from natural-language requirements: approach and industrial evaluation",
         "url": "https://www.semanticscholar.org/paper/a5092afc0083adf3a1082e508e167e6ceaa358d1",
         "venue": "MODELS '16",
         "year": 2016
        },
        {
         "arxivId": "1704.00205",
         "authors": [
          {
           "authorId": "144525193",
           "name": "Shuo Han"
          },
          {
           "authorId": "46864789",
           "name": "L. Zou"
          },
          {
           "authorId": "65851197",
           "name": "J. Yu"
          },
          {
           "authorId": "144060462",
           "name": "Dongyan Zhao"
          }
         ],
         "doi": "10.1145/3132847.3132957",
         "intent": [
          "methodology",
          "background"
         ],
         "isInfluential": false,
         "paperId": "401f918176254d39652e5e98b280d3155b3b79c3",
         "title": "Keyword Search on RDF Graphs - A Query Graph Assembly Approach",
         "url": "https://www.semanticscholar.org/paper/401f918176254d39652e5e98b280d3155b3b79c3",
         "venue": "CIKM",
         "year": 2017
        },
        {
         "arxivId": null,
         "authors": [
          {
           "authorId": "1724629",
           "name": "Marius Pasca"
          }
         ],
         "doi": null,
         "intent": [
          "background"
         ],
         "isInfluential": false,
         "paperId": "dc2d3b67dd94dc68876d38a3fb3502b615b6774b",
         "title": "Open-Domain Fine-Grained Class Extraction from Web Search Queries",
         "url": "https://www.semanticscholar.org/paper/dc2d3b67dd94dc68876d38a3fb3502b615b6774b",
         "venue": "EMNLP",
         "year": 2013
        },
        {
         "arxivId": null,
         "authors": [
          {
           "authorId": "145201124",
           "name": "Xiang Ren"
          },
          {
           "authorId": "1398503968",
           "name": "Ahmed El-Kishky"
          },
          {
           "authorId": "93721348",
           "name": "C. Wang"
          },
          {
           "authorId": "153034701",
           "name": "Jiawei Han"
          }
         ],
         "doi": "10.1145/2872518.2891065",
         "intent": [],
         "isInfluential": false,
         "paperId": "138ae0d2bad191ba45ac898db09ce88ffbc1ef80",
         "title": "Automatic Entity Recognition and Typing in Massive Text Corpora",
         "url": "https://www.semanticscholar.org/paper/138ae0d2bad191ba45ac898db09ce88ffbc1ef80",
         "venue": "WWW",
         "year": 2016
        },
        {
         "arxivId": "1804.03317",
         "authors": [
          {
           "authorId": "51281403",
           "name": "Y. Qu"
          },
          {
           "authorId": "49722516",
           "name": "J. Liu"
          },
          {
           "authorId": "51282422",
           "name": "Liangyi Kang"
          },
          {
           "authorId": "3177281",
           "name": "Qinfeng Shi"
          },
          {
           "authorId": "143703922",
           "name": "D. Ye"
          }
         ],
         "doi": null,
         "intent": [],
         "isInfluential": false,
         "paperId": "6a0266b1029c398053f4aa9f99b5f0526f31791c",
         "title": "Question Answering over Freebase via Attentive RNN with Similarity Matrix based CNN",
         "url": "https://www.semanticscholar.org/paper/6a0266b1029c398053f4aa9f99b5f0526f31791c",
         "venue": "ArXiv",
         "year": 2018
        },
        {
         "arxivId": null,
         "authors": [
          {
           "authorId": "39656339",
           "name": "Zhongping Liang"
          },
          {
           "authorId": "2006373",
           "name": "C. Yuan"
          },
          {
           "authorId": "145344812",
           "name": "B. Leng"
          },
          {
           "authorId": "1680068",
           "name": "X. Wang"
          }
         ],
         "doi": "10.1007/978-3-319-25207-0_26",
         "intent": [],
         "isInfluential": false,
         "paperId": "c014835a062fb316ce362fd54cdd16a744f55dfd",
         "title": "Recognition of Person Relation Indicated by Predicates",
         "url": "https://www.semanticscholar.org/paper/c014835a062fb316ce362fd54cdd16a744f55dfd",
         "venue": "NLPCC",
         "year": 2015
        },
        {
         "arxivId": null,
         "authors": [
          {
           "authorId": "143862204",
           "name": "Benjamin Roth"
          }
         ],
         "doi": "10.22028/D291-26592",
         "intent": [],
         "isInfluential": false,
         "paperId": "0f53024cffd764322d4af95a6f34ed8b9a60d0a4",
         "title": "Effective distant supervision for end-to-end knowledge base population systems",
         "url": "https://www.semanticscholar.org/paper/0f53024cffd764322d4af95a6f34ed8b9a60d0a4",
         "venue": "",
         "year": 2014
        },
        {
         "arxivId": null,
         "authors": [
          {
           "authorId": "144536646",
           "name": "R. Sun"
          },
          {
           "authorId": "48378565",
           "name": "Yue Zhang"
          },
          {
           "authorId": "2678094",
           "name": "Meishan Zhang"
          },
          {
           "authorId": "1719916",
           "name": "D. Ji"
          }
         ],
         "doi": "10.3115/v1/P15-1045",
         "intent": [
          "background"
         ],
         "isInfluential": true,
         "paperId": "21016fd15568b8bc4b4b37e2ae59bcf324e6349e",
         "title": "Event-Driven Headline Generation",
         "url": "https://www.semanticscholar.org/paper/21016fd15568b8bc4b4b37e2ae59bcf324e6349e",
         "venue": "ACL",
         "year": 2015
        },
        {
         "arxivId": null,
         "authors": [
          {
           "authorId": "35539899",
           "name": "Qiuhao Lu"
          },
          {
           "authorId": "1752303",
           "name": "Youtian Du"
          }
         ],
         "doi": "10.1109/ICDAR.2017.130",
         "intent": [
          "methodology"
         ],
         "isInfluential": false,
         "paperId": "8abe9a27e348b709994c41516dae83f7c65f2caa",
         "title": "Wikipedia-Based Entity Semantifying in Open Information Extraction",
         "url": "https://www.semanticscholar.org/paper/8abe9a27e348b709994c41516dae83f7c65f2caa",
         "venue": "2017 14th IAPR International Conference on Document Analysis and Recognition (ICDAR)",
         "year": 2017
        },
        {
         "arxivId": null,
         "authors": [
          {
           "authorId": "143640910",
           "name": "F. Gutierrez"
          },
          {
           "authorId": "1721158",
           "name": "D. Dou"
          },
          {
           "authorId": "40273954",
           "name": "Nisansa de Silva"
          },
          {
           "authorId": "144181288",
           "name": "S. Fickas"
          }
         ],
         "doi": "10.1007/s13740-017-0079-6",
         "intent": [],
         "isInfluential": false,
         "paperId": "5de6905fe37babeb6654c83fcf690edf819bce66",
         "title": "Online Reasoning for Semantic Error Detection in Text",
         "url": "https://www.semanticscholar.org/paper/5de6905fe37babeb6654c83fcf690edf819bce66",
         "venue": "Journal on Data Semantics",
         "year": 2017
        },
        {
         "arxivId": null,
         "authors": [
          {
           "authorId": "51012277",
           "name": "Callum J. Court"
          },
          {
           "authorId": "4145599",
           "name": "J. Cole"
          }
         ],
         "doi": "10.1038/sdata.2018.111",
         "intent": [],
         "isInfluential": false,
         "paperId": "825546fd7a3c942b51174460e2549aba09ecaa8b",
         "title": "Auto-generated materials database of Curie and Néel temperatures via semi-supervised relationship extraction",
         "url": "https://www.semanticscholar.org/paper/825546fd7a3c942b51174460e2549aba09ecaa8b",
         "venue": "Scientific data",
         "year": 2018
        },
        {
         "arxivId": null,
         "authors": [
          {
           "authorId": "11170094",
           "name": "Christopher J. Thomas"
          }
         ],
         "doi": null,
         "intent": [
          "background"
         ],
         "isInfluential": false,
         "paperId": "5acb1b2646979aee2fcd816acf9d5d8fdd927a37",
         "title": "Knowledge Acquisition in a System",
         "url": "https://www.semanticscholar.org/paper/5acb1b2646979aee2fcd816acf9d5d8fdd927a37",
         "venue": "",
         "year": 2012
        },
        {
         "arxivId": null,
         "authors": [
          {
           "authorId": "17305190",
           "name": "Cleiton Fernando Lima Sena"
          },
          {
           "authorId": "40129897",
           "name": "R. Glauber"
          },
          {
           "authorId": "2592081",
           "name": "Daniela Barreiro Claro"
          }
         ],
         "doi": "10.5220/0006338204420451",
         "intent": [
          "background",
          "methodology"
         ],
         "isInfluential": true,
         "paperId": "36aa4753175b201880b373c23f36e9d26e5cc676",
         "title": "Inference Approach to Enhance a Portuguese Open Information Extraction",
         "url": "https://www.semanticscholar.org/paper/36aa4753175b201880b373c23f36e9d26e5cc676",
         "venue": "ICEIS",
         "year": 2017
        },
        {
         "arxivId": null,
         "authors": [
          {
           "authorId": "48520012",
           "name": "J. Winn"
          },
          {
           "authorId": "3229103",
           "name": "J. Guiver"
          },
          {
           "authorId": "34871883",
           "name": "S. Webster"
          },
          {
           "authorId": "3396043",
           "name": "Yordan Zaykov"
          },
          {
           "authorId": "100645205",
           "name": "Martin Kukla"
          },
          {
           "authorId": "114329935",
           "name": "Dany Fabian"
          }
         ],
         "doi": "10.24432/C5159B",
         "intent": [
          "background"
         ],
         "isInfluential": false,
         "paperId": "a2833e97d224593fdfaf153dc310cf1174642802",
         "title": "Alexandria: Unsupervised High-Precision Knowledge Base Construction using a Probabilistic Program",
         "url": "https://www.semanticscholar.org/paper/a2833e97d224593fdfaf153dc310cf1174642802",
         "venue": "AKBC",
         "year": 2019
        },
        {
         "arxivId": "1906.03088",
         "authors": [
          {
           "authorId": "3413117",
           "name": "Christoph Alt"
          },
          {
           "authorId": "143914106",
           "name": "Marc Hübner"
          },
          {
           "authorId": "36943315",
           "name": "Leonhard Hennig"
          }
         ],
         "doi": "10.24432/C5KW2W",
         "intent": [
          "background"
         ],
         "isInfluential": false,
         "paperId": "28f3a20ebd5e2f3afa871b1784076cf7004415b8",
         "title": "Improving Relation Extraction by Pre-trained Language Representations",
         "url": "https://www.semanticscholar.org/paper/28f3a20ebd5e2f3afa871b1784076cf7004415b8",
         "venue": "AKBC",
         "year": 2019
        },
        {
         "arxivId": null,
         "authors": [
          {
           "authorId": "1415014186",
           "name": "Unai Zulaika"
          },
          {
           "authorId": "115531201",
           "name": "Asier Gutiérrez"
          },
          {
           "authorId": "1383994527",
           "name": "D. López-de-Ipiña"
          }
         ],
         "doi": "10.3390/PROCEEDINGS2191228",
         "intent": [
          "methodology"
         ],
         "isInfluential": false,
         "paperId": "abcaa18e20968ae1f9345c098aebfec8734dfba1",
         "title": "Enhancing Profile and Context Aware Relevant Food Search through Knowledge Graphs",
         "url": "https://www.semanticscholar.org/paper/abcaa18e20968ae1f9345c098aebfec8734dfba1",
         "venue": "UCAmI",
         "year": 2018
        },
        {
         "arxivId": null,
         "authors": [
          {
           "authorId": "3312009",
           "name": "Xuejiao Zhao"
          },
          {
           "authorId": "3138980",
           "name": "Zhenchang Xing"
          },
          {
           "authorId": "3207804",
           "name": "M. Kabir"
          },
          {
           "authorId": "46944412",
           "name": "Naoya Sawada"
          },
          {
           "authorId": "1723081",
           "name": "J. Li"
          },
          {
           "authorId": "144660350",
           "name": "Shang-Wei Lin"
          }
         ],
         "doi": "10.1109/SANER.2017.7884609",
         "intent": [],
         "isInfluential": false,
         "paperId": "616e1fefeeecbae00246ca1ab5d7a38cda4b6369",
         "title": "HDSKG: Harvesting domain specific knowledge graph from content of webpages",
         "url": "https://www.semanticscholar.org/paper/616e1fefeeecbae00246ca1ab5d7a38cda4b6369",
         "venue": "2017 IEEE 24th International Conference on Software Analysis, Evolution and Reengineering (SANER)",
         "year": 2017
        },
        {
         "arxivId": null,
         "authors": [
          {
           "authorId": "1684353",
           "name": "Jennifer Chu-Carroll"
          },
          {
           "authorId": null,
           "name": "Eric Fossler-Lussier"
          },
          {
           "authorId": "40362872",
           "name": "P. Rasmussen"
          },
          {
           "authorId": "2295928",
           "name": "S. Muresan"
          },
          {
           "authorId": null,
           "name": "Dirk Hovy"
          },
          {
           "authorId": "34891091",
           "name": "D. Bernhard"
          },
          {
           "authorId": "1782853",
           "name": "Mark Dredze"
          },
          {
           "authorId": "1689233",
           "name": "M. Elsner"
          },
          {
           "authorId": "15652489",
           "name": "T. Kwiatkowski"
          },
          {
           "authorId": "47909156",
           "name": "Y. Liu"
          },
          {
           "authorId": "36897624",
           "name": "J. Nicholson"
          },
          {
           "authorId": "145755155",
           "name": "Martha Palmer"
          },
          {
           "authorId": "2570295",
           "name": "Hamid R. Chinaei"
          },
          {
           "authorId": "49517527",
           "name": "S. Ravi"
          },
          {
           "authorId": "1398559442",
           "name": "Yahoo Research"
          },
          {
           "authorId": "3998980",
           "name": "Andrew Rosenberg"
          },
          {
           "authorId": "145254207",
           "name": "Nathan Schneider"
          },
          {
           "authorId": "1739099",
           "name": "J. Tetreault"
          },
          {
           "authorId": "9173223",
           "name": "Lu Wang"
          },
          {
           "authorId": "145807147",
           "name": "Arthur Ward"
          },
          {
           "authorId": "30184027",
           "name": "B. Webber"
          },
          {
           "authorId": "2574576",
           "name": "Rivka Levitan"
          },
          {
           "authorId": "143643017",
           "name": "R. Levy"
          },
          {
           "authorId": "3127495",
           "name": "Fawaz Alarfaj"
          },
          {
           "authorId": null,
           "name": "Udo Kruschwitz"
          },
          {
           "authorId": "144457801",
           "name": "D. Hunter"
          },
          {
           "authorId": "144251978",
           "name": "Chris Fox"
          },
          {
           "authorId": null,
           "name": "Samuel R Bowman"
          },
          {
           "authorId": "39956145",
           "name": "Harshit Chopra"
          },
          {
           "authorId": null,
           "name": "Vittersø Steinar"
          },
          {
           "authorId": null,
           "name": "Kaldager"
          },
          {
           "authorId": "1836878",
           "name": "W. Packard"
          },
          {
           "authorId": "33193617",
           "name": "B. Yang"
          },
          {
           "authorId": "3310430",
           "name": "J. Heines"
          },
          {
           "authorId": "144438458",
           "name": "M. Chen"
          },
          {
           "authorId": "2776283",
           "name": "S. Gouws"
          },
          {
           "authorId": "1767336",
           "name": "Annie Louis"
          }
         ],
         "doi": null,
         "intent": [],
         "isInfluential": false,
         "paperId": "b073024e2bb2caac1dc7dbc1794b01b4a2dd2153",
         "title": "Table of Contents Finding the Right Supervisor: Expert-finding in a University Domain Domain-specific Semantic Relatedness from Wikipedia: Can a Course Be Transferred? Using Ontology-based Approaches to Representing Speech Transcripts for Automated Speech Scoring Conference Program Finding the Right",
         "url": "https://www.semanticscholar.org/paper/b073024e2bb2caac1dc7dbc1794b01b4a2dd2153",
         "venue": "",
         "year": 2012
        },
        {
         "arxivId": null,
         "authors": [
          {
           "authorId": "38714222",
           "name": "A. Sow"
          },
          {
           "authorId": "32230107",
           "name": "J. Bourguet"
          }
         ],
         "doi": null,
         "intent": [
          "methodology"
         ],
         "isInfluential": false,
         "paperId": "d06164bbd3d56aef03e780fa800093f097fcdd02",
         "title": "LOOPINGS : un Vistazo a las Similitudes Semánticas LOOPINGS : a Look at Semantic Similarities",
         "url": "https://www.semanticscholar.org/paper/d06164bbd3d56aef03e780fa800093f097fcdd02",
         "venue": "",
         "year": 2016
        },
        {
         "arxivId": "1809.09414",
         "authors": [
          {
           "authorId": "8125500",
           "name": "Shengbin Jia"
          }
         ],
         "doi": "10.1145/3308558.3313586",
         "intent": [
          "background"
         ],
         "isInfluential": false,
         "paperId": "da95be45d8a2557d1df5afd99a713da30076d048",
         "title": "Knowledge Graph Error detection and Completion",
         "url": "https://www.semanticscholar.org/paper/da95be45d8a2557d1df5afd99a713da30076d048",
         "venue": "",
         "year": 2018
        },
        {
         "arxivId": null,
         "authors": [
          {
           "authorId": "3450120",
           "name": "Phung Lai"
          },
          {
           "authorId": "11032760",
           "name": "Nhathai Phan"
          },
          {
           "authorId": "2325975",
           "name": "D. Newman"
          },
          {
           "authorId": "100541102",
           "name": "H. Hu"
          },
          {
           "authorId": "1603029692",
           "name": "Anuja Badeti"
          },
          {
           "authorId": "1721158",
           "name": "D. Dou"
          }
         ],
         "doi": null,
         "intent": [],
         "isInfluential": false,
         "paperId": "6b6c3f0aa1f5c70c99d8486e5eb65f3c48e421bc",
         "title": "Ontology-based Interpretable Machine Learning with Learnable Anchors",
         "url": "https://www.semanticscholar.org/paper/6b6c3f0aa1f5c70c99d8486e5eb65f3c48e421bc",
         "venue": "",
         "year": 2019
        },
        {
         "arxivId": null,
         "authors": [
          {
           "authorId": "35407992",
           "name": "Erick Nilsen Pereira de Souza"
          },
          {
           "authorId": "2592081",
           "name": "Daniela Barreiro Claro"
          }
         ],
         "doi": "10.21814/LM.6.2.182",
         "intent": [],
         "isInfluential": false,
         "paperId": "a540725c56ddf15d3c64d36324d40ee183dbb8ee",
         "title": "Extração de Relações utilizando Features Diferenciadas para Português",
         "url": "https://www.semanticscholar.org/paper/a540725c56ddf15d3c64d36324d40ee183dbb8ee",
         "venue": "Linguamática",
         "year": 2014
        },
        {
         "arxivId": null,
         "authors": [
          {
           "authorId": "3194601",
           "name": "Xianpei Han"
          },
          {
           "authorId": "145268796",
           "name": "Le Sun"
          }
         ],
         "doi": null,
         "intent": [],
         "isInfluential": false,
         "paperId": "2594d354363c9ac10c641074595aa6c2fb8bfa5d",
         "title": "Context-Sensitive Inference Rule Discovery: A Graph-Based Method",
         "url": "https://www.semanticscholar.org/paper/2594d354363c9ac10c641074595aa6c2fb8bfa5d",
         "venue": "COLING",
         "year": 2016
        },
        {
         "arxivId": "2004.02438",
         "authors": [
          {
           "authorId": "72381418",
           "name": "Xuming Hu"
          },
          {
           "authorId": "40650846",
           "name": "Lijie Wen"
          },
          {
           "authorId": "150353091",
           "name": "Y. Xu"
          },
          {
           "authorId": "2418496",
           "name": "Chenwei Zhang"
          },
          {
           "authorId": "144019071",
           "name": "Philip S. Yu"
          }
         ],
         "doi": null,
         "intent": [
          "background"
         ],
         "isInfluential": false,
         "paperId": "d06625558bc3564456cacc8d2cb29179c5515456",
         "title": "SelfORE: Self-supervised Relational Feature Learning for Open Relation Extraction",
         "url": "https://www.semanticscholar.org/paper/d06625558bc3564456cacc8d2cb29179c5515456",
         "venue": "EMNLP",
         "year": 2020
        },
        {
         "arxivId": null,
         "authors": [
          {
           "authorId": "3261233",
           "name": "Kangqi Luo"
          },
          {
           "authorId": "81758932",
           "name": "Jinyi Lu"
          },
          {
           "authorId": "1796651",
           "name": "K. Q. Zhu"
          },
          {
           "authorId": "49896287",
           "name": "W. Gao"
          },
          {
           "authorId": "144424687",
           "name": "J. Wei"
          },
          {
           "authorId": "2440638",
           "name": "Meizhuo Zhang"
          }
         ],
         "doi": "10.1016/j.compbiomed.2019.02.016",
         "intent": [],
         "isInfluential": false,
         "paperId": "fff2b821bce5999179c4fdbbc474445d64f7c3b3",
         "title": "Layout-aware information extraction from semi-structured medical images",
         "url": "https://www.semanticscholar.org/paper/fff2b821bce5999179c4fdbbc474445d64f7c3b3",
         "venue": "Comput. Biol. Medicine",
         "year": 2019
        },
        {
         "arxivId": "1802.05574",
         "authors": [
          {
           "authorId": "1727784",
           "name": "Paul T. Groth"
          },
          {
           "authorId": "3475966",
           "name": "Michael Lauruhn"
          },
          {
           "authorId": "34699770",
           "name": "Antony Scerri"
          },
          {
           "authorId": "144134609",
           "name": "R. Daniel"
          }
         ],
         "doi": null,
         "intent": [
          "background"
         ],
         "isInfluential": false,
         "paperId": "b2e31539f68c2c278f507fd6ff8da0d75ac67157",
         "title": "Open Information Extraction on Scientific Text: An Evaluation",
         "url": "https://www.semanticscholar.org/paper/b2e31539f68c2c278f507fd6ff8da0d75ac67157",
         "venue": "COLING",
         "year": 2018
        },
        {
         "arxivId": null,
         "authors": [
          {
           "authorId": "8362138",
           "name": "Yanchao Hao"
          },
          {
           "authorId": "48378872",
           "name": "Yuanzhe Zhang"
          },
          {
           "authorId": "2200096",
           "name": "Kang Liu"
          },
          {
           "authorId": "1954845",
           "name": "Shizhu He"
          },
          {
           "authorId": "2313405",
           "name": "Zhanyi Liu"
          },
          {
           "authorId": "40354707",
           "name": "Hua Wu"
          },
          {
           "authorId": "1390572170",
           "name": "Jun Zhao"
          }
         ],
         "doi": "10.18653/v1/P17-1021",
         "intent": [
          "methodology"
         ],
         "isInfluential": false,
         "paperId": "e9287b896a1c7360567915c3932b8df1ee4a81f7",
         "title": "An End-to-End Model for Question Answering over Knowledge Base with Cross-Attention Combining Global Knowledge",
         "url": "https://www.semanticscholar.org/paper/e9287b896a1c7360567915c3932b8df1ee4a81f7",
         "venue": "ACL",
         "year": 2017
        },
        {
         "arxivId": null,
         "authors": [
          {
           "authorId": "40129897",
           "name": "R. Glauber"
          },
          {
           "authorId": "2592081",
           "name": "Daniela Barreiro Claro"
          }
         ],
         "doi": "10.1016/j.eswa.2018.06.046",
         "intent": [],
         "isInfluential": false,
         "paperId": "ca66017228fd2384728b7dc7f26b5aced73c418e",
         "title": "A systematic mapping study on open information extraction",
         "url": "https://www.semanticscholar.org/paper/ca66017228fd2384728b7dc7f26b5aced73c418e",
         "venue": "Expert Syst. Appl.",
         "year": 2018
        },
        {
         "arxivId": null,
         "authors": [
          {
           "authorId": "145307652",
           "name": "Li Dong"
          },
          {
           "authorId": "49807919",
           "name": "Furu Wei"
          },
          {
           "authorId": "145687893",
           "name": "H. Sun"
          },
          {
           "authorId": "143849609",
           "name": "M. Zhou"
          },
          {
           "authorId": "145389711",
           "name": "K. Xu"
          }
         ],
         "doi": null,
         "intent": [],
         "isInfluential": false,
         "paperId": "a494a3de88348dd7e246ee3e7ad9f22907aa642b",
         "title": "A Hybrid Neural Model for Type Classification of Entity Mentions",
         "url": "https://www.semanticscholar.org/paper/a494a3de88348dd7e246ee3e7ad9f22907aa642b",
         "venue": "IJCAI",
         "year": 2015
        },
        {
         "arxivId": null,
         "authors": [
          {
           "authorId": "1750274",
           "name": "Jie Gao"
          },
          {
           "authorId": "38209594",
           "name": "S. Mazumdar"
          }
         ],
         "doi": "10.1007/978-3-319-25518-7_5",
         "intent": [
          "background"
         ],
         "isInfluential": false,
         "paperId": "587ac71dab5b2ec2439a40f861e31a034ea4a3bc",
         "title": "Exploiting Linked Open Data to Uncover Entity Types",
         "url": "https://www.semanticscholar.org/paper/587ac71dab5b2ec2439a40f861e31a034ea4a3bc",
         "venue": "SemWebEval@ESWC",
         "year": 2015
        },
        {
         "arxivId": null,
         "authors": [
          {
           "authorId": "40500539",
           "name": "X. Han"
          },
          {
           "authorId": "145312815",
           "name": "Y. Dai"
          },
          {
           "authorId": "4800645",
           "name": "Tianyu Gao"
          },
          {
           "authorId": "2427350",
           "name": "Yankai Lin"
          },
          {
           "authorId": "49293248",
           "name": "Z. Liu"
          },
          {
           "authorId": "1674817738",
           "name": "Peng Li"
          },
          {
           "authorId": "1753344",
           "name": "M. Sun"
          },
          {
           "authorId": "48129040",
           "name": "Jie Zhou"
          }
         ],
         "doi": "10.18653/v1/2020.acl-main.573",
         "intent": [
          "background"
         ],
         "isInfluential": false,
         "paperId": "e04cbbcf11e5b442af85f23ff10db6f74405db2a",
         "title": "Continual Relation Learning via Episodic Memory Activation and Reconsolidation",
         "url": "https://www.semanticscholar.org/paper/e04cbbcf11e5b442af85f23ff10db6f74405db2a",
         "venue": "ACL",
         "year": 2020
        },
        {
         "arxivId": "2006.15762",
         "authors": [
          {
           "authorId": "35789996",
           "name": "Kenneth Marino"
          },
          {
           "authorId": "2276554",
           "name": "R. Fergus"
          },
          {
           "authorId": "3149531",
           "name": "Arthur Szlam"
          },
          {
           "authorId": null,
           "name": "Abhinav Gupta"
          }
         ],
         "doi": null,
         "intent": [
          "background"
         ],
         "isInfluential": false,
         "paperId": "844e8fa1bb852cef5554c0033aa4e8ae7716b03e",
         "title": "Empirically Verifying Hypotheses Using Reinforcement Learning",
         "url": "https://www.semanticscholar.org/paper/844e8fa1bb852cef5554c0033aa4e8ae7716b03e",
         "venue": "ArXiv",
         "year": 2020
        },
        {
         "arxivId": null,
         "authors": [
          {
           "authorId": "1721168",
           "name": "Niket Tandon"
          },
          {
           "authorId": "144608002",
           "name": "Gerard de Melo"
          },
          {
           "authorId": "38296971",
           "name": "A. De"
          },
          {
           "authorId": "1751591",
           "name": "G. Weikum"
          }
         ],
         "doi": "10.1145/2806416.2806583",
         "intent": [],
         "isInfluential": false,
         "paperId": "8a61673d1090c9bb01dfd32439b62250ea6835d2",
         "title": "Knowlywood: Mining Activity Knowledge From Hollywood Narratives",
         "url": "https://www.semanticscholar.org/paper/8a61673d1090c9bb01dfd32439b62250ea6835d2",
         "venue": "CIKM '15",
         "year": 2015
        },
        {
         "arxivId": "2005.01879",
         "authors": [
          {
           "authorId": "1410942847",
           "name": "Majid Asgari-Bidhendi"
          },
          {
           "authorId": "1416762706",
           "name": "Behrooz Janfada"
          },
          {
           "authorId": "1403320509",
           "name": "B. Minaei-Bidgoli"
          }
         ],
         "doi": null,
         "intent": [
          "methodology"
         ],
         "isInfluential": false,
         "paperId": "1c71616eee265d7c2a0d5df25ac212133b8446db",
         "title": "FarsBase-KBP: A Knowledge Base Population System for the Persian Knowledge Graph",
         "url": "https://www.semanticscholar.org/paper/1c71616eee265d7c2a0d5df25ac212133b8446db",
         "venue": "ArXiv",
         "year": 2020
        },
        {
         "arxivId": null,
         "authors": [
          {
           "authorId": "1989207955",
           "name": "Japa Sai Sharath"
          },
          {
           "authorId": "1966492",
           "name": "Banafsheh Rekabdar"
          }
         ],
         "doi": "10.1109/IJCNN48605.2020.9206698",
         "intent": [],
         "isInfluential": false,
         "paperId": "04a60459e1142660b96388cf47c1b4a38cf9f69a",
         "title": "Question Answering over Knowledge Base using Language Model Embeddings",
         "url": "https://www.semanticscholar.org/paper/04a60459e1142660b96388cf47c1b4a38cf9f69a",
         "venue": "IJCNN",
         "year": 2020
        },
        {
         "arxivId": null,
         "authors": [
          {
           "authorId": "144313760",
           "name": "C. Horn"
          },
          {
           "authorId": "1684668",
           "name": "Alisa Zhila"
          },
          {
           "authorId": "1747784",
           "name": "Alexander Gelbukh"
          },
          {
           "authorId": "144361874",
           "name": "R. Kern"
          },
          {
           "authorId": "3124784",
           "name": "E. Lex"
          }
         ],
         "doi": null,
         "intent": [
          "methodology",
          "result"
         ],
         "isInfluential": true,
         "paperId": "cb234022e53e1ea1eb9b469740d0d18e0724cdcf",
         "title": "Using Factual Density to Measure Informativeness of Web Documents",
         "url": "https://www.semanticscholar.org/paper/cb234022e53e1ea1eb9b469740d0d18e0724cdcf",
         "venue": "NODALIDA",
         "year": 2013
        },
        {
         "arxivId": null,
         "authors": [
          {
           "authorId": "51136223",
           "name": "Arianna Blasi"
          },
          {
           "authorId": "2184588",
           "name": "A. Goffi"
          },
          {
           "authorId": "143927203",
           "name": "K. Kuznetsov"
          },
          {
           "authorId": "2762411",
           "name": "A. Gorla"
          },
          {
           "authorId": "6698059",
           "name": "Michael D. Ernst"
          },
          {
           "authorId": "7931048",
           "name": "M. Pezzè"
          },
          {
           "authorId": "51115473",
           "name": "S. D. Castellanos"
          }
         ],
         "doi": "10.1145/3213846.3213872",
         "intent": [
          "background"
         ],
         "isInfluential": false,
         "paperId": "06fedb27a62aac78dda4f852e284d09d264844f8",
         "title": "Translating code comments to procedure specifications",
         "url": "https://www.semanticscholar.org/paper/06fedb27a62aac78dda4f852e284d09d264844f8",
         "venue": "ISSTA",
         "year": 2018
        },
        {
         "arxivId": null,
         "authors": [
          {
           "authorId": "2864855",
           "name": "Jizhou Huang"
          },
          {
           "authorId": "49039623",
           "name": "W. Zhang"
          },
          {
           "authorId": "7420210",
           "name": "Shiqi Zhao"
          },
          {
           "authorId": "3431353",
           "name": "Shiqiang Ding"
          },
          {
           "authorId": "1687419",
           "name": "H. Wang"
          }
         ],
         "doi": "10.24963/ijcai.2017/561",
         "intent": [],
         "isInfluential": false,
         "paperId": "9f3b631541793aeeee80636ce6a9da667d719544",
         "title": "Learning to Explain Entity Relationships by Pairwise Ranking with Convolutional Neural Networks",
         "url": "https://www.semanticscholar.org/paper/9f3b631541793aeeee80636ce6a9da667d719544",
         "venue": "IJCAI",
         "year": 2017
        },
        {
         "arxivId": null,
         "authors": [
          {
           "authorId": "1863425",
           "name": "Alan Ritter"
          }
         ],
         "doi": null,
         "intent": [
          "background"
         ],
         "isInfluential": false,
         "paperId": "9c84aa48284db48bcea31c84e1bcc9f6e40efff2",
         "title": "Extracting knowledge from Twitter and the web",
         "url": "https://www.semanticscholar.org/paper/9c84aa48284db48bcea31c84e1bcc9f6e40efff2",
         "venue": "",
         "year": 2012
        },
        {
         "arxivId": null,
         "authors": [
          {
           "authorId": "143959908",
           "name": "H. Bast"
          },
          {
           "authorId": "2692638",
           "name": "Elmar Haussmann"
          }
         ],
         "doi": "10.1007/978-3-319-06028-6_61",
         "intent": [
          "background",
          "methodology"
         ],
         "isInfluential": false,
         "paperId": "e532a5616893c41b39051441c6143b1abe1da5d3",
         "title": "More Informative Open Information Extraction via Simple Inference",
         "url": "https://www.semanticscholar.org/paper/e532a5616893c41b39051441c6143b1abe1da5d3",
         "venue": "ECIR",
         "year": 2014
        },
        {
         "arxivId": null,
         "authors": [
          {
           "authorId": "144339713",
           "name": "N. Konstantinova"
          }
         ],
         "doi": "10.1007/978-3-319-12580-0_2",
         "intent": [
          "background"
         ],
         "isInfluential": false,
         "paperId": "7ff35f96c9742c65e5dd41f5130eb772d800872d",
         "title": "Review of Relation Extraction Methods: What Is New Out There?",
         "url": "https://www.semanticscholar.org/paper/7ff35f96c9742c65e5dd41f5130eb772d800872d",
         "venue": "AIST",
         "year": 2014
        },
        {
         "arxivId": null,
         "authors": [
          {
           "authorId": "1724629",
           "name": "Marius Pasca"
          }
         ],
         "doi": "10.1145/2566486.2567966",
         "intent": [
          "background"
         ],
         "isInfluential": false,
         "paperId": "52e2220c317e50c31a242f32f3c34ce0ea93e8b0",
         "title": "Acquisition of open-domain classes via intersective semantics",
         "url": "https://www.semanticscholar.org/paper/52e2220c317e50c31a242f32f3c34ce0ea93e8b0",
         "venue": "WWW",
         "year": 2014
        },
        {
         "arxivId": null,
         "authors": [
          {
           "authorId": "3299718",
           "name": "Junwei Bao"
          },
          {
           "authorId": "29943965",
           "name": "Nan Duan"
          },
          {
           "authorId": "143849609",
           "name": "M. Zhou"
          },
          {
           "authorId": "145382463",
           "name": "T. Zhao"
          }
         ],
         "doi": "10.3115/v1/P14-1091",
         "intent": [
          "background"
         ],
         "isInfluential": false,
         "paperId": "bbc860159dea10df35c54d1271bcc0a6b9e2df22",
         "title": "Knowledge-Based Question Answering as Machine Translation",
         "url": "https://www.semanticscholar.org/paper/bbc860159dea10df35c54d1271bcc0a6b9e2df22",
         "venue": "ACL",
         "year": 2014
        },
        {
         "arxivId": null,
         "authors": [
          {
           "authorId": "145411800",
           "name": "Xiao Ding"
          },
          {
           "authorId": "48378565",
           "name": "Yue Zhang"
          },
          {
           "authorId": "46999402",
           "name": "T. Liu"
          },
          {
           "authorId": "3237142",
           "name": "Junwen Duan"
          }
         ],
         "doi": null,
         "intent": [],
         "isInfluential": false,
         "paperId": "44229bef9966e65e7b13c2c9fe867afd9dd8b450",
         "title": "Deep Learning for Event-Driven Stock Prediction",
         "url": "https://www.semanticscholar.org/paper/44229bef9966e65e7b13c2c9fe867afd9dd8b450",
         "venue": "IJCAI",
         "year": 2015
        },
        {
         "arxivId": "1511.08952",
         "authors": [
          {
           "authorId": "3115592",
           "name": "Ndapandula Nakashole"
          }
         ],
         "doi": null,
         "intent": [
          "methodology",
          "background"
         ],
         "isInfluential": false,
         "paperId": "b1bf1a61b60184269c1bcb5e9c156bf6bb3f5404",
         "title": "Bootstrapping Ternary Relation Extractors",
         "url": "https://www.semanticscholar.org/paper/b1bf1a61b60184269c1bcb5e9c156bf6bb3f5404",
         "venue": "ArXiv",
         "year": 2015
        },
        {
         "arxivId": null,
         "authors": [
          {
           "authorId": "2949185",
           "name": "Ellie Pavlick"
          }
         ],
         "doi": null,
         "intent": [
          "methodology"
         ],
         "isInfluential": false,
         "paperId": "fc6973ab535489983effc19a7a7be4392566a908",
         "title": "Compositional Lexical Semantics in Natural Language Inference",
         "url": "https://www.semanticscholar.org/paper/fc6973ab535489983effc19a7a7be4392566a908",
         "venue": "",
         "year": 2017
        },
        {
         "arxivId": null,
         "authors": [
          {
           "authorId": "5992367",
           "name": "Yiping Jin"
          },
          {
           "authorId": "47469845",
           "name": "Phu T. V. Le"
          }
         ],
         "doi": "10.18653/v1/W16-6623",
         "intent": [
          "methodology"
         ],
         "isInfluential": false,
         "paperId": "8109f6bd336261c84fecd743793dc9643b2b0f3e",
         "title": "Selecting Domain-Specific Concepts for Question Generation With Lightly-Supervised Methods",
         "url": "https://www.semanticscholar.org/paper/8109f6bd336261c84fecd743793dc9643b2b0f3e",
         "venue": "INLG",
         "year": 2016
        },
        {
         "arxivId": null,
         "authors": [
          {
           "authorId": "39852922",
           "name": "Travis Wolfe"
          },
          {
           "authorId": "1782853",
           "name": "Mark Dredze"
          },
          {
           "authorId": "7536576",
           "name": "Benjamin Van Durme"
          }
         ],
         "doi": "10.18653/v1/P17-2048",
         "intent": [
          "background"
         ],
         "isInfluential": false,
         "paperId": "d9f7859328cd2d384e24ab08d6652a4d4c1504ff",
         "title": "Pocket Knowledge Base Population",
         "url": "https://www.semanticscholar.org/paper/d9f7859328cd2d384e24ab08d6652a4d4c1504ff",
         "venue": "ACL",
         "year": 2017
        },
        {
         "arxivId": null,
         "authors": [
          {
           "authorId": "2298649",
           "name": "Oren Melamud"
          },
          {
           "authorId": "1750652",
           "name": "Jonathan Berant"
          },
          {
           "authorId": "7465342",
           "name": "I. Dagan"
          },
          {
           "authorId": "34508613",
           "name": "J. Goldberger"
          },
          {
           "authorId": "1711977",
           "name": "Idan Szpektor"
          }
         ],
         "doi": null,
         "intent": [
          "methodology"
         ],
         "isInfluential": false,
         "paperId": "c7b8bd815ab0f72f9a00c5efb44cc827ddfb7a33",
         "title": "A Two Level Model for Context Sensitive Inference Rules",
         "url": "https://www.semanticscholar.org/paper/c7b8bd815ab0f72f9a00c5efb44cc827ddfb7a33",
         "venue": "ACL",
         "year": 2013
        },
        {
         "arxivId": null,
         "authors": [
          {
           "authorId": "1729762",
           "name": "M. Nickel"
          }
         ],
         "doi": null,
         "intent": [
          "background"
         ],
         "isInfluential": false,
         "paperId": "6c71c34eb649c28288bf05d445d544aa15a5f82c",
         "title": "Tensor factorization for relational learning",
         "url": "https://www.semanticscholar.org/paper/6c71c34eb649c28288bf05d445d544aa15a5f82c",
         "venue": "",
         "year": 2013
        },
        {
         "arxivId": null,
         "authors": [
          {
           "authorId": "3115592",
           "name": "Ndapandula Nakashole"
          },
          {
           "authorId": "40975594",
           "name": "Tom Michael Mitchell"
          }
         ],
         "doi": "10.3115/v1/P14-1095",
         "intent": [],
         "isInfluential": false,
         "paperId": "c12b96b88fbe59e12cb5dd6c2c1d4ca041db64e6",
         "title": "Language-Aware Truth Assessment of Fact Candidates",
         "url": "https://www.semanticscholar.org/paper/c12b96b88fbe59e12cb5dd6c2c1d4ca041db64e6",
         "venue": "ACL",
         "year": 2014
        },
        {
         "arxivId": null,
         "authors": [
          {
           "authorId": "143762153",
           "name": "Pablo Gamallo"
          },
          {
           "authorId": "144918133",
           "name": "Marcos Garcia"
          }
         ],
         "doi": "10.1007/978-3-319-99722-3_8",
         "intent": [
          "background"
         ],
         "isInfluential": false,
         "paperId": "0517cfc24606c885e80dc3dc110cf9b6c650c421",
         "title": "Task-Oriented Evaluation of Dependency Parsing with Open Information Extraction",
         "url": "https://www.semanticscholar.org/paper/0517cfc24606c885e80dc3dc110cf9b6c650c421",
         "venue": "PROPOR",
         "year": 2018
        },
        {
         "arxivId": "1606.07993",
         "authors": [
          {
           "authorId": "2929047",
           "name": "F. Liu"
          },
          {
           "authorId": "50762327",
           "name": "J. Chen"
          },
          {
           "authorId": "3422909",
           "name": "Abhyuday Jagannatha"
          },
          {
           "authorId": null,
           "name": "Hong Yu"
          }
         ],
         "doi": null,
         "intent": [],
         "isInfluential": false,
         "paperId": "e8f7e63ef52e6c19a0933cf7d920fcc2ad60eab7",
         "title": "Learning for Biomedical Information Extraction: Methodological Review of Recent Advances",
         "url": "https://www.semanticscholar.org/paper/e8f7e63ef52e6c19a0933cf7d920fcc2ad60eab7",
         "venue": "ArXiv",
         "year": 2016
        },
        {
         "arxivId": null,
         "authors": [
          {
           "authorId": "32656155",
           "name": "Maria Teresa Llano"
          },
          {
           "authorId": "3380615",
           "name": "Rose Hepworth"
          },
          {
           "authorId": "1687610",
           "name": "S. Colton"
          },
          {
           "authorId": "2419877",
           "name": "J. Gow"
          },
          {
           "authorId": "35022446",
           "name": "J. Charnley"
          },
          {
           "authorId": "1730104",
           "name": "N. Lavrac"
          },
          {
           "authorId": "3251333",
           "name": "M. Znidarsic"
          },
          {
           "authorId": "3225464",
           "name": "Matic Perovsek"
          },
          {
           "authorId": "1405160226",
           "name": "Mark Granroth-Wilding"
          },
          {
           "authorId": "144523372",
           "name": "Stephen Clark"
          }
         ],
         "doi": null,
         "intent": [
          "methodology"
         ],
         "isInfluential": false,
         "paperId": "ae00be71b59556a78d08054da2e6c7bf04831325",
         "title": "Baseline Methods for Automated Fictional Ideation",
         "url": "https://www.semanticscholar.org/paper/ae00be71b59556a78d08054da2e6c7bf04831325",
         "venue": "ICCC",
         "year": 2014
        },
        {
         "arxivId": null,
         "authors": [
          {
           "authorId": "1736067",
           "name": "Isabelle Augenstein"
          }
         ],
         "doi": "10.3115/v1/W14-6203",
         "intent": [
          "background"
         ],
         "isInfluential": false,
         "paperId": "9112feef42d6017391d3d898e552c95e74963d2c",
         "title": "Seed Selection for Distantly Supervised Web-Based Relation Extraction",
         "url": "https://www.semanticscholar.org/paper/9112feef42d6017391d3d898e552c95e74963d2c",
         "venue": "SWAIE@COLING",
         "year": 2014
        },
        {
         "arxivId": null,
         "authors": [
          {
           "authorId": "1778382",
           "name": "Sagar Sunkle"
          },
          {
           "authorId": "1797699",
           "name": "Deepali Kholkar"
          }
         ],
         "doi": null,
         "intent": [
          "background"
         ],
         "isInfluential": false,
         "paperId": "442e9b01eac0222de8f4e7f1e8d4d56570607281",
         "title": "Toward (Semi-) Automated End-to-End Model-driven Compliance Framework",
         "url": "https://www.semanticscholar.org/paper/442e9b01eac0222de8f4e7f1e8d4d56570607281",
         "venue": "ModSym+SAAAS@ISEC",
         "year": 2016
        },
        {
         "arxivId": null,
         "authors": [
          {
           "authorId": "143762153",
           "name": "Pablo Gamallo"
          }
         ],
         "doi": null,
         "intent": [],
         "isInfluential": false,
         "paperId": "5499eb516e6d9272b6e882ae0647e1f2e6728a5b",
         "title": "An Overview of Open Information Extraction ∗",
         "url": "https://www.semanticscholar.org/paper/5499eb516e6d9272b6e882ae0647e1f2e6728a5b",
         "venue": "",
         "year": 2014
        },
        {
         "arxivId": null,
         "authors": [
          {
           "authorId": "72225324",
           "name": "Kevin Forand"
          }
         ],
         "doi": null,
         "intent": [
          "methodology"
         ],
         "isInfluential": false,
         "paperId": "3e7a7cf9f50ec6d5be4671aea081a3d865f8208d",
         "title": "Curating an Open Information Extraction Knowledge Base Using Games with a Purpose",
         "url": "https://www.semanticscholar.org/paper/3e7a7cf9f50ec6d5be4671aea081a3d865f8208d",
         "venue": "",
         "year": 2017
        },
        {
         "arxivId": null,
         "authors": [
          {
           "authorId": "37696683",
           "name": "Qi Li"
          },
          {
           "authorId": "47119060",
           "name": "X. Wang"
          },
          {
           "authorId": null,
           "name": "Yu Zhang"
          },
          {
           "authorId": "47430979",
           "name": "Fei Ling"
          },
          {
           "authorId": "152360913",
           "name": "Cathy H. Wu"
          },
          {
           "authorId": "122203801",
           "name": "J. Han"
          }
         ],
         "doi": "10.1109/BIBM.2018.8621375",
         "intent": [],
         "isInfluential": false,
         "paperId": "9e394554702a7365b32aa379f56d093f877aacb3",
         "title": "Pattern Discovery for Wide-Window Open Information Extraction in Biomedical Literature",
         "url": "https://www.semanticscholar.org/paper/9e394554702a7365b32aa379f56d093f877aacb3",
         "venue": "2018 IEEE International Conference on Bioinformatics and Biomedicine (BIBM)",
         "year": 2018
        },
        {
         "arxivId": null,
         "authors": [
          {
           "authorId": "40483594",
           "name": "Wenpeng Yin"
          }
         ],
         "doi": null,
         "intent": [],
         "isInfluential": false,
         "paperId": "9f43a58e3305fb9ab90a85c5bc88c32ee0ff31d1",
         "title": "Deep neural networks for identification of sentential relations",
         "url": "https://www.semanticscholar.org/paper/9f43a58e3305fb9ab90a85c5bc88c32ee0ff31d1",
         "venue": "",
         "year": 2017
        },
        {
         "arxivId": null,
         "authors": [
          {
           "authorId": "2994832",
           "name": "HeeChel Kim"
          },
          {
           "authorId": "2328835",
           "name": "Hong-Woo Chun"
          },
          {
           "authorId": "2472437",
           "name": "Byoung-Yul Coh"
          }
         ],
         "doi": null,
         "intent": [],
         "isInfluential": false,
         "paperId": "dd842621913429f16765c66dcdd5d092ae3a92dc",
         "title": "A Sao-Based Approach for Technologies Evolution Analysis Using Patent Information: Case Study on Graphene Sensor",
         "url": "https://www.semanticscholar.org/paper/dd842621913429f16765c66dcdd5d092ae3a92dc",
         "venue": "ISSI",
         "year": 2015
        },
        {
         "arxivId": null,
         "authors": [
          {
           "authorId": "2077657",
           "name": "Melisachew Wudage Chekol"
          },
          {
           "authorId": "1698459",
           "name": "H. Stuckenschmidt"
          }
         ],
         "doi": "10.1145/3357384.3358049",
         "intent": [
          "background"
         ],
         "isInfluential": true,
         "paperId": "e8a085f138383bd7847eadcd2d0bbb8ed751af88",
         "title": "Leveraging Graph Neighborhoods for Efficient Inference",
         "url": "https://www.semanticscholar.org/paper/e8a085f138383bd7847eadcd2d0bbb8ed751af88",
         "venue": "CIKM",
         "year": 2019
        },
        {
         "arxivId": null,
         "authors": [
          {
           "authorId": "36489440",
           "name": "R. Lu"
          },
          {
           "authorId": "47540776",
           "name": "Xiaolong Jin"
          },
          {
           "authorId": "1704827",
           "name": "S. Zhang"
          },
          {
           "authorId": "144326259",
           "name": "M. Qiu"
          },
          {
           "authorId": null,
           "name": "Xindong Wu"
          }
         ],
         "doi": "10.1109/TKDE.2018.2866863",
         "intent": [
          "methodology",
          "background"
         ],
         "isInfluential": false,
         "paperId": "ba69dc1fe7da073efcadcde60ba22f085f440b61",
         "title": "A Study on Big Knowledge and Its Engineering Issues",
         "url": "https://www.semanticscholar.org/paper/ba69dc1fe7da073efcadcde60ba22f085f440b61",
         "venue": "IEEE Transactions on Knowledge and Data Engineering",
         "year": 2019
        },
        {
         "arxivId": null,
         "authors": [
          {
           "authorId": "47125649",
           "name": "Tomer Sagi"
          },
          {
           "authorId": "152950502",
           "name": "Yael Wolf"
          },
          {
           "authorId": "1682407",
           "name": "K. Hose"
          }
         ],
         "doi": "10.1145/3308560.3317702",
         "intent": [
          "background"
         ],
         "isInfluential": false,
         "paperId": "aabedc7db620062a1f0dae8fc184cce23862b6bd",
         "title": "How New is the (RDF) News?",
         "url": "https://www.semanticscholar.org/paper/aabedc7db620062a1f0dae8fc184cce23862b6bd",
         "venue": "WWW",
         "year": 2019
        },
        {
         "arxivId": null,
         "authors": [
          {
           "authorId": "3310951",
           "name": "Dan Iter"
          },
          {
           "authorId": "1770962",
           "name": "A. Halevy"
          },
          {
           "authorId": "34582619",
           "name": "W. Tan"
          }
         ],
         "doi": "10.18653/v1/W18-6123",
         "intent": [
          "background",
          "methodology"
         ],
         "isInfluential": false,
         "paperId": "410b8baa4a53c01ad1d963fba687a38d8ef5823e",
         "title": "FrameIt: Ontology Discovery for Noisy User-Generated Text",
         "url": "https://www.semanticscholar.org/paper/410b8baa4a53c01ad1d963fba687a38d8ef5823e",
         "venue": "NUT@EMNLP",
         "year": 2018
        },
        {
         "arxivId": "1906.03158",
         "authors": [
          {
           "authorId": "7353832",
           "name": "Livio Baldini Soares"
          },
          {
           "authorId": "143883142",
           "name": "Nicholas FitzGerald"
          },
          {
           "authorId": "50602231",
           "name": "Jeffrey Ling"
          },
          {
           "authorId": "15652489",
           "name": "T. Kwiatkowski"
          }
         ],
         "doi": "10.18653/v1/P19-1279",
         "intent": [
          "background"
         ],
         "isInfluential": false,
         "paperId": "4af09143735210777281b66997ec12994dbb43d4",
         "title": "Matching the Blanks: Distributional Similarity for Relation Learning",
         "url": "https://www.semanticscholar.org/paper/4af09143735210777281b66997ec12994dbb43d4",
         "venue": "ACL",
         "year": 2019
        },
        {
         "arxivId": "1912.12531",
         "authors": [
          {
           "authorId": "49351295",
           "name": "Giacomo Bergami"
          }
         ],
         "doi": null,
         "intent": [],
         "isInfluential": false,
         "paperId": "e9f4ad1ffd5dc22d5002392b1429e6cdeeb060e8",
         "title": "A framework supporting imprecise queries and data",
         "url": "https://www.semanticscholar.org/paper/e9f4ad1ffd5dc22d5002392b1429e6cdeeb060e8",
         "venue": "ArXiv",
         "year": 2019
        },
        {
         "arxivId": null,
         "authors": [
          {
           "authorId": "9226133",
           "name": "Ade Romadhony"
          },
          {
           "authorId": "1962263",
           "name": "A. Purwarianti"
          },
          {
           "authorId": "143937023",
           "name": "D. Widyantoro"
          }
         ],
         "doi": "10.1109/ICAICTA.2018.8541293",
         "intent": [
          "methodology",
          "background"
         ],
         "isInfluential": true,
         "paperId": "b2a312325837b31821a37524eb49058c0d20570b",
         "title": "Rule-based Indonesian Open Information Extraction",
         "url": "https://www.semanticscholar.org/paper/b2a312325837b31821a37524eb49058c0d20570b",
         "venue": "2018 5th International Conference on Advanced Informatics: Concept Theory and Applications (ICAICTA)",
         "year": 2018
        },
        {
         "arxivId": "2004.00204",
         "authors": [
          {
           "authorId": "3450120",
           "name": "Phung Lai"
          },
          {
           "authorId": "11032760",
           "name": "Nhathai Phan"
          },
          {
           "authorId": "100541102",
           "name": "H. Hu"
          },
          {
           "authorId": "1603029692",
           "name": "Anuja Badeti"
          },
          {
           "authorId": "2325975",
           "name": "D. Newman"
          },
          {
           "authorId": "1721158",
           "name": "D. Dou"
          }
         ],
         "doi": "10.1109/IJCNN48605.2020.9206753",
         "intent": [],
         "isInfluential": false,
         "paperId": "21d502c84df9d9d699a3cac71f13885ef8a345d4",
         "title": "Ontology-based Interpretable Machine Learning for Textual Data",
         "url": "https://www.semanticscholar.org/paper/21d502c84df9d9d699a3cac71f13885ef8a345d4",
         "venue": "2020 International Joint Conference on Neural Networks (IJCNN)",
         "year": 2020
        },
        {
         "arxivId": null,
         "authors": [
          {
           "authorId": "2480334",
           "name": "T. Louge"
          },
          {
           "authorId": "2214815",
           "name": "M. Karray"
          },
          {
           "authorId": "3241500",
           "name": "B. Archimède"
          }
         ],
         "doi": "10.1109/AICCSA.2018.8612844",
         "intent": [
          "background"
         ],
         "isInfluential": false,
         "paperId": "ffcb70617dc3e76e6815b7dae071be6a94dd3387",
         "title": "Investigating a Method for Automatic Construction and Population of Ontologies for Services: Performances and Limitations",
         "url": "https://www.semanticscholar.org/paper/ffcb70617dc3e76e6815b7dae071be6a94dd3387",
         "venue": "2018 IEEE/ACS 15th International Conference on Computer Systems and Applications (AICCSA)",
         "year": 2018
        },
        {
         "arxivId": null,
         "authors": [
          {
           "authorId": "1804464",
           "name": "M. Sordo"
          },
          {
           "authorId": "3149915",
           "name": "S. Oramas"
          },
          {
           "authorId": "2254466",
           "name": "Luis Espinosa Anke"
          }
         ],
         "doi": "10.1007/978-3-319-19581-0_33",
         "intent": [
          "background",
          "methodology"
         ],
         "isInfluential": false,
         "paperId": "7be5bc5112c055d17f6994304031e7972a8132c3",
         "title": "Extracting Relations from Unstructured Text Sources for Music Recommendation",
         "url": "https://www.semanticscholar.org/paper/7be5bc5112c055d17f6994304031e7972a8132c3",
         "venue": "NLDB",
         "year": 2015
        },
        {
         "arxivId": null,
         "authors": [
          {
           "authorId": "1736067",
           "name": "Isabelle Augenstein"
          },
          {
           "authorId": "2144272",
           "name": "D. Maynard"
          },
          {
           "authorId": "1758555",
           "name": "F. Ciravegna"
          }
         ],
         "doi": "10.1007/978-3-319-13704-9_3",
         "intent": [
          "background",
          "methodology"
         ],
         "isInfluential": false,
         "paperId": "d4887466e0492677fada020096f934d151066053",
         "title": "Relation Extraction from the Web Using Distant Supervision",
         "url": "https://www.semanticscholar.org/paper/d4887466e0492677fada020096f934d151066053",
         "venue": "EKAW",
         "year": 2014
        },
        {
         "arxivId": null,
         "authors": [
          {
           "authorId": "38123728",
           "name": "Rajesh Piryani"
          },
          {
           "authorId": "144022648",
           "name": "A. Uddin"
          },
          {
           "authorId": "26904322",
           "name": "M. Devaraj"
          },
          {
           "authorId": "1819952",
           "name": "V. Singh"
          }
         ],
         "doi": "10.1007/978-3-319-03844-5_53",
         "intent": [
          "methodology"
         ],
         "isInfluential": false,
         "paperId": "7710c4c7595ae514dc83d352ad42bb5c480653b9",
         "title": "An Algorithmic Formulation for Extracting Learning Concepts and Their Relatedness in eBook Texts",
         "url": "https://www.semanticscholar.org/paper/7710c4c7595ae514dc83d352ad42bb5c480653b9",
         "venue": "MIKE",
         "year": 2013
        },
        {
         "arxivId": null,
         "authors": [
          {
           "authorId": "2003596683",
           "name": "Hongying Wen"
          },
          {
           "authorId": "50860977",
           "name": "Z. Wang"
          },
          {
           "authorId": "1625440420",
           "name": "Qiang Lu"
          }
         ],
         "doi": "10.1145/3393527.3393548",
         "intent": [
          "methodology",
          "background"
         ],
         "isInfluential": false,
         "paperId": "034dc95f73dd9255a6b37b144388d4b6100681e1",
         "title": "Extracting Chinese Domain-specific Open Entity and Relation by Using Learning Patterns",
         "url": "https://www.semanticscholar.org/paper/034dc95f73dd9255a6b37b144388d4b6100681e1",
         "venue": "ACM TUR-C",
         "year": 2020
        },
        {
         "arxivId": null,
         "authors": [
          {
           "authorId": "46996933",
           "name": "Sandra Collovini de Abreu"
          },
          {
           "authorId": "144845513",
           "name": "R. Vieira"
          }
         ],
         "doi": "10.5771/0943-7444-2017-3-163",
         "intent": [
          "background",
          "methodology"
         ],
         "isInfluential": true,
         "paperId": "52376d375e2d1415788cc9aa571ea6c4acf7ac5a",
         "title": "RelP: Portuguese Open Relation Extraction",
         "url": "https://www.semanticscholar.org/paper/52376d375e2d1415788cc9aa571ea6c4acf7ac5a",
         "venue": "",
         "year": 2017
        },
        {
         "arxivId": null,
         "authors": [
          {
           "authorId": "1491181728",
           "name": "Senja Pollak"
          },
          {
           "authorId": "2007528",
           "name": "V. Podpecan"
          },
          {
           "authorId": "40220522",
           "name": "Dragana Miljkovic"
          },
          {
           "authorId": "104302501",
           "name": "Uros Stepisnik"
          },
          {
           "authorId": "49150785",
           "name": "Spela Vintar"
          }
         ],
         "doi": null,
         "intent": [
          "methodology"
         ],
         "isInfluential": true,
         "paperId": "5f2adc1799d9d63a121bd9ee5b7190bbb1aa6f2d",
         "title": "The NetViz terminology visualization tool and the use cases in karstology domain modeling",
         "url": "https://www.semanticscholar.org/paper/5f2adc1799d9d63a121bd9ee5b7190bbb1aa6f2d",
         "venue": "COMPUTERM",
         "year": 2020
        },
        {
         "arxivId": null,
         "authors": [
          {
           "authorId": null,
           "name": "Chérifa Ben Khelil"
          },
          {
           "authorId": null,
           "name": "Chiraz Ben Othmane Zribi"
          },
          {
           "authorId": "2383337",
           "name": "D. Duchier"
          },
          {
           "authorId": "1799986",
           "name": "Y. Parmentier"
          }
         ],
         "doi": null,
         "intent": [
          "background"
         ],
         "isInfluential": false,
         "paperId": "82e2fd462b6f9bf94b5000f201f3141689183257",
         "title": "Interface syntaxe-sémantique au moyen d'une grammaire d'arbres adjoints pour l'étiquetage sémantique de l'arabe (Syntax-semantic interface using Tree-adjoining grammar for Arabic semantic labeling)",
         "url": "https://www.semanticscholar.org/paper/82e2fd462b6f9bf94b5000f201f3141689183257",
         "venue": "CORIA-TALN-RJC",
         "year": 2018
        },
        {
         "arxivId": null,
         "authors": [
          {
           "authorId": "49454307",
           "name": "M. Orešković"
          }
         ],
         "doi": "10.13140/RG.2.2.31092.19849",
         "intent": [],
         "isInfluential": false,
         "paperId": "2be179312ab93158feed2795fab044d08432e6d8",
         "title": "An Online Syntactic and Semantic Framework for Lexical Relations Extraction Using Natural Language Deterministic Model",
         "url": "https://www.semanticscholar.org/paper/2be179312ab93158feed2795fab044d08432e6d8",
         "venue": "",
         "year": 2019
        },
        {
         "arxivId": null,
         "authors": [
          {
           "authorId": "2149322",
           "name": "R. Reinanda"
          }
         ],
         "doi": null,
         "intent": [
          "methodology"
         ],
         "isInfluential": false,
         "paperId": "58d88b88c5ce1a0ae29b5b522ccc5b249a7b0248",
         "title": "Entity associations for search",
         "url": "https://www.semanticscholar.org/paper/58d88b88c5ce1a0ae29b5b522ccc5b249a7b0248",
         "venue": "",
         "year": 2017
        },
        {
         "arxivId": null,
         "authors": [
          {
           "authorId": "144739109",
           "name": "Thomas Lin"
          },
          {
           "authorId": "2674444",
           "name": "Mausam"
          },
          {
           "authorId": "1741101",
           "name": "Oren Etzioni"
          }
         ],
         "doi": null,
         "intent": [
          "methodology"
         ],
         "isInfluential": false,
         "paperId": "cffb556ee3d1e188f4688b71a8608bbe1883bc49",
         "title": "No Noun Phrase Left Behind: Detecting and Typing Unlinkable Entities",
         "url": "https://www.semanticscholar.org/paper/cffb556ee3d1e188f4688b71a8608bbe1883bc49",
         "venue": "EMNLP-CoNLL",
         "year": 2012
        },
        {
         "arxivId": null,
         "authors": [
          {
           "authorId": "2594658",
           "name": "Peter Exner"
          },
          {
           "authorId": "1754406",
           "name": "P. Nugues"
          }
         ],
         "doi": null,
         "intent": [
          "background"
         ],
         "isInfluential": false,
         "paperId": "38c9c0a8d78904a43b0cedd9bbeebc0fc656d329",
         "title": "REFRACTIVE: An Open Source Tool to Extract Knowledge from Syntactic and Semantic Relations",
         "url": "https://www.semanticscholar.org/paper/38c9c0a8d78904a43b0cedd9bbeebc0fc656d329",
         "venue": "LREC",
         "year": 2014
        },
        {
         "arxivId": null,
         "authors": [
          {
           "authorId": "1860393",
           "name": "Erfan Najmi"
          },
          {
           "authorId": "1925831",
           "name": "K. Hashmi"
          },
          {
           "authorId": "1996569",
           "name": "Z. Malik"
          },
          {
           "authorId": "2022093",
           "name": "A. Rezgui"
          },
          {
           "authorId": "8346885",
           "name": "H. Khan"
          }
         ],
         "doi": "10.1109/AICCSA.2014.7073222",
         "intent": [
          "background"
         ],
         "isInfluential": false,
         "paperId": "14affbbfa0c41145cbe9f201b64ca4ebe0237865",
         "title": "ConceptOnto: An upper ontology based on ConceptNet",
         "url": "https://www.semanticscholar.org/paper/14affbbfa0c41145cbe9f201b64ca4ebe0237865",
         "venue": "2014 IEEE/ACS 11th International Conference on Computer Systems and Applications (AICCSA)",
         "year": 2014
        },
        {
         "arxivId": null,
         "authors": [
          {
           "authorId": "2129412",
           "name": "D. Wijaya"
          },
          {
           "authorId": "3115592",
           "name": "Ndapandula Nakashole"
          },
          {
           "authorId": "40975594",
           "name": "Tom Michael Mitchell"
          }
         ],
         "doi": "10.3115/v1/D14-1207",
         "intent": [],
         "isInfluential": false,
         "paperId": "d73048dc15b7b8aee3df2efc832916efc056816c",
         "title": "CTPs: Contextual Temporal Profiles for Time Scoping Facts using State Change Detection",
         "url": "https://www.semanticscholar.org/paper/d73048dc15b7b8aee3df2efc832916efc056816c",
         "venue": "EMNLP",
         "year": 2014
        },
        {
         "arxivId": null,
         "authors": [
          {
           "authorId": "47073471",
           "name": "L. Jibon Kumar Sharma"
          },
          {
           "authorId": "40204750",
           "name": "Namita Mittal"
          }
         ],
         "doi": null,
         "intent": [],
         "isInfluential": false,
         "paperId": "a4bdba697bc7411f4c634f42e791dbd8b54a0f5c",
         "title": "Topic Oriented Semantic Parsing A topic based question representation",
         "url": "https://www.semanticscholar.org/paper/a4bdba697bc7411f4c634f42e791dbd8b54a0f5c",
         "venue": "",
         "year": 2015
        },
        {
         "arxivId": null,
         "authors": [
          {
           "authorId": "2719181",
           "name": "Onuma Moolwat"
          }
         ],
         "doi": "10.1109/JCSSE.2015.7219774",
         "intent": [
          "background"
         ],
         "isInfluential": true,
         "paperId": "8b8b4dde735bfe2cf5f8fd7d2d6a4dc145bbee99",
         "title": "Using word-cooccurrence to determine health problems from health-care documents",
         "url": "https://www.semanticscholar.org/paper/8b8b4dde735bfe2cf5f8fd7d2d6a4dc145bbee99",
         "venue": "2015 12th International Joint Conference on Computer Science and Software Engineering (JCSSE)",
         "year": 2015
        },
        {
         "arxivId": null,
         "authors": [
          {
           "authorId": "2517825",
           "name": "J. Krishnamurthy"
          },
          {
           "authorId": "40975594",
           "name": "Tom Michael Mitchell"
          }
         ],
         "doi": "10.1162/tacl_a_00137",
         "intent": [
          "background"
         ],
         "isInfluential": false,
         "paperId": "1e4cfe280c97d4dc6cb69138cc370e9d81c13d17",
         "title": "Learning a Compositional Semantics for Freebase with an Open Predicate Vocabulary",
         "url": "https://www.semanticscholar.org/paper/1e4cfe280c97d4dc6cb69138cc370e9d81c13d17",
         "venue": "Transactions of the Association for Computational Linguistics",
         "year": 2015
        },
        {
         "arxivId": null,
         "authors": [
          {
           "authorId": "144759364",
           "name": "Y. Chen"
          },
          {
           "authorId": "50320297",
           "name": "Qinghua Zheng"
          },
          {
           "authorId": "143942122",
           "name": "P. Chen"
          }
         ],
         "doi": "10.1016/j.artint.2015.07.003",
         "intent": [],
         "isInfluential": false,
         "paperId": "0e98875a513bed2c10f542dd3a2c6a8a7c035b29",
         "title": "Feature assembly method for extracting relations in Chinese",
         "url": "https://www.semanticscholar.org/paper/0e98875a513bed2c10f542dd3a2c6a8a7c035b29",
         "venue": "Artif. Intell.",
         "year": 2015
        },
        {
         "arxivId": "1606.00979",
         "authors": [
          {
           "authorId": "48378872",
           "name": "Yuanzhe Zhang"
          },
          {
           "authorId": "2200096",
           "name": "Kang Liu"
          },
          {
           "authorId": "1954845",
           "name": "Shizhu He"
          },
          {
           "authorId": "1881550",
           "name": "Guoliang Ji"
          },
          {
           "authorId": "2313405",
           "name": "Zhanyi Liu"
          },
          {
           "authorId": "40354707",
           "name": "Hua Wu"
          },
          {
           "authorId": "1390572170",
           "name": "Jun Zhao"
          }
         ],
         "doi": null,
         "intent": [],
         "isInfluential": false,
         "paperId": "8961d25c0856afda2e9a468af3a7250f9b4f2ba4",
         "title": "Question Answering over Knowledge Base with Neural Attention Combining Global Knowledge Information",
         "url": "https://www.semanticscholar.org/paper/8961d25c0856afda2e9a468af3a7250f9b4f2ba4",
         "venue": "ArXiv",
         "year": 2016
        },
        {
         "arxivId": "1609.00070",
         "authors": [
          {
           "authorId": "2719924",
           "name": "A. Chaganty"
          },
          {
           "authorId": "145419642",
           "name": "Percy Liang"
          }
         ],
         "doi": "10.18653/v1/P16-1055",
         "intent": [
          "background"
         ],
         "isInfluential": false,
         "paperId": "c825b92effcf400ab1679071cef8233a5a6a18ba",
         "title": "How Much is 131 Million Dollars? Putting Numbers in Perspective with Compositional Descriptions",
         "url": "https://www.semanticscholar.org/paper/c825b92effcf400ab1679071cef8233a5a6a18ba",
         "venue": "ACL",
         "year": 2016
        },
        {
         "arxivId": null,
         "authors": [
          {
           "authorId": "3149915",
           "name": "S. Oramas"
          },
          {
           "authorId": "2254466",
           "name": "Luis Espinosa Anke"
          },
          {
           "authorId": "1804464",
           "name": "M. Sordo"
          },
          {
           "authorId": "3014320",
           "name": "Horacio Saggion"
          },
          {
           "authorId": "145201533",
           "name": "X. Serra"
          }
         ],
         "doi": "10.1016/j.datak.2016.06.001",
         "intent": [
          "background"
         ],
         "isInfluential": true,
         "paperId": "e03c587fc8f60e0eff6e6b829d229fee2c1fbdba",
         "title": "Information extraction for knowledge base construction in the music domain",
         "url": "https://www.semanticscholar.org/paper/e03c587fc8f60e0eff6e6b829d229fee2c1fbdba",
         "venue": "Data Knowl. Eng.",
         "year": 2016
        },
        {
         "arxivId": null,
         "authors": [
          {
           "authorId": "144536646",
           "name": "Rui Sun"
          },
          {
           "authorId": "143921504",
           "name": "Sheng Guo"
          },
          {
           "authorId": "1719916",
           "name": "Donghong Ji"
          }
         ],
         "doi": "10.1109/ICTAI.2016.0131",
         "intent": [
          "methodology"
         ],
         "isInfluential": false,
         "paperId": "22b280813666a15689d765ff83c12825b4b192b0",
         "title": "Open Domain Atomic Event Extraction via Double Propagation for Chinese Text",
         "url": "https://www.semanticscholar.org/paper/22b280813666a15689d765ff83c12825b4b192b0",
         "venue": "2016 IEEE 28th International Conference on Tools with Artificial Intelligence (ICTAI)",
         "year": 2016
        },
        {
         "arxivId": null,
         "authors": [
          {
           "authorId": "1875233",
           "name": "Bonan Min"
          }
         ],
         "doi": null,
         "intent": [],
         "isInfluential": false,
         "paperId": "4f4bca30d06183a6e10ea5efbdb07ee8d5c840bc",
         "title": "Relation Extraction with Weak Supervision and Distributional Semantics",
         "url": "https://www.semanticscholar.org/paper/4f4bca30d06183a6e10ea5efbdb07ee8d5c840bc",
         "venue": "",
         "year": 2013
        },
        {
         "arxivId": null,
         "authors": [
          {
           "authorId": "2731402",
           "name": "Olutobi Owoputi"
          },
          {
           "authorId": "153724741",
           "name": "Brendan T. O'Connor"
          },
          {
           "authorId": "1745899",
           "name": "Chris Dyer"
          },
          {
           "authorId": "1700980",
           "name": "Kevin Gimpel"
          },
          {
           "authorId": "118086307",
           "name": "Nathan A. Schneider"
          },
          {
           "authorId": "144365875",
           "name": "Noah A. Smith"
          }
         ],
         "doi": null,
         "intent": [
          "background"
         ],
         "isInfluential": true,
         "paperId": "09c2640b09b1eb0068afaece6bf9556dac2f5d14",
         "title": "Improved Part-of-Speech Tagging for Online Conversational Text with Word Clusters",
         "url": "https://www.semanticscholar.org/paper/09c2640b09b1eb0068afaece6bf9556dac2f5d14",
         "venue": "HLT-NAACL",
         "year": 2013
        },
        {
         "arxivId": null,
         "authors": [
          {
           "authorId": "2420171",
           "name": "Aldo Gangemi"
          }
         ],
         "doi": "10.1007/978-3-642-38288-8_24",
         "intent": [
          "background"
         ],
         "isInfluential": false,
         "paperId": "e0524762b23b5fa45b777ea590fd44dd5dfb1056",
         "title": "A Comparison of Knowledge Extraction Tools for the Semantic Web",
         "url": "https://www.semanticscholar.org/paper/e0524762b23b5fa45b777ea590fd44dd5dfb1056",
         "venue": "ESWC",
         "year": 2013
        },
        {
         "arxivId": null,
         "authors": [
          {
           "authorId": "35084211",
           "name": "M. Lewis"
          },
          {
           "authorId": "145332819",
           "name": "Mark Steedman"
          }
         ],
         "doi": null,
         "intent": [
          "methodology",
          "background"
         ],
         "isInfluential": false,
         "paperId": "f8a66c357920105564486a565b028c7340fe282a",
         "title": "Unsupervised Induction of Cross-Lingual Semantic Relations",
         "url": "https://www.semanticscholar.org/paper/f8a66c357920105564486a565b028c7340fe282a",
         "venue": "EMNLP",
         "year": 2013
        },
        {
         "arxivId": "1311.5204",
         "authors": [
          {
           "authorId": "2880178",
           "name": "Georgios Skoumas"
          },
          {
           "authorId": "2258036",
           "name": "D. Pfoser"
          },
          {
           "authorId": "3393746",
           "name": "Anastasios Kyrillidis"
          }
         ],
         "doi": "10.1145/2534732.2534742",
         "intent": [
          "methodology"
         ],
         "isInfluential": false,
         "paperId": "282963f94df9a5b9c460825b055b02b99a368c03",
         "title": "On quantifying qualitative geospatial data: a probabilistic approach",
         "url": "https://www.semanticscholar.org/paper/282963f94df9a5b9c460825b055b02b99a368c03",
         "venue": "GEOCROWD '13",
         "year": 2013
        },
        {
         "arxivId": null,
         "authors": [
          {
           "authorId": "2431106",
           "name": "Naomi Zeichner"
          },
          {
           "authorId": "1750652",
           "name": "Jonathan Berant"
          },
          {
           "authorId": "7465342",
           "name": "I. Dagan"
          }
         ],
         "doi": null,
         "intent": [
          "methodology"
         ],
         "isInfluential": false,
         "paperId": "3f6f3f3549a023d328512ce94a51cfa1f13d57f7",
         "title": "Crowdsourcing Inference-Rule Evaluation",
         "url": "https://www.semanticscholar.org/paper/3f6f3f3549a023d328512ce94a51cfa1f13d57f7",
         "venue": "ACL",
         "year": 2012
        },
        {
         "arxivId": null,
         "authors": [
          {
           "authorId": "49633004",
           "name": "I. Ceylan"
          },
          {
           "authorId": "1700031",
           "name": "Adnan Darwiche"
          },
          {
           "authorId": "1749506",
           "name": "Guy Van den Broeck"
          }
         ],
         "doi": null,
         "intent": [
          "background"
         ],
         "isInfluential": false,
         "paperId": "4e2ff9c522830d3fd1d9db61b8bef0b1a1e9afb5",
         "title": "Open World Probabilistic Databases (Extended Abstract)",
         "url": "https://www.semanticscholar.org/paper/4e2ff9c522830d3fd1d9db61b8bef0b1a1e9afb5",
         "venue": "Description Logics",
         "year": 2016
        },
        {
         "arxivId": null,
         "authors": [
          {
           "authorId": "11974049",
           "name": "Arnab Dutta"
          },
          {
           "authorId": "1795542",
           "name": "Christian Meilicke"
          },
          {
           "authorId": "1698459",
           "name": "H. Stuckenschmidt"
          }
         ],
         "doi": "10.3233/978-1-61499-421-3-111",
         "intent": [
          "background"
         ],
         "isInfluential": false,
         "paperId": "dd8c56acebbf992bfadacf7377f747fbe3844e90",
         "title": "Semantifying Triples from Open Information Extraction Systems",
         "url": "https://www.semanticscholar.org/paper/dd8c56acebbf992bfadacf7377f747fbe3844e90",
         "venue": "STAIRS",
         "year": 2014
        },
        {
         "arxivId": null,
         "authors": [
          {
           "authorId": "3452859",
           "name": "Ahmad Aghaebrahimian"
          }
         ],
         "doi": null,
         "intent": [
          "background"
         ],
         "isInfluential": false,
         "paperId": "890318caeda7d76dfbb5f0b1702f64d17b1ea345",
         "title": "Hybrid Deep Open-Domain Question Answering",
         "url": "https://www.semanticscholar.org/paper/890318caeda7d76dfbb5f0b1702f64d17b1ea345",
         "venue": "",
         "year": 2017
        },
        {
         "arxivId": null,
         "authors": [
          {
           "authorId": "33404941",
           "name": "N. Nguyen"
          },
          {
           "authorId": "1731657",
           "name": "Makoto Miwa"
          },
          {
           "authorId": "143946906",
           "name": "Yoshimasa Tsuruoka"
          },
          {
           "authorId": "1757520",
           "name": "S. Tojo"
          }
         ],
         "doi": null,
         "intent": [
          "background",
          "methodology"
         ],
         "isInfluential": true,
         "paperId": "257a6f896bd432e25a591dae341c26ff2881b109",
         "title": "Extraction from Biomedical Literature Using Predicate-Argument Structure Patterns",
         "url": "https://www.semanticscholar.org/paper/257a6f896bd432e25a591dae341c26ff2881b109",
         "venue": "",
         "year": 2013
        },
        {
         "arxivId": null,
         "authors": [
          {
           "authorId": "144295318",
           "name": "S. Soderland"
          },
          {
           "authorId": "35994491",
           "name": "Natalie Hawkins"
          },
          {
           "authorId": "12830946",
           "name": "L. Kim"
          },
          {
           "authorId": "1780531",
           "name": "Daniel S. Weld"
          }
         ],
         "doi": null,
         "intent": [
          "methodology"
         ],
         "isInfluential": false,
         "paperId": "addddcf28c729a206ee6862590a7ca8796ea64c3",
         "title": "University of Washington System for 2015 KBP Cold Start Slot Filling",
         "url": "https://www.semanticscholar.org/paper/addddcf28c729a206ee6862590a7ca8796ea64c3",
         "venue": "",
         "year": 2015
        },
        {
         "arxivId": null,
         "authors": [
          {
           "authorId": "2127252",
           "name": "Manel Achichi"
          },
          {
           "authorId": "1773883",
           "name": "Zohra Bellahsene"
          },
          {
           "authorId": "1789397",
           "name": "D. Ienco"
          },
          {
           "authorId": "2594085",
           "name": "K. Todorov"
          }
         ],
         "doi": null,
         "intent": [
          "methodology"
         ],
         "isInfluential": false,
         "paperId": "c84af82b12f9e36fd7a7b45a70df828230b46965",
         "title": "Towards Linked Data Extraction From Tweets",
         "url": "https://www.semanticscholar.org/paper/c84af82b12f9e36fd7a7b45a70df828230b46965",
         "venue": "EGC",
         "year": 2015
        },
        {
         "arxivId": null,
         "authors": [
          {
           "authorId": null,
           "name": "Fernando Gutierrez Towards"
          }
         ],
         "doi": null,
         "intent": [
          "methodology",
          "background"
         ],
         "isInfluential": true,
         "paperId": "6418257714300054c717034544f2c64503776e51",
         "title": "Ontology-based Error Detection in Text",
         "url": "https://www.semanticscholar.org/paper/6418257714300054c717034544f2c64503776e51",
         "venue": "",
         "year": 2014
        },
        {
         "arxivId": null,
         "authors": [
          {
           "authorId": "1736067",
           "name": "Isabelle Augenstein"
          }
         ],
         "doi": "10.1007/978-3-319-11915-1_32",
         "intent": [
          "methodology"
         ],
         "isInfluential": false,
         "paperId": "f078482a7ebeeb5f62460685fbd1767d634a9a50",
         "title": "Joint Information Extraction from the Web Using Linked Data",
         "url": "https://www.semanticscholar.org/paper/f078482a7ebeeb5f62460685fbd1767d634a9a50",
         "venue": "International Semantic Web Conference",
         "year": 2014
        },
        {
         "arxivId": null,
         "authors": [
          {
           "authorId": "1721168",
           "name": "Niket Tandon"
          }
         ],
         "doi": "10.22028/D291-26668",
         "intent": [],
         "isInfluential": false,
         "paperId": "5e9e3afeea446a2ae19e3a8e0678f08b73b0b36b",
         "title": "Commonsense knowledge acquisition and applications",
         "url": "https://www.semanticscholar.org/paper/5e9e3afeea446a2ae19e3a8e0678f08b73b0b36b",
         "venue": "",
         "year": 2016
        },
        {
         "arxivId": null,
         "authors": [
          {
           "authorId": "143772714",
           "name": "Paul Groth"
          }
         ],
         "doi": null,
         "intent": [
          "background"
         ],
         "isInfluential": false,
         "paperId": "8f5e2331fc45965787c4987d944c95cad7c536a0",
         "title": "Extraction on Scientific Text : An Evaluation",
         "url": "https://www.semanticscholar.org/paper/8f5e2331fc45965787c4987d944c95cad7c536a0",
         "venue": "",
         "year": 2018
        },
        {
         "arxivId": null,
         "authors": [
          {
           "authorId": "1694279",
           "name": "D. Embley"
          },
          {
           "authorId": "1742211",
           "name": "S. W. Liddle"
          },
          {
           "authorId": "1730612",
           "name": "Deryle W. Lonsdale"
          },
          {
           "authorId": "145601095",
           "name": "N. Scott"
          },
          {
           "authorId": "30034154",
           "name": "Woodfield"
          }
         ],
         "doi": null,
         "intent": [
          "background"
         ],
         "isInfluential": false,
         "paperId": "f449fadea0d9c2d5f99e28df4b48ed6272bc8a49",
         "title": "Mayr Ontological Document Reading An Experience Report",
         "url": "https://www.semanticscholar.org/paper/f449fadea0d9c2d5f99e28df4b48ed6272bc8a49",
         "venue": "",
         "year": 2018
        },
        {
         "arxivId": null,
         "authors": [
          {
           "authorId": "11121990",
           "name": "Huan Sun"
          }
         ],
         "doi": null,
         "intent": [
          "background"
         ],
         "isInfluential": false,
         "paperId": "aef32e09f5291dbf002a9c26b0cfa1a2f4b1fba9",
         "title": "Mining Disparate Sources for Question Answering",
         "url": "https://www.semanticscholar.org/paper/aef32e09f5291dbf002a9c26b0cfa1a2f4b1fba9",
         "venue": "",
         "year": 2016
        },
        {
         "arxivId": "1607.02784",
         "authors": [
          {
           "authorId": "3185452",
           "name": "Duc-Thuan Vo"
          },
          {
           "authorId": "145632843",
           "name": "E. Bagheri"
          }
         ],
         "doi": "10.1142/S2425038416300032",
         "intent": [],
         "isInfluential": false,
         "paperId": "06602d1f75bce482814c5686ccad96a5ab511847",
         "title": "Open Information Extraction",
         "url": "https://www.semanticscholar.org/paper/06602d1f75bce482814c5686ccad96a5ab511847",
         "venue": "Encycl. Semantic Comput. Robotic Intell.",
         "year": 2017
        },
        {
         "arxivId": null,
         "authors": [
          {
           "authorId": "145000759",
           "name": "Ivo Serra"
          },
          {
           "authorId": "2223008",
           "name": "R. Girardi"
          },
          {
           "authorId": "145302989",
           "name": "P. Novais"
          }
         ],
         "doi": "10.1016/j.eswa.2014.02.042",
         "intent": [],
         "isInfluential": false,
         "paperId": "0042ec1b16838405193449c554207f0ac6b3d081",
         "title": "Evaluating techniques for learning non-taxonomic relationships of ontologies from text",
         "url": "https://www.semanticscholar.org/paper/0042ec1b16838405193449c554207f0ac6b3d081",
         "venue": "Expert Syst. Appl.",
         "year": 2014
        },
        {
         "arxivId": null,
         "authors": [
          {
           "authorId": "1769176",
           "name": "Anne-Laure Ligozat"
          },
          {
           "authorId": "24194345",
           "name": "P. Cellier"
          },
          {
           "authorId": "1801529",
           "name": "A. Minard"
          },
          {
           "authorId": "1735666",
           "name": "V. Claveau"
          },
          {
           "authorId": "2105490",
           "name": "Cyril Grouin"
          },
          {
           "authorId": "2552801",
           "name": "P. Paroubek"
          }
         ],
         "doi": null,
         "intent": [],
         "isInfluential": false,
         "paperId": "aa7e34b8283ef99ae68bdebdbfe7550ee04b0503",
         "title": "Actes de la conférence Traitement Automatique de la Langue Naturelle, TALN 2018",
         "url": "https://www.semanticscholar.org/paper/aa7e34b8283ef99ae68bdebdbfe7550ee04b0503",
         "venue": "",
         "year": 2018
        },
        {
         "arxivId": null,
         "authors": [
          {
           "authorId": "1765130",
           "name": "Renuka Sindhgatta"
          },
          {
           "authorId": "1695281",
           "name": "A. Ghose"
          },
          {
           "authorId": "2199994",
           "name": "Khanh Hoa Dam"
          }
         ],
         "doi": "10.1007/978-3-319-98651-7_9",
         "intent": [],
         "isInfluential": false,
         "paperId": "936d8569104523154bdaa1004b5f83ce02372fe5",
         "title": "Leveraging Unstructured Data to Analyze Implicit Process Context",
         "url": "https://www.semanticscholar.org/paper/936d8569104523154bdaa1004b5f83ce02372fe5",
         "venue": "BPM",
         "year": 2018
        },
        {
         "arxivId": null,
         "authors": [
          {
           "authorId": "50694575",
           "name": "Pasqua Fabiana Lanotte"
          },
          {
           "authorId": "1703660",
           "name": "F. Fumarola"
          },
          {
           "authorId": "144841444",
           "name": "Michelangelo Ceci"
          },
          {
           "authorId": "2253967",
           "name": "A. Scarpino"
          },
          {
           "authorId": "39769287",
           "name": "M. Torelli"
          },
          {
           "authorId": "1738657",
           "name": "D. Malerba"
          }
         ],
         "doi": "10.1007/978-3-319-08326-1_37",
         "intent": [
          "background"
         ],
         "isInfluential": false,
         "paperId": "6cbf32b08abb9e25ddfc9e8ef35079bfd067425f",
         "title": "Automatic Extraction of Logical Web Lists",
         "url": "https://www.semanticscholar.org/paper/6cbf32b08abb9e25ddfc9e8ef35079bfd067425f",
         "venue": "ISMIS",
         "year": 2014
        },
        {
         "arxivId": null,
         "authors": [
          {
           "authorId": "2681499",
           "name": "Sarath Kumar Kondreddi"
          },
          {
           "authorId": "1732298",
           "name": "P. Triantafillou"
          },
          {
           "authorId": "1751591",
           "name": "G. Weikum"
          }
         ],
         "doi": "10.1145/2487788.2487825",
         "intent": [
          "methodology"
         ],
         "isInfluential": false,
         "paperId": "6088abdcd27515f99d108cd2f02c24a5ff96668f",
         "title": "HIGGINS: knowledge acquisition meets the crowds",
         "url": "https://www.semanticscholar.org/paper/6088abdcd27515f99d108cd2f02c24a5ff96668f",
         "venue": "WWW '13 Companion",
         "year": 2013
        },
        {
         "arxivId": null,
         "authors": [
          {
           "authorId": "81034267",
           "name": "Tien-Hsuan Wu"
          },
          {
           "authorId": "150358371",
           "name": "Zhiyong Wu"
          },
          {
           "authorId": "145868757",
           "name": "B. Kao"
          },
          {
           "authorId": "38253388",
           "name": "Pengcheng Yin"
          }
         ],
         "doi": "10.1145/3269206.3271707",
         "intent": [
          "methodology"
         ],
         "isInfluential": true,
         "paperId": "2e18a3aa382fc03ae197cb484b0119d57b8cf584",
         "title": "Towards Practical Open Knowledge Base Canonicalization",
         "url": "https://www.semanticscholar.org/paper/2e18a3aa382fc03ae197cb484b0119d57b8cf584",
         "venue": "CIKM",
         "year": 2018
        },
        {
         "arxivId": null,
         "authors": [
          {
           "authorId": "2265142",
           "name": "Ngoc Phuoc An Vo"
          },
          {
           "authorId": "1698656",
           "name": "O. Popescu"
          },
          {
           "authorId": "1757683",
           "name": "V. Sheinin"
          },
          {
           "authorId": "32169187",
           "name": "E. Khorasani"
          },
          {
           "authorId": "34404882",
           "name": "H. Yeo"
          }
         ],
         "doi": "10.1007/978-3-030-23281-8_34",
         "intent": [],
         "isInfluential": false,
         "paperId": "36b37f9e39bb16dc362b0641eff0ab3f145ef31b",
         "title": "A Natural Language Interface Supporting Complex Logic Questions for Relational Databases",
         "url": "https://www.semanticscholar.org/paper/36b37f9e39bb16dc362b0641eff0ab3f145ef31b",
         "venue": "NLDB",
         "year": 2019
        },
        {
         "arxivId": null,
         "authors": [
          {
           "authorId": "6479097",
           "name": "Hanshuo Zhang"
          },
          {
           "authorId": "118493663",
           "name": "D. Yang"
          }
         ],
         "doi": "10.1109/ICCC47050.2019.9064386",
         "intent": [
          "methodology"
         ],
         "isInfluential": false,
         "paperId": "aa5aa1178dd405f42b3eb4d97bc830d332d79c1c",
         "title": "Research on Construction and Evolution of Relational Graph of the Science and Technology Data",
         "url": "https://www.semanticscholar.org/paper/aa5aa1178dd405f42b3eb4d97bc830d332d79c1c",
         "venue": "2019 IEEE 5th International Conference on Computer and Communications (ICCC)",
         "year": 2019
        },
        {
         "arxivId": "2005.07751",
         "authors": [
          {
           "authorId": "3430563",
           "name": "Ruben Kruiper"
          },
          {
           "authorId": "117737005",
           "name": "J. F. Vincent"
          },
          {
           "authorId": "1403798853",
           "name": "Jessica Chen-Burger"
          },
          {
           "authorId": "144057272",
           "name": "M. Desmulliez"
          },
          {
           "authorId": "2621022",
           "name": "Ioannis Konstas"
          }
         ],
         "doi": "10.18653/v1/2020.acl-main.137",
         "intent": [],
         "isInfluential": false,
         "paperId": "cf6b6a55e3e10fdb5590c66ef6056abe40c867e7",
         "title": "In Layman's Terms: Semi-Open Relation Extraction from Scientific Texts",
         "url": "https://www.semanticscholar.org/paper/cf6b6a55e3e10fdb5590c66ef6056abe40c867e7",
         "venue": "ACL",
         "year": 2020
        },
        {
         "arxivId": "1405.0603",
         "authors": [
          {
           "authorId": "3197800",
           "name": "Aibek Makazhanov"
          },
          {
           "authorId": "145690522",
           "name": "Denilson Barbosa"
          },
          {
           "authorId": "46474310",
           "name": "Grzegorz Kondrak"
          }
         ],
         "doi": null,
         "intent": [],
         "isInfluential": false,
         "paperId": "f3114a2486fc7c10e92129b1fce9ce958dea3b8d",
         "title": "Extracting Family Relationship Networks from Novels",
         "url": "https://www.semanticscholar.org/paper/f3114a2486fc7c10e92129b1fce9ce958dea3b8d",
         "venue": "ArXiv",
         "year": 2014
        },
        {
         "arxivId": "1602.06977",
         "authors": [
          {
           "authorId": "2660071",
           "name": "Ethan Fast"
          },
          {
           "authorId": "40166636",
           "name": "William McGrath"
          },
          {
           "authorId": "2706258",
           "name": "Pranav Rajpurkar"
          },
          {
           "authorId": "145879842",
           "name": "Michael S. Bernstein"
          }
         ],
         "doi": "10.1145/2858036.2858528",
         "intent": [
          "background"
         ],
         "isInfluential": false,
         "paperId": "dda30d17d968b756ef21120aa688d849ac5ca3d1",
         "title": "Augur: Mining Human Behaviors from Fiction to Power Interactive Systems",
         "url": "https://www.semanticscholar.org/paper/dda30d17d968b756ef21120aa688d849ac5ca3d1",
         "venue": "CHI",
         "year": 2016
        },
        {
         "arxivId": null,
         "authors": [
          {
           "authorId": "2044056",
           "name": "Olena Medelyan"
          },
          {
           "authorId": "9419406",
           "name": "I. Witten"
          },
          {
           "authorId": "2545677",
           "name": "Anna Divoli"
          },
          {
           "authorId": "3037266",
           "name": "J. Broekstra"
          }
         ],
         "doi": "10.1002/widm.1097",
         "intent": [],
         "isInfluential": false,
         "paperId": "b159dac9ec006f27b88a722defd779093b01f5c5",
         "title": "Automatic construction of lexicons, taxonomies, ontologies, and other knowledge structures",
         "url": "https://www.semanticscholar.org/paper/b159dac9ec006f27b88a722defd779093b01f5c5",
         "venue": "Wiley Interdiscip. Rev. Data Min. Knowl. Discov.",
         "year": 2013
        },
        {
         "arxivId": null,
         "authors": [
          {
           "authorId": "2278461",
           "name": "Peiqian Liu"
          },
          {
           "authorId": "39527132",
           "name": "Xiaojie Wang"
          }
         ],
         "doi": "10.1155/2018/4929674",
         "intent": [
          "methodology",
          "background"
         ],
         "isInfluential": false,
         "paperId": "52dab532f423006aaaef01f8746c4be528b4b143",
         "title": "A Semieager Classifier for Open Relation Extraction",
         "url": "https://www.semanticscholar.org/paper/52dab532f423006aaaef01f8746c4be528b4b143",
         "venue": "",
         "year": 2018
        },
        {
         "arxivId": null,
         "authors": [
          {
           "authorId": "143857124",
           "name": "L. Yu"
          },
          {
           "authorId": "1935655",
           "name": "P. Qiu"
          },
          {
           "authorId": "5039186",
           "name": "Jialiang Gao"
          },
          {
           "authorId": "145053995",
           "name": "F. Lu"
          }
         ],
         "doi": "10.3390/ijgi8020059",
         "intent": [
          "methodology"
         ],
         "isInfluential": false,
         "paperId": "d896d6f31eb417bdaf4c4ebe7ac1f28b51af888d",
         "title": "A Knowledge-Based Filtering Method for Open Relations among Geo-Entities",
         "url": "https://www.semanticscholar.org/paper/d896d6f31eb417bdaf4c4ebe7ac1f28b51af888d",
         "venue": "ISPRS Int. J. Geo Inf.",
         "year": 2019
        },
        {
         "arxivId": null,
         "authors": [
          {
           "authorId": "2403712",
           "name": "A. Akbik"
          },
          {
           "authorId": "3289992",
           "name": "Alexander Löser"
          }
         ],
         "doi": null,
         "intent": [
          "methodology",
          "background"
         ],
         "isInfluential": true,
         "paperId": "659344fe40d46f68445a068e7e8d68ffc379eba4",
         "title": "KrakeN: N-ary Facts in Open Information Extraction",
         "url": "https://www.semanticscholar.org/paper/659344fe40d46f68445a068e7e8d68ffc379eba4",
         "venue": "AKBC-WEKEX@NAACL-HLT",
         "year": 2012
        },
        {
         "arxivId": null,
         "authors": [
          {
           "authorId": "47818709",
           "name": "Liwei Chen"
          },
          {
           "authorId": "1717629",
           "name": "Yansong Feng"
          },
          {
           "authorId": "2489153",
           "name": "Jinghui Mo"
          },
          {
           "authorId": "2410938",
           "name": "Songfang Huang"
          },
          {
           "authorId": "144060462",
           "name": "Dongyan Zhao"
          }
         ],
         "doi": "10.3115/v1/D14-1205",
         "intent": [
          "background",
          "methodology"
         ],
         "isInfluential": false,
         "paperId": "f98921c8040277eab6c95b02eeda1d795fa10a6b",
         "title": "Joint Inference for Knowledge Base Population",
         "url": "https://www.semanticscholar.org/paper/f98921c8040277eab6c95b02eeda1d795fa10a6b",
         "venue": "EMNLP",
         "year": 2014
        },
        {
         "arxivId": null,
         "authors": [
          {
           "authorId": "143762153",
           "name": "Pablo Gamallo"
          },
          {
           "authorId": "144918133",
           "name": "Marcos Garcia"
          }
         ],
         "doi": "10.1007/978-3-319-23485-4_72",
         "intent": [
          "background"
         ],
         "isInfluential": false,
         "paperId": "7ccf5a43bb9c5b6e7e9de776958d4b925d7425c3",
         "title": "Multilingual Open Information Extraction",
         "url": "https://www.semanticscholar.org/paper/7ccf5a43bb9c5b6e7e9de776958d4b925d7425c3",
         "venue": "EPIA",
         "year": 2015
        },
        {
         "arxivId": null,
         "authors": [
          {
           "authorId": "2719181",
           "name": "Onuma Moolwat"
          },
          {
           "authorId": "2551334",
           "name": "Chaveevan Pechsiri"
          }
         ],
         "doi": "10.1109/EAIS.2015.7368786",
         "intent": [
          "background",
          "methodology"
         ],
         "isInfluential": true,
         "paperId": "403354452dc74744a34a342ddd1bab9094a86616",
         "title": "Multi-Word-Co-occurrence collection from texts for health-problem diagnosis",
         "url": "https://www.semanticscholar.org/paper/403354452dc74744a34a342ddd1bab9094a86616",
         "venue": "2015 IEEE International Conference on Evolving and Adaptive Intelligent Systems (EAIS)",
         "year": 2015
        },
        {
         "arxivId": null,
         "authors": [
          {
           "authorId": "2698038",
           "name": "Sanjay Chatterji"
          },
          {
           "authorId": "2124183",
           "name": "Nitish Varshney"
          },
          {
           "authorId": "3415993",
           "name": "Parnab Kumar Chanda"
          },
          {
           "authorId": "41188136",
           "name": "Vibhor Mittal"
          },
          {
           "authorId": "3415767",
           "name": "Bhavi Bhagwan Jagwani"
          }
         ],
         "doi": "10.1007/978-3-319-41754-7_15",
         "intent": [],
         "isInfluential": false,
         "paperId": "5f8b6aee5c5afc1b54da6262508b93dc17fadcb1",
         "title": "Extracting and Representing Higher Order Predicate Relations between Concepts",
         "url": "https://www.semanticscholar.org/paper/5f8b6aee5c5afc1b54da6262508b93dc17fadcb1",
         "venue": "NLDB",
         "year": 2016
        },
        {
         "arxivId": null,
         "authors": [
          {
           "authorId": "2615202",
           "name": "Saud Alashri"
          },
          {
           "authorId": "2351429",
           "name": "Sultan Alzahrani"
          },
          {
           "authorId": "2496901",
           "name": "Jiun-Yi Tsai"
          },
          {
           "authorId": "3024721",
           "name": "Steven R. Corman"
          },
          {
           "authorId": "1789798",
           "name": "Hasan Davulcu"
          }
         ],
         "doi": "10.1142/S1793351X16400055",
         "intent": [
          "methodology"
         ],
         "isInfluential": false,
         "paperId": "e084e14212acebc039d01dd512ab49e92577a7d8",
         "title": "\"Climate Change\" Frames Detection and Categorization Based on Generalized Concepts",
         "url": "https://www.semanticscholar.org/paper/e084e14212acebc039d01dd512ab49e92577a7d8",
         "venue": "Int. J. Semantic Comput.",
         "year": 2016
        },
        {
         "arxivId": "1609.04281",
         "authors": [
          {
           "authorId": "2149322",
           "name": "R. Reinanda"
          },
          {
           "authorId": "1811015",
           "name": "E. Meij"
          },
          {
           "authorId": "1696030",
           "name": "M. Rijke"
          }
         ],
         "doi": "10.1145/2983323.2983728",
         "intent": [
          "methodology"
         ],
         "isInfluential": false,
         "paperId": "6f911f69cba8ad28d4f059eb462eebd95345920f",
         "title": "Document Filtering for Long-tail Entities",
         "url": "https://www.semanticscholar.org/paper/6f911f69cba8ad28d4f059eb462eebd95345920f",
         "venue": "CIKM",
         "year": 2016
        },
        {
         "arxivId": null,
         "authors": [
          {
           "authorId": "144073290",
           "name": "M. Fossati"
          },
          {
           "authorId": "51020045",
           "name": "Emilio Dorigatti"
          },
          {
           "authorId": "1697414",
           "name": "C. Giuliano"
          }
         ],
         "doi": "10.3233/SW-170269",
         "intent": [
          "background"
         ],
         "isInfluential": false,
         "paperId": "65ddab1404c873a21975237f08be1285f3d0fb21",
         "title": "N-ary relation extraction for simultaneous T-Box and A-Box knowledge base augmentation",
         "url": "https://www.semanticscholar.org/paper/65ddab1404c873a21975237f08be1285f3d0fb21",
         "venue": "Semantic Web",
         "year": 2018
        },
        {
         "arxivId": null,
         "authors": [
          {
           "authorId": "145913493",
           "name": "S. Henry"
          },
          {
           "authorId": "1967721",
           "name": "Bridget T. McInnes"
          }
         ],
         "doi": "10.1016/j.jbi.2017.08.011",
         "intent": [],
         "isInfluential": false,
         "paperId": "4924c2eb4b5cf9d19aa157da957cad11cb70d366",
         "title": "Literature Based Discovery: Models, methods, and trends",
         "url": "https://www.semanticscholar.org/paper/4924c2eb4b5cf9d19aa157da957cad11cb70d366",
         "venue": "J. Biomed. Informatics",
         "year": 2017
        },
        {
         "arxivId": null,
         "authors": [
          {
           "authorId": "1875906",
           "name": "Luciano Del Corro"
          },
          {
           "authorId": "1777107",
           "name": "Rainer Gemulla"
          }
         ],
         "doi": "10.1145/2488388.2488420",
         "intent": [
          "background"
         ],
         "isInfluential": true,
         "paperId": "406f6caa0b091cd9305d69b58e075765728b3802",
         "title": "ClausIE: clause-based open information extraction",
         "url": "https://www.semanticscholar.org/paper/406f6caa0b091cd9305d69b58e075765728b3802",
         "venue": "WWW '13",
         "year": 2013
        },
        {
         "arxivId": null,
         "authors": [
          {
           "authorId": "2949185",
           "name": "Ellie Pavlick"
          },
          {
           "authorId": "1724629",
           "name": "Marius Pasca"
          }
         ],
         "doi": "10.18653/v1/P17-1192",
         "intent": [
          "methodology"
         ],
         "isInfluential": false,
         "paperId": "b7622a46f91421cd31f9d28e8be39d86e72547b1",
         "title": "Identifying 1950s American Jazz Musicians: Fine-Grained IsA Extraction via Modifier Composition",
         "url": "https://www.semanticscholar.org/paper/b7622a46f91421cd31f9d28e8be39d86e72547b1",
         "venue": "ACL",
         "year": 2017
        },
        {
         "arxivId": null,
         "authors": [
          {
           "authorId": "2285596",
           "name": "N. Hanafiah"
          },
          {
           "authorId": "1761310",
           "name": "C. Quix"
          }
         ],
         "doi": "10.1007/978-3-319-05476-6_12",
         "intent": [
          "methodology"
         ],
         "isInfluential": false,
         "paperId": "0da4a19c6656f9253e9d6e9e3ed9fae918749ddc",
         "title": "Entity Recognition in Information Extraction",
         "url": "https://www.semanticscholar.org/paper/0da4a19c6656f9253e9d6e9e3ed9fae918749ddc",
         "venue": "ACIIDS",
         "year": 2014
        },
        {
         "arxivId": null,
         "authors": [
          {
           "authorId": "2077657",
           "name": "Melisachew Wudage Chekol"
          },
          {
           "authorId": "145750056",
           "name": "G. Pirrò"
          },
          {
           "authorId": "2264589",
           "name": "J. Schoenfisch"
          },
          {
           "authorId": "1698459",
           "name": "H. Stuckenschmidt"
          }
         ],
         "doi": null,
         "intent": [
          "background"
         ],
         "isInfluential": false,
         "paperId": "9badd26e11967f16adf3eaa77cb9e86b90d24741",
         "title": "Marrying Uncertainty and Time in Knowledge Graphs",
         "url": "https://www.semanticscholar.org/paper/9badd26e11967f16adf3eaa77cb9e86b90d24741",
         "venue": "AAAI",
         "year": 2017
        },
        {
         "arxivId": "1302.4874",
         "authors": [
          {
           "authorId": "143976871",
           "name": "Gonçalo Simões"
          },
          {
           "authorId": "2540160",
           "name": "Helena Galhardas"
          },
          {
           "authorId": "4284219",
           "name": "David Martins de Matos"
          }
         ],
         "doi": null,
         "intent": [
          "background"
         ],
         "isInfluential": false,
         "paperId": "c41d20786af013527534a11bbc38945563f4fe5f",
         "title": "A Labeled Graph Kernel for Relationship Extraction",
         "url": "https://www.semanticscholar.org/paper/c41d20786af013527534a11bbc38945563f4fe5f",
         "venue": "ArXiv",
         "year": 2013
        },
        {
         "arxivId": null,
         "authors": [
          {
           "authorId": "49534706",
           "name": "Mitja Trampus"
          }
         ],
         "doi": null,
         "intent": [],
         "isInfluential": false,
         "paperId": "a7204c0f53cfe2dd3b20a9168c1c9d48637e773f",
         "title": "Semantic approaches to domain template construction and opinion mining from natural language",
         "url": "https://www.semanticscholar.org/paper/a7204c0f53cfe2dd3b20a9168c1c9d48637e773f",
         "venue": "",
         "year": 2015
        },
        {
         "arxivId": null,
         "authors": [
          {
           "authorId": "1405384395",
           "name": "Luis Espinosa-Anke"
          }
         ],
         "doi": null,
         "intent": [],
         "isInfluential": false,
         "paperId": "c5931a1b95e43cfa7ed9d3e908caf7917bd375a9",
         "title": "Knowledge acquisition in the information age: the interplay between lexicography and natural language processing",
         "url": "https://www.semanticscholar.org/paper/c5931a1b95e43cfa7ed9d3e908caf7917bd375a9",
         "venue": "",
         "year": 2017
        },
        {
         "arxivId": null,
         "authors": [
          {
           "authorId": "71508676",
           "name": "S. Buatongkue"
          }
         ],
         "doi": null,
         "intent": [],
         "isInfluential": false,
         "paperId": "fd7dcbf59916e71cb9dcd3f70a63600919437017",
         "title": "Personal named entity linking based on simple partial tree matching and context free grammar",
         "url": "https://www.semanticscholar.org/paper/fd7dcbf59916e71cb9dcd3f70a63600919437017",
         "venue": "",
         "year": 2017
        },
        {
         "arxivId": null,
         "authors": [
          {
           "authorId": null,
           "name": "Dr. Y. Kalpana"
          },
          {
           "authorId": "49799775",
           "name": "S. Mahalakshmi"
          }
         ],
         "doi": null,
         "intent": [],
         "isInfluential": false,
         "paperId": "3f82c78d05978eab19f3ad0f8a195f1e8bb5747a",
         "title": "Motif-Based Hyponym Relation Extraction from Wikipedia Hyperlinks",
         "url": "https://www.semanticscholar.org/paper/3f82c78d05978eab19f3ad0f8a195f1e8bb5747a",
         "venue": "",
         "year": 2015
        },
        {
         "arxivId": null,
         "authors": [
          {
           "authorId": "1390031652",
           "name": "Derek Tam"
          },
          {
           "authorId": "2111658",
           "name": "Nicholas Monath"
          },
          {
           "authorId": "2441120",
           "name": "A. Kobren"
          },
          {
           "authorId": "143753639",
           "name": "A. McCallum"
          },
          {
           "authorId": "152773708",
           "name": "J. Hunter"
          }
         ],
         "doi": null,
         "intent": [
          "background"
         ],
         "isInfluential": false,
         "paperId": "68c7e8fee1b27062af2834e0a179e49c70e73208",
         "title": "Predicting Institution Hierarchies with Set-based Models",
         "url": "https://www.semanticscholar.org/paper/68c7e8fee1b27062af2834e0a179e49c70e73208",
         "venue": "",
         "year": 2020
        },
        {
         "arxivId": null,
         "authors": [],
         "doi": null,
         "intent": [
          "methodology"
         ],
         "isInfluential": false,
         "paperId": "d2925b1a75c72728d2d90157c1d1057cbc5da8b9",
         "title": "Structured Procedural Knowledge Extraction from Cooking Videos",
         "url": "https://www.semanticscholar.org/paper/d2925b1a75c72728d2d90157c1d1057cbc5da8b9",
         "venue": "",
         "year": 2020
        },
        {
         "arxivId": null,
         "authors": [
          {
           "authorId": "2427918",
           "name": "C. Xavier"
          },
          {
           "authorId": "144367912",
           "name": "V. Lima"
          },
          {
           "authorId": "48352393",
           "name": "Marlo Souza"
          }
         ],
         "doi": "10.1186/s13173-015-0023-2",
         "intent": [
          "background"
         ],
         "isInfluential": false,
         "paperId": "d42b2147049039953042260c16a4c6563da9f783",
         "title": "Open information extraction based on lexical semantics",
         "url": "https://www.semanticscholar.org/paper/d42b2147049039953042260c16a4c6563da9f783",
         "venue": "Journal of the Brazilian Computer Society",
         "year": 2015
        },
        {
         "arxivId": "1511.03012",
         "authors": [
          {
           "authorId": "2961187",
           "name": "A. Groza"
          },
          {
           "authorId": "2690508",
           "name": "Lidia Corde"
          }
         ],
         "doi": null,
         "intent": [
          "methodology"
         ],
         "isInfluential": false,
         "paperId": "6a714159fd367d904309544632d7b4633d9be119",
         "title": "Information retrieval in folktales using natural language processing",
         "url": "https://www.semanticscholar.org/paper/6a714159fd367d904309544632d7b4633d9be119",
         "venue": "ArXiv",
         "year": 2015
        },
        {
         "arxivId": null,
         "authors": [
          {
           "authorId": "1840487",
           "name": "Omar El Idrissi"
          },
          {
           "authorId": "2040835",
           "name": "B. Frikh"
          },
          {
           "authorId": "1819670",
           "name": "B. Ouhbi"
          }
         ],
         "doi": "10.5220/0005590704790489",
         "intent": [
          "methodology"
         ],
         "isInfluential": false,
         "paperId": "987c8fe86342362c6e185dd89c398446caf96693",
         "title": "Learning Non-taxonomic Relationships of Financial Ontology",
         "url": "https://www.semanticscholar.org/paper/987c8fe86342362c6e185dd89c398446caf96693",
         "venue": "KEOD",
         "year": 2015
        },
        {
         "arxivId": "1909.02745",
         "authors": [
          {
           "authorId": "2555622",
           "name": "B. Bi"
          },
          {
           "authorId": "29701485",
           "name": "Chen Wu"
          },
          {
           "authorId": "143689941",
           "name": "Ming Yan"
          },
          {
           "authorId": "39685680",
           "name": "Wei Wang"
          },
          {
           "authorId": "8068060",
           "name": "Jiangnan Xia"
          },
          {
           "authorId": "143971529",
           "name": "Chenliang Li"
          }
         ],
         "doi": "10.18653/v1/D19-1255",
         "intent": [
          "background"
         ],
         "isInfluential": false,
         "paperId": "d198c9667c38db589e92e1280e08e2ac226c7063",
         "title": "Incorporating External Knowledge into Machine Reading for Generative Question Answering",
         "url": "https://www.semanticscholar.org/paper/d198c9667c38db589e92e1280e08e2ac226c7063",
         "venue": "EMNLP/IJCNLP",
         "year": 2019
        },
        {
         "arxivId": null,
         "authors": [
          {
           "authorId": "2346796",
           "name": "M. Dragoni"
          },
          {
           "authorId": "8300792",
           "name": "M. Federici"
          },
          {
           "authorId": "3143426",
           "name": "Andi Rexha"
          }
         ],
         "doi": "10.1016/J.IPM.2018.04.010",
         "intent": [],
         "isInfluential": false,
         "paperId": "9429c6abf132cc324a213bfc8a11c3ac4d5f9d3c",
         "title": "An unsupervised aspect extraction strategy for monitoring real-time reviews stream",
         "url": "https://www.semanticscholar.org/paper/9429c6abf132cc324a213bfc8a11c3ac4d5f9d3c",
         "venue": "Inf. Process. Manag.",
         "year": 2019
        },
        {
         "arxivId": null,
         "authors": [
          {
           "authorId": "3866609",
           "name": "V. Phi"
          },
          {
           "authorId": "2757759",
           "name": "J. Santoso"
          },
          {
           "authorId": "3088835",
           "name": "M. Shimbo"
          },
          {
           "authorId": "1681502",
           "name": "Y. Matsumoto"
          }
         ],
         "doi": "10.18653/v1/P18-2015",
         "intent": [
          "methodology"
         ],
         "isInfluential": false,
         "paperId": "b95d96bc223961d34083705111b29df984565ed1",
         "title": "Ranking-Based Automatic Seed Selection and Noise Reduction for Weakly Supervised Relation Extraction",
         "url": "https://www.semanticscholar.org/paper/b95d96bc223961d34083705111b29df984565ed1",
         "venue": "ACL",
         "year": 2018
        },
        {
         "arxivId": null,
         "authors": [
          {
           "authorId": "1862044",
           "name": "Xiyue Guo"
          },
          {
           "authorId": "145525861",
           "name": "T. He"
          }
         ],
         "doi": "10.1007/978-3-319-31676-5_9",
         "intent": [],
         "isInfluential": false,
         "paperId": "79942efd43623874ce52436c20b6be659d3e932c",
         "title": "Leveraging Chinese Encyclopedia for Weakly Supervised Relation Extraction",
         "url": "https://www.semanticscholar.org/paper/79942efd43623874ce52436c20b6be659d3e932c",
         "venue": "JIST",
         "year": 2015
        },
        {
         "arxivId": null,
         "authors": [
          {
           "authorId": "38772597",
           "name": "C. Arora"
          },
          {
           "authorId": "2416077",
           "name": "M. Sabetzadeh"
          },
          {
           "authorId": "1753944",
           "name": "S. Nejati"
          },
          {
           "authorId": "1722904",
           "name": "L. Briand"
          }
         ],
         "doi": "10.1145/3293454",
         "intent": [
          "background"
         ],
         "isInfluential": false,
         "paperId": "abcad78d2dba846e7c02ab853f86fbb258ad9952",
         "title": "An Active Learning Approach for Improving the Accuracy of Automated Domain Model Extraction",
         "url": "https://www.semanticscholar.org/paper/abcad78d2dba846e7c02ab853f86fbb258ad9952",
         "venue": "TSEM",
         "year": 2019
        },
        {
         "arxivId": "1603.07954",
         "authors": [
          {
           "authorId": "144958935",
           "name": "Karthik Narasimhan"
          },
          {
           "authorId": "3383328",
           "name": "Adam Yala"
          },
          {
           "authorId": "1741283",
           "name": "R. Barzilay"
          }
         ],
         "doi": "10.18653/v1/D16-1261",
         "intent": [
          "methodology"
         ],
         "isInfluential": false,
         "paperId": "ac50801574f7c97f1cf8f6718a9ff2b3e18c2dc6",
         "title": "Improving Information Extraction by Acquiring External Evidence with Reinforcement Learning",
         "url": "https://www.semanticscholar.org/paper/ac50801574f7c97f1cf8f6718a9ff2b3e18c2dc6",
         "venue": "EMNLP",
         "year": 2016
        },
        {
         "arxivId": null,
         "authors": [
          {
           "authorId": "145336052",
           "name": "D. Thenmozhi"
          },
          {
           "authorId": "143616960",
           "name": "C. Aravindan"
          }
         ],
         "doi": "10.1007/978-981-10-8633-5_20",
         "intent": [],
         "isInfluential": false,
         "paperId": "084368eacc23034be568b229adf978e0b54fe6d2",
         "title": "RCE-OIE: Open Information Extraction Using a Rule-Based Clause Extraction Engine for Semantic Applications",
         "url": "https://www.semanticscholar.org/paper/084368eacc23034be568b229adf978e0b54fe6d2",
         "venue": "",
         "year": 2018
        },
        {
         "arxivId": null,
         "authors": [
          {
           "authorId": "3404336",
           "name": "N. Boldyrev"
          },
          {
           "authorId": "3115338",
           "name": "M. Spaniol"
          },
          {
           "authorId": "1751591",
           "name": "G. Weikum"
          }
         ],
         "doi": "10.1561/106.00000012",
         "intent": [
          "background"
         ],
         "isInfluential": false,
         "paperId": "d4fad9e85b3938a6bde1504262d58239c4d833a1",
         "title": "Multi-Cultural Interlinking of Web Taxonomies with ACROSS",
         "url": "https://www.semanticscholar.org/paper/d4fad9e85b3938a6bde1504262d58239c4d833a1",
         "venue": "J. Web Sci.",
         "year": 2018
        },
        {
         "arxivId": null,
         "authors": [
          {
           "authorId": "3026162",
           "name": "D. Batista"
          },
          {
           "authorId": "41181034",
           "name": "D. Forte"
          },
          {
           "authorId": "145355010",
           "name": "R. Silva"
          },
          {
           "authorId": "144694868",
           "name": "Bruno Martins"
          },
          {
           "authorId": "143646534",
           "name": "M. Silva"
          }
         ],
         "doi": "10.21814/LM.5.1.157",
         "intent": [],
         "isInfluential": false,
         "paperId": "85fd94fc141a439ea03ef281e3fee6676cb97eba",
         "title": "Extracção de Relações Semânticas de Textos em Português Explorando a DBpédia e a Wikipédia",
         "url": "https://www.semanticscholar.org/paper/85fd94fc141a439ea03ef281e3fee6676cb97eba",
         "venue": "Linguamática",
         "year": 2013
        },
        {
         "arxivId": null,
         "authors": [
          {
           "authorId": "150978762",
           "name": "Dian Yu"
          }
         ],
         "doi": null,
         "intent": [
          "background"
         ],
         "isInfluential": false,
         "paperId": "f4f4dfc97b16a81a17b62c05e838fa7f5e8c7b8f",
         "title": "UNSUPERVISED GRAPH-BASED RELATION EXTRACTION AND VALIDATION FOR KNOWLEDGE BASE POPULATION",
         "url": "https://www.semanticscholar.org/paper/f4f4dfc97b16a81a17b62c05e838fa7f5e8c7b8f",
         "venue": "",
         "year": 2017
        },
        {
         "arxivId": null,
         "authors": [
          {
           "authorId": "49403919",
           "name": "H. Li"
          },
          {
           "authorId": "32632038",
           "name": "Sebastian Krause"
          },
          {
           "authorId": "2724114",
           "name": "F. Xu"
          },
          {
           "authorId": "37515745",
           "name": "A. Moro"
          },
          {
           "authorId": "1781790",
           "name": "H. Uszkoreit"
          },
          {
           "authorId": "1733928",
           "name": "R. Navigli"
          }
         ],
         "doi": "10.5220/0005187303170324",
         "intent": [
          "background"
         ],
         "isInfluential": false,
         "paperId": "edfd4955f2a0c3f7e7008465dfaf00eb1a778f77",
         "title": "Improvement of n-ary Relation Extraction by Adding Lexical Semantics to Distant-Supervision Rule Learning",
         "url": "https://www.semanticscholar.org/paper/edfd4955f2a0c3f7e7008465dfaf00eb1a778f77",
         "venue": "ICAART",
         "year": 2015
        },
        {
         "arxivId": null,
         "authors": [
          {
           "authorId": "29943965",
           "name": "Nan Duan"
          }
         ],
         "doi": "10.1007/978-3-319-25207-0_53",
         "intent": [],
         "isInfluential": false,
         "paperId": "4d211b9c76fb0d82c522b847d08b92c1e7204499",
         "title": "Overview of the NLPCC 2015 Shared Task: Open Domain QA",
         "url": "https://www.semanticscholar.org/paper/4d211b9c76fb0d82c522b847d08b92c1e7204499",
         "venue": "NLPCC",
         "year": 2015
        },
        {
         "arxivId": null,
         "authors": [
          {
           "authorId": "49395060",
           "name": "Jing Xu"
          },
          {
           "authorId": "2588290",
           "name": "L. Gan"
          },
          {
           "authorId": "3206367",
           "name": "L. Deng"
          },
          {
           "authorId": "49606385",
           "name": "J. Wang"
          },
          {
           "authorId": "145331042",
           "name": "Z. Yan"
          }
         ],
         "doi": "10.1109/ICCSNT.2015.7490808",
         "intent": [
          "methodology"
         ],
         "isInfluential": false,
         "paperId": "02b10005d14e370389a4280bb86a9316dc27f433",
         "title": "Dependency parsing based Chinese open relation extraction",
         "url": "https://www.semanticscholar.org/paper/02b10005d14e370389a4280bb86a9316dc27f433",
         "venue": "2015 4th International Conference on Computer Science and Network Technology (ICCSNT)",
         "year": 2015
        },
        {
         "arxivId": null,
         "authors": [
          {
           "authorId": "3213962",
           "name": "Adam Grycner"
          },
          {
           "authorId": "1751591",
           "name": "G. Weikum"
          }
         ],
         "doi": "10.18653/v1/D16-1236",
         "intent": [
          "methodology"
         ],
         "isInfluential": true,
         "paperId": "76f43ca313f2619af0ce55f5a29425e26918ae11",
         "title": "POLY: Mining Relational Paraphrases from Multilingual Sentences",
         "url": "https://www.semanticscholar.org/paper/76f43ca313f2619af0ce55f5a29425e26918ae11",
         "venue": "EMNLP",
         "year": 2016
        },
        {
         "arxivId": null,
         "authors": [
          {
           "authorId": "19443189",
           "name": "Mei Uemura"
          },
          {
           "authorId": "38474089",
           "name": "Naho Orita"
          },
          {
           "authorId": "1764004",
           "name": "N. Okazaki"
          },
          {
           "authorId": "3040648",
           "name": "Kentaro Inui"
          }
         ],
         "doi": null,
         "intent": [
          "methodology"
         ],
         "isInfluential": false,
         "paperId": "eab997ed60ef1a3070f4b6c2469346943884e434",
         "title": "Toward the automatic extraction of knowledge of usable goods",
         "url": "https://www.semanticscholar.org/paper/eab997ed60ef1a3070f4b6c2469346943884e434",
         "venue": "PACLIC",
         "year": 2016
        },
        {
         "arxivId": "1605.07918",
         "authors": [
          {
           "authorId": "50435356",
           "name": "Byungsoo Kim"
          },
          {
           "authorId": "1723357",
           "name": "Hwanjo Yu"
          },
          {
           "authorId": "1735513",
           "name": "Gary Geunbae Lee"
          }
         ],
         "doi": null,
         "intent": [
          "background"
         ],
         "isInfluential": false,
         "paperId": "655ea709e38a43f9a7286cb12b7613fd2407cab7",
         "title": "Automatic Open Knowledge Acquisition via Long Short-Term Memory Networks with Feedback Negative Sampling",
         "url": "https://www.semanticscholar.org/paper/655ea709e38a43f9a7286cb12b7613fd2407cab7",
         "venue": "ArXiv",
         "year": 2016
        },
        {
         "arxivId": null,
         "authors": [
          {
           "authorId": "145108686",
           "name": "D. Golovin"
          },
          {
           "authorId": "38204277",
           "name": "Jens Claßen"
          },
          {
           "authorId": "1810194",
           "name": "C. Schwering"
          }
         ],
         "doi": null,
         "intent": [
          "methodology"
         ],
         "isInfluential": false,
         "paperId": "2e13a3f80190e40fefe3f3e75a68ccdf31c59b91",
         "title": "Reasoning about Conditional Beliefs for the Winograd Schema Challenge",
         "url": "https://www.semanticscholar.org/paper/2e13a3f80190e40fefe3f3e75a68ccdf31c59b91",
         "venue": "COMMONSENSE",
         "year": 2017
        },
        {
         "arxivId": null,
         "authors": [
          {
           "authorId": "145201124",
           "name": "Xiang Ren"
          },
          {
           "authorId": "144812586",
           "name": "Meng Jiang"
          },
          {
           "authorId": "2884976",
           "name": "Jingbo Shang"
          },
          {
           "authorId": "145325584",
           "name": "Jiawei Han"
          }
         ],
         "doi": "10.1145/3041021.3051107",
         "intent": [
          "background"
         ],
         "isInfluential": false,
         "paperId": "5d15ef16c04097d5ef009673332536b535d7b278",
         "title": "Constructing Structured Information Networks from Massive Text Corpora",
         "url": "https://www.semanticscholar.org/paper/5d15ef16c04097d5ef009673332536b535d7b278",
         "venue": "WWW",
         "year": 2017
        },
        {
         "arxivId": null,
         "authors": [
          {
           "authorId": "145403757",
           "name": "S. Yuan"
          },
          {
           "authorId": "48317300",
           "name": "Bei Yu"
          }
         ],
         "doi": null,
         "intent": [
          "background",
          "methodology"
         ],
         "isInfluential": false,
         "paperId": "47cb5cf743f0688ca64fb3c162596897de90ee8a",
         "title": "An Evaluation of Information Extraction Tools for Identifying Health Claims in News Headlines",
         "url": "https://www.semanticscholar.org/paper/47cb5cf743f0688ca64fb3c162596897de90ee8a",
         "venue": "EventStory@Coling",
         "year": 2018
        },
        {
         "arxivId": null,
         "authors": [
          {
           "authorId": "46314959",
           "name": "Wei Wang"
          }
         ],
         "doi": null,
         "intent": [
          "methodology",
          "background"
         ],
         "isInfluential": true,
         "paperId": "422378a0da154630ff255bde7a160ad51de0fc14",
         "title": "Extraction d'Information Non Supervisée à Partir de Textes - Extraction et Regroupement de Relations entre Entités. (Unsupervised Information Extraction From Text - Extraction and Clustering of Relations between Entities)",
         "url": "https://www.semanticscholar.org/paper/422378a0da154630ff255bde7a160ad51de0fc14",
         "venue": "",
         "year": 2013
        },
        {
         "arxivId": null,
         "authors": [
          {
           "authorId": "2626599",
           "name": "Henning Wachsmuth"
          },
          {
           "authorId": "144146081",
           "name": "Benno Stein"
          },
          {
           "authorId": "145168617",
           "name": "G. Engels"
          }
         ],
         "doi": null,
         "intent": [
          "methodology"
         ],
         "isInfluential": false,
         "paperId": "ccc5f60941c3e193bdbf00680eb134029ae51d87",
         "title": "Learning Efficient Information Extraction on Heterogeneous Texts",
         "url": "https://www.semanticscholar.org/paper/ccc5f60941c3e193bdbf00680eb134029ae51d87",
         "venue": "IJCNLP",
         "year": 2013
        },
        {
         "arxivId": null,
         "authors": [
          {
           "authorId": "3115592",
           "name": "Ndapandula Nakashole"
          },
          {
           "authorId": "40975594",
           "name": "Tom Michael Mitchell"
          }
         ],
         "doi": "10.3115/v1/P15-1036",
         "intent": [],
         "isInfluential": false,
         "paperId": "55669977308a84cf0e5fc16822e9c0dcd5e908c5",
         "title": "A Knowledge-Intensive Model for Prepositional Phrase Attachment",
         "url": "https://www.semanticscholar.org/paper/55669977308a84cf0e5fc16822e9c0dcd5e908c5",
         "venue": "ACL",
         "year": 2015
        },
        {
         "arxivId": null,
         "authors": [
          {
           "authorId": "40376623",
           "name": "Elvan Owen"
          },
          {
           "authorId": "143937023",
           "name": "Dwi H. Widyantoro"
          }
         ],
         "doi": "10.1109/IAC.2017.8280533",
         "intent": [
          "methodology"
         ],
         "isInfluential": false,
         "paperId": "83f58b5f5661e0bf3fbc7cccc2b10e4b0f9d354a",
         "title": "Development of extensible open information extraction",
         "url": "https://www.semanticscholar.org/paper/83f58b5f5661e0bf3fbc7cccc2b10e4b0f9d354a",
         "venue": "2017 Second International Conference on Informatics and Computing (ICIC)",
         "year": 2017
        },
        {
         "arxivId": null,
         "authors": [
          {
           "authorId": "1747007",
           "name": "M. Schuhmacher"
          }
         ],
         "doi": null,
         "intent": [
          "background"
         ],
         "isInfluential": false,
         "paperId": "d76876495f20493243bb862fce467534226c8bd5",
         "title": "Knowledge Graph Exploration for Natural Language Understanding in Web Information Retrieval",
         "url": "https://www.semanticscholar.org/paper/d76876495f20493243bb862fce467534226c8bd5",
         "venue": "",
         "year": 2016
        },
        {
         "arxivId": null,
         "authors": [
          {
           "authorId": "40964399",
           "name": "S. Seethamol"
          },
          {
           "authorId": "46975169",
           "name": "K. G. Manju"
          }
         ],
         "doi": "10.1109/ICICICT1.2017.8342717",
         "intent": [
          "methodology"
         ],
         "isInfluential": true,
         "paperId": "4bb3bfb33d617fe54d5e5366298bf9567c49f2d4",
         "title": "Paraphrase identification using textual entailment recognition",
         "url": "https://www.semanticscholar.org/paper/4bb3bfb33d617fe54d5e5366298bf9567c49f2d4",
         "venue": "2017 International Conference on Intelligent Computing, Instrumentation and Control Technologies (ICICICT)",
         "year": 2017
        },
        {
         "arxivId": null,
         "authors": [
          {
           "authorId": "2674444",
           "name": "Mausam"
          },
          {
           "authorId": "144874222",
           "name": "Michael Schmitz"
          },
          {
           "authorId": "144295318",
           "name": "S. Soderland"
          },
          {
           "authorId": "144189845",
           "name": "R. Bart"
          },
          {
           "authorId": "1741101",
           "name": "Oren Etzioni"
          }
         ],
         "doi": null,
         "intent": [],
         "isInfluential": false,
         "paperId": "8ad0e78a9619c50bcb3cae4a589ec9a5d38c437c",
         "title": "Open Language Learning for Information Extraction",
         "url": "https://www.semanticscholar.org/paper/8ad0e78a9619c50bcb3cae4a589ec9a5d38c437c",
         "venue": "EMNLP-CoNLL",
         "year": 2012
        },
        {
         "arxivId": null,
         "authors": [
          {
           "authorId": "2251210",
           "name": "K. Denecke"
          }
         ],
         "doi": "10.1007/978-3-319-20582-3",
         "intent": [
          "background",
          "methodology"
         ],
         "isInfluential": true,
         "paperId": "cedab183ea8bb6304a8eb4f9bbd25253a8f6e47b",
         "title": "Health Web Science",
         "url": "https://www.semanticscholar.org/paper/cedab183ea8bb6304a8eb4f9bbd25253a8f6e47b",
         "venue": "Health Information Science",
         "year": 2015
        },
        {
         "arxivId": null,
         "authors": [
          {
           "authorId": "31565315",
           "name": "Chris Biemann"
          },
          {
           "authorId": "1801255",
           "name": "Simone Paolo Ponzetto"
          },
          {
           "authorId": "2790693",
           "name": "Stefano Faralli"
          },
          {
           "authorId": "144033941",
           "name": "Alexander Panchenko"
          }
         ],
         "doi": "10.18653/V1/E17-1056",
         "intent": [
          "background"
         ],
         "isInfluential": false,
         "paperId": "c81c07ba11c3bcd0fe25ff856beaa492098fb47d",
         "title": "The ContrastMedium Algorithm: Taxonomy Induction From Noisy Knowledge Graphs With Just A Few Links",
         "url": "https://www.semanticscholar.org/paper/c81c07ba11c3bcd0fe25ff856beaa492098fb47d",
         "venue": "EACL",
         "year": 2017
        },
        {
         "arxivId": null,
         "authors": [
          {
           "authorId": "35040498",
           "name": "M. Krawczyk"
          }
         ],
         "doi": null,
         "intent": [
          "methodology"
         ],
         "isInfluential": false,
         "paperId": "ab7c11a754ebb870aa43d153a93478962ac2678f",
         "title": "Expanding Common Sense Knowledge Database using Data Mining on Reference Corpus [an abstract of dissertation and a summary of dissertation review]",
         "url": "https://www.semanticscholar.org/paper/ab7c11a754ebb870aa43d153a93478962ac2678f",
         "venue": "",
         "year": 2017
        },
        {
         "arxivId": null,
         "authors": [
          {
           "authorId": "3373145",
           "name": "Kevin Lange Di Cesare"
          },
          {
           "authorId": "145698212",
           "name": "Amal Zouaq"
          },
          {
           "authorId": "40055057",
           "name": "Michel Gagnon"
          },
          {
           "authorId": "1403985938",
           "name": "Ludovic Jean-Louis"
          }
         ],
         "doi": "10.3390/info9060133",
         "intent": [
          "background"
         ],
         "isInfluential": false,
         "paperId": "6f8391030aae4c818180f54b41420fe34ed45588",
         "title": "A Machine Learning Filter for the Slot Filling Task",
         "url": "https://www.semanticscholar.org/paper/6f8391030aae4c818180f54b41420fe34ed45588",
         "venue": "Inf.",
         "year": 2018
        },
        {
         "arxivId": null,
         "authors": [
          {
           "authorId": "12534078",
           "name": "S. Bannour"
          }
         ],
         "doi": null,
         "intent": [],
         "isInfluential": false,
         "paperId": "2f7fdc33e1b016148738ad6e2bd641dace38ae1b",
         "title": "Apprentissage interactif de règles d'extraction d'information textuelle. (Iteractive learning of textual information extraction rules)",
         "url": "https://www.semanticscholar.org/paper/2f7fdc33e1b016148738ad6e2bd641dace38ae1b",
         "venue": "",
         "year": 2015
        },
        {
         "arxivId": "1607.05910",
         "authors": [
          {
           "authorId": "144663765",
           "name": "Qi Wu"
          },
          {
           "authorId": "2406263",
           "name": "Damien Teney"
          },
          {
           "authorId": "144282676",
           "name": "Peng Wang"
          },
          {
           "authorId": "1780381",
           "name": "Chunhua Shen"
          },
          {
           "authorId": "2699095",
           "name": "A. Dick"
          },
          {
           "authorId": "5546141",
           "name": "A. V. D. Hengel"
          }
         ],
         "doi": "10.1016/j.cviu.2017.05.001",
         "intent": [
          "background"
         ],
         "isInfluential": false,
         "paperId": "88c307c51594c6d802080a0780d0d654e2e2891f",
         "title": "Visual question answering: A survey of methods and datasets",
         "url": "https://www.semanticscholar.org/paper/88c307c51594c6d802080a0780d0d654e2e2891f",
         "venue": "Comput. Vis. Image Underst.",
         "year": 2017
        },
        {
         "arxivId": null,
         "authors": [
          {
           "authorId": "1875233",
           "name": "B. Min"
          },
          {
           "authorId": "34720053",
           "name": "Shuming Shi"
          },
          {
           "authorId": "1788050",
           "name": "R. Grishman"
          },
          {
           "authorId": "1781574",
           "name": "Chin-Yew Lin"
          }
         ],
         "doi": "10.4018/jswis.2012070101",
         "intent": [],
         "isInfluential": false,
         "paperId": "3492d17942e9aac3eb5729932b5faad8e14bf197",
         "title": "Towards Large-Scale Unsupervised Relation Extraction from the Web",
         "url": "https://www.semanticscholar.org/paper/3492d17942e9aac3eb5729932b5faad8e14bf197",
         "venue": "Int. J. Semantic Web Inf. Syst.",
         "year": 2012
        },
        {
         "arxivId": null,
         "authors": [
          {
           "authorId": "2551462",
           "name": "Yuval Merhav"
          },
          {
           "authorId": "1976585",
           "name": "F. Mesquita"
          },
          {
           "authorId": "145690522",
           "name": "Denilson Barbosa"
          },
          {
           "authorId": "3250034",
           "name": "W. Yee"
          },
          {
           "authorId": "1741208",
           "name": "O. Frieder"
          }
         ],
         "doi": "10.1145/2344416.2344418",
         "intent": [
          "methodology"
         ],
         "isInfluential": true,
         "paperId": "b25010638c3dba06972c377e8188853265aea247",
         "title": "Extracting information networks from the blogosphere",
         "url": "https://www.semanticscholar.org/paper/b25010638c3dba06972c377e8188853265aea247",
         "venue": "TWEB",
         "year": 2012
        },
        {
         "arxivId": null,
         "authors": [
          {
           "authorId": "144364583",
           "name": "Nhung T. H. Nguyen"
          },
          {
           "authorId": "1731657",
           "name": "Makoto Miwa"
          },
          {
           "authorId": "143946906",
           "name": "Yoshimasa Tsuruoka"
          },
          {
           "authorId": "1700631",
           "name": "T. Chikayama"
          },
          {
           "authorId": "1757520",
           "name": "S. Tojo"
          }
         ],
         "doi": "10.1186/s12859-015-0538-8",
         "intent": [
          "methodology",
          "background"
         ],
         "isInfluential": false,
         "paperId": "fdc5da0717c1412effe8fd978a280e7bb2889a64",
         "title": "Wide-coverage relation extraction from MEDLINE using deep syntax",
         "url": "https://www.semanticscholar.org/paper/fdc5da0717c1412effe8fd978a280e7bb2889a64",
         "venue": "BMC Bioinformatics",
         "year": 2015
        },
        {
         "arxivId": null,
         "authors": [
          {
           "authorId": "2634811",
           "name": "N. Kertkeidkachorn"
          },
          {
           "authorId": "143758327",
           "name": "R. Ichise"
          }
         ],
         "doi": "10.1587/TRANSINF.2017SWP0006",
         "intent": [
          "background"
         ],
         "isInfluential": false,
         "paperId": "eb1d438e7aca8600cfd87d7b0ecfaf36f36f5c37",
         "title": "An Automatic Knowledge Graph Creation Framework from Natural Language Text",
         "url": "https://www.semanticscholar.org/paper/eb1d438e7aca8600cfd87d7b0ecfaf36f36f5c37",
         "venue": "IEICE Trans. Inf. Syst.",
         "year": 2018
        },
        {
         "arxivId": null,
         "authors": [
          {
           "authorId": "144182018",
           "name": "Colin Lockard"
          },
          {
           "authorId": "3310534",
           "name": "Prashant Shiralkar"
          },
          {
           "authorId": "145867172",
           "name": "X. Dong"
          }
         ],
         "doi": "10.18653/v1/N19-1309",
         "intent": [
          "methodology"
         ],
         "isInfluential": false,
         "paperId": "b31eef8d9263b02f7d0c1ab55b26012550a2e95a",
         "title": "OpenCeres: When Open Information Extraction Meets the Semi-Structured Web",
         "url": "https://www.semanticscholar.org/paper/b31eef8d9263b02f7d0c1ab55b26012550a2e95a",
         "venue": "NAACL-HLT",
         "year": 2019
        },
        {
         "arxivId": null,
         "authors": [
          {
           "authorId": "1764692",
           "name": "F. Miao"
          },
          {
           "authorId": "49958101",
           "name": "H. Liu"
          },
          {
           "authorId": "48648112",
           "name": "B. Miao"
          },
          {
           "authorId": "5261830",
           "name": "Chenming Liu"
          }
         ],
         "doi": "10.1109/IICSPI.2018.8690517",
         "intent": [],
         "isInfluential": false,
         "paperId": "07e3a140b1cdb4b9b180b6b390a36642a687b0a5",
         "title": "Open domain news text relationship extraction based on dependency syntax",
         "url": "https://www.semanticscholar.org/paper/07e3a140b1cdb4b9b180b6b390a36642a687b0a5",
         "venue": "2018 IEEE International Conference of Safety Produce Informatization (IICSPI)",
         "year": 2018
        },
        {
         "arxivId": null,
         "authors": [
          {
           "authorId": "72655349",
           "name": "Sheng Zhang"
          },
          {
           "authorId": "1800354",
           "name": "Kevin Duh"
          },
          {
           "authorId": "7536576",
           "name": "Benjamin Van Durme"
          }
         ],
         "doi": null,
         "intent": [
          "methodology"
         ],
         "isInfluential": false,
         "paperId": "461ccb773ed1b7cf95ec5be36200ce1b73eddd8e",
         "title": "Selective Decoding for Cross-lingual Open Information Extraction",
         "url": "https://www.semanticscholar.org/paper/461ccb773ed1b7cf95ec5be36200ce1b73eddd8e",
         "venue": "IJCNLP",
         "year": 2017
        },
        {
         "arxivId": null,
         "authors": [
          {
           "authorId": "88738968",
           "name": "Rodrigo Rodrigues Aragao"
          },
          {
           "authorId": "1401291053",
           "name": "T. El-Diraby"
          }
         ],
         "doi": "10.1016/J.JCLEPRO.2018.10.346",
         "intent": [],
         "isInfluential": false,
         "paperId": "4977ae78df2dd4c1900dc685f7d3fac1109a9fb8",
         "title": "Using network analytics to capture knowledge: Three cases in collaborative energy-oriented planning for oil and gas facilities",
         "url": "https://www.semanticscholar.org/paper/4977ae78df2dd4c1900dc685f7d3fac1109a9fb8",
         "venue": "",
         "year": 2019
        },
        {
         "arxivId": null,
         "authors": [
          {
           "authorId": "3385963",
           "name": "Yen-Kuan Lee"
          },
          {
           "authorId": "2780321",
           "name": "K. Chuang"
          }
         ],
         "doi": null,
         "intent": [],
         "isInfluential": false,
         "paperId": "9168a5f5cc735b34258c228ce39101de32fc63dc",
         "title": "Learning Knowledge from User Search",
         "url": "https://www.semanticscholar.org/paper/9168a5f5cc735b34258c228ce39101de32fc63dc",
         "venue": "ROCLING",
         "year": 2015
        },
        {
         "arxivId": null,
         "authors": [
          {
           "authorId": "1690722",
           "name": "S. Chatzis"
          }
         ],
         "doi": "10.1145/2806416.2806499",
         "intent": [
          "methodology"
         ],
         "isInfluential": false,
         "paperId": "ba47b09f04fb68cd9356f3b4d4cfc50f8feea056",
         "title": "Inducing Space Dirichlet Process Mixture Large-Margin Entity RelationshipInference in Knowledge Bases",
         "url": "https://www.semanticscholar.org/paper/ba47b09f04fb68cd9356f3b4d4cfc50f8feea056",
         "venue": "CIKM '15",
         "year": 2015
        },
        {
         "arxivId": null,
         "authors": [
          {
           "authorId": "49633004",
           "name": "I. Ceylan"
          },
          {
           "authorId": "1690572",
           "name": "Thomas Lukasiewicz"
          }
         ],
         "doi": "10.1007/978-3-030-00338-8_3",
         "intent": [],
         "isInfluential": false,
         "paperId": "8ee75f350f867257d9ba529d5b97b6cf1086740e",
         "title": "A Tutorial on Query Answering and Reasoning over Probabilistic Knowledge Bases",
         "url": "https://www.semanticscholar.org/paper/8ee75f350f867257d9ba529d5b97b6cf1086740e",
         "venue": "Reasoning Web",
         "year": 2018
        },
        {
         "arxivId": null,
         "authors": [
          {
           "authorId": "38602530",
           "name": "M. Kamel"
          },
          {
           "authorId": "3469495",
           "name": "Cássia Trojahn"
          },
          {
           "authorId": "3304158",
           "name": "Adel Ghamnia"
          },
          {
           "authorId": "1403088591",
           "name": "N. Aussenac-Gilles"
          },
          {
           "authorId": "48964488",
           "name": "C. Fabre"
          }
         ],
         "doi": "10.1016/J.PROCS.2017.08.208",
         "intent": [],
         "isInfluential": false,
         "paperId": "4cf2981d47472e523c0e8ade2547e677a6b5edab",
         "title": "A Distant Learning Approach for Extracting Hypernym Relations from Wikipedia Disambiguation Pages",
         "url": "https://www.semanticscholar.org/paper/4cf2981d47472e523c0e8ade2547e677a6b5edab",
         "venue": "KES",
         "year": 2017
        },
        {
         "arxivId": null,
         "authors": [
          {
           "authorId": "3361240",
           "name": "Manling Li"
          },
          {
           "authorId": "2778637",
           "name": "Alireza Zareian"
          },
          {
           "authorId": "144952032",
           "name": "Ying Lin"
          },
          {
           "authorId": "34741133",
           "name": "Xiaoman Pan"
          },
          {
           "authorId": "153188991",
           "name": "Spencer Whitehead"
          },
          {
           "authorId": "143852868",
           "name": "B. Chen"
          },
          {
           "authorId": "152365289",
           "name": "Bo Wu"
          },
          {
           "authorId": "153172090",
           "name": "Huai-zhong Ji"
          },
          {
           "authorId": "72197815",
           "name": "Shih-Fu Chang"
          },
          {
           "authorId": "1817166",
           "name": "Clare R. Voss"
          },
          {
           "authorId": "1413386261",
           "name": "Dan Napierski"
          },
          {
           "authorId": "145414969",
           "name": "M. Freedman"
          }
         ],
         "doi": "10.18653/v1/2020.acl-demos.11",
         "intent": [
          "background"
         ],
         "isInfluential": false,
         "paperId": "51c8975d88aa66781300e8ca88272ab3112445c0",
         "title": "GAIA: A Fine-grained Multimedia Knowledge Extraction System",
         "url": "https://www.semanticscholar.org/paper/51c8975d88aa66781300e8ca88272ab3112445c0",
         "venue": "ACL",
         "year": 2020
        },
        {
         "arxivId": null,
         "authors": [
          {
           "authorId": "51285477",
           "name": "S. Yuan"
          },
          {
           "authorId": "48317300",
           "name": "Bei Yu"
          }
         ],
         "doi": "10.1016/J.IPM.2019.03.001",
         "intent": [],
         "isInfluential": false,
         "paperId": "5b5f875be158cfaa60fcdd037495855276c63be9",
         "title": "HClaimE: A tool for identifying health claims in health news headlines",
         "url": "https://www.semanticscholar.org/paper/5b5f875be158cfaa60fcdd037495855276c63be9",
         "venue": "Inf. Process. Manag.",
         "year": 2019
        },
        {
         "arxivId": null,
         "authors": [
          {
           "authorId": "1842010",
           "name": "Shengli Song"
          },
          {
           "authorId": "49696778",
           "name": "Yulong Sun"
          },
          {
           "authorId": "1709221",
           "name": "Qiang Di"
          }
         ],
         "doi": "10.1007/s00521-018-3453-x",
         "intent": [],
         "isInfluential": false,
         "paperId": "7428443d4588dfe6ce303a7c498f0aaba729cc58",
         "title": "Multiple order semantic relation extraction",
         "url": "https://www.semanticscholar.org/paper/7428443d4588dfe6ce303a7c498f0aaba729cc58",
         "venue": "Neural Computing and Applications",
         "year": 2018
        },
        {
         "arxivId": null,
         "authors": [
          {
           "authorId": "48585703",
           "name": "C. Wang"
          },
          {
           "authorId": "1809614",
           "name": "Y. Song"
          },
          {
           "authorId": "144590225",
           "name": "D. Roth"
          },
          {
           "authorId": "48586386",
           "name": "C. Wang"
          },
          {
           "authorId": "145325584",
           "name": "Jiawei Han"
          },
          {
           "authorId": "144016781",
           "name": "Heng Ji"
          },
          {
           "authorId": "47474380",
           "name": "M. Zhang"
          }
         ],
         "doi": null,
         "intent": [],
         "isInfluential": false,
         "paperId": "a0ae9fc34a1a5a050f252e9806f0e4f0ff7404a4",
         "title": "Constrained Information-Theoretic Tripartite Graph Clustering to Identify Semantically Similar Relations",
         "url": "https://www.semanticscholar.org/paper/a0ae9fc34a1a5a050f252e9806f0e4f0ff7404a4",
         "venue": "IJCAI",
         "year": 2015
        },
        {
         "arxivId": "2010.03147",
         "authors": [
          {
           "authorId": "1500421125",
           "name": "K. Kolluru"
          },
          {
           "authorId": "1666183192",
           "name": "Vaibhav Adlakha"
          },
          {
           "authorId": "1379730794",
           "name": "Samarth Aggarwal"
          },
          {
           "authorId": "2674444",
           "name": "Mausam"
          },
          {
           "authorId": "40941894",
           "name": "Soumen Chakrabarti"
          }
         ],
         "doi": null,
         "intent": [
          "methodology"
         ],
         "isInfluential": false,
         "paperId": "adf25185c775034678fbd1f1abb3c35aafe44330",
         "title": "OpenIE6: Iterative Grid Labeling and Coordination Analysis for Open Information Extraction",
         "url": "https://www.semanticscholar.org/paper/adf25185c775034678fbd1f1abb3c35aafe44330",
         "venue": "ArXiv",
         "year": 2020
        },
        {
         "arxivId": null,
         "authors": [
          {
           "authorId": null,
           "name": "eXascale Infolab"
          }
         ],
         "doi": null,
         "intent": [
          "background"
         ],
         "isInfluential": false,
         "paperId": "78981ce7f6d25bdfb5295fdce9fe215a844be62e",
         "title": "Relation Extraction Using Distant Supervision: a Survey",
         "url": "https://www.semanticscholar.org/paper/78981ce7f6d25bdfb5295fdce9fe215a844be62e",
         "venue": "",
         "year": 2019
        },
        {
         "arxivId": null,
         "authors": [
          {
           "authorId": "1724393",
           "name": "H. Shen"
          },
          {
           "authorId": "151486134",
           "name": "Ye Yuan"
          },
          {
           "authorId": "1524727763",
           "name": "Xiaoyang Wang"
          },
          {
           "authorId": "66442309",
           "name": "H. Liu"
          },
          {
           "authorId": "1862330484",
           "name": "Xiang Zhao"
          }
         ],
         "doi": "10.1007/978-3-030-55130-8",
         "intent": [],
         "isInfluential": false,
         "paperId": "52c41fbd141ce863e070f19bbce9098c24634427",
         "title": "Knowledge Science, Engineering and Management: 13th International Conference, KSEM 2020, Hangzhou, China, August 28–30, 2020, Proceedings, Part I",
         "url": "https://www.semanticscholar.org/paper/52c41fbd141ce863e070f19bbce9098c24634427",
         "venue": "KSEM",
         "year": 2020
        },
        {
         "arxivId": null,
         "authors": [
          {
           "authorId": "145932990",
           "name": "K. Sun"
          },
          {
           "authorId": "47909661",
           "name": "Yu-Hua Liu"
          },
          {
           "authorId": "3450941",
           "name": "Zongchao Guo"
          },
          {
           "authorId": "2061804",
           "name": "C. Wang"
          }
         ],
         "doi": null,
         "intent": [
          "background"
         ],
         "isInfluential": false,
         "paperId": "9943c07255b16178cf6b3a731b3fa25047ea638c",
         "title": "Visualization for Knowledge Graph Based on Education Data",
         "url": "https://www.semanticscholar.org/paper/9943c07255b16178cf6b3a731b3fa25047ea638c",
         "venue": "",
         "year": 2017
        },
        {
         "arxivId": null,
         "authors": [
          {
           "authorId": "1751591",
           "name": "Gerhard Weikum"
          },
          {
           "authorId": "1727527",
           "name": "Johannes Hoffart"
          },
          {
           "authorId": "3115592",
           "name": "Ndapandula Nakashole"
          },
          {
           "authorId": "3115338",
           "name": "Marc Spaniol"
          },
          {
           "authorId": "1679784",
           "name": "Fabian M. Suchanek"
          },
          {
           "authorId": "34796954",
           "name": "Mohamed Amir Yosef"
          }
         ],
         "doi": null,
         "intent": [
          "background"
         ],
         "isInfluential": false,
         "paperId": "b81dd023a2a953b9b89e55fe8191c73155b51a4e",
         "title": "Big Data Methods for Computational Linguistics",
         "url": "https://www.semanticscholar.org/paper/b81dd023a2a953b9b89e55fe8191c73155b51a4e",
         "venue": "IEEE Data Eng. Bull.",
         "year": 2012
        },
        {
         "arxivId": null,
         "authors": [
          {
           "authorId": "144739109",
           "name": "Thomas Lin"
          }
         ],
         "doi": null,
         "intent": [
          "methodology",
          "background"
         ],
         "isInfluential": true,
         "paperId": "00af305437f4afd5e330a65ed62a24645272f026",
         "title": "Leveraging Knowledge Bases in Web Text Processing",
         "url": "https://www.semanticscholar.org/paper/00af305437f4afd5e330a65ed62a24645272f026",
         "venue": "",
         "year": 2012
        },
        {
         "arxivId": null,
         "authors": [
          {
           "authorId": "2594658",
           "name": "Peter Exner"
          },
          {
           "authorId": "1754406",
           "name": "P. Nugues"
          }
         ],
         "doi": null,
         "intent": [],
         "isInfluential": false,
         "paperId": "b09c3f16f453d104fcf6e39d7a8e99c96546fd35",
         "title": "Entity Extraction: From Unstructured Text to DBpedia RDF triples",
         "url": "https://www.semanticscholar.org/paper/b09c3f16f453d104fcf6e39d7a8e99c96546fd35",
         "venue": "WoLE@ISWC",
         "year": 2012
        },
        {
         "arxivId": null,
         "authors": [
          {
           "authorId": "2866971",
           "name": "S. Takamatsu"
          },
          {
           "authorId": "73355331",
           "name": "I. Sato"
          },
          {
           "authorId": "145153059",
           "name": "H. Nakagawa"
          }
         ],
         "doi": null,
         "intent": [
          "background"
         ],
         "isInfluential": false,
         "paperId": "5a4450ae8a92d7d34131620531ba5e5cb853148b",
         "title": "Reducing Wrong Labels in Distant Supervision for Relation Extraction",
         "url": "https://www.semanticscholar.org/paper/5a4450ae8a92d7d34131620531ba5e5cb853148b",
         "venue": "ACL",
         "year": 2012
        },
        {
         "arxivId": null,
         "authors": [
          {
           "authorId": "48000626",
           "name": "Hila Weisman"
          },
          {
           "authorId": "1750652",
           "name": "Jonathan Berant"
          },
          {
           "authorId": "1711977",
           "name": "Idan Szpektor"
          },
          {
           "authorId": "7465342",
           "name": "I. Dagan"
          }
         ],
         "doi": null,
         "intent": [],
         "isInfluential": false,
         "paperId": "d296bdd1d189682a62511cd03948f7c6464a4824",
         "title": "Learning Verb Inference Rules from Linguistically-Motivated Evidence",
         "url": "https://www.semanticscholar.org/paper/d296bdd1d189682a62511cd03948f7c6464a4824",
         "venue": "EMNLP-CoNLL",
         "year": 2012
        },
        {
         "arxivId": null,
         "authors": [
          {
           "authorId": "1767807",
           "name": "Jay Urbain"
          }
         ],
         "doi": "10.1145/2379307.2379312",
         "intent": [
          "methodology"
         ],
         "isInfluential": true,
         "paperId": "6ab5edbc7bfb0f63f82d5498450784a572798c51",
         "title": "User-driven relational models for entity-relation search and extraction",
         "url": "https://www.semanticscholar.org/paper/6ab5edbc7bfb0f63f82d5498450784a572798c51",
         "venue": "JIWES '12",
         "year": 2012
        },
        {
         "arxivId": null,
         "authors": [
          {
           "authorId": "2681499",
           "name": "Sarath Kumar Kondreddi"
          }
         ],
         "doi": "10.22028/D291-26564",
         "intent": [
          "methodology",
          "background"
         ],
         "isInfluential": true,
         "paperId": "e8781a7701c575ff5b526c834c41013d01d182df",
         "title": "Human computing and crowdsourcing methods for knowledge acquisition",
         "url": "https://www.semanticscholar.org/paper/e8781a7701c575ff5b526c834c41013d01d182df",
         "venue": "",
         "year": 2014
        },
        {
         "arxivId": null,
         "authors": [
          {
           "authorId": "144572958",
           "name": "Y. Jin"
          }
         ],
         "doi": null,
         "intent": [],
         "isInfluential": false,
         "paperId": "99414900ba523efa8f6b4149186a48f731c07a9a",
         "title": "An Overview of Research on Electronic Medical Record Oriented Named Entity Recognition and Entity Relation Extraction",
         "url": "https://www.semanticscholar.org/paper/99414900ba523efa8f6b4149186a48f731c07a9a",
         "venue": "",
         "year": 2014
        },
        {
         "arxivId": null,
         "authors": [
          {
           "authorId": "2657265",
           "name": "Masumi Shirakawa"
          },
          {
           "authorId": "1943224",
           "name": "Kotaro Nakayama"
          },
          {
           "authorId": "3182818",
           "name": "Eiji Aramaki"
          },
          {
           "authorId": "144337552",
           "name": "Takahiro Hara"
          },
          {
           "authorId": "34957142",
           "name": "Shojiro Nishio"
          }
         ],
         "doi": "10.1109/WI-IAT.2014.20",
         "intent": [
          "background",
          "methodology"
         ],
         "isInfluential": true,
         "paperId": "99292bccad9d70fae72968e69ef120985dd9eab5",
         "title": "Collecting Conceptualized Relations from Terabytes of Web Texts for Understanding Unknown Terms",
         "url": "https://www.semanticscholar.org/paper/99292bccad9d70fae72968e69ef120985dd9eab5",
         "venue": "2014 IEEE/WIC/ACM International Joint Conferences on Web Intelligence (WI) and Intelligent Agent Technologies (IAT)",
         "year": 2014
        },
        {
         "arxivId": null,
         "authors": [
          {
           "authorId": "2675553",
           "name": "Sandra Collovini"
          },
          {
           "authorId": "3351796",
           "name": "Lucas Pugens"
          },
          {
           "authorId": "2555630",
           "name": "A. Vanin"
          },
          {
           "authorId": "144845513",
           "name": "R. Vieira"
          }
         ],
         "doi": "10.1007/978-3-319-12027-0_9",
         "intent": [],
         "isInfluential": false,
         "paperId": "4c22914a11c7c4661e9354f79c822a1e32731d7d",
         "title": "Extraction of Relation Descriptors for Portuguese Using Conditional Random Fields",
         "url": "https://www.semanticscholar.org/paper/4c22914a11c7c4661e9354f79c822a1e32731d7d",
         "venue": "IBERAMIA",
         "year": 2014
        },
        {
         "arxivId": null,
         "authors": [
          {
           "authorId": "1750652",
           "name": "Jonathan Berant"
          },
          {
           "authorId": "3052879",
           "name": "V. Srikumar"
          },
          {
           "authorId": "49490552",
           "name": "P. Chen"
          },
          {
           "authorId": "1824195",
           "name": "A. V. Linden"
          },
          {
           "authorId": "144521450",
           "name": "Brittany Harding"
          },
          {
           "authorId": "2988874",
           "name": "Brad Huang"
          },
          {
           "authorId": "48323507",
           "name": "Peter Clark"
          },
          {
           "authorId": "144783904",
           "name": "Christopher D. Manning"
          }
         ],
         "doi": "10.3115/v1/D14-1159",
         "intent": [
          "background"
         ],
         "isInfluential": false,
         "paperId": "6396ab37641d36be4c26420e58adeb8665914c3b",
         "title": "Modeling Biological Processes for Reading Comprehension",
         "url": "https://www.semanticscholar.org/paper/6396ab37641d36be4c26420e58adeb8665914c3b",
         "venue": "EMNLP",
         "year": 2014
        },
        {
         "arxivId": null,
         "authors": [
          {
           "authorId": "145275796",
           "name": "Hugo Gonçalo Oliveira"
          },
          {
           "authorId": "145988541",
           "name": "A. Alves"
          }
         ],
         "doi": null,
         "intent": [
          "background"
         ],
         "isInfluential": false,
         "paperId": "126a18b7f6d1557b685cd732d1377f45933e72f5",
         "title": "Poetry from Concept Maps-Yet Another Adaptation of PoeTryMe's Flexible Architecture",
         "url": "https://www.semanticscholar.org/paper/126a18b7f6d1557b685cd732d1377f45933e72f5",
         "venue": "ICCC",
         "year": 2016
        },
        {
         "arxivId": null,
         "authors": [
          {
           "authorId": "144637335",
           "name": "Mohamed Yahya"
          }
         ],
         "doi": "10.22028/D291-25428",
         "intent": [
          "background"
         ],
         "isInfluential": false,
         "paperId": "cdfc7125d6526247bd94afdd6379b3fd6fec5674",
         "title": "Question answering and query processing for extended knowledge graphs",
         "url": "https://www.semanticscholar.org/paper/cdfc7125d6526247bd94afdd6379b3fd6fec5674",
         "venue": "",
         "year": 2016
        },
        {
         "arxivId": null,
         "authors": [
          {
           "authorId": "33544449",
           "name": "S. Takase"
          },
          {
           "authorId": "1764004",
           "name": "N. Okazaki"
          },
          {
           "authorId": "3040648",
           "name": "Kentaro Inui"
          }
         ],
         "doi": "10.1016/j.engappai.2016.01.027",
         "intent": [
          "methodology"
         ],
         "isInfluential": false,
         "paperId": "61c352957333af8e1e1647cef92105acf6ab1715",
         "title": "Modeling semantic compositionality of relational patterns",
         "url": "https://www.semanticscholar.org/paper/61c352957333af8e1e1647cef92105acf6ab1715",
         "venue": "Eng. Appl. Artif. Intell.",
         "year": 2016
        },
        {
         "arxivId": "1511.05099",
         "authors": [
          {
           "authorId": "40409467",
           "name": "P. Zhang"
          },
          {
           "authorId": "37226164",
           "name": "Yash Goyal"
          },
          {
           "authorId": "1403432120",
           "name": "Douglas Summers-Stay"
          },
          {
           "authorId": "145054147",
           "name": "Dhruv Batra"
          },
          {
           "authorId": "153432684",
           "name": "D. Parikh"
          }
         ],
         "doi": "10.1109/CVPR.2016.542",
         "intent": [],
         "isInfluential": false,
         "paperId": "5fa973b8d284145bf0ced9acf2913a74674260f6",
         "title": "Yin and Yang: Balancing and Answering Binary Visual Questions",
         "url": "https://www.semanticscholar.org/paper/5fa973b8d284145bf0ced9acf2913a74674260f6",
         "venue": "2016 IEEE Conference on Computer Vision and Pattern Recognition (CVPR)",
         "year": 2016
        },
        {
         "arxivId": null,
         "authors": [
          {
           "authorId": "144554647",
           "name": "L. Zou"
          },
          {
           "authorId": "1705151",
           "name": "M. Özsu"
          }
         ],
         "doi": "10.1007/s41019-016-0029-6",
         "intent": [
          "background"
         ],
         "isInfluential": false,
         "paperId": "954174aec50b0ee921b8088193022c46f5400cf8",
         "title": "Graph-Based RDF Data Management",
         "url": "https://www.semanticscholar.org/paper/954174aec50b0ee921b8088193022c46f5400cf8",
         "venue": "Data Science and Engineering",
         "year": 2016
        },
        {
         "arxivId": "1802.06842",
         "authors": [
          {
           "authorId": "2218938",
           "name": "Hady ElSahar"
          },
          {
           "authorId": "1701478",
           "name": "C. Gravier"
          },
          {
           "authorId": "2141475",
           "name": "F. Laforest"
          }
         ],
         "doi": "10.18653/v1/N18-1020",
         "intent": [
          "methodology"
         ],
         "isInfluential": false,
         "paperId": "97ead728b450275127a4b599ce7bebad29a17b37",
         "title": "Zero-Shot Question Generation from Knowledge Graphs for Unseen Predicates and Entity Types",
         "url": "https://www.semanticscholar.org/paper/97ead728b450275127a4b599ce7bebad29a17b37",
         "venue": "NAACL-HLT",
         "year": 2018
        },
        {
         "arxivId": null,
         "authors": [
          {
           "authorId": "2888851",
           "name": "Torsten Kilias"
          },
          {
           "authorId": "3289992",
           "name": "Alexander Löser"
          },
          {
           "authorId": "1739619",
           "name": "Periklis Andritsos"
          }
         ],
         "doi": "10.1145/2513190.2513196",
         "intent": [
          "methodology"
         ],
         "isInfluential": true,
         "paperId": "0a850a9fc853c358aea1167e1f965cda8980b7fd",
         "title": "INDREX: in-database distributional relation extraction",
         "url": "https://www.semanticscholar.org/paper/0a850a9fc853c358aea1167e1f965cda8980b7fd",
         "venue": "DOLAP '13",
         "year": 2013
        },
        {
         "arxivId": null,
         "authors": [
          {
           "authorId": "103466141",
           "name": "A. for"
          },
          {
           "authorId": null,
           "name": "ENCYCLOPAEDIA ENTRY"
          },
          {
           "authorId": "2170235",
           "name": "Filipo Sharevski"
          }
         ],
         "doi": "10.5121/ijaia.2015.6407",
         "intent": [
          "background"
         ],
         "isInfluential": false,
         "paperId": "11d019f89aa34268c7ea35f02db0291880d6df73",
         "title": "Assessing the Quality of Online News Articles as References for an Encyclopaedia Entry",
         "url": "https://www.semanticscholar.org/paper/11d019f89aa34268c7ea35f02db0291880d6df73",
         "venue": "",
         "year": 2015
        },
        {
         "arxivId": null,
         "authors": [
          {
           "authorId": "2592081",
           "name": "Daniela Barreiro Claro"
          },
          {
           "authorId": "48352393",
           "name": "Marlo Souza"
          },
          {
           "authorId": "2427918",
           "name": "C. Xavier"
          },
          {
           "authorId": "40635633",
           "name": "Leandro Souza de Oliveira"
          }
         ],
         "doi": "10.3390/INFO10070228",
         "intent": [
          "background"
         ],
         "isInfluential": true,
         "paperId": "442ca0abe65f4fc8eb1ef9efb82b2fa68690f4fe",
         "title": "Multilingual Open Information Extraction: Challenges and Opportunities",
         "url": "https://www.semanticscholar.org/paper/442ca0abe65f4fc8eb1ef9efb82b2fa68690f4fe",
         "venue": "Inf.",
         "year": 2019
        },
        {
         "arxivId": null,
         "authors": [
          {
           "authorId": "1778382",
           "name": "Sagar Sunkle"
          },
          {
           "authorId": "1797699",
           "name": "Deepali Kholkar"
          },
          {
           "authorId": "145870636",
           "name": "Vinay Kulkarni"
          }
         ],
         "doi": "10.1109/EDOC.2016.7579382",
         "intent": [],
         "isInfluential": false,
         "paperId": "005dd52696c4ee5f70927564ad97210b555803ba",
         "title": "Informed Active Learning to Aid Domain Experts in Modeling Compliance",
         "url": "https://www.semanticscholar.org/paper/005dd52696c4ee5f70927564ad97210b555803ba",
         "venue": "2016 IEEE 20th International Enterprise Distributed Object Computing Conference (EDOC)",
         "year": 2016
        },
        {
         "arxivId": null,
         "authors": [
          {
           "authorId": "2218938",
           "name": "Hady ElSahar"
          },
          {
           "authorId": "1701478",
           "name": "C. Gravier"
          },
          {
           "authorId": "2141475",
           "name": "F. Laforest"
          }
         ],
         "doi": null,
         "intent": [
          "background",
          "methodology"
         ],
         "isInfluential": true,
         "paperId": "edc4dad5b4ca0f657eae18ea20dc7acad8642a93",
         "title": "High Recall Open IE for Relation Discovery",
         "url": "https://www.semanticscholar.org/paper/edc4dad5b4ca0f657eae18ea20dc7acad8642a93",
         "venue": "IJCNLP",
         "year": 2017
        },
        {
         "arxivId": null,
         "authors": [
          {
           "authorId": "40464087",
           "name": "F. Li"
          },
          {
           "authorId": "145867172",
           "name": "X. Dong"
          },
          {
           "authorId": "2016202",
           "name": "A. Langen"
          },
          {
           "authorId": null,
           "name": "Yang Li"
          }
         ],
         "doi": "10.14778/3137628.3137646",
         "intent": [
          "methodology"
         ],
         "isInfluential": false,
         "paperId": "81f687b63a6a0627448279750c1020a0182308ab",
         "title": "Knowledge Verification for LongTail Verticals",
         "url": "https://www.semanticscholar.org/paper/81f687b63a6a0627448279750c1020a0182308ab",
         "venue": "Proc. VLDB Endow.",
         "year": 2017
        },
        {
         "arxivId": null,
         "authors": [
          {
           "authorId": "2945861",
           "name": "Cenker Sengoz"
          }
         ],
         "doi": null,
         "intent": [
          "methodology",
          "background"
         ],
         "isInfluential": false,
         "paperId": "cd495a4712ad8810b502543e9d5554cc012af274",
         "title": "A Granular-based Approach for",
         "url": "https://www.semanticscholar.org/paper/cd495a4712ad8810b502543e9d5554cc012af274",
         "venue": "",
         "year": 2014
        },
        {
         "arxivId": null,
         "authors": [
          {
           "authorId": "2932391",
           "name": "S. Gindl"
          },
          {
           "authorId": "7602703",
           "name": "A. Weichselbraun"
          },
          {
           "authorId": "2339884",
           "name": "A. Scharl"
          }
         ],
         "doi": "10.1145/2487788.2487994",
         "intent": [
          "background"
         ],
         "isInfluential": false,
         "paperId": "d3affa5a1167ee9ba1d23cd5c8c3b67765084d04",
         "title": "Rule-based opinion target and aspect extraction to acquire affective knowledge",
         "url": "https://www.semanticscholar.org/paper/d3affa5a1167ee9ba1d23cd5c8c3b67765084d04",
         "venue": "WWW '13 Companion",
         "year": 2013
        },
        {
         "arxivId": null,
         "authors": [
          {
           "authorId": "3306556",
           "name": "K. Joseph"
          }
         ],
         "doi": null,
         "intent": [
          "methodology"
         ],
         "isInfluential": false,
         "paperId": "b2d002e65f7fd13dd31a1dac7eec1c73951b9900",
         "title": "Proposal Latent Cognitive Social Spaces : theory and methods for extracting prejudice from text",
         "url": "https://www.semanticscholar.org/paper/b2d002e65f7fd13dd31a1dac7eec1c73951b9900",
         "venue": "",
         "year": 2015
        },
        {
         "arxivId": null,
         "authors": [
          {
           "authorId": "1736067",
           "name": "Isabelle Augenstein"
          }
         ],
         "doi": null,
         "intent": [
          "background"
         ],
         "isInfluential": false,
         "paperId": "502113bb3e6d4213f31aabb851e07d14c4f7dd09",
         "title": "Web relation extraction with distant supervision",
         "url": "https://www.semanticscholar.org/paper/502113bb3e6d4213f31aabb851e07d14c4f7dd09",
         "venue": "",
         "year": 2016
        },
        {
         "arxivId": null,
         "authors": [
          {
           "authorId": "41030748",
           "name": "Akim Bassa"
          },
          {
           "authorId": "1802917",
           "name": "Mark Kröll"
          },
          {
           "authorId": "144361874",
           "name": "R. Kern"
          }
         ],
         "doi": null,
         "intent": [],
         "isInfluential": false,
         "paperId": "493d409eb2e087752d2c0d8ee395e141e84ee335",
         "title": "GerIE - An Open Information Extraction System for the German Language",
         "url": "https://www.semanticscholar.org/paper/493d409eb2e087752d2c0d8ee395e141e84ee335",
         "venue": "J. Univers. Comput. Sci.",
         "year": 2018
        },
        {
         "arxivId": null,
         "authors": [
          {
           "authorId": "145988207",
           "name": "Tiago Eugenio de Melo"
          }
         ],
         "doi": null,
         "intent": [
          "background"
         ],
         "isInfluential": false,
         "paperId": "6368c4627e6403ac8390c52266da697cf60bd743",
         "title": "Leveraging User Opinions for Product Catalog Enrichment",
         "url": "https://www.semanticscholar.org/paper/6368c4627e6403ac8390c52266da697cf60bd743",
         "venue": "",
         "year": 2018
        },
        {
         "arxivId": null,
         "authors": [
          {
           "authorId": "2499986",
           "name": "Hamed Zamani"
          },
          {
           "authorId": "1728602",
           "name": "S. Dumais"
          },
          {
           "authorId": "1703980",
           "name": "Nick Craswell"
          },
          {
           "authorId": "144609235",
           "name": "P. Bennett"
          },
          {
           "authorId": "48162400",
           "name": "G. Lueck"
          }
         ],
         "doi": null,
         "intent": [
          "methodology"
         ],
         "isInfluential": false,
         "paperId": "771ecd8bcfa02194ecc8d16bf070fae8a8243a22",
         "title": "Generating ClarifyingQuestions for Information Retrieval",
         "url": "https://www.semanticscholar.org/paper/771ecd8bcfa02194ecc8d16bf070fae8a8243a22",
         "venue": "",
         "year": 2020
        },
        {
         "arxivId": null,
         "authors": [
          {
           "authorId": "15540916",
           "name": "Sagarika Sahoo"
          },
          {
           "authorId": "70337047",
           "name": "Avani Jadeja"
          }
         ],
         "doi": null,
         "intent": [],
         "isInfluential": false,
         "paperId": "bb3cbeb43ebf9d294ea694992365cb557691dd6f",
         "title": "Extending Knowledge Bases using various Neural Network Models-A Survey",
         "url": "https://www.semanticscholar.org/paper/bb3cbeb43ebf9d294ea694992365cb557691dd6f",
         "venue": "",
         "year": 2014
        },
        {
         "arxivId": null,
         "authors": [
          {
           "authorId": "1678236236",
           "name": "Kacfah Emani"
          },
          {
           "authorId": "103809078",
           "name": "C. Hito"
          }
         ],
         "doi": null,
         "intent": [],
         "isInfluential": false,
         "paperId": "4eca99b26e11a1d5f46d8b5e2c99e8b3c6ae4c31",
         "title": "Formalisation automatique et sémantique de règles métiers",
         "url": "https://www.semanticscholar.org/paper/4eca99b26e11a1d5f46d8b5e2c99e8b3c6ae4c31",
         "venue": "",
         "year": 2016
        },
        {
         "arxivId": null,
         "authors": [
          {
           "authorId": "3185452",
           "name": "Duc-Thuan Vo"
          },
          {
           "authorId": "145632843",
           "name": "E. Bagheri"
          }
         ],
         "doi": "10.1016/J.IPM.2018.10.011",
         "intent": [
          "methodology",
          "background"
         ],
         "isInfluential": true,
         "paperId": "14cf2911038fe92968ed06583fb7070a36ee877a",
         "title": "Feature-enriched matrix factorization for relation extraction",
         "url": "https://www.semanticscholar.org/paper/14cf2911038fe92968ed06583fb7070a36ee877a",
         "venue": "Inf. Process. Manag.",
         "year": 2019
        },
        {
         "arxivId": null,
         "authors": [
          {
           "authorId": "49436852",
           "name": "Swapnil Gupta"
          },
          {
           "authorId": "2877963",
           "name": "Sreyash Kenkre"
          },
          {
           "authorId": "2408872",
           "name": "P. Talukdar"
          }
         ],
         "doi": "10.18653/v1/D19-1036",
         "intent": [
          "methodology"
         ],
         "isInfluential": true,
         "paperId": "9f5915dbea0cdb154af6b57d0ba61eab9f37f1c0",
         "title": "CaRe: Open Knowledge Graph Embeddings",
         "url": "https://www.semanticscholar.org/paper/9f5915dbea0cdb154af6b57d0ba61eab9f37f1c0",
         "venue": "EMNLP/IJCNLP",
         "year": 2019
        },
        {
         "arxivId": "1807.00571",
         "authors": [
          {
           "authorId": "1387447871",
           "name": "José Camacho-Collados"
          },
          {
           "authorId": "2254466",
           "name": "Luis Espinosa Anke"
          },
          {
           "authorId": "1717641",
           "name": "Mohammad Taher Pilehvar"
          }
         ],
         "doi": "10.18653/v1/N18-6004",
         "intent": [
          "methodology"
         ],
         "isInfluential": false,
         "paperId": "768b8801c9d4c1556c50769c24638e82be4d3267",
         "title": "The interplay between lexical resources and Natural Language Processing",
         "url": "https://www.semanticscholar.org/paper/768b8801c9d4c1556c50769c24638e82be4d3267",
         "venue": "NAACL-HLT",
         "year": 2018
        },
        {
         "arxivId": null,
         "authors": [
          {
           "authorId": "144596607",
           "name": "J. Rodríguez"
          },
          {
           "authorId": "3430156",
           "name": "Hernán D. Merlino"
          },
          {
           "authorId": "1794855",
           "name": "Patricia Pesado"
          },
          {
           "authorId": "81840790",
           "name": "R. García-Martínez"
          }
         ],
         "doi": "10.1145/3184066.3184099",
         "intent": [
          "methodology"
         ],
         "isInfluential": false,
         "paperId": "ce7da335fdb72401cddb1844eb04f7f88c4f65b1",
         "title": "Evaluation of open information extraction methods using Reuters-21578 database",
         "url": "https://www.semanticscholar.org/paper/ce7da335fdb72401cddb1844eb04f7f88c4f65b1",
         "venue": "ICMLSC '18",
         "year": 2018
        },
        {
         "arxivId": "1801.07414",
         "authors": [
          {
           "authorId": "144667269",
           "name": "Zhao Yan"
          },
          {
           "authorId": "39483833",
           "name": "Duyu Tang"
          },
          {
           "authorId": "29943965",
           "name": "Nan Duan"
          },
          {
           "authorId": "1803054",
           "name": "Shujie Liu"
          },
          {
           "authorId": "1796093",
           "name": "W. Wang"
          },
          {
           "authorId": "1753226",
           "name": "D. Jiang"
          },
          {
           "authorId": "143849609",
           "name": "M. Zhou"
          },
          {
           "authorId": "1707275",
           "name": "Zhoujun Li"
          }
         ],
         "doi": null,
         "intent": [
          "background",
          "methodology"
         ],
         "isInfluential": false,
         "paperId": "c89ecb1eb9f139b397fe8e8ceb04cb7015b80be1",
         "title": "Assertion-based QA with Question-Aware Open Information Extraction",
         "url": "https://www.semanticscholar.org/paper/c89ecb1eb9f139b397fe8e8ceb04cb7015b80be1",
         "venue": "AAAI",
         "year": 2018
        },
        {
         "arxivId": "2004.02118",
         "authors": [
          {
           "authorId": "7648396",
           "name": "B. Liu"
          },
          {
           "authorId": "48544823",
           "name": "W. Guo"
          },
          {
           "authorId": "49412100",
           "name": "Di Niu"
          },
          {
           "authorId": "153258110",
           "name": "Jin-wen Luo"
          },
          {
           "authorId": null,
           "name": "Chaoyue Wang"
          },
          {
           "authorId": "144136791",
           "name": "Zhen Wen"
          },
          {
           "authorId": "50125955",
           "name": "Y. Xu"
          }
         ],
         "doi": "10.1145/3318464.3386145",
         "intent": [
          "background"
         ],
         "isInfluential": false,
         "paperId": "40d343d52cff48dbee5b3d6eae985712bcf812d5",
         "title": "GIANT: Scalable Creation of a Web-scale Ontology",
         "url": "https://www.semanticscholar.org/paper/40d343d52cff48dbee5b3d6eae985712bcf812d5",
         "venue": "SIGMOD Conference",
         "year": 2020
        },
        {
         "arxivId": null,
         "authors": [
          {
           "authorId": "2725568",
           "name": "Junfeng Pan"
          },
          {
           "authorId": "7643792",
           "name": "Haofen Wang"
          },
          {
           "authorId": "1811427",
           "name": "Yong Yu"
          }
         ],
         "doi": "10.1007/978-1-4614-6880-6_9",
         "intent": [],
         "isInfluential": false,
         "paperId": "f8c3439d4d7d92e4536186359064ae71b25e3d85",
         "title": "Building Large-Scale Knowledge Base for Relations from Text",
         "url": "https://www.semanticscholar.org/paper/f8c3439d4d7d92e4536186359064ae71b25e3d85",
         "venue": "CSWS",
         "year": 2012
        },
        {
         "arxivId": null,
         "authors": [
          {
           "authorId": "2272640",
           "name": "Tiziano Flati"
          },
          {
           "authorId": "1733928",
           "name": "R. Navigli"
          }
         ],
         "doi": null,
         "intent": [
          "background"
         ],
         "isInfluential": false,
         "paperId": "17d7960728dea40b034a362e8472cdfcf1192d55",
         "title": "SPred: Large-scale Harvesting of Semantic Predicates",
         "url": "https://www.semanticscholar.org/paper/17d7960728dea40b034a362e8472cdfcf1192d55",
         "venue": "ACL",
         "year": 2013
        },
        {
         "arxivId": null,
         "authors": [
          {
           "authorId": "2298649",
           "name": "Oren Melamud"
          },
          {
           "authorId": "7465342",
           "name": "I. Dagan"
          },
          {
           "authorId": "34508613",
           "name": "J. Goldberger"
          },
          {
           "authorId": "1711977",
           "name": "Idan Szpektor"
          }
         ],
         "doi": null,
         "intent": [
          "methodology"
         ],
         "isInfluential": false,
         "paperId": "e0f9e8fb44636ddd7f62d8d7c233ebb5b2189b59",
         "title": "Using Lexical Expansion to Learn Inference Rules from Sparse Data",
         "url": "https://www.semanticscholar.org/paper/e0f9e8fb44636ddd7f62d8d7c233ebb5b2189b59",
         "venue": "ACL",
         "year": 2013
        },
        {
         "arxivId": null,
         "authors": [
          {
           "authorId": "39455775",
           "name": "Omer Levy"
          },
          {
           "authorId": "7465342",
           "name": "I. Dagan"
          },
          {
           "authorId": "34508613",
           "name": "J. Goldberger"
          }
         ],
         "doi": "10.3115/v1/W14-1610",
         "intent": [],
         "isInfluential": false,
         "paperId": "8cef20c98d41018c44c78772424112c5b5679144",
         "title": "Focused Entailment Graphs for Open IE Propositions",
         "url": "https://www.semanticscholar.org/paper/8cef20c98d41018c44c78772424112c5b5679144",
         "venue": "CoNLL",
         "year": 2014
        },
        {
         "arxivId": null,
         "authors": [
          {
           "authorId": "2835969",
           "name": "Hidekazu Oiwa"
          },
          {
           "authorId": "1737901",
           "name": "Jun'ichi Tsujii"
          }
         ],
         "doi": null,
         "intent": [
          "background"
         ],
         "isInfluential": false,
         "paperId": "883e7768c2894b3655b62ee9da592605c6015de2",
         "title": "Common Space Embedding of Primal-Dual Relation Semantic Spaces",
         "url": "https://www.semanticscholar.org/paper/883e7768c2894b3655b62ee9da592605c6015de2",
         "venue": "COLING",
         "year": 2014
        },
        {
         "arxivId": null,
         "authors": [
          {
           "authorId": "151485141",
           "name": "Kun Xu"
          },
          {
           "authorId": "72655349",
           "name": "Sheng Zhang"
          },
          {
           "authorId": "1717629",
           "name": "Yansong Feng"
          },
          {
           "authorId": "144060462",
           "name": "Dongyan Zhao"
          }
         ],
         "doi": "10.1007/978-3-662-45924-9_30",
         "intent": [],
         "isInfluential": false,
         "paperId": "5525193a1f265d1929b3b364f5498038ff4941ab",
         "title": "Answering Natural Language Questions via Phrasal Semantic Parsing",
         "url": "https://www.semanticscholar.org/paper/5525193a1f265d1929b3b364f5498038ff4941ab",
         "venue": "CLEF",
         "year": 2014
        },
        {
         "arxivId": null,
         "authors": [
          {
           "authorId": "32399809",
           "name": "Rui Da"
          }
         ],
         "doi": null,
         "intent": [
          "background"
         ],
         "isInfluential": false,
         "paperId": "3e238b0a13bf48dac60ef03293adca27fa482fb3",
         "title": "A method of determining culture related users using computation of correlation",
         "url": "https://www.semanticscholar.org/paper/3e238b0a13bf48dac60ef03293adca27fa482fb3",
         "venue": "",
         "year": 2015
        },
        {
         "arxivId": null,
         "authors": [
          {
           "authorId": "1724629",
           "name": "Marius Pasca"
          }
         ],
         "doi": "10.3115/v1/D14-1115",
         "intent": [
          "methodology",
          "background"
         ],
         "isInfluential": true,
         "paperId": "7d03a60ce3cc884cf0788f4259a0826e882e8a40",
         "title": "Queries as a Source of Lexicalized Commonsense Knowledge",
         "url": "https://www.semanticscholar.org/paper/7d03a60ce3cc884cf0788f4259a0826e882e8a40",
         "venue": "EMNLP",
         "year": 2014
        },
        {
         "arxivId": null,
         "authors": [
          {
           "authorId": "2596795",
           "name": "Scott Malec"
          },
          {
           "authorId": "1755484",
           "name": "S. Darányi"
          },
          {
           "authorId": "1802811",
           "name": "D. Widdows"
          },
          {
           "authorId": "2696466",
           "name": "T. Cohen"
          }
         ],
         "doi": "10.13140/RG.2.1.1893.6488",
         "intent": [
          "background"
         ],
         "isInfluential": true,
         "paperId": "4c76b4c6b3812008ab385db12529da5b4608da20",
         "title": "Landing Propp in Interaction Space: First Steps Toward Scalable Open Domain Narrative Analysis With Predication-based Semantic Indexing",
         "url": "https://www.semanticscholar.org/paper/4c76b4c6b3812008ab385db12529da5b4608da20",
         "venue": "",
         "year": 2015
        },
        {
         "arxivId": null,
         "authors": [
          {
           "authorId": "1694892",
           "name": "S. Homoceanu"
          }
         ],
         "doi": null,
         "intent": [],
         "isInfluential": false,
         "paperId": "baedca7b1fd673ba73cb9ced5088eb719f299058",
         "title": "What Search Engines Can't Do. Holistic Entity Search on Web Data",
         "url": "https://www.semanticscholar.org/paper/baedca7b1fd673ba73cb9ced5088eb719f299058",
         "venue": "",
         "year": 2015
        },
        {
         "arxivId": null,
         "authors": [
          {
           "authorId": "3149915",
           "name": "Sergio Oramas"
          },
          {
           "authorId": "1804464",
           "name": "Mohamed Sordo"
          },
          {
           "authorId": "2254466",
           "name": "Luis Espinosa Anke"
          }
         ],
         "doi": "10.1145/2740908.2741709",
         "intent": [
          "background",
          "methodology"
         ],
         "isInfluential": true,
         "paperId": "a977ec0d86f118e81e05cc7e182e19e995b9514a",
         "title": "A Rule-Based Approach to Extracting Relations from Music Tidbits",
         "url": "https://www.semanticscholar.org/paper/a977ec0d86f118e81e05cc7e182e19e995b9514a",
         "venue": "WWW '15 Companion",
         "year": 2015
        },
        {
         "arxivId": null,
         "authors": [
          {
           "authorId": "3218950",
           "name": "Dana Movshovitz-Attias"
          },
          {
           "authorId": "50056360",
           "name": "William W. Cohen"
          }
         ],
         "doi": "10.3115/v1/P15-1140",
         "intent": [
          "methodology"
         ],
         "isInfluential": true,
         "paperId": "df873bde0b44e543634d109a7a8b1ba7dfaa8187",
         "title": "KB-LDA: Jointly Learning a Knowledge Base of Hierarchy, Relations, and Facts",
         "url": "https://www.semanticscholar.org/paper/df873bde0b44e543634d109a7a8b1ba7dfaa8187",
         "venue": "ACL",
         "year": 2015
        },
        {
         "arxivId": null,
         "authors": [
          {
           "authorId": "2505999",
           "name": "Feichen Shen"
          },
          {
           "authorId": "1748831",
           "name": "H. Liu"
          },
          {
           "authorId": "2267995",
           "name": "S. Sohn"
          },
          {
           "authorId": "143928758",
           "name": "D. Larson"
          },
          {
           "authorId": "1787659",
           "name": "Yugyung Lee"
          }
         ],
         "doi": "10.1109/BIBM.2015.7359833",
         "intent": [],
         "isInfluential": false,
         "paperId": "a59bc29ee7ef92796078bada375242e176fecfce",
         "title": "BmQGen: Biomedical query generator for knowledge discovery",
         "url": "https://www.semanticscholar.org/paper/a59bc29ee7ef92796078bada375242e176fecfce",
         "venue": "2015 IEEE International Conference on Bioinformatics and Biomedicine (BIBM)",
         "year": 2015
        },
        {
         "arxivId": null,
         "authors": [
          {
           "authorId": "2961187",
           "name": "Adrian Groza"
          },
          {
           "authorId": "2690508",
           "name": "Lidia Corde"
          }
         ],
         "doi": "10.1109/ICCP.2015.7312606",
         "intent": [
          "background"
         ],
         "isInfluential": false,
         "paperId": "521786983f4ec2df6739da23b5b4d049987de626",
         "title": "Information retrieval in falktales using natural language processing",
         "url": "https://www.semanticscholar.org/paper/521786983f4ec2df6739da23b5b4d049987de626",
         "venue": "2015 IEEE International Conference on Intelligent Computer Communication and Processing (ICCP)",
         "year": 2015
        },
        {
         "arxivId": null,
         "authors": [
          {
           "authorId": "2403712",
           "name": "A. Akbik"
          },
          {
           "authorId": "48164859",
           "name": "Xinyu Guan"
          },
          {
           "authorId": "1718694",
           "name": "Yunyao Li"
          }
         ],
         "doi": null,
         "intent": [
          "background"
         ],
         "isInfluential": false,
         "paperId": "a1a8a4c5705f6d71ef4bfeaadc47aa3e8b045326",
         "title": "Multilingual Aliasing for Auto-Generating Proposition Banks",
         "url": "https://www.semanticscholar.org/paper/a1a8a4c5705f6d71ef4bfeaadc47aa3e8b045326",
         "venue": "COLING",
         "year": 2016
        },
        {
         "arxivId": null,
         "authors": [
          {
           "authorId": "153001550",
           "name": "Zhongyu Peng"
          }
         ],
         "doi": null,
         "intent": [
          "background"
         ],
         "isInfluential": true,
         "paperId": "70099a24c7795861d120469186b55d5c71eb07f4",
         "title": "Single-Entity-Single-Relation Question Answering with Minimal Annotation",
         "url": "https://www.semanticscholar.org/paper/70099a24c7795861d120469186b55d5c71eb07f4",
         "venue": "",
         "year": 2016
        },
        {
         "arxivId": null,
         "authors": [
          {
           "authorId": "40390481",
           "name": "Tobias Falke"
          },
          {
           "authorId": "2157025",
           "name": "Gabriel Stanovsky"
          },
          {
           "authorId": "1730400",
           "name": "Iryna Gurevych"
          },
          {
           "authorId": "7465342",
           "name": "I. Dagan"
          }
         ],
         "doi": "10.18653/v1/D16-1086",
         "intent": [
          "background",
          "methodology"
         ],
         "isInfluential": true,
         "paperId": "c9c27bb00f4135ac6db128e3478d705fbc16598e",
         "title": "Porting an Open Information Extraction System from English to German",
         "url": "https://www.semanticscholar.org/paper/c9c27bb00f4135ac6db128e3478d705fbc16598e",
         "venue": "EMNLP",
         "year": 2016
        },
        {
         "arxivId": null,
         "authors": [
          {
           "authorId": "47103221",
           "name": "Ying Xu"
          }
         ],
         "doi": "10.7939/R3QB9VJ17",
         "intent": [],
         "isInfluential": false,
         "paperId": "48a807fc911c156e8c4e6eeecd2d17917a2ae63d",
         "title": "Relation Extraction and its Application to Question Answering",
         "url": "https://www.semanticscholar.org/paper/48a807fc911c156e8c4e6eeecd2d17917a2ae63d",
         "venue": "",
         "year": 2017
        },
        {
         "arxivId": null,
         "authors": [
          {
           "authorId": "145637121",
           "name": "Jun Hou"
          },
          {
           "authorId": "143658054",
           "name": "Richi Nayak"
          },
          {
           "authorId": "1754598",
           "name": "Jinglan Zhang"
          }
         ],
         "doi": "10.1145/2407085.2407101",
         "intent": [],
         "isInfluential": false,
         "paperId": "e358b5059163803bb7a70fab9bda473251ed4414",
         "title": "Finding additional semantic entity information for search engines",
         "url": "https://www.semanticscholar.org/paper/e358b5059163803bb7a70fab9bda473251ed4414",
         "venue": "ADCS",
         "year": 2012
        },
        {
         "arxivId": null,
         "authors": [
          {
           "authorId": "3162795",
           "name": "Liangjun Zang"
          },
          {
           "authorId": "48319843",
           "name": "Cong Cao"
          },
          {
           "authorId": "9310727",
           "name": "Yanan Cao"
          },
          {
           "authorId": "13840873",
           "name": "Y. Wu"
          },
          {
           "authorId": "1712626",
           "name": "C. Cao"
          }
         ],
         "doi": "10.1007/s11390-013-1369-6",
         "intent": [],
         "isInfluential": false,
         "paperId": "d763d95bf45c9a4ea51545d5447738f2d85d45fc",
         "title": "A Survey of Commonsense Knowledge Acquisition",
         "url": "https://www.semanticscholar.org/paper/d763d95bf45c9a4ea51545d5447738f2d85d45fc",
         "venue": "Journal of Computer Science and Technology",
         "year": 2013
        },
        {
         "arxivId": null,
         "authors": [
          {
           "authorId": "38087946",
           "name": "Anthony Fader"
          },
          {
           "authorId": "1982950",
           "name": "Luke Zettlemoyer"
          },
          {
           "authorId": "1741101",
           "name": "Oren Etzioni"
          }
         ],
         "doi": null,
         "intent": [
          "methodology",
          "background"
         ],
         "isInfluential": false,
         "paperId": "c0be2ac2f45681f1852fc1d298af5dceb85834f4",
         "title": "Paraphrase-Driven Learning for Open Question Answering",
         "url": "https://www.semanticscholar.org/paper/c0be2ac2f45681f1852fc1d298af5dceb85834f4",
         "venue": "ACL",
         "year": 2013
        },
        {
         "arxivId": null,
         "authors": [
          {
           "authorId": "2362763",
           "name": "Carolina G. Abreu"
          },
          {
           "authorId": "143974710",
           "name": "Flávio Costa"
          },
          {
           "authorId": "33663049",
           "name": "Laécio L. Santos"
          },
          {
           "authorId": "32795335",
           "name": "Lucas Borges Monteiro"
          },
          {
           "authorId": "3173184",
           "name": "Luiz Fernando Peres de Oliveira"
          },
          {
           "authorId": "145163128",
           "name": "Patrícia Lustosa"
          },
          {
           "authorId": "7878550",
           "name": "Weigang Li"
          }
         ],
         "doi": "10.1007/978-3-642-41230-1_42",
         "intent": [
          "background",
          "result"
         ],
         "isInfluential": false,
         "paperId": "88012e0832a081d277d57c1254d710e4a073b487",
         "title": "Entity Extraction within Plain-Text Collections WISE 2013 Challenge - T1: Entity Linking Track",
         "url": "https://www.semanticscholar.org/paper/88012e0832a081d277d57c1254d710e4a073b487",
         "venue": "WISE",
         "year": 2013
        },
        {
         "arxivId": "1801.10314",
         "authors": [
          {
           "authorId": "2909575",
           "name": "Amrita Saha"
          },
          {
           "authorId": "7591930",
           "name": "Vardaan Pahuja"
          },
          {
           "authorId": "2361078",
           "name": "Mitesh M. Khapra"
          },
          {
           "authorId": "145590185",
           "name": "K. Sankaranarayanan"
          },
          {
           "authorId": "144631588",
           "name": "A. Chandar"
          }
         ],
         "doi": null,
         "intent": [
          "methodology"
         ],
         "isInfluential": false,
         "paperId": "e5a1d41e6212951cb6a831ed61a59d00b7ff6867",
         "title": "Complex Sequential Question Answering: Towards Learning to Converse Over Linked Question Answer Pairs with a Knowledge Graph",
         "url": "https://www.semanticscholar.org/paper/e5a1d41e6212951cb6a831ed61a59d00b7ff6867",
         "venue": "AAAI",
         "year": 2018
        },
        {
         "arxivId": null,
         "authors": [
          {
           "authorId": "1678833",
           "name": "Jakub Piskorski"
          },
          {
           "authorId": "2481036",
           "name": "Vanni Zavarella"
          },
          {
           "authorId": "29526041",
           "name": "Martin Atkinson"
          }
         ],
         "doi": "10.1109/ASONAM.2018.8508798",
         "intent": [
          "methodology"
         ],
         "isInfluential": false,
         "paperId": "fa56a2d66fb9edd1f4dd8af2aa2531b5a1e0aa04",
         "title": "On the Development of an Entity-Centric Timeline Extraction Tool",
         "url": "https://www.semanticscholar.org/paper/fa56a2d66fb9edd1f4dd8af2aa2531b5a1e0aa04",
         "venue": "2018 IEEE/ACM International Conference on Advances in Social Networks Analysis and Mining (ASONAM)",
         "year": 2018
        },
        {
         "arxivId": null,
         "authors": [
          {
           "authorId": "1724629",
           "name": "Marius Pasca"
          }
         ],
         "doi": "10.1145/2806416.2806571",
         "intent": [],
         "isInfluential": false,
         "paperId": "bec3b522f210c4fdbd7840379a14c9a1dfe90ef6",
         "title": "The Role of Query Sessions in Interpreting Compound Noun Phrases",
         "url": "https://www.semanticscholar.org/paper/bec3b522f210c4fdbd7840379a14c9a1dfe90ef6",
         "venue": "CIKM '15",
         "year": 2015
        },
        {
         "arxivId": null,
         "authors": [
          {
           "authorId": "1709262",
           "name": "Chi-Hsin Yu"
          },
          {
           "authorId": "1748891",
           "name": "H. Chen"
          }
         ],
         "doi": null,
         "intent": [
          "background"
         ],
         "isInfluential": false,
         "paperId": "1d96af5ed8d5f55b8467945310e6dfa431d0ebfb",
         "title": "Chinese Web Scale Linguistic Datasets and Toolkit",
         "url": "https://www.semanticscholar.org/paper/1d96af5ed8d5f55b8467945310e6dfa431d0ebfb",
         "venue": "COLING",
         "year": 2012
        },
        {
         "arxivId": null,
         "authors": [
          {
           "authorId": "144303544",
           "name": "D. Verma"
          },
          {
           "authorId": "145532184",
           "name": "P. Bhattacharyya"
          }
         ],
         "doi": null,
         "intent": [
          "background"
         ],
         "isInfluential": false,
         "paperId": "42990bc6645f53c89ff3a7e8ec98d1cb93fec58d",
         "title": "Survey on Coreference Resolution , Relation and Event Extraction",
         "url": "https://www.semanticscholar.org/paper/42990bc6645f53c89ff3a7e8ec98d1cb93fec58d",
         "venue": "",
         "year": 2018
        },
        {
         "arxivId": null,
         "authors": [
          {
           "authorId": "143792905",
           "name": "G. Neumann"
          },
          {
           "authorId": "1747182",
           "name": "S. Schmeier"
          }
         ],
         "doi": "10.5220/0004135900650074",
         "intent": [
          "background"
         ],
         "isInfluential": false,
         "paperId": "078ba3629a86e1a9c550216db6c37e48c715d876",
         "title": "Guided Exploratory Search on the Mobile Web",
         "url": "https://www.semanticscholar.org/paper/078ba3629a86e1a9c550216db6c37e48c715d876",
         "venue": "KDIR",
         "year": 2012
        },
        {
         "arxivId": null,
         "authors": [
          {
           "authorId": "32399809",
           "name": "Rui Da"
          },
          {
           "authorId": "144401327",
           "name": "Jing Deng"
          },
          {
           "authorId": "3339259",
           "name": "S. Suthaharan"
          },
          {
           "authorId": "16190386",
           "name": "L. Fu"
          }
         ],
         "doi": null,
         "intent": [
          "background"
         ],
         "isInfluential": false,
         "paperId": "90b5ed6027bd6ffe3f9f769cb5333ea50d0dd90e",
         "title": "A METHOD OF DETERMINING CULTURE RELATED USERS USING COMPUTATION OF CORRELATION by",
         "url": "https://www.semanticscholar.org/paper/90b5ed6027bd6ffe3f9f769cb5333ea50d0dd90e",
         "venue": "",
         "year": 2015
        },
        {
         "arxivId": null,
         "authors": [
          {
           "authorId": "46258763",
           "name": "Kun Li"
          },
          {
           "authorId": "3146278",
           "name": "Junsheng Zhang"
          },
          {
           "authorId": "3260729",
           "name": "C. Yao"
          },
          {
           "authorId": "2973927",
           "name": "Chongde Shi"
          }
         ],
         "doi": "10.1109/IIKI.2016.58",
         "intent": [],
         "isInfluential": false,
         "paperId": "8f63c45c61d451c6da0dd495dbd3d98a658d3153",
         "title": "Automatic Relation Extraction from Text: A Survey",
         "url": "https://www.semanticscholar.org/paper/8f63c45c61d451c6da0dd495dbd3d98a658d3153",
         "venue": "2016 International Conference on Identification, Information and Knowledge in the Internet of Things (IIKI)",
         "year": 2016
        },
        {
         "arxivId": null,
         "authors": [
          {
           "authorId": "144447316",
           "name": "Hyun-Je Song"
          },
          {
           "authorId": "1786338",
           "name": "Seong-Bae Park"
          }
         ],
         "doi": "10.1109/ACCESS.2018.2874656",
         "intent": [],
         "isInfluential": false,
         "paperId": "cba8dabd358afa3e5624fb4ba857d33344a09704",
         "title": "Enriching Translation-Based Knowledge Graph Embeddings Through Continual Learning",
         "url": "https://www.semanticscholar.org/paper/cba8dabd358afa3e5624fb4ba857d33344a09704",
         "venue": "IEEE Access",
         "year": 2018
        },
        {
         "arxivId": null,
         "authors": [
          {
           "authorId": "48133634",
           "name": "A. Alamri"
          }
         ],
         "doi": null,
         "intent": [],
         "isInfluential": false,
         "paperId": "e8118011f4bd6fe3d6f4299e50a9398315ab4906",
         "title": "The Detection of Contradictory Claims in Biomedical Abstracts",
         "url": "https://www.semanticscholar.org/paper/e8118011f4bd6fe3d6f4299e50a9398315ab4906",
         "venue": "",
         "year": 2016
        },
        {
         "arxivId": null,
         "authors": [
          {
           "authorId": "38253388",
           "name": "Pengcheng Yin"
          },
          {
           "authorId": "29943965",
           "name": "Nan Duan"
          },
          {
           "authorId": "145868757",
           "name": "B. Kao"
          },
          {
           "authorId": "3299718",
           "name": "Junwei Bao"
          },
          {
           "authorId": "143849609",
           "name": "M. Zhou"
          }
         ],
         "doi": "10.1145/2806416.2806542",
         "intent": [
          "background",
          "methodology"
         ],
         "isInfluential": false,
         "paperId": "6cd8a81cac63274cd6c46c316ee742ea6732253d",
         "title": "Answering Questions with Complex Semantic Constraints on Open Knowledge Bases",
         "url": "https://www.semanticscholar.org/paper/6cd8a81cac63274cd6c46c316ee742ea6732253d",
         "venue": "CIKM '15",
         "year": 2015
        },
        {
         "arxivId": null,
         "authors": [
          {
           "authorId": null,
           "name": "LI He-han"
          },
          {
           "authorId": "9130068",
           "name": "Meng Xiao-feng"
          },
          {
           "authorId": "2524328",
           "name": "Zou Lei"
          }
         ],
         "doi": null,
         "intent": [],
         "isInfluential": true,
         "paperId": "feeed89552ba6cf825624b8e7a6856ef73caa6af",
         "title": "Keyword search approach for knowledge base in ScholarSpace",
         "url": "https://www.semanticscholar.org/paper/feeed89552ba6cf825624b8e7a6856ef73caa6af",
         "venue": "",
         "year": 2016
        },
        {
         "arxivId": null,
         "authors": [
          {
           "authorId": null,
           "name": "Yang Li"
          },
          {
           "authorId": "48586386",
           "name": "C. Wang"
          },
          {
           "authorId": "2180492",
           "name": "Fangqiu Han"
          },
          {
           "authorId": "145325584",
           "name": "Jiawei Han"
          },
          {
           "authorId": "144590225",
           "name": "D. Roth"
          },
          {
           "authorId": "1740249",
           "name": "X. Yan"
          }
         ],
         "doi": "10.1145/2487575.2487681",
         "intent": [
          "background"
         ],
         "isInfluential": false,
         "paperId": "88b9126fc6ebad6c1a74e0903c3fc4fc5d24435b",
         "title": "Mining evidences for named entity disambiguation",
         "url": "https://www.semanticscholar.org/paper/88b9126fc6ebad6c1a74e0903c3fc4fc5d24435b",
         "venue": "KDD '13",
         "year": 2013
        },
        {
         "arxivId": null,
         "authors": [
          {
           "authorId": "81251668",
           "name": "Ikhlas Alhussien"
          }
         ],
         "doi": "10.32657/10220/47795",
         "intent": [
          "background"
         ],
         "isInfluential": false,
         "paperId": "f3729e4bd3ff6fc240f03308753ab115d83d44b9",
         "title": "Knowledge graph embedding models for automatic commonsense knowledge acquisition",
         "url": "https://www.semanticscholar.org/paper/f3729e4bd3ff6fc240f03308753ab115d83d44b9",
         "venue": "",
         "year": 2019
        },
        {
         "arxivId": null,
         "authors": [
          {
           "authorId": "49356872",
           "name": "Dongxu Zhang"
          },
          {
           "authorId": "1777140",
           "name": "Subhabrata Mukherjee"
          },
          {
           "authorId": "144182018",
           "name": "Colin Lockard"
          },
          {
           "authorId": "48477264",
           "name": "X. Dong"
          },
          {
           "authorId": "143753639",
           "name": "A. McCallum"
          }
         ],
         "doi": null,
         "intent": [
          "background",
          "methodology"
         ],
         "isInfluential": true,
         "paperId": "638ebfb27e51ce5332e9913415e320397c77038b",
         "title": "Integrating Web-Scale OpenIE Extractions and Knowledge Bases with Entity Neighborhood Encoder",
         "url": "https://www.semanticscholar.org/paper/638ebfb27e51ce5332e9913415e320397c77038b",
         "venue": "",
         "year": 2019
        },
        {
         "arxivId": null,
         "authors": [
          {
           "authorId": "47119060",
           "name": "X. Wang"
          },
          {
           "authorId": null,
           "name": "Yu Zhang"
          },
          {
           "authorId": "144836952",
           "name": "Q. Li"
          },
          {
           "authorId": "153034701",
           "name": "Jiawei Han"
          }
         ],
         "doi": null,
         "intent": [],
         "isInfluential": false,
         "paperId": "847f2a61af44e757d49372faad7d5e233f58ec54",
         "title": "Taming Unstructured Big Data: Automated Information Extraction from Massive Text",
         "url": "https://www.semanticscholar.org/paper/847f2a61af44e757d49372faad7d5e233f58ec54",
         "venue": "",
         "year": 2019
        },
        {
         "arxivId": null,
         "authors": [
          {
           "authorId": "1577009822",
           "name": "Mohammad Mahdi Nematollahi"
          },
          {
           "authorId": "66523466",
           "name": "O. R. Ma'rouzi"
          }
         ],
         "doi": "10.22075/IJNAA.2019.4185",
         "intent": [
          "background"
         ],
         "isInfluential": false,
         "paperId": "830d0cf5c8ac88525faebd8d6507d7a0fc7c5e28",
         "title": "A new representation of open information extraction in Persian language",
         "url": "https://www.semanticscholar.org/paper/830d0cf5c8ac88525faebd8d6507d7a0fc7c5e28",
         "venue": "",
         "year": 2019
        },
        {
         "arxivId": null,
         "authors": [
          {
           "authorId": "1748808",
           "name": "X. Wu"
          },
          {
           "authorId": "10423763",
           "name": "J. Wu"
          },
          {
           "authorId": "1491233206",
           "name": "Xiaoyi Fu"
          },
          {
           "authorId": "1492112329",
           "name": "Jiachen Li"
          },
          {
           "authorId": "144255235",
           "name": "Peng Zhou"
          },
          {
           "authorId": "49835925",
           "name": "Xu Jiang"
          }
         ],
         "doi": "10.1109/ICDM.2019.00204",
         "intent": [
          "methodology"
         ],
         "isInfluential": false,
         "paperId": "ac85277af84c92a3e5c9d1e4052d2c3ae452981d",
         "title": "Automatic Knowledge Graph Construction: A Report on the 2019 ICDM/ICBK Contest",
         "url": "https://www.semanticscholar.org/paper/ac85277af84c92a3e5c9d1e4052d2c3ae452981d",
         "venue": "2019 IEEE International Conference on Data Mining (ICDM)",
         "year": 2019
        },
        {
         "arxivId": null,
         "authors": [
          {
           "authorId": "1695390654",
           "name": "El Zraie"
          },
          {
           "authorId": "1695286330",
           "name": "Basel Salama"
          }
         ],
         "doi": null,
         "intent": [],
         "isInfluential": false,
         "paperId": "3a96839c8e3b97d69be84ef610f89d41997927cd",
         "title": "Extraction of Taxonomic Relations from Arabic Text for Ontology Construction",
         "url": "https://www.semanticscholar.org/paper/3a96839c8e3b97d69be84ef610f89d41997927cd",
         "venue": "",
         "year": 2016
        },
        {
         "arxivId": null,
         "authors": [
          {
           "authorId": "2814289",
           "name": "Paramita Mirza"
          },
          {
           "authorId": "2499758",
           "name": "Simon Razniewski"
          },
          {
           "authorId": "1806700",
           "name": "W. Nutt"
          }
         ],
         "doi": null,
         "intent": [],
         "isInfluential": false,
         "paperId": "80792ff44958a2d30ce60869fe03c4c1c36e2d40",
         "title": "Expanding Wikidata's Parenthood Information by 178%, or How To Mine Relation Cardinalities",
         "url": "https://www.semanticscholar.org/paper/80792ff44958a2d30ce60869fe03c4c1c36e2d40",
         "venue": "",
         "year": 2016
        },
        {
         "arxivId": "2006.03010",
         "authors": [
          {
           "authorId": "1736753567",
           "name": "Micah Shlain"
          },
          {
           "authorId": "1409499701",
           "name": "Hillel Taub-Tabib"
          },
          {
           "authorId": "112943514",
           "name": "Shoval Sadde"
          },
          {
           "authorId": "79775260",
           "name": "Y. Goldberg"
          }
         ],
         "doi": "10.18653/v1/2020.acl-demos.3",
         "intent": [
          "background"
         ],
         "isInfluential": false,
         "paperId": "de221ac766290fee2f1aa0b28913dc1d6fa14424",
         "title": "Syntactic Search by Example",
         "url": "https://www.semanticscholar.org/paper/de221ac766290fee2f1aa0b28913dc1d6fa14424",
         "venue": "ACL",
         "year": 2020
        },
        {
         "arxivId": null,
         "authors": [
          {
           "authorId": "145307652",
           "name": "Li Dong"
          },
          {
           "authorId": "49807919",
           "name": "Furu Wei"
          },
          {
           "authorId": "143849609",
           "name": "M. Zhou"
          },
          {
           "authorId": "145389711",
           "name": "K. Xu"
          }
         ],
         "doi": "10.3115/v1/P15-1026",
         "intent": [
          "methodology"
         ],
         "isInfluential": false,
         "paperId": "1ef01e7bfab2041bc0c0a56a57906964df9fc985",
         "title": "Question Answering over Freebase with Multi-Column Convolutional Neural Networks",
         "url": "https://www.semanticscholar.org/paper/1ef01e7bfab2041bc0c0a56a57906964df9fc985",
         "venue": "ACL",
         "year": 2015
        },
        {
         "arxivId": null,
         "authors": [
          {
           "authorId": "143640910",
           "name": "F. Gutierrez"
          },
          {
           "authorId": "1721158",
           "name": "D. Dou"
          },
          {
           "authorId": "144181288",
           "name": "S. Fickas"
          },
          {
           "authorId": "39805299",
           "name": "Gina Griffiths"
          }
         ],
         "doi": "10.1007/978-3-662-45563-0_34",
         "intent": [
          "background"
         ],
         "isInfluential": false,
         "paperId": "7134dddf67e9ec9a666aefae47a4ddf674a268ad",
         "title": "Online Reasoning for Ontology-Based Error Detection in Text",
         "url": "https://www.semanticscholar.org/paper/7134dddf67e9ec9a666aefae47a4ddf674a268ad",
         "venue": "OTM Conferences",
         "year": 2014
        },
        {
         "arxivId": null,
         "authors": [
          {
           "authorId": "3005067",
           "name": "Glen Pink"
          },
          {
           "authorId": "3083916",
           "name": "Joel Nothman"
          },
          {
           "authorId": "1733593",
           "name": "J. Curran"
          }
         ],
         "doi": "10.3115/v1/D14-1089",
         "intent": [
          "background"
         ],
         "isInfluential": false,
         "paperId": "cc8df7776f7ba6b74a1b3bf0a45d35525b5bd12c",
         "title": "Analysing recall loss in named entity slot filling",
         "url": "https://www.semanticscholar.org/paper/cc8df7776f7ba6b74a1b3bf0a45d35525b5bd12c",
         "venue": "EMNLP",
         "year": 2014
        },
        {
         "arxivId": null,
         "authors": [
          {
           "authorId": "2039532",
           "name": "Zhonglin Ye"
          },
          {
           "authorId": "145153595",
           "name": "Y. Yang"
          },
          {
           "authorId": "1899725",
           "name": "Z. Jia"
          },
          {
           "authorId": "7011030",
           "name": "Hongfeng Yin"
          }
         ],
         "doi": "10.1109/COMPCOMM.2016.7924777",
         "intent": [],
         "isInfluential": false,
         "paperId": "8d59c2ab035ba131bdca5f852bc3b15a2d3b9d50",
         "title": "Character relation extraction based on the combination of multi-view ensemble and multi-classifier ensemble",
         "url": "https://www.semanticscholar.org/paper/8d59c2ab035ba131bdca5f852bc3b15a2d3b9d50",
         "venue": "2016 2nd IEEE International Conference on Computer and Communications (ICCC)",
         "year": 2016
        },
        {
         "arxivId": null,
         "authors": [
          {
           "authorId": "1923602",
           "name": "B. Fetahu"
          },
          {
           "authorId": "145381098",
           "name": "B. P. Nunes"
          },
          {
           "authorId": "3081683",
           "name": "S. Dietze"
          }
         ],
         "doi": "10.1145/2487788.2487821",
         "intent": [
          "methodology"
         ],
         "isInfluential": false,
         "paperId": "e9d8a9608b19c08d54a09b88ef1dd66e05a05036",
         "title": "Towards focused knowledge extraction: query-based extraction of structured summaries",
         "url": "https://www.semanticscholar.org/paper/e9d8a9608b19c08d54a09b88ef1dd66e05a05036",
         "venue": "WWW '13 Companion",
         "year": 2013
        },
        {
         "arxivId": null,
         "authors": [
          {
           "authorId": "47818709",
           "name": "Liwei Chen"
          },
          {
           "authorId": "1717629",
           "name": "Yansong Feng"
          },
          {
           "authorId": "2410938",
           "name": "Songfang Huang"
          },
          {
           "authorId": "144104145",
           "name": "Y. Qin"
          },
          {
           "authorId": "144060462",
           "name": "Dongyan Zhao"
          }
         ],
         "doi": "10.3115/v1/P14-1077",
         "intent": [],
         "isInfluential": false,
         "paperId": "23c52b4a361ff48401c0171b9a2d6b3ab66fc1d2",
         "title": "Encoding Relation Requirements for Relation Extraction via Joint Inference",
         "url": "https://www.semanticscholar.org/paper/23c52b4a361ff48401c0171b9a2d6b3ab66fc1d2",
         "venue": "ACL",
         "year": 2014
        },
        {
         "arxivId": null,
         "authors": [
          {
           "authorId": "77305787",
           "name": "S. Walter"
          },
          {
           "authorId": "1711387",
           "name": "C. Unger"
          },
          {
           "authorId": "1748977",
           "name": "P. Cimiano"
          }
         ],
         "doi": "10.1016/j.datak.2014.09.003",
         "intent": [],
         "isInfluential": false,
         "paperId": "6eb8ab729db5221e98f3534f2bfd10017ef09fe2",
         "title": "ATOLL - A framework for the automatic induction of ontology lexica",
         "url": "https://www.semanticscholar.org/paper/6eb8ab729db5221e98f3534f2bfd10017ef09fe2",
         "venue": "Data Knowl. Eng.",
         "year": 2014
        },
        {
         "arxivId": null,
         "authors": [
          {
           "authorId": "2615202",
           "name": "Saud Alashri"
          },
          {
           "authorId": "2496901",
           "name": "Jiun-Yi Tsai"
          },
          {
           "authorId": "46192384",
           "name": "Anvesh Reddy Koppela"
          },
          {
           "authorId": "1789798",
           "name": "H. Davulcu"
          }
         ],
         "doi": "10.1109/ICDIS.2018.00045",
         "intent": [
          "methodology"
         ],
         "isInfluential": false,
         "paperId": "92827883dc5dace1c7aabfa71c86ddd85c02666d",
         "title": "Snowball: Extracting Causal Chains from Climate Change Text Corpora",
         "url": "https://www.semanticscholar.org/paper/92827883dc5dace1c7aabfa71c86ddd85c02666d",
         "venue": "2018 1st International Conference on Data Intelligence and Security (ICDIS)",
         "year": 2018
        },
        {
         "arxivId": null,
         "authors": [
          {
           "authorId": "1976585",
           "name": "F. Mesquita"
          }
         ],
         "doi": "10.1145/2213598.2213607",
         "intent": [],
         "isInfluential": false,
         "paperId": "1ad7af6fe66cbd0a0c1bdf190ce23fa6e264c788",
         "title": "Clustering techniques for open relation extraction",
         "url": "https://www.semanticscholar.org/paper/1ad7af6fe66cbd0a0c1bdf190ce23fa6e264c788",
         "venue": "PhD '12",
         "year": 2012
        },
        {
         "arxivId": "2010.15586",
         "authors": [
          {
           "authorId": "3323264",
           "name": "Xianchao Wu"
          }
         ],
         "doi": null,
         "intent": [
          "methodology"
         ],
         "isInfluential": false,
         "paperId": "3e8b49ec2330368b754e4f8b47e8aeb0f966d78b",
         "title": "Event-Driven Learning of Systematic Behaviours in Stock Markets",
         "url": "https://www.semanticscholar.org/paper/3e8b49ec2330368b754e4f8b47e8aeb0f966d78b",
         "venue": "EMNLP",
         "year": 2020
        },
        {
         "arxivId": "1807.11276",
         "authors": [
          {
           "authorId": "51026595",
           "name": "Matthias Cetto"
          },
          {
           "authorId": "7193142",
           "name": "Christina Niklaus"
          },
          {
           "authorId": "145528474",
           "name": "André Freitas"
          },
          {
           "authorId": "1789102",
           "name": "S. Handschuh"
          }
         ],
         "doi": null,
         "intent": [
          "background"
         ],
         "isInfluential": true,
         "paperId": "cdcce206059911b83e679ad464f2982c75e1e957",
         "title": "Graphene: Semantically-Linked Propositions in Open Information Extraction",
         "url": "https://www.semanticscholar.org/paper/cdcce206059911b83e679ad464f2982c75e1e957",
         "venue": "COLING",
         "year": 2018
        },
        {
         "arxivId": null,
         "authors": [
          {
           "authorId": "144039176",
           "name": "C. M. Keet"
          },
          {
           "authorId": "48317103",
           "name": "M. Dumontier"
          }
         ],
         "doi": "10.1007/978-3-030-61244-3",
         "intent": [],
         "isInfluential": false,
         "paperId": "c1e77bc89f8c9e11978b07d16dd78b286c989ba0",
         "title": "Knowledge Engineering and Knowledge Management: 22nd International Conference, EKAW 2020, Bolzano, Italy, September 16–20, 2020, Proceedings",
         "url": "https://www.semanticscholar.org/paper/c1e77bc89f8c9e11978b07d16dd78b286c989ba0",
         "venue": "EKAW",
         "year": 2020
        },
        {
         "arxivId": "1905.01959",
         "authors": [
          {
           "authorId": "145461907",
           "name": "Yan Liang"
          },
          {
           "authorId": "89121677",
           "name": "Xin Liu"
          },
          {
           "authorId": "38030790",
           "name": "J. Zhang"
          },
          {
           "authorId": "1809614",
           "name": "Y. Song"
          }
         ],
         "doi": "10.18653/v1/N19-1332",
         "intent": [
          "background"
         ],
         "isInfluential": false,
         "paperId": "2228326cbfcfdadf78d0c2867b104fa955c04fad",
         "title": "Relation Discovery with Out-of-Relation Knowledge Base as Supervision",
         "url": "https://www.semanticscholar.org/paper/2228326cbfcfdadf78d0c2867b104fa955c04fad",
         "venue": "NAACL-HLT",
         "year": 2019
        },
        {
         "arxivId": null,
         "authors": [
          {
           "authorId": "48513541",
           "name": "Yang Li"
          },
          {
           "authorId": "1772481",
           "name": "Qingliang Miao"
          },
          {
           "authorId": "144384646",
           "name": "T. Guo"
          },
          {
           "authorId": "145824924",
           "name": "Ji Geng"
          },
          {
           "authorId": "3913592",
           "name": "C. Hu"
          },
          {
           "authorId": "2724114",
           "name": "F. Xu"
          }
         ],
         "doi": "10.1007/978-981-13-3146-6_7",
         "intent": [],
         "isInfluential": false,
         "paperId": "d3ea69504c17dd4755b40ffae4f2101cdd6f595a",
         "title": "Pattern Learning for Chinese Open Information Extraction",
         "url": "https://www.semanticscholar.org/paper/d3ea69504c17dd4755b40ffae4f2101cdd6f595a",
         "venue": "CCKS",
         "year": 2018
        },
        {
         "arxivId": null,
         "authors": [
          {
           "authorId": "35407992",
           "name": "Erick Nilsen Pereira de Souza"
          },
          {
           "authorId": "2592081",
           "name": "Daniela Barreiro Claro"
          },
          {
           "authorId": "40129897",
           "name": "R. Glauber"
          }
         ],
         "doi": null,
         "intent": [],
         "isInfluential": false,
         "paperId": "c07614ec63cf82705ca5acb2174e7385fc89fb7d",
         "title": "A Similarity Grammatical Structures Based Method for Improving Open Information Systems",
         "url": "https://www.semanticscholar.org/paper/c07614ec63cf82705ca5acb2174e7385fc89fb7d",
         "venue": "J. Univers. Comput. Sci.",
         "year": 2018
        },
        {
         "arxivId": null,
         "authors": [
          {
           "authorId": "1748039",
           "name": "E. Marsi"
          },
          {
           "authorId": "144800523",
           "name": "Pinar Öztürk"
          },
          {
           "authorId": "2691248",
           "name": "Elias Aamot"
          },
          {
           "authorId": "2580905",
           "name": "G. Sizov"
          },
          {
           "authorId": "10692919",
           "name": "M. Ardelan"
          }
         ],
         "doi": null,
         "intent": [
          "background"
         ],
         "isInfluential": false,
         "paperId": "e3890763d7dfe69beca1ce2ae94974b19f86e15c",
         "title": "Towards Text Mining in Climate Science:Extraction of Quantitative Variables and their Relations",
         "url": "https://www.semanticscholar.org/paper/e3890763d7dfe69beca1ce2ae94974b19f86e15c",
         "venue": "",
         "year": 2014
        },
        {
         "arxivId": null,
         "authors": [
          {
           "authorId": "1724629",
           "name": "Marius Pasca"
          }
         ],
         "doi": "10.3115/v1/E14-1041",
         "intent": [
          "methodology",
          "background"
         ],
         "isInfluential": true,
         "paperId": "e5577ee5f9725ebd5a6e7126273e13507b13bfa4",
         "title": "Acquisition of Noncontiguous Class Attributes from Web Search Queries",
         "url": "https://www.semanticscholar.org/paper/e5577ee5f9725ebd5a6e7126273e13507b13bfa4",
         "venue": "EACL",
         "year": 2014
        },
        {
         "arxivId": null,
         "authors": [
          {
           "authorId": "46864789",
           "name": "L. Zou"
          },
          {
           "authorId": "1870051",
           "name": "Ruizhe Huang"
          },
          {
           "authorId": "1745000",
           "name": "H. Wang"
          },
          {
           "authorId": "144666776",
           "name": "J. Yu"
          },
          {
           "authorId": "72471724",
           "name": "W. He"
          },
          {
           "authorId": "144060462",
           "name": "Dongyan Zhao"
          }
         ],
         "doi": "10.1145/2588555.2610525",
         "intent": [],
         "isInfluential": false,
         "paperId": "ef5e00e5b47af2331d5e96d76b55661d56e8d823",
         "title": "Natural language question answering over RDF: a graph data driven approach",
         "url": "https://www.semanticscholar.org/paper/ef5e00e5b47af2331d5e96d76b55661d56e8d823",
         "venue": "SIGMOD Conference",
         "year": 2014
        },
        {
         "arxivId": null,
         "authors": [
          {
           "authorId": "3180064",
           "name": "Fangbo Tao"
          },
          {
           "authorId": "47705536",
           "name": "Bo Zhao"
          },
          {
           "authorId": "2326719",
           "name": "A. Fuxman"
          },
          {
           "authorId": null,
           "name": "Yang Li"
          },
          {
           "authorId": "145325584",
           "name": "Jiawei Han"
          }
         ],
         "doi": "10.1145/2736277.2741670",
         "intent": [
          "background",
          "methodology"
         ],
         "isInfluential": false,
         "paperId": "003fe51f1227293af1a2fbc7ff54ad0f7caf7d7a",
         "title": "Leveraging Pattern Semantics for Extracting Entities in Enterprises",
         "url": "https://www.semanticscholar.org/paper/003fe51f1227293af1a2fbc7ff54ad0f7caf7d7a",
         "venue": "WWW '15",
         "year": 2015
        },
        {
         "arxivId": null,
         "authors": [
          {
           "authorId": "32301760",
           "name": "Gabor Angeli"
          },
          {
           "authorId": "35244680",
           "name": "Melvin Jose Johnson Premkumar"
          },
          {
           "authorId": "144783904",
           "name": "Christopher D. Manning"
          }
         ],
         "doi": "10.3115/v1/P15-1034",
         "intent": [
          "methodology",
          "background"
         ],
         "isInfluential": false,
         "paperId": "3171ec184b5fec0bc7b47356ad74d8598e858ddc",
         "title": "Leveraging Linguistic Structure For Open Domain Information Extraction",
         "url": "https://www.semanticscholar.org/paper/3171ec184b5fec0bc7b47356ad74d8598e858ddc",
         "venue": "ACL",
         "year": 2015
        },
        {
         "arxivId": null,
         "authors": [
          {
           "authorId": "2157025",
           "name": "Gabriel Stanovsky"
          },
          {
           "authorId": "7465342",
           "name": "Ido Dagan"
          },
          {
           "authorId": "2819757",
           "name": "Meni Adler"
          }
         ],
         "doi": "10.18653/v1/P16-2077",
         "intent": [
          "background"
         ],
         "isInfluential": true,
         "paperId": "bcc87681c8898bc631502509bef63d62ce0f86fa",
         "title": "Specifying and Annotating Reduced Argument Span Via QA-SRL",
         "url": "https://www.semanticscholar.org/paper/bcc87681c8898bc631502509bef63d62ce0f86fa",
         "venue": "ACL",
         "year": 2016
        },
        {
         "arxivId": "1606.07901",
         "authors": [
          {
           "authorId": "3261470",
           "name": "Yadollah Yaghoobzadeh"
          },
          {
           "authorId": "144418438",
           "name": "Hinrich Schütze"
          }
         ],
         "doi": "10.18653/v1/D15-1083",
         "intent": [
          "methodology"
         ],
         "isInfluential": false,
         "paperId": "8b298ce5f81c5ffd63f5c5ab3634dbfd350a92e4",
         "title": "Corpus-level Fine-grained Entity Typing Using Contextual Information",
         "url": "https://www.semanticscholar.org/paper/8b298ce5f81c5ffd63f5c5ab3634dbfd350a92e4",
         "venue": "EMNLP",
         "year": 2015
        },
        {
         "arxivId": "1703.09013",
         "authors": [
          {
           "authorId": "7193142",
           "name": "Christina Niklaus"
          },
          {
           "authorId": "7801986",
           "name": "Bernhard Bermeitinger"
          },
          {
           "authorId": "1789102",
           "name": "S. Handschuh"
          },
          {
           "authorId": "145528474",
           "name": "André Freitas"
          }
         ],
         "doi": null,
         "intent": [
          "background"
         ],
         "isInfluential": false,
         "paperId": "9c5b98f009daba6ed44e332550a7a2df0753df16",
         "title": "A Sentence Simplification System for Improving Relation Extraction",
         "url": "https://www.semanticscholar.org/paper/9c5b98f009daba6ed44e332550a7a2df0753df16",
         "venue": "COLING",
         "year": 2016
        },
        {
         "arxivId": null,
         "authors": [
          {
           "authorId": "2035334",
           "name": "Qingjuan Zhao"
          },
          {
           "authorId": "144254699",
           "name": "Jianwei Niu"
          },
          {
           "authorId": "10993830",
           "name": "Huan Chen"
          },
          {
           "authorId": "49681377",
           "name": "L. Wang"
          },
          {
           "authorId": "69997866",
           "name": "M. Atiquzzaman"
          }
         ],
         "doi": "10.1016/j.future.2017.05.025",
         "intent": [],
         "isInfluential": false,
         "paperId": "fbfa9601621ae1a607d77cef062521086c26d029",
         "title": "An indicative opinion generation model for short texts on social networks",
         "url": "https://www.semanticscholar.org/paper/fbfa9601621ae1a607d77cef062521086c26d029",
         "venue": "Future Gener. Comput. Syst.",
         "year": 2018
        },
        {
         "arxivId": null,
         "authors": [
          {
           "authorId": "1953113",
           "name": "Anna Lisa Gentile"
          },
          {
           "authorId": "36811682",
           "name": "Z. Zhang"
          },
          {
           "authorId": "1758555",
           "name": "F. Ciravegna"
          }
         ],
         "doi": null,
         "intent": [],
         "isInfluential": false,
         "paperId": "61a8655342d88908ef6a63e6984f9e9824db344b",
         "title": "Web Scale Information Extraction with LODIE",
         "url": "https://www.semanticscholar.org/paper/61a8655342d88908ef6a63e6984f9e9824db344b",
         "venue": "AAAI Fall Symposia",
         "year": 2013
        },
        {
         "arxivId": null,
         "authors": [
          {
           "authorId": "2613058",
           "name": "Naimdjon Takhirov"
          },
          {
           "authorId": "1757970",
           "name": "Fabien Duchateau"
          },
          {
           "authorId": "151493439",
           "name": "Trond Aalberg"
          },
          {
           "authorId": "1398927405",
           "name": "Ingeborg Sølvberg"
          }
         ],
         "doi": "10.1007/978-3-642-37401-2_18",
         "intent": [],
         "isInfluential": false,
         "paperId": "e77e70c4a00982ef8867fda2ee61b142ebaf7911",
         "title": "An Integrated Approach for Large-Scale Relation Extraction from the Web",
         "url": "https://www.semanticscholar.org/paper/e77e70c4a00982ef8867fda2ee61b142ebaf7911",
         "venue": "APWeb",
         "year": 2013
        },
        {
         "arxivId": null,
         "authors": [
          {
           "authorId": "145275796",
           "name": "Hugo Gonçalo Oliveira"
          }
         ],
         "doi": null,
         "intent": [
          "background"
         ],
         "isInfluential": false,
         "paperId": "64d43e8f002bb5de968cedb65ca33efa1ce4f452",
         "title": "Onto.PT: Towards the Automatic Construction of a Lexical Ontology for Portuguese",
         "url": "https://www.semanticscholar.org/paper/64d43e8f002bb5de968cedb65ca33efa1ce4f452",
         "venue": "",
         "year": 2013
        },
        {
         "arxivId": null,
         "authors": [
          {
           "authorId": "34796954",
           "name": "M. Yosef"
          },
          {
           "authorId": "2621218",
           "name": "Sandro Bauer"
          },
          {
           "authorId": "1727527",
           "name": "Johannes Hoffart"
          },
          {
           "authorId": "3115338",
           "name": "M. Spaniol"
          },
          {
           "authorId": "1751591",
           "name": "G. Weikum"
          }
         ],
         "doi": null,
         "intent": [
          "methodology"
         ],
         "isInfluential": false,
         "paperId": "bcaef36e362c84c5b492425880e85f1ac781c661",
         "title": "HYENA: Hierarchical Type Classification for Entity Names",
         "url": "https://www.semanticscholar.org/paper/bcaef36e362c84c5b492425880e85f1ac781c661",
         "venue": "COLING",
         "year": 2012
        },
        {
         "arxivId": null,
         "authors": [
          {
           "authorId": null,
           "name": "Dr. Edgar Meij"
          },
          {
           "authorId": null,
           "name": "Dr. Manos Tsagkias"
          }
         ],
         "doi": null,
         "intent": [
          "background"
         ],
         "isInfluential": false,
         "paperId": "91dfde92bdc7dfd885182b91c243a0cd7774c4ae",
         "title": "Explaining relationships between entities",
         "url": "https://www.semanticscholar.org/paper/91dfde92bdc7dfd885182b91c243a0cd7774c4ae",
         "venue": "",
         "year": 2014
        },
        {
         "arxivId": null,
         "authors": [
          {
           "authorId": "35217367",
           "name": "Niranjan Balasubramanian"
          },
          {
           "authorId": "144295318",
           "name": "S. Soderland"
          },
          {
           "authorId": "2674444",
           "name": "Mausam"
          },
          {
           "authorId": "1741101",
           "name": "Oren Etzioni"
          },
          {
           "authorId": "144189845",
           "name": "R. Bart"
          }
         ],
         "doi": null,
         "intent": [
          "background",
          "methodology"
         ],
         "isInfluential": false,
         "paperId": "64c5453c6ef8a53a750bd2daa0b7b381caba2181",
         "title": "“ Out of the Box ” Information Extraction : a Case Study using Bio-Medical Texts",
         "url": "https://www.semanticscholar.org/paper/64c5453c6ef8a53a750bd2daa0b7b381caba2181",
         "venue": "",
         "year": 2013
        },
        {
         "arxivId": null,
         "authors": [
          {
           "authorId": "2004366",
           "name": "P. Chen"
          },
          {
           "authorId": null,
           "name": "Yu Lu"
          },
          {
           "authorId": "3113725",
           "name": "V. Zheng"
          },
          {
           "authorId": "46771962",
           "name": "Xiyang Chen"
          },
          {
           "authorId": "51034076",
           "name": "Boda Yang"
          }
         ],
         "doi": "10.1109/ACCESS.2018.2839607",
         "intent": [],
         "isInfluential": false,
         "paperId": "aec91dd8257ad29331ce9a907ed40dc2bd9b846a",
         "title": "KnowEdu: A System to Construct Knowledge Graph for Education",
         "url": "https://www.semanticscholar.org/paper/aec91dd8257ad29331ce9a907ed40dc2bd9b846a",
         "venue": "IEEE Access",
         "year": 2018
        },
        {
         "arxivId": null,
         "authors": [
          {
           "authorId": "118713149",
           "name": "Rabah A. Al-Zaidy"
          },
          {
           "authorId": "145157784",
           "name": "C. Lee Giles"
          }
         ],
         "doi": "10.1109/ICSC.2018.00017",
         "intent": [
          "methodology"
         ],
         "isInfluential": false,
         "paperId": "246eb5587f9d186695769198268157037b34d259",
         "title": "Extracting Semantic Relations for Scholarly Knowledge Base Construction",
         "url": "https://www.semanticscholar.org/paper/246eb5587f9d186695769198268157037b34d259",
         "venue": "2018 IEEE 12th International Conference on Semantic Computing (ICSC)",
         "year": 2018
        },
        {
         "arxivId": null,
         "authors": [
          {
           "authorId": "3213962",
           "name": "Adam Grycner"
          }
         ],
         "doi": "10.22028/D291-26776",
         "intent": [
          "background",
          "methodology"
         ],
         "isInfluential": true,
         "paperId": "ac4312c125bccd155f1994a0e0d172aa689f78b3",
         "title": "Constructing lexicons of relational phrases",
         "url": "https://www.semanticscholar.org/paper/ac4312c125bccd155f1994a0e0d172aa689f78b3",
         "venue": "",
         "year": 2017
        },
        {
         "arxivId": null,
         "authors": [
          {
           "authorId": "2599111",
           "name": "Siwei Yu"
          }
         ],
         "doi": "10.1007/978-3-319-31676-5",
         "intent": [
          "background",
          "methodology"
         ],
         "isInfluential": true,
         "paperId": "bf9ff893d95b1fa55a82571c8b344eaf0d0736ad",
         "title": "Semantic Technology",
         "url": "https://www.semanticscholar.org/paper/bf9ff893d95b1fa55a82571c8b344eaf0d0736ad",
         "venue": "Lecture Notes in Computer Science",
         "year": 2015
        },
        {
         "arxivId": null,
         "authors": [
          {
           "authorId": "32730983",
           "name": "M. Rahat"
          },
          {
           "authorId": "2833097",
           "name": "A. Talebpour"
          }
         ],
         "doi": "10.1007/s00799-018-0244-z",
         "intent": [
          "background"
         ],
         "isInfluential": false,
         "paperId": "8a514fc10d5cb6ef5e440134963b8b4b1ddc9b96",
         "title": "Open information extraction as an intermediate semantic structure for Persian text summarization",
         "url": "https://www.semanticscholar.org/paper/8a514fc10d5cb6ef5e440134963b8b4b1ddc9b96",
         "venue": "International Journal on Digital Libraries",
         "year": 2018
        },
        {
         "arxivId": null,
         "authors": [
          {
           "authorId": "1754669",
           "name": "M. Khordad"
          },
          {
           "authorId": "144549038",
           "name": "Robert E. Mercer"
          }
         ],
         "doi": "10.1186/s13326-017-0163-8",
         "intent": [
          "background"
         ],
         "isInfluential": false,
         "paperId": "67a2268327b3c00b22c9733d26de45884aaa3c48",
         "title": "Identifying genotype-phenotype relationships in biomedical text",
         "url": "https://www.semanticscholar.org/paper/67a2268327b3c00b22c9733d26de45884aaa3c48",
         "venue": "J. Biomed. Semant.",
         "year": 2017
        },
        {
         "arxivId": null,
         "authors": [
          {
           "authorId": "38654394",
           "name": "Shenmin Zhang"
          }
         ],
         "doi": null,
         "intent": [
          "methodology"
         ],
         "isInfluential": false,
         "paperId": "9b18b094812a3b9b7e2bedbb9ee29d6cf05ac744",
         "title": "si Predicate LSTMs Argument LSTMs Selector Vector Transfer Copy Concatenate Pointwise Add Legend",
         "url": "https://www.semanticscholar.org/paper/9b18b094812a3b9b7e2bedbb9ee29d6cf05ac744",
         "venue": "",
         "year": 2017
        },
        {
         "arxivId": null,
         "authors": [
          {
           "authorId": "50980085",
           "name": "Jing Qiu"
          },
          {
           "authorId": "52578301",
           "name": "Y. Chai"
          },
          {
           "authorId": "47910141",
           "name": "Y. Liu"
          },
          {
           "authorId": "1697068",
           "name": "Zhaoquan Gu"
          },
          {
           "authorId": "47319180",
           "name": "S. Li"
          },
          {
           "authorId": "4351602",
           "name": "Zhihong Tian"
          }
         ],
         "doi": "10.1109/ACCESS.2018.2881422",
         "intent": [
          "background"
         ],
         "isInfluential": false,
         "paperId": "e83c3899404e649e130b13bde91697500c78f6ce",
         "title": "Automatic Non-Taxonomic Relation Extraction from Big Data in Smart City",
         "url": "https://www.semanticscholar.org/paper/e83c3899404e649e130b13bde91697500c78f6ce",
         "venue": "IEEE Access",
         "year": 2018
        },
        {
         "arxivId": null,
         "authors": [
          {
           "authorId": "2626599",
           "name": "Henning Wachsmuth"
          }
         ],
         "doi": null,
         "intent": [
          "background"
         ],
         "isInfluential": false,
         "paperId": "97ab07b27e26ab3eccdf04c1f3e9c9ea67a17f23",
         "title": "Pipelines for Ad-hoc Large-scale Text Mining",
         "url": "https://www.semanticscholar.org/paper/97ab07b27e26ab3eccdf04c1f3e9c9ea67a17f23",
         "venue": "",
         "year": 2015
        },
        {
         "arxivId": null,
         "authors": [
          {
           "authorId": "48459964",
           "name": "William Needham"
          }
         ],
         "doi": null,
         "intent": [],
         "isInfluential": false,
         "paperId": "9ada886a7e2475062e5a22aa7401733696e2c865",
         "title": "A Review of Neural Approaches to the Question Answering Task",
         "url": "https://www.semanticscholar.org/paper/9ada886a7e2475062e5a22aa7401733696e2c865",
         "venue": "FDIA@ESSIR",
         "year": 2019
        },
        {
         "arxivId": null,
         "authors": [
          {
           "authorId": "50150537",
           "name": "J. Jorge"
          },
          {
           "authorId": "6748993",
           "name": "M. Raposo"
          }
         ],
         "doi": null,
         "intent": [
          "background",
          "methodology"
         ],
         "isInfluential": false,
         "paperId": "2f7775d3270014aaaf6f601a7ee5b0cfd3f156bd",
         "title": "Open Information Extraction from Dialogue Transcriptions",
         "url": "https://www.semanticscholar.org/paper/2f7775d3270014aaaf6f601a7ee5b0cfd3f156bd",
         "venue": "",
         "year": 2016
        },
        {
         "arxivId": "1802.00728",
         "authors": [
          {
           "authorId": "143626281",
           "name": "D. McBeath"
          },
          {
           "authorId": "145132273",
           "name": "R. Daniel"
          }
         ],
         "doi": null,
         "intent": [
          "methodology"
         ],
         "isInfluential": false,
         "paperId": "30fabfa4999349f6fbb4ee00a9ecfdcc0f976ebc",
         "title": "Measuring Spark on AWS: A Case Study on Mining Scientific Publications with Annotation Query",
         "url": "https://www.semanticscholar.org/paper/30fabfa4999349f6fbb4ee00a9ecfdcc0f976ebc",
         "venue": "ArXiv",
         "year": 2018
        },
        {
         "arxivId": null,
         "authors": [
          {
           "authorId": "3082341",
           "name": "Muyu Zhang"
          },
          {
           "authorId": "1811500",
           "name": "V. Feng"
          },
          {
           "authorId": "152277111",
           "name": "B. Qin"
          },
          {
           "authorId": "145463524",
           "name": "Graeme Hirst"
          },
          {
           "authorId": "46999402",
           "name": "T. Liu"
          },
          {
           "authorId": "47513332",
           "name": "Jingwen Huang"
          }
         ],
         "doi": "10.3115/v1/N15-1115",
         "intent": [
          "background"
         ],
         "isInfluential": true,
         "paperId": "fcdae9f07f3837ecf833ddfac1acc5027adfd18d",
         "title": "Encoding World Knowledge in the Evaluation of Local Coherence",
         "url": "https://www.semanticscholar.org/paper/fcdae9f07f3837ecf833ddfac1acc5027adfd18d",
         "venue": "HLT-NAACL",
         "year": 2015
        },
        {
         "arxivId": null,
         "authors": [
          {
           "authorId": "1684668",
           "name": "Alisa Zhila"
          },
          {
           "authorId": "1747784",
           "name": "Alexander Gelbukh"
          }
         ],
         "doi": "10.3115/v1/P14-3011",
         "intent": [
          "background",
          "result",
          "methodology"
         ],
         "isInfluential": true,
         "paperId": "d779dbca2b60e167ce1b6175ed63d3029227cc08",
         "title": "Open Information Extraction for Spanish Language based on Syntactic Constraints",
         "url": "https://www.semanticscholar.org/paper/d779dbca2b60e167ce1b6175ed63d3029227cc08",
         "venue": "ACL",
         "year": 2014
        },
        {
         "arxivId": null,
         "authors": [
          {
           "authorId": "1794810",
           "name": "P. Bellot"
          },
          {
           "authorId": "2732644",
           "name": "L. Bonnefoy"
          },
          {
           "authorId": "2577309",
           "name": "V. Bouvier"
          },
          {
           "authorId": "2477603",
           "name": "F. Duvert"
          },
          {
           "authorId": "38688631",
           "name": "Young-Min Kim"
          }
         ],
         "doi": "10.1007/978-3-319-01866-9_1",
         "intent": [
          "background"
         ],
         "isInfluential": false,
         "paperId": "6597b4fc8580b51ab1ac7527a26775cf49f64e99",
         "title": "Large Scale Text Mining Approaches for Information Retrieval and Extraction",
         "url": "https://www.semanticscholar.org/paper/6597b4fc8580b51ab1ac7527a26775cf49f64e99",
         "venue": "Innovations in Intelligent Machines",
         "year": 2014
        },
        {
         "arxivId": null,
         "authors": [
          {
           "authorId": "39058310",
           "name": "L. Sha"
          },
          {
           "authorId": "1695451",
           "name": "Sujian Li"
          },
          {
           "authorId": "39488576",
           "name": "Baobao Chang"
          },
          {
           "authorId": "3335836",
           "name": "Z. Sui"
          },
          {
           "authorId": "3168986",
           "name": "Tingsong Jiang"
          }
         ],
         "doi": "10.18653/v1/D15-1185",
         "intent": [
          "methodology"
         ],
         "isInfluential": false,
         "paperId": "78821ed420ead11c47f72dbbac7f67e17ecf3a58",
         "title": "Recognizing Textual Entailment Using Probabilistic Inference",
         "url": "https://www.semanticscholar.org/paper/78821ed420ead11c47f72dbbac7f67e17ecf3a58",
         "venue": "EMNLP",
         "year": 2015
        },
        {
         "arxivId": null,
         "authors": [
          {
           "authorId": "1409249154",
           "name": "Ignacio Arroyo-Fernández"
          },
          {
           "authorId": "82884140",
           "name": "J. Torres-Moreno"
          },
          {
           "authorId": "32889164",
           "name": "Gerardo E Sierra"
          },
          {
           "authorId": "2906035",
           "name": "Luis Adrián Cabrera-Diego"
          }
         ],
         "doi": "10.5220/0006053400890100",
         "intent": [
          "methodology",
          "background"
         ],
         "isInfluential": false,
         "paperId": "8329ac5fd842a1b61eada82ba27600d5d9189111",
         "title": "Automatic Text Summarization by Non-topic Relevance Estimation",
         "url": "https://www.semanticscholar.org/paper/8329ac5fd842a1b61eada82ba27600d5d9189111",
         "venue": "KDIR",
         "year": 2016
        },
        {
         "arxivId": null,
         "authors": [
          {
           "authorId": "151231496",
           "name": "T. Harting"
          },
          {
           "authorId": "2589564",
           "name": "S. Mesbah"
          },
          {
           "authorId": "2795229",
           "name": "C. Lofi"
          }
         ],
         "doi": "10.1145/3366423.3380252",
         "intent": [
          "background",
          "methodology"
         ],
         "isInfluential": false,
         "paperId": "298f9da33c8684ded0d5b7710d9253324b18a5a1",
         "title": "LOREM: Language-consistent Open Relation Extraction from Unstructured Text",
         "url": "https://www.semanticscholar.org/paper/298f9da33c8684ded0d5b7710d9253324b18a5a1",
         "venue": "WWW",
         "year": 2020
        },
        {
         "arxivId": "1809.09408",
         "authors": [
          {
           "authorId": "8125500",
           "name": "Shengbin Jia"
          },
          {
           "authorId": "152743001",
           "name": "Y. Xiang"
          },
          {
           "authorId": "1702033",
           "name": "Xiaojun Chen"
          }
         ],
         "doi": "10.1088/1742-6596/1229/1/012054",
         "intent": [
          "methodology",
          "background"
         ],
         "isInfluential": true,
         "paperId": "fbdadd69c0d5773542c9691954ba0d69fea7e17e",
         "title": "Supervised Neural Models Revitalize the Open Relation Extraction",
         "url": "https://www.semanticscholar.org/paper/fbdadd69c0d5773542c9691954ba0d69fea7e17e",
         "venue": "ArXiv",
         "year": 2018
        },
        {
         "arxivId": null,
         "authors": [
          {
           "authorId": "1727784",
           "name": "Paul T. Groth"
          },
          {
           "authorId": "3458858",
           "name": "S. Pal"
          },
          {
           "authorId": "143626281",
           "name": "D. McBeath"
          },
          {
           "authorId": "39460142",
           "name": "B. Allen"
          },
          {
           "authorId": "144134609",
           "name": "R. Daniel"
          }
         ],
         "doi": "10.18653/v1/W16-1315",
         "intent": [
          "methodology"
         ],
         "isInfluential": false,
         "paperId": "7c27d3154b1b93cd139c42a5b8c39006bf811bdd",
         "title": "Applying Universal Schemas for Domain Specific Ontology Expansion",
         "url": "https://www.semanticscholar.org/paper/7c27d3154b1b93cd139c42a5b8c39006bf811bdd",
         "venue": "AKBC@NAACL-HLT",
         "year": 2016
        },
        {
         "arxivId": "1801.07804",
         "authors": [
          {
           "authorId": "13971768",
           "name": "D. Truong"
          },
          {
           "authorId": "13366027",
           "name": "Duc-Thuen Vo"
          },
          {
           "authorId": "145428541",
           "name": "U. Nguyen"
          }
         ],
         "doi": "10.1145/3155133.3155171",
         "intent": [
          "methodology",
          "background"
         ],
         "isInfluential": true,
         "paperId": "e5643580333ee926d8abb008bdc900bf895cf46a",
         "title": "Vietnamese Open Information Extraction",
         "url": "https://www.semanticscholar.org/paper/e5643580333ee926d8abb008bdc900bf895cf46a",
         "venue": "SoICT 2017",
         "year": 2017
        },
        {
         "arxivId": null,
         "authors": [
          {
           "authorId": "3115592",
           "name": "Ndapandula Nakashole"
          },
          {
           "authorId": "1751591",
           "name": "G. Weikum"
          },
          {
           "authorId": "1679784",
           "name": "Fabian M. Suchanek"
          }
         ],
         "doi": "10.1145/2503792.2503799",
         "intent": [],
         "isInfluential": false,
         "paperId": "868a28a3673705f5c7b43c05ea48e2c4cd3085d2",
         "title": "Discovering semantic relations from the web and organizing them with PATTY",
         "url": "https://www.semanticscholar.org/paper/868a28a3673705f5c7b43c05ea48e2c4cd3085d2",
         "venue": "SGMD",
         "year": 2013
        },
        {
         "arxivId": null,
         "authors": [
          {
           "authorId": "2246101",
           "name": "Yanxia Qin"
          },
          {
           "authorId": "48378565",
           "name": "Yue Zhang"
          },
          {
           "authorId": null,
           "name": "Min Zhang"
          },
          {
           "authorId": "37032041",
           "name": "D. Zheng"
          }
         ],
         "doi": "10.1587/TRANSINF.2017EDP7311",
         "intent": [
          "background"
         ],
         "isInfluential": false,
         "paperId": "10876280fabbe166d638284ab92690e0f660948f",
         "title": "Frame-Based Representation for Event Detection on Twitter",
         "url": "https://www.semanticscholar.org/paper/10876280fabbe166d638284ab92690e0f660948f",
         "venue": "IEICE Trans. Inf. Syst.",
         "year": 2018
        },
        {
         "arxivId": "1808.03430",
         "authors": [
          {
           "authorId": null,
           "name": "Pengfei Zhu"
          },
          {
           "authorId": "3322871",
           "name": "Zhuosheng Zhang"
          },
          {
           "authorId": "46172737",
           "name": "Jiangtong Li"
          },
          {
           "authorId": "2572506",
           "name": "Yafang Huang"
          },
          {
           "authorId": "36225434",
           "name": "Zhao Hai"
          }
         ],
         "doi": null,
         "intent": [
          "methodology"
         ],
         "isInfluential": false,
         "paperId": "285c5a964d958256fc2e5cf0949765b6f4707176",
         "title": "Lingke: a Fine-grained Multi-turn Chatbot for Customer Service",
         "url": "https://www.semanticscholar.org/paper/285c5a964d958256fc2e5cf0949765b6f4707176",
         "venue": "COLING",
         "year": 2018
        },
        {
         "arxivId": "1905.13413",
         "authors": [
          {
           "authorId": "2669515",
           "name": "Zhengbao Jiang"
          },
          {
           "authorId": "38253388",
           "name": "Pengcheng Yin"
          },
          {
           "authorId": "1700325",
           "name": "Graham Neubig"
          }
         ],
         "doi": "10.18653/v1/P19-1523",
         "intent": [
          "background"
         ],
         "isInfluential": false,
         "paperId": "8147a495b9a933742f06458244f7c5df00767c4e",
         "title": "Improving Open Information Extraction via Iterative Rank-Aware Learning",
         "url": "https://www.semanticscholar.org/paper/8147a495b9a933742f06458244f7c5df00767c4e",
         "venue": "ACL",
         "year": 2019
        },
        {
         "arxivId": "1910.07494",
         "authors": [
          {
           "authorId": "1826856",
           "name": "X. Wu"
          },
          {
           "authorId": "31817788",
           "name": "Benjamin L. Liebman"
          },
          {
           "authorId": "40461492",
           "name": "Rachel E. Stern"
          },
          {
           "authorId": "2464550",
           "name": "M. E. Roberts"
          },
          {
           "authorId": "1722619",
           "name": "Amarnath Gupta"
          }
         ],
         "doi": "10.3233/FAIA190331",
         "intent": [
          "methodology",
          "background"
         ],
         "isInfluential": false,
         "paperId": "77c963ddc67fe30b8ee8176168f48912646706e6",
         "title": "On Constructing a Knowledge Base of Chinese Criminal Cases",
         "url": "https://www.semanticscholar.org/paper/77c963ddc67fe30b8ee8176168f48912646706e6",
         "venue": "JURIX",
         "year": 2019
        },
        {
         "arxivId": null,
         "authors": [
          {
           "authorId": "2128351",
           "name": "F. Gotti"
          },
          {
           "authorId": "1706916",
           "name": "P. Langlais"
          }
         ],
         "doi": "10.1007/978-3-030-18305-9_2",
         "intent": [
          "methodology"
         ],
         "isInfluential": true,
         "paperId": "e872b2df80530d4d018e968ea6a204b047a76046",
         "title": "Weakly Supervised, Data-Driven Acquisition of Rules for Open Information Extraction",
         "url": "https://www.semanticscholar.org/paper/e872b2df80530d4d018e968ea6a204b047a76046",
         "venue": "Canadian Conference on AI",
         "year": 2019
        },
        {
         "arxivId": null,
         "authors": [
          {
           "authorId": "2893899",
           "name": "Xueling Lin"
          },
          {
           "authorId": "36302865",
           "name": "L. Chen"
          }
         ],
         "doi": "10.1109/ICDE.2019.00089",
         "intent": [
          "methodology",
          "background"
         ],
         "isInfluential": true,
         "paperId": "6fc12f57cebed730734ac0c73520d33376c852c0",
         "title": "Canonicalization of Open Knowledge Bases with Side Information from the Source Text",
         "url": "https://www.semanticscholar.org/paper/6fc12f57cebed730734ac0c73520d33376c852c0",
         "venue": "2019 IEEE 35th International Conference on Data Engineering (ICDE)",
         "year": 2019
        },
        {
         "arxivId": null,
         "authors": [
          {
           "authorId": "1698656",
           "name": "O. Popescu"
          },
          {
           "authorId": "2265142",
           "name": "Ngoc Phuoc An Vo"
          },
          {
           "authorId": "1757683",
           "name": "V. Sheinin"
          },
          {
           "authorId": "90768187",
           "name": "Elahe Khorashani"
          },
          {
           "authorId": "34404882",
           "name": "H. Yeo"
          }
         ],
         "doi": "10.1007/978-3-030-14799-0_59",
         "intent": [],
         "isInfluential": false,
         "paperId": "bac407ae077c2da209073bccd26f180cb53db8ca",
         "title": "Tackling Complex Queries to Relational Databases",
         "url": "https://www.semanticscholar.org/paper/bac407ae077c2da209073bccd26f180cb53db8ca",
         "venue": "ACIIDS",
         "year": 2019
        },
        {
         "arxivId": null,
         "authors": [
          {
           "authorId": "2615202",
           "name": "Saud Alashri"
          },
          {
           "authorId": "2496901",
           "name": "Jiun-Yi Tsai"
          },
          {
           "authorId": "2351429",
           "name": "S. Alzahrani"
          },
          {
           "authorId": "3024721",
           "name": "Steven R. Corman"
          },
          {
           "authorId": "1789798",
           "name": "H. Davulcu"
          }
         ],
         "doi": "10.1109/ICSC.2016.14",
         "intent": [],
         "isInfluential": false,
         "paperId": "310336d0cd8292427a3ec214f46e3a5a8001ab1d",
         "title": "\"Climate Change\" Frames Detection and Categorization Based on Generalized Concepts",
         "url": "https://www.semanticscholar.org/paper/310336d0cd8292427a3ec214f46e3a5a8001ab1d",
         "venue": "2016 IEEE Tenth International Conference on Semantic Computing (ICSC)",
         "year": 2016
        },
        {
         "arxivId": null,
         "authors": [
          {
           "authorId": "2191730",
           "name": "Riyadh Benammar"
          },
          {
           "authorId": "1704567",
           "name": "A. Trémeau"
          },
          {
           "authorId": "3124654",
           "name": "P. Maret"
          }
         ],
         "doi": "10.1007/978-3-319-26148-5_26",
         "intent": [],
         "isInfluential": false,
         "paperId": "1d520790a54ae0124322db18d1f5d97e6cb3864a",
         "title": "An Approach for Ontology Population Based on Information Extraction Techniques - Application to Cultural Heritage (Short Paper)",
         "url": "https://www.semanticscholar.org/paper/1d520790a54ae0124322db18d1f5d97e6cb3864a",
         "venue": "OTM Conferences",
         "year": 2015
        },
        {
         "arxivId": "2008.11295",
         "authors": [
          {
           "authorId": "1830886137",
           "name": "Alexander V. Shvets"
          },
          {
           "authorId": "9092408",
           "name": "L. Wanner"
          }
         ],
         "doi": null,
         "intent": [
          "background"
         ],
         "isInfluential": false,
         "paperId": "2b838f84aa123d641f8c4cbc456f71a9ddcd6019",
         "title": "Concept Extraction Using Pointer-Generator Networks",
         "url": "https://www.semanticscholar.org/paper/2b838f84aa123d641f8c4cbc456f71a9ddcd6019",
         "venue": "ArXiv",
         "year": 2020
        },
        {
         "arxivId": null,
         "authors": [
          {
           "authorId": "11240488",
           "name": "Qiuzi Zhang"
          },
          {
           "authorId": "143844108",
           "name": "W. Lu"
          },
          {
           "authorId": "46173238",
           "name": "Yunhan Yang"
          },
          {
           "authorId": "1789852",
           "name": "H. Chen"
          },
          {
           "authorId": "47740490",
           "name": "Jiangping Chen"
          }
         ],
         "doi": "10.1142/9789813234482_0004",
         "intent": [],
         "isInfluential": false,
         "paperId": "f9e1af842033d32f02684e3bb07fb991ba7edfbc",
         "title": "Automatic Identification of Research Articles Containing Data Usage Statements",
         "url": "https://www.semanticscholar.org/paper/f9e1af842033d32f02684e3bb07fb991ba7edfbc",
         "venue": "",
         "year": 2017
        },
        {
         "arxivId": null,
         "authors": [
          {
           "authorId": "1778382",
           "name": "Sagar Sunkle"
          },
          {
           "authorId": "1797699",
           "name": "Deepali Kholkar"
          },
          {
           "authorId": "145870636",
           "name": "V. Kulkarni"
          }
         ],
         "doi": "10.1007/978-3-319-46397-1_29",
         "intent": [],
         "isInfluential": false,
         "paperId": "26b426602e7d214ecf4084bfa488c7b5ba7e54da",
         "title": "Comparison and Synergy Between Fact-Orientation and Relation Extraction for Domain Model Generation in Regulatory Compliance",
         "url": "https://www.semanticscholar.org/paper/26b426602e7d214ecf4084bfa488c7b5ba7e54da",
         "venue": "ER",
         "year": 2016
        },
        {
         "arxivId": null,
         "authors": [
          {
           "authorId": "33145619",
           "name": "Shyam Upadhyay"
          },
          {
           "authorId": "2718039",
           "name": "Christos Christodoulopoulos"
          },
          {
           "authorId": "144590225",
           "name": "D. Roth"
          }
         ],
         "doi": "10.18653/v1/W16-1001",
         "intent": [
          "methodology"
         ],
         "isInfluential": true,
         "paperId": "61e987b06be702b0c89463e97640697a1d1864fb",
         "title": "\"Making the News\": Identifying Noteworthy Events in News Articles",
         "url": "https://www.semanticscholar.org/paper/61e987b06be702b0c89463e97640697a1d1864fb",
         "venue": "EVENTS@HLT-NAACL",
         "year": 2016
        },
        {
         "arxivId": null,
         "authors": [
          {
           "authorId": "145244405",
           "name": "Paul Reisert"
          },
          {
           "authorId": "32427616",
           "name": "Naoya Inoue"
          },
          {
           "authorId": "1764004",
           "name": "N. Okazaki"
          },
          {
           "authorId": "3040648",
           "name": "Kentaro Inui"
          }
         ],
         "doi": "10.3115/v1/W15-0507",
         "intent": [],
         "isInfluential": false,
         "paperId": "0d0c995d3ddc2f17d6be5454c2fafc3aef8ba068",
         "title": "A Computational Approach for Generating Toulmin Model Argumentation",
         "url": "https://www.semanticscholar.org/paper/0d0c995d3ddc2f17d6be5454c2fafc3aef8ba068",
         "venue": "ArgMining@HLT-NAACL",
         "year": 2015
        },
        {
         "arxivId": null,
         "authors": [
          {
           "authorId": "3115592",
           "name": "Ndapandula Nakashole"
          },
          {
           "authorId": "1751591",
           "name": "G. Weikum"
          }
         ],
         "doi": null,
         "intent": [
          "background"
         ],
         "isInfluential": false,
         "paperId": "bab8c7a6c71dcd75a47e4794a93a7b4c39beb6cb",
         "title": "Real-time Population of Knowledge Bases: Opportunities and Challenges",
         "url": "https://www.semanticscholar.org/paper/bab8c7a6c71dcd75a47e4794a93a7b4c39beb6cb",
         "venue": "AKBC-WEKEX@NAACL-HLT",
         "year": 2012
        },
        {
         "arxivId": null,
         "authors": [
          {
           "authorId": "1754166",
           "name": "Sung-Hyon Myaeng"
          },
          {
           "authorId": "1773040",
           "name": "Yoonjae Jeong"
          },
          {
           "authorId": "1761571",
           "name": "Yuchul Jung"
          }
         ],
         "doi": "10.1561/1800000021",
         "intent": [],
         "isInfluential": false,
         "paperId": "b3aa09e10f3cbc8a7900c39b10a573a59d7a832b",
         "title": "Experiential Knowledge Mining",
         "url": "https://www.semanticscholar.org/paper/b3aa09e10f3cbc8a7900c39b10a573a59d7a832b",
         "venue": "Found. Trends Web Sci.",
         "year": 2013
        },
        {
         "arxivId": null,
         "authors": [
          {
           "authorId": "2685013",
           "name": "Tomasz Tylenda"
          },
          {
           "authorId": "1706513",
           "name": "Yafang Wang"
          },
          {
           "authorId": "1751591",
           "name": "Gerhard Weikum"
          }
         ],
         "doi": null,
         "intent": [
          "background"
         ],
         "isInfluential": false,
         "paperId": "29a3d5164a5cce42e68323b4fbe1f188674b6ea4",
         "title": "Spotting Facts in the Wild",
         "url": "https://www.semanticscholar.org/paper/29a3d5164a5cce42e68323b4fbe1f188674b6ea4",
         "venue": "",
         "year": 2014
        },
        {
         "arxivId": "1408.5894",
         "authors": [
          {
           "authorId": "2880178",
           "name": "Georgios Skoumas"
          },
          {
           "authorId": "2258036",
           "name": "D. Pfoser"
          },
          {
           "authorId": "3393746",
           "name": "Anastasios Kyrillidis"
          }
         ],
         "doi": null,
         "intent": [],
         "isInfluential": false,
         "paperId": "b3b62957c94bb4670e8ac2ffeda02e3db71cafdf",
         "title": "Location Estimation Using Crowdsourced Geospatial Narratives",
         "url": "https://www.semanticscholar.org/paper/b3b62957c94bb4670e8ac2ffeda02e3db71cafdf",
         "venue": "ArXiv",
         "year": 2014
        },
        {
         "arxivId": null,
         "authors": [
          {
           "authorId": "2168134",
           "name": "David Bamman"
          },
          {
           "authorId": "144365875",
           "name": "Noah A. Smith"
          }
         ],
         "doi": "10.1162/tacl_a_00189",
         "intent": [
          "background"
         ],
         "isInfluential": false,
         "paperId": "be5a49a1ad3f728883ab0b6706fe55fd7986e876",
         "title": "Unsupervised Discovery of Biographical Structure from Text",
         "url": "https://www.semanticscholar.org/paper/be5a49a1ad3f728883ab0b6706fe55fd7986e876",
         "venue": "Transactions of the Association for Computational Linguistics",
         "year": 2014
        },
        {
         "arxivId": null,
         "authors": [
          {
           "authorId": "1750652",
           "name": "Jonathan Berant"
          },
          {
           "authorId": "1734327",
           "name": "N. Alon"
          },
          {
           "authorId": "7465342",
           "name": "I. Dagan"
          },
          {
           "authorId": "34508613",
           "name": "J. Goldberger"
          }
         ],
         "doi": "10.1162/COLI_a_00220",
         "intent": [],
         "isInfluential": false,
         "paperId": "0cba030613ef1b25104cbdacb78abfece2d85db8",
         "title": "Efficient Global Learning of Entailment Graphs",
         "url": "https://www.semanticscholar.org/paper/0cba030613ef1b25104cbdacb78abfece2d85db8",
         "venue": "Computational Linguistics",
         "year": 2015
        },
        {
         "arxivId": null,
         "authors": [
          {
           "authorId": "2346462",
           "name": "Daniele Alfarone"
          },
          {
           "authorId": "144815446",
           "name": "J. Davis"
          }
         ],
         "doi": null,
         "intent": [
          "methodology"
         ],
         "isInfluential": false,
         "paperId": "cb71ea8cabb4b262bacb81b352b0f4126e5d495c",
         "title": "Unsupervised Learning of an IS-A Taxonomy from a Limited Domain-Specific Corpus",
         "url": "https://www.semanticscholar.org/paper/cb71ea8cabb4b262bacb81b352b0f4126e5d495c",
         "venue": "IJCAI",
         "year": 2015
        },
        {
         "arxivId": null,
         "authors": [
          {
           "authorId": "145201124",
           "name": "Xiang Ren"
          },
          {
           "authorId": "1398503968",
           "name": "Ahmed El-Kishky"
          },
          {
           "authorId": "93721348",
           "name": "C. Wang"
          },
          {
           "authorId": "3180064",
           "name": "Fangbo Tao"
          },
          {
           "authorId": "1817166",
           "name": "Clare R. Voss"
          },
          {
           "authorId": "153034701",
           "name": "Jiawei Han"
          }
         ],
         "doi": "10.1145/2783258.2783362",
         "intent": [],
         "isInfluential": false,
         "paperId": "91aa1dad164eff3f00a64ff88c82771d957ff184",
         "title": "ClusType: Effective Entity Recognition and Typing by Relation Phrase-Based Clustering",
         "url": "https://www.semanticscholar.org/paper/91aa1dad164eff3f00a64ff88c82771d957ff184",
         "venue": "KDD '15",
         "year": 2015
        },
        {
         "arxivId": null,
         "authors": [
          {
           "authorId": "47174239",
           "name": "Marilena Ditta"
          },
          {
           "authorId": "50246605",
           "name": "Fabrizio Milazzo"
          },
          {
           "authorId": "153874697",
           "name": "Valentina Ravì"
          },
          {
           "authorId": "1708205",
           "name": "Giovanni Pilato"
          },
          {
           "authorId": "1695143",
           "name": "Agnese Augello"
          }
         ],
         "doi": "10.5220/0005614205970602",
         "intent": [
          "methodology"
         ],
         "isInfluential": false,
         "paperId": "915345823ce1f8f8ced9b6096363d4ed4527094a",
         "title": "Data-driven relation discovery from unstructured texts",
         "url": "https://www.semanticscholar.org/paper/915345823ce1f8f8ced9b6096363d4ed4527094a",
         "venue": "2015 7th International Joint Conference on Knowledge Discovery, Knowledge Engineering and Knowledge Management (IC3K)",
         "year": 2015
        },
        {
         "arxivId": "1603.01333",
         "authors": [
          {
           "authorId": "39058310",
           "name": "L. Sha"
          },
          {
           "authorId": "1695451",
           "name": "Sujian Li"
          },
          {
           "authorId": "39488576",
           "name": "Baobao Chang"
          },
          {
           "authorId": "3335836",
           "name": "Z. Sui"
          }
         ],
         "doi": "10.18653/v1/N16-1049",
         "intent": [
          "background"
         ],
         "isInfluential": false,
         "paperId": "a477778d8ae4cb70b67d02d094d030c44d0c6ffd",
         "title": "Joint Learning Templates and Slots for Event Schema Induction",
         "url": "https://www.semanticscholar.org/paper/a477778d8ae4cb70b67d02d094d030c44d0c6ffd",
         "venue": "HLT-NAACL",
         "year": 2016
        },
        {
         "arxivId": null,
         "authors": [
          {
           "authorId": "1703302",
           "name": "J. Xu"
          },
          {
           "authorId": "2588290",
           "name": "L. Gan"
          },
          {
           "authorId": "49357097",
           "name": "Z. Yan"
          },
          {
           "authorId": "2810462",
           "name": "Quanyuan Wu"
          },
          {
           "authorId": "145095641",
           "name": "Y. Jia"
          }
         ],
         "doi": "10.1109/DSC.2016.34",
         "intent": [
          "methodology"
         ],
         "isInfluential": false,
         "paperId": "b3105f5936655f98dbfe09860d73132eeee2bb34",
         "title": "Open Relation Extraction from Chinese Microblog Text",
         "url": "https://www.semanticscholar.org/paper/b3105f5936655f98dbfe09860d73132eeee2bb34",
         "venue": "2016 IEEE First International Conference on Data Science in Cyberspace (DSC)",
         "year": 2016
        },
        {
         "arxivId": null,
         "authors": [
          {
           "authorId": "1706513",
           "name": "Yafang Wang"
          },
          {
           "authorId": "2780667",
           "name": "Zhaochun Ren"
          },
          {
           "authorId": "144530424",
           "name": "Martin Theobald"
          },
          {
           "authorId": "2475084",
           "name": "Maximilian Dylla"
          },
          {
           "authorId": "144608002",
           "name": "Gerard de Melo"
          }
         ],
         "doi": "10.1007/978-3-319-44403-1_23",
         "intent": [
          "methodology"
         ],
         "isInfluential": false,
         "paperId": "8afebcc9c9ffe3086aaee2c7b5312130925aa653",
         "title": "Summary Generation for Temporal Extractions",
         "url": "https://www.semanticscholar.org/paper/8afebcc9c9ffe3086aaee2c7b5312130925aa653",
         "venue": "DEXA",
         "year": 2016
        },
        {
         "arxivId": null,
         "authors": [
          {
           "authorId": "35122493",
           "name": "Lavika Goel"
          },
          {
           "authorId": "73362033",
           "name": "Rashi Khandelwal"
          },
          {
           "authorId": "73322458",
           "name": "Eloy Retamino"
          },
          {
           "authorId": null,
           "name": "Suraj Nair"
          },
          {
           "authorId": "143873832",
           "name": "Alois Knoll"
          }
         ],
         "doi": "10.1007/978-3-319-47952-1_64",
         "intent": [],
         "isInfluential": false,
         "paperId": "a60ff0e31aa2b79fdc2095a76fed51974aedc88e",
         "title": "Application of a Hybrid Relation Extraction Framework for Intelligent Natural Language Processing",
         "url": "https://www.semanticscholar.org/paper/a60ff0e31aa2b79fdc2095a76fed51974aedc88e",
         "venue": "",
         "year": 2016
        },
        {
         "arxivId": null,
         "authors": [
          {
           "authorId": "39921273",
           "name": "Rivindu Perera"
          },
          {
           "authorId": "1755083",
           "name": "Parma Nand"
          }
         ],
         "doi": "10.1109/ICTAI.2016.0135",
         "intent": [
          "methodology"
         ],
         "isInfluential": false,
         "paperId": "7408b6807010c6df39b135d317e9978491c6f22a",
         "title": "Lexicalizing Linked Data towards a Human Friendly Web of Data",
         "url": "https://www.semanticscholar.org/paper/7408b6807010c6df39b135d317e9978491c6f22a",
         "venue": "2016 IEEE 28th International Conference on Tools with Artificial Intelligence (ICTAI)",
         "year": 2016
        },
        {
         "arxivId": null,
         "authors": [
          {
           "authorId": "40650147",
           "name": "Yang Chen"
          },
          {
           "authorId": "1786275",
           "name": "D. Wang"
          },
          {
           "authorId": "39121566",
           "name": "Sean Goldberg"
          }
         ],
         "doi": "10.1007/s00778-016-0444-3",
         "intent": [
          "background"
         ],
         "isInfluential": false,
         "paperId": "ae69852fd9fedb9e0a56866cbbf9d30bef8300a3",
         "title": "ScaLeKB: scalable learning and inference over large knowledge bases",
         "url": "https://www.semanticscholar.org/paper/ae69852fd9fedb9e0a56866cbbf9d30bef8300a3",
         "venue": "The VLDB Journal",
         "year": 2016
        },
        {
         "arxivId": null,
         "authors": [
          {
           "authorId": "40326824",
           "name": "Sendong Zhao"
          },
          {
           "authorId": "143906199",
           "name": "Quan Wang"
          },
          {
           "authorId": "3346041",
           "name": "Sean Massung"
          },
          {
           "authorId": "152277111",
           "name": "B. Qin"
          },
          {
           "authorId": "46999402",
           "name": "T. Liu"
          },
          {
           "authorId": "37722675",
           "name": "Bin Wang"
          },
          {
           "authorId": "1736467",
           "name": "ChengXiang Zhai"
          }
         ],
         "doi": "10.1145/3018661.3018707",
         "intent": [],
         "isInfluential": false,
         "paperId": "e4cc18bdc2009cc140d465c89b0cabb3addd8102",
         "title": "Constructing and Embedding Abstract Event Causality Networks from Text Snippets",
         "url": "https://www.semanticscholar.org/paper/e4cc18bdc2009cc140d465c89b0cabb3addd8102",
         "venue": "WSDM '17",
         "year": 2017
        },
        {
         "arxivId": null,
         "authors": [
          {
           "authorId": "3270223",
           "name": "Rebecca S. Portnoff"
          },
          {
           "authorId": "3310404",
           "name": "S. Afroz"
          },
          {
           "authorId": "1814094",
           "name": "Greg Durrett"
          },
          {
           "authorId": "1727211",
           "name": "Jonathan K. Kummerfeld"
          },
          {
           "authorId": "1400419309",
           "name": "Taylor Berg-Kirkpatrick"
          },
          {
           "authorId": "144378428",
           "name": "D. McCoy"
          },
          {
           "authorId": "1763395",
           "name": "K. Levchenko"
          },
          {
           "authorId": "1744800",
           "name": "V. Paxson"
          }
         ],
         "doi": "10.1145/3038912.3052600",
         "intent": [
          "background"
         ],
         "isInfluential": false,
         "paperId": "078d2f8c370bce64629f14bfd177f6fd43a10074",
         "title": "Tools for Automated Analysis of Cybercriminal Markets",
         "url": "https://www.semanticscholar.org/paper/078d2f8c370bce64629f14bfd177f6fd43a10074",
         "venue": "WWW",
         "year": 2017
        },
        {
         "arxivId": null,
         "authors": [
          {
           "authorId": "37429752",
           "name": "P. Rocca"
          },
          {
           "authorId": "1797790",
           "name": "S. Senatore"
          },
          {
           "authorId": "1689838",
           "name": "V. Loia"
          }
         ],
         "doi": "10.1016/j.inffus.2016.11.003",
         "intent": [
          "methodology",
          "background"
         ],
         "isInfluential": true,
         "paperId": "97e67c8350b9d386db4cf3dc42288b02f3987233",
         "title": "A semantic-grained perspective of latent knowledge modeling",
         "url": "https://www.semanticscholar.org/paper/97e67c8350b9d386db4cf3dc42288b02f3987233",
         "venue": "Inf. Fusion",
         "year": 2017
        },
        {
         "arxivId": null,
         "authors": [
          {
           "authorId": "2157025",
           "name": "Gabriel Stanovsky"
          },
          {
           "authorId": "7465342",
           "name": "I. Dagan"
          },
          {
           "authorId": "2674444",
           "name": "Mausam"
          }
         ],
         "doi": "10.3115/v1/P15-2050",
         "intent": [
          "background"
         ],
         "isInfluential": false,
         "paperId": "88efb1ea3db42b155a7c3fd35e5e010c970453e5",
         "title": "Open IE as an Intermediate Structure for Semantic Tasks",
         "url": "https://www.semanticscholar.org/paper/88efb1ea3db42b155a7c3fd35e5e010c970453e5",
         "venue": "ACL",
         "year": 2015
        },
        {
         "arxivId": null,
         "authors": [
          {
           "authorId": "2295402",
           "name": "G. Tsatsaronis"
          },
          {
           "authorId": "3355396",
           "name": "Alina Petrova"
          },
          {
           "authorId": "2727509",
           "name": "Maria Kissa"
          },
          {
           "authorId": "50844283",
           "name": "Y. Ma"
          },
          {
           "authorId": "1790327",
           "name": "Felix Distel"
          },
          {
           "authorId": "1710233",
           "name": "F. Baader"
          },
          {
           "authorId": "79909855",
           "name": "M. Schroeder"
          }
         ],
         "doi": null,
         "intent": [
          "background"
         ],
         "isInfluential": false,
         "paperId": "2cf863b08f2e4fe0662bfb8d32fbb039b7b90a8b",
         "title": "Learning Formal Definitions for Biomedical Concepts",
         "url": "https://www.semanticscholar.org/paper/2cf863b08f2e4fe0662bfb8d32fbb039b7b90a8b",
         "venue": "OWLED",
         "year": 2013
        },
        {
         "arxivId": null,
         "authors": [
          {
           "authorId": "39988436",
           "name": "Yang Chen"
          },
          {
           "authorId": "1915826",
           "name": "Zhe Wang"
          }
         ],
         "doi": null,
         "intent": [
          "background"
         ],
         "isInfluential": false,
         "paperId": "33eec6aac58cfa7743c2ad2a7996a5a345cf2610",
         "title": "Ontological Pathfinding : Mining First-Order Knowledge from Large Knowledge Bases",
         "url": "https://www.semanticscholar.org/paper/33eec6aac58cfa7743c2ad2a7996a5a345cf2610",
         "venue": "",
         "year": 2016
        },
        {
         "arxivId": null,
         "authors": [
          {
           "authorId": "144400492",
           "name": "Qi Zhu"
          },
          {
           "authorId": "145201124",
           "name": "Xiang Ren"
          },
          {
           "authorId": "2884976",
           "name": "Jingbo Shang"
          },
          {
           "authorId": "48380141",
           "name": "Y. Zhang"
          },
          {
           "authorId": "144282834",
           "name": "Frank F. Xu"
          },
          {
           "authorId": "145325584",
           "name": "Jiawei Han"
          }
         ],
         "doi": null,
         "intent": [
          "background"
         ],
         "isInfluential": false,
         "paperId": "68731c68773b117250f04509103031109b222d27",
         "title": "Information Extraction with Global Structure Constraints",
         "url": "https://www.semanticscholar.org/paper/68731c68773b117250f04509103031109b222d27",
         "venue": "",
         "year": 2018
        },
        {
         "arxivId": null,
         "authors": [
          {
           "authorId": null,
           "name": "Autocompletion"
          }
         ],
         "doi": null,
         "intent": [
          "methodology"
         ],
         "isInfluential": false,
         "paperId": "e3dd61502b40c4cd39995dfdcf412353582769f6",
         "title": "Question Answering on RDF KBs using Controlled Natural Language and Semantic",
         "url": "https://www.semanticscholar.org/paper/e3dd61502b40c4cd39995dfdcf412353582769f6",
         "venue": "",
         "year": 2016
        },
        {
         "arxivId": null,
         "authors": [
          {
           "authorId": "1746503",
           "name": "A. Kilgarriff"
          }
         ],
         "doi": null,
         "intent": [],
         "isInfluential": false,
         "paperId": "67863c9dc84d431cbe911326e9e277b9f6828d27",
         "title": "*SEM 2012: The First Joint Conference on Lexical and Computational Semantics",
         "url": "https://www.semanticscholar.org/paper/67863c9dc84d431cbe911326e9e277b9f6828d27",
         "venue": "",
         "year": 2012
        },
        {
         "arxivId": null,
         "authors": [
          {
           "authorId": "144596607",
           "name": "Juan Manuel Rodríguez"
          },
          {
           "authorId": "3430156",
           "name": "Hernán D. Merlino"
          },
          {
           "authorId": "81840790",
           "name": "Ramón García-Martínez"
          }
         ],
         "doi": "10.1007/978-3-319-75214-3_18",
         "intent": [
          "methodology"
         ],
         "isInfluential": false,
         "paperId": "2bfcb2761c812df8c76100bf5e835cfdc86f7bc4",
         "title": "Automatic Characteristics Extraction for Sentiment Analysis Tasks",
         "url": "https://www.semanticscholar.org/paper/2bfcb2761c812df8c76100bf5e835cfdc86f7bc4",
         "venue": "",
         "year": 2017
        },
        {
         "arxivId": null,
         "authors": [
          {
           "authorId": "3727644",
           "name": "Satoshi Tsutsui"
          },
          {
           "authorId": "115334717",
           "name": "Yi Bu"
          },
          {
           "authorId": "47814851",
           "name": "Ying Ding"
          }
         ],
         "doi": "10.1515/jdis-2017-0021",
         "intent": [
          "methodology"
         ],
         "isInfluential": false,
         "paperId": "1139d84c287ba1265cf0a62a2eee1b3245c0f0c4",
         "title": "Using Machine Reading to Understand Alzheimer’s and Related Diseases from the Literature",
         "url": "https://www.semanticscholar.org/paper/1139d84c287ba1265cf0a62a2eee1b3245c0f0c4",
         "venue": "",
         "year": 2017
        },
        {
         "arxivId": null,
         "authors": [
          {
           "authorId": "2470890",
           "name": "S. Kazemi"
          }
         ],
         "doi": "10.14288/1.0375812",
         "intent": [
          "background"
         ],
         "isInfluential": false,
         "paperId": "0a4b7fff218ddbdd4ea952f26313c837df8f8e44",
         "title": "Representing and learning relations and properties under uncertainty",
         "url": "https://www.semanticscholar.org/paper/0a4b7fff218ddbdd4ea952f26313c837df8f8e44",
         "venue": "",
         "year": 2018
        },
        {
         "arxivId": "1907.01417",
         "authors": [
          {
           "authorId": "69956202",
           "name": "Julien Fauqueur"
          },
          {
           "authorId": "103202968",
           "name": "Ashok Thillaisundaram"
          },
          {
           "authorId": "1798997",
           "name": "Theodosia Togia"
          }
         ],
         "doi": "10.18653/v1/W19-5016",
         "intent": [
          "background"
         ],
         "isInfluential": false,
         "paperId": "8ca5fe0c1d54ff5f64899d056b76fa4b5344db6f",
         "title": "Constructing large scale biomedical knowledge bases from scratch with rapid annotation of interpretable patterns",
         "url": "https://www.semanticscholar.org/paper/8ca5fe0c1d54ff5f64899d056b76fa4b5344db6f",
         "venue": "BioNLP@ACL",
         "year": 2019
        },
        {
         "arxivId": null,
         "authors": [
          {
           "authorId": "2156164",
           "name": "Amara Tariq"
          }
         ],
         "doi": null,
         "intent": [
          "background"
         ],
         "isInfluential": true,
         "paperId": "cf0ef537e998741e97f03eeacb88b8414a619390",
         "title": "Confluence of Vision and Natural Language Processing for Cross-media Semantic Relations Extraction",
         "url": "https://www.semanticscholar.org/paper/cf0ef537e998741e97f03eeacb88b8414a619390",
         "venue": "",
         "year": 2016
        },
        {
         "arxivId": "1907.00692",
         "authors": [
          {
           "authorId": "150306139",
           "name": "Sihem Sahnoun"
          }
         ],
         "doi": null,
         "intent": [
          "methodology",
          "background"
         ],
         "isInfluential": false,
         "paperId": "30b97d982ea2a850f320200d484871c4659988cd",
         "title": "Event extraction based on open information extraction and ontology",
         "url": "https://www.semanticscholar.org/paper/30b97d982ea2a850f320200d484871c4659988cd",
         "venue": "ArXiv",
         "year": 2019
        },
        {
         "arxivId": null,
         "authors": [
          {
           "authorId": "51136223",
           "name": "Arianna Blasi"
          },
          {
           "authorId": "7931048",
           "name": "M. Pezzè"
          },
          {
           "authorId": "2762411",
           "name": "A. Gorla"
          },
          {
           "authorId": "6698059",
           "name": "Michael D. Ernst"
          }
         ],
         "doi": null,
         "intent": [],
         "isInfluential": false,
         "paperId": "f87cd9cefe4a0ec3d14a62459ddcdf52528e1141",
         "title": "Research on NLP for RE at Università della Svizzera Italiana (USI): A Report",
         "url": "https://www.semanticscholar.org/paper/f87cd9cefe4a0ec3d14a62459ddcdf52528e1141",
         "venue": "REFSQ Workshops",
         "year": 2019
        },
        {
         "arxivId": null,
         "authors": [
          {
           "authorId": "40124153",
           "name": "Takuma Ebisu"
          },
          {
           "authorId": "143758327",
           "name": "R. Ichise"
          }
         ],
         "doi": "10.1587/TRANSINF.2017EDP7112",
         "intent": [
          "background"
         ],
         "isInfluential": false,
         "paperId": "fa562cd4a1e794273780296e77d9a72dc1dd9433",
         "title": "Triple Prediction from Texts by Using Distributed Representations of Words",
         "url": "https://www.semanticscholar.org/paper/fa562cd4a1e794273780296e77d9a72dc1dd9433",
         "venue": "IEICE Trans. Inf. Syst.",
         "year": 2017
        },
        {
         "arxivId": null,
         "authors": [
          {
           "authorId": null,
           "name": "Tom Sandell"
          }
         ],
         "doi": null,
         "intent": [],
         "isInfluential": false,
         "paperId": "252a671d23b2e91f7febbe87d7358ab03219f3ad",
         "title": "Supervised Fact Extraction from Web Pages",
         "url": "https://www.semanticscholar.org/paper/252a671d23b2e91f7febbe87d7358ab03219f3ad",
         "venue": "",
         "year": 2019
        },
        {
         "arxivId": null,
         "authors": [
          {
           "authorId": "1842010",
           "name": "Shengli Song"
          },
          {
           "authorId": "35266966",
           "name": "Yishuai Lin"
          },
          {
           "authorId": "145066132",
           "name": "Bin Guo"
          },
          {
           "authorId": "1709221",
           "name": "Qiang Di"
          },
          {
           "authorId": "50395229",
           "name": "Rong Lv"
          }
         ],
         "doi": "10.1016/j.jpdc.2017.11.014",
         "intent": [
          "background",
          "methodology"
         ],
         "isInfluential": true,
         "paperId": "cf2ba5d3aa207c3cdef0ca906cbf0590ec5b5863",
         "title": "Scalable Distributed Semantic Network for knowledge management in cyber physical system",
         "url": "https://www.semanticscholar.org/paper/cf2ba5d3aa207c3cdef0ca906cbf0590ec5b5863",
         "venue": "J. Parallel Distributed Comput.",
         "year": 2018
        },
        {
         "arxivId": null,
         "authors": [
          {
           "authorId": "2499986",
           "name": "Hamed Zamani"
          },
          {
           "authorId": "70443719",
           "name": "S. T. Dumais"
          },
          {
           "authorId": "1703980",
           "name": "Nick Craswell"
          },
          {
           "authorId": "153335844",
           "name": "P. Bennett"
          },
          {
           "authorId": "48162400",
           "name": "G. Lueck"
          }
         ],
         "doi": "10.1145/3366423.3380126",
         "intent": [
          "methodology"
         ],
         "isInfluential": false,
         "paperId": "906f4bc20b6d5705fa9f39189ab08b1c7d72f6ad",
         "title": "Generating Clarifying Questions for Information Retrieval",
         "url": "https://www.semanticscholar.org/paper/906f4bc20b6d5705fa9f39189ab08b1c7d72f6ad",
         "venue": "WWW",
         "year": 2020
        },
        {
         "arxivId": null,
         "authors": [
          {
           "authorId": "52523196",
           "name": "Bernardo Cabaleiro Barciela"
          }
         ],
         "doi": null,
         "intent": [
          "background"
         ],
         "isInfluential": false,
         "paperId": "6d74edb414994352e270838943e7b1fa4b6e1230",
         "title": "Propositional Knowledge: Acquisition and Application to Syntactic and Semantic Parsing",
         "url": "https://www.semanticscholar.org/paper/6d74edb414994352e270838943e7b1fa4b6e1230",
         "venue": "",
         "year": 2017
        },
        {
         "arxivId": null,
         "authors": [
          {
           "authorId": "2358179",
           "name": "S. Szumlanski"
          },
          {
           "authorId": "145535585",
           "name": "F. Gomez"
          }
         ],
         "doi": "10.1145/1871437.1871445",
         "intent": [
          "background"
         ],
         "isInfluential": false,
         "paperId": "d488cf91849a3c6cf90930334b597f992f91a159",
         "title": "Automatically acquiring a semantic network of related concepts",
         "url": "https://www.semanticscholar.org/paper/d488cf91849a3c6cf90930334b597f992f91a159",
         "venue": "CIKM '10",
         "year": 2010
        },
        {
         "arxivId": "2005.00706",
         "authors": [
          {
           "authorId": "40027632",
           "name": "F. F. Xu"
          },
          {
           "authorId": "144906579",
           "name": "Lei Ji"
          },
          {
           "authorId": "119700639",
           "name": "Botian Shi"
          },
          {
           "authorId": "3109653",
           "name": "Junyi Du"
          },
          {
           "authorId": "1700325",
           "name": "Graham Neubig"
          },
          {
           "authorId": "3312309",
           "name": "Yonatan Bisk"
          },
          {
           "authorId": "46429989",
           "name": "N. Duan"
          }
         ],
         "doi": null,
         "intent": [
          "background"
         ],
         "isInfluential": false,
         "paperId": "358d7d6333d3edd530e37efd8004cb9da8cfd5d4",
         "title": "A Benchmark for Structured Procedural Knowledge Extraction from Cooking Videos",
         "url": "https://www.semanticscholar.org/paper/358d7d6333d3edd530e37efd8004cb9da8cfd5d4",
         "venue": "NLPBT",
         "year": 2020
        },
        {
         "arxivId": null,
         "authors": [
          {
           "authorId": "143856186",
           "name": "D. Rusu"
          },
          {
           "authorId": "143703609",
           "name": "J. Hodson"
          },
          {
           "authorId": "48031638",
           "name": "Anthony Kimball"
          }
         ],
         "doi": "10.3115/v1/W14-2905",
         "intent": [
          "background"
         ],
         "isInfluential": true,
         "paperId": "82319e3da75505b61033dd90608ccb4edf5756d7",
         "title": "Unsupervised Techniques for Extracting and Clustering Complex Events in News",
         "url": "https://www.semanticscholar.org/paper/82319e3da75505b61033dd90608ccb4edf5756d7",
         "venue": "EVENTS@ACL",
         "year": 2014
        },
        {
         "arxivId": null,
         "authors": [
          {
           "authorId": "153502836",
           "name": "G. Karagiannis"
          },
          {
           "authorId": "2636156",
           "name": "Immanuel Trummer"
          },
          {
           "authorId": "32184052",
           "name": "Saehan Jo"
          },
          {
           "authorId": "3264469",
           "name": "Shubham Khandelwal"
          },
          {
           "authorId": "1524732527",
           "name": "Xuezhi Wang"
          },
          {
           "authorId": "39931037",
           "name": "C. Yu"
          }
         ],
         "doi": "10.14778/3372716.3372727",
         "intent": [
          "background"
         ],
         "isInfluential": false,
         "paperId": "e57d937679672971c7150644743724a0856227a5",
         "title": "Mining an \"Anti-Knowledge Base\" from Wikipedia Updates with Applications to Fact Checking and Beyond",
         "url": "https://www.semanticscholar.org/paper/e57d937679672971c7150644743724a0856227a5",
         "venue": "Proc. VLDB Endow.",
         "year": 2019
        },
        {
         "arxivId": "2004.09853",
         "authors": [
          {
           "authorId": "1642328639",
           "name": "Siyu Ren"
          },
          {
           "authorId": "1796651",
           "name": "K. Q. Zhu"
          }
         ],
         "doi": null,
         "intent": [
          "methodology"
         ],
         "isInfluential": false,
         "paperId": "9eca67402c76411d847ab27546d646e884ff213a",
         "title": "Knowledge-Driven Distractor Generation for Cloze-style Multiple Choice Questions",
         "url": "https://www.semanticscholar.org/paper/9eca67402c76411d847ab27546d646e884ff213a",
         "venue": "ArXiv",
         "year": 2020
        },
        {
         "arxivId": null,
         "authors": [
          {
           "authorId": "38057141",
           "name": "Y. Liu"
          },
          {
           "authorId": "144051547",
           "name": "W. Hua"
          },
          {
           "authorId": "1720932",
           "name": "X. Zhou"
          }
         ],
         "doi": "10.1007/978-3-030-12079-5_2",
         "intent": [],
         "isInfluential": false,
         "paperId": "53c8413ef292da4f904c9588c095c39ada3ac925",
         "title": "Extracting Temporal Patterns from Large-Scale Text Corpus",
         "url": "https://www.semanticscholar.org/paper/53c8413ef292da4f904c9588c095c39ada3ac925",
         "venue": "ADC",
         "year": 2019
        },
        {
         "arxivId": null,
         "authors": [
          {
           "authorId": "145672420",
           "name": "A. Roy"
          },
          {
           "authorId": "71961028",
           "name": "Y. Park"
          },
          {
           "authorId": "1387850075",
           "name": "Taesung Lee"
          },
          {
           "authorId": "145620432",
           "name": "Shimei Pan"
          }
         ],
         "doi": "10.18653/v1/D19-1067",
         "intent": [
          "methodology",
          "background"
         ],
         "isInfluential": false,
         "paperId": "a306ab1db1998c9c48e8911819253b04aa6fbe66",
         "title": "Supervising Unsupervised Open Information Extraction Models",
         "url": "https://www.semanticscholar.org/paper/a306ab1db1998c9c48e8911819253b04aa6fbe66",
         "venue": "EMNLP/IJCNLP",
         "year": 2019
        },
        {
         "arxivId": null,
         "authors": [
          {
           "authorId": "2388443",
           "name": "D. Yu"
          },
          {
           "authorId": "34170717",
           "name": "Lifu Huang"
          },
          {
           "authorId": "144016781",
           "name": "Heng Ji"
          }
         ],
         "doi": null,
         "intent": [
          "methodology",
          "background"
         ],
         "isInfluential": false,
         "paperId": "de40f08c0fff12367e9bb2de6095f49b83ef8354",
         "title": "Open Relation Extraction and Grounding",
         "url": "https://www.semanticscholar.org/paper/de40f08c0fff12367e9bb2de6095f49b83ef8354",
         "venue": "IJCNLP",
         "year": 2017
        },
        {
         "arxivId": null,
         "authors": [
          {
           "authorId": "145411800",
           "name": "Xiao Ding"
          },
          {
           "authorId": "48378565",
           "name": "Yue Zhang"
          },
          {
           "authorId": "46999402",
           "name": "T. Liu"
          },
          {
           "authorId": "3237142",
           "name": "Junwen Duan"
          }
         ],
         "doi": null,
         "intent": [
          "methodology",
          "background"
         ],
         "isInfluential": true,
         "paperId": "d03b9d5081ca64ce4db2f2dfb1e8f478c3bd44c1",
         "title": "Knowledge-Driven Event Embedding for Stock Prediction",
         "url": "https://www.semanticscholar.org/paper/d03b9d5081ca64ce4db2f2dfb1e8f478c3bd44c1",
         "venue": "COLING",
         "year": 2016
        },
        {
         "arxivId": null,
         "authors": [
          {
           "authorId": "3185452",
           "name": "Duc-Thuan Vo"
          },
          {
           "authorId": "145632843",
           "name": "E. Bagheri"
          }
         ],
         "doi": "10.14236/EWIC/FDIA2015.7",
         "intent": [
          "background"
         ],
         "isInfluential": true,
         "paperId": "22fc9a50c7d752ecc90b9144ea1e8ffdb2a45d80",
         "title": "Syntactic and Semantic Structures for Relation Extraction",
         "url": "https://www.semanticscholar.org/paper/22fc9a50c7d752ecc90b9144ea1e8ffdb2a45d80",
         "venue": "FDIA",
         "year": 2015
        },
        {
         "arxivId": "2010.11967",
         "authors": [
          {
           "authorId": "48585703",
           "name": "C. Wang"
          },
          {
           "authorId": "120281036",
           "name": "Xiao Liu"
          },
          {
           "authorId": "143711382",
           "name": "D. Song"
          }
         ],
         "doi": null,
         "intent": [
          "background",
          "result"
         ],
         "isInfluential": true,
         "paperId": "3ee955bfb656e30a337b22a1149b5ecc91a91217",
         "title": "Language Models are Open Knowledge Graphs",
         "url": "https://www.semanticscholar.org/paper/3ee955bfb656e30a337b22a1149b5ecc91a91217",
         "venue": "ArXiv",
         "year": 2020
        },
        {
         "arxivId": null,
         "authors": [
          {
           "authorId": "3825726",
           "name": "R. C. Rajan"
          }
         ],
         "doi": null,
         "intent": [
          "methodology"
         ],
         "isInfluential": false,
         "paperId": "9503a70656c55464a0f3cc34756f1fd58f1ed1a2",
         "title": "Data-Driven and Context-Aware Process Provisioning",
         "url": "https://www.semanticscholar.org/paper/9503a70656c55464a0f3cc34756f1fd58f1ed1a2",
         "venue": "",
         "year": 2018
        },
        {
         "arxivId": null,
         "authors": [
          {
           "authorId": "25580608",
           "name": "Pankajeshwara Sharma"
          },
          {
           "authorId": "1736420",
           "name": "B. Savarimuthu"
          },
          {
           "authorId": "2665144",
           "name": "N. Stanger"
          }
         ],
         "doi": "10.1145/3383219.3383240",
         "intent": [
          "methodology"
         ],
         "isInfluential": false,
         "paperId": "a6acf83205df67adee611e066291dce5c5a4d357",
         "title": "Mining Decision-Making Processes in Open Source Software Development: A Study of Python Enhancement Proposals (PEPs) using Email Repositories",
         "url": "https://www.semanticscholar.org/paper/a6acf83205df67adee611e066291dce5c5a4d357",
         "venue": "EASE",
         "year": 2020
        },
        {
         "arxivId": null,
         "authors": [
          {
           "authorId": "3115592",
           "name": "Ndapandula Nakashole"
          },
          {
           "authorId": "1751591",
           "name": "G. Weikum"
          },
          {
           "authorId": "1679784",
           "name": "Fabian M. Suchanek"
          }
         ],
         "doi": null,
         "intent": [],
         "isInfluential": false,
         "paperId": "b162c99873c929447bb7ff48d454867aa83f375c",
         "title": "PATTY: A Taxonomy of Relational Patterns with Semantic Types",
         "url": "https://www.semanticscholar.org/paper/b162c99873c929447bb7ff48d454867aa83f375c",
         "venue": "EMNLP-CoNLL",
         "year": 2012
        },
        {
         "arxivId": null,
         "authors": [
          {
           "authorId": "2613058",
           "name": "Naimdjon Takhirov"
          }
         ],
         "doi": null,
         "intent": [
          "methodology",
          "background"
         ],
         "isInfluential": false,
         "paperId": "84fe52e26bc7dba7d8aa3320f5a0549f6addafb4",
         "title": "Extracting Knowledge for Cultural Heritage Knowledge Base Population",
         "url": "https://www.semanticscholar.org/paper/84fe52e26bc7dba7d8aa3320f5a0549f6addafb4",
         "venue": "",
         "year": 2013
        },
        {
         "arxivId": "1301.3618",
         "authors": [
          {
           "authorId": "50536468",
           "name": "Danqi Chen"
          },
          {
           "authorId": "2166511",
           "name": "R. Socher"
          },
          {
           "authorId": "144783904",
           "name": "Christopher D. Manning"
          },
          {
           "authorId": "34699434",
           "name": "A. Ng"
          }
         ],
         "doi": null,
         "intent": [
          "background"
         ],
         "isInfluential": false,
         "paperId": "8007fc25a1f5c03f7c8ac95ccf5cf8aa3d989092",
         "title": "Learning New Facts From Knowledge Bases With Neural Tensor Networks and Semantic Word Vectors",
         "url": "https://www.semanticscholar.org/paper/8007fc25a1f5c03f7c8ac95ccf5cf8aa3d989092",
         "venue": "ICLR",
         "year": 2013
        },
        {
         "arxivId": null,
         "authors": [
          {
           "authorId": "3144725",
           "name": "A. Razavi"
          },
          {
           "authorId": "1697366",
           "name": "Diana Inkpen"
          },
          {
           "authorId": "145292060",
           "name": "R. Falcon"
          },
          {
           "authorId": "1731797",
           "name": "R. Abielmona"
          }
         ],
         "doi": "10.1109/COGSIMA.2014.6816558",
         "intent": [
          "background"
         ],
         "isInfluential": false,
         "paperId": "583c7b1cd3f6cd04528012862e1ebdd961c54df4",
         "title": "Textual risk mining for maritime situational awareness",
         "url": "https://www.semanticscholar.org/paper/583c7b1cd3f6cd04528012862e1ebdd961c54df4",
         "venue": "2014 IEEE International Inter-Disciplinary Conference on Cognitive Methods in Situation Awareness and Decision Support (CogSIMA)",
         "year": 2014
        },
        {
         "arxivId": null,
         "authors": [
          {
           "authorId": "1679784",
           "name": "Fabian M. Suchanek"
          },
          {
           "authorId": "1751591",
           "name": "G. Weikum"
          }
         ],
         "doi": "10.14778/2733004.2733069",
         "intent": [
          "methodology"
         ],
         "isInfluential": false,
         "paperId": "283d9ef2b54453bf77723712693d02165cf08899",
         "title": "Knowledge Bases in the Age of Big Data Analytics",
         "url": "https://www.semanticscholar.org/paper/283d9ef2b54453bf77723712693d02165cf08899",
         "venue": "Proc. VLDB Endow.",
         "year": 2014
        },
        {
         "arxivId": null,
         "authors": [
          {
           "authorId": "33219438",
           "name": "Xuchen Yao"
          }
         ],
         "doi": null,
         "intent": [
          "methodology"
         ],
         "isInfluential": true,
         "paperId": "4f174d2c819d650152b45dc9e313925fe12fccd3",
         "title": "Feature-driven Question Answering With Natural Language Alignment",
         "url": "https://www.semanticscholar.org/paper/4f174d2c819d650152b45dc9e313925fe12fccd3",
         "venue": "",
         "year": 2014
        },
        {
         "arxivId": null,
         "authors": [
          {
           "authorId": "1922740",
           "name": "Xueyan Jiang"
          }
         ],
         "doi": null,
         "intent": [],
         "isInfluential": false,
         "paperId": "0b5ff0e4cf157ec65f7386449765444798eeffac",
         "title": "Integrating Prior Knowledge into Factorization Approaches for Relational Learning",
         "url": "https://www.semanticscholar.org/paper/0b5ff0e4cf157ec65f7386449765444798eeffac",
         "venue": "",
         "year": 2014
        },
        {
         "arxivId": null,
         "authors": [
          {
           "authorId": "2949185",
           "name": "Ellie Pavlick"
          },
          {
           "authorId": "153172090",
           "name": "Huai-zhong Ji"
          },
          {
           "authorId": "34741133",
           "name": "Xiaoman Pan"
          },
          {
           "authorId": "1389724108",
           "name": "Chris Callison-Burch"
          }
         ],
         "doi": "10.18653/v1/D16-1106",
         "intent": [
          "background"
         ],
         "isInfluential": false,
         "paperId": "39cc240b6e359071fe1ddaac22473eb354f85a00",
         "title": "The Gun Violence Database: A new task and data set for NLP",
         "url": "https://www.semanticscholar.org/paper/39cc240b6e359071fe1ddaac22473eb354f85a00",
         "venue": "EMNLP",
         "year": 2016
        },
        {
         "arxivId": "1503.00759",
         "authors": [
          {
           "authorId": "1729762",
           "name": "M. Nickel"
          },
          {
           "authorId": "1702318",
           "name": "Kevin Murphy"
          },
          {
           "authorId": "1700754",
           "name": "Volker Tresp"
          },
          {
           "authorId": "1718798",
           "name": "Evgeniy Gabrilovich"
          }
         ],
         "doi": "10.1109/JPROC.2015.2483592",
         "intent": [],
         "isInfluential": false,
         "paperId": "033f25ad905ef2ed32a8331cf38b83953ff15922",
         "title": "A Review of Relational Machine Learning for Knowledge Graphs",
         "url": "https://www.semanticscholar.org/paper/033f25ad905ef2ed32a8331cf38b83953ff15922",
         "venue": "Proceedings of the IEEE",
         "year": 2016
        },
        {
         "arxivId": null,
         "authors": [
          {
           "authorId": "32632038",
           "name": "Sebastian Krause"
          },
          {
           "authorId": "36943315",
           "name": "Leonhard Hennig"
          },
          {
           "authorId": "37515745",
           "name": "A. Moro"
          },
          {
           "authorId": "3319373",
           "name": "Dirk Weissenborn"
          },
          {
           "authorId": "2724114",
           "name": "F. Xu"
          },
          {
           "authorId": "1781790",
           "name": "H. Uszkoreit"
          },
          {
           "authorId": "1733928",
           "name": "R. Navigli"
          }
         ],
         "doi": "10.1016/j.websem.2016.03.004",
         "intent": [
          "background"
         ],
         "isInfluential": false,
         "paperId": "1fa3c6e4d2054cb73f23442170fa3b84082e5970",
         "title": "Sar-graphs: A language resource connecting linguistic knowledge with semantic relations from knowledge graphs",
         "url": "https://www.semanticscholar.org/paper/1fa3c6e4d2054cb73f23442170fa3b84082e5970",
         "venue": "J. Web Semant.",
         "year": 2016
        },
        {
         "arxivId": "1606.03391",
         "authors": [
          {
           "authorId": "40483594",
           "name": "Wenpeng Yin"
          },
          {
           "authorId": "2482533",
           "name": "Mo Yu"
          },
          {
           "authorId": "144028698",
           "name": "B. Xiang"
          },
          {
           "authorId": "145218984",
           "name": "Bowen Zhou"
          },
          {
           "authorId": "144418438",
           "name": "Hinrich Schütze"
          }
         ],
         "doi": null,
         "intent": [
          "methodology"
         ],
         "isInfluential": false,
         "paperId": "812034099dd66df95a9f4ff741e17df62916ef4c",
         "title": "Simple Question Answering by Attentive Convolutional Neural Network",
         "url": "https://www.semanticscholar.org/paper/812034099dd66df95a9f4ff741e17df62916ef4c",
         "venue": "COLING",
         "year": 2016
        },
        {
         "arxivId": null,
         "authors": [
          {
           "authorId": "144375814",
           "name": "Denis Savenkov"
          },
          {
           "authorId": "1685296",
           "name": "Eugene Agichtein"
          }
         ],
         "doi": "10.1145/2911451.2911536",
         "intent": [
          "methodology"
         ],
         "isInfluential": false,
         "paperId": "c7b8df8ffab8be0a659f62970aa82d352d900c79",
         "title": "When a Knowledge Base Is Not Enough: Question Answering over Knowledge Bases with External Text Data",
         "url": "https://www.semanticscholar.org/paper/c7b8df8ffab8be0a659f62970aa82d352d900c79",
         "venue": "SIGIR '16",
         "year": 2016
        },
        {
         "arxivId": null,
         "authors": [
          {
           "authorId": "36811682",
           "name": "Z. Zhang"
          },
          {
           "authorId": "1953113",
           "name": "Anna Lisa Gentile"
          },
          {
           "authorId": "2456849",
           "name": "E. Blomqvist"
          },
          {
           "authorId": "1736067",
           "name": "Isabelle Augenstein"
          },
          {
           "authorId": "1758555",
           "name": "F. Ciravegna"
          }
         ],
         "doi": "10.3233/SW-150193",
         "intent": [
          "background"
         ],
         "isInfluential": false,
         "paperId": "73ec19859096b1a03816245b5230666695944939",
         "title": "An unsupervised data-driven method to discover equivalent relations in large Linked Datasets",
         "url": "https://www.semanticscholar.org/paper/73ec19859096b1a03816245b5230666695944939",
         "venue": "Semantic Web",
         "year": 2017
        },
        {
         "arxivId": null,
         "authors": [
          {
           "authorId": "1814319",
           "name": "Omid Bakhshandeh"
          },
          {
           "authorId": "144938430",
           "name": "J. Allen"
          }
         ],
         "doi": "10.18653/v1/P17-1084",
         "intent": [
          "background"
         ],
         "isInfluential": false,
         "paperId": "3e2e426de00a76fcbb03c4e0fb6492e0ff475919",
         "title": "Apples to Apples: Learning Semantics of Common Entities Through a Novel Comprehension Task",
         "url": "https://www.semanticscholar.org/paper/3e2e426de00a76fcbb03c4e0fb6492e0ff475919",
         "venue": "ACL",
         "year": 2017
        },
        {
         "arxivId": null,
         "authors": [
          {
           "authorId": "1707606",
           "name": "D. Erdös"
          },
          {
           "authorId": "1804891",
           "name": "P. Miettinen"
          }
         ],
         "doi": "10.1145/2505515.2507846",
         "intent": [
          "methodology"
         ],
         "isInfluential": false,
         "paperId": "9506bda5ecc13a7b062ebc7727fcb3b04766ca0b",
         "title": "Discovering facts with boolean tensor tucker decomposition",
         "url": "https://www.semanticscholar.org/paper/9506bda5ecc13a7b062ebc7727fcb3b04766ca0b",
         "venue": "CIKM",
         "year": 2013
        },
        {
         "arxivId": null,
         "authors": [
          {
           "authorId": "144637335",
           "name": "Mohamed Yahya"
          },
          {
           "authorId": "1806397",
           "name": "K. Berberich"
          },
          {
           "authorId": "1863248",
           "name": "Shady Elbassuoni"
          },
          {
           "authorId": "1751591",
           "name": "G. Weikum"
          }
         ],
         "doi": "10.1145/2505515.2505677",
         "intent": [
          "methodology"
         ],
         "isInfluential": false,
         "paperId": "fb1a32a0c17c7a73fd246f51fea3e7a7e81c2fab",
         "title": "Robust question answering over the web of linked data",
         "url": "https://www.semanticscholar.org/paper/fb1a32a0c17c7a73fd246f51fea3e7a7e81c2fab",
         "venue": "CIKM",
         "year": 2013
        },
        {
         "arxivId": null,
         "authors": [
          {
           "authorId": "3370065",
           "name": "Dennis Diefenbach"
          },
          {
           "authorId": "144217232",
           "name": "V. López"
          },
          {
           "authorId": "39541449",
           "name": "K. Singh"
          },
          {
           "authorId": "3124654",
           "name": "P. Maret"
          }
         ],
         "doi": "10.1007/s10115-017-1100-y",
         "intent": [
          "methodology"
         ],
         "isInfluential": false,
         "paperId": "f3fe27b0e10b2498c4efe6bd64e1614aee5cc251",
         "title": "Core techniques of question answering systems over knowledge bases: a survey",
         "url": "https://www.semanticscholar.org/paper/f3fe27b0e10b2498c4efe6bd64e1614aee5cc251",
         "venue": "Knowledge and Information Systems",
         "year": 2017
        },
        {
         "arxivId": null,
         "authors": [
          {
           "authorId": "40130421",
           "name": "G. Mazzeo"
          }
         ],
         "doi": null,
         "intent": [
          "background"
         ],
         "isInfluential": false,
         "paperId": "c6969050cb51de2e6e7b4da1a11f7561855ccd76",
         "title": "CANaLI : A System for Answering Controlled Natural Language Questions on RDF Knowledge Bases UCLA CSD Technical Report Number : 160004",
         "url": "https://www.semanticscholar.org/paper/c6969050cb51de2e6e7b4da1a11f7561855ccd76",
         "venue": "",
         "year": 2016
        },
        {
         "arxivId": null,
         "authors": [
          {
           "authorId": "2351429",
           "name": "Sultan Alzahrani"
          },
          {
           "authorId": "2379096",
           "name": "Betul Ceran"
          },
          {
           "authorId": "2615202",
           "name": "Saud Alashri"
          },
          {
           "authorId": "8560710",
           "name": "Scott W. Ruston"
          },
          {
           "authorId": "3024721",
           "name": "Steven R. Corman"
          },
          {
           "authorId": "1789798",
           "name": "Hasan Davulcu"
          }
         ],
         "doi": "10.1109/BDCloud-SocialCom-SustainCom.2016.48",
         "intent": [],
         "isInfluential": false,
         "paperId": "758d62f1d87c76dd9f42ccacda9874918d34d5e0",
         "title": "Story Forms Detection in Text through Concept-Based Co-Clustering",
         "url": "https://www.semanticscholar.org/paper/758d62f1d87c76dd9f42ccacda9874918d34d5e0",
         "venue": "2016 IEEE International Conferences on Big Data and Cloud Computing (BDCloud), Social Computing and Networking (SocialCom), Sustainable Computing and Communications (SustainCom) (BDCloud-SocialCom-SustainCom)",
         "year": 2016
        },
        {
         "arxivId": null,
         "authors": [
          {
           "authorId": "2626599",
           "name": "Henning Wachsmuth"
          }
         ],
         "doi": "10.1007/978-3-319-25741-9",
         "intent": [
          "background"
         ],
         "isInfluential": false,
         "paperId": "e6e0f63ac1c7705f0650def6a110d174eaf830ea",
         "title": "Text Analysis Pipelines",
         "url": "https://www.semanticscholar.org/paper/e6e0f63ac1c7705f0650def6a110d174eaf830ea",
         "venue": "Lecture Notes in Computer Science",
         "year": 2015
        },
        {
         "arxivId": null,
         "authors": [
          {
           "authorId": "50575248",
           "name": "C. Thomas"
          },
          {
           "authorId": "144909257",
           "name": "P. Mehra"
          },
          {
           "authorId": "144463965",
           "name": "A. Sheth"
          }
         ],
         "doi": null,
         "intent": [
          "background"
         ],
         "isInfluential": false,
         "paperId": "6491dfe337bed60038408bf8c1e8a62d8a7e1f1c",
         "title": "On-Demand Creation of Focused Domain Models using Top-down and Bottom-up Information Extraction",
         "url": "https://www.semanticscholar.org/paper/6491dfe337bed60038408bf8c1e8a62d8a7e1f1c",
         "venue": "",
         "year": 2012
        },
        {
         "arxivId": null,
         "authors": [
          {
           "authorId": "2184588",
           "name": "A. Goffi"
          }
         ],
         "doi": null,
         "intent": [
          "background"
         ],
         "isInfluential": false,
         "paperId": "6e0ba85416d79cca3f7f69d250fab52c48fc5752",
         "title": "Automating test oracles generation",
         "url": "https://www.semanticscholar.org/paper/6e0ba85416d79cca3f7f69d250fab52c48fc5752",
         "venue": "",
         "year": 2018
        },
        {
         "arxivId": null,
         "authors": [
          {
           "authorId": "2077657",
           "name": "Melisachew Wudage Chekol"
          }
         ],
         "doi": "10.1145/3132847.3133038",
         "intent": [
          "background"
         ],
         "isInfluential": false,
         "paperId": "0374a75bb69cf7f2d44e5427b6471244ac9b2c56",
         "title": "Scaling Probabilistic Temporal Query Evaluation",
         "url": "https://www.semanticscholar.org/paper/0374a75bb69cf7f2d44e5427b6471244ac9b2c56",
         "venue": "CIKM",
         "year": 2017
        },
        {
         "arxivId": null,
         "authors": [
          {
           "authorId": "3115592",
           "name": "Ndapandula Nakashole"
          },
          {
           "authorId": "40975594",
           "name": "Tom Michael Mitchell"
          }
         ],
         "doi": null,
         "intent": [],
         "isInfluential": false,
         "paperId": "43341720d24fbb62ca6c3416d5231a333884f6a3",
         "title": "Micro Reading with Priors : Towards Second Generation Machine Readers",
         "url": "https://www.semanticscholar.org/paper/43341720d24fbb62ca6c3416d5231a333884f6a3",
         "venue": "",
         "year": 2014
        },
        {
         "arxivId": null,
         "authors": [
          {
           "authorId": "32482521",
           "name": "Peng Zhang"
          }
         ],
         "doi": null,
         "intent": [
          "background"
         ],
         "isInfluential": false,
         "paperId": "00432309c1125d3b99d27c686f8da28ead6f7cf8",
         "title": "Towards Interpretable Vision Systems",
         "url": "https://www.semanticscholar.org/paper/00432309c1125d3b99d27c686f8da28ead6f7cf8",
         "venue": "",
         "year": 2017
        },
        {
         "arxivId": "1606.05433",
         "authors": [
          {
           "authorId": "144282676",
           "name": "Peng Wang"
          },
          {
           "authorId": "144663765",
           "name": "Qi Wu"
          },
          {
           "authorId": "1780381",
           "name": "Chunhua Shen"
          },
          {
           "authorId": "121177698",
           "name": "A. Dick"
          },
          {
           "authorId": "133678193",
           "name": "A. van den Hengel"
          }
         ],
         "doi": "10.1109/TPAMI.2017.2754246",
         "intent": [],
         "isInfluential": false,
         "paperId": "b60630911d7746fba06de7c34abe98c9a61c6bcc",
         "title": "FVQA: Fact-Based Visual Question Answering",
         "url": "https://www.semanticscholar.org/paper/b60630911d7746fba06de7c34abe98c9a61c6bcc",
         "venue": "IEEE Transactions on Pattern Analysis and Machine Intelligence",
         "year": 2018
        },
        {
         "arxivId": "2005.08178",
         "authors": [
          {
           "authorId": "1500421125",
           "name": "K. Kolluru"
          },
          {
           "authorId": "1379730794",
           "name": "Samarth Aggarwal"
          },
          {
           "authorId": "37504204",
           "name": "V. Rathore"
          },
          {
           "authorId": "2674444",
           "name": "Mausam"
          },
          {
           "authorId": "40941894",
           "name": "Soumen Chakrabarti"
          }
         ],
         "doi": "10.18653/v1/2020.acl-main.521",
         "intent": [
          "methodology"
         ],
         "isInfluential": false,
         "paperId": "eef9d4ce8470e7e0100051900870945b8a4714ac",
         "title": "IMoJIE: Iterative Memory-Based Joint Open Information Extraction",
         "url": "https://www.semanticscholar.org/paper/eef9d4ce8470e7e0100051900870945b8a4714ac",
         "venue": "ACL",
         "year": 2020
        },
        {
         "arxivId": "2009.08128",
         "authors": [
          {
           "authorId": "1659142288",
           "name": "Youngbin Ro"
          },
          {
           "authorId": "87002967",
           "name": "Y. Lee"
          },
          {
           "authorId": "1439658274",
           "name": "Pilsung Kang"
          }
         ],
         "doi": null,
         "intent": [],
         "isInfluential": false,
         "paperId": "32c0bd7b369174bfce0815555177bb696a188f83",
         "title": "Multi^2OIE: Multilingual Open Information Extraction based on Multi-Head Attention with BERT",
         "url": "https://www.semanticscholar.org/paper/32c0bd7b369174bfce0815555177bb696a188f83",
         "venue": "EMNLP",
         "year": 2020
        },
        {
         "arxivId": null,
         "authors": [
          {
           "authorId": "31123112",
           "name": "Angel Fiallos"
          },
          {
           "authorId": "2399182",
           "name": "X. Ochoa"
          }
         ],
         "doi": "10.1145/3303772.3303834",
         "intent": [
          "methodology"
         ],
         "isInfluential": false,
         "paperId": "2c2ec22f11ac61c3ac85b99f930ef6d24229c212",
         "title": "Semi-Automatic Generation of Intelligent Curricula to Facilitate Learning Analytics",
         "url": "https://www.semanticscholar.org/paper/2c2ec22f11ac61c3ac85b99f930ef6d24229c212",
         "venue": "LAK",
         "year": 2019
        },
        {
         "arxivId": "1711.05435",
         "authors": [
          {
           "authorId": "40124153",
           "name": "Takuma Ebisu"
          },
          {
           "authorId": "143758327",
           "name": "R. Ichise"
          }
         ],
         "doi": null,
         "intent": [
          "methodology"
         ],
         "isInfluential": false,
         "paperId": "990334cf76845e2da64d3baa10b0a671e433d4b6",
         "title": "TorusE: Knowledge Graph Embedding on a Lie Group",
         "url": "https://www.semanticscholar.org/paper/990334cf76845e2da64d3baa10b0a671e433d4b6",
         "venue": "AAAI",
         "year": 2018
        },
        {
         "arxivId": null,
         "authors": [
          {
           "authorId": "2066044",
           "name": "Junyi Li"
          },
          {
           "authorId": "2844167",
           "name": "Xiaobing Zhou"
          },
          {
           "authorId": "2461369",
           "name": "Yuhang Wu"
          },
          {
           "authorId": "35270622",
           "name": "B. Wang"
          }
         ],
         "doi": "10.18653/v1/D19-5717",
         "intent": [
          "background"
         ],
         "isInfluential": false,
         "paperId": "3439b0edd1f1164bb9252244294684bb3068a83a",
         "title": "YNU-junyi in BioNLP-OST 2019: Using CNN-LSTM Model with Embeddings for SeeDev Binary Event Extraction",
         "url": "https://www.semanticscholar.org/paper/3439b0edd1f1164bb9252244294684bb3068a83a",
         "venue": "BioNLP-OST@EMNLP-IJNCLP",
         "year": 2019
        },
        {
         "arxivId": "1908.05111",
         "authors": [
          {
           "authorId": "30671790",
           "name": "M. Abdou"
          },
          {
           "authorId": "32323216",
           "name": "C. Sas"
          },
          {
           "authorId": "19509693",
           "name": "Rahul Aralikatte"
          },
          {
           "authorId": "1736067",
           "name": "Isabelle Augenstein"
          },
          {
           "authorId": "1700187",
           "name": "Anders Søgaard"
          }
         ],
         "doi": "10.18653/v1/D19-6130",
         "intent": [
          "background"
         ],
         "isInfluential": false,
         "paperId": "82517ab6bc2ba14099d4f9bacb0e946a4ba05e3e",
         "title": "X-WikiRE: A Large, Multilingual Resource for Relation Extraction as Machine Comprehension",
         "url": "https://www.semanticscholar.org/paper/82517ab6bc2ba14099d4f9bacb0e946a4ba05e3e",
         "venue": "DeepLo@EMNLP-IJCNLP",
         "year": 2019
        },
        {
         "arxivId": null,
         "authors": [
          {
           "authorId": "1683562",
           "name": "Preslav Nakov"
          },
          {
           "authorId": "2256003",
           "name": "V. Nastase"
          },
          {
           "authorId": "1709389",
           "name": "Diarmuid Ó Séaghdha"
          },
          {
           "authorId": "1795595",
           "name": "S. Szpakowicz"
          }
         ],
         "doi": null,
         "intent": [],
         "isInfluential": false,
         "paperId": "035d7396e58cafee088a8e19ed705f810c6e0e35",
         "title": "Learning Semantic Relations from Text",
         "url": "https://www.semanticscholar.org/paper/035d7396e58cafee088a8e19ed705f810c6e0e35",
         "venue": "EMNLP 2015",
         "year": 2015
        },
        {
         "arxivId": null,
         "authors": [
          {
           "authorId": "1410228481",
           "name": "José-Lázaro Martínez-Rodríguez"
          },
          {
           "authorId": "1399158616",
           "name": "I. López-Arévalo"
          },
          {
           "authorId": "1403652408",
           "name": "Ana B. Rios-Alvarado"
          }
         ],
         "doi": "10.1016/j.eswa.2018.07.017",
         "intent": [],
         "isInfluential": false,
         "paperId": "ae1879192e568a2e58c06a11604f2349b69cdd86",
         "title": "OpenIE-based approach for Knowledge Graph construction from text",
         "url": "https://www.semanticscholar.org/paper/ae1879192e568a2e58c06a11604f2349b69cdd86",
         "venue": "Expert Syst. Appl.",
         "year": 2018
        },
        {
         "arxivId": null,
         "authors": [
          {
           "authorId": "1680484",
           "name": "K. Balog"
          }
         ],
         "doi": "10.1007/978-3-319-93935-3_6",
         "intent": [],
         "isInfluential": false,
         "paperId": "1aa5d91ed13e2befe58287a6f056174969f9defd",
         "title": "Populating Knowledge Bases",
         "url": "https://www.semanticscholar.org/paper/1aa5d91ed13e2befe58287a6f056174969f9defd",
         "venue": "",
         "year": 2018
        },
        {
         "arxivId": null,
         "authors": [
          {
           "authorId": "145201124",
           "name": "Xiang Ren"
          },
          {
           "authorId": "1398503968",
           "name": "Ahmed El-Kishky"
          },
          {
           "authorId": "93721348",
           "name": "C. Wang"
          },
          {
           "authorId": "153034701",
           "name": "Jiawei Han"
          }
         ],
         "doi": "10.1145/2783258.2789988",
         "intent": [],
         "isInfluential": false,
         "paperId": "19c1787f1720850608598223be49fcbd96e3d1d5",
         "title": "Automatic Entity Recognition and Typing from Massive Text Corpora: A Phrase and Network Mining Approach",
         "url": "https://www.semanticscholar.org/paper/19c1787f1720850608598223be49fcbd96e3d1d5",
         "venue": "KDD '15",
         "year": 2015
        },
        {
         "arxivId": null,
         "authors": [
          {
           "authorId": "1875233",
           "name": "B. Min"
          },
          {
           "authorId": "34720053",
           "name": "Shuming Shi"
          },
          {
           "authorId": "1788050",
           "name": "R. Grishman"
          },
          {
           "authorId": "1781574",
           "name": "Chin-Yew Lin"
          }
         ],
         "doi": null,
         "intent": [
          "background",
          "methodology"
         ],
         "isInfluential": true,
         "paperId": "29d9ec7e0763c8f2fd5f88c40223fe4838b7e802",
         "title": "Ensemble Semantics for Large-scale Unsupervised Relation Extraction",
         "url": "https://www.semanticscholar.org/paper/29d9ec7e0763c8f2fd5f88c40223fe4838b7e802",
         "venue": "EMNLP-CoNLL",
         "year": 2012
        },
        {
         "arxivId": null,
         "authors": [
          {
           "authorId": "1706513",
           "name": "Yafang Wang"
          },
          {
           "authorId": "2475084",
           "name": "Maximilian Dylla"
          },
          {
           "authorId": "2780667",
           "name": "Zhaochun Ren"
          },
          {
           "authorId": "3115338",
           "name": "Marc Spaniol"
          },
          {
           "authorId": "1751591",
           "name": "Gerhard Weikum"
          }
         ],
         "doi": "10.1145/2396761.2398722",
         "intent": [
          "background"
         ],
         "isInfluential": false,
         "paperId": "2d7c587d6d326b802b7e904f9616f197c1352ccc",
         "title": "PRAVDA-live: interactive knowledge harvesting",
         "url": "https://www.semanticscholar.org/paper/2d7c587d6d326b802b7e904f9616f197c1352ccc",
         "venue": "CIKM '12",
         "year": 2012
        },
        {
         "arxivId": null,
         "authors": [
          {
           "authorId": "143844991",
           "name": "F. Russo"
          },
          {
           "authorId": "50571653",
           "name": "Sebastiano Di Bella"
          },
          {
           "authorId": "1721656",
           "name": "Vincenzo Bonnici"
          },
          {
           "authorId": "35382555",
           "name": "A. Laganà"
          },
          {
           "authorId": "1884874",
           "name": "G. Rainaldi"
          },
          {
           "authorId": "1770126",
           "name": "M. Pellegrini"
          },
          {
           "authorId": "1699699",
           "name": "A. Pulvirenti"
          },
          {
           "authorId": "1719816",
           "name": "R. Giugno"
          },
          {
           "authorId": "144889780",
           "name": "A. Ferro"
          }
         ],
         "doi": "10.1186/1471-2164-15-S3-S4",
         "intent": [
          "methodology"
         ],
         "isInfluential": false,
         "paperId": "272f4be329dbb4d8fb7fb6d9d0819ee73e1e0435",
         "title": "A knowledge base for the discovery of function, diagnostic potential and drug effects on cellular and extracellular miRNAs",
         "url": "https://www.semanticscholar.org/paper/272f4be329dbb4d8fb7fb6d9d0819ee73e1e0435",
         "venue": "BMC Genomics",
         "year": 2014
        },
        {
         "arxivId": null,
         "authors": [
          {
           "authorId": "1954845",
           "name": "Shizhu He"
          },
          {
           "authorId": "2200096",
           "name": "Kang Liu"
          },
          {
           "authorId": "48378872",
           "name": "Yuanzhe Zhang"
          },
          {
           "authorId": "8540973",
           "name": "L. Xu"
          },
          {
           "authorId": "1390572170",
           "name": "Jun Zhao"
          }
         ],
         "doi": "10.3115/v1/D14-1116",
         "intent": [
          "methodology"
         ],
         "isInfluential": false,
         "paperId": "a8b90f255017220fc51fd694e9b461cec0625b2b",
         "title": "Question Answering over Linked Data Using First-order Logic",
         "url": "https://www.semanticscholar.org/paper/a8b90f255017220fc51fd694e9b461cec0625b2b",
         "venue": "EMNLP",
         "year": 2014
        },
        {
         "arxivId": null,
         "authors": [
          {
           "authorId": "11974049",
           "name": "Arnab Dutta"
          },
          {
           "authorId": "1795542",
           "name": "Christian Meilicke"
          },
          {
           "authorId": "1698459",
           "name": "H. Stuckenschmidt"
          }
         ],
         "doi": "10.1145/2736277.2741139",
         "intent": [
          "background"
         ],
         "isInfluential": false,
         "paperId": "a9129a27804bac40588cd43163eaf2bea1fffa49",
         "title": "Enriching Structured Knowledge with Open Information",
         "url": "https://www.semanticscholar.org/paper/a9129a27804bac40588cd43163eaf2bea1fffa49",
         "venue": "WWW '15",
         "year": 2015
        },
        {
         "arxivId": null,
         "authors": [
          {
           "authorId": "11121990",
           "name": "Huan Sun"
          },
          {
           "authorId": "144988795",
           "name": "Hao Ma"
          },
          {
           "authorId": "144105277",
           "name": "Wen-tau Yih"
          },
          {
           "authorId": "2927704",
           "name": "Chen-Tse Tsai"
          },
          {
           "authorId": "1726477",
           "name": "J. Liu"
          },
          {
           "authorId": "1744179",
           "name": "Ming-Wei Chang"
          }
         ],
         "doi": "10.1145/2736277.2741651",
         "intent": [
          "background"
         ],
         "isInfluential": false,
         "paperId": "0030709a26cd87b32438e5c656a2f0bffede507a",
         "title": "Open Domain Question Answering via Semantic Enrichment",
         "url": "https://www.semanticscholar.org/paper/0030709a26cd87b32438e5c656a2f0bffede507a",
         "venue": "WWW '15",
         "year": 2015
        },
        {
         "arxivId": null,
         "authors": [
          {
           "authorId": "1694892",
           "name": "Silviu Homoceanu"
          },
          {
           "authorId": "1720266",
           "name": "Wolf-Tilo Balke"
          }
         ],
         "doi": "10.1007/978-3-319-18120-2_29",
         "intent": [
          "methodology"
         ],
         "isInfluential": false,
         "paperId": "d82dafac7186b9fcdf4ad0970b22435ed5dd7696",
         "title": "A Chip Off the Old Block - Extracting Typical Attributes for Entities Based on Family Resemblance",
         "url": "https://www.semanticscholar.org/paper/d82dafac7186b9fcdf4ad0970b22435ed5dd7696",
         "venue": "DASFAA",
         "year": 2015
        },
        {
         "arxivId": null,
         "authors": [
          {
           "authorId": "3257579",
           "name": "Claudio Delli Bovi"
          },
          {
           "authorId": "10004111",
           "name": "Luca Telesca"
          },
          {
           "authorId": "1733928",
           "name": "R. Navigli"
          }
         ],
         "doi": "10.1162/tacl_a_00156",
         "intent": [
          "methodology",
          "background"
         ],
         "isInfluential": true,
         "paperId": "bc0e5717002ebec6cd82034e966dd4c90c0bff52",
         "title": "Large-Scale Information Extraction from Textual Definitions through Deep Syntactic and Semantic Analysis",
         "url": "https://www.semanticscholar.org/paper/bc0e5717002ebec6cd82034e966dd4c90c0bff52",
         "venue": "Transactions of the Association for Computational Linguistics",
         "year": 2015
        },
        {
         "arxivId": null,
         "authors": [
          {
           "authorId": "2975469",
           "name": "Martin Gleize"
          }
         ],
         "doi": null,
         "intent": [],
         "isInfluential": false,
         "paperId": "3f05f181f8a6f4eb124adc305dafff4fc9b58b0c",
         "title": "Textual Inference for Machine Comprehension",
         "url": "https://www.semanticscholar.org/paper/3f05f181f8a6f4eb124adc305dafff4fc9b58b0c",
         "venue": "",
         "year": 2016
        },
        {
         "arxivId": null,
         "authors": [
          {
           "authorId": "2368148",
           "name": "Radityo Eko Prasojo"
          }
         ],
         "doi": null,
         "intent": [
          "background"
         ],
         "isInfluential": false,
         "paperId": "59b6d25b2e69f6114646e2913005263817fdf00e",
         "title": "Entity-Relationship Extraction from Wikipedia Unstructured Text",
         "url": "https://www.semanticscholar.org/paper/59b6d25b2e69f6114646e2913005263817fdf00e",
         "venue": "DC@ISWC",
         "year": 2016
        },
        {
         "arxivId": null,
         "authors": [
          {
           "authorId": "2634811",
           "name": "Natthawut Kertkeidkachorn"
          },
          {
           "authorId": "143758327",
           "name": "Ryutaro Ichise"
          }
         ],
         "doi": "10.1007/978-3-319-59650-1_7",
         "intent": [
          "background"
         ],
         "isInfluential": false,
         "paperId": "4604f4f6f3a477c73c36b04cb15a39b44c84f559",
         "title": "Leveraging Distributed Representations of Elements in Triples for Predicate Linking",
         "url": "https://www.semanticscholar.org/paper/4604f4f6f3a477c73c36b04cb15a39b44c84f559",
         "venue": "HAIS",
         "year": 2017
        },
        {
         "arxivId": null,
         "authors": [
          {
           "authorId": "1750652",
           "name": "Jonathan Berant"
          },
          {
           "authorId": "145419642",
           "name": "Percy Liang"
          }
         ],
         "doi": "10.3115/v1/P14-1133",
         "intent": [
          "methodology"
         ],
         "isInfluential": false,
         "paperId": "3d1d42c9435b419ac928ebf7bcf4c86a460d6ef4",
         "title": "Semantic Parsing via Paraphrasing",
         "url": "https://www.semanticscholar.org/paper/3d1d42c9435b419ac928ebf7bcf4c86a460d6ef4",
         "venue": "ACL",
         "year": 2014
        },
        {
         "arxivId": null,
         "authors": [
          {
           "authorId": "144684248",
           "name": "Ashish Kulkarni"
          },
          {
           "authorId": "2653544",
           "name": "Chetana Gavankar"
          },
          {
           "authorId": "145799547",
           "name": "Ganesh Ramakrishnan"
          },
          {
           "authorId": "49317498",
           "name": "Sriram Raghavan"
          }
         ],
         "doi": "10.1109/ICTAI.2013.112",
         "intent": [
          "methodology"
         ],
         "isInfluential": false,
         "paperId": "5348f6b7c9056312f8f4c04c844ccdbca34bd5d8",
         "title": "Semi-automatic dictionary curation for domain-specific ontologies",
         "url": "https://www.semanticscholar.org/paper/5348f6b7c9056312f8f4c04c844ccdbca34bd5d8",
         "venue": "2013 IEEE 25th International Conference on Tools with Artificial Intelligence",
         "year": 2013
        },
        {
         "arxivId": "1902.00172",
         "authors": [
          {
           "authorId": "3404827",
           "name": "Shikhar Vashishth"
          },
          {
           "authorId": "2654868",
           "name": "P. Jain"
          },
          {
           "authorId": "145794450",
           "name": "P. Talukdar"
          }
         ],
         "doi": "10.1145/3178876.3186030",
         "intent": [
          "background",
          "methodology"
         ],
         "isInfluential": true,
         "paperId": "fc9a3dc93de4cfda1819bdbb40025fd501b0ed51",
         "title": "CESI: Canonicalizing Open Knowledge Bases using Embeddings and Side Information",
         "url": "https://www.semanticscholar.org/paper/fc9a3dc93de4cfda1819bdbb40025fd501b0ed51",
         "venue": "WWW",
         "year": 2018
        },
        {
         "arxivId": null,
         "authors": [
          {
           "authorId": "1724629",
           "name": "Marius Pasca"
          }
         ],
         "doi": null,
         "intent": [
          "background"
         ],
         "isInfluential": false,
         "paperId": "72f02690fb66af90701491d22ed37be956916a7c",
         "title": "Attribute Extraction from Conjectural Queries",
         "url": "https://www.semanticscholar.org/paper/72f02690fb66af90701491d22ed37be956916a7c",
         "venue": "COLING",
         "year": 2012
        },
        {
         "arxivId": null,
         "authors": [
          {
           "authorId": "11974049",
           "name": "Arnab Dutta"
          }
         ],
         "doi": "10.1145/2556195.2556202",
         "intent": [
          "background"
         ],
         "isInfluential": true,
         "paperId": "7e1d20fc1fcdc75854cfc61d1509e0b83ea14260",
         "title": "Integration of large scale knowledge bases using probabilistic graphical models",
         "url": "https://www.semanticscholar.org/paper/7e1d20fc1fcdc75854cfc61d1509e0b83ea14260",
         "venue": "WSDM '14",
         "year": 2014
        },
        {
         "arxivId": null,
         "authors": [
          {
           "authorId": "3115592",
           "name": "Ndapandula Nakashole"
          },
          {
           "authorId": "2685013",
           "name": "Tomasz Tylenda"
          },
          {
           "authorId": "1751591",
           "name": "G. Weikum"
          }
         ],
         "doi": null,
         "intent": [],
         "isInfluential": false,
         "paperId": "6629785cb5c9c96921f97e7a8c56dbe63f80d9ef",
         "title": "Fine-grained Semantic Typing of Emerging Entities",
         "url": "https://www.semanticscholar.org/paper/6629785cb5c9c96921f97e7a8c56dbe63f80d9ef",
         "venue": "ACL",
         "year": 2013
        },
        {
         "arxivId": null,
         "authors": [
          {
           "authorId": "3261233",
           "name": "Kangqi Luo"
          },
          {
           "authorId": "1910189",
           "name": "Xusheng Luo"
          },
          {
           "authorId": "1902939",
           "name": "X. Chen"
          },
          {
           "authorId": "1796651",
           "name": "K. Q. Zhu"
          }
         ],
         "doi": "10.24963/ijcai.2017/163",
         "intent": [],
         "isInfluential": false,
         "paperId": "7659b9a095f9710c85243fd1a506c62263b91a6e",
         "title": "A Data-Driven Approach to Infer Knowledge Base Representation for Natural Language Relations",
         "url": "https://www.semanticscholar.org/paper/7659b9a095f9710c85243fd1a506c62263b91a6e",
         "venue": "IJCAI",
         "year": 2017
        },
        {
         "arxivId": null,
         "authors": [
          {
           "authorId": "3459682",
           "name": "Navya Yarrabelly"
          },
          {
           "authorId": "1707849",
           "name": "Kamalakar Karlapalem"
          }
         ],
         "doi": null,
         "intent": [
          "background"
         ],
         "isInfluential": false,
         "paperId": "9b908e7b0b2fca2487d927919a38b8e7daf2a20b",
         "title": "Predictive Analytics for News Articles Using Wikipedia",
         "url": "https://www.semanticscholar.org/paper/9b908e7b0b2fca2487d927919a38b8e7daf2a20b",
         "venue": "",
         "year": 2018
        },
        {
         "arxivId": null,
         "authors": [
          {
           "authorId": "3182306",
           "name": "S. Tanaka"
          },
          {
           "authorId": "1764004",
           "name": "N. Okazaki"
          },
          {
           "authorId": "144666118",
           "name": "M. Ishizuka"
          }
         ],
         "doi": null,
         "intent": [],
         "isInfluential": false,
         "paperId": "b83237a1cf0fef38b941c94a01b0c09f957366f6",
         "title": "Acquiring and Generalizing Causal Inference Rules from Deverbal Noun Constructions",
         "url": "https://www.semanticscholar.org/paper/b83237a1cf0fef38b941c94a01b0c09f957366f6",
         "venue": "COLING",
         "year": 2012
        },
        {
         "arxivId": null,
         "authors": [
          {
           "authorId": "144727192",
           "name": "Maisa C. Duarte"
          },
          {
           "authorId": "1842532",
           "name": "Estevam R. Hruschka"
          }
         ],
         "doi": "10.1109/ISDA.2014.7066260",
         "intent": [],
         "isInfluential": false,
         "paperId": "824d0854a27ca72636b0f25b1090e7726688d988",
         "title": "How to read the web in portuguese using the never-ending language learner's principles",
         "url": "https://www.semanticscholar.org/paper/824d0854a27ca72636b0f25b1090e7726688d988",
         "venue": "2014 14th International Conference on Intelligent Systems Design and Applications",
         "year": 2014
        },
        {
         "arxivId": null,
         "authors": [
          {
           "authorId": "2170660",
           "name": "Laura Perez-Beltrachini"
          },
          {
           "authorId": "1794075",
           "name": "Claire Gardent"
          }
         ],
         "doi": null,
         "intent": [
          "background"
         ],
         "isInfluential": false,
         "paperId": "b23070d4b8dcff42759b947edc2d5ea7bbe2047e",
         "title": "Explorer Learning Embeddings to lexicalise RDF Properties",
         "url": "https://www.semanticscholar.org/paper/b23070d4b8dcff42759b947edc2d5ea7bbe2047e",
         "venue": "",
         "year": 2017
        },
        {
         "arxivId": null,
         "authors": [
          {
           "authorId": "2775917",
           "name": "C. Velazquez"
          },
          {
           "authorId": "145418766",
           "name": "Leticia C. Cagnina"
          },
          {
           "authorId": "2652846",
           "name": "M. Errecalde"
          }
         ],
         "doi": null,
         "intent": [],
         "isInfluential": false,
         "paperId": "e1f3c58d3b101ae9452a210297dd1150f056a01d",
         "title": "On the Feasibility of External Factual Support as Wikipedia's Quality Metric",
         "url": "https://www.semanticscholar.org/paper/e1f3c58d3b101ae9452a210297dd1150f056a01d",
         "venue": "Proces. del Leng. Natural",
         "year": 2017
        },
        {
         "arxivId": null,
         "authors": [
          {
           "authorId": "3083916",
           "name": "Joel Nothman"
          }
         ],
         "doi": null,
         "intent": [
          "background"
         ],
         "isInfluential": true,
         "paperId": "1d81cd696ae5d727d09995b8e32b9030d17197db",
         "title": "Grounding event references in news",
         "url": "https://www.semanticscholar.org/paper/1d81cd696ae5d727d09995b8e32b9030d17197db",
         "venue": "",
         "year": 2013
        },
        {
         "arxivId": null,
         "authors": [
          {
           "authorId": "143893991",
           "name": "Sheng Zhang"
          },
          {
           "authorId": "1800354",
           "name": "Kevin Duh"
          },
          {
           "authorId": "7536576",
           "name": "Benjamin Van Durme"
          }
         ],
         "doi": null,
         "intent": [
          "methodology",
          "background"
         ],
         "isInfluential": false,
         "paperId": "5bd7012eb3d843e0825995a36a127756fdb45b80",
         "title": "Extraction with Neural Sequence-to-Sequence Models",
         "url": "https://www.semanticscholar.org/paper/5bd7012eb3d843e0825995a36a127756fdb45b80",
         "venue": "",
         "year": 2017
        },
        {
         "arxivId": "1902.04994",
         "authors": [
          {
           "authorId": "30874888",
           "name": "Linyi Yang"
          },
          {
           "authorId": "48806230",
           "name": "Z. Zhang"
          },
          {
           "authorId": "145971894",
           "name": "Su Xiong"
          },
          {
           "authorId": "51310640",
           "name": "Lirui Wei"
          },
          {
           "authorId": "145301318",
           "name": "James Ng"
          },
          {
           "authorId": "49287715",
           "name": "L. Xu"
          },
          {
           "authorId": "1786267",
           "name": "Ruihai Dong"
          }
         ],
         "doi": "10.1109/CCIS.2018.8691233",
         "intent": [],
         "isInfluential": false,
         "paperId": "9f5b89f3eda50ac59d248518183018ee54cb5b0b",
         "title": "Explainable Text-Driven Neural Network for Stock Prediction",
         "url": "https://www.semanticscholar.org/paper/9f5b89f3eda50ac59d248518183018ee54cb5b0b",
         "venue": "2018 5th IEEE International Conference on Cloud Computing and Intelligence Systems (CCIS)",
         "year": 2018
        },
        {
         "arxivId": null,
         "authors": [
          {
           "authorId": "1967982",
           "name": "Alejandra Carolina Cardoso"
          },
          {
           "authorId": "145668175",
           "name": "M. Alicia Pérez Abelleira"
          },
          {
           "authorId": "90050052",
           "name": "Enzo Notario"
          }
         ],
         "doi": "10.33414/rtyc.33.45-64.2018",
         "intent": [],
         "isInfluential": false,
         "paperId": "515e3bbf08abfcccb9febb249a78b2e844129830",
         "title": "Búsqueda de respuestas como aplicación del problema de extracción de relaciones",
         "url": "https://www.semanticscholar.org/paper/515e3bbf08abfcccb9febb249a78b2e844129830",
         "venue": "",
         "year": 2018
        },
        {
         "arxivId": null,
         "authors": [
          {
           "authorId": "40390481",
           "name": "Tobias Falke"
          }
         ],
         "doi": null,
         "intent": [
          "background"
         ],
         "isInfluential": false,
         "paperId": "04faa03412c3a105d58e2db55ce2b3424eca51f1",
         "title": "Automatic Structured Text Summarization with Concept Maps",
         "url": "https://www.semanticscholar.org/paper/04faa03412c3a105d58e2db55ce2b3424eca51f1",
         "venue": "",
         "year": 2019
        },
        {
         "arxivId": null,
         "authors": [
          {
           "authorId": "3010546",
           "name": "Raffaele Guarasci"
          },
          {
           "authorId": "35234224",
           "name": "Emanuele Damiano"
          },
          {
           "authorId": "34806690",
           "name": "Aniello Minutolo"
          },
          {
           "authorId": "1924454",
           "name": "Massimo Esposito"
          }
         ],
         "doi": null,
         "intent": [
          "methodology"
         ],
         "isInfluential": false,
         "paperId": "de1c95c6e6a552def8278aceb509885882d1b6ad",
         "title": "When Lexicon-Grammar Meets Open Information Extraction: a Computational Experiment for Italian Sentences",
         "url": "https://www.semanticscholar.org/paper/de1c95c6e6a552def8278aceb509885882d1b6ad",
         "venue": "CLiC-it",
         "year": 2019
        },
        {
         "arxivId": "1911.03042",
         "authors": [
          {
           "authorId": "3404827",
           "name": "Shikhar Vashishth"
          }
         ],
         "doi": null,
         "intent": [
          "methodology",
          "background"
         ],
         "isInfluential": true,
         "paperId": "d0928e02cec38a39be25e6062eb9e853693ac54d",
         "title": "Neural Graph Embedding Methods for Natural Language Processing",
         "url": "https://www.semanticscholar.org/paper/d0928e02cec38a39be25e6062eb9e853693ac54d",
         "venue": "ArXiv",
         "year": 2019
        },
        {
         "arxivId": null,
         "authors": [
          {
           "authorId": "2790693",
           "name": "Stefano Faralli"
          },
          {
           "authorId": "1680706",
           "name": "I. Finocchi"
          },
          {
           "authorId": "1801255",
           "name": "Simone Paolo Ponzetto"
          },
          {
           "authorId": "1782522",
           "name": "P. Velardi"
          }
         ],
         "doi": "10.1016/J.KNOSYS.2018.03.030",
         "intent": [],
         "isInfluential": false,
         "paperId": "fc771b8738c70d20386144674b04a3556997386f",
         "title": "CrumbTrail: An efficient methodology to reduce multiple inheritance in knowledge graphs",
         "url": "https://www.semanticscholar.org/paper/fc771b8738c70d20386144674b04a3556997386f",
         "venue": "Knowl. Based Syst.",
         "year": 2018
        },
        {
         "arxivId": null,
         "authors": [
          {
           "authorId": "33219438",
           "name": "Xuchen Yao"
          },
          {
           "authorId": "7536576",
           "name": "Benjamin Van Durme"
          }
         ],
         "doi": "10.3115/v1/P14-1090",
         "intent": [
          "methodology"
         ],
         "isInfluential": true,
         "paperId": "319e572fcddff77513eed8a25effbc7d9ff8ef85",
         "title": "Information Extraction over Structured Data: Question Answering with Freebase",
         "url": "https://www.semanticscholar.org/paper/319e572fcddff77513eed8a25effbc7d9ff8ef85",
         "venue": "ACL",
         "year": 2014
        },
        {
         "arxivId": null,
         "authors": [
          {
           "authorId": "1684668",
           "name": "Alisa Zhila"
          },
          {
           "authorId": "1747784",
           "name": "Alexander Gelbukh"
          }
         ],
         "doi": "10.4067/S0718-09342016000100006",
         "intent": [
          "methodology",
          "result",
          "background"
         ],
         "isInfluential": true,
         "paperId": "de69ae09f4464e30fc78792dce1f91acea663780",
         "title": "Open Information Extraction from real Internet texts in Spanish using constraints over part-of-speech sequences: Problems of the method, their causes, and ways for improvement",
         "url": "https://www.semanticscholar.org/paper/de69ae09f4464e30fc78792dce1f91acea663780",
         "venue": "",
         "year": 2016
        },
        {
         "arxivId": null,
         "authors": [
          {
           "authorId": "47115767",
           "name": "N. Khairova"
          },
          {
           "authorId": "47732743",
           "name": "Svetlana Petrasova"
          },
          {
           "authorId": "3465125",
           "name": "Ajit Pratap Singh Gautam"
          }
         ],
         "doi": "10.1007/978-3-319-46254-7_51",
         "intent": [],
         "isInfluential": false,
         "paperId": "6dfce6a2338e1119333d7fbc8536664d4ffce807",
         "title": "The Logical-Linguistic Model of Fact Extraction from English Texts",
         "url": "https://www.semanticscholar.org/paper/6dfce6a2338e1119333d7fbc8536664d4ffce807",
         "venue": "ICIST",
         "year": 2016
        },
        {
         "arxivId": null,
         "authors": [
          {
           "authorId": "1976585",
           "name": "F. Mesquita"
          },
          {
           "authorId": "2837887",
           "name": "Jordan Schmidek"
          },
          {
           "authorId": "145690522",
           "name": "Denilson Barbosa"
          }
         ],
         "doi": null,
         "intent": [
          "background",
          "methodology"
         ],
         "isInfluential": false,
         "paperId": "a4c9384b9cffcf75213858a4b003b65e48a9331f",
         "title": "Effectiveness and Efficiency of Open Relation Extraction",
         "url": "https://www.semanticscholar.org/paper/a4c9384b9cffcf75213858a4b003b65e48a9331f",
         "venue": "EMNLP",
         "year": 2013
        },
        {
         "arxivId": null,
         "authors": [
          {
           "authorId": "1747007",
           "name": "M. Schuhmacher"
          },
          {
           "authorId": "143862204",
           "name": "Benjamin Roth"
          },
          {
           "authorId": "1801255",
           "name": "Simone Paolo Ponzetto"
          },
          {
           "authorId": "145798497",
           "name": "Laura Dietz"
          }
         ],
         "doi": "10.1007/978-3-319-30671-1_49",
         "intent": [],
         "isInfluential": false,
         "paperId": "e7a2586d6d11c5864ecda462b774b18d3ce70c60",
         "title": "Finding Relevant Relations in Relevant Documents",
         "url": "https://www.semanticscholar.org/paper/e7a2586d6d11c5864ecda462b774b18d3ce70c60",
         "venue": "ECIR",
         "year": 2016
        },
        {
         "arxivId": null,
         "authors": [
          {
           "authorId": "47286633",
           "name": "Renlong Ai"
          },
          {
           "authorId": "32632038",
           "name": "Sebastian Krause"
          },
          {
           "authorId": "144468233",
           "name": "W. Kasper"
          },
          {
           "authorId": "2724114",
           "name": "F. Xu"
          },
          {
           "authorId": "1781790",
           "name": "H. Uszkoreit"
          }
         ],
         "doi": "10.18653/v1/W15-4405",
         "intent": [
          "methodology"
         ],
         "isInfluential": false,
         "paperId": "4857121fb3f8fbcb171a275f71206a1c384d149d",
         "title": "Semi-automatic Generation of Multiple-Choice Tests from Mentions of Semantic Relations",
         "url": "https://www.semanticscholar.org/paper/4857121fb3f8fbcb171a275f71206a1c384d149d",
         "venue": "NLP-TEA@ACL/IJCNLP",
         "year": 2015
        },
        {
         "arxivId": null,
         "authors": [
          {
           "authorId": "150306139",
           "name": "Sihem Sahnoun"
          },
          {
           "authorId": "2274957",
           "name": "S. Elloumi"
          },
          {
           "authorId": "143962778",
           "name": "S. Yahia"
          }
         ],
         "doi": "10.1080/24751839.2020.1763007",
         "intent": [],
         "isInfluential": false,
         "paperId": "2067dd38199de43ada76d2cf54f483876c6845fb",
         "title": "Event detection based on open information extraction and ontology",
         "url": "https://www.semanticscholar.org/paper/2067dd38199de43ada76d2cf54f483876c6845fb",
         "venue": "J. Inf. Telecommun.",
         "year": 2020
        },
        {
         "arxivId": null,
         "authors": [
          {
           "authorId": "145787377",
           "name": "Xiao Ling"
          },
          {
           "authorId": "1780531",
           "name": "Daniel S. Weld"
          }
         ],
         "doi": null,
         "intent": [
          "background"
         ],
         "isInfluential": false,
         "paperId": "777ef98b19cac4dd83bd2318f6d29a38ea6c8294",
         "title": "Fine-Grained Entity Recognition",
         "url": "https://www.semanticscholar.org/paper/777ef98b19cac4dd83bd2318f6d29a38ea6c8294",
         "venue": "AAAI",
         "year": 2012
        },
        {
         "arxivId": null,
         "authors": [
          {
           "authorId": "82901714",
           "name": "Aman Mehta"
          },
          {
           "authorId": "119011963",
           "name": "Aashay Singhal"
          },
          {
           "authorId": "1707849",
           "name": "K. Karlapalem"
          }
         ],
         "doi": "10.1145/3308560.3317708",
         "intent": [
          "methodology"
         ],
         "isInfluential": false,
         "paperId": "0477e4f610645a276bb6222f7934738b1324c9ff",
         "title": "Scalable Knowledge Graph Construction over Text using Deep Learning based Predicate Mapping",
         "url": "https://www.semanticscholar.org/paper/0477e4f610645a276bb6222f7934738b1324c9ff",
         "venue": "WWW",
         "year": 2019
        },
        {
         "arxivId": "1811.03925",
         "authors": [
          {
           "authorId": "51055574",
           "name": "Ryuichi Takanobu"
          },
          {
           "authorId": "50615630",
           "name": "Tianyang Zhang"
          },
          {
           "authorId": "3486119",
           "name": "Jiexi Liu"
          },
          {
           "authorId": "1730108",
           "name": "Minlie Huang"
          }
         ],
         "doi": "10.1609/aaai.v33i01.33017072",
         "intent": [],
         "isInfluential": false,
         "paperId": "887f0c39d8d4e9433f0cf3316f593a0b0758a177",
         "title": "A Hierarchical Framework for Relation Extraction with Reinforcement Learning",
         "url": "https://www.semanticscholar.org/paper/887f0c39d8d4e9433f0cf3316f593a0b0758a177",
         "venue": "AAAI",
         "year": 2019
        },
        {
         "arxivId": null,
         "authors": [
          {
           "authorId": "1422217990",
           "name": "José L. Martínez-Rodríguez"
          },
          {
           "authorId": "144007515",
           "name": "A. Hogan"
          },
          {
           "authorId": "1399158616",
           "name": "I. López-Arévalo"
          }
         ],
         "doi": "10.3233/SW-180333",
         "intent": [
          "methodology"
         ],
         "isInfluential": false,
         "paperId": "ae8c331e091ba27e2671cdc63c44982b9fe66e98",
         "title": "Information extraction meets the Semantic Web: A survey",
         "url": "https://www.semanticscholar.org/paper/ae8c331e091ba27e2671cdc63c44982b9fe66e98",
         "venue": "Semantic Web",
         "year": 2020
        },
        {
         "arxivId": null,
         "authors": [
          {
           "authorId": "2848544",
           "name": "K. Adebayo"
          }
         ],
         "doi": "10.6092/UNIBO/AMSDOTTORATO/8634",
         "intent": [],
         "isInfluential": false,
         "paperId": "ca0e03e72ec76d23701dde046a662b3c625becbb",
         "title": "Multimodal Legal Information Retrieval",
         "url": "https://www.semanticscholar.org/paper/ca0e03e72ec76d23701dde046a662b3c625becbb",
         "venue": "",
         "year": 2018
        },
        {
         "arxivId": null,
         "authors": [
          {
           "authorId": "1724629",
           "name": "Marius Pasca"
          }
         ],
         "doi": "10.1145/3178876.3186025",
         "intent": [
          "background"
         ],
         "isInfluential": false,
         "paperId": "a6887762d5f75fd980b4d0a24bf727bbc1969501",
         "title": "Finding Needles in an Encyclopedic Haystack: Detecting Classes Among Wikipedia Articles",
         "url": "https://www.semanticscholar.org/paper/a6887762d5f75fd980b4d0a24bf727bbc1969501",
         "venue": "WWW",
         "year": 2018
        },
        {
         "arxivId": null,
         "authors": [
          {
           "authorId": "1724629",
           "name": "Marius Pasca"
          },
          {
           "authorId": "39852922",
           "name": "T. Wolfe"
          }
         ],
         "doi": "10.1145/3289600.3291020",
         "intent": [],
         "isInfluential": false,
         "paperId": "8a327361aa0e544ff01c7200b4a924246701727a",
         "title": "Lightweight Lexical and Semantic Evidence for Detecting Classes Among Wikipedia Articles",
         "url": "https://www.semanticscholar.org/paper/8a327361aa0e544ff01c7200b4a924246701727a",
         "venue": "WSDM",
         "year": 2019
        },
        {
         "arxivId": null,
         "authors": [
          {
           "authorId": "145403562",
           "name": "Xiaofeng Liao"
          },
          {
           "authorId": "1897259",
           "name": "Zhiming Zhao"
          }
         ],
         "doi": "10.1145/3324473",
         "intent": [
          "methodology"
         ],
         "isInfluential": false,
         "paperId": "662cf98bc0f14cc97c11e875c0ac36f6f695a312",
         "title": "Unsupervised Approaches for Textual Semantic Annotation, A Survey",
         "url": "https://www.semanticscholar.org/paper/662cf98bc0f14cc97c11e875c0ac36f6f695a312",
         "venue": "ACM Comput. Surv.",
         "year": 2019
        },
        {
         "arxivId": null,
         "authors": [
          {
           "authorId": "34762400",
           "name": "Edward Newell"
          },
          {
           "authorId": "3159752",
           "name": "J. Cheung"
          }
         ],
         "doi": null,
         "intent": [
          "methodology"
         ],
         "isInfluential": false,
         "paperId": "781e9f69c290e9c487f5e331a87b089120fc401c",
         "title": "Constructing a Lexicon of Relational Nouns",
         "url": "https://www.semanticscholar.org/paper/781e9f69c290e9c487f5e331a87b089120fc401c",
         "venue": "LREC",
         "year": 2018
        },
        {
         "arxivId": null,
         "authors": [
          {
           "authorId": "143831348",
           "name": "B. Peng"
          },
          {
           "authorId": "1679013",
           "name": "X. Zhang"
          },
          {
           "authorId": "2577617",
           "name": "Yueying He"
          },
          {
           "authorId": "1707275",
           "name": "Zhoujun Li"
          }
         ],
         "doi": "10.1109/BigComp.2018.00094",
         "intent": [
          "methodology"
         ],
         "isInfluential": false,
         "paperId": "b5d9244de066b6a5991576d326ad36cbd3c8c790",
         "title": "Attribute Extraction by Combing Feature Ranking and Sequence Labeling",
         "url": "https://www.semanticscholar.org/paper/b5d9244de066b6a5991576d326ad36cbd3c8c790",
         "venue": "2018 IEEE International Conference on Big Data and Smart Computing (BigComp)",
         "year": 2018
        },
        {
         "arxivId": null,
         "authors": [
          {
           "authorId": "24868638",
           "name": "Kiril Gashteovski"
          },
          {
           "authorId": "1777107",
           "name": "Rainer Gemulla"
          },
          {
           "authorId": "1875906",
           "name": "Luciano Del Corro"
          }
         ],
         "doi": "10.18653/v1/D17-1278",
         "intent": [
          "background",
          "methodology"
         ],
         "isInfluential": true,
         "paperId": "1e94f1f54597f7f65300712ae97035e50ff3bc9a",
         "title": "MinIE: Minimizing Facts in Open Information Extraction",
         "url": "https://www.semanticscholar.org/paper/1e94f1f54597f7f65300712ae97035e50ff3bc9a",
         "venue": "EMNLP",
         "year": 2017
        },
        {
         "arxivId": "1811.03796",
         "authors": [
          {
           "authorId": "47818709",
           "name": "Liwei Chen"
          },
          {
           "authorId": "1717629",
           "name": "Yansong Feng"
          },
          {
           "authorId": "2410938",
           "name": "Songfang Huang"
          },
          {
           "authorId": "2242463",
           "name": "Bingfeng Luo"
          },
          {
           "authorId": "144060462",
           "name": "Dongyan Zhao"
          }
         ],
         "doi": "10.1016/j.artint.2018.08.004",
         "intent": [
          "background"
         ],
         "isInfluential": false,
         "paperId": "bd3d521f8f16ad9cc3bbac112b55383d7daaaaac",
         "title": "Encoding implicit relation requirements for relation extraction: A joint inference approach",
         "url": "https://www.semanticscholar.org/paper/bd3d521f8f16ad9cc3bbac112b55383d7daaaaac",
         "venue": "Artif. Intell.",
         "year": 2018
        },
        {
         "arxivId": null,
         "authors": [
          {
           "authorId": "3482426",
           "name": "J. Kim"
          },
          {
           "authorId": "1754166",
           "name": "Sung-Hyon Myaeng"
          }
         ],
         "doi": "10.1145/2912845.2912866",
         "intent": [
          "background",
          "methodology"
         ],
         "isInfluential": true,
         "paperId": "b20673892a08276c996f083d32a11bcb3cb4fda8",
         "title": "Discovering Relations to Augment a Web-scale Knowledge Base Constructed from the Web",
         "url": "https://www.semanticscholar.org/paper/b20673892a08276c996f083d32a11bcb3cb4fda8",
         "venue": "WIMS '16",
         "year": 2016
        },
        {
         "arxivId": null,
         "authors": [
          {
           "authorId": "2880178",
           "name": "Georgios Skoumas"
          },
          {
           "authorId": "2258036",
           "name": "D. Pfoser"
          },
          {
           "authorId": "3393746",
           "name": "Anastasios Kyrillidis"
          },
          {
           "authorId": "144302930",
           "name": "T. Sellis"
          }
         ],
         "doi": "10.1145/2894745",
         "intent": [
          "methodology"
         ],
         "isInfluential": false,
         "paperId": "b112a97b8def544c75219287f120dfd74eacb42b",
         "title": "Location Estimation Using Crowdsourced Spatial Relations",
         "url": "https://www.semanticscholar.org/paper/b112a97b8def544c75219287f120dfd74eacb42b",
         "venue": "TSAS",
         "year": 2016
        },
        {
         "arxivId": null,
         "authors": [
          {
           "authorId": "144924150",
           "name": "Jing Jiang"
          }
         ],
         "doi": "10.1007/978-1-4614-3223-4_2",
         "intent": [
          "methodology"
         ],
         "isInfluential": false,
         "paperId": "af9f1eecc073bbaa38cc4fe4cd6a893528dac269",
         "title": "Information Extraction from Text",
         "url": "https://www.semanticscholar.org/paper/af9f1eecc073bbaa38cc4fe4cd6a893528dac269",
         "venue": "Mining Text Data",
         "year": 2012
        },
        {
         "arxivId": null,
         "authors": [
          {
           "authorId": "1842532",
           "name": "Estevam R. Hruschka"
          },
          {
           "authorId": "144727192",
           "name": "Maisa C. Duarte"
          },
          {
           "authorId": "38470730",
           "name": "M. Nicoletti"
          }
         ],
         "doi": "10.3233/FI-2013-824",
         "intent": [
          "methodology"
         ],
         "isInfluential": false,
         "paperId": "c33ac4f3551fb9a4f302bd3dea3902f4de788159",
         "title": "Coupling as Strategy for Reducing Concept-Drift in Never-ending Learning Environments",
         "url": "https://www.semanticscholar.org/paper/c33ac4f3551fb9a4f302bd3dea3902f4de788159",
         "venue": "Fundam. Informaticae",
         "year": 2013
        },
        {
         "arxivId": null,
         "authors": [
          {
           "authorId": "2675553",
           "name": "Sandra Collovini"
          },
          {
           "authorId": "2440212",
           "name": "Tiago Luis Bonamigo"
          },
          {
           "authorId": "153729692",
           "name": "R. Vieira"
          }
         ],
         "doi": "10.1007/s13173-013-0116-8",
         "intent": [
          "background"
         ],
         "isInfluential": false,
         "paperId": "91b6e14a29d2e3926d0a810b2ea09918833dd5fd",
         "title": "A review on Relation Extraction with an eye on Portuguese",
         "url": "https://www.semanticscholar.org/paper/91b6e14a29d2e3926d0a810b2ea09918833dd5fd",
         "venue": "Journal of the Brazilian Computer Society",
         "year": 2013
        },
        {
         "arxivId": null,
         "authors": [
          {
           "authorId": "35373727",
           "name": "Sandeep Panem"
          },
          {
           "authorId": "46722320",
           "name": "Manish Gupta"
          },
          {
           "authorId": "1704709",
           "name": "Vasudeva Varma"
          }
         ],
         "doi": "10.1145/2663792.2663794",
         "intent": [
          "background"
         ],
         "isInfluential": false,
         "paperId": "ab252be538bbbd1ee6ebe5d95b211ca3792626a3",
         "title": "Structured Information Extraction from Natural Disaster Events on Twitter",
         "url": "https://www.semanticscholar.org/paper/ab252be538bbbd1ee6ebe5d95b211ca3792626a3",
         "venue": "Web-KR '14",
         "year": 2014
        },
        {
         "arxivId": null,
         "authors": [
          {
           "authorId": "1799338",
           "name": "Congle Zhang"
          },
          {
           "authorId": "144295318",
           "name": "S. Soderland"
          },
          {
           "authorId": "1780531",
           "name": "Daniel S. Weld"
          }
         ],
         "doi": "10.1162/tacl_a_00127",
         "intent": [
          "methodology",
          "background"
         ],
         "isInfluential": false,
         "paperId": "010e148ecb7d1f20abe56710cd2f2def1c99f996",
         "title": "Exploiting Parallel News Streams for Unsupervised Event Extraction",
         "url": "https://www.semanticscholar.org/paper/010e148ecb7d1f20abe56710cd2f2def1c99f996",
         "venue": "Transactions of the Association for Computational Linguistics",
         "year": 2015
        },
        {
         "arxivId": null,
         "authors": [
          {
           "authorId": "72865231",
           "name": "Valenzuela Escárcega"
          },
          {
           "authorId": "71816236",
           "name": "Marco Antônio"
          }
         ],
         "doi": null,
         "intent": [
          "background"
         ],
         "isInfluential": false,
         "paperId": "02f5df1d4141574b5bbd4b56719b48af111e7154",
         "title": "INTERPRETABLE MODELS FOR INFORMATION EXTRACTION",
         "url": "https://www.semanticscholar.org/paper/02f5df1d4141574b5bbd4b56719b48af111e7154",
         "venue": "",
         "year": 2016
        },
        {
         "arxivId": null,
         "authors": [
          {
           "authorId": "49578767",
           "name": "Benjamin Newsom"
          },
          {
           "authorId": "2687654",
           "name": "Ranjeev Mittu"
          },
          {
           "authorId": "1759015",
           "name": "Mark A. Livingston"
          },
          {
           "authorId": "143851051",
           "name": "Stephen Russell"
          },
          {
           "authorId": "1920307",
           "name": "Jonathan W. Decker"
          },
          {
           "authorId": "40217297",
           "name": "Eric Leadbetter"
          },
          {
           "authorId": "34862423",
           "name": "Ira S. Moskowitz"
          },
          {
           "authorId": "26777591",
           "name": "Antonio Gilliam"
          },
          {
           "authorId": "25592887",
           "name": "Ciara Sibley"
          },
          {
           "authorId": "1766630",
           "name": "Joseph T. Coyne"
          },
          {
           "authorId": "1789512",
           "name": "Myriam Abramson"
          }
         ],
         "doi": "10.1007/978-3-319-28971-7_10",
         "intent": [],
         "isInfluential": false,
         "paperId": "679731edaf3ac9d9b2e0d53b5da1436099524757",
         "title": "Modeling User Behaviors to Enable Context-Aware Proactive Decision Support",
         "url": "https://www.semanticscholar.org/paper/679731edaf3ac9d9b2e0d53b5da1436099524757",
         "venue": "Context-Enhanced Information Fusion",
         "year": 2016
        },
        {
         "arxivId": null,
         "authors": [
          {
           "authorId": null,
           "name": "Isabelle Augenstein"
          },
          {
           "authorId": "2144272",
           "name": "D. Maynard"
          },
          {
           "authorId": "1758555",
           "name": "F. Ciravegna"
          }
         ],
         "doi": "10.3233/SW-150180",
         "intent": [
          "methodology",
          "background"
         ],
         "isInfluential": false,
         "paperId": "f965c0447ce22c06e8bb95bf4429d9c93be03d1d",
         "title": "Distantly supervised Web relation extraction for knowledge base population",
         "url": "https://www.semanticscholar.org/paper/f965c0447ce22c06e8bb95bf4429d9c93be03d1d",
         "venue": "Semantic Web",
         "year": 2016
        },
        {
         "arxivId": null,
         "authors": [
          {
           "authorId": "1737850",
           "name": "Xiang Li"
          },
          {
           "authorId": "2837587",
           "name": "A. Taheri"
          },
          {
           "authorId": "3376969",
           "name": "Lifu Tu"
          },
          {
           "authorId": "1700980",
           "name": "Kevin Gimpel"
          }
         ],
         "doi": "10.18653/v1/P16-1137",
         "intent": [
          "background"
         ],
         "isInfluential": false,
         "paperId": "96743201dc771df1829f061c2648fd0ee1a70e59",
         "title": "Commonsense Knowledge Base Completion",
         "url": "https://www.semanticscholar.org/paper/96743201dc771df1829f061c2648fd0ee1a70e59",
         "venue": "ACL",
         "year": 2016
        },
        {
         "arxivId": null,
         "authors": [
          {
           "authorId": "2653544",
           "name": "Chetana Gavankar"
          },
          {
           "authorId": "144684248",
           "name": "Ashish Kulkarni"
          },
          {
           "authorId": "145799547",
           "name": "Ganesh Ramakrishnan"
          }
         ],
         "doi": null,
         "intent": [],
         "isInfluential": false,
         "paperId": "ed4e3bb262a4bd02564135c7024be6df5ed0c0ed",
         "title": "Efficient Reuse of Structured and Unstructured Resources for Ontology Population",
         "url": "https://www.semanticscholar.org/paper/ed4e3bb262a4bd02564135c7024be6df5ed0c0ed",
         "venue": "LREC",
         "year": 2014
        },
        {
         "arxivId": null,
         "authors": [
          {
           "authorId": "49889487",
           "name": "Yuhao Zhang"
          },
          {
           "authorId": "3428769",
           "name": "Victor Zhong"
          },
          {
           "authorId": "50536468",
           "name": "Danqi Chen"
          },
          {
           "authorId": "32301760",
           "name": "Gabor Angeli"
          },
          {
           "authorId": "144783904",
           "name": "Christopher D. Manning"
          }
         ],
         "doi": "10.18653/v1/D17-1004",
         "intent": [
          "background"
         ],
         "isInfluential": false,
         "paperId": "400e746bc8027c4b5f915cae6123cd1775484b4d",
         "title": "Position-aware Attention and Supervised Data Improve Slot Filling",
         "url": "https://www.semanticscholar.org/paper/400e746bc8027c4b5f915cae6123cd1775484b4d",
         "venue": "EMNLP",
         "year": 2017
        },
        {
         "arxivId": "1707.07499",
         "authors": [
          {
           "authorId": "143731621",
           "name": "Rudolf Schneider"
          },
          {
           "authorId": "22193026",
           "name": "Tom Oberhauser"
          },
          {
           "authorId": "22205658",
           "name": "Tobias Klatt"
          },
          {
           "authorId": "2088368",
           "name": "F. Gers"
          },
          {
           "authorId": "3289992",
           "name": "Alexander Löser"
          }
         ],
         "doi": "10.18653/v1/W17-5402",
         "intent": [
          "background"
         ],
         "isInfluential": false,
         "paperId": "be276691aced130f58b2aeec549f32f374c84d5e",
         "title": "Analysing Errors of Open Information Extraction Systems",
         "url": "https://www.semanticscholar.org/paper/be276691aced130f58b2aeec549f32f374c84d5e",
         "venue": "ArXiv",
         "year": 2017
        },
        {
         "arxivId": null,
         "authors": [
          {
           "authorId": "32632038",
           "name": "Sebastian Krause"
          },
          {
           "authorId": "1727837",
           "name": "Enrique Alfonseca"
          },
          {
           "authorId": "3017324",
           "name": "Katja Filippova"
          },
          {
           "authorId": "2726534",
           "name": "Daniele Pighin"
          }
         ],
         "doi": "10.3115/v1/N15-1120",
         "intent": [
          "methodology",
          "background"
         ],
         "isInfluential": true,
         "paperId": "51b4ff56b0cf1905f17684a12f9f35860c2d8f4c",
         "title": "Idest: Learning a Distributed Representation for Event Patterns",
         "url": "https://www.semanticscholar.org/paper/51b4ff56b0cf1905f17684a12f9f35860c2d8f4c",
         "venue": "HLT-NAACL",
         "year": 2015
        },
        {
         "arxivId": null,
         "authors": [
          {
           "authorId": null,
           "name": "Wei Lu"
          },
          {
           "authorId": "48356012",
           "name": "Y. Huang"
          },
          {
           "authorId": "145239893",
           "name": "Yi Bu"
          },
          {
           "authorId": "2283732",
           "name": "Qikai Cheng"
          }
         ],
         "doi": "10.1007/s11192-018-2640-y",
         "intent": [
          "methodology"
         ],
         "isInfluential": false,
         "paperId": "c4ddd566d34092bdd8940924bed6c3f0a5f4b3c7",
         "title": "Functional structure identification of scientific documents in computer science",
         "url": "https://www.semanticscholar.org/paper/c4ddd566d34092bdd8940924bed6c3f0a5f4b3c7",
         "venue": "Scientometrics",
         "year": 2018
        },
        {
         "arxivId": null,
         "authors": [
          {
           "authorId": "144400492",
           "name": "Qi Zhu"
          },
          {
           "authorId": "145201124",
           "name": "Xiang Ren"
          },
          {
           "authorId": "2884976",
           "name": "Jingbo Shang"
          },
          {
           "authorId": "49891156",
           "name": "Yu Zhang"
          },
          {
           "authorId": "40027632",
           "name": "F. F. Xu"
          },
          {
           "authorId": "145325584",
           "name": "Jiawei Han"
          }
         ],
         "doi": "10.1145/3184558.3186927",
         "intent": [
          "background",
          "methodology"
         ],
         "isInfluential": false,
         "paperId": "aeccb1d53e08adcfe271d1e4b08c0a2cdc3c42b4",
         "title": "Open Information Extraction with Global Structure Constraints",
         "url": "https://www.semanticscholar.org/paper/aeccb1d53e08adcfe271d1e4b08c0a2cdc3c42b4",
         "venue": "WWW",
         "year": 2018
        },
        {
         "arxivId": null,
         "authors": [
          {
           "authorId": "1746807",
           "name": "Dan Jurafsky"
          },
          {
           "authorId": null,
           "name": "James H Martin"
          }
         ],
         "doi": null,
         "intent": [
          "methodology"
         ],
         "isInfluential": true,
         "paperId": "414e51878237465a9c8057ed18d53f0f54fdb69f",
         "title": "Speech and Language Processing. Information Extraction",
         "url": "https://www.semanticscholar.org/paper/414e51878237465a9c8057ed18d53f0f54fdb69f",
         "venue": "",
         "year": null
        },
        {
         "arxivId": null,
         "authors": [
          {
           "authorId": "2924903",
           "name": "Seyed Iman Mirrezaei"
          },
          {
           "authorId": "144694868",
           "name": "Bruno Martins"
          },
          {
           "authorId": "143682244",
           "name": "Isabel F. Cruz"
          }
         ],
         "doi": "10.1145/2996913.2996967",
         "intent": [
          "methodology"
         ],
         "isInfluential": false,
         "paperId": "95a82a67ef9c3bb85d2030b5fc50699a9325299b",
         "title": "A distantly supervised method for extracting spatio-temporal information from text",
         "url": "https://www.semanticscholar.org/paper/95a82a67ef9c3bb85d2030b5fc50699a9325299b",
         "venue": "SIGSPATIAL/GIS",
         "year": 2016
        },
        {
         "arxivId": null,
         "authors": [
          {
           "authorId": "1793299",
           "name": "Suman Roychoudhury"
          },
          {
           "authorId": "145870636",
           "name": "Vinay Kulkarni"
          },
          {
           "authorId": "2919712",
           "name": "Nikhil Bellarykar"
          }
         ],
         "doi": "10.1109/RAISE.2015.8",
         "intent": [
          "background"
         ],
         "isInfluential": false,
         "paperId": "daf3f393616f41162537009e9be2b99e35c83620",
         "title": "Mining Enterprise Models for Knowledgeable Decision Making",
         "url": "https://www.semanticscholar.org/paper/daf3f393616f41162537009e9be2b99e35c83620",
         "venue": "2015 IEEE/ACM 4th International Workshop on Realizing Artificial Intelligence Synergies in Software Engineering",
         "year": 2015
        },
        {
         "arxivId": null,
         "authors": [
          {
           "authorId": "2674444",
           "name": "Mausam"
          }
         ],
         "doi": null,
         "intent": [
          "background"
         ],
         "isInfluential": true,
         "paperId": "5873b77b3d784d9e1ea7447ddcaaa5388f16a4d4",
         "title": "Open Information Extraction Systems and Downstream Applications",
         "url": "https://www.semanticscholar.org/paper/5873b77b3d784d9e1ea7447ddcaaa5388f16a4d4",
         "venue": "IJCAI",
         "year": 2016
        },
        {
         "arxivId": null,
         "authors": [
          {
           "authorId": null,
           "name": "Rahul Gupta"
          },
          {
           "authorId": "1770962",
           "name": "A. Halevy"
          },
          {
           "authorId": "50141814",
           "name": "Xuezhi Wang"
          },
          {
           "authorId": "3288247",
           "name": "Steven Euijong Whang"
          },
          {
           "authorId": "39163977",
           "name": "F. Wu"
          }
         ],
         "doi": "10.14778/2732286.2732288",
         "intent": [],
         "isInfluential": false,
         "paperId": "b16ff58cdb496c41c76b33ea8666be050598afe8",
         "title": "Biperpedia: An Ontology for Search Applications",
         "url": "https://www.semanticscholar.org/paper/b16ff58cdb496c41c76b33ea8666be050598afe8",
         "venue": "Proc. VLDB Endow.",
         "year": 2014
        },
        {
         "arxivId": null,
         "authors": [
          {
           "authorId": "143640910",
           "name": "Fernando Gutierrez"
          },
          {
           "authorId": "1721158",
           "name": "Dejing Dou"
          },
          {
           "authorId": "40273954",
           "name": "Nisansa de Silva"
          },
          {
           "authorId": "144181288",
           "name": "Stephen Fickas"
          }
         ],
         "doi": null,
         "intent": [
          "background",
          "methodology"
         ],
         "isInfluential": true,
         "paperId": "1fbb5c3abd953e3e2280b4ff86cadd8ffc4144ab",
         "title": "Reasoning for Semantic Error Detection in Text",
         "url": "https://www.semanticscholar.org/paper/1fbb5c3abd953e3e2280b4ff86cadd8ffc4144ab",
         "venue": "",
         "year": 2017
        },
        {
         "arxivId": null,
         "authors": [
          {
           "authorId": "1405157320",
           "name": "Martha O. Perez-Arriaga"
          },
          {
           "authorId": "1762267",
           "name": "Trilce Estrada"
          },
          {
           "authorId": "1403235071",
           "name": "Soraya Abad-Mota"
          }
         ],
         "doi": "10.5220/0006436902230232",
         "intent": [
          "methodology"
         ],
         "isInfluential": true,
         "paperId": "c0d94bf82a2b4ba08c6d1b7e3bb3927eaea30cba",
         "title": "Table Interpretation and Extraction of Semantic Relationships to Synthesize Digital Documents",
         "url": "https://www.semanticscholar.org/paper/c0d94bf82a2b4ba08c6d1b7e3bb3927eaea30cba",
         "venue": "DATA",
         "year": 2017
        },
        {
         "arxivId": null,
         "authors": [
          {
           "authorId": "50580908",
           "name": "Yahui Chen"
          }
         ],
         "doi": null,
         "intent": [],
         "isInfluential": false,
         "paperId": "6d35949dac3d64ce087c54d200463b3908932832",
         "title": "Convolutional Neural Network for Sentence Classification",
         "url": "https://www.semanticscholar.org/paper/6d35949dac3d64ce087c54d200463b3908932832",
         "venue": "",
         "year": 2015
        },
        {
         "arxivId": null,
         "authors": [
          {
           "authorId": "1799338",
           "name": "Congle Zhang"
          }
         ],
         "doi": null,
         "intent": [
          "methodology",
          "background"
         ],
         "isInfluential": true,
         "paperId": "1c5bc16c8cffc3bdc6bbd49c39d98e669468e727",
         "title": "Relation Extraction: from Ontological Smoothing to Temporal Correspondence",
         "url": "https://www.semanticscholar.org/paper/1c5bc16c8cffc3bdc6bbd49c39d98e669468e727",
         "venue": "",
         "year": 2016
        },
        {
         "arxivId": null,
         "authors": [
          {
           "authorId": "32674507",
           "name": "Michael R. Wick"
          }
         ],
         "doi": null,
         "intent": [],
         "isInfluential": false,
         "paperId": "4cb9830ac28103deef302041d4c0812925abe6f9",
         "title": "Epistemological Databases and Human-Machine Cooperation for KB Construction",
         "url": "https://www.semanticscholar.org/paper/4cb9830ac28103deef302041d4c0812925abe6f9",
         "venue": "",
         "year": 2019
        },
        {
         "arxivId": null,
         "authors": [
          {
           "authorId": "40129897",
           "name": "Rafael Glauber"
          },
          {
           "authorId": "2592081",
           "name": "Daniela Barreiro Claro"
          },
          {
           "authorId": "17305190",
           "name": "Cleiton Fernando Lima Sena"
          }
         ],
         "doi": null,
         "intent": [
          "background",
          "methodology"
         ],
         "isInfluential": false,
         "paperId": "0314115869ceb1d2005ec46e2bf14ae01456db20",
         "title": "Towards a Pragmatic Open Information Extraction for Portuguese Text - ICEIS17, InferPortOIE and PragmaticOIE on IberLEF",
         "url": "https://www.semanticscholar.org/paper/0314115869ceb1d2005ec46e2bf14ae01456db20",
         "venue": "IberLEF@SEPLN",
         "year": 2019
        },
        {
         "arxivId": null,
         "authors": [
          {
           "authorId": "47125649",
           "name": "Tomer Sagi"
          },
          {
           "authorId": null,
           "name": "tsagi"
          }
         ],
         "doi": null,
         "intent": [
          "background"
         ],
         "isInfluential": false,
         "paperId": "38f8964e4199ef7424695802849354bea79a6a54",
         "title": "How New is the ( RDF ) News ? Assessing Knowledge Graph Completeness over News Feed Entities",
         "url": "https://www.semanticscholar.org/paper/38f8964e4199ef7424695802849354bea79a6a54",
         "venue": "",
         "year": 2019
        },
        {
         "arxivId": "2003.03155",
         "authors": [
          {
           "authorId": "46848170",
           "name": "Shrestha Ghosh"
          },
          {
           "authorId": "2499758",
           "name": "Simon Razniewski"
          },
          {
           "authorId": "1751591",
           "name": "G. Weikum"
          }
         ],
         "doi": "10.1016/j.websem.2020.100588",
         "intent": [
          "background"
         ],
         "isInfluential": false,
         "paperId": "c3e211a1b91a551c4d96ea26d50f4b4bf8d480a8",
         "title": "Uncovering Hidden Semantics of Set Information in Knowledge Bases",
         "url": "https://www.semanticscholar.org/paper/c3e211a1b91a551c4d96ea26d50f4b4bf8d480a8",
         "venue": "J. Web Semant.",
         "year": 2020
        },
        {
         "arxivId": null,
         "authors": [
          {
           "authorId": "49528487",
           "name": "Hong Wang"
          },
          {
           "authorId": "38696911",
           "name": "Anqi Liu"
          },
          {
           "authorId": null,
           "name": "Jing Wang"
          },
          {
           "authorId": "1753269",
           "name": "Brian D. Ziebart"
          },
          {
           "authorId": "2642131",
           "name": "C. Yu"
          },
          {
           "authorId": "34414997",
           "name": "W. Shen"
          }
         ],
         "doi": "10.1145/2808194.2809453",
         "intent": [
          "background",
          "methodology"
         ],
         "isInfluential": true,
         "paperId": "d698663a9733c4726c8e210cf06529d88dcd2626",
         "title": "Context Retrieval for Web Tables",
         "url": "https://www.semanticscholar.org/paper/d698663a9733c4726c8e210cf06529d88dcd2626",
         "venue": "ICTIR '15",
         "year": 2015
        },
        {
         "arxivId": null,
         "authors": [
          {
           "authorId": "144130746",
           "name": "Rinaldo Lima"
          }
         ],
         "doi": null,
         "intent": [],
         "isInfluential": false,
         "paperId": "296f491a575ce9a2f4acfbdac08ac6b313dc1ee6",
         "title": "Ontoilper: an ontology- and inductive logic programming-based method to extract instances of entities and relations from texts",
         "url": "https://www.semanticscholar.org/paper/296f491a575ce9a2f4acfbdac08ac6b313dc1ee6",
         "venue": "",
         "year": 2014
        },
        {
         "arxivId": null,
         "authors": [
          {
           "authorId": "3185452",
           "name": "Duc-Thuan Vo"
          },
          {
           "authorId": "145632843",
           "name": "E. Bagheri"
          }
         ],
         "doi": "10.1016/j.ipm.2017.02.009",
         "intent": [
          "background",
          "methodology"
         ],
         "isInfluential": true,
         "paperId": "599df1a14da565c220b5c143b5b145b1ff386f6c",
         "title": "Self-training on refined clause patterns for relation extraction",
         "url": "https://www.semanticscholar.org/paper/599df1a14da565c220b5c143b5b145b1ff386f6c",
         "venue": "Inf. Process. Manag.",
         "year": 2018
        },
        {
         "arxivId": "1803.00729",
         "authors": [
          {
           "authorId": "144815077",
           "name": "Y. Gong"
          },
          {
           "authorId": "1995855",
           "name": "Kaiqi Zhao"
          },
          {
           "authorId": "1796651",
           "name": "K. Q. Zhu"
          }
         ],
         "doi": null,
         "intent": [],
         "isInfluential": false,
         "paperId": "92f67be3d1cd6a6bcd9dc585acebcc9769b7674b",
         "title": "Representing Verbs as Argument Concepts",
         "url": "https://www.semanticscholar.org/paper/92f67be3d1cd6a6bcd9dc585acebcc9769b7674b",
         "venue": "AAAI",
         "year": 2016
        },
        {
         "arxivId": "2004.09601",
         "authors": [
          {
           "authorId": "40367008",
           "name": "Shadi Shahsavari"
          },
          {
           "authorId": "2313475",
           "name": "Ehsan Ebrahimzadeh"
          },
          {
           "authorId": "50155483",
           "name": "Behnam Shahbazi"
          },
          {
           "authorId": "8225707",
           "name": "Misagh Falahi"
          },
          {
           "authorId": "1645199194",
           "name": "Pavan Holur"
          },
          {
           "authorId": "1795611",
           "name": "R. Bandari"
          },
          {
           "authorId": "3338615",
           "name": "Timothy R. Tangherlini"
          },
          {
           "authorId": "1686063",
           "name": "V. Roychowdhury"
          }
         ],
         "doi": "10.1145/3394231",
         "intent": [
          "background"
         ],
         "isInfluential": false,
         "paperId": "b9d18c4995c4117f5c7d73fe2d9115b900ae275c",
         "title": "An Automated Pipeline for Character and Relationship Extraction from Readers' Literary Book Reviews on Goodreads.com",
         "url": "https://www.semanticscholar.org/paper/b9d18c4995c4117f5c7d73fe2d9115b900ae275c",
         "venue": "",
         "year": 2020
        },
        {
         "arxivId": null,
         "authors": [
          {
           "authorId": "151112226",
           "name": "Michael Färber"
          },
          {
           "authorId": "1748257",
           "name": "Achim Rettinger"
          },
          {
           "authorId": "1775662",
           "name": "A. Harth"
          }
         ],
         "doi": "10.1007/978-3-319-34129-3_18",
         "intent": [],
         "isInfluential": false,
         "paperId": "d79a19b72b58b6787f67e9b4c77dcb16d150e1fb",
         "title": "Towards Monitoring of Novel Statements in the News",
         "url": "https://www.semanticscholar.org/paper/d79a19b72b58b6787f67e9b4c77dcb16d150e1fb",
         "venue": "ESWC",
         "year": 2016
        },
        {
         "arxivId": null,
         "authors": [
          {
           "authorId": "2337815",
           "name": "Lirong Qiu"
          },
          {
           "authorId": "48212513",
           "name": "H. Zhang"
          }
         ],
         "doi": "10.1109/CSE-EUC.2017.181",
         "intent": [
          "methodology"
         ],
         "isInfluential": false,
         "paperId": "e9da10eb4347fa47e67a602ae3e9181bee8f06da",
         "title": "Review of Development and Construction of Uyghur Knowledge Graph",
         "url": "https://www.semanticscholar.org/paper/e9da10eb4347fa47e67a602ae3e9181bee8f06da",
         "venue": "22017 IEEE International Conference on Computational Science and Engineering (CSE) and IEEE International Conference on Embedded and Ubiquitous Computing (EUC)",
         "year": 2017
        },
        {
         "arxivId": null,
         "authors": [
          {
           "authorId": "1406672288",
           "name": "Henning Agt-Rickauer"
          }
         ],
         "doi": "10.14279/DEPOSITONCE-9600",
         "intent": [
          "background"
         ],
         "isInfluential": false,
         "paperId": "600992a61aa95fc0259fcee8fc327738df354424",
         "title": "Supporting domain modeling with automated knowledge acquisition and modeling recommendations",
         "url": "https://www.semanticscholar.org/paper/600992a61aa95fc0259fcee8fc327738df354424",
         "venue": "",
         "year": 2020
        },
        {
         "arxivId": null,
         "authors": [
          {
           "authorId": "1410263237",
           "name": "Rocío Aznar-Gimeno"
          },
          {
           "authorId": "1399269593",
           "name": "M. C. Rodríguez-Hernández"
          },
          {
           "authorId": "1403812506",
           "name": "R. del-Hoyo-Alonso"
          },
          {
           "authorId": "1711832",
           "name": "S. Ilarri"
          }
         ],
         "doi": "10.1145/3230599.3230604",
         "intent": [
          "background"
         ],
         "isInfluential": false,
         "paperId": "86dc8954b2d5ada80cc9bcbf038922f102cc7742",
         "title": "Towards a Structured Representation of Results in an Information Retrieval System for Public Examination Calls",
         "url": "https://www.semanticscholar.org/paper/86dc8954b2d5ada80cc9bcbf038922f102cc7742",
         "venue": "CERI '18",
         "year": 2018
        },
        {
         "arxivId": "1904.05255",
         "authors": [
          {
           "authorId": "1884766",
           "name": "Peng Shi"
          },
          {
           "authorId": "145580837",
           "name": "Jimmy Lin"
          }
         ],
         "doi": null,
         "intent": [
          "background"
         ],
         "isInfluential": false,
         "paperId": "fddbcabe0fc9be0684855ae3dd059fb525a69e5b",
         "title": "Simple BERT Models for Relation Extraction and Semantic Role Labeling",
         "url": "https://www.semanticscholar.org/paper/fddbcabe0fc9be0684855ae3dd059fb525a69e5b",
         "venue": "ArXiv",
         "year": 2019
        },
        {
         "arxivId": null,
         "authors": [
          {
           "authorId": "3371598",
           "name": "Maosheng Guo"
          },
          {
           "authorId": "41154301",
           "name": "Yu Zhang"
          },
          {
           "authorId": "7427097",
           "name": "D. Zhao"
          },
          {
           "authorId": "46999402",
           "name": "T. Liu"
          }
         ],
         "doi": "10.1016/j.neucom.2018.09.046",
         "intent": [],
         "isInfluential": false,
         "paperId": "9778a039bd99f7691d14c0be05e3992d65f361b5",
         "title": "Mining predicate-based entailment rules using deep contextual architecture",
         "url": "https://www.semanticscholar.org/paper/9778a039bd99f7691d14c0be05e3992d65f361b5",
         "venue": "Neurocomputing",
         "year": 2019
        },
        {
         "arxivId": null,
         "authors": [
          {
           "authorId": "143762153",
           "name": "Pablo Gamallo"
          },
          {
           "authorId": "144918133",
           "name": "Marcos Garcia"
          },
          {
           "authorId": "1403840072",
           "name": "Santiago Fernández-Lanza"
          }
         ],
         "doi": null,
         "intent": [
          "methodology"
         ],
         "isInfluential": false,
         "paperId": "916ac71109a4c59640ba2de167acab7276d33429",
         "title": "Dependency-Based Open Information Extraction",
         "url": "https://www.semanticscholar.org/paper/916ac71109a4c59640ba2de167acab7276d33429",
         "venue": "",
         "year": 2012
        },
        {
         "arxivId": null,
         "authors": [
          {
           "authorId": "3182432",
           "name": "Anelia Belogay"
          },
          {
           "authorId": "1912782",
           "name": "D. Karagyozov"
          },
          {
           "authorId": "1850265",
           "name": "S. Koeva"
          },
          {
           "authorId": "2735405",
           "name": "C. Vertan"
          },
          {
           "authorId": "2222278",
           "name": "A. Przepiórkowski"
          },
          {
           "authorId": "6190347",
           "name": "D. Cristea"
          },
          {
           "authorId": "1991981",
           "name": "P. Raxis"
          }
         ],
         "doi": null,
         "intent": [],
         "isInfluential": false,
         "paperId": "146fc6c62182ffd99fe20d42952483fb430e20e1",
         "title": "Harnessing NLP Techniques in the Processes of Multilingual Content Management",
         "url": "https://www.semanticscholar.org/paper/146fc6c62182ffd99fe20d42952483fb430e20e1",
         "venue": "EACL",
         "year": 2012
        },
        {
         "arxivId": null,
         "authors": [
          {
           "authorId": "143976087",
           "name": "P. Clark"
          },
          {
           "authorId": "144409545",
           "name": "P. Harrison"
          },
          {
           "authorId": "35217367",
           "name": "Niranjan Balasubramanian"
          },
          {
           "authorId": "1741101",
           "name": "Oren Etzioni"
          }
         ],
         "doi": null,
         "intent": [
          "methodology"
         ],
         "isInfluential": false,
         "paperId": "e8bf81a8f46f5584351ce53c15846955ba45f327",
         "title": "Constructing a Textual KB from a Biology TextBook",
         "url": "https://www.semanticscholar.org/paper/e8bf81a8f46f5584351ce53c15846955ba45f327",
         "venue": "AKBC-WEKEX@NAACL-HLT",
         "year": 2012
        },
        {
         "arxivId": null,
         "authors": [
          {
           "authorId": "3430078",
           "name": "Bas Sijtsma"
          }
         ],
         "doi": null,
         "intent": [],
         "isInfluential": false,
         "paperId": "6215a5e09bf929d4e958d8f28b9d91934c0149e2",
         "title": "Semi-Automatic Construction of Skeleton Concept Maps from Case Judgement Documents",
         "url": "https://www.semanticscholar.org/paper/6215a5e09bf929d4e958d8f28b9d91934c0149e2",
         "venue": "",
         "year": 2014
        },
        {
         "arxivId": null,
         "authors": [
          {
           "authorId": "1870532",
           "name": "Killian Levacher"
          }
         ],
         "doi": null,
         "intent": [],
         "isInfluential": false,
         "paperId": "0c1c85b90b05afd16f9d5c1d302201f80948f836",
         "title": "Slicepedia open corpus slicing for Adaptive Web Systems",
         "url": "https://www.semanticscholar.org/paper/0c1c85b90b05afd16f9d5c1d302201f80948f836",
         "venue": "",
         "year": 2014
        },
        {
         "arxivId": null,
         "authors": [
          {
           "authorId": "2726534",
           "name": "Daniele Pighin"
          },
          {
           "authorId": "1843943",
           "name": "Marco Cornolti"
          },
          {
           "authorId": "1727837",
           "name": "Enrique Alfonseca"
          },
          {
           "authorId": "3017324",
           "name": "Katja Filippova"
          }
         ],
         "doi": "10.3115/v1/P14-1084",
         "intent": [
          "background"
         ],
         "isInfluential": false,
         "paperId": "24596c71773143dac88c6b9e2e54f38d24fdca99",
         "title": "Modelling Events through Memory-based, Open-IE Patterns for Abstractive Summarization",
         "url": "https://www.semanticscholar.org/paper/24596c71773143dac88c6b9e2e54f38d24fdca99",
         "venue": "ACL",
         "year": 2014
        },
        {
         "arxivId": null,
         "authors": [
          {
           "authorId": "144479007",
           "name": "Yan Xu"
          },
          {
           "authorId": "47949235",
           "name": "G. Li"
          },
          {
           "authorId": "38956216",
           "name": "Lili Mou"
          },
          {
           "authorId": "3002283",
           "name": "Yangyang Lu"
          }
         ],
         "doi": "10.1142/S0218194014400099",
         "intent": [
          "background"
         ],
         "isInfluential": false,
         "paperId": "09bf596be6acc3e28c974bff771ebe887734d57c",
         "title": "Learning Non-Taxonomic Relations on Demand for Ontology Extension",
         "url": "https://www.semanticscholar.org/paper/09bf596be6acc3e28c974bff771ebe887734d57c",
         "venue": "Int. J. Softw. Eng. Knowl. Eng.",
         "year": 2014
        },
        {
         "arxivId": null,
         "authors": [
          {
           "authorId": "1724629",
           "name": "Marius Pasca"
          }
         ],
         "doi": "10.3115/v1/N15-1037",
         "intent": [
          "background"
         ],
         "isInfluential": false,
         "paperId": "5c8574d6c4499ce24442014b7f76c594a57c98dd",
         "title": "Interpreting Compound Noun Phrases Using Web Search Queries",
         "url": "https://www.semanticscholar.org/paper/5c8574d6c4499ce24442014b7f76c594a57c98dd",
         "venue": "HLT-NAACL",
         "year": 2015
        },
        {
         "arxivId": "1503.00306",
         "authors": [
          {
           "authorId": "39209236",
           "name": "R. Pochampally"
          },
          {
           "authorId": "1753537",
           "name": "A. Sarma"
          },
          {
           "authorId": "145867172",
           "name": "X. Dong"
          },
          {
           "authorId": "2283085",
           "name": "A. Meliou"
          },
          {
           "authorId": "145860176",
           "name": "D. Srivastava"
          }
         ],
         "doi": "10.1145/2588555.2593674",
         "intent": [
          "methodology"
         ],
         "isInfluential": false,
         "paperId": "b49f63f1d4876961a1825f7be0416a5e9c331e3a",
         "title": "Fusing data with correlations",
         "url": "https://www.semanticscholar.org/paper/b49f63f1d4876961a1825f7be0416a5e9c331e3a",
         "venue": "SIGMOD Conference",
         "year": 2014
        },
        {
         "arxivId": null,
         "authors": [
          {
           "authorId": "30682846",
           "name": "Lokesh Kumar Sharma"
          },
          {
           "authorId": "40204750",
           "name": "Namita Mittal"
          }
         ],
         "doi": "10.1109/ICOSC.2015.7050798",
         "intent": [],
         "isInfluential": false,
         "paperId": "a9858580a472b1abc9934b65891777f82cb9f0ba",
         "title": "Topic oriented semantic parsing",
         "url": "https://www.semanticscholar.org/paper/a9858580a472b1abc9934b65891777f82cb9f0ba",
         "venue": "Proceedings of the 2015 IEEE 9th International Conference on Semantic Computing (IEEE ICSC 2015)",
         "year": 2015
        },
        {
         "arxivId": null,
         "authors": [
          {
           "authorId": "145148348",
           "name": "Pablo Machado"
          },
          {
           "authorId": "144367912",
           "name": "Vera Lúcia Strube de Lima"
          }
         ],
         "doi": "10.17851/2237-2083.23.3.599-640",
         "intent": [],
         "isInfluential": false,
         "paperId": "720124783790d7d173652fc061086c4fe472bf02",
         "title": "Extração de relações hiponímicas em um corpus de língua portuguesa",
         "url": "https://www.semanticscholar.org/paper/720124783790d7d173652fc061086c4fe472bf02",
         "venue": "",
         "year": 2015
        },
        {
         "arxivId": null,
         "authors": [
          {
           "authorId": "2705479",
           "name": "Fatema Nafa"
          },
          {
           "authorId": "1724118",
           "name": "Javed I. Khan"
          },
          {
           "authorId": "40388070",
           "name": "Salem Othman"
          },
          {
           "authorId": "40221143",
           "name": "Amal Babour"
          }
         ],
         "doi": "10.1109/WIW.2016.013",
         "intent": [
          "methodology"
         ],
         "isInfluential": false,
         "paperId": "280cf20c007dfd3e447d8dd0ec91cc96c2350960",
         "title": "Mining Cognitive Skills Levels of Knowledge Units in Text Using Graph Tringluarity Mining",
         "url": "https://www.semanticscholar.org/paper/280cf20c007dfd3e447d8dd0ec91cc96c2350960",
         "venue": "2016 IEEE/WIC/ACM International Conference on Web Intelligence Workshops (WIW)",
         "year": 2016
        },
        {
         "arxivId": null,
         "authors": [
          {
           "authorId": "3425276",
           "name": "Prerit Jain"
          },
          {
           "authorId": "7758518",
           "name": "Haripriya Bendapudi"
          },
          {
           "authorId": "145074803",
           "name": "S. Rao"
          }
         ],
         "doi": "10.1145/2998476.2998482",
         "intent": [
          "background"
         ],
         "isInfluential": false,
         "paperId": "13fe53d8aaff8a2e298bb29a3b00675b70e4d0da",
         "title": "EEQuest: An Event Extraction and Query System",
         "url": "https://www.semanticscholar.org/paper/13fe53d8aaff8a2e298bb29a3b00675b70e4d0da",
         "venue": "ACM COMPUTE '16",
         "year": 2016
        },
        {
         "arxivId": null,
         "authors": [
          {
           "authorId": "1721518",
           "name": "Dominique Ritze"
          }
         ],
         "doi": null,
         "intent": [],
         "isInfluential": false,
         "paperId": "a0470d3a08f3720a8755d1202f12d617daf93362",
         "title": "Web-Scale Web Table to Knowledge Base Matching",
         "url": "https://www.semanticscholar.org/paper/a0470d3a08f3720a8755d1202f12d617daf93362",
         "venue": "",
         "year": 2017
        },
        {
         "arxivId": null,
         "authors": [
          {
           "authorId": "47921394",
           "name": "Ludovic Font"
          },
          {
           "authorId": "145698212",
           "name": "Amal Zouaq"
          },
          {
           "authorId": "40055057",
           "name": "Michel Gagnon"
          }
         ],
         "doi": null,
         "intent": [
          "methodology"
         ],
         "isInfluential": false,
         "paperId": "08da7f399518a7e9bbbc029e07c07ced8bc0df0f",
         "title": "Assessing and Improving Domain Knowledge Representation in DBpedia",
         "url": "https://www.semanticscholar.org/paper/08da7f399518a7e9bbbc029e07c07ced8bc0df0f",
         "venue": "Open J. Semantic Web",
         "year": 2017
        },
        {
         "arxivId": null,
         "authors": [
          {
           "authorId": "2551334",
           "name": "Chaveevan Pechsiri"
          }
         ],
         "doi": "10.1007/978-3-319-94703-7_21",
         "intent": [],
         "isInfluential": false,
         "paperId": "25dffbbef0f782ed3108982beb0c72a0b602c38e",
         "title": "Problem Content Table Construction Based on Extracting Sym-Multi-Word-Co from Texts",
         "url": "https://www.semanticscholar.org/paper/25dffbbef0f782ed3108982beb0c72a0b602c38e",
         "venue": "",
         "year": 2017
        },
        {
         "arxivId": null,
         "authors": [
          {
           "authorId": "1760944",
           "name": "M. Bronzi"
          },
          {
           "authorId": "2019339",
           "name": "Zhaochen Guo"
          },
          {
           "authorId": "1976585",
           "name": "F. Mesquita"
          },
          {
           "authorId": "145690522",
           "name": "Denilson Barbosa"
          },
          {
           "authorId": "1796590",
           "name": "P. Merialdo"
          }
         ],
         "doi": null,
         "intent": [
          "background",
          "methodology"
         ],
         "isInfluential": true,
         "paperId": "6289031bfc02be367f5e4ece81c3de97f744918c",
         "title": "Automatic Evaluation of Relation Extraction Systems on Large-scale",
         "url": "https://www.semanticscholar.org/paper/6289031bfc02be367f5e4ece81c3de97f744918c",
         "venue": "AKBC-WEKEX@NAACL-HLT",
         "year": 2012
        },
        {
         "arxivId": null,
         "authors": [
          {
           "authorId": "3043844",
           "name": "Yuki Arase"
          },
          {
           "authorId": "143849609",
           "name": "M. Zhou"
          }
         ],
         "doi": null,
         "intent": [
          "background"
         ],
         "isInfluential": false,
         "paperId": "4d1683ac3b8c45eae218e711f7a7c6d1490ee503",
         "title": "Machine Translation Detection from Monolingual Web-Text",
         "url": "https://www.semanticscholar.org/paper/4d1683ac3b8c45eae218e711f7a7c6d1490ee503",
         "venue": "ACL",
         "year": 2013
        },
        {
         "arxivId": null,
         "authors": [
          {
           "authorId": "2404722",
           "name": "A. Bhattarai"
          },
          {
           "authorId": "145154896",
           "name": "V. Rus"
          }
         ],
         "doi": null,
         "intent": [
          "methodology",
          "background"
         ],
         "isInfluential": true,
         "paperId": "a08cd1f924eaef18ba9d8e0fb86d1ffc610a64ba",
         "title": "Towards a Structured Representation of Generic Concepts and Relations in Large Text Corpora",
         "url": "https://www.semanticscholar.org/paper/a08cd1f924eaef18ba9d8e0fb86d1ffc610a64ba",
         "venue": "RANLP",
         "year": 2013
        },
        {
         "arxivId": null,
         "authors": [
          {
           "authorId": "40650147",
           "name": "Yang Chen"
          },
          {
           "authorId": "39121566",
           "name": "Sean Goldberg"
          },
          {
           "authorId": "1786275",
           "name": "D. Wang"
          },
          {
           "authorId": "3416146",
           "name": "Soumitra Siddharth Johri"
          }
         ],
         "doi": "10.1145/2882903.2882954",
         "intent": [
          "background"
         ],
         "isInfluential": false,
         "paperId": "85a2abf8411f18f249625c6b10070e69153eee29",
         "title": "Ontological Pathfinding",
         "url": "https://www.semanticscholar.org/paper/85a2abf8411f18f249625c6b10070e69153eee29",
         "venue": "SIGMOD '16",
         "year": 2016
        },
        {
         "arxivId": null,
         "authors": [
          {
           "authorId": "144295318",
           "name": "S. Soderland"
          },
          {
           "authorId": "35994491",
           "name": "Natalie Hawkins"
          },
          {
           "authorId": "47819721",
           "name": "J. Gilmer"
          },
          {
           "authorId": "1780531",
           "name": "Daniel S. Weld"
          }
         ],
         "doi": null,
         "intent": [
          "methodology"
         ],
         "isInfluential": false,
         "paperId": "0cc0a195449922503f86e45798b4e927c2499791",
         "title": "Combining Open IE and Distant Supervision for KBP Slot Filling",
         "url": "https://www.semanticscholar.org/paper/0cc0a195449922503f86e45798b4e927c2499791",
         "venue": "TAC",
         "year": 2015
        },
        {
         "arxivId": null,
         "authors": [
          {
           "authorId": "3236910",
           "name": "Gregory Katsios"
          },
          {
           "authorId": "40306284",
           "name": "Svitlana Vakulenko"
          },
          {
           "authorId": "1927081",
           "name": "Anastasia Krithara"
          },
          {
           "authorId": "4738873",
           "name": "G. Paliouras"
          }
         ],
         "doi": null,
         "intent": [
          "methodology"
         ],
         "isInfluential": false,
         "paperId": "e9bdfbda9e5ecac67ed415843c3b5c3a636b35e6",
         "title": "Towards Open Domain Event Extraction from Twitter: REVEALing Entity Relations",
         "url": "https://www.semanticscholar.org/paper/e9bdfbda9e5ecac67ed415843c3b5c3a636b35e6",
         "venue": "DeRiVE@ESWC",
         "year": 2015
        },
        {
         "arxivId": null,
         "authors": [
          {
           "authorId": "1750085",
           "name": "Zhao Liu"
          },
          {
           "authorId": "1767521",
           "name": "Xipeng Qiu"
          },
          {
           "authorId": "145767170",
           "name": "Ling Cao"
          },
          {
           "authorId": "1790227",
           "name": "Xuanjing Huang"
          }
         ],
         "doi": "10.1145/2396761.2398544",
         "intent": [
          "methodology"
         ],
         "isInfluential": false,
         "paperId": "ebc1f5ac116f55f5415240b58f89ea5482287627",
         "title": "Discovering logical knowledge for deep question answering",
         "url": "https://www.semanticscholar.org/paper/ebc1f5ac116f55f5415240b58f89ea5482287627",
         "venue": "CIKM '12",
         "year": 2012
        },
        {
         "arxivId": null,
         "authors": [
          {
           "authorId": null,
           "name": "T. E. El-Dirabya"
          },
          {
           "authorId": null,
           "name": "A. Zarlib"
          },
          {
           "authorId": null,
           "name": "M. E. El-Dariebyc"
          }
         ],
         "doi": null,
         "intent": [
          "methodology"
         ],
         "isInfluential": false,
         "paperId": "a7c60f06f91aa18ffda83e59b0da80d17df47244",
         "title": "The Automation of the Softer Side of Smart City : a Socio-Semantic Roadmap",
         "url": "https://www.semanticscholar.org/paper/a7c60f06f91aa18ffda83e59b0da80d17df47244",
         "venue": "",
         "year": null
        },
        {
         "arxivId": null,
         "authors": [
          {
           "authorId": "1918748",
           "name": "M. Syafrullah"
          }
         ],
         "doi": null,
         "intent": [
          "background",
          "methodology"
         ],
         "isInfluential": true,
         "paperId": "f29ef870ad9bdd49455d07906c73d66a77aa6705",
         "title": "Hybrid fuzzy multi-objective particle swarm optimization for taxonomy extraction",
         "url": "https://www.semanticscholar.org/paper/f29ef870ad9bdd49455d07906c73d66a77aa6705",
         "venue": "",
         "year": 2015
        },
        {
         "arxivId": null,
         "authors": [
          {
           "authorId": "17305190",
           "name": "Cleiton Fernando Lima Sena"
          },
          {
           "authorId": "2592081",
           "name": "Daniela Barreiro Claro"
          }
         ],
         "doi": "10.1007/978-3-319-99722-3_5",
         "intent": [],
         "isInfluential": false,
         "paperId": "3120b5ca9c0ae612c7af8e4d4d21f6d042b814b2",
         "title": "Pragmatic Information Extraction in Brazilian Portuguese Documents",
         "url": "https://www.semanticscholar.org/paper/3120b5ca9c0ae612c7af8e4d4d21f6d042b814b2",
         "venue": "PROPOR",
         "year": 2018
        },
        {
         "arxivId": null,
         "authors": [
          {
           "authorId": "1741101",
           "name": "Oren Etzioni"
          },
          {
           "authorId": "38087946",
           "name": "Anthony Fader"
          },
          {
           "authorId": "35837717",
           "name": "J. Christensen"
          },
          {
           "authorId": "144295318",
           "name": "S. Soderland"
          },
          {
           "authorId": "2674444",
           "name": "Mausam"
          }
         ],
         "doi": "10.5591/978-1-57735-516-8/IJCAI11-012",
         "intent": [
          "methodology",
          "result"
         ],
         "isInfluential": false,
         "paperId": "75ae36f8f3462588a498c4159d05793e77c378a3",
         "title": "Open Information Extraction: The Second Generation",
         "url": "https://www.semanticscholar.org/paper/75ae36f8f3462588a498c4159d05793e77c378a3",
         "venue": "IJCAI",
         "year": 2011
        },
        {
         "arxivId": null,
         "authors": [
          {
           "authorId": "3185452",
           "name": "Duc-Thuan Vo"
          },
          {
           "authorId": "1398013762",
           "name": "F. Al-Obeidat"
          },
          {
           "authorId": "1684650",
           "name": "E. Bagheri"
          }
         ],
         "doi": "10.1016/j.ipm.2020.102319",
         "intent": [
          "background",
          "methodology"
         ],
         "isInfluential": true,
         "paperId": "7302763feb033b426c47de1ee95120997b303170",
         "title": "Extracting temporal and causal relations based on event networks",
         "url": "https://www.semanticscholar.org/paper/7302763feb033b426c47de1ee95120997b303170",
         "venue": "Inf. Process. Manag.",
         "year": 2020
        },
        {
         "arxivId": null,
         "authors": [
          {
           "authorId": "145246866",
           "name": "Chen Liang"
          },
          {
           "authorId": "31517985",
           "name": "Z. Wu"
          },
          {
           "authorId": "1869202",
           "name": "W. Huang"
          },
          {
           "authorId": "145157784",
           "name": "C. Lee Giles"
          }
         ],
         "doi": "10.18653/v1/D15-1193",
         "intent": [
          "background"
         ],
         "isInfluential": false,
         "paperId": "e626e53adaf80109486563a98b87dc21f0652318",
         "title": "Measuring Prerequisite Relations Among Concepts",
         "url": "https://www.semanticscholar.org/paper/e626e53adaf80109486563a98b87dc21f0652318",
         "venue": "EMNLP",
         "year": 2015
        },
        {
         "arxivId": null,
         "authors": [
          {
           "authorId": "47185625",
           "name": "F. Liu"
          },
          {
           "authorId": "1614038854",
           "name": "Yang Liu"
          },
          {
           "authorId": "143652253",
           "name": "G. Zhou"
          },
          {
           "authorId": "49600007",
           "name": "Kang Liu"
          },
          {
           "authorId": "1390572170",
           "name": "Jun Zhao"
          }
         ],
         "doi": "10.1109/ACPR.2013.55",
         "intent": [
          "background",
          "methodology"
         ],
         "isInfluential": true,
         "paperId": "dd7004f732411ba0c57fbfe24cdc3dcbace953f9",
         "title": "Determining Relation Semantics by Mapping Relation Phrases to Knowledge Base",
         "url": "https://www.semanticscholar.org/paper/dd7004f732411ba0c57fbfe24cdc3dcbace953f9",
         "venue": "2013 2nd IAPR Asian Conference on Pattern Recognition",
         "year": 2013
        },
        {
         "arxivId": null,
         "authors": [
          {
           "authorId": "1768735749",
           "name": "Raana Saheb-Nassagh"
          },
          {
           "authorId": "34868353",
           "name": "M. Asgari"
          },
          {
           "authorId": "1403320509",
           "name": "B. Minaei-Bidgoli"
          }
         ],
         "doi": "10.1109/ICWR49608.2020.9122301",
         "intent": [
          "background"
         ],
         "isInfluential": false,
         "paperId": "6375ecfc1265e990b1b06aee961bf3e37fa51f48",
         "title": "RePersian:An Efficient Open Information Extraction Tool in Persian",
         "url": "https://www.semanticscholar.org/paper/6375ecfc1265e990b1b06aee961bf3e37fa51f48",
         "venue": "2020 6th International Conference on Web Research (ICWR)",
         "year": 2020
        },
        {
         "arxivId": null,
         "authors": [
          {
           "authorId": "150164718",
           "name": "Jialong Tang"
          },
          {
           "authorId": "1831434",
           "name": "Yaojie Lu"
          },
          {
           "authorId": "48444897",
           "name": "Hongyu Lin"
          },
          {
           "authorId": "3194601",
           "name": "Xianpei Han"
          },
          {
           "authorId": "49755025",
           "name": "L. Sun"
          },
          {
           "authorId": "27707387",
           "name": "X. Xiao"
          },
          {
           "authorId": "2004659997",
           "name": "Hua Wu"
          }
         ],
         "doi": null,
         "intent": [
          "methodology",
          "background"
         ],
         "isInfluential": true,
         "paperId": "907c85e143c5ad500a18402e931999f1acd4a37f",
         "title": "Syntactic and Semantic-driven Learning for Open Information Extraction",
         "url": "https://www.semanticscholar.org/paper/907c85e143c5ad500a18402e931999f1acd4a37f",
         "venue": "EMNLP",
         "year": 2020
        },
        {
         "arxivId": "1909.05367",
         "authors": [
          {
           "authorId": "35251916",
           "name": "Marco Maggini"
          },
          {
           "authorId": "144748254",
           "name": "G. Marra"
          },
          {
           "authorId": "1760309",
           "name": "S. Melacci"
          },
          {
           "authorId": "9921263",
           "name": "Andrea Zugarini"
          }
         ],
         "doi": "10.1109/TNNLS.2019.2955597",
         "intent": [
          "background"
         ],
         "isInfluential": false,
         "paperId": "2784c465abf35fd8415542e74d6f22247cf447e4",
         "title": "Learning in Text Streams: Discovery and Disambiguation of Entity and Relation Instances",
         "url": "https://www.semanticscholar.org/paper/2784c465abf35fd8415542e74d6f22247cf447e4",
         "venue": "IEEE Transactions on Neural Networks and Learning Systems",
         "year": 2020
        },
        {
         "arxivId": "1809.04267",
         "authors": [
          {
           "authorId": "18657463",
           "name": "Yibo Sun"
          },
          {
           "authorId": "51223794",
           "name": "Daya Guo"
          },
          {
           "authorId": "39483833",
           "name": "Duyu Tang"
          },
          {
           "authorId": "29943965",
           "name": "Nan Duan"
          },
          {
           "authorId": "144667269",
           "name": "Zhao Yan"
          },
          {
           "authorId": "2674998",
           "name": "X. Feng"
          },
          {
           "authorId": "152277111",
           "name": "B. Qin"
          }
         ],
         "doi": null,
         "intent": [
          "methodology"
         ],
         "isInfluential": true,
         "paperId": "08556cd89dbdf5ab9a2c03ccd1dc0a7e996f0370",
         "title": "Knowledge Based Machine Reading Comprehension",
         "url": "https://www.semanticscholar.org/paper/08556cd89dbdf5ab9a2c03ccd1dc0a7e996f0370",
         "venue": "ArXiv",
         "year": 2018
        },
        {
         "arxivId": "2006.09610",
         "authors": [
          {
           "authorId": "26888084",
           "name": "Tianwen Jiang"
          },
          {
           "authorId": "1453006595",
           "name": "Tong Zhao"
          },
          {
           "authorId": "152277111",
           "name": "B. Qin"
          },
          {
           "authorId": "152244126",
           "name": "Ting Liu"
          },
          {
           "authorId": "144539424",
           "name": "Nitesh V. Chawla"
          },
          {
           "authorId": "1470716407",
           "name": "Meng Jiang"
          }
         ],
         "doi": null,
         "intent": [],
         "isInfluential": false,
         "paperId": "464b8113d788a2c916fcecd57ff81d8ef5125e07",
         "title": "Canonicalizing Open Knowledge Bases with Multi-Layered Meta-Graph Neural Network",
         "url": "https://www.semanticscholar.org/paper/464b8113d788a2c916fcecd57ff81d8ef5125e07",
         "venue": "ArXiv",
         "year": 2020
        },
        {
         "arxivId": null,
         "authors": [
          {
           "authorId": "1721540",
           "name": "F. Cerutti"
          },
          {
           "authorId": "39505328",
           "name": "T. Norman"
          },
          {
           "authorId": "4680590",
           "name": "A. Toniolo"
          },
          {
           "authorId": "3097680",
           "name": "S. Middleton"
          }
         ],
         "doi": "10.3233/978-1-61499-906-5-269",
         "intent": [
          "methodology"
         ],
         "isInfluential": false,
         "paperId": "341018b460b7befb1f4493bab5a8a1031a6d26a2",
         "title": "CISpaces.org: From Fact Extraction to Report Generation",
         "url": "https://www.semanticscholar.org/paper/341018b460b7befb1f4493bab5a8a1031a6d26a2",
         "venue": "COMMA",
         "year": 2018
        },
        {
         "arxivId": null,
         "authors": [
          {
           "authorId": "2149322",
           "name": "R. Reinanda"
          },
          {
           "authorId": "1811015",
           "name": "E. Meij"
          },
          {
           "authorId": "102305059",
           "name": "M. D. Rijke"
          }
         ],
         "doi": "10.1561/1500000063",
         "intent": [
          "background"
         ],
         "isInfluential": false,
         "paperId": "3b354076eb7196bce4a9926211f1ecb2aa6a1658",
         "title": "Knowledge Graphs: An Information Retrieval Perspective",
         "url": "https://www.semanticscholar.org/paper/3b354076eb7196bce4a9926211f1ecb2aa6a1658",
         "venue": "Found. Trends Inf. Retr.",
         "year": 2020
        },
        {
         "arxivId": null,
         "authors": [
          {
           "authorId": "1694279",
           "name": "D. Embley"
          },
          {
           "authorId": "1742211",
           "name": "S. W. Liddle"
          },
          {
           "authorId": "1730612",
           "name": "Deryle W. Lonsdale"
          },
          {
           "authorId": "2459390",
           "name": "S. Woodfield"
          }
         ],
         "doi": "10.18417/EMISA.SI.HCM.12",
         "intent": [],
         "isInfluential": false,
         "paperId": "edab768c963568a4a6150e9216172bb00915c65f",
         "title": "Ontological Document Reading: An Experience Report",
         "url": "https://www.semanticscholar.org/paper/edab768c963568a4a6150e9216172bb00915c65f",
         "venue": "Enterp. Model. Inf. Syst. Archit. Int. J. Concept. Model.",
         "year": 2018
        },
        {
         "arxivId": "1906.01393",
         "authors": [
          {
           "authorId": "49772110",
           "name": "Martin Schmitt"
          },
          {
           "authorId": "144418438",
           "name": "Hinrich Schütze"
          }
         ],
         "doi": "10.18653/v1/P19-1086",
         "intent": [
          "background"
         ],
         "isInfluential": false,
         "paperId": "832be79a6d98ca75984796647fd69ae4e5f36154",
         "title": "SherLIiC: A Typed Event-Focused Lexical Inference Benchmark for Evaluating Natural Language Inference",
         "url": "https://www.semanticscholar.org/paper/832be79a6d98ca75984796647fd69ae4e5f36154",
         "venue": "ACL",
         "year": 2019
        },
        {
         "arxivId": null,
         "authors": [
          {
           "authorId": "3772785",
           "name": "T. D. Melo"
          },
          {
           "authorId": "1690426",
           "name": "A. Silva"
          },
          {
           "authorId": "1733769",
           "name": "E. Moura"
          },
          {
           "authorId": "51898207",
           "name": "P. Calado"
          }
         ],
         "doi": "10.1016/J.IPM.2019.01.004",
         "intent": [],
         "isInfluential": false,
         "paperId": "664d01b05fa4a8fdc32f6c5e021edf18269592f8",
         "title": "OpinionLink: Leveraging user opinions for product catalog enrichment",
         "url": "https://www.semanticscholar.org/paper/664d01b05fa4a8fdc32f6c5e021edf18269592f8",
         "venue": "Inf. Process. Manag.",
         "year": 2019
        },
        {
         "arxivId": null,
         "authors": [
          {
           "authorId": "7727360",
           "name": "Ganchimeg Lkhagvasuren"
          },
          {
           "authorId": "151445029",
           "name": "Javkhlan Rentsendorj"
          }
         ],
         "doi": "10.1007/978-981-13-9710-3_31",
         "intent": [],
         "isInfluential": false,
         "paperId": "96e820e8118aa0a48496027243deba9c0fa50d1f",
         "title": "Open Information Extraction for Mongolian Language",
         "url": "https://www.semanticscholar.org/paper/96e820e8118aa0a48496027243deba9c0fa50d1f",
         "venue": "",
         "year": 2020
        },
        {
         "arxivId": null,
         "authors": [
          {
           "authorId": "5072734",
           "name": "Wentao Wu"
          },
          {
           "authorId": "1730603",
           "name": "H. Li"
          },
          {
           "authorId": "1745000",
           "name": "H. Wang"
          },
          {
           "authorId": "1796651",
           "name": "K. Q. Zhu"
          }
         ],
         "doi": "10.1109/ICDE.2017.10",
         "intent": [],
         "isInfluential": false,
         "paperId": "df0e12d1fd186d15b34389985dfaec7ba19998ae",
         "title": "Semantic Bootstrapping: A Theoretical Perspective",
         "url": "https://www.semanticscholar.org/paper/df0e12d1fd186d15b34389985dfaec7ba19998ae",
         "venue": "IEEE Transactions on Knowledge and Data Engineering",
         "year": 2017
        },
        {
         "arxivId": null,
         "authors": [
          {
           "authorId": "2685013",
           "name": "Tomasz Tylenda"
          }
         ],
         "doi": "10.22028/D291-26620",
         "intent": [
          "background",
          "methodology"
         ],
         "isInfluential": false,
         "paperId": "0481c445ac88dcf011f6c17cda6c683dbecf50b8",
         "title": "Methods and tools for summarization of entities and facts in knowledge bases",
         "url": "https://www.semanticscholar.org/paper/0481c445ac88dcf011f6c17cda6c683dbecf50b8",
         "venue": "",
         "year": 2015
        },
        {
         "arxivId": null,
         "authors": [
          {
           "authorId": "1840487",
           "name": "Omar El Idrissi"
          },
          {
           "authorId": "2040835",
           "name": "Bouchra Frikh"
          },
          {
           "authorId": "1819670",
           "name": "Brahim Ouhbi"
          }
         ],
         "doi": "10.1007/978-3-319-52758-1_19",
         "intent": [],
         "isInfluential": false,
         "paperId": "83bf36ae28f9e6730898fe6445dd43abeb6f0e1e",
         "title": "OntologyLine: A New Framework for Learning Non-taxonomic Relations of Domain Ontology",
         "url": "https://www.semanticscholar.org/paper/83bf36ae28f9e6730898fe6445dd43abeb6f0e1e",
         "venue": "IC3K",
         "year": 2015
        },
        {
         "arxivId": null,
         "authors": [
          {
           "authorId": "2814289",
           "name": "Paramita Mirza"
          },
          {
           "authorId": "2499758",
           "name": "Simon Razniewski"
          },
          {
           "authorId": "1806700",
           "name": "W. Nutt"
          }
         ],
         "doi": null,
         "intent": [
          "methodology"
         ],
         "isInfluential": false,
         "paperId": "fc2bd2a6fea40bb8a5fe97ab515730e137dcbcf3",
         "title": "Expanding Wikidata's Parenthood Information by 178%, or How To Mine Relation Cardinality Information",
         "url": "https://www.semanticscholar.org/paper/fc2bd2a6fea40bb8a5fe97ab515730e137dcbcf3",
         "venue": "International Semantic Web Conference",
         "year": 2016
        },
        {
         "arxivId": null,
         "authors": [
          {
           "authorId": "11974049",
           "name": "Arnab Dutta"
          }
         ],
         "doi": null,
         "intent": [],
         "isInfluential": false,
         "paperId": "128c718ee2ecbb1a1b9fc20e8a60f87f5131b18e",
         "title": "Automated Knowledge Base Extension Using Open Information",
         "url": "https://www.semanticscholar.org/paper/128c718ee2ecbb1a1b9fc20e8a60f87f5131b18e",
         "venue": "",
         "year": 2016
        },
        {
         "arxivId": "1605.02916",
         "authors": [
          {
           "authorId": "3407704",
           "name": "Pawel Lozinski"
          },
          {
           "authorId": "2472804",
           "name": "Dariusz Czerski"
          },
          {
           "authorId": "1801445",
           "name": "Mieczysław A. Kłopotek"
          }
         ],
         "doi": "10.15439/2016F391",
         "intent": [
          "methodology"
         ],
         "isInfluential": true,
         "paperId": "e9723b3f2b8c84ff4e9434ad43f195259ccafc04",
         "title": "Grammatical case based IS-A relation extraction with boosting for Polish",
         "url": "https://www.semanticscholar.org/paper/e9723b3f2b8c84ff4e9434ad43f195259ccafc04",
         "venue": "2016 Federated Conference on Computer Science and Information Systems (FedCSIS)",
         "year": 2016
        },
        {
         "arxivId": null,
         "authors": [
          {
           "authorId": "3185452",
           "name": "Duc-Thuan Vo"
          },
          {
           "authorId": "145632843",
           "name": "Ebrahim Bagheri"
          }
         ],
         "doi": "10.1007/978-3-319-57351-9_28",
         "intent": [],
         "isInfluential": false,
         "paperId": "ba65a2a999eca43120d059049de846a85f9726c3",
         "title": "Matrix Models with Feature Enrichment for Relation Extraction",
         "url": "https://www.semanticscholar.org/paper/ba65a2a999eca43120d059049de846a85f9726c3",
         "venue": "Canadian Conference on AI",
         "year": 2017
        },
        {
         "arxivId": null,
         "authors": [
          {
           "authorId": "1409249154",
           "name": "Ignacio Arroyo-Fernández"
          },
          {
           "authorId": "1403616824",
           "name": "Ivan Vladimir Meza Ruiz"
          }
         ],
         "doi": "10.18653/v1/S17-2031",
         "intent": [
          "methodology"
         ],
         "isInfluential": false,
         "paperId": "a640fb4a11fc767f4bf801f7a7320b92efc807d3",
         "title": "LIPN-IIMAS at SemEval-2017 Task 1: Subword Embeddings, Attention Recurrent Neural Networks and Cross Word Alignment for Semantic Textual Similarity",
         "url": "https://www.semanticscholar.org/paper/a640fb4a11fc767f4bf801f7a7320b92efc807d3",
         "venue": "SemEval@ACL",
         "year": 2017
        },
        {
         "arxivId": null,
         "authors": [
          {
           "authorId": "2626599",
           "name": "Henning Wachsmuth"
          },
          {
           "authorId": "153487874",
           "name": "Mirko Rose"
          },
          {
           "authorId": "145168617",
           "name": "G. Engels"
          }
         ],
         "doi": "10.1007/978-3-642-37247-6_4",
         "intent": [
          "methodology"
         ],
         "isInfluential": false,
         "paperId": "f0b8ae88e4c56184fecaa473c3c5215d6881b166",
         "title": "Automatic Pipeline Construction for Real-Time Annotation",
         "url": "https://www.semanticscholar.org/paper/f0b8ae88e4c56184fecaa473c3c5215d6881b166",
         "venue": "CICLing",
         "year": 2013
        },
        {
         "arxivId": null,
         "authors": [
          {
           "authorId": "1936883",
           "name": "H. Bast"
          },
          {
           "authorId": "2692638",
           "name": "Elmar Haussmann"
          }
         ],
         "doi": "10.1109/ICSC.2013.36",
         "intent": [
          "methodology",
          "background"
         ],
         "isInfluential": true,
         "paperId": "f505dfe7296c695708c6ea2d3e2eb1ecc58f1b9a",
         "title": "Open Information Extraction via Contextual Sentence Decomposition",
         "url": "https://www.semanticscholar.org/paper/f505dfe7296c695708c6ea2d3e2eb1ecc58f1b9a",
         "venue": "2013 IEEE Seventh International Conference on Semantic Computing",
         "year": 2013
        },
        {
         "arxivId": null,
         "authors": [
          {
           "authorId": "40902530",
           "name": "Pham Quang Nhat Minh"
          },
          {
           "authorId": "1789308",
           "name": "Minh Le Nguyen"
          },
          {
           "authorId": "34694610",
           "name": "A. Shimazu"
          }
         ],
         "doi": null,
         "intent": [
          "methodology"
         ],
         "isInfluential": true,
         "paperId": "8b964c5528d688ae58b4bbe1d04239171098d26c",
         "title": "Using Shallow Semantic Parsing and Relation Extraction for Finding Contradiction in Text",
         "url": "https://www.semanticscholar.org/paper/8b964c5528d688ae58b4bbe1d04239171098d26c",
         "venue": "IJCNLP",
         "year": 2013
        },
        {
         "arxivId": null,
         "authors": [
          {
           "authorId": "1988504",
           "name": "Iñaki Bildosola"
          },
          {
           "authorId": "1411392955",
           "name": "René Lezama-Nicolás"
          },
          {
           "authorId": "2597631",
           "name": "Rosa María Río-Belver"
          },
          {
           "authorId": "1407942016",
           "name": "Marisela Rodríguez-Salvador"
          }
         ],
         "doi": "10.29007/jwdc",
         "intent": [
          "methodology"
         ],
         "isInfluential": false,
         "paperId": "c3506f167166a783254b5839943c6441e283b300",
         "title": "Technology Roadmapping of Emerging Technologies: Scientometrics, Time Series Analysis and SAO-based Approach",
         "url": "https://www.semanticscholar.org/paper/c3506f167166a783254b5839943c6441e283b300",
         "venue": "",
         "year": 2018
        },
        {
         "arxivId": null,
         "authors": [
          {
           "authorId": "1776064",
           "name": "Cheikh Kacfah Emani"
          },
          {
           "authorId": "143924526",
           "name": "C. Silva"
          },
          {
           "authorId": "1724451",
           "name": "B. Fiés"
          },
          {
           "authorId": "71300895",
           "name": "P. Ghodous"
          }
         ],
         "doi": null,
         "intent": [],
         "isInfluential": false,
         "paperId": "f89b428fda17ba2b54cc74893d7ed9bbfbf69a4e",
         "title": "Improving Open Information Extraction Using Domain Knowledge",
         "url": "https://www.semanticscholar.org/paper/f89b428fda17ba2b54cc74893d7ed9bbfbf69a4e",
         "venue": "SDSW@ISWC",
         "year": 2014
        },
        {
         "arxivId": null,
         "authors": [
          {
           "authorId": "144254699",
           "name": "Jianwei Niu"
          },
          {
           "authorId": "2035334",
           "name": "Qingjuan Zhao"
          },
          {
           "authorId": "49681377",
           "name": "L. Wang"
          },
          {
           "authorId": "10993830",
           "name": "Huan Chen"
          },
          {
           "authorId": "69997866",
           "name": "Mohammed Atiquzzaman"
          },
          {
           "authorId": "36846055",
           "name": "F. Peng"
          }
         ],
         "doi": "10.1109/GLOCOM.2016.7842073",
         "intent": [
          "background"
         ],
         "isInfluential": false,
         "paperId": "c30f76e08c9682e230dc59b62a7d4affd03e0b9d",
         "title": "OnSeS: A Novel Online Short Text Summarization Based on BM25 and Neural Network",
         "url": "https://www.semanticscholar.org/paper/c30f76e08c9682e230dc59b62a7d4affd03e0b9d",
         "venue": "2016 IEEE Global Communications Conference (GLOBECOM)",
         "year": 2016
        },
        {
         "arxivId": null,
         "authors": [
          {
           "authorId": "145787377",
           "name": "Xiao Ling"
          }
         ],
         "doi": null,
         "intent": [
          "background"
         ],
         "isInfluential": false,
         "paperId": "5a14c18456fce3f7b418d848a1a589789c0aa691",
         "title": "Entity Analysis with Weak Supervision: Typing, Linking, and Attribute Extraction",
         "url": "https://www.semanticscholar.org/paper/5a14c18456fce3f7b418d848a1a589789c0aa691",
         "venue": "",
         "year": 2015
        },
        {
         "arxivId": null,
         "authors": [
          {
           "authorId": "40650147",
           "name": "Yang Chen"
          },
          {
           "authorId": "145187070",
           "name": "Xiaofeng Zhou"
          },
          {
           "authorId": "46258763",
           "name": "Kun Li"
          },
          {
           "authorId": "1786275",
           "name": "D. Wang"
          }
         ],
         "doi": "10.1145/3137586.3137592",
         "intent": [
          "background",
          "methodology"
         ],
         "isInfluential": true,
         "paperId": "c2730dec60145d9a723b1f1eb083c87af42088fa",
         "title": "Archimedes: Efficient Query Processing over Probabilistic Knowledge Bases",
         "url": "https://www.semanticscholar.org/paper/c2730dec60145d9a723b1f1eb083c87af42088fa",
         "venue": "SGMD",
         "year": 2017
        },
        {
         "arxivId": null,
         "authors": [
          {
           "authorId": "144813939",
           "name": "Pablo Barrio"
          },
          {
           "authorId": "143976871",
           "name": "Gonçalo Simões"
          },
          {
           "authorId": "2540160",
           "name": "H. Galhardas"
          }
         ],
         "doi": null,
         "intent": [
          "background"
         ],
         "isInfluential": false,
         "paperId": "2b95fd0a27c4e157c97df3e12d18c268dfd08fc1",
         "title": "REEL : A Relation Extraction Learning Framework — INESC-ID",
         "url": "https://www.semanticscholar.org/paper/2b95fd0a27c4e157c97df3e12d18c268dfd08fc1",
         "venue": "",
         "year": 2014
        },
        {
         "arxivId": "1811.01237",
         "authors": [
          {
           "authorId": "145323487",
           "name": "J. Feng"
          },
          {
           "authorId": "1730108",
           "name": "Minlie Huang"
          },
          {
           "authorId": "3459500",
           "name": "Yijie Zhang"
          },
          {
           "authorId": "144757965",
           "name": "Y. Yang"
          },
          {
           "authorId": "145213540",
           "name": "Xiaoyan Zhu"
          }
         ],
         "doi": null,
         "intent": [],
         "isInfluential": false,
         "paperId": "d38235a812ac41ac583259ede58e664d0bba9c2f",
         "title": "Relation Mention Extraction from Noisy Data with Hierarchical Reinforcement Learning",
         "url": "https://www.semanticscholar.org/paper/d38235a812ac41ac583259ede58e664d0bba9c2f",
         "venue": "ArXiv",
         "year": 2018
        },
        {
         "arxivId": null,
         "authors": [
          {
           "authorId": "3441985",
           "name": "Hessel Haagsma"
          }
         ],
         "doi": null,
         "intent": [],
         "isInfluential": false,
         "paperId": "3623cf7267263cef2a0bfbf9b04b10fee7851ade",
         "title": "The 54th Annual Meeting of the Association for Computational Linguistics",
         "url": "https://www.semanticscholar.org/paper/3623cf7267263cef2a0bfbf9b04b10fee7851ade",
         "venue": "ACL 2016",
         "year": 2016
        },
        {
         "arxivId": null,
         "authors": [
          {
           "authorId": "1409972269",
           "name": "Qi Zhu"
          },
          {
           "authorId": "145201124",
           "name": "Xiang Ren"
          },
          {
           "authorId": "2884976",
           "name": "Jingbo Shang"
          },
          {
           "authorId": "145954570",
           "name": "Yu Zhang"
          },
          {
           "authorId": "1398503968",
           "name": "Ahmed El-Kishky"
          },
          {
           "authorId": "122203801",
           "name": "J. Han"
          }
         ],
         "doi": null,
         "intent": [
          "methodology",
          "background"
         ],
         "isInfluential": false,
         "paperId": "3b5beb37dfec42143478f7e583c2517bfbdebcee",
         "title": "Corpus Local Consistent Extraction Global Cohesiveness Error Pruning Head Entity Predicate Tail Entity Cohesiveness",
         "url": "https://www.semanticscholar.org/paper/3b5beb37dfec42143478f7e583c2517bfbdebcee",
         "venue": "",
         "year": 2018
        },
        {
         "arxivId": null,
         "authors": [
          {
           "authorId": "1491181728",
           "name": "Senja Pollak"
          },
          {
           "authorId": "51339704",
           "name": "Andraz Repar"
          },
          {
           "authorId": "22684661",
           "name": "Matej Martinc"
          },
          {
           "authorId": "2007528",
           "name": "V. Podpecan"
          }
         ],
         "doi": null,
         "intent": [
          "methodology",
          "background"
         ],
         "isInfluential": true,
         "paperId": "a6f97ac9c9f96552f0629c06ec4ceef1a71e223c",
         "title": "Karst Exploration: Extracting Terms and Definitions from Karst Domain Corpus",
         "url": "https://www.semanticscholar.org/paper/a6f97ac9c9f96552f0629c06ec4ceef1a71e223c",
         "venue": "",
         "year": 2019
        },
        {
         "arxivId": null,
         "authors": [
          {
           "authorId": "3115592",
           "name": "Ndapandula Nakashole"
          },
          {
           "authorId": "1751591",
           "name": "G. Weikum"
          },
          {
           "authorId": "1679784",
           "name": "Fabian M. Suchanek"
          }
         ],
         "doi": "10.14778/2367502.2367553",
         "intent": [],
         "isInfluential": true,
         "paperId": "16c3cddf96ffef350c5402e770fc39fcba1a7429",
         "title": "Discovering and Exploring Relations on the Web",
         "url": "https://www.semanticscholar.org/paper/16c3cddf96ffef350c5402e770fc39fcba1a7429",
         "venue": "Proc. VLDB Endow.",
         "year": 2012
        },
        {
         "arxivId": null,
         "authors": [
          {
           "authorId": "1875906",
           "name": "Luciano Del Corro"
          }
         ],
         "doi": "10.22028/D291-26641",
         "intent": [],
         "isInfluential": false,
         "paperId": "3afc8190029c83627e0f4dadca67d422261d2616",
         "title": "Methods for open information extraction and sense disambiguation on natural language text",
         "url": "https://www.semanticscholar.org/paper/3afc8190029c83627e0f4dadca67d422261d2616",
         "venue": "",
         "year": 2015
        },
        {
         "arxivId": "1710.04117",
         "authors": [
          {
           "authorId": "2742670",
           "name": "N. Madaan"
          },
          {
           "authorId": "145640180",
           "name": "Sameep Mehta"
          },
          {
           "authorId": "27582872",
           "name": "Taneea S. Agrawaal"
          },
          {
           "authorId": "37175498",
           "name": "Vrinda Malhotra"
          },
          {
           "authorId": "1852505",
           "name": "A. Aggarwal"
          },
          {
           "authorId": "47351986",
           "name": "M. Saxena"
          }
         ],
         "doi": null,
         "intent": [],
         "isInfluential": false,
         "paperId": "418e9d33de1eafa6bf6366d7196971bb022d4944",
         "title": "Analyzing Gender Stereotyping in Bollywood Movies",
         "url": "https://www.semanticscholar.org/paper/418e9d33de1eafa6bf6366d7196971bb022d4944",
         "venue": "ArXiv",
         "year": 2017
        },
        {
         "arxivId": null,
         "authors": [
          {
           "authorId": "1764321",
           "name": "D. Mladenic"
          },
          {
           "authorId": "1775954",
           "name": "M. Grobelnik"
          },
          {
           "authorId": "1800870",
           "name": "B. Fortuna"
          },
          {
           "authorId": "143856186",
           "name": "D. Rusu"
          }
         ],
         "doi": "10.1145/2254129.2254138",
         "intent": [],
         "isInfluential": false,
         "paperId": "04f61779ddff161c850421806be18156e304f003",
         "title": "Text stream processing",
         "url": "https://www.semanticscholar.org/paper/04f61779ddff161c850421806be18156e304f003",
         "venue": "WIMS '12",
         "year": 2012
        },
        {
         "arxivId": null,
         "authors": [
          {
           "authorId": "49365084",
           "name": "Kata Gábor"
          },
          {
           "authorId": "1714589",
           "name": "Haïfa Zargayouna"
          },
          {
           "authorId": "1740298",
           "name": "I. Tellier"
          },
          {
           "authorId": "1721059",
           "name": "D. Buscaldi"
          },
          {
           "authorId": "1983431",
           "name": "Thierry Charnois"
          }
         ],
         "doi": "10.1007/978-3-319-46349-0_21",
         "intent": [
          "background"
         ],
         "isInfluential": false,
         "paperId": "78535a42697d9d257f45ce7b99473b82d528c26f",
         "title": "Unsupervised Relation Extraction in Specialized Corpora Using Sequence Mining",
         "url": "https://www.semanticscholar.org/paper/78535a42697d9d257f45ce7b99473b82d528c26f",
         "venue": "IDA",
         "year": 2016
        },
        {
         "arxivId": null,
         "authors": [
          {
           "authorId": "70636649",
           "name": "Vahideh Reshadat"
          },
          {
           "authorId": "118697900",
           "name": "Maryam Hoorali"
          },
          {
           "authorId": "3054779",
           "name": "H. Faili"
          }
         ],
         "doi": "10.4036/IIS.2016.R.03",
         "intent": [],
         "isInfluential": false,
         "paperId": "71b656b27923181095e3bf4d32d41c1ad1ea15e9",
         "title": "A Hybrid Method for Open Information Extraction Based on Shallow and Deep Linguistic Analysis",
         "url": "https://www.semanticscholar.org/paper/71b656b27923181095e3bf4d32d41c1ad1ea15e9",
         "venue": "",
         "year": 2016
        },
        {
         "arxivId": null,
         "authors": [
          {
           "authorId": "2144605",
           "name": "J. Lee"
          },
          {
           "authorId": "39686815",
           "name": "Mei-chun Liu"
          },
          {
           "authorId": "81727208",
           "name": "T. Cai"
          }
         ],
         "doi": null,
         "intent": [
          "background"
         ],
         "isInfluential": false,
         "paperId": "acf613fdcf024100e2668844a656c7afd21505b5",
         "title": "Using Verb Frames for Text Difficulty Assessment",
         "url": "https://www.semanticscholar.org/paper/acf613fdcf024100e2668844a656c7afd21505b5",
         "venue": "FRAMENET",
         "year": 2020
        },
        {
         "arxivId": null,
         "authors": [],
         "doi": null,
         "intent": [
          "methodology"
         ],
         "isInfluential": false,
         "paperId": "42a1e72b10eb7011ee630ddaa3c00fc5eeaac2aa",
         "title": "Interactive Factual Knowledge Learning in Dialogues",
         "url": "https://www.semanticscholar.org/paper/42a1e72b10eb7011ee630ddaa3c00fc5eeaac2aa",
         "venue": "",
         "year": 2020
        },
        {
         "arxivId": "2011.04372",
         "authors": [
          {
           "authorId": "2428180",
           "name": "Farhad Nooralahzadeh"
          }
         ],
         "doi": null,
         "intent": [],
         "isInfluential": false,
         "paperId": "f1ee77cb3164c8841c5c0cb516003756f0716e08",
         "title": "Low-Resource Adaptation of Neural NLP Models",
         "url": "https://www.semanticscholar.org/paper/f1ee77cb3164c8841c5c0cb516003756f0716e08",
         "venue": "ArXiv",
         "year": 2020
        },
        {
         "arxivId": null,
         "authors": [
          {
           "authorId": "30053596",
           "name": "Abhilasha Sancheti"
          },
          {
           "authorId": "50813447",
           "name": "Paridhi Maheshwari"
          },
          {
           "authorId": "50819565",
           "name": "R. Chaturvedi"
          },
          {
           "authorId": "50830383",
           "name": "Anish V. Monsy"
          },
          {
           "authorId": "9531287",
           "name": "Tanya Goyal"
          },
          {
           "authorId": "2881425",
           "name": "Balaji Vasan Srinivasan"
          }
         ],
         "doi": "10.1007/978-3-319-93037-4_25",
         "intent": [],
         "isInfluential": false,
         "paperId": "8b0870db86f591b309562618651955805fce088a",
         "title": "Harvesting Knowledge from Cultural Heritage Artifacts in Museums of India",
         "url": "https://www.semanticscholar.org/paper/8b0870db86f591b309562618651955805fce088a",
         "venue": "PAKDD",
         "year": 2018
        },
        {
         "arxivId": "1708.00416",
         "authors": [
          {
           "authorId": "2662374",
           "name": "João Sedoc"
          },
          {
           "authorId": "2129412",
           "name": "D. Wijaya"
          },
          {
           "authorId": "3188285",
           "name": "M. Rouhizadeh"
          },
          {
           "authorId": "39629330",
           "name": "A. Schwartz"
          },
          {
           "authorId": null,
           "name": "Lyle H. Ungar"
          }
         ],
         "doi": null,
         "intent": [
          "methodology"
         ],
         "isInfluential": false,
         "paperId": "4fd136b900807120af9b75bbd71b88eb20ed5a88",
         "title": "Deriving Verb Predicates By Clustering Verbs with Arguments",
         "url": "https://www.semanticscholar.org/paper/4fd136b900807120af9b75bbd71b88eb20ed5a88",
         "venue": "ArXiv",
         "year": 2017
        },
        {
         "arxivId": null,
         "authors": [
          {
           "authorId": "2183105",
           "name": "Itsumi Saito"
          },
          {
           "authorId": "2963420",
           "name": "Kyosuke Nishida"
          },
          {
           "authorId": "3242018",
           "name": "H. Asano"
          },
          {
           "authorId": "2559027",
           "name": "J. Tomita"
          }
         ],
         "doi": "10.18653/v1/K18-1014",
         "intent": [
          "background"
         ],
         "isInfluential": false,
         "paperId": "572644e10fc3bdbb31ab391511abfd6ff0ea5cee",
         "title": "Commonsense Knowledge Base Completion and Generation",
         "url": "https://www.semanticscholar.org/paper/572644e10fc3bdbb31ab391511abfd6ff0ea5cee",
         "venue": "CoNLL",
         "year": 2018
        },
        {
         "arxivId": null,
         "authors": [
          {
           "authorId": "48934999",
           "name": "Chaowei Zhang"
          },
          {
           "authorId": "144165187",
           "name": "A. Gupta"
          },
          {
           "authorId": "83533832",
           "name": "Christian Kauten"
          },
          {
           "authorId": "2271681",
           "name": "A. Deokar"
          },
          {
           "authorId": "143892907",
           "name": "X. Qin"
          }
         ],
         "doi": "10.1016/J.EJOR.2019.06.022",
         "intent": [],
         "isInfluential": false,
         "paperId": "a53c98f66a995b34b1041df1ecc393a074cccb69",
         "title": "Detecting fake news for reducing misinformation risks using analytics approaches",
         "url": "https://www.semanticscholar.org/paper/a53c98f66a995b34b1041df1ecc393a074cccb69",
         "venue": "Eur. J. Oper. Res.",
         "year": 2019
        },
        {
         "arxivId": "1904.12535",
         "authors": [
          {
           "authorId": "46611108",
           "name": "Mingming Sun"
          },
          {
           "authorId": "39952501",
           "name": "X. Li"
          },
          {
           "authorId": null,
           "name": "Xin Wang"
          },
          {
           "authorId": "145104988",
           "name": "Miao Fan"
          },
          {
           "authorId": "46749493",
           "name": "Y. Feng"
          },
          {
           "authorId": "144785135",
           "name": "P. Li"
          }
         ],
         "doi": "10.1145/3159652.3159712",
         "intent": [
          "methodology",
          "background"
         ],
         "isInfluential": false,
         "paperId": "9485a249366b8a07fb7c83ce0f597fb15e4edd3d",
         "title": "Logician: A Unified End-to-End Neural Approach for Open-Domain Information Extraction",
         "url": "https://www.semanticscholar.org/paper/9485a249366b8a07fb7c83ce0f597fb15e4edd3d",
         "venue": "WSDM",
         "year": 2018
        },
        {
         "arxivId": null,
         "authors": [
          {
           "authorId": "2681499",
           "name": "Sarath Kumar Kondreddi"
          },
          {
           "authorId": "1732298",
           "name": "P. Triantafillou"
          },
          {
           "authorId": "1751591",
           "name": "G. Weikum"
          }
         ],
         "doi": "10.1109/ICDE.2014.6816717",
         "intent": [
          "background",
          "result"
         ],
         "isInfluential": true,
         "paperId": "4b3f139cef0645924bc5077a7acf016e2e21d77d",
         "title": "Combining information extraction and human computing for crowdsourced knowledge acquisition",
         "url": "https://www.semanticscholar.org/paper/4b3f139cef0645924bc5077a7acf016e2e21d77d",
         "venue": "2014 IEEE 30th International Conference on Data Engineering",
         "year": 2014
        },
        {
         "arxivId": null,
         "authors": [
          {
           "authorId": "2675553",
           "name": "Sandra Collovini"
          },
          {
           "authorId": "47624151",
           "name": "P. Gonçalves"
          },
          {
           "authorId": "51131395",
           "name": "Guilherme Cavalheiro"
          },
          {
           "authorId": "144772206",
           "name": "J. Santos"
          },
          {
           "authorId": "153729692",
           "name": "R. Vieira"
          }
         ],
         "doi": "10.1007/978-3-030-41505-1_24",
         "intent": [],
         "isInfluential": false,
         "paperId": "8b30e5c304e5a9f1d5a690b0afddef639aa4d4c3",
         "title": "Relation Extraction for Competitive Intelligence",
         "url": "https://www.semanticscholar.org/paper/8b30e5c304e5a9f1d5a690b0afddef639aa4d4c3",
         "venue": "PROPOR",
         "year": 2020
        },
        {
         "arxivId": "1707.07265",
         "authors": [
          {
           "authorId": "33544449",
           "name": "S. Takase"
          },
          {
           "authorId": "1764004",
           "name": "N. Okazaki"
          },
          {
           "authorId": "3040648",
           "name": "Kentaro Inui"
          }
         ],
         "doi": "10.18653/v1/P16-1215",
         "intent": [
          "methodology"
         ],
         "isInfluential": false,
         "paperId": "7a371fb3935931a94bf8e26aae4b25e9bbcc7e29",
         "title": "Composing Distributed Representations of Relational Patterns",
         "url": "https://www.semanticscholar.org/paper/7a371fb3935931a94bf8e26aae4b25e9bbcc7e29",
         "venue": "ACL",
         "year": 2016
        },
        {
         "arxivId": null,
         "authors": [
          {
           "authorId": "123017598",
           "name": "J. Hernandez"
          },
          {
           "authorId": "1399158616",
           "name": "I. López-Arévalo"
          },
          {
           "authorId": "1410228481",
           "name": "José-Lázaro Martínez-Rodríguez"
          },
          {
           "authorId": "1410230083",
           "name": "Edwyn Aldana-Bobadilla"
          }
         ],
         "doi": "10.1007/978-3-030-05918-7_4",
         "intent": [],
         "isInfluential": false,
         "paperId": "4ab0cf2c8e16bc96a1b56e564a9b0a77e92cc345",
         "title": "From Open Information Extraction to Semantic Web: A Context Rule-Based Strategy",
         "url": "https://www.semanticscholar.org/paper/4ab0cf2c8e16bc96a1b56e564a9b0a77e92cc345",
         "venue": "MIKE",
         "year": 2018
        },
        {
         "arxivId": "1901.10879",
         "authors": [
          {
           "authorId": "65983310",
           "name": "Junlang Zhan"
          },
          {
           "authorId": "47941144",
           "name": "Hai Zhao"
          }
         ],
         "doi": "10.1609/AAAI.V34I05.6497",
         "intent": [],
         "isInfluential": false,
         "paperId": "139c7273c2173dd18f476424d7cb55ac7d711098",
         "title": "Span Model for Open Information Extraction on Accurate Corpus",
         "url": "https://www.semanticscholar.org/paper/139c7273c2173dd18f476424d7cb55ac7d711098",
         "venue": "AAAI",
         "year": 2020
        },
        {
         "arxivId": null,
         "authors": [
          {
           "authorId": "46676244",
           "name": "Haojie Huang"
          },
          {
           "authorId": "2877050",
           "name": "R. Wong"
          }
         ],
         "doi": "10.1145/3290688.3290710",
         "intent": [
          "methodology"
         ],
         "isInfluential": false,
         "paperId": "b0b246b4b8b374265f4e8a99c07224ca5789dfac",
         "title": "Web Service based Intelligent Search on Legal Documents",
         "url": "https://www.semanticscholar.org/paper/b0b246b4b8b374265f4e8a99c07224ca5789dfac",
         "venue": "ACSW",
         "year": 2019
        },
        {
         "arxivId": null,
         "authors": [
          {
           "authorId": "65786779",
           "name": "Nadège Lechevrel"
          },
          {
           "authorId": "49365084",
           "name": "Kata Gábor"
          },
          {
           "authorId": "1740298",
           "name": "I. Tellier"
          },
          {
           "authorId": "1983431",
           "name": "Thierry Charnois"
          },
          {
           "authorId": "1714589",
           "name": "Haïfa Zargayouna"
          },
          {
           "authorId": "1721059",
           "name": "D. Buscaldi"
          }
         ],
         "doi": null,
         "intent": [],
         "isInfluential": false,
         "paperId": "3961b5d740fcb0a54ef10dcf3f41f18576840acb",
         "title": "Combining Syntactic and Sequential Patterns for Unsupervised Semantic Relation Extraction.",
         "url": "https://www.semanticscholar.org/paper/3961b5d740fcb0a54ef10dcf3f41f18576840acb",
         "venue": "",
         "year": 2017
        },
        {
         "arxivId": null,
         "authors": [
          {
           "authorId": "3091174",
           "name": "Kaustubh Beedkar"
          },
          {
           "authorId": "1777107",
           "name": "Rainer Gemulla"
          },
          {
           "authorId": "144352362",
           "name": "W. Martens"
          }
         ],
         "doi": "10.1145/3321486",
         "intent": [
          "background",
          "methodology"
         ],
         "isInfluential": true,
         "paperId": "daa1a5f45c1ca7985f5678cd66cd31714f6735e6",
         "title": "A Unified Framework for Frequent Sequence Mining with Subsequence Constraints",
         "url": "https://www.semanticscholar.org/paper/daa1a5f45c1ca7985f5678cd66cd31714f6735e6",
         "venue": "ACM Trans. Database Syst.",
         "year": 2019
        },
        {
         "arxivId": "2004.13845",
         "authors": [
          {
           "authorId": "10225537",
           "name": "Yannis Papanikolaou"
          },
          {
           "authorId": "2993424",
           "name": "A. Pierleoni"
          }
         ],
         "doi": null,
         "intent": [
          "background"
         ],
         "isInfluential": false,
         "paperId": "1ed7cad908eebfc3d3807f8f5f1bc47103da2578",
         "title": "DARE: Data Augmented Relation Extraction with GPT-2",
         "url": "https://www.semanticscholar.org/paper/1ed7cad908eebfc3d3807f8f5f1bc47103da2578",
         "venue": "ArXiv",
         "year": 2020
        },
        {
         "arxivId": "1710.07891",
         "authors": [
          {
           "authorId": "1766706",
           "name": "X. Hu"
          },
          {
           "authorId": "27534679",
           "name": "Yingting Yao"
          },
          {
           "authorId": "143879613",
           "name": "L. Ye"
          },
          {
           "authorId": "70023465",
           "name": "Depeng Dang"
          }
         ],
         "doi": "10.1016/j.ins.2018.04.042",
         "intent": [
          "methodology"
         ],
         "isInfluential": false,
         "paperId": "cc4a4f6032d77f5f14a127ad2fac38f2ddc80d91",
         "title": "Natural Language Aggregate Query over RDF Data",
         "url": "https://www.semanticscholar.org/paper/cc4a4f6032d77f5f14a127ad2fac38f2ddc80d91",
         "venue": "Inf. Sci.",
         "year": 2018
        },
        {
         "arxivId": null,
         "authors": [
          {
           "authorId": "1721168",
           "name": "Niket Tandon"
          },
          {
           "authorId": "144608002",
           "name": "Gerard de Melo"
          },
          {
           "authorId": "1679784",
           "name": "Fabian M. Suchanek"
          },
          {
           "authorId": "1751591",
           "name": "G. Weikum"
          }
         ],
         "doi": "10.1145/2556195.2556245",
         "intent": [
          "background"
         ],
         "isInfluential": false,
         "paperId": "50f09e348000af6553cda10da3f6e7e3ae175bc1",
         "title": "WebChild: harvesting and organizing commonsense knowledge from the web",
         "url": "https://www.semanticscholar.org/paper/50f09e348000af6553cda10da3f6e7e3ae175bc1",
         "venue": "WSDM '14",
         "year": 2014
        },
        {
         "arxivId": null,
         "authors": [
          {
           "authorId": "20959754",
           "name": "K. Cui"
          },
          {
           "authorId": "1749477",
           "name": "Pengjie Ren"
          },
          {
           "authorId": "1721165",
           "name": "Zhumin Chen"
          },
          {
           "authorId": "144889776",
           "name": "Tao Lian"
          },
          {
           "authorId": "35729719",
           "name": "J. Ma"
          }
         ],
         "doi": "10.1007/s11390-017-1762-7",
         "intent": [
          "background"
         ],
         "isInfluential": false,
         "paperId": "635e386ddb49eee1a16af602faedcfd4703a7c6e",
         "title": "Relation Enhanced Neural Model for Type Classification of Entity Mentions with a Fine-Grained Taxonomy",
         "url": "https://www.semanticscholar.org/paper/635e386ddb49eee1a16af602faedcfd4703a7c6e",
         "venue": "Journal of Computer Science and Technology",
         "year": 2017
        },
        {
         "arxivId": null,
         "authors": [
          {
           "authorId": "35217367",
           "name": "Niranjan Balasubramanian"
          },
          {
           "authorId": "144295318",
           "name": "S. Soderland"
          },
          {
           "authorId": "2674444",
           "name": "Mausam"
          },
          {
           "authorId": "1741101",
           "name": "Oren Etzioni"
          }
         ],
         "doi": null,
         "intent": [
          "methodology"
         ],
         "isInfluential": false,
         "paperId": "f38f98a149e5a8b292bed8ddb0ed846b173ebe26",
         "title": "Rel-grams: A Probabilistic Model of Relations in Text",
         "url": "https://www.semanticscholar.org/paper/f38f98a149e5a8b292bed8ddb0ed846b173ebe26",
         "venue": "AKBC-WEKEX@NAACL-HLT",
         "year": 2012
        },
        {
         "arxivId": null,
         "authors": [
          {
           "authorId": "32781138",
           "name": "J. Opitz"
          },
          {
           "authorId": "120673239",
           "name": "Leo Born"
          },
          {
           "authorId": "2256003",
           "name": "V. Nastase"
          }
         ],
         "doi": null,
         "intent": [
          "background"
         ],
         "isInfluential": false,
         "paperId": "4c88522ca0562860b7b5dd5e96ba5387315201c5",
         "title": "Induction of a Large-Scale Knowledge Graph from the Regesta Imperii",
         "url": "https://www.semanticscholar.org/paper/4c88522ca0562860b7b5dd5e96ba5387315201c5",
         "venue": "LaTeCH@COLING",
         "year": 2018
        },
        {
         "arxivId": null,
         "authors": [
          {
           "authorId": "3435258",
           "name": "Manar Alohaly"
          },
          {
           "authorId": "1718305",
           "name": "H. Takabi"
          },
          {
           "authorId": "145186180",
           "name": "Eduardo Blanco"
          }
         ],
         "doi": "10.1007/978-3-030-22312-0_8",
         "intent": [],
         "isInfluential": false,
         "paperId": "16aa7ba83cb3427cd81ce404d8d38a610ab266f1",
         "title": "Towards an Automated Extraction of ABAC Constraints from Natural Language Policies",
         "url": "https://www.semanticscholar.org/paper/16aa7ba83cb3427cd81ce404d8d38a610ab266f1",
         "venue": "SEC",
         "year": 2019
        },
        {
         "arxivId": null,
         "authors": [
          {
           "authorId": "1770962",
           "name": "A. Halevy"
          },
          {
           "authorId": "1791431",
           "name": "Natasha Noy"
          },
          {
           "authorId": "1770124",
           "name": "Sunita Sarawagi"
          },
          {
           "authorId": "3288247",
           "name": "Steven Euijong Whang"
          },
          {
           "authorId": "15644550",
           "name": "X. Yu"
          }
         ],
         "doi": "10.1145/2872427.2882975",
         "intent": [
          "background"
         ],
         "isInfluential": false,
         "paperId": "23e4844f33adaf2e26195ffc2a7514a2e45fd33d",
         "title": "Discovering Structure in the Universe of Attribute Names",
         "url": "https://www.semanticscholar.org/paper/23e4844f33adaf2e26195ffc2a7514a2e45fd33d",
         "venue": "WWW",
         "year": 2016
        },
        {
         "arxivId": null,
         "authors": [
          {
           "authorId": "3470231",
           "name": "Liangming Pan"
          },
          {
           "authorId": "6255905",
           "name": "C. Li"
          },
          {
           "authorId": "8549842",
           "name": "Juan-Zi Li"
          },
          {
           "authorId": "46199760",
           "name": "J. Tang"
          }
         ],
         "doi": "10.18653/v1/P17-1133",
         "intent": [],
         "isInfluential": false,
         "paperId": "5fe89b00b5e41520e2acec78a101e474f54c1903",
         "title": "Prerequisite Relation Learning for Concepts in MOOCs",
         "url": "https://www.semanticscholar.org/paper/5fe89b00b5e41520e2acec78a101e474f54c1903",
         "venue": "ACL",
         "year": 2017
        },
        {
         "arxivId": null,
         "authors": [
          {
           "authorId": "144739109",
           "name": "Thomas Lin"
          },
          {
           "authorId": "2674444",
           "name": "Mausam"
          },
          {
           "authorId": "1741101",
           "name": "Oren Etzioni"
          }
         ],
         "doi": null,
         "intent": [],
         "isInfluential": false,
         "paperId": "fc88dbb1459e1a757f808c374cbd61abb2b84db3",
         "title": "Identifying Functional Relations in Web Text",
         "url": "https://www.semanticscholar.org/paper/fc88dbb1459e1a757f808c374cbd61abb2b84db3",
         "venue": "EMNLP",
         "year": 2010
        },
        {
         "arxivId": null,
         "authors": [
          {
           "authorId": "40130996",
           "name": "Y. Tseng"
          },
          {
           "authorId": "1856962",
           "name": "Lung-Hao Lee"
          },
          {
           "authorId": "2134138",
           "name": "S. Lin"
          },
          {
           "authorId": "3229384",
           "name": "Bo-Shun Liao"
          },
          {
           "authorId": "49353835",
           "name": "Mei-Jun Liu"
          },
          {
           "authorId": "1748891",
           "name": "H. Chen"
          },
          {
           "authorId": "1741101",
           "name": "Oren Etzioni"
          },
          {
           "authorId": "38087946",
           "name": "Anthony Fader"
          }
         ],
         "doi": "10.3115/v1/E14-4003",
         "intent": [
          "background",
          "methodology"
         ],
         "isInfluential": false,
         "paperId": "63da33e250e57a09dfe21545782d2ec6249bd62f",
         "title": "Chinese Open Relation Extraction for Knowledge Acquisition",
         "url": "https://www.semanticscholar.org/paper/63da33e250e57a09dfe21545782d2ec6249bd62f",
         "venue": "EACL",
         "year": 2014
        },
        {
         "arxivId": "1506.02075",
         "authors": [
          {
           "authorId": "1713934",
           "name": "Antoine Bordes"
          },
          {
           "authorId": "1746841",
           "name": "Nicolas Usunier"
          },
          {
           "authorId": "3295092",
           "name": "S. Chopra"
          },
          {
           "authorId": "145183709",
           "name": "J. Weston"
          }
         ],
         "doi": null,
         "intent": [
          "methodology"
         ],
         "isInfluential": false,
         "paperId": "6e565308c8081e807709cb4a917443b737e6cdb4",
         "title": "Large-scale Simple Question Answering with Memory Networks",
         "url": "https://www.semanticscholar.org/paper/6e565308c8081e807709cb4a917443b737e6cdb4",
         "venue": "ArXiv",
         "year": 2015
        },
        {
         "arxivId": null,
         "authors": [
          {
           "authorId": "2616896",
           "name": "Kristian Kolthoff"
          },
          {
           "authorId": "11974049",
           "name": "Arnab Dutta"
          }
         ],
         "doi": null,
         "intent": [
          "methodology"
         ],
         "isInfluential": false,
         "paperId": "886895fbad1fe58cfe32332d9817b53e1e051ba2",
         "title": "Semantic Relation Composition in Large Scale Knowledge Bases",
         "url": "https://www.semanticscholar.org/paper/886895fbad1fe58cfe32332d9817b53e1e051ba2",
         "venue": "LD4IE@ISWC",
         "year": 2015
        },
        {
         "arxivId": null,
         "authors": [
          {
           "authorId": "51426617",
           "name": "José Gildo de Araújo Júnior"
          },
          {
           "authorId": "1761056",
           "name": "Ulrich Schiel"
          },
          {
           "authorId": "1739660",
           "name": "Leandro Balby Marinho"
          }
         ],
         "doi": "10.1145/2695664.2695896",
         "intent": [],
         "isInfluential": false,
         "paperId": "69b9eb7091a8c6e1a3ee16e2a53b38ac59d17fe5",
         "title": "An approach for building lexical-semantic resources based on heterogeneous information sources",
         "url": "https://www.semanticscholar.org/paper/69b9eb7091a8c6e1a3ee16e2a53b38ac59d17fe5",
         "venue": "SAC",
         "year": 2015
        },
        {
         "arxivId": null,
         "authors": [
          {
           "authorId": "47905436",
           "name": "Y. Wang"
          },
          {
           "authorId": "145625917",
           "name": "G. Zhou"
          },
          {
           "authorId": "144054173",
           "name": "Fei Tian"
          },
          {
           "authorId": "144189121",
           "name": "Yu Nan"
          },
          {
           "authorId": "47792660",
           "name": "Jiangtao Ma"
          }
         ],
         "doi": "10.1109/CSMA.2015.24",
         "intent": [],
         "isInfluential": false,
         "paperId": "d2013319d6a23f3e12fd5f76848997f7a2c845b9",
         "title": "GCORE: A Gravitation-Based Approach for Chinese Open Relation",
         "url": "https://www.semanticscholar.org/paper/d2013319d6a23f3e12fd5f76848997f7a2c845b9",
         "venue": "2015 International Conference on Computer Science and Mechanical Automation (CSMA)",
         "year": 2015
        },
        {
         "arxivId": null,
         "authors": [
          {
           "authorId": "1952364",
           "name": "Mohamed Kharrat"
          },
          {
           "authorId": "2245992",
           "name": "Anis Jedidi"
          },
          {
           "authorId": "144080351",
           "name": "Faïez Gargouri"
          }
         ],
         "doi": "10.5220/0005601002930300",
         "intent": [],
         "isInfluential": false,
         "paperId": "4b76984d674f23e6ae1adcca344bd0e6d28b5d7e",
         "title": "Annotating real time Twitter's images/videos basing on tweets",
         "url": "https://www.semanticscholar.org/paper/4b76984d674f23e6ae1adcca344bd0e6d28b5d7e",
         "venue": "2015 7th International Joint Conference on Knowledge Discovery, Knowledge Engineering and Knowledge Management (IC3K)",
         "year": 2015
        },
        {
         "arxivId": null,
         "authors": [
          {
           "authorId": "143831947",
           "name": "F. Gutiérrez"
          }
         ],
         "doi": null,
         "intent": [],
         "isInfluential": false,
         "paperId": "8e7822eef3c693ffbeeb8adcdc0870cd08969b10",
         "title": "A Hybrid Approach for Ontology-based Information Extraction",
         "url": "https://www.semanticscholar.org/paper/8e7822eef3c693ffbeeb8adcdc0870cd08969b10",
         "venue": "",
         "year": 2016
        },
        {
         "arxivId": null,
         "authors": [
          {
           "authorId": "2523232",
           "name": "N. Berkani"
          },
          {
           "authorId": "1684379",
           "name": "L. Bellatreche"
          },
          {
           "authorId": "1734279",
           "name": "B. Benatallah"
          }
         ],
         "doi": "10.1007/978-3-319-43946-4_24",
         "intent": [],
         "isInfluential": false,
         "paperId": "feffb13918a9e598eab6d0a4ae0c959787b6d960",
         "title": "A Value-Added Approach to Design BI Applications",
         "url": "https://www.semanticscholar.org/paper/feffb13918a9e598eab6d0a4ae0c959787b6d960",
         "venue": "DaWaK",
         "year": 2016
        },
        {
         "arxivId": null,
         "authors": [
          {
           "authorId": "144637335",
           "name": "Mohamed Yahya"
          },
          {
           "authorId": "1806397",
           "name": "K. Berberich"
          },
          {
           "authorId": "1680366",
           "name": "Maya Ramanath"
          },
          {
           "authorId": "1751591",
           "name": "G. Weikum"
          }
         ],
         "doi": "10.14778/3007263.3007299",
         "intent": [
          "background"
         ],
         "isInfluential": false,
         "paperId": "df05e932680d4280253552bba38ea38eeaaab337",
         "title": "Exploratory Querying of Extended Knowledge Graphs",
         "url": "https://www.semanticscholar.org/paper/df05e932680d4280253552bba38ea38eeaaab337",
         "venue": "Proc. VLDB Endow.",
         "year": 2016
        },
        {
         "arxivId": "1609.08431",
         "authors": [
          {
           "authorId": "3091174",
           "name": "Kaustubh Beedkar"
          },
          {
           "authorId": "1777107",
           "name": "Rainer Gemulla"
          }
         ],
         "doi": "10.1109/ICDM.2016.0092",
         "intent": [
          "background"
         ],
         "isInfluential": false,
         "paperId": "ce0c1f454f319b832e1cfb4ec1579b59f6fa6637",
         "title": "DESQ: Frequent Sequence Mining with Subsequence Constraints",
         "url": "https://www.semanticscholar.org/paper/ce0c1f454f319b832e1cfb4ec1579b59f6fa6637",
         "venue": "2016 IEEE 16th International Conference on Data Mining (ICDM)",
         "year": 2016
        },
        {
         "arxivId": null,
         "authors": [
          {
           "authorId": "2497939",
           "name": "Séverin Lemaignan"
          }
         ],
         "doi": "10.1007/s13218-013-0246-3",
         "intent": [],
         "isInfluential": false,
         "paperId": "0affb360a4b00ee8bcec8045057f804dd945511b",
         "title": "Grounding the Interaction: Knowledge Management for Interactive Robots",
         "url": "https://www.semanticscholar.org/paper/0affb360a4b00ee8bcec8045057f804dd945511b",
         "venue": "KI - Künstliche Intelligenz",
         "year": 2013
        },
        {
         "arxivId": null,
         "authors": [
          {
           "authorId": "1799338",
           "name": "Congle Zhang"
          },
          {
           "authorId": "1780531",
           "name": "Daniel S. Weld"
          }
         ],
         "doi": null,
         "intent": [
          "methodology"
         ],
         "isInfluential": false,
         "paperId": "4ffaafba55aa26d9abe788b21703220ea5baccd3",
         "title": "Harvesting Parallel News Streams to Generate Paraphrases of Event Relations",
         "url": "https://www.semanticscholar.org/paper/4ffaafba55aa26d9abe788b21703220ea5baccd3",
         "venue": "EMNLP",
         "year": 2013
        },
        {
         "arxivId": null,
         "authors": [
          {
           "authorId": "2675553",
           "name": "Sandra Collovini"
          }
         ],
         "doi": null,
         "intent": [
          "background"
         ],
         "isInfluential": true,
         "paperId": "a9400d68099feadac621c1b9ab751b6178f192b7",
         "title": "Extração de relações do domínio de organizações para o português",
         "url": "https://www.semanticscholar.org/paper/a9400d68099feadac621c1b9ab751b6178f192b7",
         "venue": "",
         "year": 2014
        },
        {
         "arxivId": null,
         "authors": [
          {
           "authorId": "1747316",
           "name": "H. Fujita"
          },
          {
           "authorId": "144295643",
           "name": "M. Ali"
          },
          {
           "authorId": "1749862",
           "name": "A. Selamat"
          },
          {
           "authorId": "49034425",
           "name": "J. Sasaki"
          },
          {
           "authorId": "3182475",
           "name": "M. Kurematsu"
          }
         ],
         "doi": "10.1007/978-3-319-42007-3",
         "intent": [],
         "isInfluential": false,
         "paperId": "5f7a1c8575afb53240423aab1a0a7a9e7ef7e6a4",
         "title": "Trends in Applied Knowledge-Based Systems and Data Science",
         "url": "https://www.semanticscholar.org/paper/5f7a1c8575afb53240423aab1a0a7a9e7ef7e6a4",
         "venue": "Lecture Notes in Computer Science",
         "year": 2016
        },
        {
         "arxivId": null,
         "authors": [
          {
           "authorId": "2551334",
           "name": "C. Pechsiri"
          },
          {
           "authorId": "2398361",
           "name": "R. Piriyakul"
          }
         ],
         "doi": "10.1186/s40064-016-2864-3",
         "intent": [],
         "isInfluential": false,
         "paperId": "1f4445ba018dc5361529eb4b704cac0cc013a5ba",
         "title": "Extraction of a group-pair relation: problem-solving relation from web-board documents",
         "url": "https://www.semanticscholar.org/paper/1f4445ba018dc5361529eb4b704cac0cc013a5ba",
         "venue": "SpringerPlus",
         "year": 2016
        },
        {
         "arxivId": "1806.07999",
         "authors": [
          {
           "authorId": "51004747",
           "name": "Paul Landes"
          },
          {
           "authorId": "1745798",
           "name": "Barbara Di Eugenio"
          }
         ],
         "doi": null,
         "intent": [
          "methodology"
         ],
         "isInfluential": true,
         "paperId": "d6fb60325413276c34f5accbcffb9928e04e86ba",
         "title": "A Supervised Approach To The Interpretation Of Imperative To-Do Lists",
         "url": "https://www.semanticscholar.org/paper/d6fb60325413276c34f5accbcffb9928e04e86ba",
         "venue": "ArXiv",
         "year": 2018
        },
        {
         "arxivId": null,
         "authors": [
          {
           "authorId": "3011191",
           "name": "Saeed Sarencheh"
          },
          {
           "authorId": "1873868",
           "name": "Andrea Schiffauerova"
          }
         ],
         "doi": "10.5220/0006500400490056",
         "intent": [],
         "isInfluential": false,
         "paperId": "fde47ca2d3a08e392fae3b7771d7946ef50ea4b1",
         "title": "Automatic Algorithm for Extracting an Ontology for a Specific Domain Name",
         "url": "https://www.semanticscholar.org/paper/fde47ca2d3a08e392fae3b7771d7946ef50ea4b1",
         "venue": "KEOD",
         "year": 2017
        },
        {
         "arxivId": null,
         "authors": [
          {
           "authorId": "32664168",
           "name": "Aleksander Pohl"
          }
         ],
         "doi": null,
         "intent": [],
         "isInfluential": false,
         "paperId": "60451b7281e6936e6a0311916b55ea0a7436d8b5",
         "title": "Knowledge-based Named Entity recognition in Polish",
         "url": "https://www.semanticscholar.org/paper/60451b7281e6936e6a0311916b55ea0a7436d8b5",
         "venue": "2013 Federated Conference on Computer Science and Information Systems",
         "year": 2013
        },
        {
         "arxivId": null,
         "authors": [
          {
           "authorId": "2129412",
           "name": "D. Wijaya"
          }
         ],
         "doi": null,
         "intent": [
          "background"
         ],
         "isInfluential": true,
         "paperId": "c03f74ea3a319945f576834027ff470621f2b1a8",
         "title": "Proposal Verb Semantics for Natural Language Understanding",
         "url": "https://www.semanticscholar.org/paper/c03f74ea3a319945f576834027ff470621f2b1a8",
         "venue": "",
         "year": 2014
        },
        {
         "arxivId": null,
         "authors": [
          {
           "authorId": "2112366",
           "name": "M. H. McClure"
          }
         ],
         "doi": null,
         "intent": [
          "background"
         ],
         "isInfluential": false,
         "paperId": "c8a306ff10672228ac5a256fddc67c4fdeb8c0db",
         "title": "Automatically explaining literature based discoveries",
         "url": "https://www.semanticscholar.org/paper/c8a306ff10672228ac5a256fddc67c4fdeb8c0db",
         "venue": "",
         "year": 2018
        },
        {
         "arxivId": null,
         "authors": [
          {
           "authorId": "49165812",
           "name": "L. Prado"
          }
         ],
         "doi": null,
         "intent": [],
         "isInfluential": false,
         "paperId": "1b6e72a8379b1bdf4b68260cb50513eb10daed08",
         "title": "Rule mining in knowledge bases",
         "url": "https://www.semanticscholar.org/paper/1b6e72a8379b1bdf4b68260cb50513eb10daed08",
         "venue": "",
         "year": 2016
        },
        {
         "arxivId": null,
         "authors": [
          {
           "authorId": "66207740",
           "name": "L. Xiao-xue"
          },
          {
           "authorId": "1391915611",
           "name": "Bai Xue-song"
          },
          {
           "authorId": "123629396",
           "name": "Wang Longhe"
          },
          {
           "authorId": "1393127748",
           "name": "Ren Bingyuan"
          },
          {
           "authorId": "1391399351",
           "name": "Lu Shuhan"
          },
          {
           "authorId": "1390562533",
           "name": "Li Lin"
          }
         ],
         "doi": "10.1109/ACCESS.2019.2915987",
         "intent": [],
         "isInfluential": false,
         "paperId": "3ae6ccde595378f07910c6b7990f07f8e43afed3",
         "title": "Review and Trend Analysis of Knowledge Graphs for Crop Pest and Diseases",
         "url": "https://www.semanticscholar.org/paper/3ae6ccde595378f07910c6b7990f07f8e43afed3",
         "venue": "IEEE Access",
         "year": 2019
        },
        {
         "arxivId": null,
         "authors": [
          {
           "authorId": "40941894",
           "name": "Soumen Chakrabarti"
          }
         ],
         "doi": "10.1145/3209978.3210190",
         "intent": [
          "background"
         ],
         "isInfluential": false,
         "paperId": "e5b95c50756ed9b259523b4b436313d36681b660",
         "title": "Knowledge Extraction and Inference from Text: Shallow, Deep, and Everything in Between",
         "url": "https://www.semanticscholar.org/paper/e5b95c50756ed9b259523b4b436313d36681b660",
         "venue": "SIGIR",
         "year": 2018
        },
        {
         "arxivId": null,
         "authors": [
          {
           "authorId": "7653108",
           "name": "Likun Qiu"
          },
          {
           "authorId": "48378565",
           "name": "Yue Zhang"
          }
         ],
         "doi": "10.3115/v1/D14-1201",
         "intent": [],
         "isInfluential": false,
         "paperId": "187c2035fc78a5d21e0074eaa357c8e62bb10bb0",
         "title": "ZORE: A Syntax-based System for Chinese Open Relation Extraction",
         "url": "https://www.semanticscholar.org/paper/187c2035fc78a5d21e0074eaa357c8e62bb10bb0",
         "venue": "EMNLP",
         "year": 2014
        },
        {
         "arxivId": null,
         "authors": [
          {
           "authorId": "40367008",
           "name": "Shadi Shahsavari"
          },
          {
           "authorId": "2313475",
           "name": "Ehsan Ebrahimzadeh"
          },
          {
           "authorId": "50155483",
           "name": "Behnam Shahbazi"
          },
          {
           "authorId": "8225707",
           "name": "Misagh Falahi"
          },
          {
           "authorId": "1645199194",
           "name": "Pavan Holur"
          },
          {
           "authorId": "1795611",
           "name": "R. Bandari"
          },
          {
           "authorId": "3338615",
           "name": "Timothy R. Tangherlini"
          },
          {
           "authorId": "1686063",
           "name": "V. Roychowdhury"
          }
         ],
         "doi": "10.1145/3394231.3397918",
         "intent": [
          "background"
         ],
         "isInfluential": false,
         "paperId": "eb91ddddb41075c5d9e59b50603fdf06c99f56f7",
         "title": "An Automated Pipeline for Character and Relationship Extraction from Readers Literary Book Reviews on Goodreads.com",
         "url": "https://www.semanticscholar.org/paper/eb91ddddb41075c5d9e59b50603fdf06c99f56f7",
         "venue": "WebSci",
         "year": 2020
        },
        {
         "arxivId": null,
         "authors": [
          {
           "authorId": "49599908",
           "name": "Kang Liu"
          }
         ],
         "doi": "10.1007/S11431-020-1673-6",
         "intent": [],
         "isInfluential": false,
         "paperId": "52d55da93fbb0d86561953dadfdeec9cd2a4c9f4",
         "title": "A survey on neural relation extraction",
         "url": "https://www.semanticscholar.org/paper/52d55da93fbb0d86561953dadfdeec9cd2a4c9f4",
         "venue": "",
         "year": 2020
        },
        {
         "arxivId": null,
         "authors": [
          {
           "authorId": "2133649",
           "name": "V. Dragos"
          }
         ],
         "doi": "10.1016/j.procs.2017.08.028",
         "intent": [],
         "isInfluential": false,
         "paperId": "cb77f6bb719fdcbde0df2f356abbef8e85a34370",
         "title": "Detection of contradictions by relation matching and uncertainty assessment",
         "url": "https://www.semanticscholar.org/paper/cb77f6bb719fdcbde0df2f356abbef8e85a34370",
         "venue": "KES",
         "year": 2017
        },
        {
         "arxivId": null,
         "authors": [
          {
           "authorId": "48596959",
           "name": "Ping Xiao"
          },
          {
           "authorId": "143785973",
           "name": "Hannu (TT) Toivonen"
          },
          {
           "authorId": "2237596",
           "name": "Oskar Gross"
          },
          {
           "authorId": "145371785",
           "name": "A. Cardoso"
          },
          {
           "authorId": "145647746",
           "name": "J. Correia"
          },
          {
           "authorId": "145210339",
           "name": "P. Machado"
          },
          {
           "authorId": "145784436",
           "name": "P. Martins"
          },
          {
           "authorId": "145275796",
           "name": "Hugo Gonçalo Oliveira"
          },
          {
           "authorId": "145784776",
           "name": "R. Sharma"
          },
          {
           "authorId": "34880228",
           "name": "A. M. Pinto"
          },
          {
           "authorId": "102639698",
           "name": "A. Díaz"
          },
          {
           "authorId": "145547318",
           "name": "V. Francisco"
          },
          {
           "authorId": "1798564",
           "name": "P. Gervás"
          },
          {
           "authorId": "1890781",
           "name": "R. Hervás"
          },
          {
           "authorId": "144399385",
           "name": "C. León"
          },
          {
           "authorId": "26543644",
           "name": "J. Forth"
          },
          {
           "authorId": "1701461",
           "name": "Matthew Purver"
          },
          {
           "authorId": "1808338",
           "name": "G. Wiggins"
          },
          {
           "authorId": "40220522",
           "name": "Dragana Miljkovic"
          },
          {
           "authorId": "2007528",
           "name": "V. Podpecan"
          },
          {
           "authorId": "40235216",
           "name": "S. Pollak"
          },
          {
           "authorId": "40522433",
           "name": "Jan Kralj"
          },
          {
           "authorId": "3251333",
           "name": "M. Znidarsic"
          },
          {
           "authorId": "1697708",
           "name": "M. Bohanec"
          },
          {
           "authorId": "1730104",
           "name": "N. Lavrac"
          },
          {
           "authorId": "2654837",
           "name": "T. Urbancic"
          },
          {
           "authorId": "145138884",
           "name": "F. Velde"
          },
          {
           "authorId": "1716205",
           "name": "S. Battersby"
          }
         ],
         "doi": "10.1145/3186729",
         "intent": [
          "background"
         ],
         "isInfluential": false,
         "paperId": "a7b26a7e0932fc33aec50e97ad0329998d5b258b",
         "title": "Conceptual Representations for Computational Concept Creation",
         "url": "https://www.semanticscholar.org/paper/a7b26a7e0932fc33aec50e97ad0329998d5b258b",
         "venue": "ACM Comput. Surv.",
         "year": 2019
        },
        {
         "arxivId": "1803.09091",
         "authors": [
          {
           "authorId": "2718039",
           "name": "Christos Christodoulopoulos"
          },
          {
           "authorId": "2008596",
           "name": "A. Mittal"
          }
         ],
         "doi": null,
         "intent": [
          "background"
         ],
         "isInfluential": false,
         "paperId": "4f6ad3703504cade343c7ff1fccbba89a5006e4a",
         "title": "Simple Large-scale Relation Extraction from Unstructured Text",
         "url": "https://www.semanticscholar.org/paper/4f6ad3703504cade343c7ff1fccbba89a5006e4a",
         "venue": "LREC",
         "year": 2018
        },
        {
         "arxivId": null,
         "authors": [
          {
           "authorId": "2888851",
           "name": "T. Kilias"
          },
          {
           "authorId": "3289992",
           "name": "Alexander Löser"
          },
          {
           "authorId": "1739619",
           "name": "P. Andritsos"
          }
         ],
         "doi": "10.1016/j.is.2014.11.006",
         "intent": [
          "background"
         ],
         "isInfluential": false,
         "paperId": "7c0cf2fa4ed7cfb1cf41c986fdc3b82c53177854",
         "title": "INDREX: In-database relation extraction",
         "url": "https://www.semanticscholar.org/paper/7c0cf2fa4ed7cfb1cf41c986fdc3b82c53177854",
         "venue": "Inf. Syst.",
         "year": 2015
        },
        {
         "arxivId": null,
         "authors": [
          {
           "authorId": "30752055",
           "name": "Y. Liu"
          },
          {
           "authorId": "144051547",
           "name": "W. Hua"
          },
          {
           "authorId": "1847032384",
           "name": "Xiaofang Zhou"
          }
         ],
         "doi": "10.1007/s11280-020-00836-5",
         "intent": [],
         "isInfluential": false,
         "paperId": "0dd7f33ef38c211d0585594b3f53ee4c35181334",
         "title": "Temporal knowledge extraction from large-scale text corpus",
         "url": "https://www.semanticscholar.org/paper/0dd7f33ef38c211d0585594b3f53ee4c35181334",
         "venue": "",
         "year": 2020
        },
        {
         "arxivId": null,
         "authors": [
          {
           "authorId": "1391481235",
           "name": "Aibo Guo"
          },
          {
           "authorId": "1483616129",
           "name": "Zhen Tan"
          },
          {
           "authorId": "1862330484",
           "name": "Xiang Zhao"
          }
         ],
         "doi": "10.1007/978-3-030-55130-8_6",
         "intent": [],
         "isInfluential": false,
         "paperId": "a788b522ed724be90ce21f781bcf114831276d5f",
         "title": "Measuring Triplet Trustworthiness in Knowledge Graphs via Expanded Relation Detection",
         "url": "https://www.semanticscholar.org/paper/a788b522ed724be90ce21f781bcf114831276d5f",
         "venue": "KSEM",
         "year": 2020
        },
        {
         "arxivId": "1808.02013",
         "authors": [
          {
           "authorId": "2846015",
           "name": "Y. Li"
          },
          {
           "authorId": "8882554",
           "name": "Ziyue Yang"
          },
          {
           "authorId": "145508275",
           "name": "Yao Guo"
          },
          {
           "authorId": "1783004",
           "name": "X. Chen"
          },
          {
           "authorId": "1787635",
           "name": "Y. Agarwal"
          },
          {
           "authorId": "1689960",
           "name": "J. Hong"
          }
         ],
         "doi": "10.1109/BigData.2018.8621866",
         "intent": [
          "methodology"
         ],
         "isInfluential": false,
         "paperId": "64a0266c71e07b3b34ffae860aaaf4c48a5ef0cc",
         "title": "Automated Extraction of Personal Knowledge from Smartphone Push Notifications",
         "url": "https://www.semanticscholar.org/paper/64a0266c71e07b3b34ffae860aaaf4c48a5ef0cc",
         "venue": "2018 IEEE International Conference on Big Data (Big Data)",
         "year": 2018
        },
        {
         "arxivId": null,
         "authors": [
          {
           "authorId": "104161035",
           "name": "H. Gon"
          }
         ],
         "doi": null,
         "intent": [],
         "isInfluential": false,
         "paperId": "a26f4dae88b2a4092e51c8225ffb17e70d4beab6",
         "title": "Onto.PT: Towards the Automatic Construction of a Lexical Ontology for Portuguese",
         "url": "https://www.semanticscholar.org/paper/a26f4dae88b2a4092e51c8225ffb17e70d4beab6",
         "venue": "",
         "year": 2012
        },
        {
         "arxivId": null,
         "authors": [
          {
           "authorId": "1927646",
           "name": "Rajan Vaish"
          },
          {
           "authorId": "2004965",
           "name": "Keith Wyngarden"
          },
          {
           "authorId": "2505765",
           "name": "J. Chen"
          },
          {
           "authorId": "27465637",
           "name": "Brandon Cheung"
          },
          {
           "authorId": "145879842",
           "name": "Michael S. Bernstein"
          }
         ],
         "doi": "10.1145/2556288.2556996",
         "intent": [
          "background",
          "methodology"
         ],
         "isInfluential": true,
         "paperId": "b61b6001461c664fb7d2105a495b07802054c355",
         "title": "Twitch crowdsourcing: crowd contributions in short bursts of time",
         "url": "https://www.semanticscholar.org/paper/b61b6001461c664fb7d2105a495b07802054c355",
         "venue": "CHI '14",
         "year": 2014
        },
        {
         "arxivId": null,
         "authors": [
          {
           "authorId": "144105277",
           "name": "Wen-tau Yih"
          },
          {
           "authorId": "144137069",
           "name": "X. He"
          },
          {
           "authorId": "50004012",
           "name": "Christopher Meek"
          }
         ],
         "doi": "10.3115/v1/P14-2105",
         "intent": [
          "background"
         ],
         "isInfluential": true,
         "paperId": "a129f612a9eff903d9133244a6f0914ef3cbda72",
         "title": "Semantic Parsing for Single-Relation Question Answering",
         "url": "https://www.semanticscholar.org/paper/a129f612a9eff903d9133244a6f0914ef3cbda72",
         "venue": "ACL",
         "year": 2014
        },
        {
         "arxivId": null,
         "authors": [
          {
           "authorId": "143603573",
           "name": "J. M. Rodriguez"
          },
          {
           "authorId": "1871685",
           "name": "H. Merlino"
          },
          {
           "authorId": "49853304",
           "name": "R. Martínez"
          }
         ],
         "doi": null,
         "intent": [
          "background"
         ],
         "isInfluential": true,
         "paperId": "1381fab88a4be33c79ac74b05cdecbfadc5b37cc",
         "title": "Revisión Sistemática Comparativa de Evolución de Métodos de Extracción de Conocimiento para la Web",
         "url": "https://www.semanticscholar.org/paper/1381fab88a4be33c79ac74b05cdecbfadc5b37cc",
         "venue": "",
         "year": 2015
        },
        {
         "arxivId": null,
         "authors": [
          {
           "authorId": "2945861",
           "name": "Cenker Sengoz"
          }
         ],
         "doi": null,
         "intent": [],
         "isInfluential": false,
         "paperId": "f8b98cee88d7a57dee6aa72e964afd9a3cf8d211",
         "title": "A Granular-based Approach for Semisupervised Web Information Labeling",
         "url": "https://www.semanticscholar.org/paper/f8b98cee88d7a57dee6aa72e964afd9a3cf8d211",
         "venue": "",
         "year": 2015
        },
        {
         "arxivId": null,
         "authors": [
          {
           "authorId": "40439092",
           "name": "Romain Beaumont"
          },
          {
           "authorId": "1704849",
           "name": "B. Grau"
          },
          {
           "authorId": "1769176",
           "name": "Anne-Laure Ligozat"
          }
         ],
         "doi": "10.24348/coria.2015.80",
         "intent": [
          "background"
         ],
         "isInfluential": false,
         "paperId": "9e1c59495a0141f94e4d1fe711972abf9722e7f1",
         "title": "Représentation sémantique de questions pour interroger le Web sémantique",
         "url": "https://www.semanticscholar.org/paper/9e1c59495a0141f94e4d1fe711972abf9722e7f1",
         "venue": "CORIA",
         "year": 2015
        },
        {
         "arxivId": "1511.02570",
         "authors": [
          {
           "authorId": "71984337",
           "name": "Peng Wang"
          },
          {
           "authorId": "49018095",
           "name": "Qi Wu"
          },
          {
           "authorId": "12459603",
           "name": "Chunhua Shen"
          },
          {
           "authorId": "2699095",
           "name": "A. Dick"
          },
          {
           "authorId": "5546141",
           "name": "A. V. D. Hengel"
          }
         ],
         "doi": "10.24963/ijcai.2017/179",
         "intent": [
          "methodology"
         ],
         "isInfluential": false,
         "paperId": "0b0a1cd432413978e4ef3d0418ebf3bb07af6c7a",
         "title": "Explicit Knowledge-based Reasoning for Visual Question Answering",
         "url": "https://www.semanticscholar.org/paper/0b0a1cd432413978e4ef3d0418ebf3bb07af6c7a",
         "venue": "IJCAI",
         "year": 2017
        },
        {
         "arxivId": "1511.09460",
         "authors": [
          {
           "authorId": "37202877",
           "name": "S. Chaturvedi"
          },
          {
           "authorId": "2877164",
           "name": "Dan Goldwasser"
          },
          {
           "authorId": "1722360",
           "name": "Hal Daumé"
          }
         ],
         "doi": null,
         "intent": [
          "background"
         ],
         "isInfluential": false,
         "paperId": "b053d70cfa69d4a40f8f9e95828f75e5a8cb9be4",
         "title": "Ask, and Shall You Receive? Understanding Desire Fulfillment in Natural Language Text",
         "url": "https://www.semanticscholar.org/paper/b053d70cfa69d4a40f8f9e95828f75e5a8cb9be4",
         "venue": "AAAI",
         "year": 2016
        },
        {
         "arxivId": null,
         "authors": [
          {
           "authorId": "153426703",
           "name": "Maha Soliman"
          },
          {
           "authorId": "2423522",
           "name": "O. Nasraoui"
          },
          {
           "authorId": "144890219",
           "name": "N. Cooper"
          }
         ],
         "doi": "10.1109/ASONAM.2016.7752309",
         "intent": [
          "methodology"
         ],
         "isInfluential": true,
         "paperId": "52988cb46976ebb9f9d4f30af1f624a5ba8aea08",
         "title": "Analysis and visualization of a literature-mined glaucoma gene interaction network",
         "url": "https://www.semanticscholar.org/paper/52988cb46976ebb9f9d4f30af1f624a5ba8aea08",
         "venue": "2016 IEEE/ACM International Conference on Advances in Social Networks Analysis and Mining (ASONAM)",
         "year": 2016
        },
        {
         "arxivId": null,
         "authors": [
          {
           "authorId": "2705479",
           "name": "Fatema Nafa"
          },
          {
           "authorId": "1724118",
           "name": "Javed I. Khan"
          },
          {
           "authorId": "40388070",
           "name": "Salem Othman"
          },
          {
           "authorId": "40221143",
           "name": "Amal Babour"
          }
         ],
         "doi": "10.1109/CyberC.2016.52",
         "intent": [],
         "isInfluential": false,
         "paperId": "e77428b22a637028d4c1a42f6ef16668be22ebbc",
         "title": "Discovering Bloom Taxonomic Relationships between Knowledge Units Using Semantic Graph Triangularity Mining",
         "url": "https://www.semanticscholar.org/paper/e77428b22a637028d4c1a42f6ef16668be22ebbc",
         "venue": "2016 International Conference on Cyber-Enabled Distributed Computing and Knowledge Discovery (CyberC)",
         "year": 2016
        },
        {
         "arxivId": null,
         "authors": [
          {
           "authorId": "145201124",
           "name": "Xiang Ren"
          },
          {
           "authorId": "144812586",
           "name": "Meng Jiang"
          },
          {
           "authorId": "2884976",
           "name": "Jingbo Shang"
          },
          {
           "authorId": "145325584",
           "name": "Jiawei Han"
          }
         ],
         "doi": "10.1145/3035918.3054781",
         "intent": [
          "background"
         ],
         "isInfluential": false,
         "paperId": "0cced0ae818a0c53668642f98b5f8f5826fa249b",
         "title": "Building Structured Databases of Factual Knowledge from Massive Text Corpora",
         "url": "https://www.semanticscholar.org/paper/0cced0ae818a0c53668642f98b5f8f5826fa249b",
         "venue": "SIGMOD Conference",
         "year": 2017
        },
        {
         "arxivId": null,
         "authors": [
          {
           "authorId": "2843910",
           "name": "M. Amith"
          },
          {
           "authorId": "8776912",
           "name": "H. Song"
          },
          {
           "authorId": "2042402",
           "name": "Y. Zhang"
          },
          {
           "authorId": "40463478",
           "name": "H. Xu"
          },
          {
           "authorId": "145723023",
           "name": "Cui Tao"
          }
         ],
         "doi": "10.1186/s12911-017-0465-x",
         "intent": [],
         "isInfluential": false,
         "paperId": "afc0e1abb3a83ef9dc3ecc1323560c92dc09a229",
         "title": "Lightweight predicate extraction for patient-level cancer information and ontology development",
         "url": "https://www.semanticscholar.org/paper/afc0e1abb3a83ef9dc3ecc1323560c92dc09a229",
         "venue": "BMC Medical Informatics and Decision Making",
         "year": 2017
        },
        {
         "arxivId": null,
         "authors": [
          {
           "authorId": "9587319",
           "name": "Kseniya Buraya"
          },
          {
           "authorId": "145579909",
           "name": "Lidia Pivovarova"
          },
          {
           "authorId": "145717052",
           "name": "Sergey Budkov"
          },
          {
           "authorId": "2517152",
           "name": "Andrey Filchenkov"
          }
         ],
         "doi": "10.18653/v1/W17-1417",
         "intent": [
          "background"
         ],
         "isInfluential": false,
         "paperId": "efbb7f38a6285d88dfea60917152a94c2013eb32",
         "title": "Towards Never Ending Language Learning for Morphologically Rich Languages",
         "url": "https://www.semanticscholar.org/paper/efbb7f38a6285d88dfea60917152a94c2013eb32",
         "venue": "BSNLP@EACL",
         "year": 2017
        },
        {
         "arxivId": null,
         "authors": [
          {
           "authorId": "143613268",
           "name": "L. Du"
          },
          {
           "authorId": "47311171",
           "name": "A. Kumar"
          },
          {
           "authorId": "145177220",
           "name": "Mark Johnson"
          },
          {
           "authorId": "2754495",
           "name": "Massimiliano Ciaramita"
          }
         ],
         "doi": null,
         "intent": [
          "methodology"
         ],
         "isInfluential": false,
         "paperId": "26c39342628e5b62778956c2bde20d9b965a46b0",
         "title": "Using Entity Information from a Knowledge Base to Improve Relation Extraction",
         "url": "https://www.semanticscholar.org/paper/26c39342628e5b62778956c2bde20d9b965a46b0",
         "venue": "ALTA",
         "year": 2015
        },
        {
         "arxivId": null,
         "authors": [
          {
           "authorId": "33973438",
           "name": "M. Alam"
          },
          {
           "authorId": "3349721",
           "name": "D. R. Recupero"
          },
          {
           "authorId": "2751455",
           "name": "Misael Mongiovì"
          },
          {
           "authorId": "2420171",
           "name": "Aldo Gangemi"
          },
          {
           "authorId": "2079911",
           "name": "Petar Ristoski"
          }
         ],
         "doi": "10.1016/j.knosys.2017.08.014",
         "intent": [
          "background"
         ],
         "isInfluential": false,
         "paperId": "06b03c914c143fe2a037beec7ffb962ed7f5d868",
         "title": "Event-based knowledge reconciliation using frame embeddings and frame similarity",
         "url": "https://www.semanticscholar.org/paper/06b03c914c143fe2a037beec7ffb962ed7f5d868",
         "venue": "Knowl. Based Syst.",
         "year": 2017
        },
        {
         "arxivId": null,
         "authors": [
          {
           "authorId": "1405157320",
           "name": "M. Perez-Arriaga"
          }
         ],
         "doi": null,
         "intent": [
          "background"
         ],
         "isInfluential": true,
         "paperId": "ca78cfa04f658f16fdd1b88a446a4d6561c7ef60",
         "title": "Automated Development of Semantic Data Models Using Scientific Publications",
         "url": "https://www.semanticscholar.org/paper/ca78cfa04f658f16fdd1b88a446a4d6561c7ef60",
         "venue": "",
         "year": 2018
        },
        {
         "arxivId": "1705.03751",
         "authors": [
          {
           "authorId": "34569878",
           "name": "Gagan Madan"
          }
         ],
         "doi": null,
         "intent": [
          "background"
         ],
         "isInfluential": true,
         "paperId": "3261ebccc1ef892cd5a8e40ab70430ea202fa009",
         "title": "A Survey of Distant Supervision Methods using PGMs",
         "url": "https://www.semanticscholar.org/paper/3261ebccc1ef892cd5a8e40ab70430ea202fa009",
         "venue": "ArXiv",
         "year": 2017
        },
        {
         "arxivId": "1807.10615",
         "authors": [
          {
           "authorId": "2742670",
           "name": "Nishtha Madaan"
          },
          {
           "authorId": "145640180",
           "name": "Sameep Mehta"
          },
          {
           "authorId": "51153237",
           "name": "Shravika Mittal"
          },
          {
           "authorId": "51153314",
           "name": "Ashima Suvarna"
          }
         ],
         "doi": null,
         "intent": [
          "methodology"
         ],
         "isInfluential": false,
         "paperId": "8537b600a6f78d04aee8dc679bacde606606ce68",
         "title": "Judging a Book by its Description : Analyzing Gender Stereotypes in the Man Bookers Prize Winning Fiction",
         "url": "https://www.semanticscholar.org/paper/8537b600a6f78d04aee8dc679bacde606606ce68",
         "venue": "ArXiv",
         "year": 2018
        },
        {
         "arxivId": null,
         "authors": [
          {
           "authorId": "3270223",
           "name": "Rebecca S. Portnoff"
          }
         ],
         "doi": null,
         "intent": [
          "background"
         ],
         "isInfluential": false,
         "paperId": "3c62a34ab7e057af8d253f756abefa807f176903",
         "title": "The Dark Net: De-Anonymization, Classification and Analysis",
         "url": "https://www.semanticscholar.org/paper/3c62a34ab7e057af8d253f756abefa807f176903",
         "venue": "",
         "year": 2018
        },
        {
         "arxivId": null,
         "authors": [
          {
           "authorId": "26328483",
           "name": "Gregorios A. Katsios"
          },
          {
           "authorId": "41158530",
           "name": "M. Alagesan"
          },
          {
           "authorId": "145651546",
           "name": "A. Sharma"
          },
          {
           "authorId": "1791072",
           "name": "T. Strzalkowski"
          }
         ],
         "doi": null,
         "intent": [],
         "isInfluential": false,
         "paperId": "0aef29f2facdf91439ba4fc0aae844287fcb9e82",
         "title": "Target Focused Sentiment Extraction Framework",
         "url": "https://www.semanticscholar.org/paper/0aef29f2facdf91439ba4fc0aae844287fcb9e82",
         "venue": "TAC",
         "year": 2017
        },
        {
         "arxivId": null,
         "authors": [
          {
           "authorId": "2077657",
           "name": "Melisachew Wudage Chekol"
          },
          {
           "authorId": "1698459",
           "name": "H. Stuckenschmidt"
          }
         ],
         "doi": "10.4230/OASIcs.ICLP.2017.4",
         "intent": [],
         "isInfluential": false,
         "paperId": "660e01a53591e994f6249df612768472373edb75",
         "title": "Rule Based Temporal Inference",
         "url": "https://www.semanticscholar.org/paper/660e01a53591e994f6249df612768472373edb75",
         "venue": "ICLP",
         "year": 2017
        },
        {
         "arxivId": null,
         "authors": [
          {
           "authorId": "3727644",
           "name": "Satoshi Tsutsui"
          }
         ],
         "doi": null,
         "intent": [
          "methodology"
         ],
         "isInfluential": false,
         "paperId": "f5fc2004483e7a38e0102d8d24a48681652114d4",
         "title": "Machine Reading Approach to Understand Alzheimer ’ s Disease Literature",
         "url": "https://www.semanticscholar.org/paper/f5fc2004483e7a38e0102d8d24a48681652114d4",
         "venue": "",
         "year": 2016
        },
        {
         "arxivId": null,
         "authors": [
          {
           "authorId": "145411799",
           "name": "X. Ding"
          },
          {
           "authorId": "152277111",
           "name": "B. Qin"
          },
          {
           "authorId": "50820241",
           "name": "Ting Liu"
          }
         ],
         "doi": null,
         "intent": [
          "background"
         ],
         "isInfluential": false,
         "paperId": "4ee43696770302c1a02d090fb220cad0200a6516",
         "title": "BUEES: aBottom-UpEventExtraction System",
         "url": "https://www.semanticscholar.org/paper/4ee43696770302c1a02d090fb220cad0200a6516",
         "venue": "",
         "year": 2015
        },
        {
         "arxivId": null,
         "authors": [
          {
           "authorId": "3366880",
           "name": "Arangalage Rivindu Prasanga Perera"
          }
         ],
         "doi": null,
         "intent": [
          "background"
         ],
         "isInfluential": false,
         "paperId": "21bc0ade68c28a261afafb0d7987830de3d91c70",
         "title": "A framework for generating informative answers for Question Answering systems",
         "url": "https://www.semanticscholar.org/paper/21bc0ade68c28a261afafb0d7987830de3d91c70",
         "venue": "",
         "year": 2018
        },
        {
         "arxivId": null,
         "authors": [
          {
           "authorId": "1786863",
           "name": "Qingyun Wang"
          },
          {
           "authorId": "34741133",
           "name": "Xiaoman Pan"
          },
          {
           "authorId": "34170717",
           "name": "Lifu Huang"
          },
          {
           "authorId": "38629264",
           "name": "Boliang Zhang"
          },
          {
           "authorId": "3109913",
           "name": "Zhiying Jiang"
          },
          {
           "authorId": "144016781",
           "name": "Heng Ji"
          },
          {
           "authorId": "145364763",
           "name": "Kevin Knight"
          }
         ],
         "doi": null,
         "intent": [
          "methodology"
         ],
         "isInfluential": false,
         "paperId": "2269853c59ce06c599b79df3c3023504fc56a685",
         "title": "Narrating a Knowledge Base",
         "url": "https://www.semanticscholar.org/paper/2269853c59ce06c599b79df3c3023504fc56a685",
         "venue": "",
         "year": 2018
        },
        {
         "arxivId": null,
         "authors": [
          {
           "authorId": "40329563",
           "name": "S. Bianco"
          },
          {
           "authorId": "2733091",
           "name": "S. Martins"
          },
          {
           "authorId": "49853304",
           "name": "R. Martínez"
          }
         ],
         "doi": null,
         "intent": [],
         "isInfluential": false,
         "paperId": "ce5ff41aad0bf20e52be64aa142e4385424309a4",
         "title": "Clasificación de distintos conjuntos de datos utilizados en evaluación de métodos de extracción de conocimiento creados para la web",
         "url": "https://www.semanticscholar.org/paper/ce5ff41aad0bf20e52be64aa142e4385424309a4",
         "venue": "",
         "year": 2016
        },
        {
         "arxivId": null,
         "authors": [
          {
           "authorId": "145677289",
           "name": "P. Ernst"
          }
         ],
         "doi": "10.22028/D291-27105",
         "intent": [
          "methodology",
          "background"
         ],
         "isInfluential": false,
         "paperId": "fc508e25802e9907f52ff7bbbcbc76903520e19e",
         "title": "Biomedical knowledge base construction from text and its applications in knowledge-based systems",
         "url": "https://www.semanticscholar.org/paper/fc508e25802e9907f52ff7bbbcbc76903520e19e",
         "venue": "",
         "year": 2017
        },
        {
         "arxivId": null,
         "authors": [
          {
           "authorId": "2379096",
           "name": "Betul Ceran"
          }
         ],
         "doi": null,
         "intent": [],
         "isInfluential": false,
         "paperId": "5b5c61de2cd85aa7018d8187293a868bc82718d1",
         "title": "Semantic Feature Extraction for Narrative Analysis by Saadet",
         "url": "https://www.semanticscholar.org/paper/5b5c61de2cd85aa7018d8187293a868bc82718d1",
         "venue": "",
         "year": 2016
        },
        {
         "arxivId": null,
         "authors": [
          {
           "authorId": "1863425",
           "name": "Alan Ritter"
          },
          {
           "authorId": "2674444",
           "name": "Mausam"
          },
          {
           "authorId": "1741101",
           "name": "Oren Etzioni"
          },
          {
           "authorId": "46750413",
           "name": "S. Clark"
          }
         ],
         "doi": "10.1145/2339530.2339704",
         "intent": [
          "background"
         ],
         "isInfluential": false,
         "paperId": "c5262730d8854f88106bdc204860ccf236b3345f",
         "title": "Open domain event extraction from twitter",
         "url": "https://www.semanticscholar.org/paper/c5262730d8854f88106bdc204860ccf236b3345f",
         "venue": "KDD",
         "year": 2012
        },
        {
         "arxivId": null,
         "authors": [
          {
           "authorId": "144295318",
           "name": "S. Soderland"
          },
          {
           "authorId": "47819721",
           "name": "J. Gilmer"
          },
          {
           "authorId": "144189845",
           "name": "R. Bart"
          },
          {
           "authorId": "1741101",
           "name": "Oren Etzioni"
          },
          {
           "authorId": "1780531",
           "name": "Daniel S. Weld"
          }
         ],
         "doi": null,
         "intent": [
          "background",
          "methodology"
         ],
         "isInfluential": false,
         "paperId": "d43181fa9af5440360d4055e1ce7ddaaa6e82d77",
         "title": "Open Information Extraction to KBP Relations in 3 Hours",
         "url": "https://www.semanticscholar.org/paper/d43181fa9af5440360d4055e1ce7ddaaa6e82d77",
         "venue": "TAC",
         "year": 2013
        },
        {
         "arxivId": null,
         "authors": [
          {
           "authorId": "70636649",
           "name": "Vahideh Reshadat"
          },
          {
           "authorId": "3054779",
           "name": "H. Faili"
          }
         ],
         "doi": "10.31577/cai_2019_4_986",
         "intent": [
          "methodology",
          "background"
         ],
         "isInfluential": true,
         "paperId": "2d282e2d4331e5b6f842395c6bdce3e6072bbeb7",
         "title": "A New Open Information Extraction System Using Sentence Difficulty Estimation",
         "url": "https://www.semanticscholar.org/paper/2d282e2d4331e5b6f842395c6bdce3e6072bbeb7",
         "venue": "Comput. Informatics",
         "year": 2019
        },
        {
         "arxivId": null,
         "authors": [
          {
           "authorId": "39921273",
           "name": "Rivindu Perera"
          },
          {
           "authorId": "1755083",
           "name": "P. Nand"
          },
          {
           "authorId": "2849006",
           "name": "Gisela Klette"
          }
         ],
         "doi": "10.1515/pralin-2016-0011",
         "intent": [
          "background"
         ],
         "isInfluential": false,
         "paperId": "b0e59228bf2f0fcef73a69c1f7e40036c65ee6b0",
         "title": "RealText-lex: A Lexicalization Framework for RDF Triples",
         "url": "https://www.semanticscholar.org/paper/b0e59228bf2f0fcef73a69c1f7e40036c65ee6b0",
         "venue": "Prague Bull. Math. Linguistics",
         "year": 2016
        },
        {
         "arxivId": "2004.03186",
         "authors": [
          {
           "authorId": "145760425",
           "name": "Xu Han"
          },
          {
           "authorId": "1596817361",
           "name": "Tianyu Gao"
          },
          {
           "authorId": "2427350",
           "name": "Yankai Lin"
          },
          {
           "authorId": "47837854",
           "name": "H. Peng"
          },
          {
           "authorId": "1613284473",
           "name": "Y. Yang"
          },
          {
           "authorId": "51131083",
           "name": "Chaojun Xiao"
          },
          {
           "authorId": "1390626344",
           "name": "Zhiyuan Liu"
          },
          {
           "authorId": "144326610",
           "name": "Peng Li"
          },
          {
           "authorId": "9390452",
           "name": "Maosong Sun"
          },
          {
           "authorId": "49178343",
           "name": "Jie Zhou"
          }
         ],
         "doi": null,
         "intent": [
          "background"
         ],
         "isInfluential": false,
         "paperId": "3514a499249b8ebcef8da1657304bd5f1c58ee2a",
         "title": "More Data, More Relations, More Context and More Openness: A Review and Outlook for Relation Extraction",
         "url": "https://www.semanticscholar.org/paper/3514a499249b8ebcef8da1657304bd5f1c58ee2a",
         "venue": "ArXiv",
         "year": 2020
        },
        {
         "arxivId": null,
         "authors": [
          {
           "authorId": "37515745",
           "name": "A. Moro"
          },
          {
           "authorId": "49403919",
           "name": "H. Li"
          },
          {
           "authorId": "32632038",
           "name": "Sebastian Krause"
          },
          {
           "authorId": "2724114",
           "name": "F. Xu"
          },
          {
           "authorId": "1733928",
           "name": "R. Navigli"
          },
          {
           "authorId": "1781790",
           "name": "H. Uszkoreit"
          }
         ],
         "doi": "10.1007/978-3-642-41335-3_22",
         "intent": [],
         "isInfluential": false,
         "paperId": "ee9b20001abdb41d31a3c5f18867d90cac38ea20",
         "title": "Semantic Rule Filtering for Web-Scale Relation Extraction",
         "url": "https://www.semanticscholar.org/paper/ee9b20001abdb41d31a3c5f18867d90cac38ea20",
         "venue": "International Semantic Web Conference",
         "year": 2013
        },
        {
         "arxivId": null,
         "authors": [
          {
           "authorId": "47806786",
           "name": "V. Leone"
          },
          {
           "authorId": "34974510",
           "name": "G. Siragusa"
          },
          {
           "authorId": "49246337",
           "name": "Luigi Di Caro"
          },
          {
           "authorId": "1733928",
           "name": "R. Navigli"
          }
         ],
         "doi": null,
         "intent": [
          "background"
         ],
         "isInfluential": false,
         "paperId": "4b5c936e6cc74c1298630d2ef92efaacb25d63f2",
         "title": "Building Semantic Grams of Human Knowledge",
         "url": "https://www.semanticscholar.org/paper/4b5c936e6cc74c1298630d2ef92efaacb25d63f2",
         "venue": "LREC",
         "year": 2020
        },
        {
         "arxivId": null,
         "authors": [
          {
           "authorId": "40165979",
           "name": "H. Liu"
          },
          {
           "authorId": "1761652",
           "name": "Z. Li"
          },
          {
           "authorId": "50282741",
           "name": "Q. Chen"
          },
          {
           "authorId": "3431803",
           "name": "Z. Chen"
          }
         ],
         "doi": "10.1007/s11704-016-6319-3",
         "intent": [
          "methodology"
         ],
         "isInfluential": false,
         "paperId": "0babd54e6ee999b4cec3ab565e4a133d9ea3d95d",
         "title": "Automatic Web-based relational data imputation",
         "url": "https://www.semanticscholar.org/paper/0babd54e6ee999b4cec3ab565e4a133d9ea3d95d",
         "venue": "Frontiers of Computer Science",
         "year": 2016
        },
        {
         "arxivId": null,
         "authors": [
          {
           "authorId": "8125500",
           "name": "Shengbin Jia"
          },
          {
           "authorId": "70402545",
           "name": "Yang Xiang"
          },
          {
           "authorId": "144733976",
           "name": "X. Chen"
          },
          {
           "authorId": "144547971",
           "name": "Kun Wang"
          },
          {
           "authorId": "7825612",
           "name": "E. Shijia"
          }
         ],
         "doi": "10.1145/3308558.3313586",
         "intent": [
          "background"
         ],
         "isInfluential": false,
         "paperId": "b2cdb2e539f9ee25672ce5aab0c5ce73c0a21615",
         "title": "Triple Trustworthiness Measurement for Knowledge Graph",
         "url": "https://www.semanticscholar.org/paper/b2cdb2e539f9ee25672ce5aab0c5ce73c0a21615",
         "venue": "WWW",
         "year": 2019
        },
        {
         "arxivId": null,
         "authors": [
          {
           "authorId": "1780531",
           "name": "Daniel S. Weld"
          },
          {
           "authorId": "1982950",
           "name": "Luke Zettlemoyer"
          },
          {
           "authorId": "2566295",
           "name": "R. Hoffmann"
          }
         ],
         "doi": null,
         "intent": [
          "background"
         ],
         "isInfluential": false,
         "paperId": "51b21407e22130c8cb3b272d529c94c00e134ab1",
         "title": "Interactive learning of relation extractors with weak supervision",
         "url": "https://www.semanticscholar.org/paper/51b21407e22130c8cb3b272d529c94c00e134ab1",
         "venue": "",
         "year": 2012
        },
        {
         "arxivId": null,
         "authors": [
          {
           "authorId": "3009486",
           "name": "Zhehuan Zhao"
          },
          {
           "authorId": "1724350",
           "name": "Z. Yang"
          },
          {
           "authorId": "49321770",
           "name": "Cong Sun"
          },
          {
           "authorId": "145131943",
           "name": "Lei Wang"
          },
          {
           "authorId": "37553559",
           "name": "H. Lin"
          }
         ],
         "doi": "10.1109/BIBM.2017.8217886",
         "intent": [],
         "isInfluential": false,
         "paperId": "c85dc4b5fbc9656bf497b423e8154b5ceeed59af",
         "title": "A hybrid protein-protein interaction triple extraction method for biomedical literature",
         "url": "https://www.semanticscholar.org/paper/c85dc4b5fbc9656bf497b423e8154b5ceeed59af",
         "venue": "2017 IEEE International Conference on Bioinformatics and Biomedicine (BIBM)",
         "year": 2017
        },
        {
         "arxivId": null,
         "authors": [
          {
           "authorId": "48205102",
           "name": "Wenhui Xing"
          },
          {
           "authorId": "46315529",
           "name": "Junsheng Qi"
          },
          {
           "authorId": "50242824",
           "name": "X. Yuan"
          },
          {
           "authorId": "47681623",
           "name": "Lin Li"
          },
          {
           "authorId": "49469691",
           "name": "X. Zhang"
          },
          {
           "authorId": "46956405",
           "name": "Yuhua Fu"
          },
          {
           "authorId": "2065968",
           "name": "Shengwu Xiong"
          },
          {
           "authorId": "3065972",
           "name": "L. Hu"
          },
          {
           "authorId": "47918185",
           "name": "Jing Peng"
          }
         ],
         "doi": "10.1093/bioinformatics/bty263",
         "intent": [],
         "isInfluential": false,
         "paperId": "1d66031d93caf688d4c6ee92b2bb188910b9155c",
         "title": "A gene–phenotype relationship extraction pipeline from the biomedical literature using a representation learning approach",
         "url": "https://www.semanticscholar.org/paper/1d66031d93caf688d4c6ee92b2bb188910b9155c",
         "venue": "Bioinform.",
         "year": 2018
        },
        {
         "arxivId": "1804.09931",
         "authors": [
          {
           "authorId": "1409972269",
           "name": "Qi Zhu"
          },
          {
           "authorId": "145201124",
           "name": "Xiang Ren"
          },
          {
           "authorId": "2884976",
           "name": "Jingbo Shang"
          },
          {
           "authorId": "49891156",
           "name": "Yu Zhang"
          },
          {
           "authorId": "144282834",
           "name": "Frank F. Xu"
          },
          {
           "authorId": "153034701",
           "name": "Jiawei Han"
          }
         ],
         "doi": "10.1145/3289600.3291030",
         "intent": [
          "methodology",
          "background"
         ],
         "isInfluential": true,
         "paperId": "3dcba175248d0e8d2da44e3731e4adbfb9f00e97",
         "title": "Integrating Local Context and Global Cohesiveness for Open Information Extraction",
         "url": "https://www.semanticscholar.org/paper/3dcba175248d0e8d2da44e3731e4adbfb9f00e97",
         "venue": "WSDM",
         "year": 2019
        },
        {
         "arxivId": null,
         "authors": [
          {
           "authorId": "48585703",
           "name": "C. Wang"
          },
          {
           "authorId": "2403712",
           "name": "A. Akbik"
          },
          {
           "authorId": "1779119",
           "name": "Laura Chiticariu"
          },
          {
           "authorId": "1718694",
           "name": "Yunyao Li"
          },
          {
           "authorId": "144956443",
           "name": "F. Xia"
          },
          {
           "authorId": "1720067",
           "name": "A. Xu"
          }
         ],
         "doi": "10.18653/v1/D17-1205",
         "intent": [
          "background"
         ],
         "isInfluential": false,
         "paperId": "7bc7d7e9f16c9a6e669224f3bdd6e95401493c45",
         "title": "CROWD-IN-THE-LOOP: A Hybrid Approach for Annotating Semantic Roles",
         "url": "https://www.semanticscholar.org/paper/7bc7d7e9f16c9a6e669224f3bdd6e95401493c45",
         "venue": "EMNLP",
         "year": 2017
        },
        {
         "arxivId": "1906.05317",
         "authors": [
          {
           "authorId": "2691021",
           "name": "Antoine Bosselut"
          },
          {
           "authorId": "2516777",
           "name": "Hannah Rashkin"
          },
          {
           "authorId": "2729164",
           "name": "Maarten Sap"
          },
          {
           "authorId": "8805254",
           "name": "Chaitanya Malaviya"
          },
          {
           "authorId": "1709797",
           "name": "A. Çelikyilmaz"
          },
          {
           "authorId": "1699545",
           "name": "Yejin Choi"
          }
         ],
         "doi": "10.18653/v1/P19-1470",
         "intent": [
          "background"
         ],
         "isInfluential": true,
         "paperId": "f48ae425e2567be2d993efcaaf74c2274fc9d7c5",
         "title": "COMET: Commonsense Transformers for Automatic Knowledge Graph Construction",
         "url": "https://www.semanticscholar.org/paper/f48ae425e2567be2d993efcaaf74c2274fc9d7c5",
         "venue": "ACL",
         "year": 2019
        },
        {
         "arxivId": null,
         "authors": [
          {
           "authorId": "2052232",
           "name": "V. Gudivada"
          },
          {
           "authorId": "71538555",
           "name": "Kamyar Arbabifard"
          }
         ],
         "doi": "10.1016/BS.HOST.2018.07.007",
         "intent": [],
         "isInfluential": false,
         "paperId": "1952cc23f3c15162faaf530d1bbd6e67ee7dea94",
         "title": "Open-Source Libraries, Application Frameworks, and Workflow Systems for NLP",
         "url": "https://www.semanticscholar.org/paper/1952cc23f3c15162faaf530d1bbd6e67ee7dea94",
         "venue": "",
         "year": 2018
        },
        {
         "arxivId": null,
         "authors": [
          {
           "authorId": "144972715",
           "name": "Hilário Oliveira"
          },
          {
           "authorId": "144815583",
           "name": "R. Ferreira"
          },
          {
           "authorId": "144130746",
           "name": "Rinaldo Lima"
          },
          {
           "authorId": "1736950",
           "name": "R. D. Lins"
          },
          {
           "authorId": "2433353",
           "name": "F. Freitas"
          },
          {
           "authorId": "2222488",
           "name": "M. Riss"
          },
          {
           "authorId": "1864601",
           "name": "S. Simske"
          }
         ],
         "doi": "10.1016/j.eswa.2016.08.030",
         "intent": [],
         "isInfluential": false,
         "paperId": "4154fa86468244209a0e61622c8b77599f7fb893",
         "title": "Assessing shallow sentence scoring techniques and combinations for single and multi-document summarization",
         "url": "https://www.semanticscholar.org/paper/4154fa86468244209a0e61622c8b77599f7fb893",
         "venue": "Expert Syst. Appl.",
         "year": 2016
        },
        {
         "arxivId": null,
         "authors": [
          {
           "authorId": "145690522",
           "name": "Denilson Barbosa"
          },
          {
           "authorId": "1745000",
           "name": "H. Wang"
          },
          {
           "authorId": "40592227",
           "name": "Cong Yu"
          }
         ],
         "doi": "10.1109/ICDE.2013.6544920",
         "intent": [
          "background"
         ],
         "isInfluential": false,
         "paperId": "c9f047db4b38d6a5a35236ff0592f99abadbbbbe",
         "title": "Shallow Information Extraction for the knowledge Web",
         "url": "https://www.semanticscholar.org/paper/c9f047db4b38d6a5a35236ff0592f99abadbbbbe",
         "venue": "2013 IEEE 29th International Conference on Data Engineering (ICDE)",
         "year": 2013
        },
        {
         "arxivId": null,
         "authors": [
          {
           "authorId": "30682846",
           "name": "L. Sharma"
          },
          {
           "authorId": "40204750",
           "name": "Namita Mittal"
          }
         ],
         "doi": "10.3233/JIFS-169235",
         "intent": [],
         "isInfluential": false,
         "paperId": "40cefac0c6e1363a6ca6f3dfbbb1d370c6971157",
         "title": "Prominent feature extraction for evidence gathering in question answering",
         "url": "https://www.semanticscholar.org/paper/40cefac0c6e1363a6ca6f3dfbbb1d370c6971157",
         "venue": "J. Intell. Fuzzy Syst.",
         "year": 2017
        },
        {
         "arxivId": null,
         "authors": [
          {
           "authorId": "11974049",
           "name": "Arnab Dutta"
          },
          {
           "authorId": "1795542",
           "name": "Christian Meilicke"
          },
          {
           "authorId": "1801255",
           "name": "S. P. Ponzetto"
          }
         ],
         "doi": "10.1007/978-3-319-07443-6_20",
         "intent": [
          "methodology",
          "background"
         ],
         "isInfluential": true,
         "paperId": "322b0a45b697658555814d79ba022f7668bc6d3b",
         "title": "A Probabilistic Approach for Integrating Heterogeneous Knowledge Sources",
         "url": "https://www.semanticscholar.org/paper/322b0a45b697658555814d79ba022f7668bc6d3b",
         "venue": "ESWC",
         "year": 2014
        },
        {
         "arxivId": "1511.06961",
         "authors": [
          {
           "authorId": "47929584",
           "name": "L. Lee"
          }
         ],
         "doi": null,
         "intent": [],
         "isInfluential": false,
         "paperId": "abc6ed6d51441fdd742773e54af273d6ac430f7f",
         "title": "On the Linear Algebraic Structure of Distributed Word Representations",
         "url": "https://www.semanticscholar.org/paper/abc6ed6d51441fdd742773e54af273d6ac430f7f",
         "venue": "ArXiv",
         "year": 2015
        },
        {
         "arxivId": null,
         "authors": [
          {
           "authorId": "3257579",
           "name": "Claudio Delli Bovi"
          },
          {
           "authorId": "2254466",
           "name": "Luis Espinosa Anke"
          },
          {
           "authorId": "1733928",
           "name": "R. Navigli"
          }
         ],
         "doi": "10.18653/v1/D15-1084",
         "intent": [
          "methodology",
          "background"
         ],
         "isInfluential": true,
         "paperId": "874b8e70bc560315c21cd2692037f079e623347d",
         "title": "Knowledge Base Unification via Sense Embeddings and Disambiguation",
         "url": "https://www.semanticscholar.org/paper/874b8e70bc560315c21cd2692037f079e623347d",
         "venue": "EMNLP",
         "year": 2015
        },
        {
         "arxivId": null,
         "authors": [
          {
           "authorId": "1867896",
           "name": "Sheng-Lun Wei"
          },
          {
           "authorId": "3187446",
           "name": "Yen-Pin Chiu"
          },
          {
           "authorId": "2611607",
           "name": "Hen-Hsen Huang"
          },
          {
           "authorId": "1748891",
           "name": "H. Chen"
          }
         ],
         "doi": null,
         "intent": [],
         "isInfluential": false,
         "paperId": "2cac9d4521fb51f1644a6a318df5ed84e8a1878d",
         "title": "NL2KB: Resolving Vocabulary Gap between Natural Language and Knowledge Base in Knowledge Base Construction and Retrieval",
         "url": "https://www.semanticscholar.org/paper/2cac9d4521fb51f1644a6a318df5ed84e8a1878d",
         "venue": "COLING",
         "year": 2016
        },
        {
         "arxivId": null,
         "authors": [
          {
           "authorId": "3053123",
           "name": "Eric Gribkoff"
          },
          {
           "authorId": "144823759",
           "name": "Dan Suciu"
          }
         ],
         "doi": "10.14778/2904483.2904487",
         "intent": [
          "background"
         ],
         "isInfluential": false,
         "paperId": "c29c885a96d4e64f7c6c523efcb50e9aac30bc20",
         "title": "SlimShot: In-Database Probabilistic Inference for Knowledge Bases",
         "url": "https://www.semanticscholar.org/paper/c29c885a96d4e64f7c6c523efcb50e9aac30bc20",
         "venue": "Proc. VLDB Endow.",
         "year": 2016
        },
        {
         "arxivId": null,
         "authors": [
          {
           "authorId": "2202914",
           "name": "Min-Chul Yang"
          },
          {
           "authorId": "2842256",
           "name": "Do-Gil Lee"
          },
          {
           "authorId": "46569948",
           "name": "Soyoung Park"
          },
          {
           "authorId": "2326357",
           "name": "H. Rim"
          }
         ],
         "doi": "10.1016/j.eswa.2015.07.009",
         "intent": [],
         "isInfluential": false,
         "paperId": "f23693e451419bba0bae2fd020119d6e43cd6c70",
         "title": "Knowledge-based question answering using the semantic embedding space",
         "url": "https://www.semanticscholar.org/paper/f23693e451419bba0bae2fd020119d6e43cd6c70",
         "venue": "Expert Syst. Appl.",
         "year": 2015
        },
        {
         "arxivId": null,
         "authors": [
          {
           "authorId": "151112226",
           "name": "Michael Färber"
          },
          {
           "authorId": "1748257",
           "name": "Achim Rettinger"
          },
          {
           "authorId": "8205260",
           "name": "B. E. Asmar"
          }
         ],
         "doi": "10.1007/978-3-319-49004-5_15",
         "intent": [
          "background"
         ],
         "isInfluential": false,
         "paperId": "2dd9a3ffde3221d0b43a7b12db3bb69f03a95a96",
         "title": "On Emerging Entity Detection",
         "url": "https://www.semanticscholar.org/paper/2dd9a3ffde3221d0b43a7b12db3bb69f03a95a96",
         "venue": "EKAW",
         "year": 2016
        },
        {
         "arxivId": null,
         "authors": [
          {
           "authorId": "2201696",
           "name": "M. Lafourcade"
          },
          {
           "authorId": "2279691",
           "name": "L. Ramadier"
          }
         ],
         "doi": null,
         "intent": [],
         "isInfluential": false,
         "paperId": "2caee7e58545c059263d58a9fefe6cb627c0b30b",
         "title": "Semantic Relation Extraction with Semantic Patterns Experiment on Radiology Reports",
         "url": "https://www.semanticscholar.org/paper/2caee7e58545c059263d58a9fefe6cb627c0b30b",
         "venue": "LREC",
         "year": 2016
        },
        {
         "arxivId": "1712.05191",
         "authors": [
          {
           "authorId": "145828644",
           "name": "S. Pawar"
          },
          {
           "authorId": "1747097",
           "name": "Girish Keshav Palshikar"
          },
          {
           "authorId": "145532184",
           "name": "P. Bhattacharyya"
          }
         ],
         "doi": null,
         "intent": [
          "background"
         ],
         "isInfluential": false,
         "paperId": "43df0e843b2cede393bb64ed953c7c41391246aa",
         "title": "Relation Extraction : A Survey",
         "url": "https://www.semanticscholar.org/paper/43df0e843b2cede393bb64ed953c7c41391246aa",
         "venue": "ArXiv",
         "year": 2017
        },
        {
         "arxivId": null,
         "authors": [
          {
           "authorId": "11974049",
           "name": "Arnab Dutta"
          },
          {
           "authorId": "1795542",
           "name": "Christian Meilicke"
          },
          {
           "authorId": "2780262",
           "name": "Mathias Niepert"
          },
          {
           "authorId": "1801255",
           "name": "Simone Paolo Ponzetto"
          }
         ],
         "doi": null,
         "intent": [
          "background"
         ],
         "isInfluential": true,
         "paperId": "3b61d2494e7ca8405b64d4f0634103a821dedaa1",
         "title": "Integrating Open and Closed Information Extraction: Challenges and First Steps",
         "url": "https://www.semanticscholar.org/paper/3b61d2494e7ca8405b64d4f0634103a821dedaa1",
         "venue": "NLP-DBPEDIA@ISWC",
         "year": 2013
        },
        {
         "arxivId": null,
         "authors": [
          {
           "authorId": "49786121",
           "name": "D. Gerber"
          },
          {
           "authorId": "2024066",
           "name": "S. Hellmann"
          },
          {
           "authorId": "2625507",
           "name": "Lorenz Bühmann"
          },
          {
           "authorId": "1869895",
           "name": "Tommaso Soru"
          },
          {
           "authorId": "2370666",
           "name": "Ricardo Usbeck"
          },
          {
           "authorId": "1712107",
           "name": "Axel-Cyrille Ngonga Ngomo"
          }
         ],
         "doi": "10.1007/978-3-642-41335-3_9",
         "intent": [],
         "isInfluential": false,
         "paperId": "f9fd2cf00cc161bcee5b1e98b3f284764e61d913",
         "title": "Real-Time RDF Extraction from Unstructured Data Streams",
         "url": "https://www.semanticscholar.org/paper/f9fd2cf00cc161bcee5b1e98b3f284764e61d913",
         "venue": "International Semantic Web Conference",
         "year": 2013
        },
        {
         "arxivId": null,
         "authors": [
          {
           "authorId": "2427918",
           "name": "C. Xavier"
          },
          {
           "authorId": "144367912",
           "name": "V. Lima"
          },
          {
           "authorId": "48352393",
           "name": "Marlo Souza"
          }
         ],
         "doi": "10.1109/BRACIS.2013.39",
         "intent": [
          "methodology"
         ],
         "isInfluential": false,
         "paperId": "bcaa8610a9de48b0888c59383ffb65229e29aeac",
         "title": "Open Information Extraction Based on Lexical-Syntactic Patterns",
         "url": "https://www.semanticscholar.org/paper/bcaa8610a9de48b0888c59383ffb65229e29aeac",
         "venue": "2013 Brazilian Conference on Intelligent Systems",
         "year": 2013
        },
        {
         "arxivId": null,
         "authors": [
          {
           "authorId": "2403712",
           "name": "A. Akbik"
          },
          {
           "authorId": "1718694",
           "name": "Yunyao Li"
          }
         ],
         "doi": null,
         "intent": [
          "methodology",
          "background"
         ],
         "isInfluential": false,
         "paperId": "ac8b6f00b10886ff81b87208638e488baa5dd2d4",
         "title": "Multilingual Semantic Role Labeling with Unified Labels",
         "url": "https://www.semanticscholar.org/paper/ac8b6f00b10886ff81b87208638e488baa5dd2d4",
         "venue": "",
         "year": 2016
        },
        {
         "arxivId": null,
         "authors": [
          {
           "authorId": null,
           "name": "Resumen Por"
          }
         ],
         "doi": null,
         "intent": [
          "background",
          "result",
          "methodology"
         ],
         "isInfluential": true,
         "paperId": "6083bb267a09e43bce03ebe2bc50c1f0ca2f2641",
         "title": "Automatic Identification of Facts in Real Internet Texts in Spanish Using Lightweight Syntactic Constraints : Problems , Their Causes , and Ways for Improvement",
         "url": "https://www.semanticscholar.org/paper/6083bb267a09e43bce03ebe2bc50c1f0ca2f2641",
         "venue": "",
         "year": null
        },
        {
         "arxivId": null,
         "authors": [
          {
           "authorId": "144073290",
           "name": "M. Fossati"
          }
         ],
         "doi": null,
         "intent": [
          "background"
         ],
         "isInfluential": false,
         "paperId": "15969dd8da470161ced6c6e65383feb8ecf2837d",
         "title": "Automatic Population of Structured Knowledge Bases via Natural Language Processing",
         "url": "https://www.semanticscholar.org/paper/15969dd8da470161ced6c6e65383feb8ecf2837d",
         "venue": "",
         "year": 2017
        },
        {
         "arxivId": null,
         "authors": [
          {
           "authorId": "34796954",
           "name": "M. Yosef"
          }
         ],
         "doi": "10.22028/D291-25426",
         "intent": [
          "methodology"
         ],
         "isInfluential": false,
         "paperId": "bc5e7da2492eef17d60ccebccee906efdb2f3713",
         "title": "U-AIDA: a customizable system for named entity recognition, classification, and disambiguation",
         "url": "https://www.semanticscholar.org/paper/bc5e7da2492eef17d60ccebccee906efdb2f3713",
         "venue": "",
         "year": 2015
        },
        {
         "arxivId": null,
         "authors": [
          {
           "authorId": "144117323",
           "name": "J. Kumar"
          },
          {
           "authorId": "40466850",
           "name": "C. Lange"
          },
          {
           "authorId": "35393326",
           "name": "C. Schmidt"
          },
          {
           "authorId": "1981679",
           "name": "D. Lukovnikov"
          },
          {
           "authorId": "3370065",
           "name": "Dennis Diefenbach"
          },
          {
           "authorId": "2218938",
           "name": "Hady ElSahar"
          },
          {
           "authorId": "144245703",
           "name": "H. Thakkar"
          },
          {
           "authorId": "1404601303",
           "name": "José M. Giménez-García"
          },
          {
           "authorId": "51921854",
           "name": "K. Singh"
          },
          {
           "authorId": "3124654",
           "name": "P. Maret"
          },
          {
           "authorId": "3319633",
           "name": "Kemele M. Endris"
          },
          {
           "authorId": "152585255",
           "name": "Kuldeep Singh"
          },
          {
           "authorId": "1410579355",
           "name": "N. Liappas"
          },
          {
           "authorId": "7631872",
           "name": "P. Vougiouklis"
          },
          {
           "authorId": "2956693",
           "name": "Saeedeh Shekarpour"
          },
          {
           "authorId": "5677562",
           "name": "A. Piscopo"
          },
          {
           "authorId": "1410579355",
           "name": "N. Liappas"
          },
          {
           "authorId": "7631872",
           "name": "P. Vougiouklis"
          }
         ],
         "doi": null,
         "intent": [
          "methodology",
          "background"
         ],
         "isInfluential": false,
         "paperId": "627e5df07f6b97cb9e053656d699ff5c4f98a538",
         "title": "Marie Sk lodowska-Curie Actions ( MSCA ) Innovative Training Networks ( ITN ) H 2020-MSCA-ITN-2014",
         "url": "https://www.semanticscholar.org/paper/627e5df07f6b97cb9e053656d699ff5c4f98a538",
         "venue": "",
         "year": 2015
        },
        {
         "arxivId": null,
         "authors": [
          {
           "authorId": "46314959",
           "name": "W. Wang"
          },
          {
           "authorId": "1740190",
           "name": "R. Besançon"
          },
          {
           "authorId": "1679133",
           "name": "Olivier Ferret"
          },
          {
           "authorId": "1704849",
           "name": "B. Grau"
          }
         ],
         "doi": null,
         "intent": [],
         "isInfluential": false,
         "paperId": "47e2fb46beb6766d7e8d2498e9f56746106b65df",
         "title": "Semantic relation clustering for unsupervised information extraction (Regroupement sémantique de relations pour l'extraction d'information non supervisée) [in French]",
         "url": "https://www.semanticscholar.org/paper/47e2fb46beb6766d7e8d2498e9f56746106b65df",
         "venue": "TALN",
         "year": 2013
        },
        {
         "arxivId": null,
         "authors": [
          {
           "authorId": "1403473008",
           "name": "M. A. Valenzuela-Escarcega"
          }
         ],
         "doi": null,
         "intent": [
          "background"
         ],
         "isInfluential": false,
         "paperId": "a450d8cab6ec39003fb371a45625db7959b034e9",
         "title": "Interpretable Models for Information Extraction",
         "url": "https://www.semanticscholar.org/paper/a450d8cab6ec39003fb371a45625db7959b034e9",
         "venue": "",
         "year": 2016
        },
        {
         "arxivId": null,
         "authors": [
          {
           "authorId": "38602530",
           "name": "M. Kamel"
          },
          {
           "authorId": "1782940",
           "name": "C. Santos"
          },
          {
           "authorId": "3304158",
           "name": "Adel Ghamnia"
          },
          {
           "authorId": "1403088591",
           "name": "N. Aussenac-Gilles"
          },
          {
           "authorId": "48964488",
           "name": "C. Fabre"
          }
         ],
         "doi": null,
         "intent": [
          "background",
          "methodology"
         ],
         "isInfluential": false,
         "paperId": "598edaa47d1c070f5ab8a3d0129b39c2e7b1261c",
         "title": "Extracting hypernym relations from Wikipedia disambiguation pages : comparing symbolic and machine learning approaches",
         "url": "https://www.semanticscholar.org/paper/598edaa47d1c070f5ab8a3d0129b39c2e7b1261c",
         "venue": "IWCS",
         "year": 2017
        },
        {
         "arxivId": null,
         "authors": [
          {
           "authorId": "65983310",
           "name": "Junlang Zhan"
          },
          {
           "authorId": "47941144",
           "name": "Hai Zhao"
          }
         ],
         "doi": null,
         "intent": [
          "methodology"
         ],
         "isInfluential": true,
         "paperId": "08919d3f90baf9c31210d33bc7bb49f544ba4212",
         "title": "Span Based Open Information Extraction",
         "url": "https://www.semanticscholar.org/paper/08919d3f90baf9c31210d33bc7bb49f544ba4212",
         "venue": "ArXiv",
         "year": 2019
        },
        {
         "arxivId": null,
         "authors": [
          {
           "authorId": "3115338",
           "name": "M. Spaniol"
          }
         ],
         "doi": null,
         "intent": [],
         "isInfluential": false,
         "paperId": "ef5096b154a4b367457e8a51370b42dc7ba0ffef",
         "title": "A Framework for Temporal Web Analytics",
         "url": "https://www.semanticscholar.org/paper/ef5096b154a4b367457e8a51370b42dc7ba0ffef",
         "venue": "",
         "year": 2014
        },
        {
         "arxivId": null,
         "authors": [
          {
           "authorId": "1726618",
           "name": "René Speck"
          },
          {
           "authorId": "1712107",
           "name": "Axel-Cyrille Ngonga Ngomo"
          }
         ],
         "doi": "10.1007/978-3-030-03667-6_27",
         "intent": [],
         "isInfluential": false,
         "paperId": "5c6c7a2474930eef76e334f29d12d417e9fadde5",
         "title": "On Extracting Relations Using Distributional Semantics and a Tree Generalization",
         "url": "https://www.semanticscholar.org/paper/5c6c7a2474930eef76e334f29d12d417e9fadde5",
         "venue": "EKAW",
         "year": 2018
        },
        {
         "arxivId": null,
         "authors": [
          {
           "authorId": "37952891",
           "name": "M. Vita"
          }
         ],
         "doi": "10.15439/2018F381",
         "intent": [],
         "isInfluential": false,
         "paperId": "f7a035cbbad3ce66ad586e86ced9794d60c2942e",
         "title": "From Building Corpora for Recognizing Faceted Entailment to Recognizing Relational Entailment",
         "url": "https://www.semanticscholar.org/paper/f7a035cbbad3ce66ad586e86ced9794d60c2942e",
         "venue": "FedCSIS",
         "year": 2018
        },
        {
         "arxivId": null,
         "authors": [
          {
           "authorId": "1524732527",
           "name": "Xuezhi Wang"
          },
          {
           "authorId": "145901415",
           "name": "Cong Yu"
          }
         ],
         "doi": "10.1007/978-3-030-30793-6_40",
         "intent": [
          "background",
          "methodology"
         ],
         "isInfluential": false,
         "paperId": "82d5377ec572843a713cfa7eaad137f5d303c4f3",
         "title": "Summarizing News Articles Using Question-and-Answer Pairs via Learning",
         "url": "https://www.semanticscholar.org/paper/82d5377ec572843a713cfa7eaad137f5d303c4f3",
         "venue": "SEMWEB",
         "year": 2019
        },
        {
         "arxivId": null,
         "authors": [
          {
           "authorId": "145411800",
           "name": "Xiao Ding"
          },
          {
           "authorId": "152277111",
           "name": "B. Qin"
          },
          {
           "authorId": "46999402",
           "name": "T. Liu"
          }
         ],
         "doi": "10.1631/FITEE.1400405",
         "intent": [
          "background"
         ],
         "isInfluential": false,
         "paperId": "e558fb9be17dfab1dd942e97b5ebfa3a5c7965e2",
         "title": "BUEES: a bottom-up event extraction system",
         "url": "https://www.semanticscholar.org/paper/e558fb9be17dfab1dd942e97b5ebfa3a5c7965e2",
         "venue": "Frontiers of Information Technology & Electronic Engineering",
         "year": 2015
        },
        {
         "arxivId": "2001.09466",
         "authors": [
          {
           "authorId": "1875906",
           "name": "Luciano Del Corro"
          },
          {
           "authorId": "1727527",
           "name": "Johannes Hoffart"
          }
         ],
         "doi": null,
         "intent": [
          "methodology"
         ],
         "isInfluential": false,
         "paperId": "ff3f3116be9608540cf8f7a90903fd2b0e4110c6",
         "title": "Unsupervised Extraction of Market Moving Events with Neural Attention",
         "url": "https://www.semanticscholar.org/paper/ff3f3116be9608540cf8f7a90903fd2b0e4110c6",
         "venue": "ArXiv",
         "year": 2020
        },
        {
         "arxivId": null,
         "authors": [
          {
           "authorId": "1682418",
           "name": "C. Aggarwal"
          },
          {
           "authorId": "1736467",
           "name": "ChengXiang Zhai"
          }
         ],
         "doi": "10.1007/978-3-319-14142-8_13",
         "intent": [],
         "isInfluential": false,
         "paperId": "8f8662c18afbaede0424267c9497038095f34c00",
         "title": "Mining Text Data",
         "url": "https://www.semanticscholar.org/paper/8f8662c18afbaede0424267c9497038095f34c00",
         "venue": "",
         "year": 2012
        },
        {
         "arxivId": null,
         "authors": [
          {
           "authorId": "38087946",
           "name": "Anthony Fader"
          },
          {
           "authorId": "1982950",
           "name": "Luke Zettlemoyer"
          },
          {
           "authorId": "1741101",
           "name": "Oren Etzioni"
          }
         ],
         "doi": "10.1145/2623330.2623677",
         "intent": [],
         "isInfluential": false,
         "paperId": "f86ec155cce6259e5230aaad3b762343757feb1d",
         "title": "Open question answering over curated and extracted knowledge bases",
         "url": "https://www.semanticscholar.org/paper/f86ec155cce6259e5230aaad3b762343757feb1d",
         "venue": "KDD '14",
         "year": 2014
        },
        {
         "arxivId": "2009.12681",
         "authors": [
          {
           "authorId": "145341207",
           "name": "Chenhan Yuan"
          },
          {
           "authorId": "1862090",
           "name": "Ryan A. Rossi"
          },
          {
           "authorId": "144278620",
           "name": "A. Katz"
          },
          {
           "authorId": "3355952",
           "name": "H. Eldardiry"
          }
         ],
         "doi": null,
         "intent": [],
         "isInfluential": false,
         "paperId": "d61bb3aafef7cd23585654994306e3d6c20e4561",
         "title": "Clustering-based Unsupervised Generative Relation Extraction",
         "url": "https://www.semanticscholar.org/paper/d61bb3aafef7cd23585654994306e3d6c20e4561",
         "venue": "ArXiv",
         "year": 2020
        },
        {
         "arxivId": null,
         "authors": [
          {
           "authorId": "35810037",
           "name": "H. L. Nguyen"
          },
          {
           "authorId": "1658831595",
           "name": "Dang Thinh Vu"
          },
          {
           "authorId": "145888300",
           "name": "J. Jung"
          }
         ],
         "doi": "10.1016/j.inffus.2020.03.014",
         "intent": [],
         "isInfluential": false,
         "paperId": "256138a5e7400afda607a03917d0a03247ae9b56",
         "title": "Knowledge graph fusion for smart systems: A Survey",
         "url": "https://www.semanticscholar.org/paper/256138a5e7400afda607a03917d0a03247ae9b56",
         "venue": "Inf. Fusion",
         "year": 2020
        },
        {
         "arxivId": "1702.05250",
         "authors": [
          {
           "authorId": "1696663",
           "name": "D. Sonntag"
          }
         ],
         "doi": null,
         "intent": [],
         "isInfluential": false,
         "paperId": "51a08c3bd12920cfa4971497a0b879f004777ddb",
         "title": "Intelligent User Interfaces - A Tutorial",
         "url": "https://www.semanticscholar.org/paper/51a08c3bd12920cfa4971497a0b879f004777ddb",
         "venue": "ArXiv",
         "year": 2017
        },
        {
         "arxivId": null,
         "authors": [
          {
           "authorId": "2403712",
           "name": "A. Akbik"
          },
          {
           "authorId": "1718694",
           "name": "Yunyao Li"
          }
         ],
         "doi": null,
         "intent": [
          "background"
         ],
         "isInfluential": false,
         "paperId": "8968a6fe206a74989a5156f3f67de3bf24f44747",
         "title": "K-SRL: Instance-based Learning for Semantic Role Labeling",
         "url": "https://www.semanticscholar.org/paper/8968a6fe206a74989a5156f3f67de3bf24f44747",
         "venue": "COLING",
         "year": 2016
        },
        {
         "arxivId": "1905.08487",
         "authors": [
          {
           "authorId": "118122491",
           "name": "B. Liu"
          },
          {
           "authorId": "48544823",
           "name": "W. Guo"
          },
          {
           "authorId": "49412100",
           "name": "Di Niu"
          },
          {
           "authorId": null,
           "name": "Chaoyue Wang"
          },
          {
           "authorId": "145846495",
           "name": "Shunnan Xu"
          },
          {
           "authorId": "8920573",
           "name": "Jinghong Lin"
          },
          {
           "authorId": "2710113",
           "name": "K. Lai"
          },
          {
           "authorId": "51441489",
           "name": "Y. Xu"
          }
         ],
         "doi": "10.1145/3292500.3330727",
         "intent": [
          "methodology"
         ],
         "isInfluential": false,
         "paperId": "f50d542a9904b5c42253672a6500871fd93538b0",
         "title": "A User-Centered Concept Mining System for Query and Document Understanding at Tencent",
         "url": "https://www.semanticscholar.org/paper/f50d542a9904b5c42253672a6500871fd93538b0",
         "venue": "KDD",
         "year": 2019
        },
        {
         "arxivId": "1805.04270",
         "authors": [
          {
           "authorId": "145500855",
           "name": "Lei Cui"
          },
          {
           "authorId": "49807919",
           "name": "Furu Wei"
          },
          {
           "authorId": "143849609",
           "name": "M. Zhou"
          }
         ],
         "doi": "10.18653/v1/P18-2065",
         "intent": [
          "methodology",
          "background"
         ],
         "isInfluential": true,
         "paperId": "c3e51cc7514d1d6e2416ff00564e87914c5588ee",
         "title": "Neural Open Information Extraction",
         "url": "https://www.semanticscholar.org/paper/c3e51cc7514d1d6e2416ff00564e87914c5588ee",
         "venue": "ACL",
         "year": 2018
        },
        {
         "arxivId": "1904.12606",
         "authors": [
          {
           "authorId": "49356872",
           "name": "Dongxu Zhang"
          },
          {
           "authorId": "1777140",
           "name": "Subhabrata Mukherjee"
          },
          {
           "authorId": "144182018",
           "name": "Colin Lockard"
          },
          {
           "authorId": "145867172",
           "name": "X. Dong"
          },
          {
           "authorId": "143753639",
           "name": "A. McCallum"
          }
         ],
         "doi": "10.18653/V1/N19-1083",
         "intent": [
          "background",
          "methodology"
         ],
         "isInfluential": true,
         "paperId": "d17b6e623fc7f5ca305b2111d695ad494fbb7e2f",
         "title": "OpenKI: Integrating Open Information Extraction and Knowledge Bases with Relation Inference",
         "url": "https://www.semanticscholar.org/paper/d17b6e623fc7f5ca305b2111d695ad494fbb7e2f",
         "venue": "NAACL-HLT",
         "year": 2019
        },
        {
         "arxivId": "1903.00172",
         "authors": [
          {
           "authorId": "29995869",
           "name": "Nikita Bhutani"
          },
          {
           "authorId": "38844482",
           "name": "Yoshihiko Suhara"
          },
          {
           "authorId": "34582619",
           "name": "W. Tan"
          },
          {
           "authorId": "1770962",
           "name": "A. Halevy"
          },
          {
           "authorId": "145531067",
           "name": "H. V. Jagadish"
          }
         ],
         "doi": "10.18653/v1/n19-1239",
         "intent": [
          "background"
         ],
         "isInfluential": false,
         "paperId": "5daccec4b84f52000602c6fa22b3ff87d1072e8e",
         "title": "Open Information Extraction from Question-Answer Pairs",
         "url": "https://www.semanticscholar.org/paper/5daccec4b84f52000602c6fa22b3ff87d1072e8e",
         "venue": "NAACL-HLT",
         "year": 2019
        },
        {
         "arxivId": null,
         "authors": [
          {
           "authorId": "7621447",
           "name": "X. Wei"
          },
          {
           "authorId": "4590286",
           "name": "Heyan Huang"
          },
          {
           "authorId": "143982887",
           "name": "L. Nie"
          },
          {
           "authorId": "5462268",
           "name": "Hanwang Zhang"
          },
          {
           "authorId": "2089102",
           "name": "X. Mao"
          },
          {
           "authorId": "144078686",
           "name": "Tat-Seng Chua"
          }
         ],
         "doi": "10.1109/TKDE.2016.2622705",
         "intent": [],
         "isInfluential": false,
         "paperId": "31e17c7eb97100831cc96388894cbc62abbd64b8",
         "title": "I Know What You Want to Express: Sentence Element Inference by Incorporating External Knowledge Base",
         "url": "https://www.semanticscholar.org/paper/31e17c7eb97100831cc96388894cbc62abbd64b8",
         "venue": "IEEE Transactions on Knowledge and Data Engineering",
         "year": 2017
        },
        {
         "arxivId": null,
         "authors": [
          {
           "authorId": "2693862",
           "name": "Martin Stabauer"
          },
          {
           "authorId": "31843067",
           "name": "G. Grossmann"
          },
          {
           "authorId": "1697771",
           "name": "M. Stumptner"
          }
         ],
         "doi": "10.1145/2843043.2843378",
         "intent": [],
         "isInfluential": false,
         "paperId": "3719cf1d86b93718d50886834ceaecd1c64eb1bd",
         "title": "State of the art in knowledge extraction from online polls: a survey of current technologies",
         "url": "https://www.semanticscholar.org/paper/3719cf1d86b93718d50886834ceaecd1c64eb1bd",
         "venue": "ACSW '16",
         "year": 2016
        },
        {
         "arxivId": null,
         "authors": [
          {
           "authorId": "145385361",
           "name": "Luc Lamontagne"
          },
          {
           "authorId": "2482151",
           "name": "F. Laviolette"
          },
          {
           "authorId": "49345264",
           "name": "R. Khoury"
          },
          {
           "authorId": "1409026089",
           "name": "A. Bergeron-Guyard"
          }
         ],
         "doi": "10.2316/P.2014.816-018",
         "intent": [
          "background"
         ],
         "isInfluential": false,
         "paperId": "240c8cafe5ee472d91b2896d596d95bddb0dd76e",
         "title": "A FRAMEWORK FOR BUILDING ADAPTIVE INTELLIGENT VIRTUAL ASSISTANTS",
         "url": "https://www.semanticscholar.org/paper/240c8cafe5ee472d91b2896d596d95bddb0dd76e",
         "venue": "",
         "year": 2014
        },
        {
         "arxivId": null,
         "authors": [
          {
           "authorId": "1873744",
           "name": "L. Galárraga"
          }
         ],
         "doi": "10.1145/2663714.2668052",
         "intent": [
          "background"
         ],
         "isInfluential": true,
         "paperId": "bbf580eff93961ce3739cbe22b62c3bcc3c2f88d",
         "title": "Applications of Rule Mining in Knowledge Bases",
         "url": "https://www.semanticscholar.org/paper/bbf580eff93961ce3739cbe22b62c3bcc3c2f88d",
         "venue": "PIKM '14",
         "year": 2014
        },
        {
         "arxivId": null,
         "authors": [
          {
           "authorId": "143739029",
           "name": "L. Borin"
          },
          {
           "authorId": "34702126",
           "name": "Shafqat Mumtaz Virk"
          },
          {
           "authorId": "152564065",
           "name": "A. Saxena"
          }
         ],
         "doi": null,
         "intent": [
          "methodology"
         ],
         "isInfluential": false,
         "paperId": "1afd2ce74e1b60f7e96ce31dc34873c560c58f85",
         "title": "Many a Little Makes a Mickle - Infrastructure Component Reuse for a Massively Multilingual Linguistic Study",
         "url": "https://www.semanticscholar.org/paper/1afd2ce74e1b60f7e96ce31dc34873c560c58f85",
         "venue": "",
         "year": 2018
        },
        {
         "arxivId": null,
         "authors": [
          {
           "authorId": "145863351",
           "name": "N. Khairova"
          },
          {
           "authorId": "3465425",
           "name": "S. Petrasova"
          },
          {
           "authorId": "145470529",
           "name": "O. Mamyrbayev"
          },
          {
           "authorId": "83192010",
           "name": "Kuralay Mukhsina"
          }
         ],
         "doi": "10.1007/978-3-030-41964-6_8",
         "intent": [],
         "isInfluential": false,
         "paperId": "17b5757325a82b0e3c7de481635ddde43db91eed",
         "title": "Open Information Extraction as Additional Source for Kazakh Ontology Generation",
         "url": "https://www.semanticscholar.org/paper/17b5757325a82b0e3c7de481635ddde43db91eed",
         "venue": "ACIIDS",
         "year": 2020
        },
        {
         "arxivId": null,
         "authors": [
          {
           "authorId": "3213962",
           "name": "Adam Grycner"
          },
          {
           "authorId": "1751591",
           "name": "G. Weikum"
          },
          {
           "authorId": "2634786",
           "name": "J. Pujara"
          },
          {
           "authorId": "31275119",
           "name": "J. Foulds"
          },
          {
           "authorId": "1746034",
           "name": "L. Getoor"
          }
         ],
         "doi": null,
         "intent": [
          "background"
         ],
         "isInfluential": false,
         "paperId": "d288889bbec0a555e35c446f33e2ba7e3f2be5e2",
         "title": "A Unified Probabilistic Approach for Semantic Clustering of Relational Phrases",
         "url": "https://www.semanticscholar.org/paper/d288889bbec0a555e35c446f33e2ba7e3f2be5e2",
         "venue": "",
         "year": 2014
        },
        {
         "arxivId": null,
         "authors": [
          {
           "authorId": "1747182",
           "name": "S. Schmeier"
          }
         ],
         "doi": null,
         "intent": [],
         "isInfluential": false,
         "paperId": "e5cf35feddfb46a953f1dbdd18f286455d165c2c",
         "title": "Exploratory search on mobile devices",
         "url": "https://www.semanticscholar.org/paper/e5cf35feddfb46a953f1dbdd18f286455d165c2c",
         "venue": "",
         "year": 2014
        },
        {
         "arxivId": null,
         "authors": [
          {
           "authorId": "17305190",
           "name": "Cleiton Fernando Lima Sena"
          },
          {
           "authorId": "2592081",
           "name": "Daniela Barreiro Claro"
          }
         ],
         "doi": "10.1007/s10115-020-01442-7",
         "intent": [
          "background",
          "methodology"
         ],
         "isInfluential": true,
         "paperId": "de3fb83b0f4e010887d66173576513f7d7d21ffa",
         "title": "PragmaticOIE: a pragmatic open information extraction for Portuguese language",
         "url": "https://www.semanticscholar.org/paper/de3fb83b0f4e010887d66173576513f7d7d21ffa",
         "venue": "Knowledge and Information Systems",
         "year": 2020
        },
        {
         "arxivId": null,
         "authors": [
          {
           "authorId": "2258074",
           "name": "Hailun Lin"
          },
          {
           "authorId": "2219600",
           "name": "Yuanzhuo Wang"
          },
          {
           "authorId": "47243067",
           "name": "P. Zhang"
          },
          {
           "authorId": "46315247",
           "name": "W. Wang"
          },
          {
           "authorId": "35755264",
           "name": "Yinliang Yue"
          },
          {
           "authorId": "144981131",
           "name": "Zheng Lin"
          }
         ],
         "doi": "10.1007/978-3-319-31750-2_26",
         "intent": [
          "methodology",
          "background"
         ],
         "isInfluential": true,
         "paperId": "4920f7bec7c401af1e9f61feeeea1075b49a4e87",
         "title": "A Rule Based Open Information Extraction Method Using Cascaded Finite-State Transducer",
         "url": "https://www.semanticscholar.org/paper/4920f7bec7c401af1e9f61feeeea1075b49a4e87",
         "venue": "PAKDD",
         "year": 2016
        },
        {
         "arxivId": "1806.05599",
         "authors": [
          {
           "authorId": "7193142",
           "name": "Christina Niklaus"
          },
          {
           "authorId": "51026595",
           "name": "Matthias Cetto"
          },
          {
           "authorId": "145528474",
           "name": "André Freitas"
          },
          {
           "authorId": "1789102",
           "name": "S. Handschuh"
          }
         ],
         "doi": null,
         "intent": [
          "background",
          "methodology"
         ],
         "isInfluential": true,
         "paperId": "78983b899635d796cd4cc06271b908c5d9d6984b",
         "title": "A Survey on Open Information Extraction",
         "url": "https://www.semanticscholar.org/paper/78983b899635d796cd4cc06271b908c5d9d6984b",
         "venue": "COLING",
         "year": 2018
        },
        {
         "arxivId": "1906.01038",
         "authors": [
          {
           "authorId": "7193142",
           "name": "Christina Niklaus"
          },
          {
           "authorId": "51026595",
           "name": "Matthias Cetto"
          },
          {
           "authorId": "145528474",
           "name": "André Freitas"
          },
          {
           "authorId": "1789102",
           "name": "S. Handschuh"
          }
         ],
         "doi": "10.18653/v1/P19-1333",
         "intent": [
          "methodology",
          "background"
         ],
         "isInfluential": true,
         "paperId": "f488493c6a87ac55d4639f7641dbf360582b91d0",
         "title": "Transforming Complex Sentences into a Semantic Hierarchy",
         "url": "https://www.semanticscholar.org/paper/f488493c6a87ac55d4639f7641dbf360582b91d0",
         "venue": "ACL",
         "year": 2019
        },
        {
         "arxivId": null,
         "authors": [
          {
           "authorId": "39699556",
           "name": "H. Wan"
          },
          {
           "authorId": "145446752",
           "name": "Marie-Francine Moens"
          },
          {
           "authorId": "47976588",
           "name": "Walter Luyten"
          },
          {
           "authorId": "4363150",
           "name": "X. Zhou"
          },
          {
           "authorId": "1743469",
           "name": "Q. Mei"
          },
          {
           "authorId": "39802490",
           "name": "L. Liu"
          },
          {
           "authorId": "46199760",
           "name": "J. Tang"
          }
         ],
         "doi": "10.1093/jamia/ocv092",
         "intent": [],
         "isInfluential": false,
         "paperId": "be553c2582ed0e0b1e6f33505f59af61048a79ca",
         "title": "Extracting relations from traditional Chinese medicine literature via heterogeneous entity networks",
         "url": "https://www.semanticscholar.org/paper/be553c2582ed0e0b1e6f33505f59af61048a79ca",
         "venue": "J. Am. Medical Informatics Assoc.",
         "year": 2016
        },
        {
         "arxivId": null,
         "authors": [
          {
           "authorId": "1750652",
           "name": "Jonathan Berant"
          },
          {
           "authorId": "7465342",
           "name": "I. Dagan"
          },
          {
           "authorId": "2819757",
           "name": "M. Adler"
          },
          {
           "authorId": "34508613",
           "name": "J. Goldberger"
          }
         ],
         "doi": null,
         "intent": [
          "background"
         ],
         "isInfluential": false,
         "paperId": "bc01d0a85cc158674ea06039c5d6ef8aea1748f7",
         "title": "Efficient Tree-based Approximation for Entailment Graph Learning",
         "url": "https://www.semanticscholar.org/paper/bc01d0a85cc158674ea06039c5d6ef8aea1748f7",
         "venue": "ACL",
         "year": 2012
        },
        {
         "arxivId": null,
         "authors": [
          {
           "authorId": "49786121",
           "name": "D. Gerber"
          },
          {
           "authorId": "1712107",
           "name": "Axel-Cyrille Ngonga Ngomo"
          }
         ],
         "doi": "10.1007/978-3-642-33876-2_10",
         "intent": [],
         "isInfluential": false,
         "paperId": "41d0dd5dba977fcf77167f90cc2dd7e0f8aca26a",
         "title": "Extracting Multilingual Natural-Language Patterns for RDF Predicates",
         "url": "https://www.semanticscholar.org/paper/41d0dd5dba977fcf77167f90cc2dd7e0f8aca26a",
         "venue": "EKAW",
         "year": 2012
        },
        {
         "arxivId": null,
         "authors": [
          {
           "authorId": "1954845",
           "name": "Shizhu He"
          },
          {
           "authorId": "48378872",
           "name": "Yuanzhe Zhang"
          },
          {
           "authorId": "2200096",
           "name": "Kang Liu"
          },
          {
           "authorId": "1390572170",
           "name": "Jun Zhao"
          }
         ],
         "doi": null,
         "intent": [],
         "isInfluential": false,
         "paperId": "29c6a8fd6201200bc83b54bad6a10d0c023b9928",
         "title": "CASIA@V2: A MLN-based Question Answering System over Linked Data",
         "url": "https://www.semanticscholar.org/paper/29c6a8fd6201200bc83b54bad6a10d0c023b9928",
         "venue": "CLEF",
         "year": 2014
        },
        {
         "arxivId": null,
         "authors": [
          {
           "authorId": "2657548",
           "name": "Jingtian Jiang"
          },
          {
           "authorId": "1781574",
           "name": "Chin-Yew Lin"
          },
          {
           "authorId": "145459055",
           "name": "Yong Rui"
          }
         ],
         "doi": null,
         "intent": [
          "methodology"
         ],
         "isInfluential": false,
         "paperId": "bc0c78c532a07c84d1366fcb65e935d7ee3162a7",
         "title": "MSR KMG at TREC 2014 KBA Track Vital Filtering Task",
         "url": "https://www.semanticscholar.org/paper/bc0c78c532a07c84d1366fcb65e935d7ee3162a7",
         "venue": "",
         "year": 2014
        },
        {
         "arxivId": null,
         "authors": [
          {
           "authorId": "3256207",
           "name": "Elizabeth Boschee"
          },
          {
           "authorId": "145414969",
           "name": "M. Freedman"
          },
          {
           "authorId": "2696009",
           "name": "Saurabh Khanwalkar"
          },
          {
           "authorId": "50333354",
           "name": "A. Kumar"
          },
          {
           "authorId": "121056575",
           "name": "A. Srivastava"
          },
          {
           "authorId": "1732071",
           "name": "R. Weischedel"
          }
         ],
         "doi": "10.1109/BigData.2014.7004337",
         "intent": [
          "methodology"
         ],
         "isInfluential": false,
         "paperId": "1e4ac2a92073235f9ebd357144fdff7472fac876",
         "title": "Researching persons & organizations: AWAKE: From text to an entity-centric knowledge base",
         "url": "https://www.semanticscholar.org/paper/1e4ac2a92073235f9ebd357144fdff7472fac876",
         "venue": "2014 IEEE International Conference on Big Data (Big Data)",
         "year": 2014
        },
        {
         "arxivId": null,
         "authors": [
          {
           "authorId": "32656155",
           "name": "Maria Teresa Llano"
          },
          {
           "authorId": "1687610",
           "name": "S. Colton"
          },
          {
           "authorId": "3380615",
           "name": "Rose Hepworth"
          },
          {
           "authorId": "2419877",
           "name": "J. Gow"
          }
         ],
         "doi": "10.1007/s12559-015-9366-4",
         "intent": [],
         "isInfluential": false,
         "paperId": "126cd46c464ad3a9ec28ea5af6e45c167469c76d",
         "title": "Automated Fictional Ideation via Knowledge Base Manipulation",
         "url": "https://www.semanticscholar.org/paper/126cd46c464ad3a9ec28ea5af6e45c167469c76d",
         "venue": "Cognitive Computation",
         "year": 2015
        },
        {
         "arxivId": null,
         "authors": [
          {
           "authorId": "3053023",
           "name": "J. Wang"
          },
          {
           "authorId": "2657548",
           "name": "Jingtian Jiang"
          },
          {
           "authorId": "3000498",
           "name": "Lejian Liao"
          },
          {
           "authorId": "145144398",
           "name": "Dandan Song"
          },
          {
           "authorId": "1959072",
           "name": "Z. Zhang"
          },
          {
           "authorId": "1781574",
           "name": "Chin-Yew Lin"
          }
         ],
         "doi": "10.1007/978-3-319-30671-1_63",
         "intent": [],
         "isInfluential": false,
         "paperId": "cbb34936c68461943e77850b3e76f886e9f85773",
         "title": "Cold Start Cumulative Citation Recommendation for Knowledge Base Acceleration",
         "url": "https://www.semanticscholar.org/paper/cbb34936c68461943e77850b3e76f886e9f85773",
         "venue": "ECIR",
         "year": 2016
        },
        {
         "arxivId": null,
         "authors": [
          {
           "authorId": "153426703",
           "name": "Maha Soliman"
          },
          {
           "authorId": "2423522",
           "name": "O. Nasraoui"
          },
          {
           "authorId": "144890219",
           "name": "N. Cooper"
          }
         ],
         "doi": "10.1186/s13040-016-0096-2",
         "intent": [
          "methodology"
         ],
         "isInfluential": true,
         "paperId": "e47024b2fc842f99937f2c35fa2176964b33fb59",
         "title": "Building a glaucoma interaction network using a text mining approach",
         "url": "https://www.semanticscholar.org/paper/e47024b2fc842f99937f2c35fa2176964b33fb59",
         "venue": "BioData Mining",
         "year": 2016
        },
        {
         "arxivId": null,
         "authors": [
          {
           "authorId": "144536646",
           "name": "Rui Sun"
          },
          {
           "authorId": "9313842",
           "name": "Zhenchao Wang"
          },
          {
           "authorId": "3350168",
           "name": "Yafeng Ren"
          },
          {
           "authorId": "1719916",
           "name": "Donghong Ji"
          }
         ],
         "doi": "10.1007/978-3-319-39937-9_24",
         "intent": [],
         "isInfluential": false,
         "paperId": "c3858a95edae1924d882ea7fd6f53e6ae9d1e5db",
         "title": "Query-Biased Multi-document Abstractive Summarization via Submodular Maximization Using Event Guidance",
         "url": "https://www.semanticscholar.org/paper/c3858a95edae1924d882ea7fd6f53e6ae9d1e5db",
         "venue": "WAIM",
         "year": 2016
        },
        {
         "arxivId": "1612.05348",
         "authors": [
          {
           "authorId": "3115592",
           "name": "Ndapandula Nakashole"
          },
          {
           "authorId": "40975594",
           "name": "Tom Michael Mitchell"
          }
         ],
         "doi": null,
         "intent": [],
         "isInfluential": false,
         "paperId": "20217099318328a3b2a470caf50e057fdc02c522",
         "title": "Machine Reading with Background Knowledge",
         "url": "https://www.semanticscholar.org/paper/20217099318328a3b2a470caf50e057fdc02c522",
         "venue": "ArXiv",
         "year": 2016
        },
        {
         "arxivId": null,
         "authors": [
          {
           "authorId": "2254466",
           "name": "Luis Espinosa Anke"
          },
          {
           "authorId": "3149915",
           "name": "S. Oramas"
          },
          {
           "authorId": "3014320",
           "name": "Horacio Saggion"
          },
          {
           "authorId": "144611740",
           "name": "X. Serra"
          }
         ],
         "doi": "10.1007/978-3-319-70407-4_44",
         "intent": [
          "background"
         ],
         "isInfluential": false,
         "paperId": "825bc9bcb71c7f10ee2fc71d38db42d949130086",
         "title": "ELMDist: A Vector Space Model with Words and MusicBrainz Entities",
         "url": "https://www.semanticscholar.org/paper/825bc9bcb71c7f10ee2fc71d38db42d949130086",
         "venue": "ESWC",
         "year": 2017
        },
        {
         "arxivId": null,
         "authors": [
          {
           "authorId": "1405157320",
           "name": "M. Perez-Arriaga"
          },
          {
           "authorId": "1762267",
           "name": "T. Estrada"
          },
          {
           "authorId": "1403235071",
           "name": "S. Abad-Mota"
          }
         ],
         "doi": "10.1007/978-3-319-94809-6_3",
         "intent": [],
         "isInfluential": false,
         "paperId": "353f0bea398b4423ef5c8b917db9e1ff1cc7496d",
         "title": "Construction of Semantic Data Models",
         "url": "https://www.semanticscholar.org/paper/353f0bea398b4423ef5c8b917db9e1ff1cc7496d",
         "venue": "DATA",
         "year": 2017
        },
        {
         "arxivId": null,
         "authors": [
          {
           "authorId": "35060091",
           "name": "X. Fang"
          },
          {
           "authorId": "1713128",
           "name": "Quan Z. Sheng"
          },
          {
           "authorId": "2877263",
           "name": "Xianzhi Wang"
          },
          {
           "authorId": "144510913",
           "name": "A. Ngu"
          },
          {
           "authorId": "49890681",
           "name": "Y. Zhang"
          }
         ],
         "doi": "10.1108/PRR-01-2017-0005",
         "intent": [],
         "isInfluential": false,
         "paperId": "81376ceaf4d51828b897031a7fdbd8f42dcaabf8",
         "title": "GrandBase: generating actionable knowledge from Big Data",
         "url": "https://www.semanticscholar.org/paper/81376ceaf4d51828b897031a7fdbd8f42dcaabf8",
         "venue": "",
         "year": 2017
        },
        {
         "arxivId": null,
         "authors": [
          {
           "authorId": "144375814",
           "name": "Denis Savenkov"
          },
          {
           "authorId": "2467894",
           "name": "Wei-Lwun Lu"
          },
          {
           "authorId": "145269114",
           "name": "Jeffrey Dalton"
          },
          {
           "authorId": "1685296",
           "name": "Eugene Agichtein"
          }
         ],
         "doi": "10.3115/v1/N15-2013",
         "intent": [
          "background"
         ],
         "isInfluential": false,
         "paperId": "f505e4ec2942841f66e9f16964048721758e3f76",
         "title": "Relation Extraction from Community Generated Question-Answer Pairs",
         "url": "https://www.semanticscholar.org/paper/f505e4ec2942841f66e9f16964048721758e3f76",
         "venue": "HLT-NAACL",
         "year": 2015
        },
        {
         "arxivId": null,
         "authors": [
          {
           "authorId": "35616463",
           "name": "Rachayita Giri"
          },
          {
           "authorId": "35604582",
           "name": "Yosha Porwal"
          },
          {
           "authorId": "35432980",
           "name": "Vaibhavi Shukla"
          },
          {
           "authorId": "35522373",
           "name": "Palak Chadha"
          },
          {
           "authorId": "40339392",
           "name": "Rishabh Kaushal"
          }
         ],
         "doi": "10.1109/IC3.2017.8284324",
         "intent": [],
         "isInfluential": false,
         "paperId": "58a97a72cf4f636da63a0be5a5599048a52b2fca",
         "title": "Approaches for information retrieval in legal documents",
         "url": "https://www.semanticscholar.org/paper/58a97a72cf4f636da63a0be5a5599048a52b2fca",
         "venue": "2017 Tenth International Conference on Contemporary Computing (IC3)",
         "year": 2017
        },
        {
         "arxivId": null,
         "authors": [
          {
           "authorId": "3727644",
           "name": "Satoshi Tsutsui"
          },
          {
           "authorId": "2384195",
           "name": "T. Morita"
          },
          {
           "authorId": "1756933",
           "name": "T. Yamaguchi"
          }
         ],
         "doi": null,
         "intent": [
          "background"
         ],
         "isInfluential": false,
         "paperId": "706e001ba2467d2280e5ce0eccf9d398b30d0c42",
         "title": "Extending DBpedia with List Structures in Wikipedia Articles",
         "url": "https://www.semanticscholar.org/paper/706e001ba2467d2280e5ce0eccf9d398b30d0c42",
         "venue": "",
         "year": 2016
        },
        {
         "arxivId": null,
         "authors": [
          {
           "authorId": "2076678",
           "name": "Jesse Dunietz"
          }
         ],
         "doi": null,
         "intent": [
          "background"
         ],
         "isInfluential": false,
         "paperId": "61a10ab4bd4acc7f090c7b7db2614e28ad509bfc",
         "title": "Annotating and Automatically Tagging Constructions of Causal Language",
         "url": "https://www.semanticscholar.org/paper/61a10ab4bd4acc7f090c7b7db2614e28ad509bfc",
         "venue": "",
         "year": 2017
        },
        {
         "arxivId": null,
         "authors": [
          {
           "authorId": "144924150",
           "name": "Jing Jiang"
          }
         ],
         "doi": null,
         "intent": [
          "methodology"
         ],
         "isInfluential": false,
         "paperId": "d0b696deded245be07486e5691918099f7bd967a",
         "title": "Chapter 2 INFORMATION EXTRACTION FROM TEXT",
         "url": "https://www.semanticscholar.org/paper/d0b696deded245be07486e5691918099f7bd967a",
         "venue": "",
         "year": 2012
        },
        {
         "arxivId": null,
         "authors": [
          {
           "authorId": "3407041",
           "name": "Sina Miran"
          }
         ],
         "doi": null,
         "intent": [],
         "isInfluential": false,
         "paperId": "7b0cf1a9de84d8ee1071ea7565639a863e445d25",
         "title": "Project Report CS 290D A Survey of Open Information Extraction Systems",
         "url": "https://www.semanticscholar.org/paper/7b0cf1a9de84d8ee1071ea7565639a863e445d25",
         "venue": "",
         "year": 2014
        },
        {
         "arxivId": null,
         "authors": [
          {
           "authorId": "1888753",
           "name": "Bifan Wei"
          },
          {
           "authorId": "145694057",
           "name": "Jun Liu"
          },
          {
           "authorId": "145608504",
           "name": "Jian Ma"
          },
          {
           "authorId": "50320297",
           "name": "Qinghua Zheng"
          },
          {
           "authorId": "144709639",
           "name": "Wei Zhang"
          },
          {
           "authorId": "1768968",
           "name": "Boqin Feng"
          }
         ],
         "doi": "10.1109/TKDE.2013.183",
         "intent": [],
         "isInfluential": false,
         "paperId": "a92c047961095bccee5fe2a1ae0d01bcf4d72d95",
         "title": "Motif-Based Hyponym Relation Extraction from Wikipedia Hyperlinks",
         "url": "https://www.semanticscholar.org/paper/a92c047961095bccee5fe2a1ae0d01bcf4d72d95",
         "venue": "IEEE Transactions on Knowledge and Data Engineering",
         "year": 2014
        },
        {
         "arxivId": null,
         "authors": [
          {
           "authorId": "3304158",
           "name": "Adel Ghamnia"
          },
          {
           "authorId": "38602530",
           "name": "M. Kamel"
          },
          {
           "authorId": "3469495",
           "name": "Cássia Trojahn"
          },
          {
           "authorId": "48964488",
           "name": "C. Fabre"
          },
          {
           "authorId": "1403088591",
           "name": "N. Aussenac-Gilles"
          }
         ],
         "doi": null,
         "intent": [],
         "isInfluential": false,
         "paperId": "ee76f21c11aaa350d480d5972877eb1c11a73d65",
         "title": "Extraction de relations : combiner les techniques pour s'adapter à la diversité du texte",
         "url": "https://www.semanticscholar.org/paper/ee76f21c11aaa350d480d5972877eb1c11a73d65",
         "venue": "IC",
         "year": 2017
        },
        {
         "arxivId": null,
         "authors": [
          {
           "authorId": "3370065",
           "name": "Dennis Diefenbach"
          },
          {
           "authorId": "39541449",
           "name": "K. Singh"
          },
          {
           "authorId": "3124654",
           "name": "P. Maret"
          }
         ],
         "doi": null,
         "intent": [
          "methodology",
          "background"
         ],
         "isInfluential": true,
         "paperId": "f317bb4e78a68b0aeed02461dfece92bcd42ba18",
         "title": "Core Techniques of Ontology-Based Question Answering Systems : a Survey",
         "url": "https://www.semanticscholar.org/paper/f317bb4e78a68b0aeed02461dfece92bcd42ba18",
         "venue": "",
         "year": 2015
        },
        {
         "arxivId": null,
         "authors": [
          {
           "authorId": "3443104",
           "name": "Gleb Gawriljuk"
          },
          {
           "authorId": "1775662",
           "name": "A. Harth"
          },
          {
           "authorId": "1745117",
           "name": "Craig A. Knoblock"
          },
          {
           "authorId": "2628881",
           "name": "Pedro A. Szekely"
          }
         ],
         "doi": "10.1007/978-3-319-43997-6_15",
         "intent": [
          "background"
         ],
         "isInfluential": false,
         "paperId": "dfd6beed49440e2a561c5ceb10d9d6d220f7c72b",
         "title": "A Scalable Approach to Incrementally Building Knowledge Graphs",
         "url": "https://www.semanticscholar.org/paper/dfd6beed49440e2a561c5ceb10d9d6d220f7c72b",
         "venue": "TPDL",
         "year": 2016
        },
        {
         "arxivId": null,
         "authors": [
          {
           "authorId": "2848544",
           "name": "Kolawole John Adebayo"
          },
          {
           "authorId": "49246337",
           "name": "Luigi Di Caro"
          },
          {
           "authorId": "1718172",
           "name": "Guido Boella"
          }
         ],
         "doi": null,
         "intent": [
          "background"
         ],
         "isInfluential": false,
         "paperId": "2998df057d2245a2244360b3cdee18eed8c10a33",
         "title": "Solving Bar Exam Questions with Deep Neural Networks",
         "url": "https://www.semanticscholar.org/paper/2998df057d2245a2244360b3cdee18eed8c10a33",
         "venue": "ASAIL@ICAIL",
         "year": 2017
        },
        {
         "arxivId": null,
         "authors": [
          {
           "authorId": "2411704",
           "name": "JianHou Gan"
          },
          {
           "authorId": "144000798",
           "name": "P. Huang"
          },
          {
           "authorId": "49639966",
           "name": "Juxiang Zhou"
          },
          {
           "authorId": "48781865",
           "name": "B. Wen"
          }
         ],
         "doi": "10.1515/phys-2018-0074",
         "intent": [
          "methodology"
         ],
         "isInfluential": false,
         "paperId": "ec7578dbbd4576a045d80acc8d0a3a0a98d5e5cb",
         "title": "Chinese open information extraction based on DBMCSS in the field of national information resources",
         "url": "https://www.semanticscholar.org/paper/ec7578dbbd4576a045d80acc8d0a3a0a98d5e5cb",
         "venue": "",
         "year": 2018
        },
        {
         "arxivId": null,
         "authors": [
          {
           "authorId": "7682221",
           "name": "Anderson Rossanez"
          },
          {
           "authorId": "144278875",
           "name": "Júlio Cesar dos Reis"
          }
         ],
         "doi": null,
         "intent": [
          "methodology"
         ],
         "isInfluential": false,
         "paperId": "80b29f62b2713854ac87dc47b3a765adec862aff",
         "title": "Generating Knowledge Graphs from Scientific Literature of Degenerative Diseases",
         "url": "https://www.semanticscholar.org/paper/80b29f62b2713854ac87dc47b3a765adec862aff",
         "venue": "SEPDA@ISWC",
         "year": 2019
        },
        {
         "arxivId": null,
         "authors": [
          {
           "authorId": null,
           "name": "Cheng Chen"
          }
         ],
         "doi": null,
         "intent": [
          "methodology",
          "background"
         ],
         "isInfluential": false,
         "paperId": "0bf32408f89fda2ea3c183009ef4d47719ec11a1",
         "title": "Entity Resolution via Canonicalization",
         "url": "https://www.semanticscholar.org/paper/0bf32408f89fda2ea3c183009ef4d47719ec11a1",
         "venue": "",
         "year": 2019
        },
        {
         "arxivId": null,
         "authors": [
          {
           "authorId": "2669515",
           "name": "Zhengbao Jiang"
          },
          {
           "authorId": "46752970",
           "name": "Ruohong Zhang"
          },
          {
           "authorId": "15121583",
           "name": "Donghan Yu"
          }
         ],
         "doi": null,
         "intent": [
          "background"
         ],
         "isInfluential": false,
         "paperId": "c4c9a4d5bff16c9020b229ac1841673be8b8d027",
         "title": "Semi-supervised Open Domain Information Extraction with Conditional VAE",
         "url": "https://www.semanticscholar.org/paper/c4c9a4d5bff16c9020b229ac1841673be8b8d027",
         "venue": "",
         "year": 2019
        },
        {
         "arxivId": null,
         "authors": [
          {
           "authorId": "80743871",
           "name": "Mohamed Ali Batita"
          },
          {
           "authorId": "2233166",
           "name": "Rami Ayadi"
          },
          {
           "authorId": "1727395",
           "name": "M. Zrigui"
          }
         ],
         "doi": "10.13053/CYS-23-3-3240",
         "intent": [
          "background"
         ],
         "isInfluential": false,
         "paperId": "076f0d5fe0c9e90933bb9ed3cd90dafb98a685f9",
         "title": "Reasoning over Arabic WordNet Relations with Neural Tensor Network",
         "url": "https://www.semanticscholar.org/paper/076f0d5fe0c9e90933bb9ed3cd90dafb98a685f9",
         "venue": "Computación y Sistemas",
         "year": 2019
        },
        {
         "arxivId": "2006.00166",
         "authors": [
          {
           "authorId": "2499986",
           "name": "Hamed Zamani"
          },
          {
           "authorId": "116506812",
           "name": "Bhaskar Mitra"
          },
          {
           "authorId": "1733342361",
           "name": "Everest Chen"
          },
          {
           "authorId": "48162400",
           "name": "G. Lueck"
          },
          {
           "authorId": "145472333",
           "name": "Fernando Diaz"
          },
          {
           "authorId": "153335834",
           "name": "P. Bennett"
          },
          {
           "authorId": "1703980",
           "name": "Nick Craswell"
          },
          {
           "authorId": "70443719",
           "name": "S. T. Dumais"
          }
         ],
         "doi": "10.1145/3397271.3401160",
         "intent": [
          "background"
         ],
         "isInfluential": false,
         "paperId": "1d3e3f1d241b8d77c25ef0afa16d0614ff08b37c",
         "title": "Analyzing and Learning from User Interactions for Search Clarification",
         "url": "https://www.semanticscholar.org/paper/1d3e3f1d241b8d77c25ef0afa16d0614ff08b37c",
         "venue": "SIGIR",
         "year": 2020
        },
        {
         "arxivId": null,
         "authors": [
          {
           "authorId": "37582951",
           "name": "Judita Preiss"
          },
          {
           "authorId": "144795097",
           "name": "Mark Stevenson"
          },
          {
           "authorId": "1718590",
           "name": "R. Gaizauskas"
          }
         ],
         "doi": "10.1093/jamia/ocv002",
         "intent": [],
         "isInfluential": false,
         "paperId": "90ab46b9940b6fc31df4bf680f2e5ff7fdfd12cc",
         "title": "Exploring relation types for literature-based discovery",
         "url": "https://www.semanticscholar.org/paper/90ab46b9940b6fc31df4bf680f2e5ff7fdfd12cc",
         "venue": "J. Am. Medical Informatics Assoc.",
         "year": 2015
        },
        {
         "arxivId": null,
         "authors": [
          {
           "authorId": "144759364",
           "name": "Y. Chen"
          },
          {
           "authorId": "50320297",
           "name": "Qinghua Zheng"
          },
          {
           "authorId": "144709639",
           "name": "W. Zhang"
          }
         ],
         "doi": "10.3115/v1/P14-1054",
         "intent": [
          "background"
         ],
         "isInfluential": false,
         "paperId": "173d00b130cdee1e4f00ef8ccbf889d1dc1c342a",
         "title": "Omni-word Feature and Soft Constraint for Chinese Relation Extraction",
         "url": "https://www.semanticscholar.org/paper/173d00b130cdee1e4f00ef8ccbf889d1dc1c342a",
         "venue": "ACL",
         "year": 2014
        },
        {
         "arxivId": null,
         "authors": [
          {
           "authorId": "47185625",
           "name": "F. Liu"
          },
          {
           "authorId": "1954845",
           "name": "Shizhu He"
          },
          {
           "authorId": "50152545",
           "name": "Shulin Liu"
          },
          {
           "authorId": "143652253",
           "name": "G. Zhou"
          },
          {
           "authorId": "2200096",
           "name": "Kang Liu"
          },
          {
           "authorId": "1390572170",
           "name": "Jun Zhao"
          }
         ],
         "doi": "10.1007/978-3-642-45068-6_28",
         "intent": [
          "background"
         ],
         "isInfluential": false,
         "paperId": "e8f0a0c5e2f9502c84bf2ecf77d48507e6a76b26",
         "title": "Open Relation Mapping Based on Instances and Semantics Expansion",
         "url": "https://www.semanticscholar.org/paper/e8f0a0c5e2f9502c84bf2ecf77d48507e6a76b26",
         "venue": "AIRS",
         "year": 2013
        },
        {
         "arxivId": null,
         "authors": [
          {
           "authorId": "47119101",
           "name": "Xuan Wang"
          },
          {
           "authorId": "1682848",
           "name": "Y. Zhang"
          },
          {
           "authorId": "37696683",
           "name": "Qi Li"
          },
          {
           "authorId": "3410078",
           "name": "Y. Chen"
          },
          {
           "authorId": "145325584",
           "name": "Jiawei Han"
          }
         ],
         "doi": "10.1145/3233547.3233594",
         "intent": [
          "background"
         ],
         "isInfluential": false,
         "paperId": "9006770978b945e57f9bf096a5e029fbe75cff7b",
         "title": "Open Information Extraction with Meta-pattern Discovery in Biomedical Literature",
         "url": "https://www.semanticscholar.org/paper/9006770978b945e57f9bf096a5e029fbe75cff7b",
         "venue": "BCB",
         "year": 2018
        },
        {
         "arxivId": "1804.08207",
         "authors": [
          {
           "authorId": "48926630",
           "name": "Adam Poliak"
          },
          {
           "authorId": "28926612",
           "name": "Aparajita Haldar"
          },
          {
           "authorId": "2034613",
           "name": "Rachel Rudinger"
          },
          {
           "authorId": "31635661",
           "name": "J. Hu"
          },
          {
           "authorId": "2949185",
           "name": "Ellie Pavlick"
          },
          {
           "authorId": "2352617",
           "name": "Aaron Steven White"
          },
          {
           "authorId": "7536576",
           "name": "Benjamin Van Durme"
          }
         ],
         "doi": "10.18653/v1/D18-1007",
         "intent": [
          "background",
          "methodology"
         ],
         "isInfluential": false,
         "paperId": "74d8a800d73fc68a398f92ed0536912d1b7a32f3",
         "title": "Collecting Diverse Natural Language Inference Problems for Sentence Representation Evaluation",
         "url": "https://www.semanticscholar.org/paper/74d8a800d73fc68a398f92ed0536912d1b7a32f3",
         "venue": "EMNLP",
         "year": 2018
        },
        {
         "arxivId": null,
         "authors": [
          {
           "authorId": "51037465",
           "name": "Caio Guilherme Alvino Cruz"
          },
          {
           "authorId": "2704781",
           "name": "L. Weitzel"
          }
         ],
         "doi": "10.23919/CISTI.2018.8399199",
         "intent": [
          "background"
         ],
         "isInfluential": false,
         "paperId": "bc94cea0236e9f944048cca3befbfec29eafb695",
         "title": "Evaluation of relation extraction systems for Portuguese language pt-BR",
         "url": "https://www.semanticscholar.org/paper/bc94cea0236e9f944048cca3befbfec29eafb695",
         "venue": "2018 13th Iberian Conference on Information Systems and Technologies (CISTI)",
         "year": 2018
        },
        {
         "arxivId": "1908.01761",
         "authors": [
          {
           "authorId": "8125500",
           "name": "Shengbin Jia"
          },
          {
           "authorId": "98232756",
           "name": "Yang Xiang"
          }
         ],
         "doi": null,
         "intent": [
          "methodology",
          "background"
         ],
         "isInfluential": true,
         "paperId": "f4bc9a87889e5bb7a5b325aab1508eaad25d8a81",
         "title": "Hybrid Neural Tagging Model for Open Relation Extraction.",
         "url": "https://www.semanticscholar.org/paper/f4bc9a87889e5bb7a5b325aab1508eaad25d8a81",
         "venue": "",
         "year": 2020
        },
        {
         "arxivId": null,
         "authors": [
          {
           "authorId": "71886226",
           "name": "Aoran Li"
          },
          {
           "authorId": "1526979446",
           "name": "Xinmeng Wang"
          },
          {
           "authorId": "47825459",
           "name": "W. Wang"
          },
          {
           "authorId": "94760974",
           "name": "Anman Zhang"
          },
          {
           "authorId": null,
           "name": "Bohan Li"
          }
         ],
         "doi": "10.1007/978-3-030-33982-1_5",
         "intent": [],
         "isInfluential": false,
         "paperId": "19dbda1ccf4d1a3fd66378d0b6a53ffc6684cb25",
         "title": "A Survey of Relation Extraction of Knowledge Graphs",
         "url": "https://www.semanticscholar.org/paper/19dbda1ccf4d1a3fd66378d0b6a53ffc6684cb25",
         "venue": "APWeb/WAIM Workshops",
         "year": 2019
        },
        {
         "arxivId": null,
         "authors": [
          {
           "authorId": "2246101",
           "name": "Yanxia Qin"
          },
          {
           "authorId": "48378565",
           "name": "Yue Zhang"
          },
          {
           "authorId": null,
           "name": "Min Zhang"
          },
          {
           "authorId": "37032041",
           "name": "D. Zheng"
          }
         ],
         "doi": "10.1109/IALP.2017.8300594",
         "intent": [
          "methodology"
         ],
         "isInfluential": true,
         "paperId": "935ac6c1056393d1bd67d0313d6396176982a8fb",
         "title": "Semantic-frame representation for event detection on Twitter",
         "url": "https://www.semanticscholar.org/paper/935ac6c1056393d1bd67d0313d6396176982a8fb",
         "venue": "2017 International Conference on Asian Language Processing (IALP)",
         "year": 2017
        },
        {
         "arxivId": null,
         "authors": [
          {
           "authorId": "49786121",
           "name": "D. Gerber"
          },
          {
           "authorId": "1712107",
           "name": "Axel-Cyrille Ngonga Ngomo"
          }
         ],
         "doi": "10.1007/978-3-662-43585-4_12",
         "intent": [],
         "isInfluential": false,
         "paperId": "b92db2593076add01cd97686624b3daf2e0aa778",
         "title": "From RDF to Natural Language and Back",
         "url": "https://www.semanticscholar.org/paper/b92db2593076add01cd97686624b3daf2e0aa778",
         "venue": "Towards the Multilingual Semantic Web",
         "year": 2014
        },
        {
         "arxivId": null,
         "authors": [
          {
           "authorId": "48773053",
           "name": "N. Sinha"
          },
          {
           "authorId": "2569861",
           "name": "J. Barua"
          },
          {
           "authorId": "1780647",
           "name": "R. Niyogi"
          },
          {
           "authorId": "144140765",
           "name": "Dhaval Patel"
          }
         ],
         "doi": "10.1109/ICACCI.2017.8125821",
         "intent": [
          "background"
         ],
         "isInfluential": false,
         "paperId": "b2296ae33d64464a6a0d76fa2ff92a68caf47a1c",
         "title": "Time-aware relation extraction for entities using news headlines",
         "url": "https://www.semanticscholar.org/paper/b2296ae33d64464a6a0d76fa2ff92a68caf47a1c",
         "venue": "2017 International Conference on Advances in Computing, Communications and Informatics (ICACCI)",
         "year": 2017
        },
        {
         "arxivId": null,
         "authors": [
          {
           "authorId": "3115592",
           "name": "Ndapandula Nakashole"
          }
         ],
         "doi": "10.22028/D291-26412",
         "intent": [],
         "isInfluential": false,
         "paperId": "8c01ea680ff8eb7005620285368b5a571af3af05",
         "title": "Automatic extraction of facts, relations, and entities for web-scale knowledge base population",
         "url": "https://www.semanticscholar.org/paper/8c01ea680ff8eb7005620285368b5a571af3af05",
         "venue": "",
         "year": 2012
        },
        {
         "arxivId": null,
         "authors": [
          {
           "authorId": "38999890",
           "name": "Altaf Rahman"
          },
          {
           "authorId": "145106110",
           "name": "Vincent Ng"
          }
         ],
         "doi": null,
         "intent": [
          "methodology"
         ],
         "isInfluential": true,
         "paperId": "a8ec76a3f8ba7572ebd9e9c2d93c05a78fa4b2c5",
         "title": "Learning the Fine-Grained Information Status of Discourse Entities",
         "url": "https://www.semanticscholar.org/paper/a8ec76a3f8ba7572ebd9e9c2d93c05a78fa4b2c5",
         "venue": "EACL",
         "year": 2012
        },
        {
         "arxivId": null,
         "authors": [
          {
           "authorId": "1714932",
           "name": "Zornitsa Kozareva"
          }
         ],
         "doi": null,
         "intent": [
          "background",
          "result",
          "methodology"
         ],
         "isInfluential": true,
         "paperId": "7e8f735e4c71d31764782f526d7c3609bc474fab",
         "title": "Learning Verbs on the Fly",
         "url": "https://www.semanticscholar.org/paper/7e8f735e4c71d31764782f526d7c3609bc474fab",
         "venue": "COLING",
         "year": 2012
        },
        {
         "arxivId": null,
         "authors": [
          {
           "authorId": "32301760",
           "name": "Gabor Angeli"
          },
          {
           "authorId": "144783904",
           "name": "Christopher D. Manning"
          }
         ],
         "doi": null,
         "intent": [
          "background",
          "methodology"
         ],
         "isInfluential": false,
         "paperId": "6a9d6ac353c189f9659ca48743d1d5ecaf9c8d69",
         "title": "Philosophers are Mortal: Inferring the Truth of Unseen Facts",
         "url": "https://www.semanticscholar.org/paper/6a9d6ac353c189f9659ca48743d1d5ecaf9c8d69",
         "venue": "CoNLL",
         "year": 2013
        },
        {
         "arxivId": null,
         "authors": [
          {
           "authorId": "145390580",
           "name": "Alexander Boer"
          },
          {
           "authorId": "3430078",
           "name": "Bas Sijtsma"
          }
         ],
         "doi": null,
         "intent": [
          "methodology",
          "background"
         ],
         "isInfluential": true,
         "paperId": "4c5f7ce11e0f79126b4d710183ed33b738240cd9",
         "title": "Semi-Automatic Construction of Skeleton Concept Maps from Case Judgments",
         "url": "https://www.semanticscholar.org/paper/4c5f7ce11e0f79126b4d710183ed33b738240cd9",
         "venue": "",
         "year": 2014
        },
        {
         "arxivId": "1301.3485",
         "authors": [
          {
           "authorId": "3119801",
           "name": "Xavier Glorot"
          },
          {
           "authorId": "1713934",
           "name": "Antoine Bordes"
          },
          {
           "authorId": "145183709",
           "name": "J. Weston"
          },
          {
           "authorId": "1751762",
           "name": "Yoshua Bengio"
          }
         ],
         "doi": "10.1007/s10994-013-5363-6",
         "intent": [],
         "isInfluential": false,
         "paperId": "eb6208f3e2c0942e38ceffc443dcf64d2cb4ec82",
         "title": "A semantic matching energy function for learning with multi-relational data",
         "url": "https://www.semanticscholar.org/paper/eb6208f3e2c0942e38ceffc443dcf64d2cb4ec82",
         "venue": "Machine Learning",
         "year": 2013
        },
        {
         "arxivId": null,
         "authors": [
          {
           "authorId": "3213962",
           "name": "Adam Grycner"
          },
          {
           "authorId": "1751591",
           "name": "G. Weikum"
          }
         ],
         "doi": null,
         "intent": [
          "background"
         ],
         "isInfluential": true,
         "paperId": "b22ab74a79ce69fde02fc1178dfe8ca0a924db28",
         "title": "HARPY: Hypernyms and Alignment of Relational Paraphrases",
         "url": "https://www.semanticscholar.org/paper/b22ab74a79ce69fde02fc1178dfe8ca0a924db28",
         "venue": "COLING",
         "year": 2014
        },
        {
         "arxivId": null,
         "authors": [
          {
           "authorId": "144918133",
           "name": "Marcos Garcia"
          },
          {
           "authorId": "143762153",
           "name": "Pablo Gamallo"
          }
         ],
         "doi": null,
         "intent": [
          "background",
          "methodology"
         ],
         "isInfluential": false,
         "paperId": "bd894ee12beeb92bbf4d384068489af8b745d4bd",
         "title": "Entity-Centric Coreference Resolution of Person Entities for Open Information Extraction",
         "url": "https://www.semanticscholar.org/paper/bd894ee12beeb92bbf4d384068489af8b745d4bd",
         "venue": "Proces. del Leng. Natural",
         "year": 2014
        },
        {
         "arxivId": null,
         "authors": [
          {
           "authorId": "3157096",
           "name": "Gopala K. Koduri"
          }
         ],
         "doi": "10.1007/978-3-319-17966-7_30",
         "intent": [],
         "isInfluential": false,
         "paperId": "66ee767a87e6f35987e30c7ff2016face5e55a67",
         "title": "Culture-Aware Approaches to Modeling and Description of Intonation Using Multimodal Data",
         "url": "https://www.semanticscholar.org/paper/66ee767a87e6f35987e30c7ff2016face5e55a67",
         "venue": "EKAW",
         "year": 2014
        },
        {
         "arxivId": null,
         "authors": [
          {
           "authorId": "1776064",
           "name": "Cheikh Kacfah Emani"
          },
          {
           "authorId": "1706642",
           "name": "Nadine Cullot"
          },
          {
           "authorId": "1711341",
           "name": "C. Nicolle"
          }
         ],
         "doi": "10.1016/j.cosrev.2015.05.002",
         "intent": [
          "background",
          "result"
         ],
         "isInfluential": true,
         "paperId": "ae7940fb89385400262acf1299bf2205c689c460",
         "title": "Understandable Big Data: A survey",
         "url": "https://www.semanticscholar.org/paper/ae7940fb89385400262acf1299bf2205c689c460",
         "venue": "Comput. Sci. Rev.",
         "year": 2015
        },
        {
         "arxivId": null,
         "authors": [
          {
           "authorId": "151485141",
           "name": "Kun Xu"
          },
          {
           "authorId": "1717629",
           "name": "Yansong Feng"
          },
          {
           "authorId": "2410938",
           "name": "Songfang Huang"
          },
          {
           "authorId": "144060462",
           "name": "Dongyan Zhao"
          }
         ],
         "doi": "10.1007/978-3-319-24027-5_43",
         "intent": [],
         "isInfluential": false,
         "paperId": "38bf6b6bc2d49ea3fdc9b3416189545bc8662317",
         "title": "Question Answering via Phrasal Semantic Parsing",
         "url": "https://www.semanticscholar.org/paper/38bf6b6bc2d49ea3fdc9b3416189545bc8662317",
         "venue": "CLEF",
         "year": 2015
        },
        {
         "arxivId": null,
         "authors": [
          {
           "authorId": "49680838",
           "name": "Lu Wang"
          }
         ],
         "doi": null,
         "intent": [],
         "isInfluential": false,
         "paperId": "beb415c18e5c604916f9ca3ecd99bab9f75fbcc6",
         "title": "Summarization And Sentiment Analysis For Understanding Socially-Generated Content",
         "url": "https://www.semanticscholar.org/paper/beb415c18e5c604916f9ca3ecd99bab9f75fbcc6",
         "venue": "",
         "year": 2016
        },
        {
         "arxivId": null,
         "authors": [
          {
           "authorId": "46315509",
           "name": "Yujia Zhai"
          },
          {
           "authorId": "33782183",
           "name": "Shaojing Sun"
          },
          {
           "authorId": "7572514",
           "name": "Fang Wang"
          },
          {
           "authorId": null,
           "name": "Ying Ding"
          }
         ],
         "doi": "10.1016/j.joi.2017.07.005",
         "intent": [],
         "isInfluential": false,
         "paperId": "4d5196dd56f12683fde915ea6e8e2e6d24ca6bbc",
         "title": "Multiplicity and uncertainty: Media coverage of autism causation",
         "url": "https://www.semanticscholar.org/paper/4d5196dd56f12683fde915ea6e8e2e6d24ca6bbc",
         "venue": "J. Informetrics",
         "year": 2017
        },
        {
         "arxivId": null,
         "authors": [
          {
           "authorId": "46700916",
           "name": "Jintao Liu"
          },
          {
           "authorId": "37553559",
           "name": "H. Lin"
          },
          {
           "authorId": "65996738",
           "name": "Xikai Liu"
          },
          {
           "authorId": "46798766",
           "name": "Bo Xu"
          },
          {
           "authorId": "152321611",
           "name": "Yuqi Ren"
          },
          {
           "authorId": "38804628",
           "name": "Yufeng Diao"
          },
          {
           "authorId": "40468514",
           "name": "Liang Yang"
          }
         ],
         "doi": null,
         "intent": [],
         "isInfluential": false,
         "paperId": "cf1ea6b89b89562a7a828e7938e2de7c9fc07288",
         "title": "Transformer-Based Capsule Network For Stock Movement Prediction",
         "url": "https://www.semanticscholar.org/paper/cf1ea6b89b89562a7a828e7938e2de7c9fc07288",
         "venue": "",
         "year": 2019
        },
        {
         "arxivId": null,
         "authors": [
          {
           "authorId": "1678833",
           "name": "J. Piskorski"
          }
         ],
         "doi": null,
         "intent": [
          "background"
         ],
         "isInfluential": true,
         "paperId": "43f00346363560b4066f8a21886b01c4df5f1345",
         "title": "Open Relation Extraction for Polish: Preliminary Experiments",
         "url": "https://www.semanticscholar.org/paper/43f00346363560b4066f8a21886b01c4df5f1345",
         "venue": "BSNLP@RANLP",
         "year": 2015
        },
        {
         "arxivId": null,
         "authors": [
          {
           "authorId": "144739109",
           "name": "Thomas Lin"
          },
          {
           "authorId": "2674444",
           "name": "Mausam"
          },
          {
           "authorId": "1741101",
           "name": "Oren Etzioni"
          }
         ],
         "doi": null,
         "intent": [
          "methodology"
         ],
         "isInfluential": false,
         "paperId": "c5c08e6dec3bf8a036607593e11e389697e03f45",
         "title": "Entity Linking at Web Scale",
         "url": "https://www.semanticscholar.org/paper/c5c08e6dec3bf8a036607593e11e389697e03f45",
         "venue": "AKBC-WEKEX@NAACL-HLT",
         "year": 2012
        },
        {
         "arxivId": null,
         "authors": [
          {
           "authorId": "1400959575",
           "name": "Laura Perez-Beltrachini"
          },
          {
           "authorId": "1794075",
           "name": "Claire Gardent"
          }
         ],
         "doi": "10.18653/v1/S16-2027",
         "intent": [
          "background"
         ],
         "isInfluential": false,
         "paperId": "468b95817ecf38a91d68d1f7fe0691d393ca82b2",
         "title": "Learning Embeddings to lexicalise RDF Properties",
         "url": "https://www.semanticscholar.org/paper/468b95817ecf38a91d68d1f7fe0691d393ca82b2",
         "venue": "*SEM@ACL",
         "year": 2016
        },
        {
         "arxivId": null,
         "authors": [
          {
           "authorId": "49837811",
           "name": "Sarthak Jain"
          }
         ],
         "doi": "10.18653/v1/N16-2016",
         "intent": [],
         "isInfluential": false,
         "paperId": "dc4cbf25503ece9707cd0fa9c6fe992a74495f57",
         "title": "Question Answering over Knowledge Base using Factual Memory Networks",
         "url": "https://www.semanticscholar.org/paper/dc4cbf25503ece9707cd0fa9c6fe992a74495f57",
         "venue": "SRW@HLT-NAACL",
         "year": 2016
        },
        {
         "arxivId": null,
         "authors": [
          {
           "authorId": "33602825",
           "name": "Jihong Yan"
          },
          {
           "authorId": "50097294",
           "name": "Chengyu Wang"
          },
          {
           "authorId": "2041425",
           "name": "W. Cheng"
          },
          {
           "authorId": "145146764",
           "name": "M. Gao"
          },
          {
           "authorId": "145031580",
           "name": "A. Zhou"
          }
         ],
         "doi": "10.1007/s11704-016-5228-9",
         "intent": [
          "background"
         ],
         "isInfluential": false,
         "paperId": "70eadac17dd414581c22b14ca49288a6c7dfa26a",
         "title": "A retrospective of knowledge graphs",
         "url": "https://www.semanticscholar.org/paper/70eadac17dd414581c22b14ca49288a6c7dfa26a",
         "venue": "Frontiers of Computer Science",
         "year": 2016
        },
        {
         "arxivId": null,
         "authors": [
          {
           "authorId": "82965175",
           "name": "S. Vasudevamurthy"
          }
         ],
         "doi": null,
         "intent": [
          "methodology",
          "background"
         ],
         "isInfluential": true,
         "paperId": "b4a150261d780fe8254b605136bd819b6ce0a3d7",
         "title": "An approach for building Web Service Composition Engine for RESTful APIs",
         "url": "https://www.semanticscholar.org/paper/b4a150261d780fe8254b605136bd819b6ce0a3d7",
         "venue": "",
         "year": 2016
        },
        {
         "arxivId": null,
         "authors": [
          {
           "authorId": "51213687",
           "name": "Dr. Charu C. Aggarwal"
          }
         ],
         "doi": "10.1007/978-3-319-73531-3",
         "intent": [],
         "isInfluential": true,
         "paperId": "708a0e288f992e28d1c374a4a4de9ea95d1fe508",
         "title": "Machine Learning for Text",
         "url": "https://www.semanticscholar.org/paper/708a0e288f992e28d1c374a4a4de9ea95d1fe508",
         "venue": "Springer International Publishing",
         "year": 2018
        },
        {
         "arxivId": null,
         "authors": [
          {
           "authorId": "145799257",
           "name": "Matthew Gardner"
          }
         ],
         "doi": null,
         "intent": [
          "methodology",
          "background"
         ],
         "isInfluential": false,
         "paperId": "1a714200fed1906ba26d311dde8398a49c95fd42",
         "title": "Reading and Reasoning with Knowledge Graphs",
         "url": "https://www.semanticscholar.org/paper/1a714200fed1906ba26d311dde8398a49c95fd42",
         "venue": "",
         "year": 2015
        },
        {
         "arxivId": null,
         "authors": [
          {
           "authorId": "49633004",
           "name": "I. Ceylan"
          }
         ],
         "doi": null,
         "intent": [],
         "isInfluential": false,
         "paperId": "8e64a7d58887ab68f5087925b6143da7d12c3d2f",
         "title": "Query Answering in Probabilistic Data and Knowledge Bases",
         "url": "https://www.semanticscholar.org/paper/8e64a7d58887ab68f5087925b6143da7d12c3d2f",
         "venue": "",
         "year": 2018
        },
        {
         "arxivId": null,
         "authors": [
          {
           "authorId": "145244784",
           "name": "Santanu Pal"
          }
         ],
         "doi": "10.22028/D291-27081",
         "intent": [
          "methodology"
         ],
         "isInfluential": false,
         "paperId": "07bc142432d1da96d8f79e5d639ceab5be938a03",
         "title": "A Hybrid Machine Translation Framework for an Improved Translation Workflow",
         "url": "https://www.semanticscholar.org/paper/07bc142432d1da96d8f79e5d639ceab5be938a03",
         "venue": "",
         "year": 2018
        },
        {
         "arxivId": null,
         "authors": [
          {
           "authorId": "1393662699",
           "name": "Martina Miliani"
          },
          {
           "authorId": "3449062",
           "name": "Lucia C. Passaro"
          },
          {
           "authorId": "2038285",
           "name": "Alessandro Lenci"
          }
         ],
         "doi": null,
         "intent": [
          "background"
         ],
         "isInfluential": false,
         "paperId": "1be79e84e2df66f3be732364adafb317b26321e9",
         "title": "Text Frame Detector: Slot Filling Based On Domain Knowledge Bases",
         "url": "https://www.semanticscholar.org/paper/1be79e84e2df66f3be732364adafb317b26321e9",
         "venue": "CLiC-it",
         "year": 2019
        },
        {
         "arxivId": null,
         "authors": [
          {
           "authorId": "1391138240",
           "name": "Jing Zhu"
          },
          {
           "authorId": "5701137",
           "name": "Yongcui Deng"
          },
          {
           "authorId": "1390559672",
           "name": "Yiwen Zhou"
          },
          {
           "authorId": "73610273",
           "name": "Dewang Sun"
          },
          {
           "authorId": "1380055201",
           "name": "Ruibin Mao"
          }
         ],
         "doi": null,
         "intent": [
          "methodology"
         ],
         "isInfluential": false,
         "paperId": "91ea8ea69694fd248d34c49e58df88d232abbc93",
         "title": "An Information Extraction Approach Based on Domain Language Model",
         "url": "https://www.semanticscholar.org/paper/91ea8ea69694fd248d34c49e58df88d232abbc93",
         "venue": "",
         "year": 2019
        },
        {
         "arxivId": null,
         "authors": [
          {
           "authorId": "1582032163",
           "name": "Μιχαήλ Δανούσης"
          }
         ],
         "doi": null,
         "intent": [],
         "isInfluential": false,
         "paperId": "6e900aa932141d0f0fa339c855f2648b238ba10e",
         "title": "Πρόβλεψη τιμών μετοχών με χρήση βαθιάς μάθησης",
         "url": "https://www.semanticscholar.org/paper/6e900aa932141d0f0fa339c855f2648b238ba10e",
         "venue": "",
         "year": 2019
        },
        {
         "arxivId": null,
         "authors": [
          {
           "authorId": "38087946",
           "name": "Anthony Fader"
          }
         ],
         "doi": null,
         "intent": [
          "background"
         ],
         "isInfluential": false,
         "paperId": "04029eee82be99d8000412d31b62082cfb8efeba",
         "title": "Open Question Answering",
         "url": "https://www.semanticscholar.org/paper/04029eee82be99d8000412d31b62082cfb8efeba",
         "venue": "",
         "year": 2014
        },
        {
         "arxivId": null,
         "authors": [
          {
           "authorId": "1782522",
           "name": "P. Velardi"
          },
          {
           "authorId": "1403006700",
           "name": "F. D'Antonio"
          },
          {
           "authorId": "1756982",
           "name": "A. Cucchiarelli"
          }
         ],
         "doi": "10.1145/2479787.2479788",
         "intent": [
          "background"
         ],
         "isInfluential": false,
         "paperId": "6ddbf0dbb5e24fcf2d730440f974653bdaf0ee65",
         "title": "Open domain knowledge extraction: inference on a web scale",
         "url": "https://www.semanticscholar.org/paper/6ddbf0dbb5e24fcf2d730440f974653bdaf0ee65",
         "venue": "WIMS '13",
         "year": 2013
        },
        {
         "arxivId": null,
         "authors": [
          {
           "authorId": "143633410",
           "name": "V. Nebot"
          },
          {
           "authorId": "1730216",
           "name": "Rafael Berlanga Llavori"
          }
         ],
         "doi": "10.1007/s10115-012-0590-x",
         "intent": [],
         "isInfluential": false,
         "paperId": "511ba98888a68634ca688997d88bad17d841105b",
         "title": "Exploiting semantic annotations for open information extraction: an experience in the biomedical domain",
         "url": "https://www.semanticscholar.org/paper/511ba98888a68634ca688997d88bad17d841105b",
         "venue": "Knowledge and Information Systems",
         "year": 2012
        },
        {
         "arxivId": "2004.03636",
         "authors": [
          {
           "authorId": "12320209",
           "name": "Jun Chen"
          },
          {
           "authorId": "1403853645",
           "name": "Robert Hoehndorf"
          },
          {
           "authorId": "1712479",
           "name": "Mohamed Elhoseiny"
          },
          {
           "authorId": "2928371",
           "name": "X. Zhang"
          }
         ],
         "doi": null,
         "intent": [
          "background"
         ],
         "isInfluential": false,
         "paperId": "531d7e00d6bbc4989877601f12a68d4595a47394",
         "title": "Efficient long-distance relation extraction with DG-SpanBERT",
         "url": "https://www.semanticscholar.org/paper/531d7e00d6bbc4989877601f12a68d4595a47394",
         "venue": "ArXiv",
         "year": 2020
        },
        {
         "arxivId": null,
         "authors": [
          {
           "authorId": "3444254",
           "name": "Yuting Wei"
          },
          {
           "authorId": "3249827",
           "name": "Huazheng Wang"
          },
          {
           "authorId": "1491078664",
           "name": "Jiaqi Zhao"
          },
          {
           "authorId": "47909559",
           "name": "Yutong Liu"
          },
          {
           "authorId": "23614019",
           "name": "Y. Zhang"
          },
          {
           "authorId": "1699037",
           "name": "Bin Wu"
          }
         ],
         "doi": "10.1109/ICBK50248.2020.00078",
         "intent": [],
         "isInfluential": false,
         "paperId": "b6e15dc2f9430100cf532ad7bc4907bbc2d86d2e",
         "title": "GeLaiGeLai: A visual platform for analysis of Classical Chinese Poetry based on Knowledge Graph",
         "url": "https://www.semanticscholar.org/paper/b6e15dc2f9430100cf532ad7bc4907bbc2d86d2e",
         "venue": "2020 IEEE International Conference on Knowledge Graph (ICKG)",
         "year": 2020
        },
        {
         "arxivId": null,
         "authors": [
          {
           "authorId": "2701297",
           "name": "S. Gupta"
          },
          {
           "authorId": "144783904",
           "name": "Christopher D. Manning"
          }
         ],
         "doi": "10.3115/v1/W14-1611",
         "intent": [],
         "isInfluential": false,
         "paperId": "f52f2ae8dd5f6370fa355223f206fde0355a299f",
         "title": "Improved Pattern Learning for Bootstrapped Entity Extraction",
         "url": "https://www.semanticscholar.org/paper/f52f2ae8dd5f6370fa355223f206fde0355a299f",
         "venue": "CoNLL",
         "year": 2014
        },
        {
         "arxivId": null,
         "authors": [
          {
           "authorId": "1830886137",
           "name": "Alexander V. Shvets"
          },
          {
           "authorId": "9092408",
           "name": "L. Wanner"
          }
         ],
         "doi": "10.1007/978-3-030-61244-3_8",
         "intent": [
          "background"
         ],
         "isInfluential": false,
         "paperId": "fca8f161dc99e30c39f0e1949c553051a84d7798",
         "title": "Concept Extraction Using Pointer-Generator Networks and Distant Supervision for Data Augmentation",
         "url": "https://www.semanticscholar.org/paper/fca8f161dc99e30c39f0e1949c553051a84d7798",
         "venue": "EKAW",
         "year": 2020
        },
        {
         "arxivId": "1905.07471",
         "authors": [
          {
           "authorId": "49766711",
           "name": "J. Beckerman"
          },
          {
           "authorId": "12305765",
           "name": "Theodore J Christakis"
          }
         ],
         "doi": null,
         "intent": [
          "methodology",
          "result"
         ],
         "isInfluential": false,
         "paperId": "9ade0ccc5ef96a111ab308485df3338970654f8d",
         "title": "Learning Open Information Extraction of Implicit Relations from Reading Comprehension Datasets",
         "url": "https://www.semanticscholar.org/paper/9ade0ccc5ef96a111ab308485df3338970654f8d",
         "venue": "ArXiv",
         "year": 2019
        },
        {
         "arxivId": null,
         "authors": [
          {
           "authorId": "1870229",
           "name": "Nabin Maharjan"
          },
          {
           "authorId": "145154896",
           "name": "V. Rus"
          }
         ],
         "doi": "10.1007/978-3-030-23204-7_21",
         "intent": [],
         "isInfluential": false,
         "paperId": "229a6bb39ee0e0ba8a0d116483ba50a483de4fc3",
         "title": "A Concept Map Based Assessment of Free Student Answers in Tutorial Dialogues",
         "url": "https://www.semanticscholar.org/paper/229a6bb39ee0e0ba8a0d116483ba50a483de4fc3",
         "venue": "AIED",
         "year": 2019
        },
        {
         "arxivId": "2003.02320",
         "authors": [
          {
           "authorId": "144007515",
           "name": "A. Hogan"
          },
          {
           "authorId": "2456849",
           "name": "E. Blomqvist"
          },
          {
           "authorId": "1708906",
           "name": "Michael Cochez"
          },
          {
           "authorId": "1439070706",
           "name": "Claudia D'amato"
          },
          {
           "authorId": "144608002",
           "name": "Gerard de Melo"
          },
          {
           "authorId": "144768011",
           "name": "C. Gutiérrez"
          },
          {
           "authorId": "31446079",
           "name": "J. L. Gayo"
          },
          {
           "authorId": "2601335",
           "name": "S. Kirrane"
          },
          {
           "authorId": "38640960",
           "name": "S. Neumaier"
          },
          {
           "authorId": "1708607",
           "name": "A. Polleres"
          },
          {
           "authorId": "1733928",
           "name": "R. Navigli"
          },
          {
           "authorId": "1712107",
           "name": "Axel-Cyrille Ngonga Ngomo"
          },
          {
           "authorId": "145696537",
           "name": "S. M. Rashid"
          },
          {
           "authorId": "2333981",
           "name": "A. Rula"
          },
          {
           "authorId": "68975198",
           "name": "Lukas Schmelzeisen"
          },
          {
           "authorId": "1703204",
           "name": "Juan Sequeda"
          },
          {
           "authorId": "1752093",
           "name": "Steffen Staab"
          },
          {
           "authorId": "35969095",
           "name": "A. Zimmermann"
          }
         ],
         "doi": null,
         "intent": [
          "methodology"
         ],
         "isInfluential": true,
         "paperId": "cf6240149f092356d09004d5a24f519039508d3b",
         "title": "Knowledge Graphs",
         "url": "https://www.semanticscholar.org/paper/cf6240149f092356d09004d5a24f519039508d3b",
         "venue": "ArXiv",
         "year": 2020
        },
        {
         "arxivId": null,
         "authors": [
          {
           "authorId": "3221965",
           "name": "N. Panagiotou"
          },
          {
           "authorId": "3353642",
           "name": "Cem Akkaya"
          },
          {
           "authorId": "1731462",
           "name": "K. Tsioutsiouliklis"
          },
          {
           "authorId": "1685532",
           "name": "V. Kalogeraki"
          },
          {
           "authorId": "1736832",
           "name": "D. Gunopulos"
          }
         ],
         "doi": null,
         "intent": [
          "background",
          "methodology"
         ],
         "isInfluential": true,
         "paperId": "57bc18ab16ba480c4973e6c581de35f1b8e4e1ad",
         "title": "First Story Detection using Entities and Relations",
         "url": "https://www.semanticscholar.org/paper/57bc18ab16ba480c4973e6c581de35f1b8e4e1ad",
         "venue": "COLING",
         "year": 2016
        },
        {
         "arxivId": null,
         "authors": [
          {
           "authorId": "1749506",
           "name": "Guy Van den Broeck"
          },
          {
           "authorId": "144823759",
           "name": "Dan Suciu"
          }
         ],
         "doi": "10.1561/1900000052",
         "intent": [
          "methodology",
          "background"
         ],
         "isInfluential": true,
         "paperId": "e9868194e9f266ee357498a7caa608b8a35f4635",
         "title": "Query Processing on Probabilistic Data: A Survey",
         "url": "https://www.semanticscholar.org/paper/e9868194e9f266ee357498a7caa608b8a35f4635",
         "venue": "Found. Trends Databases",
         "year": 2017
        },
        {
         "arxivId": null,
         "authors": [
          {
           "authorId": "72655349",
           "name": "Sheng Zhang"
          },
          {
           "authorId": "2034613",
           "name": "Rachel Rudinger"
          },
          {
           "authorId": "7536576",
           "name": "Benjamin Van Durme"
          }
         ],
         "doi": null,
         "intent": [
          "background",
          "methodology"
         ],
         "isInfluential": false,
         "paperId": "f01a07ef5d848ee6ed48224ff3d86db353c2ead9",
         "title": "An Evaluation of PredPatt and Open IE via Stage 1 Semantic Role Labeling",
         "url": "https://www.semanticscholar.org/paper/f01a07ef5d848ee6ed48224ff3d86db353c2ead9",
         "venue": "IWCS",
         "year": 2017
        },
        {
         "arxivId": null,
         "authors": [
          {
           "authorId": "3149915",
           "name": "S. Oramas"
          },
          {
           "authorId": "1804464",
           "name": "M. Sordo"
          },
          {
           "authorId": "144611740",
           "name": "X. Serra"
          }
         ],
         "doi": null,
         "intent": [],
         "isInfluential": false,
         "paperId": "aee397f9e01deea85d57a566a18d876e8162df2f",
         "title": "Automatic Creation of Knowledge Graphs from Digital Musical Document Libraries",
         "url": "https://www.semanticscholar.org/paper/aee397f9e01deea85d57a566a18d876e8162df2f",
         "venue": "",
         "year": 2014
        },
        {
         "arxivId": null,
         "authors": [
          {
           "authorId": "2047181",
           "name": "Seokhwan Kim"
          },
          {
           "authorId": "1698580",
           "name": "Minwoo Jeong"
          },
          {
           "authorId": "2957810",
           "name": "Jonghoon Lee"
          },
          {
           "authorId": "1735513",
           "name": "Gary Geunbae Lee"
          }
         ],
         "doi": "10.1145/2529994",
         "intent": [
          "methodology"
         ],
         "isInfluential": false,
         "paperId": "16a374a502afd8e2d18f02aac9289c2a33fe087d",
         "title": "Cross-Lingual Annotation Projection for Weakly-Supervised Relation Extraction",
         "url": "https://www.semanticscholar.org/paper/16a374a502afd8e2d18f02aac9289c2a33fe087d",
         "venue": "TALIP",
         "year": 2014
        },
        {
         "arxivId": "1505.00277",
         "authors": [
          {
           "authorId": "3218950",
           "name": "Dana Movshovitz-Attias"
          },
          {
           "authorId": "50056360",
           "name": "William W. Cohen"
          }
         ],
         "doi": null,
         "intent": [
          "background"
         ],
         "isInfluential": false,
         "paperId": "e2ece7ea0924b4f95f65587973118bea9a44a3d2",
         "title": "Grounded Discovery of Coordinate Term Relationships between Software Entities",
         "url": "https://www.semanticscholar.org/paper/e2ece7ea0924b4f95f65587973118bea9a44a3d2",
         "venue": "ArXiv",
         "year": 2015
        },
        {
         "arxivId": null,
         "authors": [
          {
           "authorId": "2170235",
           "name": "Filipo Sharevski"
          }
         ],
         "doi": "10.5121/CSIT.2015.51108",
         "intent": [],
         "isInfluential": false,
         "paperId": "5e587ad5026687fe2993998e11e04795baf16aa0",
         "title": "The Appropriateness of the Factual Density as an Informativeness Measure for Online News",
         "url": "https://www.semanticscholar.org/paper/5e587ad5026687fe2993998e11e04795baf16aa0",
         "venue": "CSE 2015",
         "year": 2015
        },
        {
         "arxivId": null,
         "authors": [
          {
           "authorId": "3026162",
           "name": "D. Batista"
          },
          {
           "authorId": "144694868",
           "name": "Bruno Martins"
          },
          {
           "authorId": "143646534",
           "name": "M. Silva"
          }
         ],
         "doi": "10.18653/v1/D15-1056",
         "intent": [
          "background"
         ],
         "isInfluential": true,
         "paperId": "dd2252b536af50981b2cb22fb71a561502f969a3",
         "title": "Semi-Supervised Bootstrapping of Relationship Extractors with Distributional Semantics",
         "url": "https://www.semanticscholar.org/paper/dd2252b536af50981b2cb22fb71a561502f969a3",
         "venue": "EMNLP",
         "year": 2015
        },
        {
         "arxivId": null,
         "authors": [
          {
           "authorId": "145201124",
           "name": "Xiang Ren"
          },
          {
           "authorId": "1398503968",
           "name": "Ahmed El-Kishky"
          },
          {
           "authorId": "153172090",
           "name": "Huai-zhong Ji"
          },
          {
           "authorId": "153034701",
           "name": "Jiawei Han"
          }
         ],
         "doi": "10.1145/2882903.2912567",
         "intent": [],
         "isInfluential": false,
         "paperId": "60dec3d28bd9ad7104608e5c22cb54e5f029fbd8",
         "title": "Automatic Entity Recognition and Typing in Massive Text Data",
         "url": "https://www.semanticscholar.org/paper/60dec3d28bd9ad7104608e5c22cb54e5f029fbd8",
         "venue": "SIGMOD '16",
         "year": 2016
        },
        {
         "arxivId": null,
         "authors": [
          {
           "authorId": "2036335",
           "name": "Saravadee Sae Tan"
          },
          {
           "authorId": "2751156",
           "name": "T. Y. Lim"
          },
          {
           "authorId": "47247517",
           "name": "Lay-Ki Soon"
          },
          {
           "authorId": "1701814",
           "name": "E. K. Tang"
          }
         ],
         "doi": "10.1016/j.eswa.2016.05.004",
         "intent": [],
         "isInfluential": false,
         "paperId": "df0ddafedde01b8f5360c375f837cd13efbe8943",
         "title": "Learning to extract domain-specific relations from complex sentences",
         "url": "https://www.semanticscholar.org/paper/df0ddafedde01b8f5360c375f837cd13efbe8943",
         "venue": "Expert Syst. Appl.",
         "year": 2016
        },
        {
         "arxivId": "1608.00104",
         "authors": [
          {
           "authorId": "48585703",
           "name": "C. Wang"
          },
          {
           "authorId": "1809614",
           "name": "Y. Song"
          },
          {
           "authorId": "144590225",
           "name": "D. Roth"
          },
          {
           "authorId": "47474380",
           "name": "M. Zhang"
          },
          {
           "authorId": "145325584",
           "name": "Jiawei Han"
          }
         ],
         "doi": "10.1145/2953881",
         "intent": [
          "background",
          "methodology"
         ],
         "isInfluential": true,
         "paperId": "d1cbb4331d4983a23ad19943405fe087d488823c",
         "title": "World Knowledge as Indirect Supervision for Document Clustering",
         "url": "https://www.semanticscholar.org/paper/d1cbb4331d4983a23ad19943405fe087d488823c",
         "venue": "ACM Trans. Knowl. Discov. Data",
         "year": 2016
        },
        {
         "arxivId": null,
         "authors": [
          {
           "authorId": "1736021",
           "name": "R. Ng"
          },
          {
           "authorId": "2983610",
           "name": "Patricia C. Arocena"
          },
          {
           "authorId": "145690522",
           "name": "Denilson Barbosa"
          },
          {
           "authorId": "1825424",
           "name": "G. Carenini"
          },
          {
           "authorId": "143992405",
           "name": "Luiz Gomes"
          },
          {
           "authorId": "2169842",
           "name": "Stephan Jou"
          },
          {
           "authorId": "3335244",
           "name": "Rock Anthony Leung"
          },
          {
           "authorId": "1736641",
           "name": "E. Milios"
          },
          {
           "authorId": "145417603",
           "name": "R. Miller"
          },
          {
           "authorId": "1750566",
           "name": "J. Mylopoulos"
          },
          {
           "authorId": "144876103",
           "name": "R. Pottinger"
          },
          {
           "authorId": "1686151",
           "name": "F. Tompa"
          },
          {
           "authorId": "1746021",
           "name": "E. Yu"
          }
         ],
         "doi": "10.2200/S00491ED1V01Y201303DTM034",
         "intent": [],
         "isInfluential": false,
         "paperId": "bcdf65a46eb1eb5facde4adb7da6dd1ad56b4bae",
         "title": "Perspectives on Business Intelligence",
         "url": "https://www.semanticscholar.org/paper/bcdf65a46eb1eb5facde4adb7da6dd1ad56b4bae",
         "venue": "Perspectives on Business Intelligence",
         "year": 2013
        },
        {
         "arxivId": null,
         "authors": [
          {
           "authorId": "1679784",
           "name": "Fabian M. Suchanek"
          },
          {
           "authorId": "1751591",
           "name": "G. Weikum"
          }
         ],
         "doi": "10.1109/ICDE.2013.6544916",
         "intent": [
          "background"
         ],
         "isInfluential": false,
         "paperId": "93be8c315e7f0526304f8f647bab6ac162dfe91c",
         "title": "Knowledge harvesting from text and Web sources",
         "url": "https://www.semanticscholar.org/paper/93be8c315e7f0526304f8f647bab6ac162dfe91c",
         "venue": "2013 IEEE 29th International Conference on Data Engineering (ICDE)",
         "year": 2013
        },
        {
         "arxivId": null,
         "authors": [
          {
           "authorId": "2403712",
           "name": "A. Akbik"
          },
          {
           "authorId": "1718694",
           "name": "Yunyao Li"
          }
         ],
         "doi": "10.18653/v1/P16-4001",
         "intent": [
          "methodology",
          "background"
         ],
         "isInfluential": false,
         "paperId": "c37909ab29f250e1fb316e886d715e1a76ea9693",
         "title": "POLYGLOT: Multilingual Semantic Role Labeling with Unified Labels",
         "url": "https://www.semanticscholar.org/paper/c37909ab29f250e1fb316e886d715e1a76ea9693",
         "venue": "ACL",
         "year": 2016
        },
        {
         "arxivId": null,
         "authors": [
          {
           "authorId": null,
           "name": "Chaya Lebeskind"
          },
          {
           "authorId": "1664311449",
           "name": "Roni Ben-Aharon"
          }
         ],
         "doi": null,
         "intent": [],
         "isInfluential": false,
         "paperId": "a1a3afd1667f792b19dbdb16b39586c24f77742e",
         "title": "Evaluating and Improving Inference-rules via Crowdsourcing",
         "url": "https://www.semanticscholar.org/paper/a1a3afd1667f792b19dbdb16b39586c24f77742e",
         "venue": "",
         "year": 2012
        },
        {
         "arxivId": null,
         "authors": [
          {
           "authorId": "143645762",
           "name": "Nag Chowdhury"
          }
         ],
         "doi": null,
         "intent": [
          "methodology"
         ],
         "isInfluential": false,
         "paperId": "2a5330e467807ddde23aa9326e173203c152470d",
         "title": "Commonsense for Making Sense of Data Sreyasi",
         "url": "https://www.semanticscholar.org/paper/2a5330e467807ddde23aa9326e173203c152470d",
         "venue": "",
         "year": 2016
        },
        {
         "arxivId": null,
         "authors": [
          {
           "authorId": "144563507",
           "name": "M. Hegde"
          },
          {
           "authorId": "2406435",
           "name": "Partha P. Talukdar"
          }
         ],
         "doi": "10.18653/v1/D15-1061",
         "intent": [
          "methodology",
          "background"
         ],
         "isInfluential": false,
         "paperId": "49293e5d3ce313c0c1543c4b3b0c416c08668d82",
         "title": "An Entity-centric Approach for Overcoming Knowledge Graph Sparsity",
         "url": "https://www.semanticscholar.org/paper/49293e5d3ce313c0c1543c4b3b0c416c08668d82",
         "venue": "EMNLP",
         "year": 2015
        },
        {
         "arxivId": null,
         "authors": [
          {
           "authorId": "48631184",
           "name": "Xuan Wang"
          },
          {
           "authorId": "46207379",
           "name": "Yu Zhang"
          },
          {
           "authorId": "3410078",
           "name": "Y. Chen"
          },
          {
           "authorId": "3355833",
           "name": "Liyuan Liu"
          }
         ],
         "doi": null,
         "intent": [
          "background"
         ],
         "isInfluential": false,
         "paperId": "998754041dbbc29dcbffea1ed83914c322a044c6",
         "title": "Pattern Type Example Derived Clauses Basic Patterns",
         "url": "https://www.semanticscholar.org/paper/998754041dbbc29dcbffea1ed83914c322a044c6",
         "venue": "",
         "year": 2018
        },
        {
         "arxivId": null,
         "authors": [
          {
           "authorId": "2795219",
           "name": "Keenon Werling"
          }
         ],
         "doi": null,
         "intent": [],
         "isInfluential": false,
         "paperId": "4fda948836fb6a5b7a3e49ecef1afd23cb638bf9",
         "title": "Recursive OpenIE",
         "url": "https://www.semanticscholar.org/paper/4fda948836fb6a5b7a3e49ecef1afd23cb638bf9",
         "venue": "",
         "year": 2013
        },
        {
         "arxivId": null,
         "authors": [
          {
           "authorId": "40052301",
           "name": "F. Petroni"
          },
          {
           "authorId": "1875906",
           "name": "Luciano Del Corro"
          },
          {
           "authorId": "1777107",
           "name": "Rainer Gemulla"
          }
         ],
         "doi": "10.18653/v1/D15-1204",
         "intent": [
          "background"
         ],
         "isInfluential": false,
         "paperId": "b471a6c7e1d45c78e78ea7b06f6f798a905ae304",
         "title": "CORE: Context-Aware Open Relation Extraction with Factorization Machines",
         "url": "https://www.semanticscholar.org/paper/b471a6c7e1d45c78e78ea7b06f6f798a905ae304",
         "venue": "EMNLP",
         "year": 2015
        },
        {
         "arxivId": null,
         "authors": [
          {
           "authorId": "2264589",
           "name": "J. Schoenfisch"
          }
         ],
         "doi": null,
         "intent": [
          "background"
         ],
         "isInfluential": true,
         "paperId": "df1e4ca68d7b44774868cbb72f85c9fc654718b1",
         "title": "Scalable integration of uncertainty reasoning and semantic web technologies",
         "url": "https://www.semanticscholar.org/paper/df1e4ca68d7b44774868cbb72f85c9fc654718b1",
         "venue": "",
         "year": 2018
        },
        {
         "arxivId": null,
         "authors": [
          {
           "authorId": "122145540",
           "name": "B. González"
          },
          {
           "authorId": "52624141",
           "name": "P. Javier"
          }
         ],
         "doi": "10.7916/D81Z43XV",
         "intent": [],
         "isInfluential": false,
         "paperId": "87325d74f8a0abb3c60be62972a89e120c863a34",
         "title": "Ranking for Scalable Information Extraction",
         "url": "https://www.semanticscholar.org/paper/87325d74f8a0abb3c60be62972a89e120c863a34",
         "venue": "",
         "year": 2015
        },
        {
         "arxivId": null,
         "authors": [
          {
           "authorId": "145275796",
           "name": "Hugo Gonçalo Oliveira"
          },
          {
           "authorId": "145828470",
           "name": "P. Gomes"
          }
         ],
         "doi": "10.1007/s10579-013-9249-9",
         "intent": [
          "background"
         ],
         "isInfluential": false,
         "paperId": "1bf590e16c434580d0267af93dc93d5c257e035a",
         "title": "ECO and Onto.PT: a flexible approach for creating a Portuguese wordnet automatically",
         "url": "https://www.semanticscholar.org/paper/1bf590e16c434580d0267af93dc93d5c257e035a",
         "venue": "Lang. Resour. Evaluation",
         "year": 2014
        },
        {
         "arxivId": null,
         "authors": [
          {
           "authorId": "1721540",
           "name": "Federico Cerutti"
          },
          {
           "authorId": "39505328",
           "name": "Timothy J. Norman"
          },
          {
           "authorId": "4680590",
           "name": "Alice Toniolo"
          },
          {
           "authorId": "3097680",
           "name": "Stuart E. Middleton"
          }
         ],
         "doi": null,
         "intent": [
          "methodology"
         ],
         "isInfluential": false,
         "paperId": "a4776414a435406a3d6cf98110b4b83599efc931",
         "title": "CISpaces . org : rom Fact Extraction to Report eneration 1",
         "url": "https://www.semanticscholar.org/paper/a4776414a435406a3d6cf98110b4b83599efc931",
         "venue": "",
         "year": 2018
        },
        {
         "arxivId": null,
         "authors": [
          {
           "authorId": "1409353863",
           "name": "Alexander Renz-Wieland"
          },
          {
           "authorId": "72671974",
           "name": "M. Bertsch"
          },
          {
           "authorId": "1777107",
           "name": "Rainer Gemulla"
          }
         ],
         "doi": "10.1109/ICDE.2019.00134",
         "intent": [],
         "isInfluential": false,
         "paperId": "97fb3e5548de77b68f649efddf4508be7946237f",
         "title": "Scalable Frequent Sequence Mining with Flexible Subsequence Constraints",
         "url": "https://www.semanticscholar.org/paper/97fb3e5548de77b68f649efddf4508be7946237f",
         "venue": "2019 IEEE 35th International Conference on Data Engineering (ICDE)",
         "year": 2019
        },
        {
         "arxivId": null,
         "authors": [
          {
           "authorId": "145300410",
           "name": "K. Tumanov"
          }
         ],
         "doi": null,
         "intent": [
          "methodology"
         ],
         "isInfluential": false,
         "paperId": "3febca6aecfdf1869c91bffdf9bf7ec2be0f753c",
         "title": "Finding Substitutions of Rare Earth Elements Using Publication Data",
         "url": "https://www.semanticscholar.org/paper/3febca6aecfdf1869c91bffdf9bf7ec2be0f753c",
         "venue": "",
         "year": 2014
        },
        {
         "arxivId": null,
         "authors": [
          {
           "authorId": "2338119",
           "name": "Nicola Lettieri"
          }
         ],
         "doi": null,
         "intent": [
          "methodology",
          "background"
         ],
         "isInfluential": true,
         "paperId": "c5a61695eca72ea4f09098613c01687fea689118",
         "title": "Semi-Automatic Construction of Skeleton Concept Maps from Case Judgments",
         "url": "https://www.semanticscholar.org/paper/c5a61695eca72ea4f09098613c01687fea689118",
         "venue": "",
         "year": 2014
        },
        {
         "arxivId": null,
         "authors": [
          {
           "authorId": "3338615",
           "name": "Timothy R. Tangherlini"
          },
          {
           "authorId": "1686063",
           "name": "V. Roychowdhury"
          },
          {
           "authorId": "2579476",
           "name": "Beth A Glenn"
          },
          {
           "authorId": "2412279",
           "name": "C. Crespi"
          },
          {
           "authorId": "1795611",
           "name": "R. Bandari"
          },
          {
           "authorId": "144506573",
           "name": "A. Wadia"
          },
          {
           "authorId": "8225707",
           "name": "Misagh Falahi"
          },
          {
           "authorId": "2313475",
           "name": "Ehsan Ebrahimzadeh"
          },
          {
           "authorId": "5662412",
           "name": "R. Bastani"
          }
         ],
         "doi": "10.2196/PUBLICHEALTH.6586",
         "intent": [],
         "isInfluential": false,
         "paperId": "90caef685c144c7dc9417e7c9efe7fa469c54041",
         "title": "“Mommy Blogs” and the Vaccination Exemption Narrative: Results From A Machine-Learning Approach for Story Aggregation on Parenting Social Media Sites",
         "url": "https://www.semanticscholar.org/paper/90caef685c144c7dc9417e7c9efe7fa469c54041",
         "venue": "JMIR public health and surveillance",
         "year": 2016
        },
        {
         "arxivId": null,
         "authors": [
          {
           "authorId": "48732437",
           "name": "Vincent Kríz"
          },
          {
           "authorId": "48857526",
           "name": "M. Popel"
          },
          {
           "authorId": "2436967",
           "name": "Rudolf Rosa"
          },
          {
           "authorId": "2902216",
           "name": "Silvie Cinková"
          }
         ],
         "doi": null,
         "intent": [
          "background"
         ],
         "isInfluential": false,
         "paperId": "819a432a1944f096a5baf453cffc1470c56daab6",
         "title": "Detecting semantic relations in texts and their integration with external data resources",
         "url": "https://www.semanticscholar.org/paper/819a432a1944f096a5baf453cffc1470c56daab6",
         "venue": "",
         "year": 2019
        },
        {
         "arxivId": "1412.1505",
         "authors": [
          {
           "authorId": "1791374",
           "name": "P. Beame"
          },
          {
           "authorId": "1749506",
           "name": "Guy Van den Broeck"
          },
          {
           "authorId": "3053123",
           "name": "Eric Gribkoff"
          },
          {
           "authorId": "144823759",
           "name": "Dan Suciu"
          }
         ],
         "doi": "10.1145/2745754.2745760",
         "intent": [
          "background"
         ],
         "isInfluential": false,
         "paperId": "13da9cb2312eae51d44e8bc9cd41a95e45aa524e",
         "title": "Symmetric Weighted First-Order Model Counting",
         "url": "https://www.semanticscholar.org/paper/13da9cb2312eae51d44e8bc9cd41a95e45aa524e",
         "venue": "PODS '15",
         "year": 2015
        },
        {
         "arxivId": null,
         "authors": [
          {
           "authorId": "145000759",
           "name": "Ivo Serra"
          },
          {
           "authorId": "2223008",
           "name": "R. Girardi"
          },
          {
           "authorId": "145302989",
           "name": "P. Novais"
          }
         ],
         "doi": "10.1109/ITNG.2013.70",
         "intent": [
          "methodology"
         ],
         "isInfluential": true,
         "paperId": "b865e9aaa423847034c0e8ff66f904d704144ca7",
         "title": "PARNT: A Statistic based Approach to Extract Non-Taxonomic Relationships of Ontologies from Text",
         "url": "https://www.semanticscholar.org/paper/b865e9aaa423847034c0e8ff66f904d704144ca7",
         "venue": "2013 10th International Conference on Information Technology: New Generations",
         "year": 2013
        },
        {
         "arxivId": null,
         "authors": [
          {
           "authorId": "40124153",
           "name": "Takuma Ebisu"
          },
          {
           "authorId": "143758327",
           "name": "R. Ichise"
          }
         ],
         "doi": "10.1109/TKDE.2019.2893920",
         "intent": [
          "methodology"
         ],
         "isInfluential": false,
         "paperId": "6037fc9874d34869df3d044a99f7bc574113aef9",
         "title": "Generalized Translation-Based Embedding of Knowledge Graph",
         "url": "https://www.semanticscholar.org/paper/6037fc9874d34869df3d044a99f7bc574113aef9",
         "venue": "IEEE Transactions on Knowledge and Data Engineering",
         "year": 2020
        },
        {
         "arxivId": null,
         "authors": [
          {
           "authorId": "2279691",
           "name": "L. Ramadier"
          },
          {
           "authorId": "2201696",
           "name": "M. Lafourcade"
          }
         ],
         "doi": null,
         "intent": [],
         "isInfluential": false,
         "paperId": "788bc3c425118f29dc829bd21d421ccb7bc39c09",
         "title": "Patrons sémantiques pour l'extraction de relations entre termes - Application aux comptes rendus radiologiques (Here the title in English)",
         "url": "https://www.semanticscholar.org/paper/788bc3c425118f29dc829bd21d421ccb7bc39c09",
         "venue": "JEP-TALN-RECITAL",
         "year": 2016
        },
        {
         "arxivId": null,
         "authors": [
          {
           "authorId": "97569165",
           "name": "Jian Wu"
          },
          {
           "authorId": "121135269",
           "name": "P. Wang"
          },
          {
           "authorId": "145505109",
           "name": "X. Wei"
          },
          {
           "authorId": "1434558645",
           "name": "Sarah Rajtmajer"
          },
          {
           "authorId": "145157782",
           "name": "C. Lee Giles"
          },
          {
           "authorId": "3147591",
           "name": "Christopher Griffin"
          }
         ],
         "doi": null,
         "intent": [
          "methodology"
         ],
         "isInfluential": true,
         "paperId": "3a361205a4581d19ea9e32e4cd277049671f7196",
         "title": "Acknowledgement Entity Recognition in CORD-19 Papers",
         "url": "https://www.semanticscholar.org/paper/3a361205a4581d19ea9e32e4cd277049671f7196",
         "venue": "SDP",
         "year": 2020
        },
        {
         "arxivId": "2009.11564",
         "authors": [
          {
           "authorId": "1751591",
           "name": "G. Weikum"
          },
          {
           "authorId": "3995081",
           "name": "L. Dong"
          },
          {
           "authorId": "2499758",
           "name": "Simon Razniewski"
          },
          {
           "authorId": "1679784",
           "name": "Fabian M. Suchanek"
          }
         ],
         "doi": null,
         "intent": [],
         "isInfluential": false,
         "paperId": "c79941393040f535346e24598a840461a5ae604b",
         "title": "Machine Knowledge: Creation and Curation of Comprehensive Knowledge Bases",
         "url": "https://www.semanticscholar.org/paper/c79941393040f535346e24598a840461a5ae604b",
         "venue": "ArXiv",
         "year": 2020
        },
        {
         "arxivId": null,
         "authors": [
          {
           "authorId": "151485371",
           "name": "Junshuang Wu"
          },
          {
           "authorId": "1747018",
           "name": "Richong Zhang"
          },
          {
           "authorId": "34001424",
           "name": "T. Deng"
          },
          {
           "authorId": "7392431",
           "name": "J. Huai"
          }
         ],
         "doi": "10.1007/978-981-15-1956-7_17",
         "intent": [],
         "isInfluential": false,
         "paperId": "3311f4454f84e27eedf3ba0ddd6f57656db2831b",
         "title": "Named Entity Recognition for Open Domain Data Based on Distant Supervision",
         "url": "https://www.semanticscholar.org/paper/3311f4454f84e27eedf3ba0ddd6f57656db2831b",
         "venue": "CCKS",
         "year": 2019
        },
        {
         "arxivId": null,
         "authors": [
          {
           "authorId": "2256003",
           "name": "V. Nastase"
          },
          {
           "authorId": "1683562",
           "name": "Preslav Nakov"
          },
          {
           "authorId": "8311581",
           "name": "Diarmuid Ó Séaghdha"
          },
          {
           "authorId": "1795595",
           "name": "S. Szpakowicz"
          }
         ],
         "doi": "10.2200/S00489ED1V01Y201303HLT019",
         "intent": [],
         "isInfluential": false,
         "paperId": "17fa63699b938fe606fadbe22fea2bfbc12bae0b",
         "title": "Semantic Relations Between Nominals",
         "url": "https://www.semanticscholar.org/paper/17fa63699b938fe606fadbe22fea2bfbc12bae0b",
         "venue": "Semantic Relations Between Nominals",
         "year": 2013
        },
        {
         "arxivId": null,
         "authors": [
          {
           "authorId": "2434221",
           "name": "C. Lin"
          },
          {
           "authorId": "2611607",
           "name": "Hen-Hsen Huang"
          },
          {
           "authorId": "1748891",
           "name": "H. Chen"
          }
         ],
         "doi": null,
         "intent": [
          "methodology",
          "result"
         ],
         "isInfluential": false,
         "paperId": "ea5e08f3a1e39591f565ed732868d209c98f20f9",
         "title": "Learning to Map Natural Language Statements into Knowledge Base Representations for Knowledge Base Construction",
         "url": "https://www.semanticscholar.org/paper/ea5e08f3a1e39591f565ed732868d209c98f20f9",
         "venue": "LREC",
         "year": 2018
        },
        {
         "arxivId": null,
         "authors": [
          {
           "authorId": "145863351",
           "name": "N. Khairova"
          },
          {
           "authorId": "145470529",
           "name": "O. Mamyrbayev"
          },
          {
           "authorId": "83192010",
           "name": "Kuralay Mukhsina"
          },
          {
           "authorId": "145144030",
           "name": "A. Kolesnyk"
          }
         ],
         "doi": "10.1080/23311916.2020.1714829",
         "intent": [],
         "isInfluential": false,
         "paperId": "29ee08df66e4f9a365cb24dbb5f5eb8a8c2ca0aa",
         "title": "Logical-linguistic model for multilingual Open Information Extraction",
         "url": "https://www.semanticscholar.org/paper/29ee08df66e4f9a365cb24dbb5f5eb8a8c2ca0aa",
         "venue": "",
         "year": 2020
        },
        {
         "arxivId": null,
         "authors": [
          {
           "authorId": "11801686",
           "name": "Abhishek Pradhan"
          },
          {
           "authorId": "51207774",
           "name": "Ketan Kumar Todi"
          },
          {
           "authorId": "1978836619",
           "name": "Anbarasan Selvarasu"
          },
          {
           "authorId": "94408620",
           "name": "A. Sanyal"
          }
         ],
         "doi": "10.1109/IJCNN48605.2020.9207515",
         "intent": [],
         "isInfluential": false,
         "paperId": "ef6d82d7ae204a4784084c6d7798c4c0dd94c1ce",
         "title": "Knowledge Graph Generation with Deep Active Learning",
         "url": "https://www.semanticscholar.org/paper/ef6d82d7ae204a4784084c6d7798c4c0dd94c1ce",
         "venue": "2020 International Joint Conference on Neural Networks (IJCNN)",
         "year": 2020
        },
        {
         "arxivId": null,
         "authors": [
          {
           "authorId": "20587739",
           "name": "Yongpan Sheng"
          },
          {
           "authorId": "1683510",
           "name": "Zenglin Xu"
          },
          {
           "authorId": null,
           "name": "Yafang Wang"
          },
          {
           "authorId": "144608002",
           "name": "Gerard de Melo"
          }
         ],
         "doi": "10.1007/s11280-020-00790-2",
         "intent": [
          "background"
         ],
         "isInfluential": false,
         "paperId": "dd7c0d24dd9178471942141ef3b71b4f5b25c308",
         "title": "Multi-document semantic relation extraction for news analytics",
         "url": "https://www.semanticscholar.org/paper/dd7c0d24dd9178471942141ef3b71b4f5b25c308",
         "venue": "World Wide Web",
         "year": 2020
        },
        {
         "arxivId": null,
         "authors": [
          {
           "authorId": "1893044063",
           "name": "Mingming Sun"
          },
          {
           "authorId": "2007245028",
           "name": "Wenyue Hua"
          },
          {
           "authorId": "47781876",
           "name": "Zoey Liu"
          },
          {
           "authorId": "50141193",
           "name": "X. Wang"
          },
          {
           "authorId": "145108212",
           "name": "K. Zheng"
          },
          {
           "authorId": "1739405774",
           "name": "Ping Li"
          }
         ],
         "doi": null,
         "intent": [
          "background"
         ],
         "isInfluential": false,
         "paperId": "b39751fc4be3577a6c8f2c957808ece111871415",
         "title": "A Predicate-Function-Argument Annotation of Natural Language for Open-Domain Information Expression",
         "url": "https://www.semanticscholar.org/paper/b39751fc4be3577a6c8f2c957808ece111871415",
         "venue": "EMNLP",
         "year": 2020
        },
        {
         "arxivId": "1904.12324",
         "authors": [
          {
           "authorId": "24868638",
           "name": "Kiril Gashteovski"
          },
          {
           "authorId": "113598122",
           "name": "Sebastian Wanner"
          },
          {
           "authorId": "2945518",
           "name": "S. Hertling"
          },
          {
           "authorId": "2966239",
           "name": "Samuel Broscheit"
          },
          {
           "authorId": "1777107",
           "name": "Rainer Gemulla"
          }
         ],
         "doi": "10.24432/C53W2J",
         "intent": [
          "methodology"
         ],
         "isInfluential": true,
         "paperId": "3c1e46a8e262af64492f71c25e40d2fe86589c88",
         "title": "OPIEC: An Open Information Extraction Corpus",
         "url": "https://www.semanticscholar.org/paper/3c1e46a8e262af64492f71c25e40d2fe86589c88",
         "venue": "AKBC",
         "year": 2019
        },
        {
         "arxivId": null,
         "authors": [
          {
           "authorId": "1800354",
           "name": "Kevin Duh"
          },
          {
           "authorId": "7536576",
           "name": "Benjamin Van Durme"
          },
          {
           "authorId": "72655349",
           "name": "Sheng Zhang"
          }
         ],
         "doi": "10.18653/V1/E17-2011",
         "intent": [
          "methodology",
          "background"
         ],
         "isInfluential": false,
         "paperId": "76e6a12b291f330fe593d9ad22b427b8af782c0b",
         "title": "MT/IE: Cross-lingual Open Information Extraction with Neural Sequence-to-Sequence Models",
         "url": "https://www.semanticscholar.org/paper/76e6a12b291f330fe593d9ad22b427b8af782c0b",
         "venue": "EACL",
         "year": 2017
        },
        {
         "arxivId": "1809.01797",
         "authors": [
          {
           "authorId": "1786863",
           "name": "Qingyun Wang"
          },
          {
           "authorId": "34741133",
           "name": "Xiaoman Pan"
          },
          {
           "authorId": "34170717",
           "name": "Lifu Huang"
          },
          {
           "authorId": "38629264",
           "name": "Boliang Zhang"
          },
          {
           "authorId": "3109913",
           "name": "Zhiying Jiang"
          },
          {
           "authorId": "144016781",
           "name": "Heng Ji"
          },
          {
           "authorId": null,
           "name": "Kevin Knight"
          }
         ],
         "doi": "10.18653/v1/W18-6502",
         "intent": [
          "methodology"
         ],
         "isInfluential": false,
         "paperId": "bf6333f2c70321ebb7b625cc7b9d8ff619b67701",
         "title": "Describing a Knowledge Base",
         "url": "https://www.semanticscholar.org/paper/bf6333f2c70321ebb7b625cc7b9d8ff619b67701",
         "venue": "INLG",
         "year": 2018
        },
        {
         "arxivId": null,
         "authors": [
          {
           "authorId": "29995869",
           "name": "Nikita Bhutani"
          },
          {
           "authorId": "145531067",
           "name": "H. V. Jagadish"
          },
          {
           "authorId": "9215251",
           "name": "Dragomir R. Radev"
          }
         ],
         "doi": "10.18653/v1/D16-1006",
         "intent": [
          "background",
          "methodology"
         ],
         "isInfluential": true,
         "paperId": "4c187332ba519e50feb6ca1454dd02682a0a3643",
         "title": "Nested Propositions in Open Information Extraction",
         "url": "https://www.semanticscholar.org/paper/4c187332ba519e50feb6ca1454dd02682a0a3643",
         "venue": "EMNLP",
         "year": 2016
        },
        {
         "arxivId": null,
         "authors": [
          {
           "authorId": "73762552",
           "name": "S. Nepal"
          }
         ],
         "doi": null,
         "intent": [
          "background",
          "methodology"
         ],
         "isInfluential": true,
         "paperId": "80739d62c1ff92f18f2b683e785aee52ab7e96ee",
         "title": "Linguistic Approach to Information Extraction and Sentiment Analysis on Twitter",
         "url": "https://www.semanticscholar.org/paper/80739d62c1ff92f18f2b683e785aee52ab7e96ee",
         "venue": "",
         "year": 2012
        },
        {
         "arxivId": null,
         "authors": [
          {
           "authorId": "143792905",
           "name": "G. Neumann"
          },
          {
           "authorId": "1747182",
           "name": "S. Schmeier"
          }
         ],
         "doi": "10.1007/978-3-642-54105-6_4",
         "intent": [],
         "isInfluential": false,
         "paperId": "67e9d97ece91a359c7ada8ac0dadf064db89de84",
         "title": "Strategies for Guided Exploratory Search on the Mobile Web",
         "url": "https://www.semanticscholar.org/paper/67e9d97ece91a359c7ada8ac0dadf064db89de84",
         "venue": "IC3K",
         "year": 2012
        },
        {
         "arxivId": null,
         "authors": [
          {
           "authorId": "1733928",
           "name": "R. Navigli"
          },
          {
           "authorId": "1801255",
           "name": "Simone Paolo Ponzetto"
          }
         ],
         "doi": "10.1016/j.artint.2012.07.001",
         "intent": [],
         "isInfluential": false,
         "paperId": "7f90ef42f22d4f9b86d33b0ad7f16261273c8612",
         "title": "BabelNet: The automatic construction, evaluation and application of a wide-coverage multilingual semantic network",
         "url": "https://www.semanticscholar.org/paper/7f90ef42f22d4f9b86d33b0ad7f16261273c8612",
         "venue": "Artif. Intell.",
         "year": 2012
        },
        {
         "arxivId": null,
         "authors": [
          {
           "authorId": "1714932",
           "name": "Zornitsa Kozareva"
          }
         ],
         "doi": "10.1007/978-3-319-12655-5_3",
         "intent": [],
         "isInfluential": false,
         "paperId": "8311142af44432621f0323538db42f208f196c6d",
         "title": "Simple, Fast and Accurate Taxonomy Learning",
         "url": "https://www.semanticscholar.org/paper/8311142af44432621f0323538db42f208f196c6d",
         "venue": "Text Mining",
         "year": 2014
        },
        {
         "arxivId": null,
         "authors": [
          {
           "authorId": "49930345",
           "name": "Kerstin Denecke"
          }
         ],
         "doi": "10.1007/978-3-319-20582-3_6",
         "intent": [],
         "isInfluential": false,
         "paperId": "d699cf7f1195c701075e09f3afcf1bf38ec494b2",
         "title": "Content and Language in Medical Social Media",
         "url": "https://www.semanticscholar.org/paper/d699cf7f1195c701075e09f3afcf1bf38ec494b2",
         "venue": "",
         "year": 2015
        },
        {
         "arxivId": "1503.06450",
         "authors": [
          {
           "authorId": "1779225",
           "name": "Manaal Faruqui"
          },
          {
           "authorId": "9567965",
           "name": "Shankar Kumar"
          }
         ],
         "doi": "10.3115/v1/N15-1151",
         "intent": [],
         "isInfluential": false,
         "paperId": "1f2e8fe19086ef8f4be7808bcf80f3b89ae02008",
         "title": "Multilingual Open Relation Extraction Using Cross-lingual Projection",
         "url": "https://www.semanticscholar.org/paper/1f2e8fe19086ef8f4be7808bcf80f3b89ae02008",
         "venue": "HLT-NAACL",
         "year": 2015
        },
        {
         "arxivId": null,
         "authors": [
          {
           "authorId": "47120191",
           "name": "Xiaolan Wang"
          },
          {
           "authorId": "38591163",
           "name": "M. Feng"
          },
          {
           "authorId": null,
           "name": "Yue Wang"
          },
          {
           "authorId": "145867172",
           "name": "X. Dong"
          },
          {
           "authorId": "2283085",
           "name": "A. Meliou"
          }
         ],
         "doi": "10.14778/2824032.2824117",
         "intent": [
          "methodology"
         ],
         "isInfluential": false,
         "paperId": "005a13ebd72cb06249da7b72195d29d970352d61",
         "title": "Error Diagnosis and Data Profiling with Data X-Ray",
         "url": "https://www.semanticscholar.org/paper/005a13ebd72cb06249da7b72195d29d970352d61",
         "venue": "Proc. VLDB Endow.",
         "year": 2015
        },
        {
         "arxivId": null,
         "authors": [
          {
           "authorId": "37313813",
           "name": "Zhemin Zhu"
          }
         ],
         "doi": "10.3990/1.9789036539326",
         "intent": [
          "background",
          "result"
         ],
         "isInfluential": true,
         "paperId": "a26bf61721cb6a93661adb6ede20eb276245b258",
         "title": "Co-occurrence rate networks: towards separate training for undirected graphical models",
         "url": "https://www.semanticscholar.org/paper/a26bf61721cb6a93661adb6ede20eb276245b258",
         "venue": "",
         "year": 2015
        },
        {
         "arxivId": "1601.06733",
         "authors": [
          {
           "authorId": "1941442",
           "name": "Jianpeng Cheng"
          },
          {
           "authorId": "145307652",
           "name": "Li Dong"
          },
          {
           "authorId": "1747893",
           "name": "Mirella Lapata"
          }
         ],
         "doi": "10.18653/v1/D16-1053",
         "intent": [
          "background"
         ],
         "isInfluential": false,
         "paperId": "13fe71da009484f240c46f14d9330e932f8de210",
         "title": "Long Short-Term Memory-Networks for Machine Reading",
         "url": "https://www.semanticscholar.org/paper/13fe71da009484f240c46f14d9330e932f8de210",
         "venue": "EMNLP",
         "year": 2016
        },
        {
         "arxivId": null,
         "authors": [
          {
           "authorId": "5295950",
           "name": "T. Siddiqui"
          },
          {
           "authorId": "145201124",
           "name": "Xiang Ren"
          },
          {
           "authorId": "145592539",
           "name": "Aditya G. Parameswaran"
          },
          {
           "authorId": "145325584",
           "name": "Jiawei Han"
          }
         ],
         "doi": "10.1145/2983323.2983828",
         "intent": [
          "background",
          "methodology"
         ],
         "isInfluential": false,
         "paperId": "917d74f3b3f43051fc8fe677ab25eec28ba928e7",
         "title": "FacetGist: Collective Extraction of Document Facets in Large Technical Corpora",
         "url": "https://www.semanticscholar.org/paper/917d74f3b3f43051fc8fe677ab25eec28ba928e7",
         "venue": "CIKM",
         "year": 2016
        },
        {
         "arxivId": null,
         "authors": [
          {
           "authorId": "2599915",
           "name": "K. Liu"
          },
          {
           "authorId": "1402618073",
           "name": "N. El-Gohary"
          }
         ],
         "doi": "10.1016/J.AUTCON.2017.02.003",
         "intent": [],
         "isInfluential": false,
         "paperId": "8353706c1ff8349be80e4e6b3922b15d2c0fbbf6",
         "title": "Ontology-based semi-supervised conditional random fields for automated information extraction from bridge inspection reports",
         "url": "https://www.semanticscholar.org/paper/8353706c1ff8349be80e4e6b3922b15d2c0fbbf6",
         "venue": "",
         "year": 2017
        },
        {
         "arxivId": null,
         "authors": [
          {
           "authorId": "73026446",
           "name": "Silvia Julinda"
          },
          {
           "authorId": "1894863",
           "name": "Christoph Boden"
          },
          {
           "authorId": "2403712",
           "name": "A. Akbik"
          }
         ],
         "doi": "10.3115/v1/W14-4503",
         "intent": [
          "methodology"
         ],
         "isInfluential": false,
         "paperId": "d24bdc82fb139bbc574d4ae3d6ce795f90adc15a",
         "title": "Extracting a Repository of Events and Event References from News Clusters",
         "url": "https://www.semanticscholar.org/paper/d24bdc82fb139bbc574d4ae3d6ce795f90adc15a",
         "venue": "",
         "year": 2014
        },
        {
         "arxivId": null,
         "authors": [
          {
           "authorId": "3001990",
           "name": "Sujay Kumar Jauhar"
          }
         ],
         "doi": null,
         "intent": [
          "background"
         ],
         "isInfluential": false,
         "paperId": "a8de5528bb300461cd13e1298c10bf1bc26cd56b",
         "title": "A Relation-Centric View of Semantic Representation Learning",
         "url": "https://www.semanticscholar.org/paper/a8de5528bb300461cd13e1298c10bf1bc26cd56b",
         "venue": "",
         "year": 2017
        },
        {
         "arxivId": null,
         "authors": [
          {
           "authorId": "46314959",
           "name": "W. Wang"
          },
          {
           "authorId": "1740190",
           "name": "R. Besançon"
          },
          {
           "authorId": "1679133",
           "name": "Olivier Ferret"
          },
          {
           "authorId": "1704849",
           "name": "B. Grau"
          }
         ],
         "doi": null,
         "intent": [
          "background"
         ],
         "isInfluential": false,
         "paperId": "a553d2f62fb7f089294d9cf3c86af5e39d1d8909",
         "title": "Extraction et regroupement de relations entre entités pour l'extraction d'information non supervisée",
         "url": "https://www.semanticscholar.org/paper/a553d2f62fb7f089294d9cf3c86af5e39d1d8909",
         "venue": "Trait. Autom. des Langues",
         "year": 2013
        },
        {
         "arxivId": null,
         "authors": [
          {
           "authorId": "77305787",
           "name": "S. Walter"
          },
          {
           "authorId": "1711387",
           "name": "C. Unger"
          },
          {
           "authorId": "1748977",
           "name": "P. Cimiano"
          }
         ],
         "doi": "10.1007/978-3-642-38824-8_9",
         "intent": [],
         "isInfluential": false,
         "paperId": "b424dd3b620ae333a2d7c6ad6cf09b137f7db447",
         "title": "A Corpus-Based Approach for the Induction of Ontology Lexica",
         "url": "https://www.semanticscholar.org/paper/b424dd3b620ae333a2d7c6ad6cf09b137f7db447",
         "venue": "NLDB",
         "year": 2013
        },
        {
         "arxivId": null,
         "authors": [
          {
           "authorId": "1750652",
           "name": "Jonathan Berant"
          },
          {
           "authorId": "48244232",
           "name": "A. Chou"
          },
          {
           "authorId": "34765463",
           "name": "Roy Frostig"
          },
          {
           "authorId": "145419642",
           "name": "Percy Liang"
          }
         ],
         "doi": null,
         "intent": [
          "methodology",
          "background"
         ],
         "isInfluential": true,
         "paperId": "b29447ba499507a259ae9d8f685d60cc1597d7d3",
         "title": "Semantic Parsing on Freebase from Question-Answer Pairs",
         "url": "https://www.semanticscholar.org/paper/b29447ba499507a259ae9d8f685d60cc1597d7d3",
         "venue": "EMNLP",
         "year": 2013
        },
        {
         "arxivId": null,
         "authors": [
          {
           "authorId": "2681499",
           "name": "Sarath Kumar Kondreddi"
          },
          {
           "authorId": "1732298",
           "name": "P. Triantafillou"
          },
          {
           "authorId": "1751591",
           "name": "G. Weikum"
          }
         ],
         "doi": "10.1145/2505515.2508213",
         "intent": [
          "background"
         ],
         "isInfluential": false,
         "paperId": "7c67c6e7758dc7abbf50b71d5c9fe308aac1ba9f",
         "title": "Human computing games for knowledge acquisition",
         "url": "https://www.semanticscholar.org/paper/7c67c6e7758dc7abbf50b71d5c9fe308aac1ba9f",
         "venue": "CIKM",
         "year": 2013
        },
        {
         "arxivId": null,
         "authors": [
          {
           "authorId": "2675553",
           "name": "Sandra Collovini"
          },
          {
           "authorId": "145845143",
           "name": "Gabriel Machado"
          },
          {
           "authorId": "144845513",
           "name": "R. Vieira"
          }
         ],
         "doi": null,
         "intent": [
          "methodology"
         ],
         "isInfluential": false,
         "paperId": "6cf915c77825c6e5b18fc90743c58656391f0d6b",
         "title": "A Sequence Model Approach to Relation Extraction in Portuguese",
         "url": "https://www.semanticscholar.org/paper/6cf915c77825c6e5b18fc90743c58656391f0d6b",
         "venue": "LREC",
         "year": 2016
        },
        {
         "arxivId": null,
         "authors": [
          {
           "authorId": "2047181",
           "name": "Seokhwan Kim"
          },
          {
           "authorId": "1735513",
           "name": "G. Lee"
          }
         ],
         "doi": null,
         "intent": [
          "methodology"
         ],
         "isInfluential": false,
         "paperId": "72fcf7858f3b2cb96bfd06871c49e62039498f4b",
         "title": "A Graph-based Cross-lingual Projection Approach for Weakly Supervised Relation Extraction",
         "url": "https://www.semanticscholar.org/paper/72fcf7858f3b2cb96bfd06871c49e62039498f4b",
         "venue": "ACL",
         "year": 2012
        },
        {
         "arxivId": null,
         "authors": [
          {
           "authorId": "122644830",
           "name": "John M Brown"
          }
         ],
         "doi": null,
         "intent": [
          "background"
         ],
         "isInfluential": false,
         "paperId": "642c1dd6dddb38b65b0b0d71f25b84186f14613e",
         "title": "Modelling Events through Memory-based , Open-IE Patterns for Abstractive Summarization",
         "url": "https://www.semanticscholar.org/paper/642c1dd6dddb38b65b0b0d71f25b84186f14613e",
         "venue": "",
         "year": 2014
        },
        {
         "arxivId": null,
         "authors": [
          {
           "authorId": null,
           "name": "FACTUAL DENSITY"
          },
          {
           "authorId": "3638386",
           "name": "AN As"
          },
          {
           "authorId": "2170235",
           "name": "Filipo Sharevski"
          }
         ],
         "doi": null,
         "intent": [
          "methodology",
          "background"
         ],
         "isInfluential": true,
         "paperId": "fba7188c7e2dc33e0cf0d535ec8b8bbbcd6bcd78",
         "title": "INFORMATIVENESS MEASURE FOR ONLINE NEWS",
         "url": "https://www.semanticscholar.org/paper/fba7188c7e2dc33e0cf0d535ec8b8bbbcd6bcd78",
         "venue": "",
         "year": 2015
        },
        {
         "arxivId": null,
         "authors": [
          {
           "authorId": null,
           "name": "Dan Jurafsky Christopher Manning"
          },
          {
           "authorId": "145419642",
           "name": "Percy Liang"
          }
         ],
         "doi": null,
         "intent": [
          "background"
         ],
         "isInfluential": false,
         "paperId": "0c0d293e99cd60f033eecc8a1dfce6c22b3282b6",
         "title": "ROBUST DEEP SEMANTICS FOR LANGUAGE UNDERSTANDING LELAND STANFORD UNIVERSITY JUNE 2018 FINAL TECHNICAL REPORT APPROVED FOR PUBLIC RELEASE; DISTRIBUTION UNLIMITED",
         "url": "https://www.semanticscholar.org/paper/0c0d293e99cd60f033eecc8a1dfce6c22b3282b6",
         "venue": "",
         "year": 2018
        },
        {
         "arxivId": null,
         "authors": [],
         "doi": null,
         "intent": [
          "result"
         ],
         "isInfluential": false,
         "paperId": "bd641193d80be229b1162b8e58892ca77150154c",
         "title": "Extracting Medical Information Using Machine Reading",
         "url": "https://www.semanticscholar.org/paper/bd641193d80be229b1162b8e58892ca77150154c",
         "venue": "",
         "year": 2018
        },
        {
         "arxivId": null,
         "authors": [
          {
           "authorId": "37696683",
           "name": "Qi Li"
          },
          {
           "authorId": "144812586",
           "name": "Meng Jiang"
          },
          {
           "authorId": "88342435",
           "name": "Xikun Zhang"
          },
          {
           "authorId": "35955224",
           "name": "Meng Qu"
          },
          {
           "authorId": "9919152",
           "name": "T. Hanratty"
          },
          {
           "authorId": "144407304",
           "name": "Jing Gao"
          },
          {
           "authorId": "145325584",
           "name": "Jiawei Han"
          }
         ],
         "doi": "10.1145/3219819.3220017",
         "intent": [
          "background"
         ],
         "isInfluential": false,
         "paperId": "98f6e0c1983a2196b2f0ad7f191bf4fe4681dd28",
         "title": "TruePIE: Discovering Reliable Patterns in Pattern-Based Information Extraction",
         "url": "https://www.semanticscholar.org/paper/98f6e0c1983a2196b2f0ad7f191bf4fe4681dd28",
         "venue": "KDD",
         "year": 2018
        },
        {
         "arxivId": null,
         "authors": [
          {
           "authorId": "3118694",
           "name": "G. Khirbat"
          }
         ],
         "doi": null,
         "intent": [
          "methodology"
         ],
         "isInfluential": false,
         "paperId": "785b5996bff4c9eddbe578e431b8077b03eaf2c6",
         "title": "Supervised algorithms for complex relation extraction",
         "url": "https://www.semanticscholar.org/paper/785b5996bff4c9eddbe578e431b8077b03eaf2c6",
         "venue": "",
         "year": 2017
        },
        {
         "arxivId": null,
         "authors": [
          {
           "authorId": "3373145",
           "name": "Kevin Lange Di Cesare"
          }
         ],
         "doi": null,
         "intent": [],
         "isInfluential": false,
         "paperId": "43c60670fa8504916fbb7824f41831e932874894",
         "title": "Amélioration de la précision de systèmes d'extraction de relations en utilisant un filtre générique basé sur l'apprentissage statistique",
         "url": "https://www.semanticscholar.org/paper/43c60670fa8504916fbb7824f41831e932874894",
         "venue": "",
         "year": 2016
        },
        {
         "arxivId": null,
         "authors": [
          {
           "authorId": "151231496",
           "name": "T. Harting"
          }
         ],
         "doi": null,
         "intent": [
          "background"
         ],
         "isInfluential": false,
         "paperId": "93fa80dfa3892196427145c1807a6e309b24a64a",
         "title": "Language-consistent Open Relation Extraction: from Multilingual Text Corpora",
         "url": "https://www.semanticscholar.org/paper/93fa80dfa3892196427145c1807a6e309b24a64a",
         "venue": "",
         "year": 2019
        },
        {
         "arxivId": null,
         "authors": [
          {
           "authorId": "1381645735",
           "name": "Sangnie Bhardwaj"
          },
          {
           "authorId": "1379730794",
           "name": "Samarth Aggarwal"
          },
          {
           "authorId": "2674444",
           "name": "Mausam"
          }
         ],
         "doi": "10.18653/v1/D19-1651",
         "intent": [
          "background"
         ],
         "isInfluential": true,
         "paperId": "fb2a171434ffa87ca939397302816df70fd4bb10",
         "title": "CaRB: A Crowdsourced Benchmark for Open IE",
         "url": "https://www.semanticscholar.org/paper/fb2a171434ffa87ca939397302816df70fd4bb10",
         "venue": "EMNLP/IJCNLP",
         "year": 2019
        },
        {
         "arxivId": "1912.01858",
         "authors": [
          {
           "authorId": "1443434746",
           "name": "Qiongxing Tao"
          },
          {
           "authorId": "2167614",
           "name": "X. Luo"
          },
          {
           "authorId": "143736223",
           "name": "Hao Wang"
          }
         ],
         "doi": "10.1109/ICTAI.2019.00227",
         "intent": [
          "background"
         ],
         "isInfluential": false,
         "paperId": "a95293a950c6006f4703a6ddcf6aa22ae3777689",
         "title": "Enhancing Relation Extraction Using Syntactic Indicators and Sentential Contexts",
         "url": "https://www.semanticscholar.org/paper/a95293a950c6006f4703a6ddcf6aa22ae3777689",
         "venue": "2019 IEEE 31st International Conference on Tools with Artificial Intelligence (ICTAI)",
         "year": 2019
        },
        {
         "arxivId": "2002.03149",
         "authors": [
          {
           "authorId": "2803468",
           "name": "Yanyan Zou"
          }
         ],
         "doi": null,
         "intent": [
          "background"
         ],
         "isInfluential": false,
         "paperId": "bceb62403ce343f7f3a4ccc5f21ad51ccf29c781",
         "title": "Mining Commonsense Facts from the Physical World",
         "url": "https://www.semanticscholar.org/paper/bceb62403ce343f7f3a4ccc5f21ad51ccf29c781",
         "venue": "ArXiv",
         "year": 2020
        },
        {
         "arxivId": null,
         "authors": [
          {
           "authorId": "145048847",
           "name": "Victor Pereira"
          },
          {
           "authorId": "1880369",
           "name": "V. Pinheiro"
          }
         ],
         "doi": null,
         "intent": [
          "background"
         ],
         "isInfluential": false,
         "paperId": "1735b4b0c854fa2428d5b2e8f4542a658fcff228",
         "title": "RePort - Um Sistema de Extração de Informações Aberta para Língua Portuguesa (Report - An Open Information Extraction System for Portuguese Language)",
         "url": "https://www.semanticscholar.org/paper/1735b4b0c854fa2428d5b2e8f4542a658fcff228",
         "venue": "STIL",
         "year": 2015
        },
        {
         "arxivId": null,
         "authors": [
          {
           "authorId": "3122336",
           "name": "L. Snidaro"
          },
          {
           "authorId": "40543111",
           "name": "J. García"
          },
          {
           "authorId": "1911390",
           "name": "J. Llinas"
          },
          {
           "authorId": "98042165",
           "name": "E. Blasch"
          }
         ],
         "doi": "10.1007/978-3-319-28971-7",
         "intent": [
          "background"
         ],
         "isInfluential": false,
         "paperId": "e6b6e4000be0e07b7c59ac10ee2d320800bb84e3",
         "title": "Context-Enhanced Information Fusion",
         "url": "https://www.semanticscholar.org/paper/e6b6e4000be0e07b7c59ac10ee2d320800bb84e3",
         "venue": "Advances in Computer Vision and Pattern Recognition",
         "year": 2016
        },
        {
         "arxivId": null,
         "authors": [
          {
           "authorId": "78289828",
           "name": "Eleftherios Dimitrakis"
          },
          {
           "authorId": "79554907",
           "name": "K. Sgontzos"
          },
          {
           "authorId": "1801959",
           "name": "Yannis Tzitzikas"
          }
         ],
         "doi": "10.1007/s10844-019-00584-7",
         "intent": [
          "methodology"
         ],
         "isInfluential": false,
         "paperId": "b482e8e47ae39734e9750b948bc3249b51fa2c30",
         "title": "A survey on question answering systems over linked data and documents",
         "url": "https://www.semanticscholar.org/paper/b482e8e47ae39734e9750b948bc3249b51fa2c30",
         "venue": "Journal of Intelligent Information Systems",
         "year": 2019
        },
        {
         "arxivId": "1909.00749",
         "authors": [
          {
           "authorId": "35345881",
           "name": "S. N. Chowdhury"
          },
          {
           "authorId": "1721168",
           "name": "Niket Tandon"
          },
          {
           "authorId": "1751591",
           "name": "G. Weikum"
          }
         ],
         "doi": "10.18653/v1/W16-1311",
         "intent": [],
         "isInfluential": false,
         "paperId": "4cf74aaae29f9dfbee612d003f14171b2220f81a",
         "title": "Know2Look: Commonsense Knowledge for Visual Search",
         "url": "https://www.semanticscholar.org/paper/4cf74aaae29f9dfbee612d003f14171b2220f81a",
         "venue": "AKBC@NAACL-HLT",
         "year": 2016
        },
        {
         "arxivId": null,
         "authors": [
          {
           "authorId": "2128351",
           "name": "F. Gotti"
          },
          {
           "authorId": "1706916",
           "name": "P. Langlais"
          }
         ],
         "doi": "10.1007/978-3-319-34111-8_20",
         "intent": [
          "background"
         ],
         "isInfluential": true,
         "paperId": "80b30430b4b62a99b77ff8413a1ac762ccdd1ae9",
         "title": "Harnessing Open Information Extraction for Entity Classification in a French Corpus",
         "url": "https://www.semanticscholar.org/paper/80b30430b4b62a99b77ff8413a1ac762ccdd1ae9",
         "venue": "Canadian Conference on AI",
         "year": 2016
        },
        {
         "arxivId": null,
         "authors": [
          {
           "authorId": "2272640",
           "name": "Tiziano Flati"
          },
          {
           "authorId": "2185884",
           "name": "Daniele Vannella"
          },
          {
           "authorId": "40438851",
           "name": "Tommaso Pasini"
          },
          {
           "authorId": "1733928",
           "name": "R. Navigli"
          }
         ],
         "doi": "10.1016/J.ARTINT.2016.08.004",
         "intent": [
          "background"
         ],
         "isInfluential": false,
         "paperId": "5caa6320487fbc7007ac25d874dea8072b6ffa4a",
         "title": "MultiWiBi: The multilingual Wikipedia bitaxonomy project",
         "url": "https://www.semanticscholar.org/paper/5caa6320487fbc7007ac25d874dea8072b6ffa4a",
         "venue": "Artif. Intell.",
         "year": 2016
        },
        {
         "arxivId": null,
         "authors": [
          {
           "authorId": "145863351",
           "name": "N. Khairova"
          },
          {
           "authorId": "2513991",
           "name": "Wlodzimierz Lewoniewski"
          },
          {
           "authorId": "3223508",
           "name": "Krzysztof Wecel"
          }
         ],
         "doi": "10.1007/978-3-319-59336-4_3",
         "intent": [
          "background"
         ],
         "isInfluential": false,
         "paperId": "1aa2271c2a5fe2f7c69556334c4cf8b6e008c0ef",
         "title": "Estimating the Quality of Articles in Russian Wikipedia Using the Logical-Linguistic Model of Fact Extraction",
         "url": "https://www.semanticscholar.org/paper/1aa2271c2a5fe2f7c69556334c4cf8b6e008c0ef",
         "venue": "BIS",
         "year": 2017
        },
        {
         "arxivId": null,
         "authors": [
          {
           "authorId": "33544449",
           "name": "S. Takase"
          },
          {
           "authorId": "1764004",
           "name": "N. Okazaki"
          },
          {
           "authorId": "3040648",
           "name": "Kentaro Inui"
          }
         ],
         "doi": "10.1527/TJSAI.D-G96",
         "intent": [],
         "isInfluential": false,
         "paperId": "992debc257111894fa8cf8e209a2a2c3dd1c1005",
         "title": "Learning to Compose Distributed Representations of Relational Patterns",
         "url": "https://www.semanticscholar.org/paper/992debc257111894fa8cf8e209a2a2c3dd1c1005",
         "venue": "",
         "year": 2017
        },
        {
         "arxivId": "1907.08937",
         "authors": [
          {
           "authorId": "117455227",
           "name": "Weize Chen"
          },
          {
           "authorId": "144459859",
           "name": "Hao Zhu"
          },
          {
           "authorId": "48506411",
           "name": "Xu Han"
          },
          {
           "authorId": "49293248",
           "name": "Z. Liu"
          },
          {
           "authorId": "9390452",
           "name": "Maosong Sun"
          }
         ],
         "doi": "10.18653/v1/P19-1278",
         "intent": [
          "background",
          "methodology"
         ],
         "isInfluential": true,
         "paperId": "4cf633d0893a1d3af97723ce1f2fae33c2a30043",
         "title": "Quantifying Similarity between Relations with Fact Distribution",
         "url": "https://www.semanticscholar.org/paper/4cf633d0893a1d3af97723ce1f2fae33c2a30043",
         "venue": "ACL",
         "year": 2019
        },
        {
         "arxivId": "2011.00235",
         "authors": [
          {
           "authorId": "1405052048",
           "name": "Bilal Abu-Salih"
          }
         ],
         "doi": null,
         "intent": [
          "background"
         ],
         "isInfluential": false,
         "paperId": "fc6479a39fefb7814acfcfc8d277659c43ca6e02",
         "title": "Domain-specific Knowledge Graphs: A survey",
         "url": "https://www.semanticscholar.org/paper/fc6479a39fefb7814acfcfc8d277659c43ca6e02",
         "venue": "ArXiv",
         "year": 2020
        },
        {
         "arxivId": "1805.00254",
         "authors": [
          {
           "authorId": "46479974",
           "name": "Pankaj Gupta"
          },
          {
           "authorId": "143862204",
           "name": "Benjamin Roth"
          },
          {
           "authorId": "144418438",
           "name": "Hinrich Schütze"
          }
         ],
         "doi": "10.18653/v1/N18-1003",
         "intent": [
          "background"
         ],
         "isInfluential": false,
         "paperId": "f9c6c61f45037a5048f2e225647db6ae472f913e",
         "title": "Joint Bootstrapping Machines for High Confidence Relation Extraction",
         "url": "https://www.semanticscholar.org/paper/f9c6c61f45037a5048f2e225647db6ae472f913e",
         "venue": "NAACL-HLT",
         "year": 2018
        },
        {
         "arxivId": null,
         "authors": [
          {
           "authorId": "3370335",
           "name": "Bayu Distiawan Trisedya"
          },
          {
           "authorId": "1751591",
           "name": "G. Weikum"
          },
          {
           "authorId": "145663352",
           "name": "Jianzhong Qi"
          },
          {
           "authorId": null,
           "name": "Rui Zhang"
          }
         ],
         "doi": "10.18653/v1/P19-1023",
         "intent": [
          "background"
         ],
         "isInfluential": false,
         "paperId": "065d3fc4efd776f50ae27e7dd29b18495376525f",
         "title": "Neural Relation Extraction for Knowledge Base Enrichment",
         "url": "https://www.semanticscholar.org/paper/065d3fc4efd776f50ae27e7dd29b18495376525f",
         "venue": "ACL",
         "year": 2019
        },
        {
         "arxivId": null,
         "authors": [
          {
           "authorId": "1702033",
           "name": "Xiaojun Chen"
          },
          {
           "authorId": "8125500",
           "name": "Shengbin Jia"
          },
          {
           "authorId": "70402545",
           "name": "Yang Xiang"
          }
         ],
         "doi": "10.1016/j.eswa.2019.112948",
         "intent": [],
         "isInfluential": false,
         "paperId": "cd343276aec1b22e0c273b1cf5986bb826d3e5a4",
         "title": "A review: Knowledge reasoning over knowledge graph",
         "url": "https://www.semanticscholar.org/paper/cd343276aec1b22e0c273b1cf5986bb826d3e5a4",
         "venue": "Expert Syst. Appl.",
         "year": 2020
        },
        {
         "arxivId": null,
         "authors": [
          {
           "authorId": "2264589",
           "name": "J. Schoenfisch"
          },
          {
           "authorId": "1698459",
           "name": "H. Stuckenschmidt"
          }
         ],
         "doi": "10.1007/978-3-319-23540-0_8",
         "intent": [],
         "isInfluential": false,
         "paperId": "6be013e45f3a642016157d510d1b7c536f6a9cd0",
         "title": "Towards Large-Scale Probabilistic OBDA",
         "url": "https://www.semanticscholar.org/paper/6be013e45f3a642016157d510d1b7c536f6a9cd0",
         "venue": "SUM",
         "year": 2015
        },
        {
         "arxivId": null,
         "authors": [
          {
           "authorId": "8716105",
           "name": "I. Sarhan"
          },
          {
           "authorId": "1807333",
           "name": "M. Spruit"
          }
         ],
         "doi": "10.1007/978-3-030-23281-8_31",
         "intent": [],
         "isInfluential": false,
         "paperId": "9dc775d6b74129621147c843ef26de01292d8084",
         "title": "Contextualized Word Embeddings in a Neural Open Information Extraction Model",
         "url": "https://www.semanticscholar.org/paper/9dc775d6b74129621147c843ef26de01292d8084",
         "venue": "NLDB",
         "year": 2019
        },
        {
         "arxivId": null,
         "authors": [
          {
           "authorId": "144596607",
           "name": "J. Rodríguez"
          },
          {
           "authorId": "3430156",
           "name": "Hernán D. Merlino"
          },
          {
           "authorId": "1794855",
           "name": "Patricia Pesado"
          },
          {
           "authorId": "81840790",
           "name": "R. García-Martínez"
          }
         ],
         "doi": "10.1007/978-3-319-42007-3_2",
         "intent": [
          "methodology"
         ],
         "isInfluential": false,
         "paperId": "fc33fe1e0d24720c683f08f66e0e5c38f112d175",
         "title": "Performance Evaluation of Knowledge Extraction Methods",
         "url": "https://www.semanticscholar.org/paper/fc33fe1e0d24720c683f08f66e0e5c38f112d175",
         "venue": "IEA/AIE",
         "year": 2016
        },
        {
         "arxivId": "1911.12543",
         "authors": [
          {
           "authorId": "2669515",
           "name": "Zhengbao Jiang"
          },
          {
           "authorId": "40027632",
           "name": "F. F. Xu"
          },
          {
           "authorId": "50007145",
           "name": "J. Araki"
          },
          {
           "authorId": "1700325",
           "name": "Graham Neubig"
          }
         ],
         "doi": "10.1162/tacl_a_00324",
         "intent": [
          "background"
         ],
         "isInfluential": false,
         "paperId": "30c5a4c01fdcbf890b1c7bad3a3ab9a004b81bbb",
         "title": "How Can We Know What Language Models Know?",
         "url": "https://www.semanticscholar.org/paper/30c5a4c01fdcbf890b1c7bad3a3ab9a004b81bbb",
         "venue": "Transactions of the Association for Computational Linguistics",
         "year": 2019
        },
        {
         "arxivId": null,
         "authors": [
          {
           "authorId": "1414011202",
           "name": "Rachel Wities"
          },
          {
           "authorId": "3103343",
           "name": "Vered Shwartz"
          },
          {
           "authorId": "2157025",
           "name": "Gabriel Stanovsky"
          },
          {
           "authorId": "2819757",
           "name": "M. Adler"
          },
          {
           "authorId": "15392843",
           "name": "Ori Shapira"
          },
          {
           "authorId": "33145619",
           "name": "Shyam Upadhyay"
          },
          {
           "authorId": "144590225",
           "name": "D. Roth"
          },
          {
           "authorId": "1397974254",
           "name": "Eugenio Martínez-Cámara"
          },
          {
           "authorId": "1730400",
           "name": "Iryna Gurevych"
          },
          {
           "authorId": "7465342",
           "name": "I. Dagan"
          }
         ],
         "doi": "10.18653/v1/W17-0902",
         "intent": [],
         "isInfluential": false,
         "paperId": "e312889d29c6f3a5bf21c26d2d373936d89b1828",
         "title": "A Consolidated Open Knowledge Representation for Multiple Texts",
         "url": "https://www.semanticscholar.org/paper/e312889d29c6f3a5bf21c26d2d373936d89b1828",
         "venue": "LSDSem@EACL",
         "year": 2017
        },
        {
         "arxivId": null,
         "authors": [
          {
           "authorId": "36495320",
           "name": "Yohanes Gultom"
          },
          {
           "authorId": "3387080",
           "name": "W. Wibowo"
          }
         ],
         "doi": "10.1109/IWBIS.2017.8275098",
         "intent": [],
         "isInfluential": false,
         "paperId": "cb2398c5dfa27cf984f7348bb9fa86942335508e",
         "title": "Automatic open domain information extraction from Indonesian text",
         "url": "https://www.semanticscholar.org/paper/cb2398c5dfa27cf984f7348bb9fa86942335508e",
         "venue": "2017 International Workshop on Big Data and Information Security (IWBIS)",
         "year": 2017
        },
        {
         "arxivId": null,
         "authors": [
          {
           "authorId": "145989910",
           "name": "Peter Ochieng"
          }
         ],
         "doi": "10.1016/j.eswax.2020.100024",
         "intent": [],
         "isInfluential": false,
         "paperId": "0d0d43dd657f80c4d3e19381f3683442d04ae49e",
         "title": "PAROT: Translating natural language to SPARQL",
         "url": "https://www.semanticscholar.org/paper/0d0d43dd657f80c4d3e19381f3683442d04ae49e",
         "venue": "Expert Syst. Appl. X",
         "year": 2020
        },
        {
         "arxivId": null,
         "authors": [
          {
           "authorId": "104281017",
           "name": "S. Alves"
          },
          {
           "authorId": "46796184",
           "name": "J. Costa"
          },
          {
           "authorId": "1716043",
           "name": "J. Bernardino"
          }
         ],
         "doi": "10.23919/CISTI.2019.8760639",
         "intent": [
          "background"
         ],
         "isInfluential": false,
         "paperId": "aef7b053b7cc36f2f3e36436fa53463d3449dcb8",
         "title": "Information Extraction Applications for Clinical Trials: A Survey",
         "url": "https://www.semanticscholar.org/paper/aef7b053b7cc36f2f3e36436fa53463d3449dcb8",
         "venue": "2019 14th Iberian Conference on Information Systems and Technologies (CISTI)",
         "year": 2019
        },
        {
         "arxivId": null,
         "authors": [
          {
           "authorId": "37515745",
           "name": "A. Moro"
          },
          {
           "authorId": "1733928",
           "name": "R. Navigli"
          }
         ],
         "doi": "10.1145/2396761.2398495",
         "intent": [
          "background",
          "methodology"
         ],
         "isInfluential": true,
         "paperId": "33cce8d6e81a55076a3ac400bc4358f3458a4ab8",
         "title": "WiSeNet: building a wikipedia-based semantic network with ontologized relations",
         "url": "https://www.semanticscholar.org/paper/33cce8d6e81a55076a3ac400bc4358f3458a4ab8",
         "venue": "CIKM '12",
         "year": 2012
        },
        {
         "arxivId": null,
         "authors": [
          {
           "authorId": "145000759",
           "name": "Ivo Serra"
          },
          {
           "authorId": "2223008",
           "name": "Rosario Girardi"
          },
          {
           "authorId": "145302989",
           "name": "Paulo Novais"
          }
         ],
         "doi": "10.1142/S1793351X12500080",
         "intent": [
          "methodology",
          "background"
         ],
         "isInfluential": true,
         "paperId": "9c8634cf504dc88e2db3c6b14cf5e95a426622b0",
         "title": "Reviewing the Problem of Learning Non-Taxonomic Relationships of Ontologies from Text",
         "url": "https://www.semanticscholar.org/paper/9c8634cf504dc88e2db3c6b14cf5e95a426622b0",
         "venue": "Int. J. Semantic Comput.",
         "year": 2012
        },
        {
         "arxivId": null,
         "authors": [
          {
           "authorId": "1747784",
           "name": "Alexander Gelbukh"
          }
         ],
         "doi": null,
         "intent": [
          "methodology",
          "result",
          "background"
         ],
         "isInfluential": true,
         "paperId": "31ddb615ce83909823bdf33ead0b75f08162f93b",
         "title": "Open information extraction using constraints over part-of-speech sequences T E S I S",
         "url": "https://www.semanticscholar.org/paper/31ddb615ce83909823bdf33ead0b75f08162f93b",
         "venue": "",
         "year": 2014
        },
        {
         "arxivId": null,
         "authors": [
          {
           "authorId": "46314959",
           "name": "Wei Wang"
          },
          {
           "authorId": "1740190",
           "name": "Romaric Besançon"
          },
          {
           "authorId": "1679133",
           "name": "Olivier Ferret"
          },
          {
           "authorId": "1704849",
           "name": "Brigitte Grau"
          }
         ],
         "doi": "10.1007/978-3-319-10888-9_36",
         "intent": [
          "background"
         ],
         "isInfluential": false,
         "paperId": "9275bc7a46a8c393aea865b7bfab471c2da74406",
         "title": "Semantic Clustering of Relations between Named Entities",
         "url": "https://www.semanticscholar.org/paper/9275bc7a46a8c393aea865b7bfab471c2da74406",
         "venue": "PolTAL",
         "year": 2014
        },
        {
         "arxivId": null,
         "authors": [
          {
           "authorId": "145411800",
           "name": "Xiao Ding"
          },
          {
           "authorId": "48378565",
           "name": "Yue Zhang"
          },
          {
           "authorId": "46999402",
           "name": "T. Liu"
          },
          {
           "authorId": "3237142",
           "name": "Junwen Duan"
          }
         ],
         "doi": "10.3115/v1/D14-1148",
         "intent": [
          "methodology"
         ],
         "isInfluential": false,
         "paperId": "f9689ecb1b00524fa03c1f62ff503ff88929aba8",
         "title": "Using Structured Events to Predict Stock Price Movement: An Empirical Investigation",
         "url": "https://www.semanticscholar.org/paper/f9689ecb1b00524fa03c1f62ff503ff88929aba8",
         "venue": "EMNLP",
         "year": 2014
        },
        {
         "arxivId": null,
         "authors": [
          {
           "authorId": "2599915",
           "name": "K. Liu"
          },
          {
           "authorId": "1402618073",
           "name": "N. El-Gohary"
          }
         ],
         "doi": "10.1016/J.PROENG.2016.04.035",
         "intent": [],
         "isInfluential": false,
         "paperId": "871f5531df3692d24f8581b7e913e52d6e71c288",
         "title": "Ontology-based Sequence Labelling for Automated Information Extraction for Supporting Bridge Data Analytics",
         "url": "https://www.semanticscholar.org/paper/871f5531df3692d24f8581b7e913e52d6e71c288",
         "venue": "",
         "year": 2016
        },
        {
         "arxivId": null,
         "authors": [
          {
           "authorId": "1401104322",
           "name": "F. J. Valverde-Albacete"
          },
          {
           "authorId": "1405482324",
           "name": "José María Fernández-Calabozo"
          },
          {
           "authorId": "1717624",
           "name": "Anselmo Peñas"
          },
          {
           "authorId": "1399233089",
           "name": "Carmen Peláez-Moreno"
          }
         ],
         "doi": "10.1016/j.eswa.2015.09.022",
         "intent": [],
         "isInfluential": false,
         "paperId": "6751f1e43903f734a40b78204e0c7df08e02c494",
         "title": "Supporting scientific knowledge discovery with extended, generalized Formal Concept Analysis",
         "url": "https://www.semanticscholar.org/paper/6751f1e43903f734a40b78204e0c7df08e02c494",
         "venue": "Expert Syst. Appl.",
         "year": 2016
        },
        {
         "arxivId": null,
         "authors": [
          {
           "authorId": "1807168",
           "name": "W. Zheng"
          },
          {
           "authorId": "144554647",
           "name": "L. Zou"
          },
          {
           "authorId": "145439284",
           "name": "Wei Peng"
          },
          {
           "authorId": "1740249",
           "name": "X. Yan"
          },
          {
           "authorId": "2225865",
           "name": "Shaoxu Song"
          },
          {
           "authorId": "144060462",
           "name": "Dongyan Zhao"
          }
         ],
         "doi": "10.14778/2983200.2983201",
         "intent": [
          "background"
         ],
         "isInfluential": false,
         "paperId": "16de931434ce34ecc786cbf21f44ecb5dd221012",
         "title": "Semantic SPARQL Similarity Search Over RDF Knowledge Graphs",
         "url": "https://www.semanticscholar.org/paper/16de931434ce34ecc786cbf21f44ecb5dd221012",
         "venue": "Proc. VLDB Endow.",
         "year": 2016
        },
        {
         "arxivId": null,
         "authors": [
          {
           "authorId": "2675553",
           "name": "Sandra Collovini"
          },
          {
           "authorId": "145845143",
           "name": "Gabriel Machado"
          },
          {
           "authorId": "144845513",
           "name": "R. Vieira"
          }
         ],
         "doi": "10.1007/978-3-319-41552-9_16",
         "intent": [],
         "isInfluential": false,
         "paperId": "850f4196a6b5cd988178d79dd64552d2288a70ec",
         "title": "Extracting and Structuring Open Relations from Portuguese Text",
         "url": "https://www.semanticscholar.org/paper/850f4196a6b5cd988178d79dd64552d2288a70ec",
         "venue": "PROPOR",
         "year": 2016
        },
        {
         "arxivId": "1610.01327",
         "authors": [
          {
           "authorId": "1784800",
           "name": "C. Lioma"
          },
          {
           "authorId": "145216927",
           "name": "Birger Larsen"
          },
          {
           "authorId": null,
           "name": "Wei Lu"
          },
          {
           "authorId": "48356012",
           "name": "Y. Huang"
          }
         ],
         "doi": "10.1145/3006299.3006315",
         "intent": [
          "background",
          "methodology"
         ],
         "isInfluential": false,
         "paperId": "8064f19f6f07e471a5ed84e3e862ab9b0763185a",
         "title": "A study of factuality, objectivity and relevance: three desiderata in large-scale information retrieval?",
         "url": "https://www.semanticscholar.org/paper/8064f19f6f07e471a5ed84e3e862ab9b0763185a",
         "venue": "BDCAT '16",
         "year": 2016
        },
        {
         "arxivId": null,
         "authors": [
          {
           "authorId": "2157025",
           "name": "Gabriel Stanovsky"
          },
          {
           "authorId": "38614754",
           "name": "Julian Michael"
          },
          {
           "authorId": "1982950",
           "name": "Luke Zettlemoyer"
          },
          {
           "authorId": "7465342",
           "name": "I. Dagan"
          }
         ],
         "doi": "10.18653/v1/N18-1081",
         "intent": [
          "background"
         ],
         "isInfluential": true,
         "paperId": "6fc991dbc1714b425d11b4de3d9d247d21d77c0b",
         "title": "Supervised Open Information Extraction",
         "url": "https://www.semanticscholar.org/paper/6fc991dbc1714b425d11b4de3d9d247d21d77c0b",
         "venue": "NAACL-HLT",
         "year": 2018
        },
        {
         "arxivId": null,
         "authors": [
          {
           "authorId": "145202081",
           "name": "Sen Hu"
          },
          {
           "authorId": "144554647",
           "name": "L. Zou"
          },
          {
           "authorId": "144666776",
           "name": "J. Yu"
          },
          {
           "authorId": "1745000",
           "name": "H. Wang"
          },
          {
           "authorId": "144060462",
           "name": "Dongyan Zhao"
          }
         ],
         "doi": "10.1109/TKDE.2017.2766634",
         "intent": [
          "background"
         ],
         "isInfluential": false,
         "paperId": "f8c9d0823eec7fae1577709121138de83b3a55cc",
         "title": "Answering Natural Language Questions by Subgraph Matching over Knowledge Graphs",
         "url": "https://www.semanticscholar.org/paper/f8c9d0823eec7fae1577709121138de83b3a55cc",
         "venue": "IEEE Transactions on Knowledge and Data Engineering",
         "year": 2018
        },
        {
         "arxivId": null,
         "authors": [
          {
           "authorId": "32402038",
           "name": "M. Samadi"
          },
          {
           "authorId": "1956361",
           "name": "M. Veloso"
          },
          {
           "authorId": "145414011",
           "name": "M. Blum"
          }
         ],
         "doi": null,
         "intent": [
          "methodology"
         ],
         "isInfluential": false,
         "paperId": "e270b273115951a13e4bf6b2d3f9dce6d33b1fdc",
         "title": "OpenEval: Web Information Query Evaluation",
         "url": "https://www.semanticscholar.org/paper/e270b273115951a13e4bf6b2d3f9dce6d33b1fdc",
         "venue": "AAAI",
         "year": 2013
        },
        {
         "arxivId": null,
         "authors": [
          {
           "authorId": "3218518",
           "name": "Jihee Ryu"
          },
          {
           "authorId": "2486015",
           "name": "Hwon Ihm"
          },
          {
           "authorId": "1754166",
           "name": "Sung-Hyon Myaeng"
          }
         ],
         "doi": "10.1145/2479832.2479846",
         "intent": [],
         "isInfluential": false,
         "paperId": "4434ba7e0f5e592fc98169b15c15b88ba00e0e87",
         "title": "Automatic organization of human task goals for web-scale problem solving knowledge",
         "url": "https://www.semanticscholar.org/paper/4434ba7e0f5e592fc98169b15c15b88ba00e0e87",
         "venue": "K-CAP '13",
         "year": 2013
        },
        {
         "arxivId": "1802.04868",
         "authors": [
          {
           "authorId": "2470890",
           "name": "S. Kazemi"
          },
          {
           "authorId": "143715817",
           "name": "D. Poole"
          }
         ],
         "doi": null,
         "intent": [
          "background"
         ],
         "isInfluential": false,
         "paperId": "70af3ee98c53441d9090119f7b76efb1b6d03edd",
         "title": "SimplE Embedding for Link Prediction in Knowledge Graphs",
         "url": "https://www.semanticscholar.org/paper/70af3ee98c53441d9090119f7b76efb1b6d03edd",
         "venue": "NeurIPS",
         "year": 2018
        },
        {
         "arxivId": null,
         "authors": [
          {
           "authorId": "144295318",
           "name": "S. Soderland"
          },
          {
           "authorId": "12830946",
           "name": "L. Kim"
          },
          {
           "authorId": "35994491",
           "name": "Natalie Hawkins"
          }
         ],
         "doi": null,
         "intent": [
          "methodology"
         ],
         "isInfluential": false,
         "paperId": "171aff7a42bff9263cb0a63ac0e26734e71f1886",
         "title": "A Language Model for Extracting Implicit Relations",
         "url": "https://www.semanticscholar.org/paper/171aff7a42bff9263cb0a63ac0e26734e71f1886",
         "venue": "",
         "year": 2015
        },
        {
         "arxivId": null,
         "authors": [
          {
           "authorId": "144968846",
           "name": "Kun Xu"
          },
          {
           "authorId": "1717629",
           "name": "Yansong Feng"
          },
          {
           "authorId": "2410938",
           "name": "Songfang Huang"
          },
          {
           "authorId": "144060462",
           "name": "Dongyan Zhao"
          }
         ],
         "doi": null,
         "intent": [
          "methodology"
         ],
         "isInfluential": false,
         "paperId": "9d2bfb28ea197ec1a0f4266aefde2f9129638193",
         "title": "Hybrid Question Answering over Knowledge Base and Free Text",
         "url": "https://www.semanticscholar.org/paper/9d2bfb28ea197ec1a0f4266aefde2f9129638193",
         "venue": "COLING",
         "year": 2016
        },
        {
         "arxivId": null,
         "authors": [
          {
           "authorId": "35160766",
           "name": "H. Emami"
          }
         ],
         "doi": null,
         "intent": [],
         "isInfluential": false,
         "paperId": "ceb38647750d3cde028ac24a462b8016c86decc7",
         "title": "A Semantic Approach to Person Profile Extraction from Farsi Documents",
         "url": "https://www.semanticscholar.org/paper/ceb38647750d3cde028ac24a462b8016c86decc7",
         "venue": "",
         "year": 2017
        },
        {
         "arxivId": null,
         "authors": [
          {
           "authorId": "2547492",
           "name": "Tao Ge"
          },
          {
           "authorId": "39488576",
           "name": "Baobao Chang"
          },
          {
           "authorId": "1695451",
           "name": "Sujian Li"
          },
          {
           "authorId": "3335836",
           "name": "Z. Sui"
          }
         ],
         "doi": null,
         "intent": [
          "methodology"
         ],
         "isInfluential": true,
         "paperId": "70ed6008cea7aca9cf75ffb11b331687c2ad1a7d",
         "title": "Event-Based Time Label Propagation for Automatic Dating of News Articles",
         "url": "https://www.semanticscholar.org/paper/70ed6008cea7aca9cf75ffb11b331687c2ad1a7d",
         "venue": "EMNLP",
         "year": 2013
        },
        {
         "arxivId": null,
         "authors": [
          {
           "authorId": "34560064",
           "name": "A. Boldyrev"
          },
          {
           "authorId": "144530424",
           "name": "M. Theobald"
          },
          {
           "authorId": "1751591",
           "name": "G. Weikum"
          }
         ],
         "doi": null,
         "intent": [],
         "isInfluential": false,
         "paperId": "910eecf90a1f935fb7a557171eb48c225a8efa82",
         "title": "Towards an Architecture for Open-Domain Information Extraction : Integrated Extraction , Clustering , and Reasoning with Patterns",
         "url": "https://www.semanticscholar.org/paper/910eecf90a1f935fb7a557171eb48c225a8efa82",
         "venue": "",
         "year": 2014
        },
        {
         "arxivId": "1805.07858",
         "authors": [
          {
           "authorId": "39980906",
           "name": "Todor Mihaylov"
          },
          {
           "authorId": "143876555",
           "name": "A. Frank"
          }
         ],
         "doi": "10.18653/v1/p18-1076",
         "intent": [
          "background"
         ],
         "isInfluential": false,
         "paperId": "18dacf9ead8dfefcd36ecb765509ebfb6f88abbd",
         "title": "Knowledgeable Reader: Enhancing Cloze-Style Reading Comprehension with External Commonsense Knowledge",
         "url": "https://www.semanticscholar.org/paper/18dacf9ead8dfefcd36ecb765509ebfb6f88abbd",
         "venue": "ACL",
         "year": 2018
        },
        {
         "arxivId": null,
         "authors": [
          {
           "authorId": "32633282",
           "name": "David Feitosa"
          },
          {
           "authorId": "1880369",
           "name": "V. Pinheiro"
          }
         ],
         "doi": null,
         "intent": [
          "background"
         ],
         "isInfluential": false,
         "paperId": "f174631d878ac4a54aaf87db9bce73b8b6e73c38",
         "title": "Análise de Medidas de Similaridade Semântica na Tarefa de Reconhecimento de Implicação Textual (Analysis of Semantic Similarity Measures in the Recognition of Textual Entailment Task)[In Portuguese]",
         "url": "https://www.semanticscholar.org/paper/f174631d878ac4a54aaf87db9bce73b8b6e73c38",
         "venue": "STIL",
         "year": 2017
        },
        {
         "arxivId": null,
         "authors": [
          {
           "authorId": "51369131",
           "name": "Ji Youlang"
          },
          {
           "authorId": "49308224",
           "name": "Yu Tsai Yang"
          },
          {
           "authorId": "30550543",
           "name": "Zhao Hong-ying"
          },
          {
           "authorId": "143994117",
           "name": "Zhu Xi Jun"
          },
          {
           "authorId": "51371196",
           "name": "Gu Jing-jing"
          },
          {
           "authorId": "51422244",
           "name": "Huang Ling-ya"
          }
         ],
         "doi": "10.1145/3209914.3209941",
         "intent": [
          "background"
         ],
         "isInfluential": false,
         "paperId": "1d987ddbe56d32e04c6f73756671c8b21eb9def3",
         "title": "Verb Based Conceptual Common Sense Extraction",
         "url": "https://www.semanticscholar.org/paper/1d987ddbe56d32e04c6f73756671c8b21eb9def3",
         "venue": "ICISS '18",
         "year": 2018
        },
        {
         "arxivId": "1811.10986",
         "authors": [
          {
           "authorId": "51992135",
           "name": "Somayeh Asadifar"
          },
          {
           "authorId": "2841105",
           "name": "Mohsen Kahani"
          },
          {
           "authorId": "2956693",
           "name": "Saeedeh Shekarpour"
          }
         ],
         "doi": null,
         "intent": [],
         "isInfluential": false,
         "paperId": "9ab8fdb549cb35df2cc230acf3b71569cf6d39ee",
         "title": "HCqa: Hybrid and Complex Question Answering on Textual Corpus and Knowledge Graph",
         "url": "https://www.semanticscholar.org/paper/9ab8fdb549cb35df2cc230acf3b71569cf6d39ee",
         "venue": "ArXiv",
         "year": 2018
        },
        {
         "arxivId": null,
         "authors": [
          {
           "authorId": null,
           "name": "Zhila A"
          },
          {
           "authorId": null,
           "name": "Gelbukh A"
          }
         ],
         "doi": null,
         "intent": [
          "methodology",
          "background"
         ],
         "isInfluential": true,
         "paperId": "f4591a4757a1d878c52610400ebfe429e70cbbc5",
         "title": "Comparison of open information extraCtion for english and spanish",
         "url": "https://www.semanticscholar.org/paper/f4591a4757a1d878c52610400ebfe429e70cbbc5",
         "venue": "",
         "year": 2013
        },
        {
         "arxivId": null,
         "authors": [
          {
           "authorId": "47120191",
           "name": "Xiaolan Wang"
          },
          {
           "authorId": "145867172",
           "name": "X. Dong"
          },
          {
           "authorId": "2283085",
           "name": "A. Meliou"
          }
         ],
         "doi": "10.1145/2723372.2750549",
         "intent": [
          "methodology",
          "background"
         ],
         "isInfluential": false,
         "paperId": "7f52068c6632288b39bf30996eb60e720fcd7882",
         "title": "Data X-Ray: A Diagnostic Tool for Data Errors",
         "url": "https://www.semanticscholar.org/paper/7f52068c6632288b39bf30996eb60e720fcd7882",
         "venue": "SIGMOD '15",
         "year": 2015
        },
        {
         "arxivId": null,
         "authors": [
          {
           "authorId": "47119101",
           "name": "Xuan Wang"
          },
          {
           "authorId": null,
           "name": "Yu Zhang"
          },
          {
           "authorId": "3410078",
           "name": "Y. Chen"
          }
         ],
         "doi": null,
         "intent": [
          "background"
         ],
         "isInfluential": false,
         "paperId": "5873ed7d5062e58c7a1186b64b60d92824b656a4",
         "title": "A Survey of Truth Discovery in Information Extraction",
         "url": "https://www.semanticscholar.org/paper/5873ed7d5062e58c7a1186b64b60d92824b656a4",
         "venue": "",
         "year": 2018
        },
        {
         "arxivId": null,
         "authors": [
          {
           "authorId": "33544449",
           "name": "S. Takase"
          }
         ],
         "doi": null,
         "intent": [
          "methodology"
         ],
         "isInfluential": true,
         "paperId": "e0a126c17ca50271bbdf051642d7e9e23ea9fea7",
         "title": "A Study on Encoding Natural Language into Distributed Representations 自然言語の分散表現へのエンコードに関する研究",
         "url": "https://www.semanticscholar.org/paper/e0a126c17ca50271bbdf051642d7e9e23ea9fea7",
         "venue": "",
         "year": 2017
        },
        {
         "arxivId": null,
         "authors": [
          {
           "authorId": "1936883",
           "name": "H. Bast"
          },
          {
           "authorId": "2209043",
           "name": "Björn Buchhold"
          },
          {
           "authorId": "2692638",
           "name": "Elmar Haussmann"
          }
         ],
         "doi": "10.1561/1500000032",
         "intent": [],
         "isInfluential": false,
         "paperId": "b82cc3ca66f2a95931c4246b134b3f764bed7fa0",
         "title": "Semantic Search on Text and Knowledge Bases",
         "url": "https://www.semanticscholar.org/paper/b82cc3ca66f2a95931c4246b134b3f764bed7fa0",
         "venue": "Found. Trends Inf. Retr.",
         "year": 2016
        },
        {
         "arxivId": null,
         "authors": [
          {
           "authorId": "2252818",
           "name": "Shengkang Yu"
          },
          {
           "authorId": "47056905",
           "name": "Xi Li"
          },
          {
           "authorId": "1709361",
           "name": "Xueyi Zhao"
          },
          {
           "authorId": "47294896",
           "name": "Z. M. Zhang"
          },
          {
           "authorId": "144894837",
           "name": "F. Wu"
          },
          {
           "authorId": "1688516",
           "name": "Jingdong Wang"
          },
          {
           "authorId": "3357421",
           "name": "Y. Zhuang"
          },
          {
           "authorId": "40286455",
           "name": "Xuelong Li"
          }
         ],
         "doi": "10.1109/TBDATA.2018.2843766",
         "intent": [
          "background"
         ],
         "isInfluential": false,
         "paperId": "d9caa82767604188e57a950dcf8d4db9d1ef358c",
         "title": "A Bilinear Ranking SVM for Knowledge Based Relation Prediction and Classification",
         "url": "https://www.semanticscholar.org/paper/d9caa82767604188e57a950dcf8d4db9d1ef358c",
         "venue": "IEEE Transactions on Big Data",
         "year": 2019
        },
        {
         "arxivId": null,
         "authors": [
          {
           "authorId": "1718798",
           "name": "Evgeniy Gabrilovich"
          },
          {
           "authorId": "1746841",
           "name": "Nicolas Usunier"
          }
         ],
         "doi": "10.1145/2911451.2914807",
         "intent": [],
         "isInfluential": false,
         "paperId": "0022e72be5afcf0db81944d7ce34a89a7256ef39",
         "title": "Constructing and Mining Web-scale Knowledge Graphs",
         "url": "https://www.semanticscholar.org/paper/0022e72be5afcf0db81944d7ce34a89a7256ef39",
         "venue": "SIGIR '16",
         "year": 2016
        },
        {
         "arxivId": null,
         "authors": [],
         "doi": null,
         "intent": [
          "methodology"
         ],
         "isInfluential": false,
         "paperId": "39efeea10bd9261bf57581a3183abb80bd230428",
         "title": "Biomedical Information Extraction for Complex Sentences",
         "url": "https://www.semanticscholar.org/paper/39efeea10bd9261bf57581a3183abb80bd230428",
         "venue": "",
         "year": 2020
        },
        {
         "arxivId": null,
         "authors": [
          {
           "authorId": "2416712",
           "name": "M. Kim"
          },
          {
           "authorId": "145608771",
           "name": "P. Compton"
          }
         ],
         "doi": "10.1007/978-3-642-32541-0_14",
         "intent": [],
         "isInfluential": false,
         "paperId": "97f6cecf7656de38fe66f7d913055a2bcb18106c",
         "title": "Improving Open Information Extraction for Informal Web Documents with Ripple-Down Rules",
         "url": "https://www.semanticscholar.org/paper/97f6cecf7656de38fe66f7d913055a2bcb18106c",
         "venue": "PKAW",
         "year": 2012
        },
        {
         "arxivId": null,
         "authors": [
          {
           "authorId": "2156164",
           "name": "Amara Tariq"
          },
          {
           "authorId": "1707962",
           "name": "A. Karim"
          },
          {
           "authorId": "1691260",
           "name": "H. Foroosh"
          }
         ],
         "doi": "10.1109/TPAMI.2016.2632117",
         "intent": [
          "background"
         ],
         "isInfluential": true,
         "paperId": "59db2f10c6c64684730273ddd2f09e56090b0ac8",
         "title": "NELasso: Group-Sparse Modeling for Characterizing Relations Among Named Entities in News Articles",
         "url": "https://www.semanticscholar.org/paper/59db2f10c6c64684730273ddd2f09e56090b0ac8",
         "venue": "IEEE Transactions on Pattern Analysis and Machine Intelligence",
         "year": 2017
        },
        {
         "arxivId": null,
         "authors": [
          {
           "authorId": "1720266",
           "name": "W. Balke"
          }
         ],
         "doi": "10.1007/s13222-012-0090-x",
         "intent": [
          "methodology"
         ],
         "isInfluential": true,
         "paperId": "2a485def414d7cc237403d6bb0e5b241c870a1fb",
         "title": "Introduction to Information Extraction: Basic Notions and Current Trends",
         "url": "https://www.semanticscholar.org/paper/2a485def414d7cc237403d6bb0e5b241c870a1fb",
         "venue": "Datenbank-Spektrum",
         "year": 2012
        },
        {
         "arxivId": null,
         "authors": [
          {
           "authorId": "145001852",
           "name": "Quan Yuan"
          },
          {
           "authorId": "145201124",
           "name": "Xiang Ren"
          },
          {
           "authorId": "50101880",
           "name": "W. He"
          },
          {
           "authorId": "145657504",
           "name": "C. Zhang"
          },
          {
           "authorId": "8816887",
           "name": "Xinhe Geng"
          },
          {
           "authorId": "34170717",
           "name": "Lifu Huang"
          },
          {
           "authorId": "144016781",
           "name": "Heng Ji"
          },
          {
           "authorId": "1781574",
           "name": "Chin-Yew Lin"
          },
          {
           "authorId": "145325584",
           "name": "Jiawei Han"
          }
         ],
         "doi": "10.1145/3269206.3271674",
         "intent": [
          "background"
         ],
         "isInfluential": false,
         "paperId": "d6e0fd071395665c768e82291c23444c8278486a",
         "title": "Open-Schema Event Profiling for Massive News Corpora",
         "url": "https://www.semanticscholar.org/paper/d6e0fd071395665c768e82291c23444c8278486a",
         "venue": "CIKM",
         "year": 2018
        },
        {
         "arxivId": "2010.08883",
         "authors": [
          {
           "authorId": null,
           "name": "Japa Sai Sharath"
          },
          {
           "authorId": "147875531",
           "name": "Rekabdar Banafsheh"
          }
         ],
         "doi": "10.1109/IJCNN48605.2020.9206698",
         "intent": [
          "methodology"
         ],
         "isInfluential": false,
         "paperId": "8b60ed5a15c9cce8fdbd0b02de2f05cb00680673",
         "title": "Question Answering over Knowledge Base using Language Model Embeddings",
         "url": "https://www.semanticscholar.org/paper/8b60ed5a15c9cce8fdbd0b02de2f05cb00680673",
         "venue": "2020 International Joint Conference on Neural Networks (IJCNN)",
         "year": 2020
        },
        {
         "arxivId": null,
         "authors": [
          {
           "authorId": "1776064",
           "name": "Cheikh Kacfah Emani"
          },
          {
           "authorId": "143924526",
           "name": "C. Silva"
          },
          {
           "authorId": "1724451",
           "name": "B. Fiés"
          },
          {
           "authorId": "71300895",
           "name": "P. Ghodous"
          },
          {
           "authorId": "2949567",
           "name": "Farzad Khosrowshahi"
          }
         ],
         "doi": null,
         "intent": [
          "methodology"
         ],
         "isInfluential": true,
         "paperId": "7ae424ac317515cc6e278e143afd3b63ed78dd42",
         "title": "Structural Sentence Decomposition via Open Information Extraction",
         "url": "https://www.semanticscholar.org/paper/7ae424ac317515cc6e278e143afd3b63ed78dd42",
         "venue": "",
         "year": 2014
        },
        {
         "arxivId": null,
         "authors": [
          {
           "authorId": "3253737",
           "name": "F. Sadeghi"
          },
          {
           "authorId": "2038685",
           "name": "S. Divvala"
          },
          {
           "authorId": "143787583",
           "name": "Ali Farhadi"
          }
         ],
         "doi": "10.1109/CVPR.2015.7298752",
         "intent": [
          "methodology"
         ],
         "isInfluential": true,
         "paperId": "495015d21c26eac9a6bd64c836ee3370283641ec",
         "title": "VisKE: Visual knowledge extraction and question answering by visual verification of relation phrases",
         "url": "https://www.semanticscholar.org/paper/495015d21c26eac9a6bd64c836ee3370283641ec",
         "venue": "2015 IEEE Conference on Computer Vision and Pattern Recognition (CVPR)",
         "year": 2015
        },
        {
         "arxivId": "1404.4326",
         "authors": [
          {
           "authorId": "1713934",
           "name": "Antoine Bordes"
          },
          {
           "authorId": "145183709",
           "name": "J. Weston"
          },
          {
           "authorId": "1746841",
           "name": "Nicolas Usunier"
          }
         ],
         "doi": "10.1007/978-3-662-44848-9_11",
         "intent": [],
         "isInfluential": false,
         "paperId": "a584211768d49f80192f13b8ed2fda9c058dec34",
         "title": "Open Question Answering with Weakly Supervised Embedding Models",
         "url": "https://www.semanticscholar.org/paper/a584211768d49f80192f13b8ed2fda9c058dec34",
         "venue": "ECML/PKDD",
         "year": 2014
        },
        {
         "arxivId": null,
         "authors": [
          {
           "authorId": "144638217",
           "name": "A. Smirnova"
          },
          {
           "authorId": "1393644275",
           "name": "P. Cudré-Mauroux"
          }
         ],
         "doi": "10.1145/3241741",
         "intent": [
          "background"
         ],
         "isInfluential": false,
         "paperId": "c006b58561bac8a071e58908088794515cd7d23d",
         "title": "Relation Extraction Using Distant Supervision",
         "url": "https://www.semanticscholar.org/paper/c006b58561bac8a071e58908088794515cd7d23d",
         "venue": "ACM Comput. Surv.",
         "year": 2019
        },
        {
         "arxivId": null,
         "authors": [
          {
           "authorId": "34974510",
           "name": "G. Siragusa"
          },
          {
           "authorId": "47806786",
           "name": "V. Leone"
          },
          {
           "authorId": "49246337",
           "name": "Luigi Di Caro"
          },
          {
           "authorId": "2205604",
           "name": "C. Schifanella"
          }
         ],
         "doi": "10.1007/978-3-319-69548-8_6",
         "intent": [],
         "isInfluential": false,
         "paperId": "453af78aac27e446744c645b97bebc6761a1b83a",
         "title": "Discovering Relational Phrases for Qualia Roles Through Open Information Extraction",
         "url": "https://www.semanticscholar.org/paper/453af78aac27e446744c645b97bebc6761a1b83a",
         "venue": "KESW",
         "year": 2017
        },
        {
         "arxivId": null,
         "authors": [
          {
           "authorId": "29995869",
           "name": "Nikita Bhutani"
          },
          {
           "authorId": "143857309",
           "name": "Kun Qian"
          },
          {
           "authorId": "1718694",
           "name": "Yunyao Li"
          },
          {
           "authorId": "145531067",
           "name": "H. V. Jagadish"
          },
          {
           "authorId": "49092460",
           "name": "M. Hernández"
          },
          {
           "authorId": "2537800",
           "name": "M. Vasa"
          }
         ],
         "doi": null,
         "intent": [
          "methodology"
         ],
         "isInfluential": false,
         "paperId": "804154bd907430c726d3dfff6f93cfc36819edcf",
         "title": "Exploiting Structure in Representation of Named Entities using Active Learning",
         "url": "https://www.semanticscholar.org/paper/804154bd907430c726d3dfff6f93cfc36819edcf",
         "venue": "COLING",
         "year": 2018
        },
        {
         "arxivId": null,
         "authors": [
          {
           "authorId": "47149700",
           "name": "X. Wu"
          },
          {
           "authorId": "1699037",
           "name": "Bin Wu"
          }
         ],
         "doi": "10.1109/DSC.2017.40",
         "intent": [
          "methodology"
         ],
         "isInfluential": false,
         "paperId": "cadadb857fe18932add58c65a33257c2fe34fae4",
         "title": "The CRFs-Based Chinese Open Entity Relation Extraction",
         "url": "https://www.semanticscholar.org/paper/cadadb857fe18932add58c65a33257c2fe34fae4",
         "venue": "2017 IEEE Second International Conference on Data Science in Cyberspace (DSC)",
         "year": 2017
        },
        {
         "arxivId": null,
         "authors": [
          {
           "authorId": "144325353",
           "name": "Meng Xi"
          },
          {
           "authorId": "38928373",
           "name": "J. Wu"
          },
          {
           "authorId": "46275506",
           "name": "Jianhua Li"
          },
          {
           "authorId": "3385485",
           "name": "G. Li"
          }
         ],
         "doi": "10.1109/GLOCOM.2018.8647325",
         "intent": [],
         "isInfluential": false,
         "paperId": "40fc8496e4d7b7ade626b29548ab633196ff029f",
         "title": "Sema-ICN: Toward Semantic Information-Centric Networking Supporting Smart Anomalous Access Detection",
         "url": "https://www.semanticscholar.org/paper/40fc8496e4d7b7ade626b29548ab633196ff029f",
         "venue": "2018 IEEE Global Communications Conference (GLOBECOM)",
         "year": 2018
        },
        {
         "arxivId": null,
         "authors": [
          {
           "authorId": "2128351",
           "name": "F. Gotti"
          },
          {
           "authorId": "1706916",
           "name": "P. Langlais"
          }
         ],
         "doi": "10.1111/coin.12120",
         "intent": [
          "methodology"
         ],
         "isInfluential": false,
         "paperId": "437bc8b625e50857edd8f4377234f0a7e66a62f0",
         "title": "From French Wikipedia to Erudit: A test case for cross‐domain open information extraction",
         "url": "https://www.semanticscholar.org/paper/437bc8b625e50857edd8f4377234f0a7e66a62f0",
         "venue": "Comput. Intell.",
         "year": 2018
        },
        {
         "arxivId": null,
         "authors": [
          {
           "authorId": "41158140",
           "name": "Mattew Gardner"
          }
         ],
         "doi": null,
         "intent": [
          "background"
         ],
         "isInfluential": false,
         "paperId": "f78cc62987c6891c98be87cf287233e279c28b63",
         "title": "Adding Distributional Semantics to Knowledge Base Entities through Web-scale Entity Linking",
         "url": "https://www.semanticscholar.org/paper/f78cc62987c6891c98be87cf287233e279c28b63",
         "venue": "AKBC-WEKEX@NAACL-HLT",
         "year": 2012
        },
        {
         "arxivId": null,
         "authors": [
          {
           "authorId": "2551462",
           "name": "Yuval Merhav"
          }
         ],
         "doi": null,
         "intent": [
          "methodology"
         ],
         "isInfluential": false,
         "paperId": "97496d414ea5c50f29131112c3b0fd27ae7d926e",
         "title": "A Weighting Scheme for Open Information Extraction",
         "url": "https://www.semanticscholar.org/paper/97496d414ea5c50f29131112c3b0fd27ae7d926e",
         "venue": "HLT-NAACL",
         "year": 2012
        },
        {
         "arxivId": null,
         "authors": [
          {
           "authorId": "2819757",
           "name": "M. Adler"
          },
          {
           "authorId": "1750652",
           "name": "Jonathan Berant"
          },
          {
           "authorId": "7465342",
           "name": "I. Dagan"
          }
         ],
         "doi": null,
         "intent": [
          "methodology"
         ],
         "isInfluential": false,
         "paperId": "ea4825d66e44007bb99ad4a8e45fbaea1a13421e",
         "title": "Entailment-based Text Exploration with Application to the Health-care Domain",
         "url": "https://www.semanticscholar.org/paper/ea4825d66e44007bb99ad4a8e45fbaea1a13421e",
         "venue": "ACL",
         "year": 2012
        },
        {
         "arxivId": null,
         "authors": [
          {
           "authorId": "3343025",
           "name": "Q. Do"
          }
         ],
         "doi": null,
         "intent": [],
         "isInfluential": false,
         "paperId": "855c18bb7465aa4fa5a01bd0ee0b8e51d77fe520",
         "title": "Background Knowledge in Learning-Based Relation Extraction.",
         "url": "https://www.semanticscholar.org/paper/855c18bb7465aa4fa5a01bd0ee0b8e51d77fe520",
         "venue": "",
         "year": 2012
        },
        {
         "arxivId": null,
         "authors": [
          {
           "authorId": "2704872",
           "name": "Q. Cai"
          },
          {
           "authorId": "3321874",
           "name": "A. Yates"
          }
         ],
         "doi": null,
         "intent": [
          "methodology"
         ],
         "isInfluential": true,
         "paperId": "80c2d8c691b09f8b4e53f512b9d2641b49fda935",
         "title": "Large-scale Semantic Parsing via Schema Matching and Lexicon Extension",
         "url": "https://www.semanticscholar.org/paper/80c2d8c691b09f8b4e53f512b9d2641b49fda935",
         "venue": "ACL",
         "year": 2013
        },
        {
         "arxivId": null,
         "authors": [
          {
           "authorId": "144727192",
           "name": "Maisa C. Duarte"
          },
          {
           "authorId": "1842532",
           "name": "Estevam R. Hruschka"
          }
         ],
         "doi": null,
         "intent": [],
         "isInfluential": false,
         "paperId": "5af98e037377ab9779256a1cf7eb1d9cc2fffe1d",
         "title": "Never-Ending Language Leamer's Principles",
         "url": "https://www.semanticscholar.org/paper/5af98e037377ab9779256a1cf7eb1d9cc2fffe1d",
         "venue": "",
         "year": 2014
        },
        {
         "arxivId": null,
         "authors": [
          {
           "authorId": "40650147",
           "name": "Yang Chen"
          },
          {
           "authorId": "1786275",
           "name": "D. Wang"
          }
         ],
         "doi": "10.1145/2588555.2610516",
         "intent": [
          "background",
          "methodology"
         ],
         "isInfluential": true,
         "paperId": "b6002735de41c6bbb94c59de8606c92bfa154af2",
         "title": "Knowledge expansion over probabilistic knowledge bases",
         "url": "https://www.semanticscholar.org/paper/b6002735de41c6bbb94c59de8606c92bfa154af2",
         "venue": "SIGMOD Conference",
         "year": 2014
        },
        {
         "arxivId": null,
         "authors": [
          {
           "authorId": "32301760",
           "name": "Gabor Angeli"
          },
          {
           "authorId": "144783904",
           "name": "Christopher D. Manning"
          }
         ],
         "doi": "10.3115/v1/D14-1059",
         "intent": [
          "background",
          "methodology"
         ],
         "isInfluential": false,
         "paperId": "81667fde23191dc43aad2a6dd2a5dda03a79ea28",
         "title": "NaturalLI: Natural Logic Inference for Common Sense Reasoning",
         "url": "https://www.semanticscholar.org/paper/81667fde23191dc43aad2a6dd2a5dda03a79ea28",
         "venue": "EMNLP",
         "year": 2014
        },
        {
         "arxivId": null,
         "authors": [
          {
           "authorId": "1700187",
           "name": "Anders Søgaard"
          },
          {
           "authorId": "2022124",
           "name": "Barbara Plank"
          },
          {
           "authorId": "3017695",
           "name": "Héctor Martínez Alonso"
          }
         ],
         "doi": null,
         "intent": [
          "methodology"
         ],
         "isInfluential": false,
         "paperId": "871f1562a709cadad79d3ba299d311f7c68e15fa",
         "title": "Using Frame Semantics for Knowledge Extraction from Twitter",
         "url": "https://www.semanticscholar.org/paper/871f1562a709cadad79d3ba299d311f7c68e15fa",
         "venue": "AAAI",
         "year": 2015
        },
        {
         "arxivId": null,
         "authors": [
          {
           "authorId": "2517825",
           "name": "J. Krishnamurthy"
          }
         ],
         "doi": null,
         "intent": [
          "methodology"
         ],
         "isInfluential": false,
         "paperId": "d40ef8bb2ce8289b75cc38b28b51bd7b2cc352d8",
         "title": "Learning to Understand Natural Language with Less Human Effort",
         "url": "https://www.semanticscholar.org/paper/d40ef8bb2ce8289b75cc38b28b51bd7b2cc352d8",
         "venue": "",
         "year": 2015
        },
        {
         "arxivId": null,
         "authors": [
          {
           "authorId": "2100196",
           "name": "Hung-Min Hsu"
          },
          {
           "authorId": "144525296",
           "name": "Ray-I Chang"
          },
          {
           "authorId": "144155043",
           "name": "Yu-Jung Chang"
          },
          {
           "authorId": "2047679",
           "name": "Shu-Yu Lin"
          },
          {
           "authorId": "2766194",
           "name": "You-Jyun Wang"
          },
          {
           "authorId": "143608739",
           "name": "Jan-Ming Ho"
          }
         ],
         "doi": "10.1109/WI-IAT.2015.192",
         "intent": [],
         "isInfluential": false,
         "paperId": "51799e8762873ec3077efc5462cdd69463e53d62",
         "title": "Subject-Keyphrase Extraction Based on Definition-Use Chain",
         "url": "https://www.semanticscholar.org/paper/51799e8762873ec3077efc5462cdd69463e53d62",
         "venue": "2015 IEEE/WIC/ACM International Conference on Web Intelligence and Intelligent Agent Technology (WI-IAT)",
         "year": 2015
        },
        {
         "arxivId": null,
         "authors": [
          {
           "authorId": "2168134",
           "name": "David Bamman"
          },
          {
           "authorId": "144365875",
           "name": "Noah A. Smith"
          }
         ],
         "doi": "10.18653/v1/D15-1008",
         "intent": [
          "background"
         ],
         "isInfluential": false,
         "paperId": "53de40f627952794baa5f0165a1a5cd992167923",
         "title": "Open Extraction of Fine-Grained Political Statements",
         "url": "https://www.semanticscholar.org/paper/53de40f627952794baa5f0165a1a5cd992167923",
         "venue": "EMNLP",
         "year": 2015
        },
        {
         "arxivId": null,
         "authors": [
          {
           "authorId": "97522134",
           "name": "Yu Zhao"
          },
          {
           "authorId": "144636492",
           "name": "Sheng Gao"
          },
          {
           "authorId": "1741426",
           "name": "P. Gallinari"
          },
          {
           "authorId": null,
           "name": "Jun Guo"
          }
         ],
         "doi": "10.1007/s10618-015-0430-1",
         "intent": [
          "background"
         ],
         "isInfluential": false,
         "paperId": "c9390b0d343f5180f815ada6d01877a40471c9f4",
         "title": "Knowledge base completion by learning pairwise-interaction differentiated embeddings",
         "url": "https://www.semanticscholar.org/paper/c9390b0d343f5180f815ada6d01877a40471c9f4",
         "venue": "Data Mining and Knowledge Discovery",
         "year": 2015
        },
        {
         "arxivId": null,
         "authors": [
          {
           "authorId": "2403712",
           "name": "A. Akbik"
          }
         ],
         "doi": "10.14279/DEPOSITONCE-5438",
         "intent": [
          "background"
         ],
         "isInfluential": false,
         "paperId": "94cdaf7ff858e1f17b2af79b97113562ebbc5739",
         "title": "Exploratory relation extraction in large multilingual data",
         "url": "https://www.semanticscholar.org/paper/94cdaf7ff858e1f17b2af79b97113562ebbc5739",
         "venue": "",
         "year": 2016
        },
        {
         "arxivId": null,
         "authors": [
          {
           "authorId": "49778167",
           "name": "Feichen Shen"
          },
          {
           "authorId": "1748831",
           "name": "H. Liu"
          },
          {
           "authorId": "2267995",
           "name": "S. Sohn"
          },
          {
           "authorId": "143928758",
           "name": "D. Larson"
          },
          {
           "authorId": "1787659",
           "name": "Yugyung Lee"
          }
         ],
         "doi": "10.4236/iim.2016.83006",
         "intent": [
          "methodology"
         ],
         "isInfluential": false,
         "paperId": "583cad76c8eee8382da8b61e3ad33fc673f4d5f8",
         "title": "Predicate Oriented Pattern Analysis for Biomedical Knowledge Discovery",
         "url": "https://www.semanticscholar.org/paper/583cad76c8eee8382da8b61e3ad33fc673f4d5f8",
         "venue": "Intelligent information management",
         "year": 2016
        },
        {
         "arxivId": null,
         "authors": [
          {
           "authorId": "3385963",
           "name": "Yen-Kuan Lee"
          },
          {
           "authorId": "2057582",
           "name": "Pei-Hsuan Hsieh"
          },
          {
           "authorId": "47396816",
           "name": "Chi-Hsuan Huang"
          },
          {
           "authorId": "2780321",
           "name": "Kun-Ta Chuang"
          }
         ],
         "doi": "10.1109/ICWS.2016.78",
         "intent": [
          "background"
         ],
         "isInfluential": false,
         "paperId": "f3ad7e97274dc130393d120f2eaeeb83f6125cf5",
         "title": "On Instant Knowledge Evolution from Learning User Search Intent",
         "url": "https://www.semanticscholar.org/paper/f3ad7e97274dc130393d120f2eaeeb83f6125cf5",
         "venue": "2016 IEEE International Conference on Web Services (ICWS)",
         "year": 2016
        },
        {
         "arxivId": null,
         "authors": [
          {
           "authorId": "2351544",
           "name": "Ziyan Chen"
          },
          {
           "authorId": "40598705",
           "name": "Y. Huang"
          },
          {
           "authorId": "19189688",
           "name": "Yuexian Liang"
          },
          {
           "authorId": null,
           "name": "Yang Wang"
          },
          {
           "authorId": "2078360",
           "name": "Xingyu Fu"
          },
          {
           "authorId": "2266415",
           "name": "K. Fu"
          }
         ],
         "doi": "10.3390/a10020042",
         "intent": [
          "background"
         ],
         "isInfluential": false,
         "paperId": "59a3fb474de2ad83cdcc9f0659224ed68604d3c4",
         "title": "RGloVe: An Improved Approach of Global Vectors for Distributional Entity Relation Representation",
         "url": "https://www.semanticscholar.org/paper/59a3fb474de2ad83cdcc9f0659224ed68604d3c4",
         "venue": "Algorithms",
         "year": 2017
        },
        {
         "arxivId": null,
         "authors": [
          {
           "authorId": "3866609",
           "name": "V. Phi"
          },
          {
           "authorId": "1681502",
           "name": "Y. Matsumoto"
          }
         ],
         "doi": null,
         "intent": [
          "background"
         ],
         "isInfluential": false,
         "paperId": "b910585203a7a7a8ea17ce9a4edddb8e9c2137eb",
         "title": "Integrating Word Embedding Offsets into the Espresso System for Part-Whole Relation Extraction",
         "url": "https://www.semanticscholar.org/paper/b910585203a7a7a8ea17ce9a4edddb8e9c2137eb",
         "venue": "PACLIC",
         "year": 2016
        },
        {
         "arxivId": null,
         "authors": [
          {
           "authorId": "2701297",
           "name": "S. Gupta"
          },
          {
           "authorId": "144783904",
           "name": "Christopher D. Manning"
          }
         ],
         "doi": "10.3115/v1/N15-1128",
         "intent": [
          "background",
          "methodology"
         ],
         "isInfluential": false,
         "paperId": "82450a3a5efa3e834f8cb759a0937fc1b5c6a6e2",
         "title": "Distributed Representations of Words to Guide Bootstrapped Entity Classifiers",
         "url": "https://www.semanticscholar.org/paper/82450a3a5efa3e834f8cb759a0937fc1b5c6a6e2",
         "venue": "HLT-NAACL",
         "year": 2015
        },
        {
         "arxivId": null,
         "authors": [
          {
           "authorId": "2551334",
           "name": "Chaveevan Pechsiri"
          },
          {
           "authorId": "65893052",
           "name": "Renu Sukharomana"
          }
         ],
         "doi": "10.1007/978-981-10-6989-5_8",
         "intent": [],
         "isInfluential": false,
         "paperId": "c918eda4c423bbb9f7c4e125dd782e506bad7639",
         "title": "Comparative Study of Using Word Co-occurrence to Extract Disease Symptoms from Web Documents",
         "url": "https://www.semanticscholar.org/paper/c918eda4c423bbb9f7c4e125dd782e506bad7639",
         "venue": "",
         "year": 2017
        },
        {
         "arxivId": "1712.08819",
         "authors": [
          {
           "authorId": "31565315",
           "name": "Chris Biemann"
          },
          {
           "authorId": "2790693",
           "name": "Stefano Faralli"
          },
          {
           "authorId": "144033941",
           "name": "Alexander Panchenko"
          },
          {
           "authorId": "1801255",
           "name": "Simone Paolo Ponzetto"
          }
         ],
         "doi": "10.1017/S135132491700047X",
         "intent": [],
         "isInfluential": false,
         "paperId": "1551899bc495b987e24ba86e4e9402ea720c2714",
         "title": "A Framework for Enriching Lexical Semantic Resources with Distributional Semantics",
         "url": "https://www.semanticscholar.org/paper/1551899bc495b987e24ba86e4e9402ea720c2714",
         "venue": "Nat. Lang. Eng.",
         "year": 2018
        },
        {
         "arxivId": null,
         "authors": [
          {
           "authorId": "145798497",
           "name": "Laura Dietz"
          },
          {
           "authorId": "145084003",
           "name": "Alexander Kotov"
          },
          {
           "authorId": "1811015",
           "name": "E. Meij"
          }
         ],
         "doi": "10.1145/3209978.3210187",
         "intent": [],
         "isInfluential": false,
         "paperId": "c3e0fd442f43501a4761c880ef8a79335a7028b7",
         "title": "Utilizing Knowledge Graphs for Text-Centric Information Retrieval",
         "url": "https://www.semanticscholar.org/paper/c3e0fd442f43501a4761c880ef8a79335a7028b7",
         "venue": "SIGIR",
         "year": 2018
        },
        {
         "arxivId": null,
         "authors": [
          {
           "authorId": "31648215",
           "name": "D. Nguyen"
          },
          {
           "authorId": "1977813",
           "name": "Abdalghani Abujabal"
          },
          {
           "authorId": "145334843",
           "name": "K. Tran"
          },
          {
           "authorId": "144530424",
           "name": "M. Theobald"
          },
          {
           "authorId": "1751591",
           "name": "G. Weikum"
          }
         ],
         "doi": "10.14778/3151113.3151119",
         "intent": [
          "methodology"
         ],
         "isInfluential": true,
         "paperId": "2eb74505ff56d7fb82b0011155bac4de91bf8ac7",
         "title": "Query-Driven On-The-Fly Knowledge Base Construction",
         "url": "https://www.semanticscholar.org/paper/2eb74505ff56d7fb82b0011155bac4de91bf8ac7",
         "venue": "Proc. VLDB Endow.",
         "year": 2017
        },
        {
         "arxivId": null,
         "authors": [
          {
           "authorId": "2129412",
           "name": "D. Wijaya"
          }
         ],
         "doi": null,
         "intent": [],
         "isInfluential": false,
         "paperId": "4c2f6ea5e3508ec086a32a3bb2c35bd358ebd51b",
         "title": "Mining and Organizing a Resource of State-changing Verbs",
         "url": "https://www.semanticscholar.org/paper/4c2f6ea5e3508ec086a32a3bb2c35bd358ebd51b",
         "venue": "",
         "year": 2014
        },
        {
         "arxivId": null,
         "authors": [
          {
           "authorId": "144637335",
           "name": "Mohamed Yahya"
          },
          {
           "authorId": "3288247",
           "name": "Steven Euijong Whang"
          },
          {
           "authorId": null,
           "name": "Rahul Gupta"
          },
          {
           "authorId": "1770962",
           "name": "A. Halevy"
          }
         ],
         "doi": "10.3115/v1/D14-1038",
         "intent": [
          "background"
         ],
         "isInfluential": true,
         "paperId": "3fe192aacbcadb46a8cf8286a24280f2a4aec958",
         "title": "ReNoun: Fact Extraction for Nominal Attributes",
         "url": "https://www.semanticscholar.org/paper/3fe192aacbcadb46a8cf8286a24280f2a4aec958",
         "venue": "EMNLP",
         "year": 2014
        },
        {
         "arxivId": null,
         "authors": [
          {
           "authorId": null,
           "name": "Marko Bohanec Stuart Battersby"
          },
          {
           "authorId": null,
           "name": "João Correia Amı́lcar Cardoso"
          },
          {
           "authorId": null,
           "name": "Jamie Forth Alberto Dı́az"
          },
          {
           "authorId": null,
           "name": "Pablo Gervás Virginia Francisco"
          },
          {
           "authorId": null,
           "name": "Raquel Hervás Os - kar Gross"
          },
          {
           "authorId": null,
           "name": "Carlos León Nada Lavrač"
          },
          {
           "authorId": null,
           "name": "Dragana Miljković Penousal Machado"
          },
          {
           "authorId": null,
           "name": "Alexan - dre Pinto Hugo Gonçalo Oliveira"
          },
          {
           "authorId": "2007528",
           "name": "V. Podpecan"
          }
         ],
         "doi": null,
         "intent": [],
         "isInfluential": false,
         "paperId": "52c0409a652f19d8e5e96085721c189d57ca1847",
         "title": "ConCreTe Concept Creation Technology Project Number : 611733 Small or Medium-Scale Focused Research Project ICT-Future and Emerging Technologies ( FET ) D 2 . 1 : Review of Conceptual Representations University of Helsinki Version : Final",
         "url": "https://www.semanticscholar.org/paper/52c0409a652f19d8e5e96085721c189d57ca1847",
         "venue": "",
         "year": null
        },
        {
         "arxivId": null,
         "authors": [
          {
           "authorId": null,
           "name": "Mausam"
          }
         ],
         "doi": null,
         "intent": [
          "background"
         ],
         "isInfluential": true,
         "paperId": "51104ff136cd62f989919c390075e30e2f3b9e21",
         "title": "Extraction Systems and Downstream Applications",
         "url": "https://www.semanticscholar.org/paper/51104ff136cd62f989919c390075e30e2f3b9e21",
         "venue": "",
         "year": 2016
        },
        {
         "arxivId": null,
         "authors": [
          {
           "authorId": "145275796",
           "name": "Hugo Gonçalo Oliveira"
          },
          {
           "authorId": "2073107",
           "name": "H. P. Costa"
          },
          {
           "authorId": "145928342",
           "name": "Diana Santos"
          }
         ],
         "doi": null,
         "intent": [
          "background"
         ],
         "isInfluential": false,
         "paperId": "355725cce839d13065194085e2f5a362ced2b8ce",
         "title": "Folheador: browsing through Portuguese semantic relations",
         "url": "https://www.semanticscholar.org/paper/355725cce839d13065194085e2f5a362ced2b8ce",
         "venue": "EACL",
         "year": 2012
        },
        {
         "arxivId": null,
         "authors": [
          {
           "authorId": "2742670",
           "name": "N. Madaan"
          },
          {
           "authorId": "145640180",
           "name": "Sameep Mehta"
          },
          {
           "authorId": "27582872",
           "name": "Taneea S. Agrawaal"
          },
          {
           "authorId": "37175498",
           "name": "Vrinda Malhotra"
          },
          {
           "authorId": "1852505",
           "name": "A. Aggarwal"
          },
          {
           "authorId": "9422376",
           "name": "Yatin Gupta"
          },
          {
           "authorId": "47351986",
           "name": "M. Saxena"
          }
         ],
         "doi": null,
         "intent": [],
         "isInfluential": false,
         "paperId": "1487ec79a68999fce215b57475b8379852136e44",
         "title": "Analyze, Detect and Remove Gender Stereotyping from Bollywood Movies",
         "url": "https://www.semanticscholar.org/paper/1487ec79a68999fce215b57475b8379852136e44",
         "venue": "FAT",
         "year": 2018
        },
        {
         "arxivId": null,
         "authors": [
          {
           "authorId": "2705479",
           "name": "Fatema Nafa"
          },
          {
           "authorId": "1724118",
           "name": "Javed I. Khan"
          }
         ],
         "doi": "10.5220/0005441602850295",
         "intent": [],
         "isInfluential": false,
         "paperId": "3b91300e91cdc2bfb7f8dfcc1e6fc270707b1e12",
         "title": "Conceptualize the Domain Knowledge Space in the Light of Cognitive Skills",
         "url": "https://www.semanticscholar.org/paper/3b91300e91cdc2bfb7f8dfcc1e6fc270707b1e12",
         "venue": "CSEDU",
         "year": 2015
        },
        {
         "arxivId": null,
         "authors": [
          {
           "authorId": "26948699",
           "name": "Nicolas Heist"
          }
         ],
         "doi": null,
         "intent": [
          "background"
         ],
         "isInfluential": false,
         "paperId": "ef970ec926d4d0ed8e06c1a115c9456fc87fef95",
         "title": "Towards Knowledge Graph Construction from Entity Co-occurrence",
         "url": "https://www.semanticscholar.org/paper/ef970ec926d4d0ed8e06c1a115c9456fc87fef95",
         "venue": "EKAW",
         "year": 2018
        },
        {
         "arxivId": null,
         "authors": [
          {
           "authorId": "1679784",
           "name": "Fabian M. Suchanek"
          },
          {
           "authorId": "1751591",
           "name": "G. Weikum"
          }
         ],
         "doi": "10.1145/2463676.2463724",
         "intent": [
          "methodology"
         ],
         "isInfluential": true,
         "paperId": "33ac4525ac4047778950f27aeaac11db97f5fc04",
         "title": "Knowledge harvesting in the big-data era",
         "url": "https://www.semanticscholar.org/paper/33ac4525ac4047778950f27aeaac11db97f5fc04",
         "venue": "SIGMOD '13",
         "year": 2013
        },
        {
         "arxivId": null,
         "authors": [
          {
           "authorId": "47646373",
           "name": "Exner"
          }
         ],
         "doi": null,
         "intent": [
          "background"
         ],
         "isInfluential": false,
         "paperId": "328dab917dd92823b0f1ff5ec13bde25345e6359",
         "title": "Corpus Processing Frame Extraction Frame Projection Statistics Calculation Lucene RDF Triples",
         "url": "https://www.semanticscholar.org/paper/328dab917dd92823b0f1ff5ec13bde25345e6359",
         "venue": "",
         "year": 2014
        },
        {
         "arxivId": null,
         "authors": [
          {
           "authorId": "1401291056",
           "name": "T. El-Diraby"
          },
          {
           "authorId": "144355091",
           "name": "A. Zarli"
          },
          {
           "authorId": "1403329514",
           "name": "M. El-Darieby"
          }
         ],
         "doi": "10.22260/ISARC2019/0035",
         "intent": [
          "background"
         ],
         "isInfluential": false,
         "paperId": "5ab363b782956313bea061b74b1215fef480cde4",
         "title": "The Automation of the Softer Side of Smart City: a Socio-Semantic Roadmap",
         "url": "https://www.semanticscholar.org/paper/5ab363b782956313bea061b74b1215fef480cde4",
         "venue": "",
         "year": 2019
        },
        {
         "arxivId": null,
         "authors": [
          {
           "authorId": "1520009960",
           "name": "Kundan Kumar"
          },
          {
           "authorId": null,
           "name": "Siddhant Manocha"
          }
         ],
         "doi": null,
         "intent": [],
         "isInfluential": false,
         "paperId": "9eeedab55bf4aa9286d9a3ed31d8f16c97c2a5e9",
         "title": "Constructing knowledge graph from unstructured text",
         "url": "https://www.semanticscholar.org/paper/9eeedab55bf4aa9286d9a3ed31d8f16c97c2a5e9",
         "venue": "",
         "year": 2015
        },
        {
         "arxivId": null,
         "authors": [
          {
           "authorId": "2893899",
           "name": "Xueling Lin"
          },
          {
           "authorId": "119886076",
           "name": "H. Li"
          },
          {
           "authorId": "144198796",
           "name": "H. Xin"
          },
          {
           "authorId": "46947549",
           "name": "Zijian Li"
          },
          {
           "authorId": "3619088",
           "name": "Lei Chen"
          }
         ],
         "doi": "10.14778/3384345.3384352",
         "intent": [
          "methodology"
         ],
         "isInfluential": true,
         "paperId": "248b28325517687390572ba65ef54761ecc69402",
         "title": "KBPearl: A Knowledge Base Population System Supported by Joint Entity and Relation Linking",
         "url": "https://www.semanticscholar.org/paper/248b28325517687390572ba65ef54761ecc69402",
         "venue": "Proc. VLDB Endow.",
         "year": 2020
        },
        {
         "arxivId": null,
         "authors": [
          {
           "authorId": "91112285",
           "name": "Sabine Wehnert"
          },
          {
           "authorId": "1817470",
           "name": "David Broneske"
          },
          {
           "authorId": "46626086",
           "name": "S. Langer"
          },
          {
           "authorId": "1746173",
           "name": "G. Saake"
          }
         ],
         "doi": null,
         "intent": [],
         "isInfluential": false,
         "paperId": "c9ecb76170b612e6208d456cc281724c9fea6204",
         "title": "Concept Hierarchy Extraction from Legal Literature",
         "url": "https://www.semanticscholar.org/paper/c9ecb76170b612e6208d456cc281724c9fea6204",
         "venue": "CIKM Workshops",
         "year": 2018
        },
        {
         "arxivId": null,
         "authors": [
          {
           "authorId": "2129412",
           "name": "D. Wijaya"
          },
          {
           "authorId": "3115592",
           "name": "Ndapandula Nakashole"
          },
          {
           "authorId": "40975594",
           "name": "Tom Michael Mitchell"
          }
         ],
         "doi": "10.18653/v1/D15-1059",
         "intent": [
          "background"
         ],
         "isInfluential": false,
         "paperId": "a2a0e1eba94fca1c3252ed9e38e956df9a68a684",
         "title": "\"A Spousal Relation Begins with a Deletion of engage and Ends with an Addition of divorce\": Learning State Changing Verbs from Wikipedia Revision History",
         "url": "https://www.semanticscholar.org/paper/a2a0e1eba94fca1c3252ed9e38e956df9a68a684",
         "venue": "EMNLP",
         "year": 2015
        },
        {
         "arxivId": null,
         "authors": [
          {
           "authorId": "143640910",
           "name": "F. Gutierrez"
          },
          {
           "authorId": "1721158",
           "name": "D. Dou"
          },
          {
           "authorId": "144181288",
           "name": "S. Fickas"
          },
          {
           "authorId": "3031987",
           "name": "Daya C. Wimalasuriya"
          },
          {
           "authorId": "49738945",
           "name": "Hui Zong"
          }
         ],
         "doi": "10.1177/0165551515610989",
         "intent": [
          "background",
          "methodology"
         ],
         "isInfluential": true,
         "paperId": "bf85ac3b7dcb2901526c749e83bf4542042d50ef",
         "title": "A hybrid ontology-based information extraction system",
         "url": "https://www.semanticscholar.org/paper/bf85ac3b7dcb2901526c749e83bf4542042d50ef",
         "venue": "J. Inf. Sci.",
         "year": 2016
        },
        {
         "arxivId": null,
         "authors": [
          {
           "authorId": "1727837",
           "name": "Enrique Alfonseca"
          },
          {
           "authorId": "3017324",
           "name": "Katja Filippova"
          },
          {
           "authorId": "2846076",
           "name": "J. Delort"
          },
          {
           "authorId": "143944406",
           "name": "Guillermo Garrido"
          }
         ],
         "doi": null,
         "intent": [
          "methodology"
         ],
         "isInfluential": false,
         "paperId": "01e2ed7202e357209c855927d23352b0f882c0a0",
         "title": "Pattern Learning for Relation Extraction with a Hierarchical Topic Model",
         "url": "https://www.semanticscholar.org/paper/01e2ed7202e357209c855927d23352b0f882c0a0",
         "venue": "ACL",
         "year": 2012
        },
        {
         "arxivId": null,
         "authors": [
          {
           "authorId": "145000759",
           "name": "Ivo Serra"
          },
          {
           "authorId": "2223008",
           "name": "R. Girardi"
          },
          {
           "authorId": "145302989",
           "name": "P. Novais"
          }
         ],
         "doi": "10.1007/978-3-642-28765-7_58",
         "intent": [
          "background"
         ],
         "isInfluential": false,
         "paperId": "8048063ae46e8e9789381a56fa7f91c37335220a",
         "title": "The Problem of Learning Non-taxonomic Relationships of Ontologies from Text",
         "url": "https://www.semanticscholar.org/paper/8048063ae46e8e9789381a56fa7f91c37335220a",
         "venue": "DCAI",
         "year": 2012
        },
        {
         "arxivId": null,
         "authors": [
          {
           "authorId": "3261233",
           "name": "Kangqi Luo"
          },
          {
           "authorId": "1910189",
           "name": "Xusheng Luo"
          },
          {
           "authorId": "1796651",
           "name": "K. Q. Zhu"
          }
         ],
         "doi": "10.18653/v1/D15-1065",
         "intent": [
          "background"
         ],
         "isInfluential": false,
         "paperId": "afdcd7b9b5f90f51d4205db34768f36a2e271b57",
         "title": "Inferring Binary Relation Schemas for Open Information Extraction",
         "url": "https://www.semanticscholar.org/paper/afdcd7b9b5f90f51d4205db34768f36a2e271b57",
         "venue": "EMNLP",
         "year": 2015
        },
        {
         "arxivId": null,
         "authors": [
          {
           "authorId": "2259804",
           "name": "Nigel Dewdney"
          }
         ],
         "doi": null,
         "intent": [],
         "isInfluential": false,
         "paperId": "0769933a17b62d764cf2faa8a2480e53f1f63a3b",
         "title": "Detecting new, informative propositions in social media",
         "url": "https://www.semanticscholar.org/paper/0769933a17b62d764cf2faa8a2480e53f1f63a3b",
         "venue": "",
         "year": 2018
        },
        {
         "arxivId": null,
         "authors": [
          {
           "authorId": "98372921",
           "name": "W. Xu"
          }
         ],
         "doi": "10.4028/www.scientific.net/AMR.798-799.983",
         "intent": [],
         "isInfluential": false,
         "paperId": "8fdc0f66f7d2e139bd0ed43e2a6dac498a9e66d0",
         "title": "Strategy Study on China E-Business Service in Big Data Era",
         "url": "https://www.semanticscholar.org/paper/8fdc0f66f7d2e139bd0ed43e2a6dac498a9e66d0",
         "venue": "",
         "year": 2013
        },
        {
         "arxivId": null,
         "authors": [
          {
           "authorId": "9611646",
           "name": "Nafaa Haffar"
          },
          {
           "authorId": "2168901",
           "name": "Emna Hkiri"
          },
          {
           "authorId": "1727395",
           "name": "M. Zrigui"
          }
         ],
         "doi": "10.1016/j.procs.2020.08.038",
         "intent": [],
         "isInfluential": false,
         "paperId": "df063abf2b1f849dc9bb1a380d1de860b6e59833",
         "title": "Using Bidirectional LSTM and Shortest Dependency Path for Classifying Arabic Temporal Relations",
         "url": "https://www.semanticscholar.org/paper/df063abf2b1f849dc9bb1a380d1de860b6e59833",
         "venue": "KES",
         "year": 2020
        },
        {
         "arxivId": null,
         "authors": [
          {
           "authorId": "1996625",
           "name": "P. Barchi"
          },
          {
           "authorId": "1842532",
           "name": "Estevam R. Hruschka"
          }
         ],
         "doi": "10.1109/HIS.2014.7086210",
         "intent": [
          "background",
          "methodology"
         ],
         "isInfluential": true,
         "paperId": "f1092509355e760b8550db96ace5f12b1ccf262d",
         "title": "Never-ending ontology extension through machine reading",
         "url": "https://www.semanticscholar.org/paper/f1092509355e760b8550db96ace5f12b1ccf262d",
         "venue": "2014 14th International Conference on Hybrid Intelligent Systems",
         "year": 2014
        },
        {
         "arxivId": null,
         "authors": [
          {
           "authorId": "48837280",
           "name": "S. Ma"
          },
          {
           "authorId": "50248285",
           "name": "Gang Wang"
          },
          {
           "authorId": "1717629",
           "name": "Yansong Feng"
          },
          {
           "authorId": "3006127",
           "name": "Jin-Peng Huai"
          }
         ],
         "doi": "10.18653/v1/D19-1398",
         "intent": [
          "background"
         ],
         "isInfluential": false,
         "paperId": "5b2a864293c2dae6fb618f4456c12eb674d659f4",
         "title": "Easy First Relation Extraction with Information Redundancy",
         "url": "https://www.semanticscholar.org/paper/5b2a864293c2dae6fb618f4456c12eb674d659f4",
         "venue": "EMNLP/IJCNLP",
         "year": 2019
        },
        {
         "arxivId": null,
         "authors": [
          {
           "authorId": "145698212",
           "name": "A. Zouaq"
          },
          {
           "authorId": "40055057",
           "name": "M. Gagnon"
          },
          {
           "authorId": "1403985938",
           "name": "Ludovic Jean-Louis"
          }
         ],
         "doi": "10.1016/j.is.2017.08.008",
         "intent": [],
         "isInfluential": false,
         "paperId": "3d13ea792022cfae04f1c3a8e255346d34b34b2d",
         "title": "An assessment of open relation extraction systems for the semantic web",
         "url": "https://www.semanticscholar.org/paper/3d13ea792022cfae04f1c3a8e255346d34b34b2d",
         "venue": "Inf. Syst.",
         "year": 2017
        },
        {
         "arxivId": null,
         "authors": [
          {
           "authorId": "26974960",
           "name": "K. Adnan"
          },
          {
           "authorId": "40481438",
           "name": "R. Akbar"
          }
         ],
         "doi": "10.1186/s40537-019-0254-8",
         "intent": [],
         "isInfluential": false,
         "paperId": "f5bdf3359216640bbe1e8ed4c723fcd429caf58f",
         "title": "An analytical study of information extraction from unstructured and multidimensional big data",
         "url": "https://www.semanticscholar.org/paper/f5bdf3359216640bbe1e8ed4c723fcd429caf58f",
         "venue": "Journal of Big Data",
         "year": 2019
        },
        {
         "arxivId": null,
         "authors": [
          {
           "authorId": "3026162",
           "name": "D. Batista"
          },
          {
           "authorId": "145355010",
           "name": "R. Silva"
          },
          {
           "authorId": "144694868",
           "name": "Bruno Martins"
          },
          {
           "authorId": "143646534",
           "name": "M. Silva"
          }
         ],
         "doi": "10.1007/978-3-642-41154-0_16",
         "intent": [
          "methodology"
         ],
         "isInfluential": false,
         "paperId": "8f94722bfe00f593df224de5a83ec78b9a895d73",
         "title": "A Minwise Hashing Method for Addressing Relationship Extraction from Text",
         "url": "https://www.semanticscholar.org/paper/8f94722bfe00f593df224de5a83ec78b9a895d73",
         "venue": "WISE",
         "year": 2013
        },
        {
         "arxivId": "1809.08962",
         "authors": [
          {
           "authorId": "6897307",
           "name": "William Léchelle"
          },
          {
           "authorId": "2128351",
           "name": "F. Gotti"
          },
          {
           "authorId": "1706916",
           "name": "P. Langlais"
          }
         ],
         "doi": "10.18653/v1/W19-4002",
         "intent": [
          "background"
         ],
         "isInfluential": false,
         "paperId": "c9651edf9a21e044ecef4b0ff38e8f9a67fb518a",
         "title": "WiRe57 : A Fine-Grained Benchmark for Open Information Extraction",
         "url": "https://www.semanticscholar.org/paper/c9651edf9a21e044ecef4b0ff38e8f9a67fb518a",
         "venue": "LAW@ACL",
         "year": 2019
        },
        {
         "arxivId": null,
         "authors": [
          {
           "authorId": "33544449",
           "name": "S. Takase"
          },
          {
           "authorId": "1764004",
           "name": "N. Okazaki"
          },
          {
           "authorId": "3040648",
           "name": "Kentaro Inui"
          }
         ],
         "doi": null,
         "intent": [
          "methodology",
          "background"
         ],
         "isInfluential": false,
         "paperId": "a2496f2e47e97c9102507adc54afcbf9ba50ccaf",
         "title": "Fast and Large-scale Unsupervised Relation Extraction",
         "url": "https://www.semanticscholar.org/paper/a2496f2e47e97c9102507adc54afcbf9ba50ccaf",
         "venue": "PACLIC",
         "year": 2015
        }
       ],
       "corpusId": 10318045,
       "doi": null,
       "fieldsOfStudy": [
        "Computer Science"
       ],
       "influentialCitationCount": 182,
       "is_open_access": false,
       "is_publisher_licensed": true,
       "paperId": "d4b651d6a904f69f8fa1dcad4ebe972296af3a9a",
       "references": [
        {
         "arxivId": null,
         "authors": [
          {
           "authorId": "1691993",
           "name": "E. Riloff"
          }
         ],
         "doi": null,
         "intent": [
          "background"
         ],
         "isInfluential": false,
         "paperId": "acec622ca4fb7e01a56116522d35ded149969d0a",
         "title": "Automatically Generating Extraction Patterns from Untagged Text",
         "url": "https://www.semanticscholar.org/paper/acec622ca4fb7e01a56116522d35ded149969d0a",
         "venue": "AAAI/IAAI, Vol. 2",
         "year": 1996
        },
        {
         "arxivId": null,
         "authors": [
          {
           "authorId": "1750652",
           "name": "Jonathan Berant"
          },
          {
           "authorId": "7465342",
           "name": "I. Dagan"
          },
          {
           "authorId": "34508613",
           "name": "J. Goldberger"
          }
         ],
         "doi": null,
         "intent": [
          "methodology"
         ],
         "isInfluential": false,
         "paperId": "13a2d317431d51e980dc03c9bdeebe8a15d79f66",
         "title": "Global Learning of Typed Entailment Rules",
         "url": "https://www.semanticscholar.org/paper/13a2d317431d51e980dc03c9bdeebe8a15d79f66",
         "venue": "ACL",
         "year": 2011
        },
        {
         "arxivId": null,
         "authors": [
          {
           "authorId": "144739109",
           "name": "Thomas Lin"
          },
          {
           "authorId": "2674444",
           "name": "Mausam"
          },
          {
           "authorId": "1741101",
           "name": "Oren Etzioni"
          }
         ],
         "doi": null,
         "intent": [
          "methodology",
          "background"
         ],
         "isInfluential": false,
         "paperId": "fc88dbb1459e1a757f808c374cbd61abb2b84db3",
         "title": "Identifying Functional Relations in Web Text",
         "url": "https://www.semanticscholar.org/paper/fc88dbb1459e1a757f808c374cbd61abb2b84db3",
         "venue": "EMNLP",
         "year": 2010
        },
        {
         "arxivId": null,
         "authors": [
          {
           "authorId": "122943491",
           "name": "M. Stevenson"
          }
         ],
         "doi": null,
         "intent": [
          "background"
         ],
         "isInfluential": false,
         "paperId": "eb48428741856677976dc64cb7e05f8dddc08d1b",
         "title": "An Unsupervised WordNet-based Algorithm for Relation Extraction",
         "url": "https://www.semanticscholar.org/paper/eb48428741856677976dc64cb7e05f8dddc08d1b",
         "venue": "",
         "year": 2004
        },
        {
         "arxivId": null,
         "authors": [
          {
           "authorId": "2339397",
           "name": "M. Banko"
          },
          {
           "authorId": "1741101",
           "name": "Oren Etzioni"
          }
         ],
         "doi": null,
         "intent": [
          "background"
         ],
         "isInfluential": false,
         "paperId": "6c8898cda9a1f13607e24306f6f64f20e0ff2ae7",
         "title": "The Tradeoffs Between Open and Traditional Relation Extraction",
         "url": "https://www.semanticscholar.org/paper/6c8898cda9a1f13607e24306f6f64f20e0ff2ae7",
         "venue": "ACL",
         "year": 2008
        },
        {
         "arxivId": null,
         "authors": [
          {
           "authorId": "1749194",
           "name": "C. Baker"
          },
          {
           "authorId": "2912454",
           "name": "C. Fillmore"
          },
          {
           "authorId": "145543490",
           "name": "J. Lowe"
          }
         ],
         "doi": "10.3115/980845.980860",
         "intent": [
          "methodology"
         ],
         "isInfluential": false,
         "paperId": "547f23597f9ec8a93f66cedaa6fbfb73960426b1",
         "title": "The Berkeley FrameNet Project",
         "url": "https://www.semanticscholar.org/paper/547f23597f9ec8a93f66cedaa6fbfb73960426b1",
         "venue": "COLING-ACL",
         "year": 1998
        },
        {
         "arxivId": null,
         "authors": [
          {
           "authorId": "153183474",
           "name": "K. Eichler"
          },
          {
           "authorId": "2414189",
           "name": "Holmer Hemsen"
          },
          {
           "authorId": "143792905",
           "name": "G. Neumann"
          }
         ],
         "doi": null,
         "intent": [],
         "isInfluential": false,
         "paperId": "04f212baaa8611eeb750e6cdc0dae71c0f5a5e86",
         "title": "Unsupervised Relation Extraction From Web Documents",
         "url": "https://www.semanticscholar.org/paper/04f212baaa8611eeb750e6cdc0dae71c0f5a5e86",
         "venue": "LREC",
         "year": 2008
        },
        {
         "arxivId": null,
         "authors": [
          {
           "authorId": "2293353",
           "name": "Stefan Schoenmackers"
          },
          {
           "authorId": "144815446",
           "name": "J. Davis"
          },
          {
           "authorId": "1741101",
           "name": "Oren Etzioni"
          },
          {
           "authorId": "1780531",
           "name": "Daniel S. Weld"
          }
         ],
         "doi": null,
         "intent": [
          "methodology"
         ],
         "isInfluential": false,
         "paperId": "b71c8e582e8e56d839c962b923b0b79bada2a7f8",
         "title": "Learning First-Order Horn Clauses from Web Text",
         "url": "https://www.semanticscholar.org/paper/b71c8e582e8e56d839c962b923b0b79bada2a7f8",
         "venue": "EMNLP",
         "year": 2010
        },
        {
         "arxivId": null,
         "authors": [
          {
           "authorId": "144156677",
           "name": "Paul Kingsbury"
          },
          {
           "authorId": "145755155",
           "name": "Martha Palmer"
          }
         ],
         "doi": null,
         "intent": [
          "methodology"
         ],
         "isInfluential": false,
         "paperId": "fc090a68e45e0e6337136777d21c87b76a90ae72",
         "title": "From TreeBank to PropBank",
         "url": "https://www.semanticscholar.org/paper/fc090a68e45e0e6337136777d21c87b76a90ae72",
         "venue": "LREC",
         "year": 2002
        },
        {
         "arxivId": null,
         "authors": [
          {
           "authorId": "144295318",
           "name": "S. Soderland"
          }
         ],
         "doi": "10.1023/A:1007562322031",
         "intent": [
          "background"
         ],
         "isInfluential": false,
         "paperId": "22fb3b3b2bdf768dd435eedfc5ef5155d3e56b1a",
         "title": "Learning Information Extraction Rules for Semi-Structured and Free Text",
         "url": "https://www.semanticscholar.org/paper/22fb3b3b2bdf768dd435eedfc5ef5155d3e56b1a",
         "venue": "Machine Learning",
         "year": 2004
        },
        {
         "arxivId": null,
         "authors": [
          {
           "authorId": "144590225",
           "name": "D. Roth"
          },
          {
           "authorId": "144105277",
           "name": "Wen-tau Yih"
          }
         ],
         "doi": "10.1145/1102351.1102444",
         "intent": [
          "background"
         ],
         "isInfluential": false,
         "paperId": "5239ff7191927cb798ddff876cfd22ffa31d80ab",
         "title": "Integer linear programming inference for conditional random fields",
         "url": "https://www.semanticscholar.org/paper/5239ff7191927cb798ddff876cfd22ffa31d80ab",
         "venue": "ICML '05",
         "year": 2005
        },
        {
         "arxivId": null,
         "authors": [
          {
           "authorId": "145612610",
           "name": "Doug Downey"
          },
          {
           "authorId": "1741101",
           "name": "Oren Etzioni"
          },
          {
           "authorId": "144295318",
           "name": "S. Soderland"
          }
         ],
         "doi": "10.21236/ada454763",
         "intent": [
          "background"
         ],
         "isInfluential": false,
         "paperId": "310cd6a39b0539193561148cd9897b1953fa8b28",
         "title": "A Probabilistic Model of Redundancy in Information Extraction",
         "url": "https://www.semanticscholar.org/paper/310cd6a39b0539193561148cd9897b1953fa8b28",
         "venue": "IJCAI",
         "year": 2005
        },
        {
         "arxivId": null,
         "authors": [
          {
           "authorId": "1714612",
           "name": "S. Sekine"
          }
         ],
         "doi": "10.3115/1273073.1273167",
         "intent": [
          "background"
         ],
         "isInfluential": false,
         "paperId": "5a4d81c67da140f88de5d8625906a9be17b3af40",
         "title": "On-Demand Information Extraction",
         "url": "https://www.semanticscholar.org/paper/5a4d81c67da140f88de5d8625906a9be17b3af40",
         "venue": "ACL",
         "year": 2006
        },
        {
         "arxivId": null,
         "authors": [
          {
           "authorId": "35837717",
           "name": "J. Christensen"
          },
          {
           "authorId": "2674444",
           "name": "Mausam"
          },
          {
           "authorId": "144295318",
           "name": "S. Soderland"
          },
          {
           "authorId": "1741101",
           "name": "Oren Etzioni"
          }
         ],
         "doi": null,
         "intent": [
          "background"
         ],
         "isInfluential": false,
         "paperId": "cf53bda1fbaf6a70da4dd541423caab72267cf47",
         "title": "Semantic Role Labeling for Open Information Extraction",
         "url": "https://www.semanticscholar.org/paper/cf53bda1fbaf6a70da4dd541423caab72267cf47",
         "venue": "HLT-NAACL 2010",
         "year": 2010
        },
        {
         "arxivId": null,
         "authors": [
          {
           "authorId": "2884972",
           "name": "J. Kim"
          },
          {
           "authorId": "40497400",
           "name": "D. Moldovan"
          }
         ],
         "doi": "10.1109/CAIA.1993.366645",
         "intent": [
          "background"
         ],
         "isInfluential": false,
         "paperId": "e80b34a55aa56578f9a4f27ea207f8c42c93a378",
         "title": "Acquisition of semantic patterns for information extraction from corpora",
         "url": "https://www.semanticscholar.org/paper/e80b34a55aa56578f9a4f27ea207f8c42c93a378",
         "venue": "Proceedings of 9th IEEE Conference on Artificial Intelligence for Applications",
         "year": 1993
        },
        {
         "arxivId": null,
         "authors": [
          {
           "authorId": "145584212",
           "name": "S. Stevenson"
          },
          {
           "authorId": "1775745",
           "name": "A. Fazly"
          },
          {
           "authorId": "145043135",
           "name": "Ryan North"
          }
         ],
         "doi": "10.3115/1613186.1613187",
         "intent": [
          "background"
         ],
         "isInfluential": false,
         "paperId": "d0eab269d5155b9583aaa73735351411da368d11",
         "title": "Statistical Measures of the Semi-Productivity of Light Verb Constructions",
         "url": "https://www.semanticscholar.org/paper/d0eab269d5155b9583aaa73735351411da368d11",
         "venue": "",
         "year": 2004
        },
        {
         "arxivId": "cmp-lg/9503010",
         "authors": [
          {
           "authorId": "2480901",
           "name": "S. Teufel"
          },
          {
           "authorId": "69015087",
           "name": "Gregory Grefenstette"
          }
         ],
         "doi": "10.3115/976973.976988",
         "intent": [
          "background"
         ],
         "isInfluential": false,
         "paperId": "4f0528edd20f762a47fb18642abb066cfb7f26cd",
         "title": "Corpus-based Method for Automatic Identification of Support Verbs for Nominalizations",
         "url": "https://www.semanticscholar.org/paper/4f0528edd20f762a47fb18642abb066cfb7f26cd",
         "venue": "EACL",
         "year": 1995
        },
        {
         "arxivId": null,
         "authors": [
          {
           "authorId": "2339397",
           "name": "M. Banko"
          },
          {
           "authorId": "1725561",
           "name": "Michael J. Cafarella"
          },
          {
           "authorId": "144295318",
           "name": "S. Soderland"
          },
          {
           "authorId": "145597394",
           "name": "M. Broadhead"
          },
          {
           "authorId": "1741101",
           "name": "Oren Etzioni"
          }
         ],
         "doi": "10.1145/1409360.1409378",
         "intent": [
          "background",
          "methodology"
         ],
         "isInfluential": false,
         "paperId": "498bb0efad6ec15dd09d941fb309aa18d6df9f5f",
         "title": "Open Information Extraction from the Web",
         "url": "https://www.semanticscholar.org/paper/498bb0efad6ec15dd09d941fb309aa18d6df9f5f",
         "venue": "CACM",
         "year": 2008
        },
        {
         "arxivId": null,
         "authors": [
          {
           "authorId": "101662800",
           "name": "E. Koenig"
          },
          {
           "authorId": "35252092",
           "name": "J. V. D. Auwera"
          }
         ],
         "doi": null,
         "intent": [],
         "isInfluential": false,
         "paperId": "a50b2e7bfbd922f43ef45ea119e9f4bb6c753e8e",
         "title": "Routledge studies in Germanic linguistics",
         "url": "https://www.semanticscholar.org/paper/a50b2e7bfbd922f43ef45ea119e9f4bb6c753e8e",
         "venue": "",
         "year": 1997
        },
        {
         "arxivId": null,
         "authors": [
          {
           "authorId": "144295318",
           "name": "S. Soderland"
          },
          {
           "authorId": "144166461",
           "name": "Brendan Roof"
          },
          {
           "authorId": "144704897",
           "name": "B. Qin"
          },
          {
           "authorId": "144298422",
           "name": "Shi Xu"
          },
          {
           "authorId": "2674444",
           "name": "Mausam"
          },
          {
           "authorId": "1741101",
           "name": "Oren Etzioni"
          }
         ],
         "doi": "10.1609/aimag.v31i3.2305",
         "intent": [
          "background"
         ],
         "isInfluential": false,
         "paperId": "38daea2f58b6d96a630f77bdfd38645817d6093d",
         "title": "Adapting Open Information Extraction to Domain-Specific Relations",
         "url": "https://www.semanticscholar.org/paper/38daea2f58b6d96a630f77bdfd38645817d6093d",
         "venue": "AI Mag.",
         "year": 2010
        },
        {
         "arxivId": null,
         "authors": [
          {
           "authorId": "2566295",
           "name": "R. Hoffmann"
          },
          {
           "authorId": "1799338",
           "name": "Congle Zhang"
          },
          {
           "authorId": "1780531",
           "name": "Daniel S. Weld"
          }
         ],
         "doi": null,
         "intent": [],
         "isInfluential": false,
         "paperId": "bd298c1bcefcd7feb108111cd72758c265d16ee6",
         "title": "Learning 5000 Relational Extractors",
         "url": "https://www.semanticscholar.org/paper/bd298c1bcefcd7feb108111cd72758c265d16ee6",
         "venue": "ACL",
         "year": 2010
        },
        {
         "arxivId": null,
         "authors": [
          {
           "authorId": "3259253",
           "name": "Kristina Toutanova"
          },
          {
           "authorId": "1761880",
           "name": "A. Haghighi"
          },
          {
           "authorId": "144783904",
           "name": "Christopher D. Manning"
          }
         ],
         "doi": "10.1162/coli.2008.34.2.161",
         "intent": [
          "background"
         ],
         "isInfluential": true,
         "paperId": "7ed7a41c275f2870b840a5e6c3eaec8888c9480c",
         "title": "A Global Joint Model for Semantic Role Labeling",
         "url": "https://www.semanticscholar.org/paper/7ed7a41c275f2870b840a5e6c3eaec8888c9480c",
         "venue": "Computational Linguistics",
         "year": 2008
        },
        {
         "arxivId": null,
         "authors": [
          {
           "authorId": "36181176",
           "name": "M. Mintz"
          },
          {
           "authorId": "49645487",
           "name": "Steven Bills"
          },
          {
           "authorId": "144621026",
           "name": "R. Snow"
          },
          {
           "authorId": "1746807",
           "name": "Dan Jurafsky"
          }
         ],
         "doi": "10.3115/1690219.1690287",
         "intent": [
          "background"
         ],
         "isInfluential": false,
         "paperId": "d84b57362e2010f6f65357267df7e0157af30684",
         "title": "Distant supervision for relation extraction without labeled data",
         "url": "https://www.semanticscholar.org/paper/d84b57362e2010f6f65357267df7e0157af30684",
         "venue": "ACL/IJCNLP",
         "year": 2009
        },
        {
         "arxivId": null,
         "authors": [
          {
           "authorId": "1746767",
           "name": "D. Allerton"
          }
         ],
         "doi": "10.4324/9780203167649",
         "intent": [
          "background"
         ],
         "isInfluential": false,
         "paperId": "c2959247f8d8f95d542359e7cef88fc4d0de0ec5",
         "title": "Stretched Verb Constructions in English",
         "url": "https://www.semanticscholar.org/paper/c2959247f8d8f95d542359e7cef88fc4d0de0ec5",
         "venue": "",
         "year": 2001
        },
        {
         "arxivId": null,
         "authors": [
          {
           "authorId": "1702974",
           "name": "Lucia Specia"
          },
          {
           "authorId": "1721851",
           "name": "E. Motta"
          }
         ],
         "doi": null,
         "intent": [],
         "isInfluential": false,
         "paperId": "318f6eb302d31238cd27041c4557c0630899c07d",
         "title": "A hybrid approach for extracting semantic relations from texts",
         "url": "https://www.semanticscholar.org/paper/318f6eb302d31238cd27041c4557c0630899c07d",
         "venue": "OntologyLearning@COLING/ACL",
         "year": 2006
        },
        {
         "arxivId": null,
         "authors": [
          {
           "authorId": "145254043",
           "name": "J. Zhu"
          },
          {
           "authorId": "38301933",
           "name": "Z. Nie"
          },
          {
           "authorId": "3028405",
           "name": "Xiaojiang Liu"
          },
          {
           "authorId": "49846744",
           "name": "Bo Zhang"
          },
          {
           "authorId": "2259699",
           "name": "Ji-Rong Wen"
          }
         ],
         "doi": "10.1145/1526709.1526724",
         "intent": [
          "background"
         ],
         "isInfluential": false,
         "paperId": "604e9253336d1ee44b3c3c9b59ff4cb72b3f991b",
         "title": "StatSnowball: a statistical approach to extracting entity relationships",
         "url": "https://www.semanticscholar.org/paper/604e9253336d1ee44b3c3c9b59ff4cb72b3f991b",
         "venue": "WWW '09",
         "year": 2009
        },
        {
         "arxivId": null,
         "authors": [
          {
           "authorId": "1863425",
           "name": "Alan Ritter"
          },
          {
           "authorId": "2674444",
           "name": "Mausam"
          },
          {
           "authorId": "1741101",
           "name": "Oren Etzioni"
          }
         ],
         "doi": null,
         "intent": [
          "methodology"
         ],
         "isInfluential": false,
         "paperId": "40cf9b8ac93a4ff89516f60a9e21867bb667104d",
         "title": "A Latent Dirichlet Allocation Method for Selectional Preferences",
         "url": "https://www.semanticscholar.org/paper/40cf9b8ac93a4ff89516f60a9e21867bb667104d",
         "venue": "ACL",
         "year": 2010
        },
        {
         "arxivId": null,
         "authors": [
          {
           "authorId": "1690956",
           "name": "Dekang Lin"
          },
          {
           "authorId": "1990190",
           "name": "P. Pantel"
          }
         ],
         "doi": "10.1145/502512.502559",
         "intent": [
          "background"
         ],
         "isInfluential": false,
         "paperId": "f3f9a848dca0a80ef64987a9dd511ee6b7e19cd1",
         "title": "DIRT @SBT@discovery of inference rules from text",
         "url": "https://www.semanticscholar.org/paper/f3f9a848dca0a80ef64987a9dd511ee6b7e19cd1",
         "venue": "KDD '01",
         "year": 2001
        },
        {
         "arxivId": null,
         "authors": [
          {
           "authorId": "2474158",
           "name": "Vasin Punyakanok"
          },
          {
           "authorId": "144590225",
           "name": "D. Roth"
          },
          {
           "authorId": "144105277",
           "name": "Wen-tau Yih"
          }
         ],
         "doi": "10.1162/coli.2008.34.2.257",
         "intent": [
          "background"
         ],
         "isInfluential": true,
         "paperId": "b5c6f0d18fd783536b4e6c2205d75b7c4477c6d2",
         "title": "The Importance of Syntactic Parsing and Inference in Semantic Role Labeling",
         "url": "https://www.semanticscholar.org/paper/b5c6f0d18fd783536b4e6c2205d75b7c4477c6d2",
         "venue": "Computational Linguistics",
         "year": 2008
        },
        {
         "arxivId": null,
         "authors": [
          {
           "authorId": "2550658",
           "name": "Y. Shinyama"
          },
          {
           "authorId": "1714612",
           "name": "S. Sekine"
          }
         ],
         "doi": "10.3115/1220835.1220874",
         "intent": [
          "background"
         ],
         "isInfluential": false,
         "paperId": "84364e5660d0db7fe4654febb1e8aba0399835b5",
         "title": "Preemptive Information Extraction using Unrestricted Relation Discovery",
         "url": "https://www.semanticscholar.org/paper/84364e5660d0db7fe4654febb1e8aba0399835b5",
         "venue": "HLT-NAACL",
         "year": 2006
        },
        {
         "arxivId": null,
         "authors": [
          {
           "authorId": "1690956",
           "name": "Dekang Lin"
          },
          {
           "authorId": "1990190",
           "name": "P. Pantel"
          }
         ],
         "doi": null,
         "intent": [
          "background"
         ],
         "isInfluential": false,
         "paperId": "511c439c59f9bbfeb3be135d85ee75bef5594ad2",
         "title": "DIRT – Discovery of Inference Rules from Text",
         "url": "https://www.semanticscholar.org/paper/511c439c59f9bbfeb3be135d85ee75bef5594ad2",
         "venue": "",
         "year": 2001
        },
        {
         "arxivId": null,
         "authors": [
          {
           "authorId": "39163977",
           "name": "F. Wu"
          },
          {
           "authorId": "1780531",
           "name": "Daniel S. Weld"
          }
         ],
         "doi": null,
         "intent": [
          "methodology",
          "background"
         ],
         "isInfluential": true,
         "paperId": "233d861338cfcd479b1d21897453fcc66418d5e1",
         "title": "Open Information Extraction Using Wikipedia",
         "url": "https://www.semanticscholar.org/paper/233d861338cfcd479b1d21897453fcc66418d5e1",
         "venue": "ACL",
         "year": 2010
        }
       ],
       "title": "Identifying Relations for Open Information Extraction",
       "topics": [
        {
         "topic": "Information extraction",
         "topicId": "13965",
         "url": "https://www.semanticscholar.org/topic/13965"
        },
        {
         "topic": "Text corpus",
         "topicId": "14829",
         "url": "https://www.semanticscholar.org/topic/14829"
        },
        {
         "topic": "Error analysis (mathematics)",
         "topicId": "69481",
         "url": "https://www.semanticscholar.org/topic/69481"
        },
        {
         "topic": "Realms of the Haunting",
         "topicId": "3612567",
         "url": "https://www.semanticscholar.org/topic/3612567"
        },
        {
         "topic": "Precision and recall",
         "topicId": "1371",
         "url": "https://www.semanticscholar.org/topic/1371"
        },
        {
         "topic": "Coherence (physics)",
         "topicId": "921",
         "url": "https://www.semanticscholar.org/topic/921"
        },
        {
         "topic": "Conditional random field",
         "topicId": "85317",
         "url": "https://www.semanticscholar.org/topic/85317"
        },
        {
         "topic": "Randomness extractor",
         "topicId": "653542",
         "url": "https://www.semanticscholar.org/topic/653542"
        },
        {
         "topic": "Heuristic",
         "topicId": "4146",
         "url": "https://www.semanticscholar.org/topic/4146"
        },
        {
         "topic": "Experiment",
         "topicId": "378",
         "url": "https://www.semanticscholar.org/topic/378"
        },
        {
         "topic": "Vocabulary",
         "topicId": "14901",
         "url": "https://www.semanticscholar.org/topic/14901"
        },
        {
         "topic": "GeoPlanet",
         "topicId": "2068827",
         "url": "https://www.semanticscholar.org/topic/2068827"
        },
        {
         "topic": "RIFE",
         "topicId": "2268244",
         "url": "https://www.semanticscholar.org/topic/2268244"
        }
       ],
       "url": "https://www.semanticscholar.org/paper/d4b651d6a904f69f8fa1dcad4ebe972296af3a9a",
       "venue": "EMNLP",
       "year": 2011
      },
      "text/plain": [
       "<IPython.core.display.JSON object>"
      ]
     },
     "execution_count": 5,
     "metadata": {
      "application/json": {
       "expanded": false,
       "root": "root"
      }
     },
     "output_type": "execute_result"
    }
   ],
   "source": [
    "from IPython.display import JSON\n",
    "JSON(meta)\n"
   ]
  },
  {
   "cell_type": "code",
   "execution_count": null,
   "metadata": {},
   "outputs": [],
   "source": []
  }
 ],
 "metadata": {
  "kernelspec": {
   "display_name": "proseflow",
   "language": "python",
   "name": "proseflow"
  },
  "language_info": {
   "codemirror_mode": {
    "name": "ipython",
    "version": 3
   },
   "file_extension": ".py",
   "mimetype": "text/x-python",
   "name": "python",
   "nbconvert_exporter": "python",
   "pygments_lexer": "ipython3",
   "version": "3.8.2"
  }
 },
 "nbformat": 4,
 "nbformat_minor": 4
}
