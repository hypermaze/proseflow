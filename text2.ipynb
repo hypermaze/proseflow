{
 "cells": [
  {
   "cell_type": "code",
   "execution_count": null,
   "metadata": {},
   "outputs": [],
   "source": [
    "def hypernyms(ngram: str):\n",
    "    \"\"\"\n",
    "    parent in an ontology\n",
    "    \"\"\"\n",
    "    if \"WORDNET\":\n",
    "        pass\n",
    "    if \"CORPUS_FILE\":\n",
    "        hearst_patterns(\"zxz\")\n",
    "\n",
    "\n",
    "def hearst_patterns(query: str) -> List[str]:\n",
    "    \"\"\"\n",
    "    animals like a, b, c\n",
    "    \"\"\"\n",
    "    pass"
   ]
  }
 ],
 "metadata": {
  "kernelspec": {
   "display_name": "proseflow",
   "language": "python",
   "name": "proseflow"
  },
  "language_info": {
   "codemirror_mode": {
    "name": "ipython",
    "version": 3
   },
   "file_extension": ".py",
   "mimetype": "text/x-python",
   "name": "python",
   "nbconvert_exporter": "python",
   "pygments_lexer": "ipython3",
   "version": "3.8.2"
  }
 },
 "nbformat": 4,
 "nbformat_minor": 4
}
