{
 "cells": [
  {
   "cell_type": "code",
   "execution_count": 22,
   "metadata": {},
   "outputs": [],
   "source": [
    "import numpy as np\n",
    "\n",
    "from proseflow.aws_utils import *\n",
    "from proseflow.load import *\n",
    "from proseflow.text import text_to_vector, create_index\n",
    "from proseflow.roam_utils import roam_graph_to_blocks, roam_blocks_to_embeddings_index\n",
    "from dotenv import load_dotenv\n",
    "from IPython.display import JSON"
   ]
  },
  {
   "cell_type": "code",
   "execution_count": 23,
   "metadata": {},
   "outputs": [
    {
     "data": {
      "text/plain": [
       "True"
      ]
     },
     "execution_count": 23,
     "metadata": {},
     "output_type": "execute_result"
    }
   ],
   "source": [
    "load_dotenv()"
   ]
  },
  {
   "cell_type": "code",
   "execution_count": 24,
   "metadata": {},
   "outputs": [],
   "source": [
    "BUCKET = \"roam-export\""
   ]
  },
  {
   "cell_type": "code",
   "execution_count": 25,
   "metadata": {},
   "outputs": [],
   "source": [
    "roam_graph = read_json_from_s3(bucket=BUCKET, key=\"scify.json\").get(\"data\")[:50]"
   ]
  },
  {
   "cell_type": "code",
   "execution_count": 26,
   "metadata": {},
   "outputs": [
    {
     "data": {
      "application/json": [
       [
        {
         "children": [
          {
           "string": "When you pour energy into a passion, you develop an expertise and an expertise of any kind is valuable. But quite often that value can actually be magnified by the number people who are made aware of it. The reason is that when people become aware of your expertise, some percentage of them will take action to capture that value, but quite often it will be in a way you would never have predicted. Maybe they'll want to hire you, or partner with you, or invest in you, or who knows what. But in whatever way it happens, it will be serendipitous. ",
           "uid": "m6AhNJs8U"
          }
         ],
         "string": "[Codus Operandi](https://www.codusoperandi.com/posts/increasing-your-luck-surface-area) [[luck surface area]]",
         "uid": "QB_1ycNAQ"
        }
       ],
       [
        {
         "string": "Extracting important tokens from the original text is usually implemented as a NLP pipeline, consisting of tokenization, lemmatization, spelling correction, acronym/synonym replacement, named-entity recognition and query expansion.",
         "uid": "xjj_qrwAi"
        }
       ],
       [
        {
         "children": [
          {
           "string": "{{alias: ((vAkLw7tOW)) UMAP is less hands-on}} than ((844_cS3uq))",
           "uid": "p_RLHSieC"
          },
          {
           "string": "",
           "uid": "-DmIP16sP"
          }
         ],
         "string": "Requires setting hyperparameters that influence quality of the embedding.",
         "uid": "MepLEjNpa"
        }
       ],
       [
        {
         "string": "Feedly has a limit of 5,000 articles per day from each Twitter source. ",
         "uid": "285jkWK5B"
        }
       ],
       [
        {
         "string": "17. If a listener nods his head when you're explaining your program, wake him up.",
         "uid": "wQev7Zxr8"
        }
       ],
       [
        {
         "children": [
          {
           "children": [
            {
             "string": "The aggregation function could be a simple MEAN/MAX or a weighted sum via an attention mechanism",
             "uid": "ONxx6Inwq"
            }
           ],
           "string": "Graph Neural Networks calculate an embedding for a target node by {{alias: ((ONxx6Inwq)) aggregating}} the features of its neighbors nodes and edges and applying an activation function",
           "uid": "4EmT0slqU"
          }
         ],
         "string": "((KmNFYZXLO))",
         "uid": "jDGCPc5db"
        }
       ],
       [
        {
         "string": "23. To understand a program you must become both the machine and the program.",
         "uid": "8qU1h1RSO"
        }
       ],
       [
        {
         "children": [
          {
           "string": "tried to automate market analysists (recommendation)",
           "uid": "AzmB1oCYj"
          },
          {
           "string": "Don't write production scale apps in [[python]]! Used `mypy` and all integration tests and everything, but it's still horrible",
           "uid": "gVL4dAMIi"
          },
          {
           "string": "`globals`",
           "uid": "3nOOHXYre"
          }
         ],
         "string": "**Worked at aiden.ai** got acquired by Twitter (worked at Twitter til now)",
         "uid": "nGPni3q4h"
        }
       ],
       [
        {
         "string": "Find promotors to swap in (metabolic pathways)",
         "uid": "28ychy4An"
        }
       ],
       [
        {
         "string": "Is it listed in a list? (not main resource focus)",
         "uid": "vXKXnVq3F"
        }
       ],
       [
        {
         "children": [
          {
           "string": "Paper and Patent Search with relatively good Entity Resolution and Features",
           "uid": "pBFUnlDpH"
          }
         ],
         "string": "JTBD::",
         "uid": "kXfkYLmUZ"
        }
       ],
       [
        {
         "string": "Programming languages, especially, don't get redesigned enough.",
         "uid": "EKWZOdYns"
        }
       ],
       [
        {
         "string": "[[Companies in similar spaces]] Clubhouse is interesting to follow",
         "uid": "kYv73kRrh"
        }
       ],
       [
        {
         "string": "The more input you can get by critically looking at other people's solution the better your output will be.",
         "uid": "3VTu5HGOK"
        }
       ],
       [
        {
         "children": [
          {
           "string": "(Almost) every service that's available to companies will be available to individuals. That includes databases and [[structured messaging]]",
           "uid": "PV-igc6KX"
          }
         ],
         "string": "Individuals are becoming companies: **empires of one**",
         "uid": "AsccjLH8l"
        }
       ],
       [
        {
         "children": [
          {
           "string": "[ClojureScript Swamps (Google Compiler)](https://www.youtube.com/watch?v=tpXfASdPteI)",
           "uid": "H3FdPHYBb"
          },
          {
           "string": "[Academia: Spend your life absorbing everything that's ever been said about a topic in order to hopefully add a tiny increment of original thought to it\n\nTech: Disregard everything that's ever been said about a topic and confidently rediscover other fields' most basic ideas](https://twitter.com/kneelingbus/status/1273009239884206080)",
           "uid": "6BpncKTAi"
          }
         ],
         "string": "[[How To Develop and Test a Clojurescript Browser Extension]]",
         "uid": "cv0FvknPO"
        }
       ],
       [
        {
         "children": [
          {
           "string": "a/use-context:: [[Dimensionality Reduction]]",
           "uid": "0b36zRiGh"
          },
          {
           "children": [
            {
             "children": [
              {
               "string": "Non-linear reduction, captures local structure well.",
               "uid": "03l2gDPkn"
              },
              {
               "string": "Produces highly clustered, visually striking embeddings.",
               "uid": "n8aeRUe_a"
              }
             ],
             "string": "Pros",
             "uid": "RS8v9IqUE"
            },
            {
             "children": [
              {
               "string": "Non-deterministic algorithm.",
               "uid": "BaizwTTFE"
              },
              {
               "children": [
                {
                 "string": "{{alias: ((vAkLw7tOW)) UMAP is less hands-on}} than ((844_cS3uq))",
                 "uid": "p_RLHSieC"
                },
                {
                 "string": "",
                 "uid": "-DmIP16sP"
                }
               ],
               "string": "Requires setting hyperparameters that influence quality of the embedding.",
               "uid": "MepLEjNpa"
              },
              {
               "string": "In {{alias: ((844_cS3uq)) t-SNE}} global structure may be lost in favor of preserving local distances.",
               "uid": "kKw7JhGzk"
              },
              {
               "string": "More computationally expensive.",
               "uid": "2sPdlRKVm"
              }
             ],
             "string": "Cons",
             "uid": "wHv8QoJwu"
            }
           ],
           "string": "a/tradeoff::",
           "uid": "oMfHL3ieF"
          }
         ],
         "string": "t-Distributed stochastic neighbor embeddings ( t-SNE )",
         "uid": "844_cS3uq"
        }
       ],
       [
        {
         "string": "https://insitro.com/ [[Pharma]]",
         "uid": "LkkjysK2e"
        }
       ],
       [
        {
         "string": "Articles prioritized by Leo have a green priority label, which gives you a clear understanding of why the article was prioritized. You can then take further actions such as Refine Priority, Pause or Remove that priority. ",
         "uid": "OcnOCS0Fe"
        }
       ],
       [
        {
         "string": "experiments with organoid models are shit. Cellular models are irrepresentative",
         "uid": "Y4G1wqmgz"
        }
       ],
       [
        {
         "children": [
          {
           "children": [
            {
             "string": "**The partition function unifies sales, marketing, and engineering. And it pulls everyone's work in exactly the same direction.**",
             "uid": "krQawJkzc"
            },
            {
             "children": [
              {
               "string": "((MVv48hZBY)) should be able to generate relevant users",
               "uid": "LTOpwvyuh"
              }
             ],
             "string": "((MVv48hZBY)) must be **Binary**: it should precisely tell whether a user is a target user or not ",
             "uid": "emmzzS7Vr"
            },
            {
             "string": "If you find a pair of ((MVv48hZBY)) and **DEMO** with a good score abandon everything else and completely focus on the one high scoring pair",
             "uid": "ezb0KL6DC"
            }
           ],
           "string": "[[The User Partition Function]]",
           "uid": "MVv48hZBY"
          },
          {
           "children": [
            {
             "string": "The product solves their problems, and deliberately doesn't solve anyone else's. There is no confusion.",
             "uid": "mgNd_APu1"
            }
           ],
           "string": "^^The target users understand and buy the product quickly ^^because it was built just for them. ((mgNd_APu1))",
           "uid": "Z5JYA9wZR"
          },
          {
           "string": "{{[[embed]]: ((rLHnN6EiD))}}",
           "uid": "U25w_B-v0"
          }
         ],
         "string": "**Building a product and finding a go-to-market strategy are not sequential, they are intricately dependent on each other.**",
         "uid": "ll66A59Ng"
        }
       ],
       [
        {
         "string": "When x, I want to x, so I can x",
         "uid": "Mve5ebEud"
        }
       ],
       [
        {
         "string": "Invested and have expertise in using **pubmed**",
         "uid": "rZ7SubMUo"
        }
       ],
       [
        {
         "string": "type:: VC networks",
         "uid": "cxPF5X99p"
        }
       ],
       [
        {
         "string": "https://pangeo.io/ (started in climate)",
         "uid": "FT48TnJZw"
        }
       ],
       [
        {
         "string": "https://twitter.com/Conaw/status/1206066873600602112",
         "uid": "NAWo1Ifr7"
        }
       ],
       [
        {
         "children": [
          {
           "children": [
            {
             "string": "Alex, our research assistant, wants to merge his highlights into a common Knowledge Graph with **minimal supervision and manual work**",
             "uid": "Z4-r0UT36"
            },
            {
             "children": [
              {
               "string": "Is this a claim?",
               "uid": "n_eYj4fH_"
              },
              {
               "string": "Is this atomic?",
               "uid": "ArqEhYIcn"
              },
              {
               "string": "Is this \"well-composed\"?",
               "uid": "GY7xhjxIY"
              },
              {
               "string": "Is this co-referenced??",
               "uid": "4KuLubgm3"
              }
             ],
             "string": "**Statement Quality**",
             "uid": "I8n0ax8Fh"
            },
            {
             "children": [
              {
               "string": "Is this [[.spec]]-able because we detect a type mention?",
               "uid": "CxPdIYl4p"
              }
             ],
             "string": "**Spec Quality**",
             "uid": "ZFnEQhdRo"
            },
            {
             "children": [
              {
               "string": "It is unlikely that inflow is so new that there's no connections to other ideas",
               "uid": "Z0rj_4PlD"
              },
              {
               "string": "Help with connecting, aliasing and referencing;",
               "uid": "pYk3rk2X9"
              },
              {
               "string": "Highlight conflicting statements",
               "uid": "fTBkmL1If"
              },
              {
               "string": "Unify the sub-graph (technically content-similarity) if a bullet has the same information then another one",
               "uid": "wE1s84abw"
              }
             ],
             "string": "**Connection Quality**",
             "uid": "_LGcvoOgH"
            },
            {
             "children": [
              {
               "children": [
                {
                 "children": [
                  {
                   "string": "((WDAEeRgEa))",
                   "uid": "ttl7lSsyA"
                  }
                 ],
                 "string": "Stylistic and things like \"summary on top\", **bold if main point**, **nesting** and ^^declarative naming^^",
                 "uid": "UIjmKTUi4"
                }
               ],
               "string": "((pzBDLZaRC))",
               "uid": "HeP5_92bh"
              }
             ],
             "string": "**Enforce Standards**",
             "uid": "H45JG0bW9"
            }
           ],
           "string": "**Merging Protocols: Quality Assurance of incoming Sub-Graphs into A Knowledge Graph**",
           "uid": "7oRDFh3fM"
          }
         ],
         "string": "[[JTBD]] [[Mistakes Made: Evolving a Multiplayer Brain Merge]]",
         "uid": "Z90mGBgVW"
        }
       ],
       [
        {
         "string": "avg researcher knows they will never be able to keep up with the literature",
         "uid": "ToFL6hPJc"
        }
       ],
       [
        {
         "children": [
          {
           "string": "..",
           "uid": "RppLxqHX4"
          }
         ],
         "string": "m/example::",
         "uid": "lrG9Z3j61"
        }
       ],
       [
        {
         "string": "Popularity is a semi-fungible good",
         "uid": "P21k7hF-q"
        }
       ],
       [
        {
         "string": "[[.operator]] search and replace for Roam",
         "uid": "0d5XwdUor"
        }
       ],
       [
        {
         "string": "What tools should there be, to accelerate longevity science?",
         "uid": "EcYTNVers"
        }
       ],
       [
        {
         "string": "One of the most prominent implementations out there is [Faiss](https://github.com/facebookresearch/faiss), by facebook.",
         "uid": "GE7M9X2Yy"
        }
       ],
       [
        {
         "string": "",
         "uid": "eHXjLYDdJ"
        }
       ],
       [
        {
         "string": "Clojurians Slack",
         "uid": "Wr_BDf7pQ"
        }
       ],
       [
        {
         "children": [
          {
           "string": "A path is more data to personalize on",
           "uid": "BMjzBRopg"
          }
         ],
         "string": "trend::",
         "uid": "-Oj_LsEaS"
        }
       ],
       [
        {
         "string": "Laura Demig",
         "uid": "kcbCcrBUu"
        }
       ],
       [
        {
         "string": "Example from working at Twitter-> there's 3 ways (a,b,c), a is deprecated;",
         "uid": "QZ1c5ccx2"
        }
       ],
       [
        {
         "string": "What's the consensus for the pattern of temperature change (it's difficult to go through IPCC reports)",
         "uid": "6ay05ySue"
        }
       ],
       [
        {
         "children": [
          {
           "children": [
            {
             "children": [
              {
               "children": [
                {
                 "children": [
                  {
                   "string": "{{or: Students|Readers}} can pick up knowledge presented in a {{or: lecture|book}} simply by {{or: listening to the lecturer|reading the authors words}}. ",
                   "uid": "Tn_hEXW7D"
                  }
                 ],
                 "string": "Examples",
                 "uid": "UE4WaWtyz"
                }
               ],
               "string": "^^Transmissionism^^: the assumption that knowledge is transferred straight from the sender's output to the receivers input",
               "uid": "ToiqIqjZh"
              },
              {
               "string": "Counter: According to a deep theory of cognition: to understand something you must actively engage with it.",
               "uid": "20c4cus-C"
              }
             ],
             "string": "They are both based on the faulty idea of [Transmissionism](((ToiqIqjZh))).",
             "uid": "QmXuBY3Ys"
            }
           ],
           "string": "**Books and lectures are bad vehicles for knowledge transfer.** ",
           "uid": "0sp3oOLG2"
          }
         ],
         "string": "[Why books don’t work](https://andymatuschak.org/books/)",
         "uid": "el3bRrjNj"
        }
       ],
       [
        {
         "string": "Epigrams parameterize auras.",
         "uid": "lbLt_5ZCl"
        }
       ],
       [
        {
         "string": "((NruPZsBcn))",
         "uid": "7IO7vSMe3"
        }
       ],
       [
        {
         "children": [
          {
           "children": [
            {
             "children": [
              {
               "string": "__And boost signal of right ones through RTs__",
               "uid": "hwEmN3cra"
              }
             ],
             "string": "The ^^incentive of tweeting^^ is to **ramp up variance**, make bold claims in a variety of areas, and hope you’re right some of the time.",
             "uid": "68hibxC-9"
            }
           ],
           "string": "If you're right, you cash out; if you’re wrong, everyone forgets and you lose nothing. ",
           "uid": "bHQ4Ivo8h"
          }
         ],
         "string": "**Every tweet is an option with asymmetric returns**",
         "uid": "ElG41bkxt"
        }
       ],
       [
        {
         "string": "39. Re graphics: A picture is worth 10K words - but only those to describe the picture. Hardly any sets of 10K words can be adequately described with pictures.",
         "uid": "JvTKyremP"
        }
       ],
       [
        {
         "children": [
          {
           "string": "Life preempts life. If you're first you're life. If you're second you're food",
           "uid": "xJY6ZpwmJ"
          },
          {
           "string": "^^Skills are narrow, not wide^^.",
           "uid": "-wjyytzKW"
          }
         ],
         "string": "[[Specific Knowledge Beats out Generalized Theoretical Knowledge]]",
         "uid": "bH55ACN6z"
        }
       ],
       [
        {
         "string": "If you make it 10x faster to test your code, you don’t just save time waiting on tests—you can start doing [test-driven development](https://en.wikipedia.org/wiki/Test-driven_development), discover your mistakes earlier, and save yourself from going down bad paths.",
         "uid": "PDvsC63rI"
        }
       ],
       [
        {
         "string": "![](https://excog-documents.s3-us-west-2.amazonaws.com/usr/5b43c307ddce8c6a43e1a8bc/6649331d-67e3-43ac-a28d-866af3bdc4db.png)",
         "uid": "LLrffmEuC"
        }
       ],
       [
        {
         "children": [
          {
           "children": [
            {
             "children": [
              {
               "string": "The aggregation function could be a simple MEAN/MAX or a weighted sum via an attention mechanism",
               "uid": "ONxx6Inwq"
              }
             ],
             "string": "Graph Neural Networks calculate an embedding for a target node by {{alias: ((ONxx6Inwq)) aggregating}} the features of its neighbors nodes and edges and applying an activation function",
             "uid": "4EmT0slqU"
            }
           ],
           "string": "((KmNFYZXLO))",
           "uid": "jDGCPc5db"
          }
         ],
         "string": "^^Transformers look at words in a sentence instead of nodes in a graph ^^",
         "uid": "_L2FFlKxP"
        }
       ],
       [
        {
         "children": [
          {
           "string": "![Image](https://pbs.twimg.com/media/Eh1DVLqWsAAFO3a?format=jpg&name=large)",
           "uid": "39LI_eisJ"
          },
          {
           "string": "",
           "uid": "yuyCw4wXa"
          },
          {
           "string": "((DN8O4jHJO))",
           "uid": "zdrDx9kWx"
          },
          {
           "string": "((NruPZsBcn))",
           "uid": "7IO7vSMe3"
          }
         ],
         "string": "[Explorable Explanations are Bespoke One-Offs and their Representations Don't Compose and so the Field is Not Accreting](https://twitter.com/andy_matuschak/status/1305264249032171520)",
         "uid": "AEKj8-RlQ"
        }
       ],
       [
        {
         "string": "paper/claim::",
         "uid": "xUrTdmhQI"
        }
       ]
      ],
      "text/plain": [
       "<IPython.core.display.JSON object>"
      ]
     },
     "execution_count": 26,
     "metadata": {
      "application/json": {
       "expanded": false,
       "root": "root"
      }
     },
     "output_type": "execute_result"
    }
   ],
   "source": [
    "JSON(roam_graph)"
   ]
  },
  {
   "cell_type": "code",
   "execution_count": 27,
   "metadata": {},
   "outputs": [],
   "source": [
    "embedder = load(\"distilbert-base-nli-mean-tokens\", input_type=\"SENTENCE_TRANSFORMER\")"
   ]
  },
  {
   "cell_type": "code",
   "execution_count": 28,
   "metadata": {},
   "outputs": [],
   "source": [
    "roam_blocks = roam_graph_to_blocks(roam_graph)"
   ]
  },
  {
   "cell_type": "code",
   "execution_count": 29,
   "metadata": {},
   "outputs": [
    {
     "data": {
      "application/json": {
       "-Oj_LsEaS": "trend::",
       "-wjyytzKW": "^^Skills are narrow, not wide^^.",
       "03l2gDPkn": "Non-linear reduction, captures local structure well.",
       "0b36zRiGh": "a/use-context:: [[Dimensionality Reduction]]",
       "0d5XwdUor": "[[.operator]] search and replace for Roam",
       "0sp3oOLG2": "**Books and lectures are bad vehicles for knowledge transfer.** ",
       "20c4cus-C": "Counter: According to a deep theory of cognition: to understand something you must actively engage with it.",
       "285jkWK5B": "Feedly has a limit of 5,000 articles per day from each Twitter source. ",
       "28ychy4An": "Find promotors to swap in (metabolic pathways)",
       "2sPdlRKVm": "More computationally expensive.",
       "39LI_eisJ": "![Image](https://pbs.twimg.com/media/Eh1DVLqWsAAFO3a?format=jpg&name=large)",
       "3VTu5HGOK": "The more input you can get by critically looking at other people's solution the better your output will be.",
       "3nOOHXYre": "`globals`",
       "4EmT0slqU": "Graph Neural Networks calculate an embedding for a target node by {{alias: ((ONxx6Inwq)) aggregating}} the features of its neighbors nodes and edges and applying an activation function",
       "4KuLubgm3": "Is this co-referenced??",
       "68hibxC-9": "The ^^incentive of tweeting^^ is to **ramp up variance**, make bold claims in a variety of areas, and hope you’re right some of the time.",
       "6BpncKTAi": "[Academia: Spend your life absorbing everything that's ever been said about a topic in order to hopefully add a tiny increment of original thought to it\n\nTech: Disregard everything that's ever been said about a topic and confidently rediscover other fields' most basic ideas](https://twitter.com/kneelingbus/status/1273009239884206080)",
       "6ay05ySue": "What's the consensus for the pattern of temperature change (it's difficult to go through IPCC reports)",
       "7IO7vSMe3": "((NruPZsBcn))",
       "7oRDFh3fM": "**Merging Protocols: Quality Assurance of incoming Sub-Graphs into A Knowledge Graph**",
       "844_cS3uq": "t-Distributed stochastic neighbor embeddings ( t-SNE )",
       "8qU1h1RSO": "23. To understand a program you must become both the machine and the program.",
       "AEKj8-RlQ": "[Explorable Explanations are Bespoke One-Offs and their Representations Don't Compose and so the Field is Not Accreting](https://twitter.com/andy_matuschak/status/1305264249032171520)",
       "ArqEhYIcn": "Is this atomic?",
       "AsccjLH8l": "Individuals are becoming companies: **empires of one**",
       "AzmB1oCYj": "tried to automate market analysists (recommendation)",
       "BMjzBRopg": "A path is more data to personalize on",
       "BaizwTTFE": "Non-deterministic algorithm.",
       "CxPdIYl4p": "Is this [[.spec]]-able because we detect a type mention?",
       "EKWZOdYns": "Programming languages, especially, don't get redesigned enough.",
       "EcYTNVers": "What tools should there be, to accelerate longevity science?",
       "ElG41bkxt": "**Every tweet is an option with asymmetric returns**",
       "FT48TnJZw": "https://pangeo.io/ (started in climate)",
       "GE7M9X2Yy": "One of the most prominent implementations out there is [Faiss](https://github.com/facebookresearch/faiss), by facebook.",
       "GY7xhjxIY": "Is this \"well-composed\"?",
       "H3FdPHYBb": "[ClojureScript Swamps (Google Compiler)](https://www.youtube.com/watch?v=tpXfASdPteI)",
       "H45JG0bW9": "**Enforce Standards**",
       "HeP5_92bh": "((pzBDLZaRC))",
       "I8n0ax8Fh": "**Statement Quality**",
       "JvTKyremP": "39. Re graphics: A picture is worth 10K words - but only those to describe the picture. Hardly any sets of 10K words can be adequately described with pictures.",
       "LLrffmEuC": "![](https://excog-documents.s3-us-west-2.amazonaws.com/usr/5b43c307ddce8c6a43e1a8bc/6649331d-67e3-43ac-a28d-866af3bdc4db.png)",
       "LTOpwvyuh": "((MVv48hZBY)) should be able to generate relevant users",
       "LkkjysK2e": "https://insitro.com/ [[Pharma]]",
       "MVv48hZBY": "[[The User Partition Function]]",
       "MepLEjNpa": "Requires setting hyperparameters that influence quality of the embedding.",
       "Mve5ebEud": "When x, I want to x, so I can x",
       "NAWo1Ifr7": "https://twitter.com/Conaw/status/1206066873600602112",
       "ONxx6Inwq": "The aggregation function could be a simple MEAN/MAX or a weighted sum via an attention mechanism",
       "OcnOCS0Fe": "Articles prioritized by Leo have a green priority label, which gives you a clear understanding of why the article was prioritized. You can then take further actions such as Refine Priority, Pause or Remove that priority. ",
       "P21k7hF-q": "Popularity is a semi-fungible good",
       "PDvsC63rI": "If you make it 10x faster to test your code, you don’t just save time waiting on tests—you can start doing [test-driven development](https://en.wikipedia.org/wiki/Test-driven_development), discover your mistakes earlier, and save yourself from going down bad paths.",
       "PV-igc6KX": "(Almost) every service that's available to companies will be available to individuals. That includes databases and [[structured messaging]]",
       "QB_1ycNAQ": "[Codus Operandi](https://www.codusoperandi.com/posts/increasing-your-luck-surface-area) [[luck surface area]]",
       "QZ1c5ccx2": "Example from working at Twitter-> there's 3 ways (a,b,c), a is deprecated;",
       "QmXuBY3Ys": "They are both based on the faulty idea of [Transmissionism](((ToiqIqjZh))).",
       "RS8v9IqUE": "Pros",
       "RppLxqHX4": "..",
       "Tn_hEXW7D": "{{or: Students|Readers}} can pick up knowledge presented in a {{or: lecture|book}} simply by {{or: listening to the lecturer|reading the authors words}}. ",
       "ToFL6hPJc": "avg researcher knows they will never be able to keep up with the literature",
       "ToiqIqjZh": "^^Transmissionism^^: the assumption that knowledge is transferred straight from the sender's output to the receivers input",
       "U25w_B-v0": "{{[[embed]]: ((rLHnN6EiD))}}",
       "UE4WaWtyz": "Examples",
       "UIjmKTUi4": "Stylistic and things like \"summary on top\", **bold if main point**, **nesting** and ^^declarative naming^^",
       "Wr_BDf7pQ": "Clojurians Slack",
       "Y4G1wqmgz": "experiments with organoid models are shit. Cellular models are irrepresentative",
       "Z0rj_4PlD": "It is unlikely that inflow is so new that there's no connections to other ideas",
       "Z4-r0UT36": "Alex, our research assistant, wants to merge his highlights into a common Knowledge Graph with **minimal supervision and manual work**",
       "Z5JYA9wZR": "^^The target users understand and buy the product quickly ^^because it was built just for them. ((mgNd_APu1))",
       "Z90mGBgVW": "[[JTBD]] [[Mistakes Made: Evolving a Multiplayer Brain Merge]]",
       "ZFnEQhdRo": "**Spec Quality**",
       "_L2FFlKxP": "^^Transformers look at words in a sentence instead of nodes in a graph ^^",
       "_LGcvoOgH": "**Connection Quality**",
       "bH55ACN6z": "[[Specific Knowledge Beats out Generalized Theoretical Knowledge]]",
       "bHQ4Ivo8h": "If you're right, you cash out; if you’re wrong, everyone forgets and you lose nothing. ",
       "cv0FvknPO": "[[How To Develop and Test a Clojurescript Browser Extension]]",
       "cxPF5X99p": "type:: VC networks",
       "el3bRrjNj": "[Why books don’t work](https://andymatuschak.org/books/)",
       "emmzzS7Vr": "((MVv48hZBY)) must be **Binary**: it should precisely tell whether a user is a target user or not ",
       "ezb0KL6DC": "If you find a pair of ((MVv48hZBY)) and **DEMO** with a good score abandon everything else and completely focus on the one high scoring pair",
       "fTBkmL1If": "Highlight conflicting statements",
       "gVL4dAMIi": "Don't write production scale apps in [[python]]! Used `mypy` and all integration tests and everything, but it's still horrible",
       "hwEmN3cra": "__And boost signal of right ones through RTs__",
       "jDGCPc5db": "((KmNFYZXLO))",
       "kKw7JhGzk": "In {{alias: ((844_cS3uq)) t-SNE}} global structure may be lost in favor of preserving local distances.",
       "kXfkYLmUZ": "JTBD::",
       "kYv73kRrh": "[[Companies in similar spaces]] Clubhouse is interesting to follow",
       "kcbCcrBUu": "Laura Demig",
       "krQawJkzc": "**The partition function unifies sales, marketing, and engineering. And it pulls everyone's work in exactly the same direction.**",
       "lbLt_5ZCl": "Epigrams parameterize auras.",
       "ll66A59Ng": "**Building a product and finding a go-to-market strategy are not sequential, they are intricately dependent on each other.**",
       "lrG9Z3j61": "m/example::",
       "m6AhNJs8U": "When you pour energy into a passion, you develop an expertise and an expertise of any kind is valuable. But quite often that value can actually be magnified by the number people who are made aware of it. The reason is that when people become aware of your expertise, some percentage of them will take action to capture that value, but quite often it will be in a way you would never have predicted. Maybe they'll want to hire you, or partner with you, or invest in you, or who knows what. But in whatever way it happens, it will be serendipitous. ",
       "mgNd_APu1": "The product solves their problems, and deliberately doesn't solve anyone else's. There is no confusion.",
       "n8aeRUe_a": "Produces highly clustered, visually striking embeddings.",
       "nGPni3q4h": "**Worked at aiden.ai** got acquired by Twitter (worked at Twitter til now)",
       "n_eYj4fH_": "Is this a claim?",
       "oMfHL3ieF": "a/tradeoff::",
       "pBFUnlDpH": "Paper and Patent Search with relatively good Entity Resolution and Features",
       "pYk3rk2X9": "Help with connecting, aliasing and referencing;",
       "p_RLHSieC": "{{alias: ((vAkLw7tOW)) UMAP is less hands-on}} than ((844_cS3uq))",
       "rZ7SubMUo": "Invested and have expertise in using **pubmed**",
       "ttl7lSsyA": "((WDAEeRgEa))",
       "vXKXnVq3F": "Is it listed in a list? (not main resource focus)",
       "wE1s84abw": "Unify the sub-graph (technically content-similarity) if a bullet has the same information then another one",
       "wHv8QoJwu": "Cons",
       "wQev7Zxr8": "17. If a listener nods his head when you're explaining your program, wake him up.",
       "xJY6ZpwmJ": "Life preempts life. If you're first you're life. If you're second you're food",
       "xUrTdmhQI": "paper/claim::",
       "xjj_qrwAi": "Extracting important tokens from the original text is usually implemented as a NLP pipeline, consisting of tokenization, lemmatization, spelling correction, acronym/synonym replacement, named-entity recognition and query expansion.",
       "zdrDx9kWx": "((DN8O4jHJO))"
      },
      "text/plain": [
       "<IPython.core.display.JSON object>"
      ]
     },
     "execution_count": 29,
     "metadata": {
      "application/json": {
       "expanded": false,
       "root": "root"
      }
     },
     "output_type": "execute_result"
    }
   ],
   "source": [
    "JSON(roam_blocks)"
   ]
  },
  {
   "cell_type": "code",
   "execution_count": 30,
   "metadata": {},
   "outputs": [],
   "source": [
    "vectors = text_to_vector(list(roam_blocks.values()), embedder)"
   ]
  },
  {
   "cell_type": "code",
   "execution_count": 31,
   "metadata": {},
   "outputs": [],
   "source": [
    "index_list = roam_blocks_to_embeddings_index(roam_blocks, vectors)"
   ]
  },
  {
   "cell_type": "code",
   "execution_count": 35,
   "metadata": {},
   "outputs": [],
   "source": [
    "retrieved_vectors = np.array([obj.get(\"embedding\") for obj in index_list], dtype=np.float32)\n",
    "retrieved_sentences = [obj.get(\"sentence\") for obj in index_list]"
   ]
  },
  {
   "cell_type": "code",
   "execution_count": 20,
   "metadata": {},
   "outputs": [],
   "source": [
    "index = create_index(retrieved_vectors)"
   ]
  },
  {
   "cell_type": "code",
   "execution_count": 33,
   "metadata": {},
   "outputs": [],
   "source": [
    "def query(text, embedder, target_list, index, with_distance=False, k=10):\n",
    "    embedding = embedder.encode([text])\n",
    "    distances, indices = index.search(embedding, k)\n",
    "    if with_distance:\n",
    "        return [(target_list[index], distances[0][i]) for i, index in enumerate(indices[0])]\n",
    "    return [target_list[i] for i in indices[0]]"
   ]
  },
  {
   "cell_type": "code",
   "execution_count": 36,
   "metadata": {},
   "outputs": [
    {
     "data": {
      "text/plain": [
       "['They are both based on the faulty idea of [Transmissionism](((ToiqIqjZh))).',\n",
       " 'experiments with organoid models are shit. Cellular models are irrepresentative',\n",
       " 'Is it listed in a list? (not main resource focus)',\n",
       " '**Books and lectures are bad vehicles for knowledge transfer.** ',\n",
       " 'In {{alias: ((844_cS3uq)) t-SNE}} global structure may be lost in favor of preserving local distances.',\n",
       " \"[Explorable Explanations are Bespoke One-Offs and their Representations Don't Compose and so the Field is Not Accreting](https://twitter.com/andy_matuschak/status/1305264249032171520)\",\n",
       " 'Stylistic and things like \"summary on top\", **bold if main point**, **nesting** and ^^declarative naming^^',\n",
       " 'When x, I want to x, so I can x',\n",
       " \"^^Transmissionism^^: the assumption that knowledge is transferred straight from the sender's output to the receivers input\",\n",
       " 'avg researcher knows they will never be able to keep up with the literature']"
      ]
     },
     "execution_count": 36,
     "metadata": {},
     "output_type": "execute_result"
    }
   ],
   "source": [
    "query(\"Roam sucks\", embedder, retrieved_sentences, index)"
   ]
  },
  {
   "cell_type": "code",
   "execution_count": null,
   "metadata": {},
   "outputs": [],
   "source": []
  }
 ],
 "metadata": {
  "kernelspec": {
   "display_name": "proseflow",
   "language": "python",
   "name": "proseflow"
  },
  "language_info": {
   "codemirror_mode": {
    "name": "ipython",
    "version": 3
   },
   "file_extension": ".py",
   "mimetype": "text/x-python",
   "name": "python",
   "nbconvert_exporter": "python",
   "pygments_lexer": "ipython3",
   "version": "3.8.5"
  }
 },
 "nbformat": 4,
 "nbformat_minor": 4
}
