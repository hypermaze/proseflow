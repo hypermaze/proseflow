{
 "cells": [
  {
   "cell_type": "code",
   "execution_count": 1,
   "metadata": {},
   "outputs": [],
   "source": [
    "# default_exp aws_utils"
   ]
  },
  {
   "cell_type": "code",
   "execution_count": 2,
   "metadata": {},
   "outputs": [],
   "source": [
    "%load_ext autoreload\n",
    "%autoreload 2"
   ]
  },
  {
   "cell_type": "code",
   "execution_count": 3,
   "metadata": {},
   "outputs": [],
   "source": [
    "#export\n",
    "import os\n",
    "import json\n",
    "from io import BytesIO\n",
    "import pandas as pd\n",
    "import boto3"
   ]
  },
  {
   "cell_type": "code",
   "execution_count": 4,
   "metadata": {},
   "outputs": [],
   "source": [
    "#export\n",
    "def get_boto_session():\n",
    "    session = boto3.Session(\n",
    "      region_name=os.environ[\"AWS_REGION\"],\n",
    "      aws_access_key_id=os.environ[\"AWS_ACCESS_KEY_ID\"],\n",
    "      aws_secret_access_key=os.environ[\"AWS_SECRET_ACCESS_KEY\"])\n",
    "    return session"
   ]
  },
  {
   "cell_type": "code",
   "execution_count": 5,
   "metadata": {},
   "outputs": [],
   "source": [
    "#export\n",
    "def _read_object_from_s3(bucket: str, key: str) -> BytesIO:\n",
    "    \"\"\" Reads an object from S3 \"\"\"\n",
    "    s3_resource = get_boto_session().resource(\"s3\")\n",
    "    bucket = s3_resource.Bucket(bucket)\n",
    "    data = BytesIO()\n",
    "    bucket.download_fileobj(key, data)\n",
    "    data.seek(0)\n",
    "    return data"
   ]
  },
  {
   "cell_type": "code",
   "execution_count": 6,
   "metadata": {},
   "outputs": [],
   "source": [
    "#export\n",
    "def _write_object_to_s3(bucket: str, key: str, buffer: BytesIO):\n",
    "    \"\"\" Writes an object to S3 \"\"\"\n",
    "    s3_client = get_boto_session().client(\"s3\")\n",
    "    s3_client.put_object(Bucket=bucket, Key=key, Body=buffer.getvalue())"
   ]
  },
  {
   "cell_type": "code",
   "execution_count": 7,
   "metadata": {},
   "outputs": [],
   "source": [
    "#export\n",
    "def write_json_to_s3(json_dict, bucket: str, key: str):\n",
    "    \"\"\" Write a Python Dict to S3 as JSON \"\"\"\n",
    "    buffer = BytesIO()\n",
    "    buffer.write(json.dumps(json_dict).encode(\"utf-8\"))\n",
    "    buffer.seek(0)\n",
    "    _write_object_to_s3(bucket=bucket, key=key, buffer=buffer)"
   ]
  },
  {
   "cell_type": "code",
   "execution_count": 8,
   "metadata": {},
   "outputs": [],
   "source": [
    "#export\n",
    "def write_df_to_s3(\n",
    "        dataframe: pd.DataFrame, bucket: str, key: str, outputformat: str = \"parquet\"\n",
    "):\n",
    "    \"\"\" Write a Pandas dataframe to S3 as Parquet \"\"\"\n",
    "    buffer = BytesIO()\n",
    "    if outputformat == \"parquet\":\n",
    "        dataframe.to_parquet(buffer, engine=\"pyarrow\", index=False)\n",
    "    elif outputformat == \"csv\":\n",
    "        dataframe.to_csv(buffer, index=False)\n",
    "    else:\n",
    "        raise Exception(\"Unknown format\")\n",
    "    _write_object_to_s3(bucket=bucket, key=key, buffer=buffer)"
   ]
  },
  {
   "cell_type": "code",
   "execution_count": 9,
   "metadata": {},
   "outputs": [],
   "source": [
    "#export\n",
    "def read_df_from_s3(\n",
    "        bucket: str, key: str, inputformat: str = \"parquet\", **df_kwargs\n",
    ") -> pd.DataFrame:\n",
    "    \"\"\" Reads a Pandas dataframe from S3 \"\"\"\n",
    "    data = _read_object_from_s3(bucket=bucket, key=key)\n",
    "    if inputformat == \"parquet\":\n",
    "        return pd.read_parquet(data, **df_kwargs)\n",
    "    elif inputformat == \"csv\":\n",
    "        return pd.read_csv(data, **df_kwargs)\n",
    "    return pd.DataFrame()"
   ]
  },
  {
   "cell_type": "code",
   "execution_count": 10,
   "metadata": {},
   "outputs": [],
   "source": [
    "#export\n",
    "def read_json_from_s3(bucket: str, key: str):\n",
    "    file_content = _read_object_from_s3(bucket=bucket, key=key)\n",
    "    return json.loads(file_content.read())"
   ]
  },
  {
   "cell_type": "code",
   "execution_count": null,
   "metadata": {},
   "outputs": [],
   "source": []
  }
 ],
 "metadata": {
  "kernelspec": {
   "display_name": "proseflow",
   "language": "python",
   "name": "proseflow"
  },
  "language_info": {
   "codemirror_mode": {
    "name": "ipython",
    "version": 3
   },
   "file_extension": ".py",
   "mimetype": "text/x-python",
   "name": "python",
   "nbconvert_exporter": "python",
   "pygments_lexer": "ipython3",
   "version": "3.8.2"
  }
 },
 "nbformat": 4,
 "nbformat_minor": 4
}
