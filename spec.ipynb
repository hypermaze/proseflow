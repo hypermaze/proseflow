{
 "cells": [
  {
   "cell_type": "code",
   "execution_count": 1,
   "metadata": {},
   "outputs": [],
   "source": [
    "# default_exp spec"
   ]
  },
  {
   "cell_type": "code",
   "execution_count": 2,
   "metadata": {},
   "outputs": [],
   "source": [
    "%load_ext autoreload\n",
    "%autoreload 2"
   ]
  },
  {
   "cell_type": "code",
   "execution_count": 33,
   "metadata": {},
   "outputs": [],
   "source": [
    "#export\n",
    "import re\n",
    "from typing import List, Tuple\n",
    "\n",
    "from numpy import ndarray\n",
    "from pandas import DataFrame, Series\n",
    "from sentence_transformers import SentenceTransformer, models\n",
    "from spacy_stanza import StanzaLanguage\n",
    "from fastcore.test import test_eq"
   ]
  },
  {
   "cell_type": "code",
   "execution_count": 15,
   "metadata": {},
   "outputs": [],
   "source": [
    "#export\n",
    "def gsheet_to_df(worksheet) -> DataFrame:\n",
    "    df = DataFrame(worksheet.get_all_values())\n",
    "    df.columns = df.iloc[0]\n",
    "    df = df.iloc[1:]\n",
    "    return df"
   ]
  },
  {
   "cell_type": "markdown",
   "metadata": {},
   "source": [
    "## TODOS\n",
    "* use marshmallow python lib for serialization?\n",
    "* more testing on auto_coerce!!! ... it's only working for some right now\n"
   ]
  },
  {
   "cell_type": "code",
   "execution_count": 26,
   "metadata": {},
   "outputs": [],
   "source": [
    "#SPECS inspired by Malli for Clojure \n",
    "\n",
    "#export\n",
    "GSHEET = {}\n",
    "TRANSFORMER = {}\n",
    "SENTENCE_TRANSFORMER = {}\n",
    "PUBMED_IDS = {}\n",
    "PUBMED_CONTENT = {}\n",
    "EMAIL = {}\n",
    "SPACY_MODEL = {\n",
    "    \"re\": \"(zh|da|nl|en|fr|de|el|it|ja|lt|nb|pl|pt|ro|es|xx)[_(core|ent|ner)_(web|news|wiki|sci|craft|jnlpba|bc5cdr|bionlp13cg)_(sm|md|lg)]*$\"\n",
    "}\n",
    "STANZA_MODEL = {\n",
    "    \"re\": \"stanza\",\n",
    "    \"doc\": \"Stanford's Stanza Model\",\n",
    "    \"options\": [\"stanza1\", \"stanza2\"]\n",
    "}\n",
    "PUBMED_IDS = {\"re\": \".*pubmed.ncbi.nlm.nih.gov.*\"}\n",
    "GSHEET = {\"re\": \".*docs.google.com\\/spreadsheets.*\"}\n",
    "    \n",
    "TRANSFORMER = {\"re\": \"TRANSFORMER:.*\"}\n",
    "HTML_TAG = {}\n",
    "HTML_TAG_ROAM = {}\n",
    "\n",
    "# for t in TYPES:  # PYTHON MAGIC\n",
    "#     exec(\"%s=str('%s')\" % (t, t))\n",
    "\n",
    "\"\"\"\n",
    "? Dynamically create Types in NameSpace aka TRANSFORMER = \"TRANSFORMER\"\n",
    "\"\"\"\n",
    "SPEC = [GSHEET, TRANSFORMER, SENTENCE_TRANSFORMER, PUBMED_CONTENT, PUBMED_IDS, SPACY_MODEL, STANZA_MODEL, EMAIL, HTML_TAG]"
   ]
  },
  {
   "cell_type": "code",
   "execution_count": 34,
   "metadata": {},
   "outputs": [],
   "source": [
    "test_eq([True for s in range(len(SPEC))], [type(schema) == dict for schema in SPEC])"
   ]
  },
  {
   "cell_type": "code",
   "execution_count": 54,
   "metadata": {},
   "outputs": [],
   "source": [
    "#export\n",
    "def infer_type(form, SPEC=SPEC):\n",
    "    \"\"\" What types match this shape? \"\"\"\n",
    "    schemas_with_re = [schema for schema in SPEC if schema.get(\"re\")]\n",
    "    match = [schema for schema in schemas_with_re if re.compile(schema[\"re\"]).match(form)]\n",
    "\n",
    "    if len(match) > 1:\n",
    "        raise Exception(\n",
    "            \"Found multiple inferences for the shape you put in. Please put the input_type =EMAIL or something as a keyword argument\"\n",
    "        )\n",
    "\n",
    "    if len(match) == 0:\n",
    "        raise Exception(\"No Match found in type inference\")\n",
    "    return match[0]\n",
    "\n"
   ]
  },
  {
   "cell_type": "code",
   "execution_count": 63,
   "metadata": {},
   "outputs": [],
   "source": [
    "test_eq(infer_type(\"docs.google.com/spreadsheets.2\"), GSHEET)\n",
    "test_eq(infer_type(\"en_ner_bionlp13cg_md\"), SPACY_MODEL)\n",
    "test_eq(infer_type(\"en_ner_bionlp13cg_md\"), SPACY_MODEL)"
   ]
  },
  {
   "cell_type": "code",
   "execution_count": 66,
   "metadata": {},
   "outputs": [],
   "source": [
    "#export\n",
    "def _transformer_to_sentence_transformer(transformer_model):\n",
    "    pooling_model = models.Pooling(\n",
    "        transformer_model.get_word_embedding_dimension(),\n",
    "        pooling_mode_mean_tokens=True,\n",
    "        pooling_mode_cls_token=True,\n",
    "        pooling_mode_max_tokens=False,\n",
    "    )\n",
    "\n",
    "    return SentenceTransformer(modules=[transformer_model, pooling_model])"
   ]
  },
  {
   "cell_type": "code",
   "execution_count": 95,
   "metadata": {},
   "outputs": [
    {
     "data": {
      "text/plain": [
       "'STANZA_MODEL'"
      ]
     },
     "execution_count": 95,
     "metadata": {},
     "output_type": "execute_result"
    }
   ],
   "source": [
    "from varname import varname, nameof\n",
    "\n",
    "# for name, value in globals().items():\n",
    "#     if value is STANZA_MODEL:\n",
    "#         print(name)\n",
    "\n"
   ]
  },
  {
   "cell_type": "code",
   "execution_count": 79,
   "metadata": {},
   "outputs": [
    {
     "ename": "AttributeError",
     "evalue": "'dict' object has no attribute 'iteritems'",
     "output_type": "error",
     "traceback": [
      "\u001b[0;31m---------------------------------------------------------------------------\u001b[0m",
      "\u001b[0;31mAttributeError\u001b[0m                            Traceback (most recent call last)",
      "\u001b[0;32m<ipython-input-79-3f51266daf43>\u001b[0m in \u001b[0;36m<module>\u001b[0;34m\u001b[0m\n\u001b[0;32m----> 1\u001b[0;31m \u001b[0mvarname\u001b[0m\u001b[0;34m(\u001b[0m\u001b[0mSTANZA_MODEL\u001b[0m\u001b[0;34m)\u001b[0m\u001b[0;34m\u001b[0m\u001b[0;34m\u001b[0m\u001b[0m\n\u001b[0m",
      "\u001b[0;32m<ipython-input-78-496020594081>\u001b[0m in \u001b[0;36mvarname\u001b[0;34m(my_var)\u001b[0m\n\u001b[1;32m      1\u001b[0m \u001b[0;32mdef\u001b[0m \u001b[0mvarname\u001b[0m\u001b[0;34m(\u001b[0m\u001b[0mmy_var\u001b[0m\u001b[0;34m)\u001b[0m\u001b[0;34m:\u001b[0m\u001b[0;34m\u001b[0m\u001b[0;34m\u001b[0m\u001b[0m\n\u001b[0;32m----> 2\u001b[0;31m     \u001b[0;32mreturn\u001b[0m \u001b[0;34m[\u001b[0m \u001b[0mk\u001b[0m \u001b[0;32mfor\u001b[0m \u001b[0mk\u001b[0m\u001b[0;34m,\u001b[0m\u001b[0mv\u001b[0m \u001b[0;32min\u001b[0m \u001b[0mlocals\u001b[0m\u001b[0;34m(\u001b[0m\u001b[0;34m)\u001b[0m\u001b[0;34m.\u001b[0m\u001b[0miteritems\u001b[0m\u001b[0;34m(\u001b[0m\u001b[0;34m)\u001b[0m \u001b[0;32mif\u001b[0m \u001b[0mv\u001b[0m \u001b[0;34m==\u001b[0m \u001b[0mmy_var\u001b[0m\u001b[0;34m]\u001b[0m\u001b[0;34m[\u001b[0m\u001b[0;36m0\u001b[0m\u001b[0;34m]\u001b[0m\u001b[0;34m\u001b[0m\u001b[0;34m\u001b[0m\u001b[0m\n\u001b[0m",
      "\u001b[0;31mAttributeError\u001b[0m: 'dict' object has no attribute 'iteritems'"
     ]
    }
   ],
   "source": [
    "varname(STANZA_MODEL)"
   ]
  },
  {
   "cell_type": "code",
   "execution_count": 166,
   "metadata": {},
   "outputs": [],
   "source": [
    "# (Source, Target) -> Transform Function\n",
    "#export\n",
    "TRANSFORMS = {\n",
    "    #!!! DO NOT USE Tuple[str] or any of these inferior BS pythonista types. They don't work and are an abomination\n",
    "    (\"STANZA_MODEL\", \"SPACY_MODEL\"): StanzaLanguage,\n",
    "    (str, list): lambda string: [string],\n",
    "    (tuple, list): list,\n",
    "    (\"GSHEET\", DataFrame): gsheet_to_df,\n",
    "    (Series, list): Series.to_list,\n",
    "    (ndarray, list): list,\n",
    "    (\"TRANSFORMER\", \"SENTENCE_TRANSFORMER\"): _transformer_to_sentence_transformer,\n",
    "}"
   ]
  },
  {
   "cell_type": "code",
   "execution_count": 167,
   "metadata": {},
   "outputs": [],
   "source": [
    "#export\n",
    "def convert(shape, source, target):\n",
    "    \"\"\"\n",
    "    Converts an object from source type to target type\n",
    "    \"\"\"\n",
    "    convert_func = TRANSFORMS[(source, target)]\n",
    "    return convert_func(shape)\n"
   ]
  },
  {
   "cell_type": "code",
   "execution_count": 179,
   "metadata": {},
   "outputs": [],
   "source": [
    "from functools import wraps\n",
    "import copy\n",
    "def identity(x):\n",
    "    return x\n",
    "def auto_coerce(func, TRANSFORMS=TRANSFORMS):\n",
    "    \"\"\"\n",
    "    DECORATOR: Right now we only do kwargs.\n",
    "    Use this solution to get away from it: https://docs.python.org/3/library/inspect.html#introspecting-callables-with-the-signature-object\n",
    "    \"\"\"\n",
    "\n",
    "    \n",
    "    #def a(r:list): return r\n",
    "    #a.__annotations__ == {'r': list}\n",
    "    #args, kwargs == () {'r': [1, 23]}\n",
    "    \n",
    "    @wraps(func) \n",
    "    def wrapped(*args, **kwargs):\n",
    "        #print(args, kwargs)\n",
    "        annotations = func.__annotations__\n",
    "        updated_kwargs = copy.deepcopy(kwargs)\n",
    "        if not len(args):\n",
    "            for k, v in updated_kwargs.items():\n",
    "                inputdata_type = type(v)\n",
    "                anno_type = annotations.get(k)\n",
    "                print(inputdata_type,\"aaasd\", anno_type)\n",
    "                #look for convert function or do nothing\n",
    "                convert_func = TRANSFORMS.get((inputdata_type, anno_type), identity)\n",
    "                \n",
    "                updated_kwargs[k] = convert_func(v)\n",
    "\n",
    "        return_value = func(*args, **updated_kwargs)\n",
    "        TRANSFORMS_function = TRANSFORMS.get(\n",
    "            (type(return_value), annotations.get(\"return\")), identity\n",
    "        )\n",
    "        return TRANSFORMS_function(return_value)\n",
    "\n",
    "    return wrapped"
   ]
  },
  {
   "cell_type": "code",
   "execution_count": 180,
   "metadata": {},
   "outputs": [
    {
     "name": "stdout",
     "output_type": "stream",
     "text": [
      "<class 'numpy.ndarray'> aaasd <class 'list'>\n",
      "<class 'tuple'> aaasd <class 'list'>\n"
     ]
    }
   ],
   "source": [
    "import numpy as np\n",
    "\n",
    "def a(x:list): return x\n",
    "def b(x:\"SENTENCE_TRANSFORMER\"): return x\n",
    "\n",
    "test_eq(type(auto_coerce(a)(x=np.zeros(5))), list)\n",
    "test_eq(type(auto_coerce(a)(x=(\"a\", \"b\"))), list)\n",
    "#auto_coerce(b)(x=(\"a\", \"b\"))"
   ]
  },
  {
   "cell_type": "code",
   "execution_count": null,
   "metadata": {},
   "outputs": [],
   "source": []
  },
  {
   "cell_type": "code",
   "execution_count": null,
   "metadata": {},
   "outputs": [],
   "source": []
  }
 ],
 "metadata": {
  "kernelspec": {
   "display_name": "proseflow",
   "language": "python",
   "name": "proseflow"
  },
  "language_info": {
   "codemirror_mode": {
    "name": "ipython",
    "version": 3
   },
   "file_extension": ".py",
   "mimetype": "text/x-python",
   "name": "python",
   "nbconvert_exporter": "python",
   "pygments_lexer": "ipython3",
   "version": "3.8.2"
  }
 },
 "nbformat": 4,
 "nbformat_minor": 4
}
