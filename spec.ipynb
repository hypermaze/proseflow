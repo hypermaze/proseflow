{
 "cells": [
  {
   "cell_type": "code",
   "execution_count": 1,
   "metadata": {},
   "outputs": [],
   "source": [
    "# default_exp spec"
   ]
  },
  {
   "cell_type": "code",
   "execution_count": 2,
   "metadata": {},
   "outputs": [],
   "source": [
    "%load_ext autoreload\n",
    "%autoreload 2"
   ]
  },
  {
   "cell_type": "code",
   "execution_count": 3,
   "metadata": {},
   "outputs": [],
   "source": [
    "#export\n",
    "import re\n",
    "from typing import List, Tuple\n",
    "\n",
    "from numpy import ndarray\n",
    "from pandas import DataFrame, Series\n",
    "from sentence_transformers import SentenceTransformer, models\n",
    "from spacy_stanza import StanzaLanguage"
   ]
  },
  {
   "cell_type": "code",
   "execution_count": 4,
   "metadata": {},
   "outputs": [],
   "source": [
    "#export\n",
    "def gsheet_to_df(worksheet) -> DataFrame:\n",
    "    df = DataFrame(worksheet.get_all_values())\n",
    "    df.columns = df.iloc[0]\n",
    "    df = df.iloc[1:]\n",
    "    return df"
   ]
  },
  {
   "cell_type": "code",
   "execution_count": 14,
   "metadata": {},
   "outputs": [
    {
     "data": {
      "text/plain": [
       "'\\n? Dynamically create Types in NameSpace aka TRANSFORMER = \"TRANSFORMER\"\\n'"
      ]
     },
     "execution_count": 14,
     "metadata": {},
     "output_type": "execute_result"
    }
   ],
   "source": [
    "#export\n",
    "GSHEET = \"GSHEET\"\n",
    "TRANSFORMER = \"TRANSFORMER\"\n",
    "SENTENCE_TRANSFORMER = \"SENTENCE_TRANSFORMER\"\n",
    "PUBMED_IDS = \"PUBMED_IDS\"\n",
    "PUBMED_CONTENT = \"PUBMED_CONTENT\"\n",
    "EMAIL = \"EMAIL\"\n",
    "SPACY_MODEL = \"SPACY_MODEL\"\n",
    "STANZA_MODEL = \"STANZA_MODEL\"\n",
    "\n",
    "# for t in TYPES:  # PYTHON MAGIC\n",
    "#     exec(\"%s=str('%s')\" % (t, t))\n",
    "\n",
    "\"\"\"\n",
    "? Dynamically create Types in NameSpace aka TRANSFORMER = \"TRANSFORMER\"\n",
    "\"\"\""
   ]
  },
  {
   "cell_type": "code",
   "execution_count": 6,
   "metadata": {},
   "outputs": [],
   "source": [
    "#export\n",
    "def _transformer_to_sentence_transformer(transformer_model):\n",
    "    pooling_model = models.Pooling(\n",
    "        transformer_model.get_word_embedding_dimension(),\n",
    "        pooling_mode_mean_tokens=True,\n",
    "        pooling_mode_cls_token=True,\n",
    "        pooling_mode_max_tokens=False,\n",
    "    )\n",
    "\n",
    "    return SentenceTransformer(modules=[transformer_model, pooling_model])"
   ]
  },
  {
   "cell_type": "code",
   "execution_count": 7,
   "metadata": {},
   "outputs": [],
   "source": [
    "# (Source, Target) -> Transform Function\n",
    "#export\n",
    "TRANSFORMS = {\n",
    "    (STANZA_MODEL, SPACY_MODEL): StanzaLanguage,\n",
    "    (str, list): lambda string: [string],\n",
    "    (Tuple[str], List[str]): list,\n",
    "    (GSHEET, DataFrame): gsheet_to_df,\n",
    "    (Series, list): Series.to_list,\n",
    "    (ndarray, list): list,\n",
    "    (TRANSFORMER, SENTENCE_TRANSFORMER): _transformer_to_sentence_transformer,\n",
    "}"
   ]
  },
  {
   "cell_type": "code",
   "execution_count": 8,
   "metadata": {},
   "outputs": [],
   "source": [
    "#export\n",
    "SPEC = {\n",
    "    GSHEET: re.compile(\".*docs.google.com\\/spreadsheets.*\"),\n",
    "    SPACY_MODEL: re.compile(\n",
    "        \"(zh|da|nl|en|fr|de|el|it|ja|lt|nb|pl|pt|ro|es|xx)[_(core|ent|ner)_(web|news|wiki|sci|craft|jnlpba|bc5cdr|bionlp13cg)_(sm|md|lg)]*$\"\n",
    "    ),\n",
    "    STANZA_MODEL: re.compile(\"stanza\"),\n",
    "    PUBMED_IDS: re.compile(\".*pubmed.ncbi.nlm.nih.gov.*\"),\n",
    "    TRANSFORMER: re.compile(\"TRANSFORMER:.*\"),\n",
    "}"
   ]
  },
  {
   "cell_type": "code",
   "execution_count": 9,
   "metadata": {},
   "outputs": [],
   "source": [
    "#export\n",
    "def infer_type(shape):\n",
    "    \"\"\" What types match this shape? \"\"\"\n",
    "    match = [key for key, value in SPEC.items() if SPEC[key].match(shape)]\n",
    "\n",
    "    if len(match) > 1:\n",
    "        raise Exception(\n",
    "            \"Found multiple inferences for the shape you put in. Please put the input_type =EMAIL or something as a keyword argument\"\n",
    "        )\n",
    "\n",
    "    return match[0]"
   ]
  },
  {
   "cell_type": "code",
   "execution_count": null,
   "metadata": {},
   "outputs": [],
   "source": [
    "\n",
    "\n",
    "\n",
    "\n",
    "\n",
    "\n",
    "\n",
    "\n",
    "\n"
   ]
  },
  {
   "cell_type": "code",
   "execution_count": null,
   "metadata": {},
   "outputs": [],
   "source": []
  },
  {
   "cell_type": "code",
   "execution_count": null,
   "metadata": {},
   "outputs": [],
   "source": []
  }
 ],
 "metadata": {
  "kernelspec": {
   "display_name": "proseflow",
   "language": "python",
   "name": "proseflow"
  },
  "language_info": {
   "codemirror_mode": {
    "name": "ipython",
    "version": 3
   },
   "file_extension": ".py",
   "mimetype": "text/x-python",
   "name": "python",
   "nbconvert_exporter": "python",
   "pygments_lexer": "ipython3",
   "version": "3.8.5"
  }
 },
 "nbformat": 4,
 "nbformat_minor": 4
}
